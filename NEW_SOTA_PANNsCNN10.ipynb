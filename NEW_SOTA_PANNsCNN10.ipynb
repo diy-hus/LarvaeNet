{
 "cells": [
  {
   "cell_type": "code",
   "execution_count": 1,
   "id": "b2cac25e-5284-4eb0-ad9f-213943499a8c",
   "metadata": {},
   "outputs": [
    {
     "name": "stdout",
     "output_type": "stream",
     "text": [
      "Using device: cuda\n"
     ]
    }
   ],
   "source": [
    "import os\n",
    "import random\n",
    "import pandas as pd\n",
    "import numpy as np\n",
    "import torch\n",
    "import torch.nn as nn\n",
    "import torch.nn.functional as F\n",
    "import torchaudio\n",
    "from torchaudio import transforms as TA_T\n",
    "from torchvision.transforms import v2 as T\n",
    "from torch.utils.data import Dataset, DataLoader\n",
    "from sklearn.model_selection import train_test_split\n",
    "from sklearn.metrics import (\n",
    "    accuracy_score, precision_score, recall_score, f1_score,\n",
    "    classification_report, confusion_matrix, roc_auc_score,\n",
    "    roc_curve, auc\n",
    ")\n",
    "from tqdm.auto import tqdm\n",
    "import matplotlib.pyplot as plt\n",
    "import warnings\n",
    "from urllib.request import urlretrieve\n",
    "\n",
    "# --- Previous code (Imports, Device, Seed, Checkpoint Download, Augmentations) remains the same ---\n",
    "warnings.simplefilter(action='ignore', category=FutureWarning)\n",
    "device = torch.device(\"cuda\" if torch.cuda.is_available() else \"cpu\")\n",
    "print(f\"Using device: {device}\")\n",
    "SEED = 42\n",
    "random.seed(SEED)\n",
    "np.random.seed(SEED)\n",
    "torch.manual_seed(SEED)\n",
    "if torch.cuda.is_available():\n",
    "    torch.cuda.manual_seed_all(SEED)"
   ]
  },
  {
   "cell_type": "code",
   "execution_count": 2,
   "id": "dccef920-57b1-4524-b71b-ad040be6f447",
   "metadata": {},
   "outputs": [
    {
     "name": "stdout",
     "output_type": "stream",
     "text": [
      "Đã định nghĩa pipeline Augmentation cho PANNs CNN10.\n"
     ]
    }
   ],
   "source": [
    "class TimeShift(nn.Module):\n",
    "    def __init__(self, p=0.5, max_shift_percent=0.4):\n",
    "        super().__init__()\n",
    "        self.p = p\n",
    "        self.max_shift_percent = max_shift_percent\n",
    "\n",
    "    def forward(self, spec):\n",
    "        if torch.rand(1) < self.p:\n",
    "            time_steps = spec.shape[-1]\n",
    "            shift_amount = int(torch.rand(1).item() * self.max_shift_percent * time_steps)\n",
    "            if torch.rand(1) < 0.5:\n",
    "                shift_amount = -shift_amount\n",
    "            if shift_amount != 0:\n",
    "                 return torch.roll(spec, shifts=shift_amount, dims=-1)\n",
    "        return spec\n",
    "\n",
    "class SpecNoise(nn.Module):\n",
    "    def __init__(self, p=0.5, noise_level=0.05):\n",
    "        super().__init__()\n",
    "        self.p = p\n",
    "        self.noise_level = noise_level\n",
    "\n",
    "    def forward(self, spec):\n",
    "        if torch.rand(1) < self.p:\n",
    "            noise = torch.randn_like(spec) * self.noise_level * torch.std(spec)\n",
    "            return spec + noise\n",
    "        return spec\n",
    "\n",
    "train_transform = T.Compose([\n",
    "    TA_T.TimeMasking(time_mask_param=80),\n",
    "    TA_T.FrequencyMasking(freq_mask_param=25),\n",
    "    TimeShift(p=0.5, max_shift_percent=0.4),\n",
    "    SpecNoise(p=0.3, noise_level=0.03),\n",
    "    T.Resize((128, 626), antialias=True),\n",
    "    T.Normalize(mean=[0.0], std=[1.0])\n",
    "])\n",
    "\n",
    "val_transform = T.Compose([\n",
    "    T.Resize((128, 626), antialias=True),\n",
    "    T.Normalize(mean=[0.0], std=[1.0])\n",
    "])\n",
    "print(\"Đã định nghĩa pipeline Augmentation cho PANNs CNN10.\")"
   ]
  },
  {
   "cell_type": "code",
   "execution_count": 3,
   "id": "55b9d4c3-2714-49c9-b468-7ac2b363cfea",
   "metadata": {},
   "outputs": [
    {
     "name": "stdout",
     "output_type": "stream",
     "text": [
      "Downloading pretrained CNN10 checkpoint...\n"
     ]
    }
   ],
   "source": [
    "CHECKPOINT_URL = \"https://zenodo.org/record/3987831/files/Cnn10_mAP=0.380.pth?download=1\"\n",
    "CHECKPOINT_PATH = \"Cnn10_mAP=0.380.pth\"\n",
    "if not os.path.exists(CHECKPOINT_PATH):\n",
    "    print(\"Downloading pretrained CNN10 checkpoint...\")\n",
    "    urlretrieve(CHECKPOINT_URL, CHECKPOINT_PATH)"
   ]
  },
  {
   "cell_type": "code",
   "execution_count": 4,
   "id": "6fae26d5-b26e-42e6-8a20-dbfd0b2c629a",
   "metadata": {},
   "outputs": [
    {
     "name": "stdout",
     "output_type": "stream",
     "text": [
      "Đã định nghĩa mô hình Cnn10_PANNs khớp hơn với checkpoint.\n"
     ]
    }
   ],
   "source": [
    "class ConvBlock_PANNs(nn.Module):\n",
    "    def __init__(self, in_channels, out_channels):\n",
    "        super().__init__()\n",
    "        # Lớp Convolutional thứ nhất trong block\n",
    "        self.conv1 = nn.Conv2d(in_channels=in_channels, out_channels=out_channels,\n",
    "                               kernel_size=(3, 3), stride=(1, 1), padding=(1, 1), bias=False)\n",
    "        self.bn1 = nn.BatchNorm2d(out_channels)\n",
    "        # Lớp Convolutional thứ hai trong block\n",
    "        self.conv2 = nn.Conv2d(in_channels=out_channels, out_channels=out_channels,\n",
    "                               kernel_size=(3, 3), stride=(1, 1), padding=(1, 1), bias=False)\n",
    "        self.bn2 = nn.BatchNorm2d(out_channels)\n",
    "        self.relu = nn.ReLU()\n",
    "\n",
    "    def forward(self, x, pool_size=(2, 2), pool_type='avg'):\n",
    "        # Áp dụng lớp conv1 -> bn1 -> relu\n",
    "        x = self.conv1(x)\n",
    "        x = self.bn1(x)\n",
    "        x = self.relu(x)\n",
    "        # Áp dụng lớp conv2 -> bn2 -> relu\n",
    "        x = self.conv2(x)\n",
    "        x = self.bn2(x)\n",
    "        x = self.relu(x)\n",
    "        # Áp dụng pooling\n",
    "        if pool_type == 'max':\n",
    "            x = F.max_pool2d(x, kernel_size=pool_size)\n",
    "        elif pool_type == 'avg':\n",
    "            x = F.avg_pool2d(x, kernel_size=pool_size)\n",
    "        elif pool_type == 'avg+max': # Một số phiên bản PANNs dùng cách này\n",
    "            x1 = F.avg_pool2d(x, kernel_size=pool_size)\n",
    "            x2 = F.max_pool2d(x, kernel_size=pool_size)\n",
    "            x = x1 + x2\n",
    "        else:\n",
    "            raise Exception('Pool type không hợp lệ!')\n",
    "        return x\n",
    "\n",
    "# --- Model Cnn10 theo chuẩn PANNs ---\n",
    "class Cnn10_PANNs(nn.Module):\n",
    "    def __init__(self, num_classes, pretrained=True):\n",
    "        super().__init__()\n",
    "        # BatchNorm ban đầu - PANNs gốc thường áp dụng cho chiều Freq (Mel bins)\n",
    "        # Input của bạn là (B, 1, Freq, Time). BN2d(1) sẽ áp dụng cho kênh.\n",
    "        self.bn0 = nn.BatchNorm2d(1)\n",
    "\n",
    "        # 4 Khối Convolutional chính\n",
    "        # Pooling (2,2) sau mỗi khối sẽ giảm Freq và Time\n",
    "        self.conv_block1 = ConvBlock_PANNs(in_channels=1, out_channels=64)\n",
    "        self.conv_block2 = ConvBlock_PANNs(in_channels=64, out_channels=128)\n",
    "        self.conv_block3 = ConvBlock_PANNs(in_channels=128, out_channels=256)\n",
    "        self.conv_block4 = ConvBlock_PANNs(in_channels=256, out_channels=512)\n",
    "\n",
    "        # Lớp Fully Connected đầu tiên (sau global pooling)\n",
    "        # Input size phụ thuộc vào cách global pooling, PANNs thường là 512 hoặc 1024\n",
    "        # Ở đây, sau mean+max pooling across time và mean across freq -> 512 features\n",
    "        self.fc1 = nn.Linear(512, 512, bias=True)\n",
    "        # Lớp Fully Connected cuối cùng (phân loại)\n",
    "        self.fc_final = nn.Linear(512, num_classes, bias=True)\n",
    "\n",
    "        self.relu = nn.ReLU()\n",
    "        # self.dropout = nn.Dropout(0.5) # Có thể thêm dropout nếu cần\n",
    "\n",
    "        if pretrained:\n",
    "            self.load_pretrained()\n",
    "\n",
    "    def load_pretrained(self):\n",
    "        try:\n",
    "            checkpoint = torch.load(CHECKPOINT_PATH, map_location=device)\n",
    "            # state_dict thường nằm trong key 'model' hoặc 'state_dict'\n",
    "            if 'model' in checkpoint:\n",
    "                state_dict = checkpoint['model']\n",
    "            elif 'state_dict' in checkpoint:\n",
    "                 state_dict = checkpoint['state_dict']\n",
    "            else:\n",
    "                 state_dict = checkpoint # Nếu file chỉ chứa state_dict\n",
    "\n",
    "            model_dict = self.state_dict()\n",
    "            loaded_count = 0\n",
    "            skipped_mismatch = 0\n",
    "            skipped_other = 0\n",
    "\n",
    "            # Tạo dict mới để chứa các trọng số khớp\n",
    "            pretrained_dict = {}\n",
    "            for k_ckpt, v_ckpt in state_dict.items():\n",
    "                # Bỏ qua các lớp không dùng đến (tiền xử lý, lớp phân loại gốc AudioSet)\n",
    "                if k_ckpt.startswith('spectrogram_extractor.') or \\\n",
    "                   k_ckpt.startswith('logmel_extractor.') or \\\n",
    "                   k_ckpt.startswith('spec_augment.') or \\\n",
    "                   k_ckpt.startswith('fc_audioset.'): # Tên lớp cuối của PANNs gốc\n",
    "                    skipped_other += 1\n",
    "                    continue\n",
    "\n",
    "                # Map tên từ checkpoint sang model hiện tại\n",
    "                k_model = k_ckpt # Giả sử tên khớp trực tiếp cho bn0, conv_blockX, fc1\n",
    "\n",
    "                if k_model in model_dict:\n",
    "                    if model_dict[k_model].shape == v_ckpt.shape:\n",
    "                        pretrained_dict[k_model] = v_ckpt\n",
    "                        loaded_count += 1\n",
    "                    else:\n",
    "                        # print(f\"Skipping {k_ckpt}: Shape mismatch ({model_dict[k_model].shape} vs {v_ckpt.shape})\")\n",
    "                        skipped_mismatch += 1\n",
    "                else:\n",
    "                    # print(f\"Skipping {k_ckpt}: Key not found in model\")\n",
    "                    skipped_other += 1\n",
    "\n",
    "            # Cập nhật state_dict của model với các trọng số đã load\n",
    "            model_dict.update(pretrained_dict)\n",
    "            # Load state_dict với strict=False để bỏ qua các lớp không khớp (như fc_final)\n",
    "            missing_keys, unexpected_keys = self.load_state_dict(model_dict, strict=False)\n",
    "\n",
    "            print(f\"Pretrained weights loaded: {loaded_count} tensors loaded.\")\n",
    "            if skipped_mismatch > 0: print(f\"Skipped {skipped_mismatch} tensors due to shape mismatch.\")\n",
    "            if skipped_other > 0: print(f\"Skipped {skipped_other} tensors (unused layers or key not found).\")\n",
    "\n",
    "            # In ra các key bị thiếu (ngoại trừ lớp cuối cùng là bình thường)\n",
    "            final_missing = [k for k in missing_keys if not k.startswith('fc_final.')]\n",
    "            if final_missing:\n",
    "                print(\"\\nWarning: Missing keys beyond the final classifier:\")\n",
    "                print(final_missing[:10], \"...\" if len(final_missing) > 10 else \"\")\n",
    "            # Unexpected keys lý tưởng là rỗng vì chúng ta đã lọc pretrained_dict\n",
    "            if unexpected_keys:\n",
    "                 print(\"\\nWarning: Unexpected keys found (potentially due to model_dict update):\")\n",
    "                 print(unexpected_keys[:10], \"...\")\n",
    "\n",
    "        except Exception as e:\n",
    "            print(f\"Error loading pretrained weights: {e}. Training from scratch.\")\n",
    "\n",
    "    def forward(self, x):\n",
    "        # Input: (B, C=1, F=128, T=626)\n",
    "        if x.dim() == 3: x = x.unsqueeze(1)\n",
    "\n",
    "        x = self.bn0(x) # Áp dụng BN ban đầu\n",
    "\n",
    "        # Qua 4 khối ConvBlock với pooling\n",
    "        x = self.conv_block1(x, pool_size=(2, 2), pool_type='avg')\n",
    "        x = self.conv_block2(x, pool_size=(2, 2), pool_type='avg')\n",
    "        x = self.conv_block3(x, pool_size=(2, 2), pool_type='avg')\n",
    "        x = self.conv_block4(x, pool_size=(2, 2), pool_type='avg')\n",
    "        # Output dự kiến: (B, 512, F'=8, T'=39)\n",
    "\n",
    "        # Global Mean + Max Pooling dọc theo chiều Time (dim=3)\n",
    "        x_mean = torch.mean(x, dim=3) # (B, 512, 8)\n",
    "        x_max, _ = torch.max(x, dim=3) # (B, 512, 8)\n",
    "        x = x_mean + x_max # (B, 512, 8)\n",
    "\n",
    "        # Pooling hoặc Flatten chiều Freq (dim=2) để đưa về (B, 512) cho fc1\n",
    "        # Ở đây dùng mean pooling dọc theo chiều Freq\n",
    "        x = torch.mean(x, dim=2) # Output: (B, 512)\n",
    "\n",
    "        # Lớp Fully Connected\n",
    "        x = F.relu(self.fc1(x))\n",
    "        # x = self.dropout(x) # Có thể thêm dropout ở đây\n",
    "        x = self.fc_final(x)\n",
    "\n",
    "        return x\n",
    "\n",
    "print(\"Đã định nghĩa mô hình Cnn10_PANNs khớp hơn với checkpoint.\")"
   ]
  },
  {
   "cell_type": "code",
   "execution_count": 5,
   "id": "6f1a0cca-7ed0-4b42-aba3-0d328d9ed1f1",
   "metadata": {},
   "outputs": [],
   "source": [
    "class SpectrogramDataset(Dataset):\n",
    "    def __init__(self, metadata_df, melspec_dir, transform=None, target_tdim=626):\n",
    "        super().__init__()\n",
    "        self.metadata = metadata_df\n",
    "        self.melspec_dir = melspec_dir\n",
    "        self.transform = transform\n",
    "        self.target_tdim = target_tdim # Target time dimension\n",
    "        # Ensure label column exists before accessing unique()\n",
    "        if 'label' in self.metadata.columns:\n",
    "            self.class_names = sorted(self.metadata['label'].unique())\n",
    "            self.class_to_id = {name: i for i, name in enumerate(self.class_names)}\n",
    "        else:\n",
    "            # Handle error: label column missing\n",
    "            raise ValueError(\"Metadata DataFrame must contain a 'label' column.\")\n",
    "        self.error_log = []\n",
    "\n",
    "    def __len__(self):\n",
    "        return len(self.metadata)\n",
    "\n",
    "    def __getitem__(self, idx):\n",
    "        if idx >= len(self.metadata):\n",
    "             self.error_log.append(f\"Index {idx} out of bounds for metadata length {len(self.metadata)}\")\n",
    "             return None\n",
    "        # Ensure required columns exist before accessing\n",
    "        if 'file_path' not in self.metadata.columns or 'label' not in self.metadata.columns:\n",
    "             self.error_log.append(f\"Missing 'file_path' or 'label' column at index {idx}\")\n",
    "             return None\n",
    "\n",
    "        row = self.metadata.iloc[idx]\n",
    "        relative_path = row['file_path']\n",
    "        label_name = row['label']\n",
    "\n",
    "        # Check if label exists in class_to_id map\n",
    "        if label_name not in self.class_to_id:\n",
    "             self.error_log.append(f\"Label '{label_name}' at index {idx} not found in class map.\")\n",
    "             return None\n",
    "        label = self.class_to_id[label_name]\n",
    "\n",
    "        file_path = os.path.join(self.melspec_dir, relative_path)\n",
    "\n",
    "        if not os.path.exists(file_path):\n",
    "             self.error_log.append(f\"File not found: {file_path}\")\n",
    "             return None\n",
    "\n",
    "        try:\n",
    "            loaded_object = torch.load(file_path, map_location=torch.device('cpu'))\n",
    "\n",
    "            if isinstance(loaded_object, (tuple, list)):\n",
    "                if len(loaded_object) > 0 and isinstance(loaded_object[0], torch.Tensor):\n",
    "                    data = loaded_object[0]\n",
    "                else:\n",
    "                    raise TypeError(f\"Loaded tuple/list does not contain a tensor at index 0.\")\n",
    "            elif isinstance(loaded_object, torch.Tensor):\n",
    "                data = loaded_object\n",
    "            else:\n",
    "                 raise TypeError(f\"Unexpected data type loaded: {type(loaded_object)}\")\n",
    "\n",
    "            data = data.to(torch.float32)\n",
    "\n",
    "            if data.dim() == 1:\n",
    "                 self.error_log.append(f\"Warning: Loaded data is 1D for {file_path}. Shape: {data.shape}. Skipping.\")\n",
    "                 return None\n",
    "            elif data.dim() > 2:\n",
    "                 if data.shape[0] == 1:\n",
    "                     data = data.squeeze(0)\n",
    "                 elif data.dim() == 3 and data.shape[-1] == 1:\n",
    "                     data = data.squeeze(-1)\n",
    "                 else:\n",
    "                    self.error_log.append(f\"Warning: Loaded data has >2 dims for {file_path}. Shape: {data.shape}. Skipping.\")\n",
    "                    return None\n",
    "\n",
    "            if data.dim() != 2:\n",
    "                 self.error_log.append(f\"Warning: Data is not 2D after processing for {file_path}. Shape: {data.shape}. Skipping.\")\n",
    "                 return None\n",
    "\n",
    "            current_tdim = data.shape[-1]\n",
    "            if current_tdim > self.target_tdim:\n",
    "                start = (current_tdim - self.target_tdim) // 2\n",
    "                data = data[..., start:start + self.target_tdim]\n",
    "            elif current_tdim < self.target_tdim:\n",
    "                data = F.pad(data, (0, self.target_tdim - current_tdim))\n",
    "\n",
    "            if self.transform:\n",
    "                data = data.unsqueeze(0) # Add channel dim -> (1, Freq, Time)\n",
    "                data = self.transform(data) # Output shape (1, 128, 626)\n",
    "\n",
    "            return data, label\n",
    "        except Exception as e:\n",
    "            self.error_log.append(f\"Error loading/processing {file_path}: {str(e)}\")\n",
    "            return None\n",
    "\n",
    "    def get_error_log(self):\n",
    "        return self.error_log"
   ]
  },
  {
   "cell_type": "code",
   "execution_count": 6,
   "id": "3ae62fe1-aea5-4489-872a-2a018136284b",
   "metadata": {},
   "outputs": [],
   "source": [
    "def collate_fn_remove_none(batch):\n",
    "    batch = [item for item in batch if item is not None and item[0] is not None] # Ensure tensor exists\n",
    "    if not batch:\n",
    "        return torch.tensor([], device=device, dtype=torch.float32), torch.tensor([], device=device, dtype=torch.long)\n",
    "    samples, labels = zip(*batch)\n",
    "    try:\n",
    "        samples_stacked = torch.stack(samples)\n",
    "    except RuntimeError as e:\n",
    "        print(f\"Error during torch.stack in collate_fn: {e}\")\n",
    "        for i, s in enumerate(samples): print(f\"Sample {i} shape: {s.shape}\")\n",
    "        return torch.tensor([], device=device, dtype=torch.float32), torch.tensor([], device=device, dtype=torch.long)\n",
    "    labels_tensor = torch.tensor(labels, dtype=torch.long)\n",
    "    return samples_stacked, labels_tensor"
   ]
  },
  {
   "cell_type": "code",
   "execution_count": 7,
   "id": "087a1b30-b8d0-4a6a-a477-1606603c60aa",
   "metadata": {},
   "outputs": [],
   "source": [
    "def plot_roc_curve(val_labels, val_probs, class_names, save_path):\n",
    "    n_classes = len(class_names)\n",
    "    if n_classes <= 1:\n",
    "        print(\"ROC curve plotting skipped: requires at least 2 classes.\")\n",
    "        return\n",
    "    val_labels_np = np.array(val_labels)\n",
    "    val_probs_np = np.array(val_probs)\n",
    "    if val_probs_np.shape[1] != n_classes:\n",
    "         print(f\"Warning: Prob columns ({val_probs_np.shape[1]}) != classes ({n_classes}). ROC incorrect.\")\n",
    "    fpr, tpr, roc_auc = dict(), dict(), dict()\n",
    "    try:\n",
    "        val_labels_one_hot = F.one_hot(torch.tensor(val_labels_np, dtype=torch.long), num_classes=n_classes).numpy()\n",
    "    except Exception as e:\n",
    "        print(f\"Error creating one-hot labels: {e}. Skipping ROC plot.\")\n",
    "        return\n",
    "    plt.figure(figsize=(10, 8))\n",
    "    for i in range(n_classes):\n",
    "        try:\n",
    "            fpr[i], tpr[i], _ = roc_curve(val_labels_one_hot[:, i], val_probs_np[:, i])\n",
    "            roc_auc[i] = auc(fpr[i], tpr[i])\n",
    "            plt.plot(fpr[i], tpr[i], lw=2, label=f'Class {class_names[i]} (AUC = {roc_auc[i]:.4f})')\n",
    "        except ValueError as e:\n",
    "            print(f\"Could not compute ROC curve for class {class_names[i]}: {e}\")\n",
    "            roc_auc[i] = float('nan')\n",
    "    plt.plot([0, 1], [0, 1], 'k--', lw=2, label='Chance (AUC = 0.50)')\n",
    "    plt.xlim([0.0, 1.0]); plt.ylim([0.0, 1.05])\n",
    "    plt.xlabel('False Positive Rate'); plt.ylabel('True Positive Rate')\n",
    "    plt.title('Multi-class ROC Curve (One-vs-Rest)'); plt.legend(loc=\"lower right\"); plt.grid(True)\n",
    "    try: plt.savefig(save_path)\n",
    "    except Exception as e: print(f\"Error saving ROC plot: {e}\")\n",
    "    plt.close()\n",
    "\n",
    "# --- Training and Evaluation Function (train_and_evaluate) remains the same ---\n",
    "def train_and_evaluate( model, train_loader, val_loader, epochs, results_dir, run_base_name, class_names ):\n",
    "    optimizer = torch.optim.AdamW(model.parameters(), lr=1e-4, weight_decay=1e-5)\n",
    "    criterion = nn.CrossEntropyLoss()\n",
    "    scheduler = torch.optim.lr_scheduler.ReduceLROnPlateau(optimizer, 'max', factor=0.2, patience=5, verbose=True)\n",
    "    scaler = torch.cuda.amp.GradScaler(enabled=torch.cuda.is_available())\n",
    "    best_f1_weighted = 0.0\n",
    "    best_metrics_dict = {}\n",
    "    os.makedirs(results_dir, exist_ok=True)\n",
    "    metrics_csv_path = os.path.join(results_dir, f\"metrics_history_{run_base_name}.csv\")\n",
    "    best_checkpoint_path = os.path.join(results_dir, f\"Best_{run_base_name}.pth\")\n",
    "    report_path = os.path.join(results_dir, f\"Best_{run_base_name}_report.txt\")\n",
    "    cm_path = os.path.join(results_dir, f\"Best_{run_base_name}_confusion_matrix.csv\")\n",
    "    auc_plot_path = os.path.join(results_dir, f\"Best_{run_base_name}_AUC_ROC.png\")\n",
    "    csv_header = ['Epoch', 'LR', 'Train_Loss', 'Accuracy', 'Precision_micro', 'Precision_macro', 'Precision_w', 'Recall_micro', 'Recall_macro', 'Recall_w', 'F1_micro', 'F1_macro', 'F1_w', 'AUC_macro_ovr']\n",
    "    if not os.path.exists(metrics_csv_path):\n",
    "        pd.DataFrame(columns=csv_header).to_csv(metrics_csv_path, index=False)\n",
    "\n",
    "    print(f\"\\nStarting training for {run_base_name}...\")\n",
    "    for epoch in range(epochs):\n",
    "        model.train()\n",
    "        train_loss = 0.0; num_train_batches = 0\n",
    "        loop = tqdm(train_loader, desc=f\"Epoch {epoch+1}/{epochs} [Train]\", leave=False)\n",
    "        for inputs, labels in loop:\n",
    "            if inputs.shape[0] == 0: continue\n",
    "            inputs, labels = inputs.to(device), labels.to(device)\n",
    "            optimizer.zero_grad(set_to_none=True)\n",
    "            with torch.cuda.amp.autocast(enabled=torch.cuda.is_available()):\n",
    "                outputs = model(inputs)\n",
    "                loss = criterion(outputs, labels)\n",
    "            scaler.scale(loss).backward()\n",
    "            scaler.step(optimizer)\n",
    "            scaler.update()\n",
    "            train_loss += loss.item(); num_train_batches += 1\n",
    "            loop.set_postfix(loss=loss.item())\n",
    "        avg_train_loss = train_loss / num_train_batches if num_train_batches > 0 else 0\n",
    "        current_lr = optimizer.param_groups[0]['lr']\n",
    "        # print(f\"Epoch {epoch+1}: Avg Train Loss = {avg_train_loss:.4f}, LR = {current_lr:.1e}\") # Less verbose\n",
    "\n",
    "        model.eval()\n",
    "        val_preds, val_labels, val_probs = [], [], []\n",
    "        val_loop = tqdm(val_loader, desc=f\"Epoch {epoch+1}/{epochs} [Val]\", leave=False)\n",
    "        with torch.no_grad():\n",
    "            for inputs, labels in val_loop:\n",
    "                if inputs.shape[0] == 0: continue\n",
    "                inputs, labels = inputs.to(device), labels.to(device)\n",
    "                with torch.cuda.amp.autocast(enabled=torch.cuda.is_available()):\n",
    "                    outputs = model(inputs)\n",
    "                probs = F.softmax(outputs, dim=1)\n",
    "                _, predicted = torch.max(outputs, 1)\n",
    "                val_preds.extend(predicted.cpu().numpy())\n",
    "                val_labels.extend(labels.cpu().numpy())\n",
    "                val_probs.extend(probs.cpu().numpy())\n",
    "\n",
    "        if not val_labels:\n",
    "            print(f\"Epoch {epoch+1}: No validation samples processed. Skipping metrics.\")\n",
    "            continue\n",
    "        val_labels_np = np.array(val_labels); val_preds_np = np.array(val_preds); val_probs_np = np.array(val_probs)\n",
    "        metrics_data = {'Epoch': epoch + 1, 'LR': current_lr, 'Train_Loss': avg_train_loss}\n",
    "        try:\n",
    "             metrics_data['Accuracy'] = accuracy_score(val_labels_np, val_preds_np)\n",
    "             metrics_data['Precision_micro'] = precision_score(val_labels_np, val_preds_np, average='micro', zero_division=0)\n",
    "             metrics_data['Precision_macro'] = precision_score(val_labels_np, val_preds_np, average='macro', zero_division=0)\n",
    "             metrics_data['Precision_w'] = precision_score(val_labels_np, val_preds_np, average='weighted', zero_division=0)\n",
    "             metrics_data['Recall_micro'] = recall_score(val_labels_np, val_preds_np, average='micro', zero_division=0)\n",
    "             metrics_data['Recall_macro'] = recall_score(val_labels_np, val_preds_np, average='macro', zero_division=0)\n",
    "             metrics_data['Recall_w'] = recall_score(val_labels_np, val_preds_np, average='weighted', zero_division=0)\n",
    "             metrics_data['F1_micro'] = f1_score(val_labels_np, val_preds_np, average='micro', zero_division=0)\n",
    "             metrics_data['F1_macro'] = f1_score(val_labels_np, val_preds_np, average='macro', zero_division=0)\n",
    "             metrics_data['F1_w'] = f1_score(val_labels_np, val_preds_np, average='weighted', zero_division=0)\n",
    "             if len(np.unique(val_labels_np)) > 1 and val_probs_np.shape[1] == len(class_names):\n",
    "                try: metrics_data['AUC_macro_ovr'] = roc_auc_score(val_labels_np, val_probs_np, multi_class='ovr', average='macro')\n",
    "                except ValueError as auc_error: metrics_data['AUC_macro_ovr'] = 0.0; print(f\"AUC Calc Warn: {auc_error}\")\n",
    "             else: metrics_data['AUC_macro_ovr'] = 0.0\n",
    "        except Exception as metric_error: print(f\"Metric Calc Err: {metric_error}\"); continue\n",
    "        try:\n",
    "             ordered_metrics = {h: metrics_data.get(h, None) for h in csv_header}\n",
    "             pd.DataFrame([ordered_metrics]).to_csv(metrics_csv_path, mode='a', header=False, index=False)\n",
    "        except Exception as csv_error: print(f\"CSV Write Err: {csv_error}\")\n",
    "\n",
    "        current_f1_weighted = metrics_data.get('F1_w', 0.0)\n",
    "        print(f\"Epoch {epoch+1}: F1-W = {current_f1_weighted:.4f}, F1-M = {metrics_data.get('F1_macro', 0.0):.4f}, Acc = {metrics_data.get('Accuracy', 0.0):.4f}, AUC = {metrics_data.get('AUC_macro_ovr', 0.0):.4f}\")\n",
    "\n",
    "        if current_f1_weighted > best_f1_weighted:\n",
    "            best_f1_weighted = current_f1_weighted\n",
    "            best_metrics_dict = metrics_data.copy()\n",
    "            print(f\"  -> New best F1-weighted: {best_f1_weighted:.4f}. Saving artifacts.\")\n",
    "            try: torch.save(model.state_dict(), best_checkpoint_path)\n",
    "            except Exception as e: print(f\"Save Err: {e}\")\n",
    "            try:\n",
    "                report = classification_report(val_labels_np, val_preds_np, target_names=class_names, digits=4, zero_division=0)\n",
    "                with open(report_path, 'w', encoding='utf-8') as f:\n",
    "                    f.write(f\"--- Best Metrics (Epoch {best_metrics_dict.get('Epoch', 'N/A')}) ---\\n\")\n",
    "                    for k, v in best_metrics_dict.items():\n",
    "                        if k not in ['Epoch', 'LR', 'Train_Loss']: f.write(f\"{k}: {v:.4f}\\n\")\n",
    "                    f.write(\"\\n--- Classification Report ---\\n\"); f.write(report)\n",
    "            except Exception as e: print(f\"Report Save Err: {e}\")\n",
    "            try:\n",
    "                cm_df = pd.DataFrame(confusion_matrix(val_labels_np, val_preds_np), index=class_names, columns=class_names)\n",
    "                cm_df.to_csv(cm_path)\n",
    "            except Exception as e: print(f\"CM Save Err: {e}\")\n",
    "            if metrics_data.get('AUC_macro_ovr', 0.0) > 0.0:\n",
    "                try: plot_roc_curve(val_labels_np, val_probs_np, class_names, auc_plot_path)\n",
    "                except Exception as e: print(f\"ROC Plot Err: {e}\")\n",
    "        scheduler.step(current_f1_weighted)\n",
    "\n",
    "    print(f\"\\nFinished Training for {run_base_name}. Best F1-weighted: {best_f1_weighted:.4f} at Epoch {best_metrics_dict.get('Epoch', 'N/A')}\")\n",
    "    train_errors = train_loader.dataset.get_error_log()\n",
    "    if train_errors:\n",
    "         print(f\"\\n--- Train Dataset Errors ({len(train_errors)} files) ---\"); [print(err) for err in train_errors[:10]]; print(\"...\" if len(train_errors)>10 else \"\")\n",
    "    val_errors = val_loader.dataset.get_error_log()\n",
    "    if val_errors:\n",
    "         print(f\"\\n--- Val Dataset Errors ({len(val_errors)} files) ---\"); [print(err) for err in val_errors[:10]]; print(\"...\" if len(val_errors)>10 else \"\")\n",
    "    return best_metrics_dict"
   ]
  },
  {
   "cell_type": "code",
   "execution_count": 8,
   "id": "289eaa8d-5b40-4056-b857-cf0f7c783243",
   "metadata": {},
   "outputs": [
    {
     "name": "stdout",
     "output_type": "stream",
     "text": [
      "Tất cả kết quả sẽ được lưu vào các thư mục con trong: C:\\Users\\PC\\lavar\\audiotwin_checkpoints_medium\\Finetune_Dataset_with_mixed_noise_timeshift\\SOTA_finetune_compare\n"
     ]
    }
   ],
   "source": [
    "MELSPEC_DIR = r'C:\\Users\\PC\\lavar\\audiotwin_checkpoints_medium\\Finetune_Dataset_with_mixed_noise_timeshift\\Finetune_MelSpec' \n",
    "METADATA_PATH = r'C:\\Users\\PC\\lavar\\audiotwin_checkpoints_medium\\Finetune_Dataset_with_mixed_noise_timeshift\\metadata_Finetune_MelSpec.csv'\n",
    "BASE_OUTPUT_DIR = r'C:\\Users\\PC\\lavar\\audiotwin_checkpoints_medium\\Finetune_Dataset_with_mixed_noise_timeshift\\SOTA_finetune_compare'\n",
    "print(f\"Tất cả kết quả sẽ được lưu vào các thư mục con trong: {BASE_OUTPUT_DIR}\")\n",
    "os.makedirs(BASE_OUTPUT_DIR, exist_ok=True)\n",
    "DATA_PERCENTAGES = [1.0]\n",
    "results = {} "
   ]
  },
  {
   "cell_type": "code",
   "execution_count": 9,
   "id": "e0a13641-5564-47d6-bc72-397e809a7c31",
   "metadata": {},
   "outputs": [
    {
     "name": "stdout",
     "output_type": "stream",
     "text": [
      "Preparing dataset...\n",
      "Số classes: 8\n",
      "Split: 11240 train, 2810 test.\n",
      "Class names: ['Gryllus_bimaculatus', 'Gryllus_campestris', 'Halyomorpha', 'Melolontha_melolontha', 'Myzus', 'Nezara', 'Trialeurodes', 'Tuta']\n"
     ]
    }
   ],
   "source": [
    "print(\"Preparing dataset...\")\n",
    "try:\n",
    "    full_metadata = pd.read_csv(METADATA_PATH)\n",
    "except FileNotFoundError: print(f\"Error: Metadata file not found at {METADATA_PATH}\"); exit()\n",
    "if 'file_path' not in full_metadata.columns or 'label' not in full_metadata.columns:\n",
    "    print(\"Error: Metadata CSV must contain 'file_path' and 'label' columns.\"); exit()\n",
    "initial_len = len(full_metadata)\n",
    "full_metadata.dropna(subset=['file_path', 'label'], inplace=True)\n",
    "if len(full_metadata) < initial_len: print(f\"Warning: Dropped {initial_len - len(full_metadata)} rows with missing values.\")\n",
    "\n",
    "num_classes = len(full_metadata['label'].unique())\n",
    "if num_classes == 0: print(\"Error: No classes found.\"); exit()\n",
    "print(f\"Số classes: {num_classes}\")\n",
    "\n",
    "indices = np.arange(len(full_metadata)); labels = full_metadata['label'].values\n",
    "try:\n",
    "    train_indices, test_indices = train_test_split(indices, test_size=0.2, random_state=SEED, stratify=labels)\n",
    "    print(f\"Split: {len(train_indices)} train, {len(test_indices)} test.\")\n",
    "except ValueError as e:\n",
    "     print(f\"Stratify Error: {e}. Using non-stratified split.\"); train_indices, test_indices = train_test_split(indices, test_size=0.2, random_state=SEED)\n",
    "     print(f\"Split: {len(train_indices)} train, {len(test_indices)} test.\")\n",
    "\n",
    "test_metadata = full_metadata.iloc[test_indices].copy()\n",
    "test_dataset = SpectrogramDataset(test_metadata, MELSPEC_DIR, transform=val_transform)\n",
    "test_loader = DataLoader(test_dataset, batch_size=32, shuffle=False, num_workers=0, collate_fn=collate_fn_remove_none, pin_memory=torch.cuda.is_available())\n",
    "try:\n",
    "    class_names_list = test_dataset.class_names\n",
    "    print(f\"Class names: {class_names_list}\")\n",
    "except AttributeError:\n",
    "    # Handle case where test_dataset might not have class_names if initialization failed\n",
    "    print(\"Error: Could not retrieve class names from test_dataset.\")\n",
    "    exit()\n",
    "\n",
    "\n",
    "model_configs = {\n",
    "    \"PANNs-CNN10\": {\n",
    "        \"model_class\": Cnn10_PANNs, # <--- Sử dụng lớp mới\n",
    "        \"args\": {\"num_classes\": num_classes, \"pretrained\": True}\n",
    "    }\n",
    "}"
   ]
  },
  {
   "cell_type": "code",
   "execution_count": 10,
   "id": "2890d54f-3e69-4693-9f04-2b9bcae3f093",
   "metadata": {},
   "outputs": [
    {
     "name": "stdout",
     "output_type": "stream",
     "text": [
      "\n",
      "==================== Evaluating: PANNs-CNN10 ====================\n",
      "Lưu kết quả của model này vào: C:\\Users\\PC\\lavar\\audiotwin_checkpoints_medium\\Finetune_Dataset_with_mixed_noise_timeshift\\SOTA_finetune_compare\\PANNs_CNN10\n",
      "\n",
      "--- Training with 100.0% of labeled data ---\n",
      "Train dataset size: 11240\n",
      "Test dataset size: 2810\n",
      "Pretrained weights loaded: 51 tensors loaded.\n",
      "Skipped 4 tensors due to shape mismatch.\n",
      "Skipped 5 tensors (unused layers or key not found).\n",
      "\n",
      "Starting training for PANNs_CNN10_data_100percent...\n"
     ]
    },
    {
     "name": "stderr",
     "output_type": "stream",
     "text": [
      "C:\\Users\\PC\\anaconda3\\envs\\train_env\\lib\\site-packages\\torch\\optim\\lr_scheduler.py:62: UserWarning: The verbose parameter is deprecated. Please use get_last_lr() to access the learning rate.\n",
      "  warnings.warn(\n"
     ]
    },
    {
     "data": {
      "application/vnd.jupyter.widget-view+json": {
       "model_id": "f240353b6d7043f1827c91bfdef195fc",
       "version_major": 2,
       "version_minor": 0
      },
      "text/plain": [
       "Epoch 1/100 [Train]:   0%|          | 0/352 [00:00<?, ?it/s]"
      ]
     },
     "metadata": {},
     "output_type": "display_data"
    },
    {
     "data": {
      "application/vnd.jupyter.widget-view+json": {
       "model_id": "7eca3022e2304274b693ff1367a975af",
       "version_major": 2,
       "version_minor": 0
      },
      "text/plain": [
       "Epoch 1/100 [Val]:   0%|          | 0/88 [00:00<?, ?it/s]"
      ]
     },
     "metadata": {},
     "output_type": "display_data"
    },
    {
     "name": "stdout",
     "output_type": "stream",
     "text": [
      "AUC Calc Warn: Target scores need to be probabilities for multiclass roc_auc, i.e. they should sum up to 1.0 over classes\n",
      "Epoch 1: F1-W = 0.5568, F1-M = 0.4924, Acc = 0.5904, AUC = 0.0000\n",
      "  -> New best F1-weighted: 0.5568. Saving artifacts.\n"
     ]
    },
    {
     "data": {
      "application/vnd.jupyter.widget-view+json": {
       "model_id": "30341cbff7544b828656f192507d5267",
       "version_major": 2,
       "version_minor": 0
      },
      "text/plain": [
       "Epoch 2/100 [Train]:   0%|          | 0/352 [00:00<?, ?it/s]"
      ]
     },
     "metadata": {},
     "output_type": "display_data"
    },
    {
     "data": {
      "application/vnd.jupyter.widget-view+json": {
       "model_id": "d8ad45f889704579a3f42c7d5f97dd35",
       "version_major": 2,
       "version_minor": 0
      },
      "text/plain": [
       "Epoch 2/100 [Val]:   0%|          | 0/88 [00:00<?, ?it/s]"
      ]
     },
     "metadata": {},
     "output_type": "display_data"
    },
    {
     "name": "stdout",
     "output_type": "stream",
     "text": [
      "AUC Calc Warn: Target scores need to be probabilities for multiclass roc_auc, i.e. they should sum up to 1.0 over classes\n",
      "Epoch 2: F1-W = 0.6542, F1-M = 0.6063, Acc = 0.6673, AUC = 0.0000\n",
      "  -> New best F1-weighted: 0.6542. Saving artifacts.\n"
     ]
    },
    {
     "data": {
      "application/vnd.jupyter.widget-view+json": {
       "model_id": "c8351a18696a4c96bbde0d13bface017",
       "version_major": 2,
       "version_minor": 0
      },
      "text/plain": [
       "Epoch 3/100 [Train]:   0%|          | 0/352 [00:00<?, ?it/s]"
      ]
     },
     "metadata": {},
     "output_type": "display_data"
    },
    {
     "data": {
      "application/vnd.jupyter.widget-view+json": {
       "model_id": "ae9502c5f0134459916600ad6b8a6d77",
       "version_major": 2,
       "version_minor": 0
      },
      "text/plain": [
       "Epoch 3/100 [Val]:   0%|          | 0/88 [00:00<?, ?it/s]"
      ]
     },
     "metadata": {},
     "output_type": "display_data"
    },
    {
     "name": "stdout",
     "output_type": "stream",
     "text": [
      "AUC Calc Warn: Target scores need to be probabilities for multiclass roc_auc, i.e. they should sum up to 1.0 over classes\n",
      "Epoch 3: F1-W = 0.6905, F1-M = 0.6554, Acc = 0.6986, AUC = 0.0000\n",
      "  -> New best F1-weighted: 0.6905. Saving artifacts.\n"
     ]
    },
    {
     "data": {
      "application/vnd.jupyter.widget-view+json": {
       "model_id": "32c318d743a84522aab008edf4260b04",
       "version_major": 2,
       "version_minor": 0
      },
      "text/plain": [
       "Epoch 4/100 [Train]:   0%|          | 0/352 [00:00<?, ?it/s]"
      ]
     },
     "metadata": {},
     "output_type": "display_data"
    },
    {
     "data": {
      "application/vnd.jupyter.widget-view+json": {
       "model_id": "84a96533d4c44580afc9d30bc8958963",
       "version_major": 2,
       "version_minor": 0
      },
      "text/plain": [
       "Epoch 4/100 [Val]:   0%|          | 0/88 [00:00<?, ?it/s]"
      ]
     },
     "metadata": {},
     "output_type": "display_data"
    },
    {
     "name": "stdout",
     "output_type": "stream",
     "text": [
      "AUC Calc Warn: Target scores need to be probabilities for multiclass roc_auc, i.e. they should sum up to 1.0 over classes\n",
      "Epoch 4: F1-W = 0.7186, F1-M = 0.6915, Acc = 0.7210, AUC = 0.0000\n",
      "  -> New best F1-weighted: 0.7186. Saving artifacts.\n"
     ]
    },
    {
     "data": {
      "application/vnd.jupyter.widget-view+json": {
       "model_id": "36af83102450459b8dc102669862f946",
       "version_major": 2,
       "version_minor": 0
      },
      "text/plain": [
       "Epoch 5/100 [Train]:   0%|          | 0/352 [00:00<?, ?it/s]"
      ]
     },
     "metadata": {},
     "output_type": "display_data"
    },
    {
     "data": {
      "application/vnd.jupyter.widget-view+json": {
       "model_id": "0d141d2dd2844588aa7f3af8f9c8e1c1",
       "version_major": 2,
       "version_minor": 0
      },
      "text/plain": [
       "Epoch 5/100 [Val]:   0%|          | 0/88 [00:00<?, ?it/s]"
      ]
     },
     "metadata": {},
     "output_type": "display_data"
    },
    {
     "name": "stdout",
     "output_type": "stream",
     "text": [
      "AUC Calc Warn: Target scores need to be probabilities for multiclass roc_auc, i.e. they should sum up to 1.0 over classes\n",
      "Epoch 5: F1-W = 0.7532, F1-M = 0.7251, Acc = 0.7527, AUC = 0.0000\n",
      "  -> New best F1-weighted: 0.7532. Saving artifacts.\n"
     ]
    },
    {
     "data": {
      "application/vnd.jupyter.widget-view+json": {
       "model_id": "f9c9eed1fb984a1fa5fb560433896e8f",
       "version_major": 2,
       "version_minor": 0
      },
      "text/plain": [
       "Epoch 6/100 [Train]:   0%|          | 0/352 [00:00<?, ?it/s]"
      ]
     },
     "metadata": {},
     "output_type": "display_data"
    },
    {
     "data": {
      "application/vnd.jupyter.widget-view+json": {
       "model_id": "2ba3ca8ea6a147f2a8fcbdae1752f2da",
       "version_major": 2,
       "version_minor": 0
      },
      "text/plain": [
       "Epoch 6/100 [Val]:   0%|          | 0/88 [00:00<?, ?it/s]"
      ]
     },
     "metadata": {},
     "output_type": "display_data"
    },
    {
     "name": "stdout",
     "output_type": "stream",
     "text": [
      "AUC Calc Warn: Target scores need to be probabilities for multiclass roc_auc, i.e. they should sum up to 1.0 over classes\n",
      "Epoch 6: F1-W = 0.7614, F1-M = 0.7349, Acc = 0.7623, AUC = 0.0000\n",
      "  -> New best F1-weighted: 0.7614. Saving artifacts.\n"
     ]
    },
    {
     "data": {
      "application/vnd.jupyter.widget-view+json": {
       "model_id": "88e723f7df3e49dfacd9fbdc0fb7d05a",
       "version_major": 2,
       "version_minor": 0
      },
      "text/plain": [
       "Epoch 7/100 [Train]:   0%|          | 0/352 [00:00<?, ?it/s]"
      ]
     },
     "metadata": {},
     "output_type": "display_data"
    },
    {
     "data": {
      "application/vnd.jupyter.widget-view+json": {
       "model_id": "45666e89eebc4dbd83124588903d2183",
       "version_major": 2,
       "version_minor": 0
      },
      "text/plain": [
       "Epoch 7/100 [Val]:   0%|          | 0/88 [00:00<?, ?it/s]"
      ]
     },
     "metadata": {},
     "output_type": "display_data"
    },
    {
     "name": "stdout",
     "output_type": "stream",
     "text": [
      "AUC Calc Warn: Target scores need to be probabilities for multiclass roc_auc, i.e. they should sum up to 1.0 over classes\n",
      "Epoch 7: F1-W = 0.7627, F1-M = 0.7359, Acc = 0.7658, AUC = 0.0000\n",
      "  -> New best F1-weighted: 0.7627. Saving artifacts.\n"
     ]
    },
    {
     "data": {
      "application/vnd.jupyter.widget-view+json": {
       "model_id": "09c845811d3042a089c280da99667df3",
       "version_major": 2,
       "version_minor": 0
      },
      "text/plain": [
       "Epoch 8/100 [Train]:   0%|          | 0/352 [00:00<?, ?it/s]"
      ]
     },
     "metadata": {},
     "output_type": "display_data"
    },
    {
     "data": {
      "application/vnd.jupyter.widget-view+json": {
       "model_id": "729426bec2ac41e194764b8949d600dc",
       "version_major": 2,
       "version_minor": 0
      },
      "text/plain": [
       "Epoch 8/100 [Val]:   0%|          | 0/88 [00:00<?, ?it/s]"
      ]
     },
     "metadata": {},
     "output_type": "display_data"
    },
    {
     "name": "stdout",
     "output_type": "stream",
     "text": [
      "AUC Calc Warn: Target scores need to be probabilities for multiclass roc_auc, i.e. they should sum up to 1.0 over classes\n",
      "Epoch 8: F1-W = 0.7828, F1-M = 0.7549, Acc = 0.7829, AUC = 0.0000\n",
      "  -> New best F1-weighted: 0.7828. Saving artifacts.\n"
     ]
    },
    {
     "data": {
      "application/vnd.jupyter.widget-view+json": {
       "model_id": "b67d3c89a810404ba441e395cd89ac21",
       "version_major": 2,
       "version_minor": 0
      },
      "text/plain": [
       "Epoch 9/100 [Train]:   0%|          | 0/352 [00:00<?, ?it/s]"
      ]
     },
     "metadata": {},
     "output_type": "display_data"
    },
    {
     "data": {
      "application/vnd.jupyter.widget-view+json": {
       "model_id": "a21b32662f954b218196d3d19691512e",
       "version_major": 2,
       "version_minor": 0
      },
      "text/plain": [
       "Epoch 9/100 [Val]:   0%|          | 0/88 [00:00<?, ?it/s]"
      ]
     },
     "metadata": {},
     "output_type": "display_data"
    },
    {
     "name": "stdout",
     "output_type": "stream",
     "text": [
      "AUC Calc Warn: Target scores need to be probabilities for multiclass roc_auc, i.e. they should sum up to 1.0 over classes\n",
      "Epoch 9: F1-W = 0.7772, F1-M = 0.7505, Acc = 0.7783, AUC = 0.0000\n"
     ]
    },
    {
     "data": {
      "application/vnd.jupyter.widget-view+json": {
       "model_id": "f0c746f2d8804132a74a5d12b516f468",
       "version_major": 2,
       "version_minor": 0
      },
      "text/plain": [
       "Epoch 10/100 [Train]:   0%|          | 0/352 [00:00<?, ?it/s]"
      ]
     },
     "metadata": {},
     "output_type": "display_data"
    },
    {
     "data": {
      "application/vnd.jupyter.widget-view+json": {
       "model_id": "c2d286d686254dbf928a8dfb339d1e1b",
       "version_major": 2,
       "version_minor": 0
      },
      "text/plain": [
       "Epoch 10/100 [Val]:   0%|          | 0/88 [00:00<?, ?it/s]"
      ]
     },
     "metadata": {},
     "output_type": "display_data"
    },
    {
     "name": "stdout",
     "output_type": "stream",
     "text": [
      "AUC Calc Warn: Target scores need to be probabilities for multiclass roc_auc, i.e. they should sum up to 1.0 over classes\n",
      "Epoch 10: F1-W = 0.7966, F1-M = 0.7710, Acc = 0.7968, AUC = 0.0000\n",
      "  -> New best F1-weighted: 0.7966. Saving artifacts.\n"
     ]
    },
    {
     "data": {
      "application/vnd.jupyter.widget-view+json": {
       "model_id": "37f0adf1332c4d41b539773f0f5bfe80",
       "version_major": 2,
       "version_minor": 0
      },
      "text/plain": [
       "Epoch 11/100 [Train]:   0%|          | 0/352 [00:00<?, ?it/s]"
      ]
     },
     "metadata": {},
     "output_type": "display_data"
    },
    {
     "data": {
      "application/vnd.jupyter.widget-view+json": {
       "model_id": "8e211f8226f540b0ae829327151c28b8",
       "version_major": 2,
       "version_minor": 0
      },
      "text/plain": [
       "Epoch 11/100 [Val]:   0%|          | 0/88 [00:00<?, ?it/s]"
      ]
     },
     "metadata": {},
     "output_type": "display_data"
    },
    {
     "name": "stdout",
     "output_type": "stream",
     "text": [
      "AUC Calc Warn: Target scores need to be probabilities for multiclass roc_auc, i.e. they should sum up to 1.0 over classes\n",
      "Epoch 11: F1-W = 0.8049, F1-M = 0.7823, Acc = 0.8050, AUC = 0.0000\n",
      "  -> New best F1-weighted: 0.8049. Saving artifacts.\n"
     ]
    },
    {
     "data": {
      "application/vnd.jupyter.widget-view+json": {
       "model_id": "936a9030e14445158d313f985bf85847",
       "version_major": 2,
       "version_minor": 0
      },
      "text/plain": [
       "Epoch 12/100 [Train]:   0%|          | 0/352 [00:00<?, ?it/s]"
      ]
     },
     "metadata": {},
     "output_type": "display_data"
    },
    {
     "data": {
      "application/vnd.jupyter.widget-view+json": {
       "model_id": "2d5218d106f7428584e4ebae6e4f0e98",
       "version_major": 2,
       "version_minor": 0
      },
      "text/plain": [
       "Epoch 12/100 [Val]:   0%|          | 0/88 [00:00<?, ?it/s]"
      ]
     },
     "metadata": {},
     "output_type": "display_data"
    },
    {
     "name": "stdout",
     "output_type": "stream",
     "text": [
      "AUC Calc Warn: Target scores need to be probabilities for multiclass roc_auc, i.e. they should sum up to 1.0 over classes\n",
      "Epoch 12: F1-W = 0.8084, F1-M = 0.7870, Acc = 0.8082, AUC = 0.0000\n",
      "  -> New best F1-weighted: 0.8084. Saving artifacts.\n"
     ]
    },
    {
     "data": {
      "application/vnd.jupyter.widget-view+json": {
       "model_id": "fb616715d42b40028ab2a0516a010c77",
       "version_major": 2,
       "version_minor": 0
      },
      "text/plain": [
       "Epoch 13/100 [Train]:   0%|          | 0/352 [00:00<?, ?it/s]"
      ]
     },
     "metadata": {},
     "output_type": "display_data"
    },
    {
     "data": {
      "application/vnd.jupyter.widget-view+json": {
       "model_id": "c0a31dc7b04247f087cf3c0d6bce7506",
       "version_major": 2,
       "version_minor": 0
      },
      "text/plain": [
       "Epoch 13/100 [Val]:   0%|          | 0/88 [00:00<?, ?it/s]"
      ]
     },
     "metadata": {},
     "output_type": "display_data"
    },
    {
     "name": "stdout",
     "output_type": "stream",
     "text": [
      "AUC Calc Warn: Target scores need to be probabilities for multiclass roc_auc, i.e. they should sum up to 1.0 over classes\n",
      "Epoch 13: F1-W = 0.8082, F1-M = 0.7887, Acc = 0.8096, AUC = 0.0000\n"
     ]
    },
    {
     "data": {
      "application/vnd.jupyter.widget-view+json": {
       "model_id": "81e85056ce3c49ecb43c9d932e65b96e",
       "version_major": 2,
       "version_minor": 0
      },
      "text/plain": [
       "Epoch 14/100 [Train]:   0%|          | 0/352 [00:00<?, ?it/s]"
      ]
     },
     "metadata": {},
     "output_type": "display_data"
    },
    {
     "data": {
      "application/vnd.jupyter.widget-view+json": {
       "model_id": "a998359005214c229b50a3572d9b9d34",
       "version_major": 2,
       "version_minor": 0
      },
      "text/plain": [
       "Epoch 14/100 [Val]:   0%|          | 0/88 [00:00<?, ?it/s]"
      ]
     },
     "metadata": {},
     "output_type": "display_data"
    },
    {
     "name": "stdout",
     "output_type": "stream",
     "text": [
      "AUC Calc Warn: Target scores need to be probabilities for multiclass roc_auc, i.e. they should sum up to 1.0 over classes\n",
      "Epoch 14: F1-W = 0.8072, F1-M = 0.7838, Acc = 0.8082, AUC = 0.0000\n"
     ]
    },
    {
     "data": {
      "application/vnd.jupyter.widget-view+json": {
       "model_id": "b05ad904c89746149f887684b732c533",
       "version_major": 2,
       "version_minor": 0
      },
      "text/plain": [
       "Epoch 15/100 [Train]:   0%|          | 0/352 [00:00<?, ?it/s]"
      ]
     },
     "metadata": {},
     "output_type": "display_data"
    },
    {
     "data": {
      "application/vnd.jupyter.widget-view+json": {
       "model_id": "d70374779e5c41fca64c670f39d16417",
       "version_major": 2,
       "version_minor": 0
      },
      "text/plain": [
       "Epoch 15/100 [Val]:   0%|          | 0/88 [00:00<?, ?it/s]"
      ]
     },
     "metadata": {},
     "output_type": "display_data"
    },
    {
     "name": "stdout",
     "output_type": "stream",
     "text": [
      "AUC Calc Warn: Target scores need to be probabilities for multiclass roc_auc, i.e. they should sum up to 1.0 over classes\n",
      "Epoch 15: F1-W = 0.8108, F1-M = 0.7898, Acc = 0.8114, AUC = 0.0000\n",
      "  -> New best F1-weighted: 0.8108. Saving artifacts.\n"
     ]
    },
    {
     "data": {
      "application/vnd.jupyter.widget-view+json": {
       "model_id": "e39ae28090f84fac88f3524c644145b6",
       "version_major": 2,
       "version_minor": 0
      },
      "text/plain": [
       "Epoch 16/100 [Train]:   0%|          | 0/352 [00:00<?, ?it/s]"
      ]
     },
     "metadata": {},
     "output_type": "display_data"
    },
    {
     "data": {
      "application/vnd.jupyter.widget-view+json": {
       "model_id": "49520e292f9c4a17b2218998177d38e3",
       "version_major": 2,
       "version_minor": 0
      },
      "text/plain": [
       "Epoch 16/100 [Val]:   0%|          | 0/88 [00:00<?, ?it/s]"
      ]
     },
     "metadata": {},
     "output_type": "display_data"
    },
    {
     "name": "stdout",
     "output_type": "stream",
     "text": [
      "AUC Calc Warn: Target scores need to be probabilities for multiclass roc_auc, i.e. they should sum up to 1.0 over classes\n",
      "Epoch 16: F1-W = 0.8239, F1-M = 0.8032, Acc = 0.8242, AUC = 0.0000\n",
      "  -> New best F1-weighted: 0.8239. Saving artifacts.\n"
     ]
    },
    {
     "data": {
      "application/vnd.jupyter.widget-view+json": {
       "model_id": "0e9c619b8ba9429aaa5ac39a95172cec",
       "version_major": 2,
       "version_minor": 0
      },
      "text/plain": [
       "Epoch 17/100 [Train]:   0%|          | 0/352 [00:00<?, ?it/s]"
      ]
     },
     "metadata": {},
     "output_type": "display_data"
    },
    {
     "data": {
      "application/vnd.jupyter.widget-view+json": {
       "model_id": "e44b9ba8665c4cf689319486101817d4",
       "version_major": 2,
       "version_minor": 0
      },
      "text/plain": [
       "Epoch 17/100 [Val]:   0%|          | 0/88 [00:00<?, ?it/s]"
      ]
     },
     "metadata": {},
     "output_type": "display_data"
    },
    {
     "name": "stdout",
     "output_type": "stream",
     "text": [
      "AUC Calc Warn: Target scores need to be probabilities for multiclass roc_auc, i.e. they should sum up to 1.0 over classes\n",
      "Epoch 17: F1-W = 0.8212, F1-M = 0.7995, Acc = 0.8210, AUC = 0.0000\n"
     ]
    },
    {
     "data": {
      "application/vnd.jupyter.widget-view+json": {
       "model_id": "03ce65cec01044ada39d5d418d84e166",
       "version_major": 2,
       "version_minor": 0
      },
      "text/plain": [
       "Epoch 18/100 [Train]:   0%|          | 0/352 [00:00<?, ?it/s]"
      ]
     },
     "metadata": {},
     "output_type": "display_data"
    },
    {
     "data": {
      "application/vnd.jupyter.widget-view+json": {
       "model_id": "1fbcc62247d6435080ee000d8417bb7a",
       "version_major": 2,
       "version_minor": 0
      },
      "text/plain": [
       "Epoch 18/100 [Val]:   0%|          | 0/88 [00:00<?, ?it/s]"
      ]
     },
     "metadata": {},
     "output_type": "display_data"
    },
    {
     "name": "stdout",
     "output_type": "stream",
     "text": [
      "AUC Calc Warn: Target scores need to be probabilities for multiclass roc_auc, i.e. they should sum up to 1.0 over classes\n",
      "Epoch 18: F1-W = 0.8304, F1-M = 0.8091, Acc = 0.8299, AUC = 0.0000\n",
      "  -> New best F1-weighted: 0.8304. Saving artifacts.\n"
     ]
    },
    {
     "data": {
      "application/vnd.jupyter.widget-view+json": {
       "model_id": "fbd802b6f18443dbbe6c05d8a5e61d1d",
       "version_major": 2,
       "version_minor": 0
      },
      "text/plain": [
       "Epoch 19/100 [Train]:   0%|          | 0/352 [00:00<?, ?it/s]"
      ]
     },
     "metadata": {},
     "output_type": "display_data"
    },
    {
     "data": {
      "application/vnd.jupyter.widget-view+json": {
       "model_id": "c7fab4e0f81a4a8eb33f1077a4bc6b0b",
       "version_major": 2,
       "version_minor": 0
      },
      "text/plain": [
       "Epoch 19/100 [Val]:   0%|          | 0/88 [00:00<?, ?it/s]"
      ]
     },
     "metadata": {},
     "output_type": "display_data"
    },
    {
     "name": "stdout",
     "output_type": "stream",
     "text": [
      "AUC Calc Warn: Target scores need to be probabilities for multiclass roc_auc, i.e. they should sum up to 1.0 over classes\n",
      "Epoch 19: F1-W = 0.8315, F1-M = 0.8120, Acc = 0.8317, AUC = 0.0000\n",
      "  -> New best F1-weighted: 0.8315. Saving artifacts.\n"
     ]
    },
    {
     "data": {
      "application/vnd.jupyter.widget-view+json": {
       "model_id": "15d8b2d4c27e4cfd97f1e21a6b96e1cc",
       "version_major": 2,
       "version_minor": 0
      },
      "text/plain": [
       "Epoch 20/100 [Train]:   0%|          | 0/352 [00:00<?, ?it/s]"
      ]
     },
     "metadata": {},
     "output_type": "display_data"
    },
    {
     "data": {
      "application/vnd.jupyter.widget-view+json": {
       "model_id": "f5ad7d79f9ea4c09bd00b9093a3de622",
       "version_major": 2,
       "version_minor": 0
      },
      "text/plain": [
       "Epoch 20/100 [Val]:   0%|          | 0/88 [00:00<?, ?it/s]"
      ]
     },
     "metadata": {},
     "output_type": "display_data"
    },
    {
     "name": "stdout",
     "output_type": "stream",
     "text": [
      "AUC Calc Warn: Target scores need to be probabilities for multiclass roc_auc, i.e. they should sum up to 1.0 over classes\n",
      "Epoch 20: F1-W = 0.8360, F1-M = 0.8187, Acc = 0.8359, AUC = 0.0000\n",
      "  -> New best F1-weighted: 0.8360. Saving artifacts.\n"
     ]
    },
    {
     "data": {
      "application/vnd.jupyter.widget-view+json": {
       "model_id": "92304ca1781b4c7aa771964890beb580",
       "version_major": 2,
       "version_minor": 0
      },
      "text/plain": [
       "Epoch 21/100 [Train]:   0%|          | 0/352 [00:00<?, ?it/s]"
      ]
     },
     "metadata": {},
     "output_type": "display_data"
    },
    {
     "data": {
      "application/vnd.jupyter.widget-view+json": {
       "model_id": "4c589ff502ed4c30b913aa9ba44cbc28",
       "version_major": 2,
       "version_minor": 0
      },
      "text/plain": [
       "Epoch 21/100 [Val]:   0%|          | 0/88 [00:00<?, ?it/s]"
      ]
     },
     "metadata": {},
     "output_type": "display_data"
    },
    {
     "name": "stdout",
     "output_type": "stream",
     "text": [
      "AUC Calc Warn: Target scores need to be probabilities for multiclass roc_auc, i.e. they should sum up to 1.0 over classes\n",
      "Epoch 21: F1-W = 0.8305, F1-M = 0.8139, Acc = 0.8306, AUC = 0.0000\n"
     ]
    },
    {
     "data": {
      "application/vnd.jupyter.widget-view+json": {
       "model_id": "d5f659ed27d0478580200dbe34f09b35",
       "version_major": 2,
       "version_minor": 0
      },
      "text/plain": [
       "Epoch 22/100 [Train]:   0%|          | 0/352 [00:00<?, ?it/s]"
      ]
     },
     "metadata": {},
     "output_type": "display_data"
    },
    {
     "data": {
      "application/vnd.jupyter.widget-view+json": {
       "model_id": "565825594221442397370c91d00070e5",
       "version_major": 2,
       "version_minor": 0
      },
      "text/plain": [
       "Epoch 22/100 [Val]:   0%|          | 0/88 [00:00<?, ?it/s]"
      ]
     },
     "metadata": {},
     "output_type": "display_data"
    },
    {
     "name": "stdout",
     "output_type": "stream",
     "text": [
      "AUC Calc Warn: Target scores need to be probabilities for multiclass roc_auc, i.e. they should sum up to 1.0 over classes\n",
      "Epoch 22: F1-W = 0.8422, F1-M = 0.8264, Acc = 0.8416, AUC = 0.0000\n",
      "  -> New best F1-weighted: 0.8422. Saving artifacts.\n"
     ]
    },
    {
     "data": {
      "application/vnd.jupyter.widget-view+json": {
       "model_id": "7d7a72f0d289410e8cfce9c7daf7cb5d",
       "version_major": 2,
       "version_minor": 0
      },
      "text/plain": [
       "Epoch 23/100 [Train]:   0%|          | 0/352 [00:00<?, ?it/s]"
      ]
     },
     "metadata": {},
     "output_type": "display_data"
    },
    {
     "data": {
      "application/vnd.jupyter.widget-view+json": {
       "model_id": "e99a6e4fc46f4a99ae4e52dfbbea0929",
       "version_major": 2,
       "version_minor": 0
      },
      "text/plain": [
       "Epoch 23/100 [Val]:   0%|          | 0/88 [00:00<?, ?it/s]"
      ]
     },
     "metadata": {},
     "output_type": "display_data"
    },
    {
     "name": "stdout",
     "output_type": "stream",
     "text": [
      "AUC Calc Warn: Target scores need to be probabilities for multiclass roc_auc, i.e. they should sum up to 1.0 over classes\n",
      "Epoch 23: F1-W = 0.8203, F1-M = 0.8070, Acc = 0.8206, AUC = 0.0000\n"
     ]
    },
    {
     "data": {
      "application/vnd.jupyter.widget-view+json": {
       "model_id": "87eb8613eb4a469da15de96805c5bf6c",
       "version_major": 2,
       "version_minor": 0
      },
      "text/plain": [
       "Epoch 24/100 [Train]:   0%|          | 0/352 [00:00<?, ?it/s]"
      ]
     },
     "metadata": {},
     "output_type": "display_data"
    },
    {
     "data": {
      "application/vnd.jupyter.widget-view+json": {
       "model_id": "582c767101414f0c953d052b613f4c8f",
       "version_major": 2,
       "version_minor": 0
      },
      "text/plain": [
       "Epoch 24/100 [Val]:   0%|          | 0/88 [00:00<?, ?it/s]"
      ]
     },
     "metadata": {},
     "output_type": "display_data"
    },
    {
     "name": "stdout",
     "output_type": "stream",
     "text": [
      "AUC Calc Warn: Target scores need to be probabilities for multiclass roc_auc, i.e. they should sum up to 1.0 over classes\n",
      "Epoch 24: F1-W = 0.8475, F1-M = 0.8320, Acc = 0.8473, AUC = 0.0000\n",
      "  -> New best F1-weighted: 0.8475. Saving artifacts.\n"
     ]
    },
    {
     "data": {
      "application/vnd.jupyter.widget-view+json": {
       "model_id": "90d3bb84f39f44c6af042e823727ff2a",
       "version_major": 2,
       "version_minor": 0
      },
      "text/plain": [
       "Epoch 25/100 [Train]:   0%|          | 0/352 [00:00<?, ?it/s]"
      ]
     },
     "metadata": {},
     "output_type": "display_data"
    },
    {
     "data": {
      "application/vnd.jupyter.widget-view+json": {
       "model_id": "62ef2009df964b3bb5c227096102807b",
       "version_major": 2,
       "version_minor": 0
      },
      "text/plain": [
       "Epoch 25/100 [Val]:   0%|          | 0/88 [00:00<?, ?it/s]"
      ]
     },
     "metadata": {},
     "output_type": "display_data"
    },
    {
     "name": "stdout",
     "output_type": "stream",
     "text": [
      "AUC Calc Warn: Target scores need to be probabilities for multiclass roc_auc, i.e. they should sum up to 1.0 over classes\n",
      "Epoch 25: F1-W = 0.8464, F1-M = 0.8309, Acc = 0.8463, AUC = 0.0000\n"
     ]
    },
    {
     "data": {
      "application/vnd.jupyter.widget-view+json": {
       "model_id": "96da04303aed4e7c9c4130d3ddb2f2ae",
       "version_major": 2,
       "version_minor": 0
      },
      "text/plain": [
       "Epoch 26/100 [Train]:   0%|          | 0/352 [00:00<?, ?it/s]"
      ]
     },
     "metadata": {},
     "output_type": "display_data"
    },
    {
     "data": {
      "application/vnd.jupyter.widget-view+json": {
       "model_id": "1ec5fd2be3ba4b06b339bad66a119935",
       "version_major": 2,
       "version_minor": 0
      },
      "text/plain": [
       "Epoch 26/100 [Val]:   0%|          | 0/88 [00:00<?, ?it/s]"
      ]
     },
     "metadata": {},
     "output_type": "display_data"
    },
    {
     "name": "stdout",
     "output_type": "stream",
     "text": [
      "AUC Calc Warn: Target scores need to be probabilities for multiclass roc_auc, i.e. they should sum up to 1.0 over classes\n",
      "Epoch 26: F1-W = 0.8380, F1-M = 0.8240, Acc = 0.8377, AUC = 0.0000\n"
     ]
    },
    {
     "data": {
      "application/vnd.jupyter.widget-view+json": {
       "model_id": "1536c502e02d4a3f9bb64dcd3f004ce8",
       "version_major": 2,
       "version_minor": 0
      },
      "text/plain": [
       "Epoch 27/100 [Train]:   0%|          | 0/352 [00:00<?, ?it/s]"
      ]
     },
     "metadata": {},
     "output_type": "display_data"
    },
    {
     "data": {
      "application/vnd.jupyter.widget-view+json": {
       "model_id": "d8c5ef6fd6634a5b84f85cae29fcb321",
       "version_major": 2,
       "version_minor": 0
      },
      "text/plain": [
       "Epoch 27/100 [Val]:   0%|          | 0/88 [00:00<?, ?it/s]"
      ]
     },
     "metadata": {},
     "output_type": "display_data"
    },
    {
     "name": "stdout",
     "output_type": "stream",
     "text": [
      "AUC Calc Warn: Target scores need to be probabilities for multiclass roc_auc, i.e. they should sum up to 1.0 over classes\n",
      "Epoch 27: F1-W = 0.8407, F1-M = 0.8250, Acc = 0.8413, AUC = 0.0000\n"
     ]
    },
    {
     "data": {
      "application/vnd.jupyter.widget-view+json": {
       "model_id": "00d5cbd20f264f318ffcaf49bdbb9188",
       "version_major": 2,
       "version_minor": 0
      },
      "text/plain": [
       "Epoch 28/100 [Train]:   0%|          | 0/352 [00:00<?, ?it/s]"
      ]
     },
     "metadata": {},
     "output_type": "display_data"
    },
    {
     "data": {
      "application/vnd.jupyter.widget-view+json": {
       "model_id": "8fb8cea13a7c42bc97f2dbdf679a7693",
       "version_major": 2,
       "version_minor": 0
      },
      "text/plain": [
       "Epoch 28/100 [Val]:   0%|          | 0/88 [00:00<?, ?it/s]"
      ]
     },
     "metadata": {},
     "output_type": "display_data"
    },
    {
     "name": "stdout",
     "output_type": "stream",
     "text": [
      "AUC Calc Warn: Target scores need to be probabilities for multiclass roc_auc, i.e. they should sum up to 1.0 over classes\n",
      "Epoch 28: F1-W = 0.8553, F1-M = 0.8397, Acc = 0.8548, AUC = 0.0000\n",
      "  -> New best F1-weighted: 0.8553. Saving artifacts.\n"
     ]
    },
    {
     "data": {
      "application/vnd.jupyter.widget-view+json": {
       "model_id": "02fda1defa53437196f1b08f65446096",
       "version_major": 2,
       "version_minor": 0
      },
      "text/plain": [
       "Epoch 29/100 [Train]:   0%|          | 0/352 [00:00<?, ?it/s]"
      ]
     },
     "metadata": {},
     "output_type": "display_data"
    },
    {
     "data": {
      "application/vnd.jupyter.widget-view+json": {
       "model_id": "59218fa9ab02426491b20a9c65bece37",
       "version_major": 2,
       "version_minor": 0
      },
      "text/plain": [
       "Epoch 29/100 [Val]:   0%|          | 0/88 [00:00<?, ?it/s]"
      ]
     },
     "metadata": {},
     "output_type": "display_data"
    },
    {
     "name": "stdout",
     "output_type": "stream",
     "text": [
      "AUC Calc Warn: Target scores need to be probabilities for multiclass roc_auc, i.e. they should sum up to 1.0 over classes\n",
      "Epoch 29: F1-W = 0.8558, F1-M = 0.8394, Acc = 0.8559, AUC = 0.0000\n",
      "  -> New best F1-weighted: 0.8558. Saving artifacts.\n"
     ]
    },
    {
     "data": {
      "application/vnd.jupyter.widget-view+json": {
       "model_id": "8aea250808f24dba9ddfe217b1bd76a5",
       "version_major": 2,
       "version_minor": 0
      },
      "text/plain": [
       "Epoch 30/100 [Train]:   0%|          | 0/352 [00:00<?, ?it/s]"
      ]
     },
     "metadata": {},
     "output_type": "display_data"
    },
    {
     "data": {
      "application/vnd.jupyter.widget-view+json": {
       "model_id": "c9c35fd1d5ee49e09a23a79ce71e366a",
       "version_major": 2,
       "version_minor": 0
      },
      "text/plain": [
       "Epoch 30/100 [Val]:   0%|          | 0/88 [00:00<?, ?it/s]"
      ]
     },
     "metadata": {},
     "output_type": "display_data"
    },
    {
     "name": "stdout",
     "output_type": "stream",
     "text": [
      "AUC Calc Warn: Target scores need to be probabilities for multiclass roc_auc, i.e. they should sum up to 1.0 over classes\n",
      "Epoch 30: F1-W = 0.8536, F1-M = 0.8373, Acc = 0.8534, AUC = 0.0000\n"
     ]
    },
    {
     "data": {
      "application/vnd.jupyter.widget-view+json": {
       "model_id": "dbce5856f3b04a0f8a9c568017a3bedb",
       "version_major": 2,
       "version_minor": 0
      },
      "text/plain": [
       "Epoch 31/100 [Train]:   0%|          | 0/352 [00:00<?, ?it/s]"
      ]
     },
     "metadata": {},
     "output_type": "display_data"
    },
    {
     "data": {
      "application/vnd.jupyter.widget-view+json": {
       "model_id": "b120f1059bb54938be601afd09de2b31",
       "version_major": 2,
       "version_minor": 0
      },
      "text/plain": [
       "Epoch 31/100 [Val]:   0%|          | 0/88 [00:00<?, ?it/s]"
      ]
     },
     "metadata": {},
     "output_type": "display_data"
    },
    {
     "name": "stdout",
     "output_type": "stream",
     "text": [
      "AUC Calc Warn: Target scores need to be probabilities for multiclass roc_auc, i.e. they should sum up to 1.0 over classes\n",
      "Epoch 31: F1-W = 0.8547, F1-M = 0.8402, Acc = 0.8544, AUC = 0.0000\n"
     ]
    },
    {
     "data": {
      "application/vnd.jupyter.widget-view+json": {
       "model_id": "50878365279a41599ede57e47565d6c4",
       "version_major": 2,
       "version_minor": 0
      },
      "text/plain": [
       "Epoch 32/100 [Train]:   0%|          | 0/352 [00:00<?, ?it/s]"
      ]
     },
     "metadata": {},
     "output_type": "display_data"
    },
    {
     "data": {
      "application/vnd.jupyter.widget-view+json": {
       "model_id": "3aa2fd2903ed4e5996dbfb454b04c88a",
       "version_major": 2,
       "version_minor": 0
      },
      "text/plain": [
       "Epoch 32/100 [Val]:   0%|          | 0/88 [00:00<?, ?it/s]"
      ]
     },
     "metadata": {},
     "output_type": "display_data"
    },
    {
     "name": "stdout",
     "output_type": "stream",
     "text": [
      "AUC Calc Warn: Target scores need to be probabilities for multiclass roc_auc, i.e. they should sum up to 1.0 over classes\n",
      "Epoch 32: F1-W = 0.8472, F1-M = 0.8284, Acc = 0.8470, AUC = 0.0000\n"
     ]
    },
    {
     "data": {
      "application/vnd.jupyter.widget-view+json": {
       "model_id": "baa3455749aa4d68932bb7b5e67dd399",
       "version_major": 2,
       "version_minor": 0
      },
      "text/plain": [
       "Epoch 33/100 [Train]:   0%|          | 0/352 [00:00<?, ?it/s]"
      ]
     },
     "metadata": {},
     "output_type": "display_data"
    },
    {
     "data": {
      "application/vnd.jupyter.widget-view+json": {
       "model_id": "ad6d31d69c8c462f8209a4050adf38a7",
       "version_major": 2,
       "version_minor": 0
      },
      "text/plain": [
       "Epoch 33/100 [Val]:   0%|          | 0/88 [00:00<?, ?it/s]"
      ]
     },
     "metadata": {},
     "output_type": "display_data"
    },
    {
     "name": "stdout",
     "output_type": "stream",
     "text": [
      "AUC Calc Warn: Target scores need to be probabilities for multiclass roc_auc, i.e. they should sum up to 1.0 over classes\n",
      "Epoch 33: F1-W = 0.8574, F1-M = 0.8419, Acc = 0.8577, AUC = 0.0000\n",
      "  -> New best F1-weighted: 0.8574. Saving artifacts.\n"
     ]
    },
    {
     "data": {
      "application/vnd.jupyter.widget-view+json": {
       "model_id": "d369e5e9963248538d0d09d6703ca96c",
       "version_major": 2,
       "version_minor": 0
      },
      "text/plain": [
       "Epoch 34/100 [Train]:   0%|          | 0/352 [00:00<?, ?it/s]"
      ]
     },
     "metadata": {},
     "output_type": "display_data"
    },
    {
     "data": {
      "application/vnd.jupyter.widget-view+json": {
       "model_id": "3e7be8973bc24366b5c6403d29295db5",
       "version_major": 2,
       "version_minor": 0
      },
      "text/plain": [
       "Epoch 34/100 [Val]:   0%|          | 0/88 [00:00<?, ?it/s]"
      ]
     },
     "metadata": {},
     "output_type": "display_data"
    },
    {
     "name": "stdout",
     "output_type": "stream",
     "text": [
      "AUC Calc Warn: Target scores need to be probabilities for multiclass roc_auc, i.e. they should sum up to 1.0 over classes\n",
      "Epoch 34: F1-W = 0.8510, F1-M = 0.8359, Acc = 0.8509, AUC = 0.0000\n"
     ]
    },
    {
     "data": {
      "application/vnd.jupyter.widget-view+json": {
       "model_id": "f5cf80a0030d41679e69a32b45993f8e",
       "version_major": 2,
       "version_minor": 0
      },
      "text/plain": [
       "Epoch 35/100 [Train]:   0%|          | 0/352 [00:00<?, ?it/s]"
      ]
     },
     "metadata": {},
     "output_type": "display_data"
    },
    {
     "data": {
      "application/vnd.jupyter.widget-view+json": {
       "model_id": "80959fe92ed44f62a89c24486a287a06",
       "version_major": 2,
       "version_minor": 0
      },
      "text/plain": [
       "Epoch 35/100 [Val]:   0%|          | 0/88 [00:00<?, ?it/s]"
      ]
     },
     "metadata": {},
     "output_type": "display_data"
    },
    {
     "name": "stdout",
     "output_type": "stream",
     "text": [
      "AUC Calc Warn: Target scores need to be probabilities for multiclass roc_auc, i.e. they should sum up to 1.0 over classes\n",
      "Epoch 35: F1-W = 0.8515, F1-M = 0.8343, Acc = 0.8512, AUC = 0.0000\n"
     ]
    },
    {
     "data": {
      "application/vnd.jupyter.widget-view+json": {
       "model_id": "665a484d2d3842a8959ee622d528250c",
       "version_major": 2,
       "version_minor": 0
      },
      "text/plain": [
       "Epoch 36/100 [Train]:   0%|          | 0/352 [00:00<?, ?it/s]"
      ]
     },
     "metadata": {},
     "output_type": "display_data"
    },
    {
     "data": {
      "application/vnd.jupyter.widget-view+json": {
       "model_id": "3d9b3cc89d044ee5af6b90ef1660e2e6",
       "version_major": 2,
       "version_minor": 0
      },
      "text/plain": [
       "Epoch 36/100 [Val]:   0%|          | 0/88 [00:00<?, ?it/s]"
      ]
     },
     "metadata": {},
     "output_type": "display_data"
    },
    {
     "name": "stdout",
     "output_type": "stream",
     "text": [
      "AUC Calc Warn: Target scores need to be probabilities for multiclass roc_auc, i.e. they should sum up to 1.0 over classes\n",
      "Epoch 36: F1-W = 0.8609, F1-M = 0.8466, Acc = 0.8605, AUC = 0.0000\n",
      "  -> New best F1-weighted: 0.8609. Saving artifacts.\n"
     ]
    },
    {
     "data": {
      "application/vnd.jupyter.widget-view+json": {
       "model_id": "c166f7c2e1a54d41b160b8bf2f6796ef",
       "version_major": 2,
       "version_minor": 0
      },
      "text/plain": [
       "Epoch 37/100 [Train]:   0%|          | 0/352 [00:00<?, ?it/s]"
      ]
     },
     "metadata": {},
     "output_type": "display_data"
    },
    {
     "data": {
      "application/vnd.jupyter.widget-view+json": {
       "model_id": "ecbfc932780c492fa6e80be8528197fd",
       "version_major": 2,
       "version_minor": 0
      },
      "text/plain": [
       "Epoch 37/100 [Val]:   0%|          | 0/88 [00:00<?, ?it/s]"
      ]
     },
     "metadata": {},
     "output_type": "display_data"
    },
    {
     "name": "stdout",
     "output_type": "stream",
     "text": [
      "AUC Calc Warn: Target scores need to be probabilities for multiclass roc_auc, i.e. they should sum up to 1.0 over classes\n",
      "Epoch 37: F1-W = 0.8533, F1-M = 0.8375, Acc = 0.8523, AUC = 0.0000\n"
     ]
    },
    {
     "data": {
      "application/vnd.jupyter.widget-view+json": {
       "model_id": "5f741d2e29d144148ff1a4db8f90fcc5",
       "version_major": 2,
       "version_minor": 0
      },
      "text/plain": [
       "Epoch 38/100 [Train]:   0%|          | 0/352 [00:00<?, ?it/s]"
      ]
     },
     "metadata": {},
     "output_type": "display_data"
    },
    {
     "data": {
      "application/vnd.jupyter.widget-view+json": {
       "model_id": "f03c28b9d86f4b87a0fa2042fe57be8a",
       "version_major": 2,
       "version_minor": 0
      },
      "text/plain": [
       "Epoch 38/100 [Val]:   0%|          | 0/88 [00:00<?, ?it/s]"
      ]
     },
     "metadata": {},
     "output_type": "display_data"
    },
    {
     "name": "stdout",
     "output_type": "stream",
     "text": [
      "AUC Calc Warn: Target scores need to be probabilities for multiclass roc_auc, i.e. they should sum up to 1.0 over classes\n",
      "Epoch 38: F1-W = 0.8561, F1-M = 0.8427, Acc = 0.8555, AUC = 0.0000\n"
     ]
    },
    {
     "data": {
      "application/vnd.jupyter.widget-view+json": {
       "model_id": "e6650277e42442059432f0eb92bc5d9b",
       "version_major": 2,
       "version_minor": 0
      },
      "text/plain": [
       "Epoch 39/100 [Train]:   0%|          | 0/352 [00:00<?, ?it/s]"
      ]
     },
     "metadata": {},
     "output_type": "display_data"
    },
    {
     "data": {
      "application/vnd.jupyter.widget-view+json": {
       "model_id": "b9c75511eaf545188b7ae51987c9d5a8",
       "version_major": 2,
       "version_minor": 0
      },
      "text/plain": [
       "Epoch 39/100 [Val]:   0%|          | 0/88 [00:00<?, ?it/s]"
      ]
     },
     "metadata": {},
     "output_type": "display_data"
    },
    {
     "name": "stdout",
     "output_type": "stream",
     "text": [
      "AUC Calc Warn: Target scores need to be probabilities for multiclass roc_auc, i.e. they should sum up to 1.0 over classes\n",
      "Epoch 39: F1-W = 0.8539, F1-M = 0.8407, Acc = 0.8534, AUC = 0.0000\n"
     ]
    },
    {
     "data": {
      "application/vnd.jupyter.widget-view+json": {
       "model_id": "048a432768414d668413101254d4da81",
       "version_major": 2,
       "version_minor": 0
      },
      "text/plain": [
       "Epoch 40/100 [Train]:   0%|          | 0/352 [00:00<?, ?it/s]"
      ]
     },
     "metadata": {},
     "output_type": "display_data"
    },
    {
     "data": {
      "application/vnd.jupyter.widget-view+json": {
       "model_id": "41d172e260e6476886f840c15aa6716d",
       "version_major": 2,
       "version_minor": 0
      },
      "text/plain": [
       "Epoch 40/100 [Val]:   0%|          | 0/88 [00:00<?, ?it/s]"
      ]
     },
     "metadata": {},
     "output_type": "display_data"
    },
    {
     "name": "stdout",
     "output_type": "stream",
     "text": [
      "AUC Calc Warn: Target scores need to be probabilities for multiclass roc_auc, i.e. they should sum up to 1.0 over classes\n",
      "Epoch 40: F1-W = 0.8579, F1-M = 0.8444, Acc = 0.8580, AUC = 0.0000\n"
     ]
    },
    {
     "data": {
      "application/vnd.jupyter.widget-view+json": {
       "model_id": "34cad759483244a09b04425b144be17b",
       "version_major": 2,
       "version_minor": 0
      },
      "text/plain": [
       "Epoch 41/100 [Train]:   0%|          | 0/352 [00:00<?, ?it/s]"
      ]
     },
     "metadata": {},
     "output_type": "display_data"
    },
    {
     "data": {
      "application/vnd.jupyter.widget-view+json": {
       "model_id": "c6612ef4924544808c39580affa0f606",
       "version_major": 2,
       "version_minor": 0
      },
      "text/plain": [
       "Epoch 41/100 [Val]:   0%|          | 0/88 [00:00<?, ?it/s]"
      ]
     },
     "metadata": {},
     "output_type": "display_data"
    },
    {
     "name": "stdout",
     "output_type": "stream",
     "text": [
      "AUC Calc Warn: Target scores need to be probabilities for multiclass roc_auc, i.e. they should sum up to 1.0 over classes\n",
      "Epoch 41: F1-W = 0.8594, F1-M = 0.8444, Acc = 0.8591, AUC = 0.0000\n"
     ]
    },
    {
     "data": {
      "application/vnd.jupyter.widget-view+json": {
       "model_id": "427da5c83c0647f7a4762886b21c7309",
       "version_major": 2,
       "version_minor": 0
      },
      "text/plain": [
       "Epoch 42/100 [Train]:   0%|          | 0/352 [00:00<?, ?it/s]"
      ]
     },
     "metadata": {},
     "output_type": "display_data"
    },
    {
     "data": {
      "application/vnd.jupyter.widget-view+json": {
       "model_id": "9cbc48d3711f4450a972319ed6412ab4",
       "version_major": 2,
       "version_minor": 0
      },
      "text/plain": [
       "Epoch 42/100 [Val]:   0%|          | 0/88 [00:00<?, ?it/s]"
      ]
     },
     "metadata": {},
     "output_type": "display_data"
    },
    {
     "name": "stdout",
     "output_type": "stream",
     "text": [
      "AUC Calc Warn: Target scores need to be probabilities for multiclass roc_auc, i.e. they should sum up to 1.0 over classes\n",
      "Epoch 42: F1-W = 0.8561, F1-M = 0.8441, Acc = 0.8559, AUC = 0.0000\n"
     ]
    },
    {
     "data": {
      "application/vnd.jupyter.widget-view+json": {
       "model_id": "890b289eb6244357ba58224f5ddd34e4",
       "version_major": 2,
       "version_minor": 0
      },
      "text/plain": [
       "Epoch 43/100 [Train]:   0%|          | 0/352 [00:00<?, ?it/s]"
      ]
     },
     "metadata": {},
     "output_type": "display_data"
    },
    {
     "data": {
      "application/vnd.jupyter.widget-view+json": {
       "model_id": "a74a5ff8fbe2465ab984d94b7851b5d1",
       "version_major": 2,
       "version_minor": 0
      },
      "text/plain": [
       "Epoch 43/100 [Val]:   0%|          | 0/88 [00:00<?, ?it/s]"
      ]
     },
     "metadata": {},
     "output_type": "display_data"
    },
    {
     "name": "stdout",
     "output_type": "stream",
     "text": [
      "AUC Calc Warn: Target scores need to be probabilities for multiclass roc_auc, i.e. they should sum up to 1.0 over classes\n",
      "Epoch 43: F1-W = 0.8639, F1-M = 0.8520, Acc = 0.8637, AUC = 0.0000\n",
      "  -> New best F1-weighted: 0.8639. Saving artifacts.\n"
     ]
    },
    {
     "data": {
      "application/vnd.jupyter.widget-view+json": {
       "model_id": "14c70badc5204d6a9113b2d5afd956f0",
       "version_major": 2,
       "version_minor": 0
      },
      "text/plain": [
       "Epoch 44/100 [Train]:   0%|          | 0/352 [00:00<?, ?it/s]"
      ]
     },
     "metadata": {},
     "output_type": "display_data"
    },
    {
     "data": {
      "application/vnd.jupyter.widget-view+json": {
       "model_id": "e781ef7aa092465d9b98bce06a910d02",
       "version_major": 2,
       "version_minor": 0
      },
      "text/plain": [
       "Epoch 44/100 [Val]:   0%|          | 0/88 [00:00<?, ?it/s]"
      ]
     },
     "metadata": {},
     "output_type": "display_data"
    },
    {
     "name": "stdout",
     "output_type": "stream",
     "text": [
      "AUC Calc Warn: Target scores need to be probabilities for multiclass roc_auc, i.e. they should sum up to 1.0 over classes\n",
      "Epoch 44: F1-W = 0.8656, F1-M = 0.8534, Acc = 0.8655, AUC = 0.0000\n",
      "  -> New best F1-weighted: 0.8656. Saving artifacts.\n"
     ]
    },
    {
     "data": {
      "application/vnd.jupyter.widget-view+json": {
       "model_id": "67755fde21a74cba89903f0a127fc221",
       "version_major": 2,
       "version_minor": 0
      },
      "text/plain": [
       "Epoch 45/100 [Train]:   0%|          | 0/352 [00:00<?, ?it/s]"
      ]
     },
     "metadata": {},
     "output_type": "display_data"
    },
    {
     "data": {
      "application/vnd.jupyter.widget-view+json": {
       "model_id": "d9c5e6f1a92644dabaa7e3585e1f97be",
       "version_major": 2,
       "version_minor": 0
      },
      "text/plain": [
       "Epoch 45/100 [Val]:   0%|          | 0/88 [00:00<?, ?it/s]"
      ]
     },
     "metadata": {},
     "output_type": "display_data"
    },
    {
     "name": "stdout",
     "output_type": "stream",
     "text": [
      "AUC Calc Warn: Target scores need to be probabilities for multiclass roc_auc, i.e. they should sum up to 1.0 over classes\n",
      "Epoch 45: F1-W = 0.8664, F1-M = 0.8547, Acc = 0.8662, AUC = 0.0000\n",
      "  -> New best F1-weighted: 0.8664. Saving artifacts.\n"
     ]
    },
    {
     "data": {
      "application/vnd.jupyter.widget-view+json": {
       "model_id": "c96170fce1794c3f95c17e4c09400f71",
       "version_major": 2,
       "version_minor": 0
      },
      "text/plain": [
       "Epoch 46/100 [Train]:   0%|          | 0/352 [00:00<?, ?it/s]"
      ]
     },
     "metadata": {},
     "output_type": "display_data"
    },
    {
     "data": {
      "application/vnd.jupyter.widget-view+json": {
       "model_id": "be0363a15eac42de8a7ba39de8e35d01",
       "version_major": 2,
       "version_minor": 0
      },
      "text/plain": [
       "Epoch 46/100 [Val]:   0%|          | 0/88 [00:00<?, ?it/s]"
      ]
     },
     "metadata": {},
     "output_type": "display_data"
    },
    {
     "name": "stdout",
     "output_type": "stream",
     "text": [
      "AUC Calc Warn: Target scores need to be probabilities for multiclass roc_auc, i.e. they should sum up to 1.0 over classes\n",
      "Epoch 46: F1-W = 0.8634, F1-M = 0.8514, Acc = 0.8633, AUC = 0.0000\n"
     ]
    },
    {
     "data": {
      "application/vnd.jupyter.widget-view+json": {
       "model_id": "dc09fe4d41274dafb4ac78f040020501",
       "version_major": 2,
       "version_minor": 0
      },
      "text/plain": [
       "Epoch 47/100 [Train]:   0%|          | 0/352 [00:00<?, ?it/s]"
      ]
     },
     "metadata": {},
     "output_type": "display_data"
    },
    {
     "data": {
      "application/vnd.jupyter.widget-view+json": {
       "model_id": "0690db1fa2444b2d8733d8c1414da9f9",
       "version_major": 2,
       "version_minor": 0
      },
      "text/plain": [
       "Epoch 47/100 [Val]:   0%|          | 0/88 [00:00<?, ?it/s]"
      ]
     },
     "metadata": {},
     "output_type": "display_data"
    },
    {
     "name": "stdout",
     "output_type": "stream",
     "text": [
      "AUC Calc Warn: Target scores need to be probabilities for multiclass roc_auc, i.e. they should sum up to 1.0 over classes\n",
      "Epoch 47: F1-W = 0.8623, F1-M = 0.8505, Acc = 0.8623, AUC = 0.0000\n"
     ]
    },
    {
     "data": {
      "application/vnd.jupyter.widget-view+json": {
       "model_id": "d9a8a60996ef4933b4603f79cbdd8d81",
       "version_major": 2,
       "version_minor": 0
      },
      "text/plain": [
       "Epoch 48/100 [Train]:   0%|          | 0/352 [00:00<?, ?it/s]"
      ]
     },
     "metadata": {},
     "output_type": "display_data"
    },
    {
     "data": {
      "application/vnd.jupyter.widget-view+json": {
       "model_id": "91fe2e66d9d24d7fbae9028eae8ead28",
       "version_major": 2,
       "version_minor": 0
      },
      "text/plain": [
       "Epoch 48/100 [Val]:   0%|          | 0/88 [00:00<?, ?it/s]"
      ]
     },
     "metadata": {},
     "output_type": "display_data"
    },
    {
     "name": "stdout",
     "output_type": "stream",
     "text": [
      "AUC Calc Warn: Target scores need to be probabilities for multiclass roc_auc, i.e. they should sum up to 1.0 over classes\n",
      "Epoch 48: F1-W = 0.8613, F1-M = 0.8490, Acc = 0.8612, AUC = 0.0000\n"
     ]
    },
    {
     "data": {
      "application/vnd.jupyter.widget-view+json": {
       "model_id": "de735786b567414a94b912c6ceb3d794",
       "version_major": 2,
       "version_minor": 0
      },
      "text/plain": [
       "Epoch 49/100 [Train]:   0%|          | 0/352 [00:00<?, ?it/s]"
      ]
     },
     "metadata": {},
     "output_type": "display_data"
    },
    {
     "data": {
      "application/vnd.jupyter.widget-view+json": {
       "model_id": "68a131936e3d40debf85b2d6fa77105f",
       "version_major": 2,
       "version_minor": 0
      },
      "text/plain": [
       "Epoch 49/100 [Val]:   0%|          | 0/88 [00:00<?, ?it/s]"
      ]
     },
     "metadata": {},
     "output_type": "display_data"
    },
    {
     "name": "stdout",
     "output_type": "stream",
     "text": [
      "AUC Calc Warn: Target scores need to be probabilities for multiclass roc_auc, i.e. they should sum up to 1.0 over classes\n",
      "Epoch 49: F1-W = 0.8634, F1-M = 0.8510, Acc = 0.8633, AUC = 0.0000\n"
     ]
    },
    {
     "data": {
      "application/vnd.jupyter.widget-view+json": {
       "model_id": "64db34737a344c86a394e58baee2a115",
       "version_major": 2,
       "version_minor": 0
      },
      "text/plain": [
       "Epoch 50/100 [Train]:   0%|          | 0/352 [00:00<?, ?it/s]"
      ]
     },
     "metadata": {},
     "output_type": "display_data"
    },
    {
     "data": {
      "application/vnd.jupyter.widget-view+json": {
       "model_id": "918d6c62254b4c0dbc9f71145c05fc69",
       "version_major": 2,
       "version_minor": 0
      },
      "text/plain": [
       "Epoch 50/100 [Val]:   0%|          | 0/88 [00:00<?, ?it/s]"
      ]
     },
     "metadata": {},
     "output_type": "display_data"
    },
    {
     "name": "stdout",
     "output_type": "stream",
     "text": [
      "AUC Calc Warn: Target scores need to be probabilities for multiclass roc_auc, i.e. they should sum up to 1.0 over classes\n",
      "Epoch 50: F1-W = 0.8648, F1-M = 0.8526, Acc = 0.8648, AUC = 0.0000\n"
     ]
    },
    {
     "data": {
      "application/vnd.jupyter.widget-view+json": {
       "model_id": "d921045869c84062937118cebd3cc7de",
       "version_major": 2,
       "version_minor": 0
      },
      "text/plain": [
       "Epoch 51/100 [Train]:   0%|          | 0/352 [00:00<?, ?it/s]"
      ]
     },
     "metadata": {},
     "output_type": "display_data"
    },
    {
     "data": {
      "application/vnd.jupyter.widget-view+json": {
       "model_id": "a8ea843f7b88448c8ddca1ff90a7f247",
       "version_major": 2,
       "version_minor": 0
      },
      "text/plain": [
       "Epoch 51/100 [Val]:   0%|          | 0/88 [00:00<?, ?it/s]"
      ]
     },
     "metadata": {},
     "output_type": "display_data"
    },
    {
     "name": "stdout",
     "output_type": "stream",
     "text": [
      "AUC Calc Warn: Target scores need to be probabilities for multiclass roc_auc, i.e. they should sum up to 1.0 over classes\n",
      "Epoch 51: F1-W = 0.8610, F1-M = 0.8491, Acc = 0.8609, AUC = 0.0000\n"
     ]
    },
    {
     "data": {
      "application/vnd.jupyter.widget-view+json": {
       "model_id": "8ae61946756c4f3f90fc54554b9ab66e",
       "version_major": 2,
       "version_minor": 0
      },
      "text/plain": [
       "Epoch 52/100 [Train]:   0%|          | 0/352 [00:00<?, ?it/s]"
      ]
     },
     "metadata": {},
     "output_type": "display_data"
    },
    {
     "data": {
      "application/vnd.jupyter.widget-view+json": {
       "model_id": "c0aa80765186412fbc8fd750f004cbae",
       "version_major": 2,
       "version_minor": 0
      },
      "text/plain": [
       "Epoch 52/100 [Val]:   0%|          | 0/88 [00:00<?, ?it/s]"
      ]
     },
     "metadata": {},
     "output_type": "display_data"
    },
    {
     "name": "stdout",
     "output_type": "stream",
     "text": [
      "AUC Calc Warn: Target scores need to be probabilities for multiclass roc_auc, i.e. they should sum up to 1.0 over classes\n",
      "Epoch 52: F1-W = 0.8633, F1-M = 0.8505, Acc = 0.8633, AUC = 0.0000\n"
     ]
    },
    {
     "data": {
      "application/vnd.jupyter.widget-view+json": {
       "model_id": "796d93c1e1f54236be9737c3e511f690",
       "version_major": 2,
       "version_minor": 0
      },
      "text/plain": [
       "Epoch 53/100 [Train]:   0%|          | 0/352 [00:00<?, ?it/s]"
      ]
     },
     "metadata": {},
     "output_type": "display_data"
    },
    {
     "data": {
      "application/vnd.jupyter.widget-view+json": {
       "model_id": "d4cf169df7ef4b8d8fad387b090adef4",
       "version_major": 2,
       "version_minor": 0
      },
      "text/plain": [
       "Epoch 53/100 [Val]:   0%|          | 0/88 [00:00<?, ?it/s]"
      ]
     },
     "metadata": {},
     "output_type": "display_data"
    },
    {
     "name": "stdout",
     "output_type": "stream",
     "text": [
      "AUC Calc Warn: Target scores need to be probabilities for multiclass roc_auc, i.e. they should sum up to 1.0 over classes\n",
      "Epoch 53: F1-W = 0.8631, F1-M = 0.8516, Acc = 0.8630, AUC = 0.0000\n"
     ]
    },
    {
     "data": {
      "application/vnd.jupyter.widget-view+json": {
       "model_id": "a1b3fa680c964661a71dcf2b6c89d0b4",
       "version_major": 2,
       "version_minor": 0
      },
      "text/plain": [
       "Epoch 54/100 [Train]:   0%|          | 0/352 [00:00<?, ?it/s]"
      ]
     },
     "metadata": {},
     "output_type": "display_data"
    },
    {
     "data": {
      "application/vnd.jupyter.widget-view+json": {
       "model_id": "756847560b734a30a077369ddd557592",
       "version_major": 2,
       "version_minor": 0
      },
      "text/plain": [
       "Epoch 54/100 [Val]:   0%|          | 0/88 [00:00<?, ?it/s]"
      ]
     },
     "metadata": {},
     "output_type": "display_data"
    },
    {
     "name": "stdout",
     "output_type": "stream",
     "text": [
      "AUC Calc Warn: Target scores need to be probabilities for multiclass roc_auc, i.e. they should sum up to 1.0 over classes\n",
      "Epoch 54: F1-W = 0.8659, F1-M = 0.8542, Acc = 0.8658, AUC = 0.0000\n"
     ]
    },
    {
     "data": {
      "application/vnd.jupyter.widget-view+json": {
       "model_id": "b8f3518e78c1490085d4ff37f889387a",
       "version_major": 2,
       "version_minor": 0
      },
      "text/plain": [
       "Epoch 55/100 [Train]:   0%|          | 0/352 [00:00<?, ?it/s]"
      ]
     },
     "metadata": {},
     "output_type": "display_data"
    },
    {
     "data": {
      "application/vnd.jupyter.widget-view+json": {
       "model_id": "3a67f1cf648848eba630024524b9ed38",
       "version_major": 2,
       "version_minor": 0
      },
      "text/plain": [
       "Epoch 55/100 [Val]:   0%|          | 0/88 [00:00<?, ?it/s]"
      ]
     },
     "metadata": {},
     "output_type": "display_data"
    },
    {
     "name": "stdout",
     "output_type": "stream",
     "text": [
      "AUC Calc Warn: Target scores need to be probabilities for multiclass roc_auc, i.e. they should sum up to 1.0 over classes\n",
      "Epoch 55: F1-W = 0.8650, F1-M = 0.8540, Acc = 0.8648, AUC = 0.0000\n"
     ]
    },
    {
     "data": {
      "application/vnd.jupyter.widget-view+json": {
       "model_id": "5be8c5a46b9e4847bd2c5aba440ab6d1",
       "version_major": 2,
       "version_minor": 0
      },
      "text/plain": [
       "Epoch 56/100 [Train]:   0%|          | 0/352 [00:00<?, ?it/s]"
      ]
     },
     "metadata": {},
     "output_type": "display_data"
    },
    {
     "data": {
      "application/vnd.jupyter.widget-view+json": {
       "model_id": "04b1ee27600f416f9adb42b6f24daff7",
       "version_major": 2,
       "version_minor": 0
      },
      "text/plain": [
       "Epoch 56/100 [Val]:   0%|          | 0/88 [00:00<?, ?it/s]"
      ]
     },
     "metadata": {},
     "output_type": "display_data"
    },
    {
     "name": "stdout",
     "output_type": "stream",
     "text": [
      "AUC Calc Warn: Target scores need to be probabilities for multiclass roc_auc, i.e. they should sum up to 1.0 over classes\n",
      "Epoch 56: F1-W = 0.8678, F1-M = 0.8565, Acc = 0.8676, AUC = 0.0000\n",
      "  -> New best F1-weighted: 0.8678. Saving artifacts.\n"
     ]
    },
    {
     "data": {
      "application/vnd.jupyter.widget-view+json": {
       "model_id": "de2df2e86f1d49e5a1790cedbe10d5b6",
       "version_major": 2,
       "version_minor": 0
      },
      "text/plain": [
       "Epoch 57/100 [Train]:   0%|          | 0/352 [00:00<?, ?it/s]"
      ]
     },
     "metadata": {},
     "output_type": "display_data"
    },
    {
     "data": {
      "application/vnd.jupyter.widget-view+json": {
       "model_id": "9d9bc21d0ec04f2289934620b51cab10",
       "version_major": 2,
       "version_minor": 0
      },
      "text/plain": [
       "Epoch 57/100 [Val]:   0%|          | 0/88 [00:00<?, ?it/s]"
      ]
     },
     "metadata": {},
     "output_type": "display_data"
    },
    {
     "name": "stdout",
     "output_type": "stream",
     "text": [
      "AUC Calc Warn: Target scores need to be probabilities for multiclass roc_auc, i.e. they should sum up to 1.0 over classes\n",
      "Epoch 57: F1-W = 0.8692, F1-M = 0.8588, Acc = 0.8690, AUC = 0.0000\n",
      "  -> New best F1-weighted: 0.8692. Saving artifacts.\n"
     ]
    },
    {
     "data": {
      "application/vnd.jupyter.widget-view+json": {
       "model_id": "7fdd66936df74ca98c5ba077f7da31d2",
       "version_major": 2,
       "version_minor": 0
      },
      "text/plain": [
       "Epoch 58/100 [Train]:   0%|          | 0/352 [00:00<?, ?it/s]"
      ]
     },
     "metadata": {},
     "output_type": "display_data"
    },
    {
     "data": {
      "application/vnd.jupyter.widget-view+json": {
       "model_id": "b9d9ad18e52145b59254dbc43b6b368f",
       "version_major": 2,
       "version_minor": 0
      },
      "text/plain": [
       "Epoch 58/100 [Val]:   0%|          | 0/88 [00:00<?, ?it/s]"
      ]
     },
     "metadata": {},
     "output_type": "display_data"
    },
    {
     "name": "stdout",
     "output_type": "stream",
     "text": [
      "AUC Calc Warn: Target scores need to be probabilities for multiclass roc_auc, i.e. they should sum up to 1.0 over classes\n",
      "Epoch 58: F1-W = 0.8637, F1-M = 0.8525, Acc = 0.8637, AUC = 0.0000\n"
     ]
    },
    {
     "data": {
      "application/vnd.jupyter.widget-view+json": {
       "model_id": "1f3d632b65ad4a06825b819542eba9d0",
       "version_major": 2,
       "version_minor": 0
      },
      "text/plain": [
       "Epoch 59/100 [Train]:   0%|          | 0/352 [00:00<?, ?it/s]"
      ]
     },
     "metadata": {},
     "output_type": "display_data"
    },
    {
     "data": {
      "application/vnd.jupyter.widget-view+json": {
       "model_id": "b24d15497258410f9f30443bbda7ae23",
       "version_major": 2,
       "version_minor": 0
      },
      "text/plain": [
       "Epoch 59/100 [Val]:   0%|          | 0/88 [00:00<?, ?it/s]"
      ]
     },
     "metadata": {},
     "output_type": "display_data"
    },
    {
     "name": "stdout",
     "output_type": "stream",
     "text": [
      "AUC Calc Warn: Target scores need to be probabilities for multiclass roc_auc, i.e. they should sum up to 1.0 over classes\n",
      "Epoch 59: F1-W = 0.8648, F1-M = 0.8529, Acc = 0.8648, AUC = 0.0000\n"
     ]
    },
    {
     "data": {
      "application/vnd.jupyter.widget-view+json": {
       "model_id": "b941c7f50cb04d9b80ccd32cdabd0167",
       "version_major": 2,
       "version_minor": 0
      },
      "text/plain": [
       "Epoch 60/100 [Train]:   0%|          | 0/352 [00:00<?, ?it/s]"
      ]
     },
     "metadata": {},
     "output_type": "display_data"
    },
    {
     "data": {
      "application/vnd.jupyter.widget-view+json": {
       "model_id": "a97ec9cb74134cc28696cc1c000c819d",
       "version_major": 2,
       "version_minor": 0
      },
      "text/plain": [
       "Epoch 60/100 [Val]:   0%|          | 0/88 [00:00<?, ?it/s]"
      ]
     },
     "metadata": {},
     "output_type": "display_data"
    },
    {
     "name": "stdout",
     "output_type": "stream",
     "text": [
      "AUC Calc Warn: Target scores need to be probabilities for multiclass roc_auc, i.e. they should sum up to 1.0 over classes\n",
      "Epoch 60: F1-W = 0.8634, F1-M = 0.8522, Acc = 0.8633, AUC = 0.0000\n"
     ]
    },
    {
     "data": {
      "application/vnd.jupyter.widget-view+json": {
       "model_id": "1ea4b4a5226b431f8ef61da95ce56248",
       "version_major": 2,
       "version_minor": 0
      },
      "text/plain": [
       "Epoch 61/100 [Train]:   0%|          | 0/352 [00:00<?, ?it/s]"
      ]
     },
     "metadata": {},
     "output_type": "display_data"
    },
    {
     "data": {
      "application/vnd.jupyter.widget-view+json": {
       "model_id": "c81bfba3766544ada579171798e9f358",
       "version_major": 2,
       "version_minor": 0
      },
      "text/plain": [
       "Epoch 61/100 [Val]:   0%|          | 0/88 [00:00<?, ?it/s]"
      ]
     },
     "metadata": {},
     "output_type": "display_data"
    },
    {
     "name": "stdout",
     "output_type": "stream",
     "text": [
      "AUC Calc Warn: Target scores need to be probabilities for multiclass roc_auc, i.e. they should sum up to 1.0 over classes\n",
      "Epoch 61: F1-W = 0.8663, F1-M = 0.8549, Acc = 0.8662, AUC = 0.0000\n"
     ]
    },
    {
     "data": {
      "application/vnd.jupyter.widget-view+json": {
       "model_id": "b9e72f746a254b55bfdfae50df734019",
       "version_major": 2,
       "version_minor": 0
      },
      "text/plain": [
       "Epoch 62/100 [Train]:   0%|          | 0/352 [00:00<?, ?it/s]"
      ]
     },
     "metadata": {},
     "output_type": "display_data"
    },
    {
     "data": {
      "application/vnd.jupyter.widget-view+json": {
       "model_id": "09349281a14444b08982db20eab7abcc",
       "version_major": 2,
       "version_minor": 0
      },
      "text/plain": [
       "Epoch 62/100 [Val]:   0%|          | 0/88 [00:00<?, ?it/s]"
      ]
     },
     "metadata": {},
     "output_type": "display_data"
    },
    {
     "name": "stdout",
     "output_type": "stream",
     "text": [
      "AUC Calc Warn: Target scores need to be probabilities for multiclass roc_auc, i.e. they should sum up to 1.0 over classes\n",
      "Epoch 62: F1-W = 0.8659, F1-M = 0.8536, Acc = 0.8658, AUC = 0.0000\n"
     ]
    },
    {
     "data": {
      "application/vnd.jupyter.widget-view+json": {
       "model_id": "6e03b39b9e79489a87742c1ee85082b7",
       "version_major": 2,
       "version_minor": 0
      },
      "text/plain": [
       "Epoch 63/100 [Train]:   0%|          | 0/352 [00:00<?, ?it/s]"
      ]
     },
     "metadata": {},
     "output_type": "display_data"
    },
    {
     "data": {
      "application/vnd.jupyter.widget-view+json": {
       "model_id": "5e28a995a28044afa4a5c31a506f5b35",
       "version_major": 2,
       "version_minor": 0
      },
      "text/plain": [
       "Epoch 63/100 [Val]:   0%|          | 0/88 [00:00<?, ?it/s]"
      ]
     },
     "metadata": {},
     "output_type": "display_data"
    },
    {
     "name": "stdout",
     "output_type": "stream",
     "text": [
      "AUC Calc Warn: Target scores need to be probabilities for multiclass roc_auc, i.e. they should sum up to 1.0 over classes\n",
      "Epoch 63: F1-W = 0.8652, F1-M = 0.8546, Acc = 0.8651, AUC = 0.0000\n"
     ]
    },
    {
     "data": {
      "application/vnd.jupyter.widget-view+json": {
       "model_id": "bc2d79514cfc452388d96c60a84bfed1",
       "version_major": 2,
       "version_minor": 0
      },
      "text/plain": [
       "Epoch 64/100 [Train]:   0%|          | 0/352 [00:00<?, ?it/s]"
      ]
     },
     "metadata": {},
     "output_type": "display_data"
    },
    {
     "data": {
      "application/vnd.jupyter.widget-view+json": {
       "model_id": "c210393b2c264209b7cb0d4668e4cbb6",
       "version_major": 2,
       "version_minor": 0
      },
      "text/plain": [
       "Epoch 64/100 [Val]:   0%|          | 0/88 [00:00<?, ?it/s]"
      ]
     },
     "metadata": {},
     "output_type": "display_data"
    },
    {
     "name": "stdout",
     "output_type": "stream",
     "text": [
      "AUC Calc Warn: Target scores need to be probabilities for multiclass roc_auc, i.e. they should sum up to 1.0 over classes\n",
      "Epoch 64: F1-W = 0.8639, F1-M = 0.8521, Acc = 0.8637, AUC = 0.0000\n"
     ]
    },
    {
     "data": {
      "application/vnd.jupyter.widget-view+json": {
       "model_id": "b925851a891d45b98e5dd2845ce4f37a",
       "version_major": 2,
       "version_minor": 0
      },
      "text/plain": [
       "Epoch 65/100 [Train]:   0%|          | 0/352 [00:00<?, ?it/s]"
      ]
     },
     "metadata": {},
     "output_type": "display_data"
    },
    {
     "data": {
      "application/vnd.jupyter.widget-view+json": {
       "model_id": "dfddfc0f1b6948a2b5f14733aa31ee70",
       "version_major": 2,
       "version_minor": 0
      },
      "text/plain": [
       "Epoch 65/100 [Val]:   0%|          | 0/88 [00:00<?, ?it/s]"
      ]
     },
     "metadata": {},
     "output_type": "display_data"
    },
    {
     "name": "stdout",
     "output_type": "stream",
     "text": [
      "AUC Calc Warn: Target scores need to be probabilities for multiclass roc_auc, i.e. they should sum up to 1.0 over classes\n",
      "Epoch 65: F1-W = 0.8654, F1-M = 0.8531, Acc = 0.8651, AUC = 0.0000\n"
     ]
    },
    {
     "data": {
      "application/vnd.jupyter.widget-view+json": {
       "model_id": "54824fd1260e47d6b6db841616cca10b",
       "version_major": 2,
       "version_minor": 0
      },
      "text/plain": [
       "Epoch 66/100 [Train]:   0%|          | 0/352 [00:00<?, ?it/s]"
      ]
     },
     "metadata": {},
     "output_type": "display_data"
    },
    {
     "data": {
      "application/vnd.jupyter.widget-view+json": {
       "model_id": "e0a91a45216e47f8a747cecf0b73043b",
       "version_major": 2,
       "version_minor": 0
      },
      "text/plain": [
       "Epoch 66/100 [Val]:   0%|          | 0/88 [00:00<?, ?it/s]"
      ]
     },
     "metadata": {},
     "output_type": "display_data"
    },
    {
     "name": "stdout",
     "output_type": "stream",
     "text": [
      "AUC Calc Warn: Target scores need to be probabilities for multiclass roc_auc, i.e. they should sum up to 1.0 over classes\n",
      "Epoch 66: F1-W = 0.8629, F1-M = 0.8516, Acc = 0.8626, AUC = 0.0000\n"
     ]
    },
    {
     "data": {
      "application/vnd.jupyter.widget-view+json": {
       "model_id": "dac27c4bf8e94fbbafbba118212e562a",
       "version_major": 2,
       "version_minor": 0
      },
      "text/plain": [
       "Epoch 67/100 [Train]:   0%|          | 0/352 [00:00<?, ?it/s]"
      ]
     },
     "metadata": {},
     "output_type": "display_data"
    },
    {
     "data": {
      "application/vnd.jupyter.widget-view+json": {
       "model_id": "86be84b0e8c64ae8bd97301743aff556",
       "version_major": 2,
       "version_minor": 0
      },
      "text/plain": [
       "Epoch 67/100 [Val]:   0%|          | 0/88 [00:00<?, ?it/s]"
      ]
     },
     "metadata": {},
     "output_type": "display_data"
    },
    {
     "name": "stdout",
     "output_type": "stream",
     "text": [
      "AUC Calc Warn: Target scores need to be probabilities for multiclass roc_auc, i.e. they should sum up to 1.0 over classes\n",
      "Epoch 67: F1-W = 0.8667, F1-M = 0.8543, Acc = 0.8665, AUC = 0.0000\n"
     ]
    },
    {
     "data": {
      "application/vnd.jupyter.widget-view+json": {
       "model_id": "e51e9fb4b4434789888826984c15bc76",
       "version_major": 2,
       "version_minor": 0
      },
      "text/plain": [
       "Epoch 68/100 [Train]:   0%|          | 0/352 [00:00<?, ?it/s]"
      ]
     },
     "metadata": {},
     "output_type": "display_data"
    },
    {
     "data": {
      "application/vnd.jupyter.widget-view+json": {
       "model_id": "3cb31da50bcb4828958de34362431072",
       "version_major": 2,
       "version_minor": 0
      },
      "text/plain": [
       "Epoch 68/100 [Val]:   0%|          | 0/88 [00:00<?, ?it/s]"
      ]
     },
     "metadata": {},
     "output_type": "display_data"
    },
    {
     "name": "stdout",
     "output_type": "stream",
     "text": [
      "AUC Calc Warn: Target scores need to be probabilities for multiclass roc_auc, i.e. they should sum up to 1.0 over classes\n",
      "Epoch 68: F1-W = 0.8652, F1-M = 0.8540, Acc = 0.8651, AUC = 0.0000\n"
     ]
    },
    {
     "data": {
      "application/vnd.jupyter.widget-view+json": {
       "model_id": "1750c1522d4f4ab2bd88aeebe8b97765",
       "version_major": 2,
       "version_minor": 0
      },
      "text/plain": [
       "Epoch 69/100 [Train]:   0%|          | 0/352 [00:00<?, ?it/s]"
      ]
     },
     "metadata": {},
     "output_type": "display_data"
    },
    {
     "data": {
      "application/vnd.jupyter.widget-view+json": {
       "model_id": "229dd12b4baa4bbd86199afe88c43ba6",
       "version_major": 2,
       "version_minor": 0
      },
      "text/plain": [
       "Epoch 69/100 [Val]:   0%|          | 0/88 [00:00<?, ?it/s]"
      ]
     },
     "metadata": {},
     "output_type": "display_data"
    },
    {
     "name": "stdout",
     "output_type": "stream",
     "text": [
      "AUC Calc Warn: Target scores need to be probabilities for multiclass roc_auc, i.e. they should sum up to 1.0 over classes\n",
      "Epoch 69: F1-W = 0.8641, F1-M = 0.8531, Acc = 0.8641, AUC = 0.0000\n"
     ]
    },
    {
     "data": {
      "application/vnd.jupyter.widget-view+json": {
       "model_id": "1ceafa503dcc4acb878292c110908e39",
       "version_major": 2,
       "version_minor": 0
      },
      "text/plain": [
       "Epoch 70/100 [Train]:   0%|          | 0/352 [00:00<?, ?it/s]"
      ]
     },
     "metadata": {},
     "output_type": "display_data"
    },
    {
     "data": {
      "application/vnd.jupyter.widget-view+json": {
       "model_id": "5556955cfd0d4cc0a2e6e5b767c52d72",
       "version_major": 2,
       "version_minor": 0
      },
      "text/plain": [
       "Epoch 70/100 [Val]:   0%|          | 0/88 [00:00<?, ?it/s]"
      ]
     },
     "metadata": {},
     "output_type": "display_data"
    },
    {
     "name": "stdout",
     "output_type": "stream",
     "text": [
      "AUC Calc Warn: Target scores need to be probabilities for multiclass roc_auc, i.e. they should sum up to 1.0 over classes\n",
      "Epoch 70: F1-W = 0.8646, F1-M = 0.8535, Acc = 0.8644, AUC = 0.0000\n"
     ]
    },
    {
     "data": {
      "application/vnd.jupyter.widget-view+json": {
       "model_id": "c06e6d4cbe0e40e2a69e58b4f16c3d27",
       "version_major": 2,
       "version_minor": 0
      },
      "text/plain": [
       "Epoch 71/100 [Train]:   0%|          | 0/352 [00:00<?, ?it/s]"
      ]
     },
     "metadata": {},
     "output_type": "display_data"
    },
    {
     "data": {
      "application/vnd.jupyter.widget-view+json": {
       "model_id": "4046814d4ec54c01b2359323c8e3849a",
       "version_major": 2,
       "version_minor": 0
      },
      "text/plain": [
       "Epoch 71/100 [Val]:   0%|          | 0/88 [00:00<?, ?it/s]"
      ]
     },
     "metadata": {},
     "output_type": "display_data"
    },
    {
     "name": "stdout",
     "output_type": "stream",
     "text": [
      "AUC Calc Warn: Target scores need to be probabilities for multiclass roc_auc, i.e. they should sum up to 1.0 over classes\n",
      "Epoch 71: F1-W = 0.8655, F1-M = 0.8544, Acc = 0.8655, AUC = 0.0000\n"
     ]
    },
    {
     "data": {
      "application/vnd.jupyter.widget-view+json": {
       "model_id": "4c84bc441ef84642b575021eb406f629",
       "version_major": 2,
       "version_minor": 0
      },
      "text/plain": [
       "Epoch 72/100 [Train]:   0%|          | 0/352 [00:00<?, ?it/s]"
      ]
     },
     "metadata": {},
     "output_type": "display_data"
    },
    {
     "data": {
      "application/vnd.jupyter.widget-view+json": {
       "model_id": "77a1c85341a1464f88753bc9f19d213d",
       "version_major": 2,
       "version_minor": 0
      },
      "text/plain": [
       "Epoch 72/100 [Val]:   0%|          | 0/88 [00:00<?, ?it/s]"
      ]
     },
     "metadata": {},
     "output_type": "display_data"
    },
    {
     "name": "stdout",
     "output_type": "stream",
     "text": [
      "AUC Calc Warn: Target scores need to be probabilities for multiclass roc_auc, i.e. they should sum up to 1.0 over classes\n",
      "Epoch 72: F1-W = 0.8636, F1-M = 0.8520, Acc = 0.8633, AUC = 0.0000\n"
     ]
    },
    {
     "data": {
      "application/vnd.jupyter.widget-view+json": {
       "model_id": "220748b24c90470a99a510fc9f35a1cb",
       "version_major": 2,
       "version_minor": 0
      },
      "text/plain": [
       "Epoch 73/100 [Train]:   0%|          | 0/352 [00:00<?, ?it/s]"
      ]
     },
     "metadata": {},
     "output_type": "display_data"
    },
    {
     "data": {
      "application/vnd.jupyter.widget-view+json": {
       "model_id": "29ec4fca229740ac87359c86b5a1dd4e",
       "version_major": 2,
       "version_minor": 0
      },
      "text/plain": [
       "Epoch 73/100 [Val]:   0%|          | 0/88 [00:00<?, ?it/s]"
      ]
     },
     "metadata": {},
     "output_type": "display_data"
    },
    {
     "name": "stdout",
     "output_type": "stream",
     "text": [
      "AUC Calc Warn: Target scores need to be probabilities for multiclass roc_auc, i.e. they should sum up to 1.0 over classes\n",
      "Epoch 73: F1-W = 0.8628, F1-M = 0.8517, Acc = 0.8626, AUC = 0.0000\n"
     ]
    },
    {
     "data": {
      "application/vnd.jupyter.widget-view+json": {
       "model_id": "a48acd803a964ad7a6bb6b00b56582da",
       "version_major": 2,
       "version_minor": 0
      },
      "text/plain": [
       "Epoch 74/100 [Train]:   0%|          | 0/352 [00:00<?, ?it/s]"
      ]
     },
     "metadata": {},
     "output_type": "display_data"
    },
    {
     "data": {
      "application/vnd.jupyter.widget-view+json": {
       "model_id": "7dacb63f8160488d84c11b788757eead",
       "version_major": 2,
       "version_minor": 0
      },
      "text/plain": [
       "Epoch 74/100 [Val]:   0%|          | 0/88 [00:00<?, ?it/s]"
      ]
     },
     "metadata": {},
     "output_type": "display_data"
    },
    {
     "name": "stdout",
     "output_type": "stream",
     "text": [
      "AUC Calc Warn: Target scores need to be probabilities for multiclass roc_auc, i.e. they should sum up to 1.0 over classes\n",
      "Epoch 74: F1-W = 0.8649, F1-M = 0.8530, Acc = 0.8648, AUC = 0.0000\n"
     ]
    },
    {
     "data": {
      "application/vnd.jupyter.widget-view+json": {
       "model_id": "e9b8ab0164db44dfb22c3c028d0dbdde",
       "version_major": 2,
       "version_minor": 0
      },
      "text/plain": [
       "Epoch 75/100 [Train]:   0%|          | 0/352 [00:00<?, ?it/s]"
      ]
     },
     "metadata": {},
     "output_type": "display_data"
    },
    {
     "data": {
      "application/vnd.jupyter.widget-view+json": {
       "model_id": "683b0f2f643d43a5acb3241ffcefe356",
       "version_major": 2,
       "version_minor": 0
      },
      "text/plain": [
       "Epoch 75/100 [Val]:   0%|          | 0/88 [00:00<?, ?it/s]"
      ]
     },
     "metadata": {},
     "output_type": "display_data"
    },
    {
     "name": "stdout",
     "output_type": "stream",
     "text": [
      "AUC Calc Warn: Target scores need to be probabilities for multiclass roc_auc, i.e. they should sum up to 1.0 over classes\n",
      "Epoch 75: F1-W = 0.8642, F1-M = 0.8527, Acc = 0.8641, AUC = 0.0000\n"
     ]
    },
    {
     "data": {
      "application/vnd.jupyter.widget-view+json": {
       "model_id": "82bc1d0a2943465088390f923bf4d5f4",
       "version_major": 2,
       "version_minor": 0
      },
      "text/plain": [
       "Epoch 76/100 [Train]:   0%|          | 0/352 [00:00<?, ?it/s]"
      ]
     },
     "metadata": {},
     "output_type": "display_data"
    },
    {
     "data": {
      "application/vnd.jupyter.widget-view+json": {
       "model_id": "87effd2665c94ff79d8f95eef2d2c95b",
       "version_major": 2,
       "version_minor": 0
      },
      "text/plain": [
       "Epoch 76/100 [Val]:   0%|          | 0/88 [00:00<?, ?it/s]"
      ]
     },
     "metadata": {},
     "output_type": "display_data"
    },
    {
     "name": "stdout",
     "output_type": "stream",
     "text": [
      "AUC Calc Warn: Target scores need to be probabilities for multiclass roc_auc, i.e. they should sum up to 1.0 over classes\n",
      "Epoch 76: F1-W = 0.8635, F1-M = 0.8514, Acc = 0.8633, AUC = 0.0000\n"
     ]
    },
    {
     "data": {
      "application/vnd.jupyter.widget-view+json": {
       "model_id": "39dce8d178c04c98947d5e84a7545ddf",
       "version_major": 2,
       "version_minor": 0
      },
      "text/plain": [
       "Epoch 77/100 [Train]:   0%|          | 0/352 [00:00<?, ?it/s]"
      ]
     },
     "metadata": {},
     "output_type": "display_data"
    },
    {
     "data": {
      "application/vnd.jupyter.widget-view+json": {
       "model_id": "16f27de512b04325a8c9e18b83f4d8af",
       "version_major": 2,
       "version_minor": 0
      },
      "text/plain": [
       "Epoch 77/100 [Val]:   0%|          | 0/88 [00:00<?, ?it/s]"
      ]
     },
     "metadata": {},
     "output_type": "display_data"
    },
    {
     "name": "stdout",
     "output_type": "stream",
     "text": [
      "AUC Calc Warn: Target scores need to be probabilities for multiclass roc_auc, i.e. they should sum up to 1.0 over classes\n",
      "Epoch 77: F1-W = 0.8649, F1-M = 0.8533, Acc = 0.8648, AUC = 0.0000\n"
     ]
    },
    {
     "data": {
      "application/vnd.jupyter.widget-view+json": {
       "model_id": "ab2f73be9ab142b9b3c9aa052329b3a7",
       "version_major": 2,
       "version_minor": 0
      },
      "text/plain": [
       "Epoch 78/100 [Train]:   0%|          | 0/352 [00:00<?, ?it/s]"
      ]
     },
     "metadata": {},
     "output_type": "display_data"
    },
    {
     "data": {
      "application/vnd.jupyter.widget-view+json": {
       "model_id": "dc688f822c9d4c22a96f015b5916bf39",
       "version_major": 2,
       "version_minor": 0
      },
      "text/plain": [
       "Epoch 78/100 [Val]:   0%|          | 0/88 [00:00<?, ?it/s]"
      ]
     },
     "metadata": {},
     "output_type": "display_data"
    },
    {
     "name": "stdout",
     "output_type": "stream",
     "text": [
      "AUC Calc Warn: Target scores need to be probabilities for multiclass roc_auc, i.e. they should sum up to 1.0 over classes\n",
      "Epoch 78: F1-W = 0.8652, F1-M = 0.8531, Acc = 0.8651, AUC = 0.0000\n"
     ]
    },
    {
     "data": {
      "application/vnd.jupyter.widget-view+json": {
       "model_id": "e4eced1c44b34473be4e877227d6d60d",
       "version_major": 2,
       "version_minor": 0
      },
      "text/plain": [
       "Epoch 79/100 [Train]:   0%|          | 0/352 [00:00<?, ?it/s]"
      ]
     },
     "metadata": {},
     "output_type": "display_data"
    },
    {
     "data": {
      "application/vnd.jupyter.widget-view+json": {
       "model_id": "67f6ce361dec4f1da3569daa9de10e55",
       "version_major": 2,
       "version_minor": 0
      },
      "text/plain": [
       "Epoch 79/100 [Val]:   0%|          | 0/88 [00:00<?, ?it/s]"
      ]
     },
     "metadata": {},
     "output_type": "display_data"
    },
    {
     "name": "stdout",
     "output_type": "stream",
     "text": [
      "AUC Calc Warn: Target scores need to be probabilities for multiclass roc_auc, i.e. they should sum up to 1.0 over classes\n",
      "Epoch 79: F1-W = 0.8645, F1-M = 0.8526, Acc = 0.8644, AUC = 0.0000\n"
     ]
    },
    {
     "data": {
      "application/vnd.jupyter.widget-view+json": {
       "model_id": "32bfc97a58ab43b7ad45324db67c75c5",
       "version_major": 2,
       "version_minor": 0
      },
      "text/plain": [
       "Epoch 80/100 [Train]:   0%|          | 0/352 [00:00<?, ?it/s]"
      ]
     },
     "metadata": {},
     "output_type": "display_data"
    },
    {
     "data": {
      "application/vnd.jupyter.widget-view+json": {
       "model_id": "9a9f745baec84738ad0a2359b9d8e760",
       "version_major": 2,
       "version_minor": 0
      },
      "text/plain": [
       "Epoch 80/100 [Val]:   0%|          | 0/88 [00:00<?, ?it/s]"
      ]
     },
     "metadata": {},
     "output_type": "display_data"
    },
    {
     "name": "stdout",
     "output_type": "stream",
     "text": [
      "AUC Calc Warn: Target scores need to be probabilities for multiclass roc_auc, i.e. they should sum up to 1.0 over classes\n",
      "Epoch 80: F1-W = 0.8664, F1-M = 0.8540, Acc = 0.8662, AUC = 0.0000\n"
     ]
    },
    {
     "data": {
      "application/vnd.jupyter.widget-view+json": {
       "model_id": "5044eaea0d2a48e29609631c0f0e2604",
       "version_major": 2,
       "version_minor": 0
      },
      "text/plain": [
       "Epoch 81/100 [Train]:   0%|          | 0/352 [00:00<?, ?it/s]"
      ]
     },
     "metadata": {},
     "output_type": "display_data"
    },
    {
     "data": {
      "application/vnd.jupyter.widget-view+json": {
       "model_id": "5a722b5222594fa0a7ebf7a2c9996571",
       "version_major": 2,
       "version_minor": 0
      },
      "text/plain": [
       "Epoch 81/100 [Val]:   0%|          | 0/88 [00:00<?, ?it/s]"
      ]
     },
     "metadata": {},
     "output_type": "display_data"
    },
    {
     "name": "stdout",
     "output_type": "stream",
     "text": [
      "AUC Calc Warn: Target scores need to be probabilities for multiclass roc_auc, i.e. they should sum up to 1.0 over classes\n",
      "Epoch 81: F1-W = 0.8644, F1-M = 0.8528, Acc = 0.8644, AUC = 0.0000\n"
     ]
    },
    {
     "data": {
      "application/vnd.jupyter.widget-view+json": {
       "model_id": "02fabe976305431283e80a4f8d70c8ac",
       "version_major": 2,
       "version_minor": 0
      },
      "text/plain": [
       "Epoch 82/100 [Train]:   0%|          | 0/352 [00:00<?, ?it/s]"
      ]
     },
     "metadata": {},
     "output_type": "display_data"
    },
    {
     "data": {
      "application/vnd.jupyter.widget-view+json": {
       "model_id": "f6ae5be6b42a4a3e8f2abfa8f66d4bbd",
       "version_major": 2,
       "version_minor": 0
      },
      "text/plain": [
       "Epoch 82/100 [Val]:   0%|          | 0/88 [00:00<?, ?it/s]"
      ]
     },
     "metadata": {},
     "output_type": "display_data"
    },
    {
     "name": "stdout",
     "output_type": "stream",
     "text": [
      "AUC Calc Warn: Target scores need to be probabilities for multiclass roc_auc, i.e. they should sum up to 1.0 over classes\n",
      "Epoch 82: F1-W = 0.8646, F1-M = 0.8534, Acc = 0.8644, AUC = 0.0000\n"
     ]
    },
    {
     "data": {
      "application/vnd.jupyter.widget-view+json": {
       "model_id": "ea95b4d2b32c487ab9958e8341bd71f9",
       "version_major": 2,
       "version_minor": 0
      },
      "text/plain": [
       "Epoch 83/100 [Train]:   0%|          | 0/352 [00:00<?, ?it/s]"
      ]
     },
     "metadata": {},
     "output_type": "display_data"
    },
    {
     "data": {
      "application/vnd.jupyter.widget-view+json": {
       "model_id": "b0db01d1b934427ebf446a1a3be68b44",
       "version_major": 2,
       "version_minor": 0
      },
      "text/plain": [
       "Epoch 83/100 [Val]:   0%|          | 0/88 [00:00<?, ?it/s]"
      ]
     },
     "metadata": {},
     "output_type": "display_data"
    },
    {
     "name": "stdout",
     "output_type": "stream",
     "text": [
      "AUC Calc Warn: Target scores need to be probabilities for multiclass roc_auc, i.e. they should sum up to 1.0 over classes\n",
      "Epoch 83: F1-W = 0.8660, F1-M = 0.8538, Acc = 0.8658, AUC = 0.0000\n"
     ]
    },
    {
     "data": {
      "application/vnd.jupyter.widget-view+json": {
       "model_id": "4bd6b191f9be412abf516cf4afc59fe8",
       "version_major": 2,
       "version_minor": 0
      },
      "text/plain": [
       "Epoch 84/100 [Train]:   0%|          | 0/352 [00:00<?, ?it/s]"
      ]
     },
     "metadata": {},
     "output_type": "display_data"
    },
    {
     "data": {
      "application/vnd.jupyter.widget-view+json": {
       "model_id": "637ab352a4b14704bb95102580742806",
       "version_major": 2,
       "version_minor": 0
      },
      "text/plain": [
       "Epoch 84/100 [Val]:   0%|          | 0/88 [00:00<?, ?it/s]"
      ]
     },
     "metadata": {},
     "output_type": "display_data"
    },
    {
     "name": "stdout",
     "output_type": "stream",
     "text": [
      "AUC Calc Warn: Target scores need to be probabilities for multiclass roc_auc, i.e. they should sum up to 1.0 over classes\n",
      "Epoch 84: F1-W = 0.8659, F1-M = 0.8548, Acc = 0.8658, AUC = 0.0000\n"
     ]
    },
    {
     "data": {
      "application/vnd.jupyter.widget-view+json": {
       "model_id": "ec110b6e498649f6a67fc1f7cbd939b8",
       "version_major": 2,
       "version_minor": 0
      },
      "text/plain": [
       "Epoch 85/100 [Train]:   0%|          | 0/352 [00:00<?, ?it/s]"
      ]
     },
     "metadata": {},
     "output_type": "display_data"
    },
    {
     "data": {
      "application/vnd.jupyter.widget-view+json": {
       "model_id": "1e57d3f823e64c9a9a7e5cc41e17630b",
       "version_major": 2,
       "version_minor": 0
      },
      "text/plain": [
       "Epoch 85/100 [Val]:   0%|          | 0/88 [00:00<?, ?it/s]"
      ]
     },
     "metadata": {},
     "output_type": "display_data"
    },
    {
     "name": "stdout",
     "output_type": "stream",
     "text": [
      "AUC Calc Warn: Target scores need to be probabilities for multiclass roc_auc, i.e. they should sum up to 1.0 over classes\n",
      "Epoch 85: F1-W = 0.8625, F1-M = 0.8505, Acc = 0.8623, AUC = 0.0000\n"
     ]
    },
    {
     "data": {
      "application/vnd.jupyter.widget-view+json": {
       "model_id": "d28d3a33353346a982184865dae3c6b0",
       "version_major": 2,
       "version_minor": 0
      },
      "text/plain": [
       "Epoch 86/100 [Train]:   0%|          | 0/352 [00:00<?, ?it/s]"
      ]
     },
     "metadata": {},
     "output_type": "display_data"
    },
    {
     "data": {
      "application/vnd.jupyter.widget-view+json": {
       "model_id": "b449870d88124023afca70b8224d9767",
       "version_major": 2,
       "version_minor": 0
      },
      "text/plain": [
       "Epoch 86/100 [Val]:   0%|          | 0/88 [00:00<?, ?it/s]"
      ]
     },
     "metadata": {},
     "output_type": "display_data"
    },
    {
     "name": "stdout",
     "output_type": "stream",
     "text": [
      "AUC Calc Warn: Target scores need to be probabilities for multiclass roc_auc, i.e. they should sum up to 1.0 over classes\n",
      "Epoch 86: F1-W = 0.8614, F1-M = 0.8487, Acc = 0.8612, AUC = 0.0000\n"
     ]
    },
    {
     "data": {
      "application/vnd.jupyter.widget-view+json": {
       "model_id": "6da457b4791a45be86d60ef0d1b28bb6",
       "version_major": 2,
       "version_minor": 0
      },
      "text/plain": [
       "Epoch 87/100 [Train]:   0%|          | 0/352 [00:00<?, ?it/s]"
      ]
     },
     "metadata": {},
     "output_type": "display_data"
    },
    {
     "data": {
      "application/vnd.jupyter.widget-view+json": {
       "model_id": "113a807e85d049a9b81d53933390efd6",
       "version_major": 2,
       "version_minor": 0
      },
      "text/plain": [
       "Epoch 87/100 [Val]:   0%|          | 0/88 [00:00<?, ?it/s]"
      ]
     },
     "metadata": {},
     "output_type": "display_data"
    },
    {
     "name": "stdout",
     "output_type": "stream",
     "text": [
      "AUC Calc Warn: Target scores need to be probabilities for multiclass roc_auc, i.e. they should sum up to 1.0 over classes\n",
      "Epoch 87: F1-W = 0.8657, F1-M = 0.8537, Acc = 0.8655, AUC = 0.0000\n"
     ]
    },
    {
     "data": {
      "application/vnd.jupyter.widget-view+json": {
       "model_id": "c5117d21bbb74e03bd3fe92251d5c598",
       "version_major": 2,
       "version_minor": 0
      },
      "text/plain": [
       "Epoch 88/100 [Train]:   0%|          | 0/352 [00:00<?, ?it/s]"
      ]
     },
     "metadata": {},
     "output_type": "display_data"
    },
    {
     "data": {
      "application/vnd.jupyter.widget-view+json": {
       "model_id": "e0237b967755407eb0822e4600d348f2",
       "version_major": 2,
       "version_minor": 0
      },
      "text/plain": [
       "Epoch 88/100 [Val]:   0%|          | 0/88 [00:00<?, ?it/s]"
      ]
     },
     "metadata": {},
     "output_type": "display_data"
    },
    {
     "name": "stdout",
     "output_type": "stream",
     "text": [
      "AUC Calc Warn: Target scores need to be probabilities for multiclass roc_auc, i.e. they should sum up to 1.0 over classes\n",
      "Epoch 88: F1-W = 0.8652, F1-M = 0.8537, Acc = 0.8651, AUC = 0.0000\n"
     ]
    },
    {
     "data": {
      "application/vnd.jupyter.widget-view+json": {
       "model_id": "a27f4392da4f4750b22b1a61940fe699",
       "version_major": 2,
       "version_minor": 0
      },
      "text/plain": [
       "Epoch 89/100 [Train]:   0%|          | 0/352 [00:00<?, ?it/s]"
      ]
     },
     "metadata": {},
     "output_type": "display_data"
    },
    {
     "data": {
      "application/vnd.jupyter.widget-view+json": {
       "model_id": "c361ac8ca06f483995e1c8db4f8159f5",
       "version_major": 2,
       "version_minor": 0
      },
      "text/plain": [
       "Epoch 89/100 [Val]:   0%|          | 0/88 [00:00<?, ?it/s]"
      ]
     },
     "metadata": {},
     "output_type": "display_data"
    },
    {
     "name": "stdout",
     "output_type": "stream",
     "text": [
      "AUC Calc Warn: Target scores need to be probabilities for multiclass roc_auc, i.e. they should sum up to 1.0 over classes\n",
      "Epoch 89: F1-W = 0.8670, F1-M = 0.8556, Acc = 0.8669, AUC = 0.0000\n"
     ]
    },
    {
     "data": {
      "application/vnd.jupyter.widget-view+json": {
       "model_id": "5a17660acb6e42debd784b56e6830992",
       "version_major": 2,
       "version_minor": 0
      },
      "text/plain": [
       "Epoch 90/100 [Train]:   0%|          | 0/352 [00:00<?, ?it/s]"
      ]
     },
     "metadata": {},
     "output_type": "display_data"
    },
    {
     "data": {
      "application/vnd.jupyter.widget-view+json": {
       "model_id": "d170c8851762419487cb938bf4bf1adc",
       "version_major": 2,
       "version_minor": 0
      },
      "text/plain": [
       "Epoch 90/100 [Val]:   0%|          | 0/88 [00:00<?, ?it/s]"
      ]
     },
     "metadata": {},
     "output_type": "display_data"
    },
    {
     "name": "stdout",
     "output_type": "stream",
     "text": [
      "AUC Calc Warn: Target scores need to be probabilities for multiclass roc_auc, i.e. they should sum up to 1.0 over classes\n",
      "Epoch 90: F1-W = 0.8663, F1-M = 0.8541, Acc = 0.8662, AUC = 0.0000\n"
     ]
    },
    {
     "data": {
      "application/vnd.jupyter.widget-view+json": {
       "model_id": "cbd7db92210f4d7aaf3e8922e66e5d72",
       "version_major": 2,
       "version_minor": 0
      },
      "text/plain": [
       "Epoch 91/100 [Train]:   0%|          | 0/352 [00:00<?, ?it/s]"
      ]
     },
     "metadata": {},
     "output_type": "display_data"
    },
    {
     "data": {
      "application/vnd.jupyter.widget-view+json": {
       "model_id": "b797bb865bfb40149c2aa3b57cefe057",
       "version_major": 2,
       "version_minor": 0
      },
      "text/plain": [
       "Epoch 91/100 [Val]:   0%|          | 0/88 [00:00<?, ?it/s]"
      ]
     },
     "metadata": {},
     "output_type": "display_data"
    },
    {
     "name": "stdout",
     "output_type": "stream",
     "text": [
      "AUC Calc Warn: Target scores need to be probabilities for multiclass roc_auc, i.e. they should sum up to 1.0 over classes\n",
      "Epoch 91: F1-W = 0.8649, F1-M = 0.8535, Acc = 0.8648, AUC = 0.0000\n"
     ]
    },
    {
     "data": {
      "application/vnd.jupyter.widget-view+json": {
       "model_id": "d2e231d4f1fc485a97992f5a942669bb",
       "version_major": 2,
       "version_minor": 0
      },
      "text/plain": [
       "Epoch 92/100 [Train]:   0%|          | 0/352 [00:00<?, ?it/s]"
      ]
     },
     "metadata": {},
     "output_type": "display_data"
    },
    {
     "data": {
      "application/vnd.jupyter.widget-view+json": {
       "model_id": "babdb71a61ff4ab9a56890c23dfe17f5",
       "version_major": 2,
       "version_minor": 0
      },
      "text/plain": [
       "Epoch 92/100 [Val]:   0%|          | 0/88 [00:00<?, ?it/s]"
      ]
     },
     "metadata": {},
     "output_type": "display_data"
    },
    {
     "name": "stdout",
     "output_type": "stream",
     "text": [
      "AUC Calc Warn: Target scores need to be probabilities for multiclass roc_auc, i.e. they should sum up to 1.0 over classes\n",
      "Epoch 92: F1-W = 0.8663, F1-M = 0.8553, Acc = 0.8662, AUC = 0.0000\n"
     ]
    },
    {
     "data": {
      "application/vnd.jupyter.widget-view+json": {
       "model_id": "b89cc049ee0b4b5d8fee0bdb4baf489f",
       "version_major": 2,
       "version_minor": 0
      },
      "text/plain": [
       "Epoch 93/100 [Train]:   0%|          | 0/352 [00:00<?, ?it/s]"
      ]
     },
     "metadata": {},
     "output_type": "display_data"
    },
    {
     "data": {
      "application/vnd.jupyter.widget-view+json": {
       "model_id": "478fbcc1fca8497586df36104b247ded",
       "version_major": 2,
       "version_minor": 0
      },
      "text/plain": [
       "Epoch 93/100 [Val]:   0%|          | 0/88 [00:00<?, ?it/s]"
      ]
     },
     "metadata": {},
     "output_type": "display_data"
    },
    {
     "name": "stdout",
     "output_type": "stream",
     "text": [
      "AUC Calc Warn: Target scores need to be probabilities for multiclass roc_auc, i.e. they should sum up to 1.0 over classes\n",
      "Epoch 93: F1-W = 0.8663, F1-M = 0.8547, Acc = 0.8662, AUC = 0.0000\n"
     ]
    },
    {
     "data": {
      "application/vnd.jupyter.widget-view+json": {
       "model_id": "a076954cff30456aa787294b88ffe09f",
       "version_major": 2,
       "version_minor": 0
      },
      "text/plain": [
       "Epoch 94/100 [Train]:   0%|          | 0/352 [00:00<?, ?it/s]"
      ]
     },
     "metadata": {},
     "output_type": "display_data"
    },
    {
     "data": {
      "application/vnd.jupyter.widget-view+json": {
       "model_id": "c1265e2e972d493ea2f3123d21dc838d",
       "version_major": 2,
       "version_minor": 0
      },
      "text/plain": [
       "Epoch 94/100 [Val]:   0%|          | 0/88 [00:00<?, ?it/s]"
      ]
     },
     "metadata": {},
     "output_type": "display_data"
    },
    {
     "name": "stdout",
     "output_type": "stream",
     "text": [
      "AUC Calc Warn: Target scores need to be probabilities for multiclass roc_auc, i.e. they should sum up to 1.0 over classes\n",
      "Epoch 94: F1-W = 0.8652, F1-M = 0.8536, Acc = 0.8651, AUC = 0.0000\n"
     ]
    },
    {
     "data": {
      "application/vnd.jupyter.widget-view+json": {
       "model_id": "3d3e3c6ed86344f38d6cc9bd5f219da9",
       "version_major": 2,
       "version_minor": 0
      },
      "text/plain": [
       "Epoch 95/100 [Train]:   0%|          | 0/352 [00:00<?, ?it/s]"
      ]
     },
     "metadata": {},
     "output_type": "display_data"
    },
    {
     "data": {
      "application/vnd.jupyter.widget-view+json": {
       "model_id": "fdfe5d7dde2a4142a4cb949bbdc716f8",
       "version_major": 2,
       "version_minor": 0
      },
      "text/plain": [
       "Epoch 95/100 [Val]:   0%|          | 0/88 [00:00<?, ?it/s]"
      ]
     },
     "metadata": {},
     "output_type": "display_data"
    },
    {
     "name": "stdout",
     "output_type": "stream",
     "text": [
      "AUC Calc Warn: Target scores need to be probabilities for multiclass roc_auc, i.e. they should sum up to 1.0 over classes\n",
      "Epoch 95: F1-W = 0.8653, F1-M = 0.8537, Acc = 0.8651, AUC = 0.0000\n"
     ]
    },
    {
     "data": {
      "application/vnd.jupyter.widget-view+json": {
       "model_id": "ad854224cf2442a68f9d22728eb69f40",
       "version_major": 2,
       "version_minor": 0
      },
      "text/plain": [
       "Epoch 96/100 [Train]:   0%|          | 0/352 [00:00<?, ?it/s]"
      ]
     },
     "metadata": {},
     "output_type": "display_data"
    },
    {
     "data": {
      "application/vnd.jupyter.widget-view+json": {
       "model_id": "341f4a6f14d241ea9f9c02279b4ac485",
       "version_major": 2,
       "version_minor": 0
      },
      "text/plain": [
       "Epoch 96/100 [Val]:   0%|          | 0/88 [00:00<?, ?it/s]"
      ]
     },
     "metadata": {},
     "output_type": "display_data"
    },
    {
     "name": "stdout",
     "output_type": "stream",
     "text": [
      "AUC Calc Warn: Target scores need to be probabilities for multiclass roc_auc, i.e. they should sum up to 1.0 over classes\n",
      "Epoch 96: F1-W = 0.8630, F1-M = 0.8513, Acc = 0.8630, AUC = 0.0000\n"
     ]
    },
    {
     "data": {
      "application/vnd.jupyter.widget-view+json": {
       "model_id": "ba56872b631647cda388415783964b9c",
       "version_major": 2,
       "version_minor": 0
      },
      "text/plain": [
       "Epoch 97/100 [Train]:   0%|          | 0/352 [00:00<?, ?it/s]"
      ]
     },
     "metadata": {},
     "output_type": "display_data"
    },
    {
     "data": {
      "application/vnd.jupyter.widget-view+json": {
       "model_id": "681ddced54d84c549dcae20b962cf951",
       "version_major": 2,
       "version_minor": 0
      },
      "text/plain": [
       "Epoch 97/100 [Val]:   0%|          | 0/88 [00:00<?, ?it/s]"
      ]
     },
     "metadata": {},
     "output_type": "display_data"
    },
    {
     "name": "stdout",
     "output_type": "stream",
     "text": [
      "AUC Calc Warn: Target scores need to be probabilities for multiclass roc_auc, i.e. they should sum up to 1.0 over classes\n",
      "Epoch 97: F1-W = 0.8645, F1-M = 0.8532, Acc = 0.8644, AUC = 0.0000\n"
     ]
    },
    {
     "data": {
      "application/vnd.jupyter.widget-view+json": {
       "model_id": "e74096a52ce8498a93f6e1c88550861a",
       "version_major": 2,
       "version_minor": 0
      },
      "text/plain": [
       "Epoch 98/100 [Train]:   0%|          | 0/352 [00:00<?, ?it/s]"
      ]
     },
     "metadata": {},
     "output_type": "display_data"
    },
    {
     "data": {
      "application/vnd.jupyter.widget-view+json": {
       "model_id": "ae75bdd8e5314810b5eb1944fb1686a8",
       "version_major": 2,
       "version_minor": 0
      },
      "text/plain": [
       "Epoch 98/100 [Val]:   0%|          | 0/88 [00:00<?, ?it/s]"
      ]
     },
     "metadata": {},
     "output_type": "display_data"
    },
    {
     "name": "stdout",
     "output_type": "stream",
     "text": [
      "AUC Calc Warn: Target scores need to be probabilities for multiclass roc_auc, i.e. they should sum up to 1.0 over classes\n",
      "Epoch 98: F1-W = 0.8638, F1-M = 0.8524, Acc = 0.8637, AUC = 0.0000\n"
     ]
    },
    {
     "data": {
      "application/vnd.jupyter.widget-view+json": {
       "model_id": "d7ad847f6a324b9493f049a22e27a622",
       "version_major": 2,
       "version_minor": 0
      },
      "text/plain": [
       "Epoch 99/100 [Train]:   0%|          | 0/352 [00:00<?, ?it/s]"
      ]
     },
     "metadata": {},
     "output_type": "display_data"
    },
    {
     "data": {
      "application/vnd.jupyter.widget-view+json": {
       "model_id": "aedc80bb69324dceab3c44b574dd178a",
       "version_major": 2,
       "version_minor": 0
      },
      "text/plain": [
       "Epoch 99/100 [Val]:   0%|          | 0/88 [00:00<?, ?it/s]"
      ]
     },
     "metadata": {},
     "output_type": "display_data"
    },
    {
     "name": "stdout",
     "output_type": "stream",
     "text": [
      "AUC Calc Warn: Target scores need to be probabilities for multiclass roc_auc, i.e. they should sum up to 1.0 over classes\n",
      "Epoch 99: F1-W = 0.8674, F1-M = 0.8562, Acc = 0.8673, AUC = 0.0000\n"
     ]
    },
    {
     "data": {
      "application/vnd.jupyter.widget-view+json": {
       "model_id": "28d0713013c142b0abfd11d8480668bd",
       "version_major": 2,
       "version_minor": 0
      },
      "text/plain": [
       "Epoch 100/100 [Train]:   0%|          | 0/352 [00:00<?, ?it/s]"
      ]
     },
     "metadata": {},
     "output_type": "display_data"
    },
    {
     "data": {
      "application/vnd.jupyter.widget-view+json": {
       "model_id": "5928ad428475455eab66542582591910",
       "version_major": 2,
       "version_minor": 0
      },
      "text/plain": [
       "Epoch 100/100 [Val]:   0%|          | 0/88 [00:00<?, ?it/s]"
      ]
     },
     "metadata": {},
     "output_type": "display_data"
    },
    {
     "name": "stdout",
     "output_type": "stream",
     "text": [
      "AUC Calc Warn: Target scores need to be probabilities for multiclass roc_auc, i.e. they should sum up to 1.0 over classes\n",
      "Epoch 100: F1-W = 0.8629, F1-M = 0.8523, Acc = 0.8626, AUC = 0.0000\n",
      "\n",
      "Finished Training for PANNs_CNN10_data_100percent. Best F1-weighted: 0.8692 at Epoch 57\n",
      "==> Results with 100.0% data: Best F1-Weighted = 0.8692\n",
      "\n",
      "--- FINAL RESULTS ---\n",
      "\n",
      "Model: PANNs-CNN10\n",
      "  100.0% data (Epoch 57): F1-W=0.8692 | F1-M=0.8588 | AUC=0.0000 | Acc=0.8690\n"
     ]
    }
   ],
   "source": [
    "for model_name, config in model_configs.items():\n",
    "    print(f\"\\n{'='*20} Evaluating: {model_name} {'='*20}\")\n",
    "    model_results = []\n",
    "    model_folder_name = model_name.replace(' ', '_').replace('-', '_')\n",
    "    model_output_dir = os.path.join(BASE_OUTPUT_DIR, model_folder_name)\n",
    "    os.makedirs(model_output_dir, exist_ok=True)\n",
    "    print(f\"Lưu kết quả của model này vào: {model_output_dir}\")\n",
    "\n",
    "    for percent in DATA_PERCENTAGES:\n",
    "        print(f\"\\n--- Training with {percent*100:.1f}% of labeled data ---\")\n",
    "        if percent < 1.0:\n",
    "             train_labels_for_stratify = full_metadata['label'].iloc[train_indices].values\n",
    "             min_samples_per_class = pd.Series(train_labels_for_stratify).value_counts().min()\n",
    "             required_samples = 2\n",
    "             if min_samples_per_class >= required_samples:\n",
    "                subset_train_indices, _ = train_test_split(train_indices, train_size=percent, random_state=SEED, stratify=train_labels_for_stratify)\n",
    "             else:\n",
    "                 print(f\"Warning: Cannot stratify subset. Using non-stratified subset.\")\n",
    "                 subset_train_indices, _ = train_test_split(train_indices, train_size=percent, random_state=SEED)\n",
    "        else:\n",
    "            subset_train_indices = train_indices\n",
    "\n",
    "        train_metadata_subset = full_metadata.iloc[subset_train_indices].copy()\n",
    "        train_dataset = SpectrogramDataset(train_metadata_subset, MELSPEC_DIR, transform=train_transform)\n",
    "        train_loader = DataLoader(train_dataset, batch_size=32, shuffle=True, num_workers=0, collate_fn=collate_fn_remove_none, pin_memory=torch.cuda.is_available())\n",
    "        print(f\"Train dataset size: {len(train_dataset)}\")\n",
    "        print(f\"Test dataset size: {len(test_dataset)}\")\n",
    "\n",
    "        percent_str = f\"data_{percent*100:.0f}percent\"\n",
    "        run_output_dir = os.path.join(model_output_dir, percent_str)\n",
    "        os.makedirs(run_output_dir, exist_ok=True)\n",
    "        run_base_name = f\"{model_folder_name}_{percent_str}\"\n",
    "\n",
    "        model = config[\"model_class\"](**config[\"args\"]).to(device)\n",
    "\n",
    "        best_metrics = train_and_evaluate( model, train_loader, test_loader, epochs=100, results_dir=run_output_dir, run_base_name=run_base_name, class_names=class_names_list )\n",
    "\n",
    "        model_results.append({'percent': percent, 'metrics': best_metrics})\n",
    "        if best_metrics: print(f\"==> Results with {percent*100:.1f}% data: Best F1-Weighted = {best_metrics.get('F1_w', 0):.4f}\")\n",
    "        else: print(f\"==> No valid metrics recorded for {percent*100:.1f}% data run.\")\n",
    "    results[model_name] = model_results\n",
    "\n",
    "print(\"\\n--- FINAL RESULTS ---\")\n",
    "for model_name, result_list in results.items():\n",
    "    print(f\"\\nModel: {model_name}\")\n",
    "    if not result_list: print(\"  No results recorded.\"); continue\n",
    "    for res in result_list:\n",
    "        percent_str = f\"{res['percent']*100:.1f}% data\"\n",
    "        if res['metrics']:\n",
    "            f1_w = res['metrics'].get('F1_w', float('nan')); f1_m = res['metrics'].get('F1_macro', float('nan'))\n",
    "            auc = res['metrics'].get('AUC_macro_ovr', float('nan')); acc = res['metrics'].get('Accuracy', float('nan'))\n",
    "            epoch = res['metrics'].get('Epoch', 'N/A')\n",
    "            print(f\"  {percent_str} (Epoch {epoch}): F1-W={f1_w:.4f} | F1-M={f1_m:.4f} | AUC={auc:.4f} | Acc={acc:.4f}\")\n",
    "        else: print(f\"  {percent_str}: No valid metrics recorded.\")"
   ]
  },
  {
   "cell_type": "code",
   "execution_count": null,
   "id": "b756ba10-50d4-412d-b1e8-cb8c12be9105",
   "metadata": {},
   "outputs": [],
   "source": []
  }
 ],
 "metadata": {
  "kernelspec": {
   "display_name": "Python 3 (ipykernel)",
   "language": "python",
   "name": "python3"
  },
  "language_info": {
   "codemirror_mode": {
    "name": "ipython",
    "version": 3
   },
   "file_extension": ".py",
   "mimetype": "text/x-python",
   "name": "python",
   "nbconvert_exporter": "python",
   "pygments_lexer": "ipython3",
   "version": "3.10.16"
  }
 },
 "nbformat": 4,
 "nbformat_minor": 5
}
