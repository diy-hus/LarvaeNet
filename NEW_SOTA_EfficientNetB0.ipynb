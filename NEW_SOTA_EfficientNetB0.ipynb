{
 "cells": [
  {
   "cell_type": "code",
   "execution_count": 1,
   "id": "62a50194-2dff-4fad-9a23-bf85dfa47afe",
   "metadata": {},
   "outputs": [
    {
     "name": "stdout",
     "output_type": "stream",
     "text": [
      "Using device: cuda\n"
     ]
    }
   ],
   "source": [
    "import os\n",
    "import random\n",
    "import pandas as pd\n",
    "import numpy as np\n",
    "import torch\n",
    "import torch.nn as nn\n",
    "import torch.nn.functional as F\n",
    "import torchaudio\n",
    "# Import transforms from torchaudio and torchvision v2\n",
    "from torchaudio import transforms as TA_T\n",
    "from torchvision.transforms import v2 as T\n",
    "from torchvision import models # Import models submodule\n",
    "from torchvision.models import EfficientNet_B0_Weights # Import specific weights\n",
    "from torch.utils.data import Dataset, DataLoader\n",
    "from sklearn.model_selection import train_test_split\n",
    "from sklearn.metrics import (\n",
    "    accuracy_score, precision_score, recall_score, f1_score,\n",
    "    classification_report, confusion_matrix, roc_auc_score,\n",
    "    roc_curve, auc\n",
    ")\n",
    "from tqdm.auto import tqdm\n",
    "import matplotlib.pyplot as plt\n",
    "import warnings\n",
    "from urllib.request import urlretrieve # Keep for potential future downloads\n",
    "\n",
    "# --- Setup ---\n",
    "warnings.simplefilter(action='ignore', category=FutureWarning)\n",
    "device = torch.device(\"cuda\" if torch.cuda.is_available() else \"cpu\")\n",
    "print(f\"Using device: {device}\")\n",
    "SEED = 42\n",
    "random.seed(SEED)\n",
    "np.random.seed(SEED)\n",
    "torch.manual_seed(SEED)\n",
    "if torch.cuda.is_available():\n",
    "    torch.cuda.manual_seed_all(SEED)"
   ]
  },
  {
   "cell_type": "code",
   "execution_count": 2,
   "id": "39fa7666-9510-432b-a1a6-72908203bb11",
   "metadata": {},
   "outputs": [
    {
     "name": "stdout",
     "output_type": "stream",
     "text": [
      "Đã định nghĩa pipeline Augmentation cho EfficientNetB0 (input 224x224).\n"
     ]
    }
   ],
   "source": [
    "class TimeShift(torch.nn.Module):\n",
    "    \"\"\" Dịch chuyển spectrogram theo trục thời gian một cách ngẫu nhiên. \"\"\"\n",
    "    def __init__(self, p=0.5, max_shift_percent=0.4):\n",
    "        super().__init__()\n",
    "        self.p = p\n",
    "        self.max_shift_percent = max_shift_percent\n",
    "\n",
    "    def forward(self, spec):\n",
    "        # Input spec shape: (..., Frequency, Time)\n",
    "        if torch.rand(1) < self.p:\n",
    "            time_steps = spec.shape[-1]\n",
    "            shift_amount = int(torch.rand(1).item() * self.max_shift_percent * time_steps) # Use .item()\n",
    "            if torch.rand(1) < 0.5:\n",
    "                shift_amount = -shift_amount\n",
    "            # Apply roll only if shift_amount is non-zero\n",
    "            if shift_amount != 0:\n",
    "                 return torch.roll(spec, shifts=shift_amount, dims=-1)\n",
    "        return spec\n",
    "\n",
    "class SpecNoise(torch.nn.Module):\n",
    "    \"\"\" Thêm nhiễu Gaussian trực tiếp vào spectrogram. \"\"\"\n",
    "    def __init__(self, p=0.5, noise_level=0.05):\n",
    "        super().__init__()\n",
    "        self.p = p\n",
    "        self.noise_level = noise_level\n",
    "\n",
    "    def forward(self, spec):\n",
    "        if torch.rand(1) < self.p:\n",
    "            # Add noise relative to std dev might be better for varying signal levels\n",
    "            # noise = torch.randn_like(spec) * self.noise_level * torch.std(spec)\n",
    "            # Keeping original implementation for now:\n",
    "            noise = torch.randn_like(spec) * self.noise_level\n",
    "            return spec + noise\n",
    "        return spec\n",
    "\n",
    "# --- Transforms for EfficientNetB0 ---\n",
    "IMG_SIZE = 224 # EfficientNetB0 standard input size\n",
    "NORM_MEAN = [0.485] # Using first value of ImageNet mean for single channel\n",
    "NORM_STD = [0.229]  # Using first value of ImageNet std dev for single channel\n",
    "\n",
    "train_transform_effnet = T.Compose([\n",
    "    # Input expected: (1, H, W) after dataset adds channel dim\n",
    "    TA_T.TimeMasking(time_mask_param=80),\n",
    "    TA_T.FrequencyMasking(freq_mask_param=25),\n",
    "    TimeShift(p=0.5, max_shift_percent=0.4),\n",
    "    SpecNoise(p=0.3, noise_level=0.03),\n",
    "    T.Resize((IMG_SIZE, IMG_SIZE), antialias=True), # Resize to square\n",
    "    T.Normalize(mean=NORM_MEAN, std=NORM_STD)\n",
    "])\n",
    "\n",
    "val_transform_effnet = T.Compose([\n",
    "    T.Resize((IMG_SIZE, IMG_SIZE), antialias=True),\n",
    "    T.Normalize(mean=NORM_MEAN, std=NORM_STD)\n",
    "])\n",
    "\n",
    "print(f\"Đã định nghĩa pipeline Augmentation cho EfficientNetB0 (input {IMG_SIZE}x{IMG_SIZE}).\")"
   ]
  },
  {
   "cell_type": "code",
   "execution_count": 3,
   "id": "bccd3f13-ca8b-4044-878f-9c5bd813a96b",
   "metadata": {},
   "outputs": [
    {
     "name": "stdout",
     "output_type": "stream",
     "text": [
      "Đã định nghĩa xong kiến trúc model EfficientNetB0.\n"
     ]
    }
   ],
   "source": [
    "class EfficientNet_AudioClassifier(nn.Module):\n",
    "    def __init__(self, num_classes, input_channels=1, pretrained=True):\n",
    "        super().__init__()\n",
    "        weights = EfficientNet_B0_Weights.IMAGENET1K_V1 if pretrained else None\n",
    "        self.effnet = models.efficientnet_b0(weights=weights)\n",
    "\n",
    "        # Adapt the first convolutional layer\n",
    "        original_first_conv = self.effnet.features[0][0]\n",
    "        original_weights = None\n",
    "        if pretrained:\n",
    "            original_weights = original_first_conv.weight.data\n",
    "\n",
    "        new_first_conv = nn.Conv2d(\n",
    "            in_channels=input_channels,\n",
    "            out_channels=original_first_conv.out_channels,\n",
    "            kernel_size=original_first_conv.kernel_size,\n",
    "            stride=original_first_conv.stride,\n",
    "            padding=original_first_conv.padding,\n",
    "            bias=original_first_conv.bias is not None\n",
    "        )\n",
    "\n",
    "        if pretrained and input_channels != original_first_conv.in_channels:\n",
    "            print(f\"Adapting EfficientNetB0 pretrained weights from {original_first_conv.in_channels} to {input_channels} channels.\")\n",
    "            adapted_weights = original_weights.mean(dim=1, keepdim=True)\n",
    "            if input_channels > 1:\n",
    "                 adapted_weights = adapted_weights.repeat(1, input_channels, 1, 1)\n",
    "            new_first_conv.weight.data = adapted_weights\n",
    "            if new_first_conv.bias is not None and original_first_conv.bias is not None:\n",
    "                new_first_conv.bias.data = original_first_conv.bias.data\n",
    "        elif pretrained: # Channels match\n",
    "             new_first_conv.load_state_dict(original_first_conv.state_dict())\n",
    "\n",
    "        self.effnet.features[0][0] = new_first_conv\n",
    "\n",
    "        # Adapt the classifier\n",
    "        num_ftrs = self.effnet.classifier[1].in_features\n",
    "        self.effnet.classifier[1] = nn.Linear(num_ftrs, num_classes)\n",
    "\n",
    "    def forward(self, x):\n",
    "        # Input expected: (B, C, H, W)\n",
    "        if x.dim() == 3: # Add channel dim if dataset didn't\n",
    "            x = x.unsqueeze(1)\n",
    "        # Check channel consistency (should match input_channels used in __init__)\n",
    "        if x.shape[1] != self.effnet.features[0][0].in_channels:\n",
    "             raise ValueError(f\"Input tensor channel {x.shape[1]} != model first layer channel {self.effnet.features[0][0].in_channels}\")\n",
    "        return self.effnet(x)\n",
    "\n",
    "print(\"Đã định nghĩa xong kiến trúc model EfficientNetB0.\")"
   ]
  },
  {
   "cell_type": "code",
   "execution_count": 4,
   "id": "c6cf8b3f-a2a9-4744-b90f-c47c28ddd7e5",
   "metadata": {},
   "outputs": [
    {
     "name": "stdout",
     "output_type": "stream",
     "text": [
      "Đã cập nhật xong SpectrogramDataset.\n"
     ]
    }
   ],
   "source": [
    "class SpectrogramDataset(Dataset):\n",
    "    def __init__(self, metadata_df, melspec_dir, transform=None, target_tdim=626):\n",
    "        super().__init__()\n",
    "        self.metadata = metadata_df\n",
    "        self.melspec_dir = melspec_dir\n",
    "        self.transform = transform\n",
    "        # target_tdim is still relevant for padding/truncating *before* resizing\n",
    "        self.target_tdim = target_tdim\n",
    "        # Ensure 'label' column exists\n",
    "        if 'label' not in self.metadata.columns:\n",
    "            raise ValueError(\"Metadata DataFrame must contain a 'label' column.\")\n",
    "        self.class_names = sorted(metadata_df['label'].unique())\n",
    "        self.class_to_id = {name: i for i, name in enumerate(self.class_names)}\n",
    "        self.error_log = []\n",
    "\n",
    "    def __len__(self):\n",
    "        return len(self.metadata)\n",
    "\n",
    "    def __getitem__(self, idx):\n",
    "        if idx >= len(self.metadata):\n",
    "             self.error_log.append(f\"Index {idx} out of bounds ({len(self.metadata)})\")\n",
    "             return None\n",
    "        # Ensure required columns exist\n",
    "        if 'file_path' not in self.metadata.columns or 'label' not in self.metadata.columns:\n",
    "             self.error_log.append(f\"Missing column at index {idx}\")\n",
    "             return None\n",
    "\n",
    "        row = self.metadata.iloc[idx]\n",
    "        relative_path = row['file_path']\n",
    "        label_name = row['label']\n",
    "\n",
    "        if label_name not in self.class_to_id:\n",
    "             self.error_log.append(f\"Label '{label_name}' (idx {idx}) not in class map.\")\n",
    "             return None\n",
    "        label = self.class_to_id[label_name]\n",
    "\n",
    "        file_path = os.path.join(self.melspec_dir, relative_path)\n",
    "\n",
    "        if not os.path.exists(file_path):\n",
    "             self.error_log.append(f\"File not found: {file_path}\")\n",
    "             return None\n",
    "\n",
    "        try:\n",
    "            loaded_object = torch.load(file_path, map_location=torch.device('cpu'))\n",
    "            if isinstance(loaded_object, (tuple, list)):\n",
    "                if len(loaded_object) > 0 and isinstance(loaded_object[0], torch.Tensor):\n",
    "                    spectrogram = loaded_object[0]\n",
    "                else: raise TypeError(\"Loaded tuple/list contains no tensor.\")\n",
    "            elif isinstance(loaded_object, torch.Tensor): spectrogram = loaded_object\n",
    "            else: raise TypeError(f\"Unexpected data type: {type(loaded_object)}\")\n",
    "\n",
    "            spectrogram = spectrogram.to(torch.float32)\n",
    "\n",
    "            if spectrogram.dim() > 2: spectrogram = spectrogram.squeeze()\n",
    "            if spectrogram.dim() != 2: raise ValueError(f\"Not 2D: {spectrogram.shape}\")\n",
    "\n",
    "            # Pad/Truncate Time Dim *before* resize\n",
    "            current_tdim = spectrogram.shape[-1]\n",
    "            if current_tdim > self.target_tdim:\n",
    "                start = (current_tdim - self.target_tdim) // 2\n",
    "                spectrogram = spectrogram[..., start:start + self.target_tdim]\n",
    "            elif current_tdim < self.target_tdim:\n",
    "                spectrogram = F.pad(spectrogram, (0, self.target_tdim - current_tdim))\n",
    "\n",
    "            # Add channel dimension: (H, W) -> (1, H, W) for transforms\n",
    "            spectrogram = spectrogram.unsqueeze(0)\n",
    "\n",
    "            if self.transform:\n",
    "                spectrogram = self.transform(spectrogram) # Apply transforms\n",
    "\n",
    "            # Final shape check (after transforms like Resize)\n",
    "            # Example: Should be (1, IMG_SIZE, IMG_SIZE) for EfficientNet\n",
    "            # if spectrogram.shape != (1, IMG_SIZE, IMG_SIZE):\n",
    "            #    self.error_log.append(f\"Unexpected shape after transform {spectrogram.shape} for {file_path}\")\n",
    "            #    return None\n",
    "\n",
    "            return spectrogram, label\n",
    "        except Exception as e:\n",
    "            self.error_log.append(f\"Error loading/processing {file_path}: {str(e)}\")\n",
    "            return None\n",
    "\n",
    "    def get_error_log(self):\n",
    "        return self.error_log\n",
    "\n",
    "print(\"Đã cập nhật xong SpectrogramDataset.\")\n",
    "\n",
    "def collate_fn_remove_none(batch):\n",
    "    batch = [item for item in batch if item is not None and item[0] is not None]\n",
    "    if not batch:\n",
    "        return torch.tensor([], device=device, dtype=torch.float32), torch.tensor([], device=device, dtype=torch.long)\n",
    "    try:\n",
    "        samples, labels = zip(*batch)\n",
    "        samples_stacked = torch.stack(samples)\n",
    "        labels_tensor = torch.tensor(labels, dtype=torch.long)\n",
    "        return samples_stacked, labels_tensor\n",
    "    except RuntimeError as e:\n",
    "        print(f\"Error stacking tensors in collate_fn: {e}\")\n",
    "        # Print shapes for debugging\n",
    "        for i, s in enumerate(samples): print(f\"Sample {i} shape: {s.shape}\")\n",
    "        return torch.tensor([], device=device, dtype=torch.float32), torch.tensor([], device=device, dtype=torch.long)\n",
    "    except Exception as e_gen:\n",
    "        print(f\"Generic error in collate_fn: {e_gen}\")\n",
    "        return torch.tensor([], device=device, dtype=torch.float32), torch.tensor([], device=device, dtype=torch.long)"
   ]
  },
  {
   "cell_type": "code",
   "execution_count": 5,
   "id": "5699f7b9-94b2-41a1-8c99-c25ef44f8f52",
   "metadata": {},
   "outputs": [],
   "source": [
    "def plot_roc_curve(val_labels, val_probs, class_names, save_path):\n",
    "    n_classes = len(class_names)\n",
    "    if n_classes <= 1:\n",
    "        print(\"ROC plotting skipped: <= 1 class.\")\n",
    "        return\n",
    "    val_labels_np = np.array(val_labels)\n",
    "    val_probs_np = np.array(val_probs)\n",
    "    if val_probs_np.shape[1] != n_classes:\n",
    "         print(f\"Warning: Prob columns ({val_probs_np.shape[1]}) != classes ({n_classes}). ROC incorrect.\")\n",
    "    fpr, tpr, roc_auc = dict(), dict(), dict()\n",
    "    try:\n",
    "        val_labels_one_hot = F.one_hot(torch.tensor(val_labels_np, dtype=torch.long), num_classes=n_classes).numpy()\n",
    "    except Exception as e:\n",
    "        print(f\"Error creating one-hot labels: {e}. Skipping ROC plot.\"); return\n",
    "    plt.figure(figsize=(10, 8))\n",
    "    for i in range(n_classes):\n",
    "        try:\n",
    "            fpr[i], tpr[i], _ = roc_curve(val_labels_one_hot[:, i], val_probs_np[:, i])\n",
    "            roc_auc[i] = auc(fpr[i], tpr[i])\n",
    "            plt.plot(fpr[i], tpr[i], lw=2, label=f'Class {class_names[i]} (AUC = {roc_auc[i]:.4f})')\n",
    "        except ValueError as e:\n",
    "            print(f\"ROC Calc Warn (Class {class_names[i]}): {e}\"); roc_auc[i] = float('nan')\n",
    "    plt.plot([0, 1], [0, 1], 'k--', lw=2, label='Chance (AUC = 0.50)')\n",
    "    plt.xlim([0.0, 1.0]); plt.ylim([0.0, 1.05])\n",
    "    plt.xlabel('False Positive Rate'); plt.ylabel('True Positive Rate')\n",
    "    plt.title('Multi-class ROC Curve (One-vs-Rest)'); plt.legend(loc=\"lower right\"); plt.grid(True)\n",
    "    try: plt.savefig(save_path)\n",
    "    except Exception as e: print(f\"ROC Save Err: {e}\")\n",
    "    plt.close()\n",
    "\n",
    "# --- Training and Evaluation Function ---\n",
    "def train_and_evaluate( model, train_loader, val_loader, epochs, results_dir, run_base_name, class_names ):\n",
    "    optimizer = torch.optim.AdamW(model.parameters(), lr=1e-4, weight_decay=1e-5) # Adjusted LR/WD\n",
    "    criterion = nn.CrossEntropyLoss()\n",
    "    scheduler = torch.optim.lr_scheduler.ReduceLROnPlateau(optimizer, 'max', factor=0.2, patience=5, verbose=True) # Verbose scheduler\n",
    "    scaler = torch.cuda.amp.GradScaler(enabled=torch.cuda.is_available())\n",
    "    best_f1_weighted = 0.0\n",
    "    best_metrics_dict = {}\n",
    "    os.makedirs(results_dir, exist_ok=True)\n",
    "    metrics_csv_path = os.path.join(results_dir, f\"metrics_history_{run_base_name}.csv\")\n",
    "    best_checkpoint_path = os.path.join(results_dir, f\"Best_{run_base_name}.pth\")\n",
    "    report_path = os.path.join(results_dir, f\"Best_{run_base_name}_report.txt\")\n",
    "    cm_path = os.path.join(results_dir, f\"Best_{run_base_name}_confusion_matrix.csv\")\n",
    "    auc_plot_path = os.path.join(results_dir, f\"Best_{run_base_name}_AUC_ROC.png\")\n",
    "    csv_header = ['Epoch', 'LR', 'Train_Loss', 'Accuracy', 'Precision_micro', 'Precision_macro', 'Precision_w', 'Recall_micro', 'Recall_macro', 'Recall_w', 'F1_micro', 'F1_macro', 'F1_w', 'AUC_macro_ovr']\n",
    "    if not os.path.exists(metrics_csv_path):\n",
    "        pd.DataFrame(columns=csv_header).to_csv(metrics_csv_path, index=False)\n",
    "\n",
    "    print(f\"\\nStarting training for {run_base_name}...\")\n",
    "    for epoch in range(epochs):\n",
    "        model.train()\n",
    "        train_loss = 0.0; num_train_batches = 0\n",
    "        loop = tqdm(train_loader, desc=f\"Epoch {epoch+1}/{epochs} [Train]\", leave=False)\n",
    "        for inputs, labels in loop:\n",
    "            if inputs.shape[0] == 0: continue\n",
    "            inputs, labels = inputs.to(device), labels.to(device)\n",
    "            optimizer.zero_grad(set_to_none=True)\n",
    "            with torch.cuda.amp.autocast(enabled=torch.cuda.is_available()):\n",
    "                outputs = model(inputs)\n",
    "                loss = criterion(outputs, labels)\n",
    "            scaler.scale(loss).backward()\n",
    "            scaler.step(optimizer)\n",
    "            scaler.update()\n",
    "            train_loss += loss.item(); num_train_batches += 1\n",
    "            loop.set_postfix(loss=loss.item())\n",
    "        avg_train_loss = train_loss / num_train_batches if num_train_batches > 0 else 0\n",
    "        current_lr = optimizer.param_groups[0]['lr']\n",
    "\n",
    "        model.eval()\n",
    "        val_preds, val_labels, val_probs = [], [], []\n",
    "        val_loop = tqdm(val_loader, desc=f\"Epoch {epoch+1}/{epochs} [Val]\", leave=False)\n",
    "        with torch.no_grad():\n",
    "            for inputs, labels in val_loop:\n",
    "                if inputs.shape[0] == 0: continue\n",
    "                inputs, labels = inputs.to(device), labels.to(device)\n",
    "                with torch.cuda.amp.autocast(enabled=torch.cuda.is_available()):\n",
    "                    outputs = model(inputs)\n",
    "                probs = F.softmax(outputs, dim=1)\n",
    "                _, predicted = torch.max(outputs, 1) # Use outputs directly\n",
    "                val_preds.extend(predicted.cpu().numpy())\n",
    "                val_labels.extend(labels.cpu().numpy())\n",
    "                val_probs.extend(probs.cpu().numpy())\n",
    "\n",
    "        if not val_labels:\n",
    "            print(f\"Epoch {epoch+1}: No validation samples processed. Skipping metrics.\")\n",
    "            continue\n",
    "        val_labels_np = np.array(val_labels); val_preds_np = np.array(val_preds); val_probs_np = np.array(val_probs)\n",
    "        metrics_data = {'Epoch': epoch + 1, 'LR': current_lr, 'Train_Loss': avg_train_loss}\n",
    "        try:\n",
    "             metrics_data['Accuracy'] = accuracy_score(val_labels_np, val_preds_np)\n",
    "             metrics_data['Precision_micro'] = precision_score(val_labels_np, val_preds_np, average='micro', zero_division=0)\n",
    "             metrics_data['Precision_macro'] = precision_score(val_labels_np, val_preds_np, average='macro', zero_division=0)\n",
    "             metrics_data['Precision_w'] = precision_score(val_labels_np, val_preds_np, average='weighted', zero_division=0)\n",
    "             metrics_data['Recall_micro'] = recall_score(val_labels_np, val_preds_np, average='micro', zero_division=0)\n",
    "             metrics_data['Recall_macro'] = recall_score(val_labels_np, val_preds_np, average='macro', zero_division=0)\n",
    "             metrics_data['Recall_w'] = recall_score(val_labels_np, val_preds_np, average='weighted', zero_division=0)\n",
    "             metrics_data['F1_micro'] = f1_score(val_labels_np, val_preds_np, average='micro', zero_division=0)\n",
    "             metrics_data['F1_macro'] = f1_score(val_labels_np, val_preds_np, average='macro', zero_division=0)\n",
    "             metrics_data['F1_w'] = f1_score(val_labels_np, val_preds_np, average='weighted', zero_division=0)\n",
    "             if len(np.unique(val_labels_np)) > 1 and val_probs_np.shape[1] == len(class_names):\n",
    "                try: metrics_data['AUC_macro_ovr'] = roc_auc_score(val_labels_np, val_probs_np, multi_class='ovr', average='macro')\n",
    "                except ValueError as auc_error: metrics_data['AUC_macro_ovr'] = 0.0; print(f\"AUC Calc Warn: {auc_error}\")\n",
    "             else: metrics_data['AUC_macro_ovr'] = 0.0\n",
    "        except Exception as metric_error: print(f\"Metric Calc Err: {metric_error}\"); continue\n",
    "        try:\n",
    "             ordered_metrics = {h: metrics_data.get(h, None) for h in csv_header}\n",
    "             pd.DataFrame([ordered_metrics]).to_csv(metrics_csv_path, mode='a', header=False, index=False)\n",
    "        except Exception as csv_error: print(f\"CSV Write Err: {csv_error}\")\n",
    "\n",
    "        current_f1_weighted = metrics_data.get('F1_w', 0.0)\n",
    "        print(f\"Epoch {epoch+1}: TrainLoss={avg_train_loss:.4f}, F1-W={current_f1_weighted:.4f}, Acc={metrics_data.get('Accuracy', 0.0):.4f}, AUC={metrics_data.get('AUC_macro_ovr', 0.0):.4f}\")\n",
    "\n",
    "        if current_f1_weighted > best_f1_weighted:\n",
    "            best_f1_weighted = current_f1_weighted\n",
    "            best_metrics_dict = metrics_data.copy()\n",
    "            print(f\"  -> New best F1-W: {best_f1_weighted:.4f}. Saving artifacts.\")\n",
    "            try: torch.save(model.state_dict(), best_checkpoint_path)\n",
    "            except Exception as e: print(f\"Save Err: {e}\")\n",
    "            try:\n",
    "                report = classification_report(val_labels_np, val_preds_np, target_names=class_names, digits=4, zero_division=0)\n",
    "                with open(report_path, 'w', encoding='utf-8') as f:\n",
    "                    f.write(f\"--- Best Metrics (Epoch {best_metrics_dict.get('Epoch', 'N/A')}) ---\\n\")\n",
    "                    for k, v in best_metrics_dict.items():\n",
    "                        if k not in ['Epoch', 'LR', 'Train_Loss']: f.write(f\"{k}: {v:.4f}\\n\")\n",
    "                    f.write(\"\\n--- Classification Report ---\\n\"); f.write(report)\n",
    "            except Exception as e: print(f\"Report Save Err: {e}\")\n",
    "            try:\n",
    "                cm_df = pd.DataFrame(confusion_matrix(val_labels_np, val_preds_np), index=class_names, columns=class_names)\n",
    "                cm_df.to_csv(cm_path)\n",
    "            except Exception as e: print(f\"CM Save Err: {e}\")\n",
    "            if metrics_data.get('AUC_macro_ovr', 0.0) > 0.0:\n",
    "                try: plot_roc_curve(val_labels_np, val_probs_np, class_names, auc_plot_path)\n",
    "                except Exception as e: print(f\"ROC Plot Err: {e}\")\n",
    "        scheduler.step(current_f1_weighted)\n",
    "\n",
    "    print(f\"\\nFinished Training for {run_base_name}. Best F1-W: {best_f1_weighted:.4f} at Epoch {best_metrics_dict.get('Epoch', 'N/A')}\")\n",
    "    # Reporting errors after full run for this percentage\n",
    "    train_errors = train_loader.dataset.get_error_log()\n",
    "    if train_errors:\n",
    "         print(f\"\\n--- Train Dataset Errors ({len(train_errors)} files) for {run_base_name} ---\")\n",
    "         [print(err) for err in train_errors[:min(10, len(train_errors))]]; print(\"...\" if len(train_errors)>10 else \"\")\n",
    "    # Validation errors only need to be reported once if test_loader is reused\n",
    "    # val_errors = val_loader.dataset.get_error_log() ...\n",
    "    return best_metrics_dict"
   ]
  },
  {
   "cell_type": "code",
   "execution_count": 6,
   "id": "c9191745-91a2-4256-9658-e310bbaf185b",
   "metadata": {},
   "outputs": [
    {
     "name": "stdout",
     "output_type": "stream",
     "text": [
      "Tất cả kết quả sẽ được lưu vào các thư mục con trong: C:\\Users\\PC\\lavar\\audiotwin_checkpoints_medium\\Finetune_Dataset_with_mixed_noise_timeshift\\SOTA_finetune_compare\n"
     ]
    }
   ],
   "source": [
    "MELSPEC_DIR = r'C:\\Users\\PC\\lavar\\audiotwin_checkpoints_medium\\Finetune_Dataset_with_mixed_noise_timeshift\\Finetune_MelSpec'\n",
    "METADATA_PATH = r'C:\\Users\\PC\\lavar\\audiotwin_checkpoints_medium\\Finetune_Dataset_with_mixed_noise_timeshift\\metadata_Finetune_MelSpec.csv'\n",
    "BASE_OUTPUT_DIR = r'C:\\Users\\PC\\lavar\\audiotwin_checkpoints_medium\\Finetune_Dataset_with_mixed_noise_timeshift\\SOTA_finetune_compare'\n",
    "print(f\"Tất cả kết quả sẽ được lưu vào các thư mục con trong: {BASE_OUTPUT_DIR}\")\n",
    "os.makedirs(BASE_OUTPUT_DIR, exist_ok=True)\n",
    "\n",
    "DATA_PERCENTAGES = [0.25, 0.5, 1.0] # Hoặc [1.0] để chạy nhanh\n",
    "results = {}"
   ]
  },
  {
   "cell_type": "code",
   "execution_count": 7,
   "id": "4603fd4c-d710-4aa0-adcc-b89c82d1b313",
   "metadata": {},
   "outputs": [
    {
     "name": "stdout",
     "output_type": "stream",
     "text": [
      "Preparing dataset...\n",
      "Number of classes: 8\n",
      "Data split: 11240 train, 2810 test.\n",
      "Class names: ['Gryllus_bimaculatus', 'Gryllus_campestris', 'Halyomorpha', 'Melolontha_melolontha', 'Myzus', 'Nezara', 'Trialeurodes', 'Tuta']\n",
      "Test dataset size: 2810\n"
     ]
    }
   ],
   "source": [
    "print(\"Preparing dataset...\")\n",
    "try:\n",
    "    full_metadata = pd.read_csv(METADATA_PATH)\n",
    "except FileNotFoundError: print(f\"Error: Metadata file not found: {METADATA_PATH}\"); exit()\n",
    "if 'file_path' not in full_metadata.columns or 'label' not in full_metadata.columns:\n",
    "    print(\"Error: Metadata CSV must contain 'file_path' and 'label'.\"); exit()\n",
    "initial_len = len(full_metadata)\n",
    "full_metadata.dropna(subset=['file_path', 'label'], inplace=True)\n",
    "if len(full_metadata) < initial_len: print(f\"Warning: Dropped {initial_len - len(full_metadata)} rows with missing values.\")\n",
    "\n",
    "num_classes = len(full_metadata['label'].unique())\n",
    "if num_classes == 0: print(\"Error: No classes found.\"); exit()\n",
    "print(f\"Number of classes: {num_classes}\")\n",
    "\n",
    "indices = np.arange(len(full_metadata)); labels = full_metadata['label'].values\n",
    "try:\n",
    "    train_indices, test_indices = train_test_split(indices, test_size=0.2, random_state=SEED, stratify=labels)\n",
    "    print(f\"Data split: {len(train_indices)} train, {len(test_indices)} test.\")\n",
    "except ValueError as e:\n",
    "     print(f\"Stratify Error: {e}. Using non-stratified split.\"); train_indices, test_indices = train_test_split(indices, test_size=0.2, random_state=SEED)\n",
    "     print(f\"Split: {len(train_indices)} train, {len(test_indices)} test.\")\n",
    "\n",
    "# --- Create Test Loader (using val_transform_effnet) ---\n",
    "test_metadata = full_metadata.iloc[test_indices].copy()\n",
    "try:\n",
    "    test_dataset = SpectrogramDataset(metadata_df=test_metadata, melspec_dir=MELSPEC_DIR, transform=val_transform_effnet) # USE EFFNET TRANSFORM\n",
    "    test_loader = DataLoader(test_dataset, batch_size=32, shuffle=False, num_workers=0, collate_fn=collate_fn_remove_none, pin_memory=torch.cuda.is_available())\n",
    "    class_names_list = test_dataset.class_names\n",
    "    print(f\"Class names: {class_names_list}\")\n",
    "    print(f\"Test dataset size: {len(test_dataset)}\")\n",
    "except ValueError as e: # Catch potential errors from Dataset init\n",
    "    print(f\"Error initializing test dataset: {e}\"); exit()\n",
    "except Exception as e_gen:\n",
    "    print(f\"Unexpected error initializing test dataset: {e_gen}\"); exit()\n",
    "\n",
    "# --- Define Model Configs (using EfficientNetB0) ---\n",
    "model_configs = {\n",
    "    \"EfficientNetB0\": {\n",
    "        \"model_class\": EfficientNet_AudioClassifier,\n",
    "        \"args\": {\"num_classes\": num_classes, \"input_channels\": 1, \"pretrained\": True}\n",
    "    }\n",
    "}"
   ]
  },
  {
   "cell_type": "code",
   "execution_count": 8,
   "id": "cf91cad8-8b36-4a21-890e-529b677b52ed",
   "metadata": {},
   "outputs": [
    {
     "name": "stdout",
     "output_type": "stream",
     "text": [
      "\n",
      "==================== Evaluating: EfficientNetB0 ====================\n",
      "Saving results for this model to: C:\\Users\\PC\\lavar\\audiotwin_checkpoints_medium\\Finetune_Dataset_with_mixed_noise_timeshift\\SOTA_finetune_compare\\EfficientNetB0\n",
      "\n",
      "--- Training with 25.0% of labeled data ---\n",
      "Train dataset subset size: 2810\n",
      "Adapting EfficientNetB0 pretrained weights from 3 to 1 channels.\n",
      "\n",
      "Starting training for EfficientNetB0_data_25percent...\n"
     ]
    },
    {
     "name": "stderr",
     "output_type": "stream",
     "text": [
      "C:\\Users\\PC\\anaconda3\\envs\\train_env\\lib\\site-packages\\torch\\optim\\lr_scheduler.py:62: UserWarning: The verbose parameter is deprecated. Please use get_last_lr() to access the learning rate.\n",
      "  warnings.warn(\n"
     ]
    },
    {
     "data": {
      "application/vnd.jupyter.widget-view+json": {
       "model_id": "958d33cfbb8f496b978e6f4fe230bcf8",
       "version_major": 2,
       "version_minor": 0
      },
      "text/plain": [
       "Epoch 1/100 [Train]:   0%|          | 0/88 [00:00<?, ?it/s]"
      ]
     },
     "metadata": {},
     "output_type": "display_data"
    },
    {
     "data": {
      "application/vnd.jupyter.widget-view+json": {
       "model_id": "4b902191cae0450c99e3c5ace1f60aca",
       "version_major": 2,
       "version_minor": 0
      },
      "text/plain": [
       "Epoch 1/100 [Val]:   0%|          | 0/88 [00:00<?, ?it/s]"
      ]
     },
     "metadata": {},
     "output_type": "display_data"
    },
    {
     "name": "stdout",
     "output_type": "stream",
     "text": [
      "AUC Calc Warn: Target scores need to be probabilities for multiclass roc_auc, i.e. they should sum up to 1.0 over classes\n",
      "Epoch 1: TrainLoss=1.5584, F1-W=0.5434, Acc=0.5779, AUC=0.0000\n",
      "  -> New best F1-W: 0.5434. Saving artifacts.\n"
     ]
    },
    {
     "data": {
      "application/vnd.jupyter.widget-view+json": {
       "model_id": "329b538f91e641099cb37f005be48f12",
       "version_major": 2,
       "version_minor": 0
      },
      "text/plain": [
       "Epoch 2/100 [Train]:   0%|          | 0/88 [00:00<?, ?it/s]"
      ]
     },
     "metadata": {},
     "output_type": "display_data"
    },
    {
     "data": {
      "application/vnd.jupyter.widget-view+json": {
       "model_id": "b071ee6d76b1424fae34beb09d0fe3f7",
       "version_major": 2,
       "version_minor": 0
      },
      "text/plain": [
       "Epoch 2/100 [Val]:   0%|          | 0/88 [00:00<?, ?it/s]"
      ]
     },
     "metadata": {},
     "output_type": "display_data"
    },
    {
     "name": "stdout",
     "output_type": "stream",
     "text": [
      "AUC Calc Warn: Target scores need to be probabilities for multiclass roc_auc, i.e. they should sum up to 1.0 over classes\n",
      "Epoch 2: TrainLoss=1.0420, F1-W=0.6093, Acc=0.6331, AUC=0.0000\n",
      "  -> New best F1-W: 0.6093. Saving artifacts.\n"
     ]
    },
    {
     "data": {
      "application/vnd.jupyter.widget-view+json": {
       "model_id": "88232bae649c4cf0988d2f627f14d771",
       "version_major": 2,
       "version_minor": 0
      },
      "text/plain": [
       "Epoch 3/100 [Train]:   0%|          | 0/88 [00:00<?, ?it/s]"
      ]
     },
     "metadata": {},
     "output_type": "display_data"
    },
    {
     "data": {
      "application/vnd.jupyter.widget-view+json": {
       "model_id": "cddbcc8a743b4d4dba8f8b4abcc1ee85",
       "version_major": 2,
       "version_minor": 0
      },
      "text/plain": [
       "Epoch 3/100 [Val]:   0%|          | 0/88 [00:00<?, ?it/s]"
      ]
     },
     "metadata": {},
     "output_type": "display_data"
    },
    {
     "name": "stdout",
     "output_type": "stream",
     "text": [
      "AUC Calc Warn: Target scores need to be probabilities for multiclass roc_auc, i.e. they should sum up to 1.0 over classes\n",
      "Epoch 3: TrainLoss=0.8710, F1-W=0.6600, Acc=0.6715, AUC=0.0000\n",
      "  -> New best F1-W: 0.6600. Saving artifacts.\n"
     ]
    },
    {
     "data": {
      "application/vnd.jupyter.widget-view+json": {
       "model_id": "f009cd32b65045e0ba41f9dac0ba3c15",
       "version_major": 2,
       "version_minor": 0
      },
      "text/plain": [
       "Epoch 4/100 [Train]:   0%|          | 0/88 [00:00<?, ?it/s]"
      ]
     },
     "metadata": {},
     "output_type": "display_data"
    },
    {
     "data": {
      "application/vnd.jupyter.widget-view+json": {
       "model_id": "3dc0e3ad586748b59fdbcb8ee7bf4ed7",
       "version_major": 2,
       "version_minor": 0
      },
      "text/plain": [
       "Epoch 4/100 [Val]:   0%|          | 0/88 [00:00<?, ?it/s]"
      ]
     },
     "metadata": {},
     "output_type": "display_data"
    },
    {
     "name": "stdout",
     "output_type": "stream",
     "text": [
      "AUC Calc Warn: Target scores need to be probabilities for multiclass roc_auc, i.e. they should sum up to 1.0 over classes\n",
      "Epoch 4: TrainLoss=0.7663, F1-W=0.7029, Acc=0.7082, AUC=0.0000\n",
      "  -> New best F1-W: 0.7029. Saving artifacts.\n"
     ]
    },
    {
     "data": {
      "application/vnd.jupyter.widget-view+json": {
       "model_id": "11bbde5eb1fd4251a4d446c272f0e4f8",
       "version_major": 2,
       "version_minor": 0
      },
      "text/plain": [
       "Epoch 5/100 [Train]:   0%|          | 0/88 [00:00<?, ?it/s]"
      ]
     },
     "metadata": {},
     "output_type": "display_data"
    },
    {
     "data": {
      "application/vnd.jupyter.widget-view+json": {
       "model_id": "6a49c733ef74448ea0159d0f52964e9d",
       "version_major": 2,
       "version_minor": 0
      },
      "text/plain": [
       "Epoch 5/100 [Val]:   0%|          | 0/88 [00:00<?, ?it/s]"
      ]
     },
     "metadata": {},
     "output_type": "display_data"
    },
    {
     "name": "stdout",
     "output_type": "stream",
     "text": [
      "AUC Calc Warn: Target scores need to be probabilities for multiclass roc_auc, i.e. they should sum up to 1.0 over classes\n",
      "Epoch 5: TrainLoss=0.6861, F1-W=0.7363, Acc=0.7363, AUC=0.0000\n",
      "  -> New best F1-W: 0.7363. Saving artifacts.\n"
     ]
    },
    {
     "data": {
      "application/vnd.jupyter.widget-view+json": {
       "model_id": "9b76ecfbade94cfa9eb1c12dc65a3a3b",
       "version_major": 2,
       "version_minor": 0
      },
      "text/plain": [
       "Epoch 6/100 [Train]:   0%|          | 0/88 [00:00<?, ?it/s]"
      ]
     },
     "metadata": {},
     "output_type": "display_data"
    },
    {
     "data": {
      "application/vnd.jupyter.widget-view+json": {
       "model_id": "966dc6d8d7824fa2ae1b101542971700",
       "version_major": 2,
       "version_minor": 0
      },
      "text/plain": [
       "Epoch 6/100 [Val]:   0%|          | 0/88 [00:00<?, ?it/s]"
      ]
     },
     "metadata": {},
     "output_type": "display_data"
    },
    {
     "name": "stdout",
     "output_type": "stream",
     "text": [
      "AUC Calc Warn: Target scores need to be probabilities for multiclass roc_auc, i.e. they should sum up to 1.0 over classes\n",
      "Epoch 6: TrainLoss=0.6629, F1-W=0.7407, Acc=0.7413, AUC=0.0000\n",
      "  -> New best F1-W: 0.7407. Saving artifacts.\n"
     ]
    },
    {
     "data": {
      "application/vnd.jupyter.widget-view+json": {
       "model_id": "158d1927b02045da8ee38bcf6385654e",
       "version_major": 2,
       "version_minor": 0
      },
      "text/plain": [
       "Epoch 7/100 [Train]:   0%|          | 0/88 [00:00<?, ?it/s]"
      ]
     },
     "metadata": {},
     "output_type": "display_data"
    },
    {
     "data": {
      "application/vnd.jupyter.widget-view+json": {
       "model_id": "452a3a920f944f63afe8bbe0278e1f0d",
       "version_major": 2,
       "version_minor": 0
      },
      "text/plain": [
       "Epoch 7/100 [Val]:   0%|          | 0/88 [00:00<?, ?it/s]"
      ]
     },
     "metadata": {},
     "output_type": "display_data"
    },
    {
     "name": "stdout",
     "output_type": "stream",
     "text": [
      "AUC Calc Warn: Target scores need to be probabilities for multiclass roc_auc, i.e. they should sum up to 1.0 over classes\n",
      "Epoch 7: TrainLoss=0.5924, F1-W=0.7621, Acc=0.7626, AUC=0.0000\n",
      "  -> New best F1-W: 0.7621. Saving artifacts.\n"
     ]
    },
    {
     "data": {
      "application/vnd.jupyter.widget-view+json": {
       "model_id": "1c697a6dd3ed435c93efe278112d916f",
       "version_major": 2,
       "version_minor": 0
      },
      "text/plain": [
       "Epoch 8/100 [Train]:   0%|          | 0/88 [00:00<?, ?it/s]"
      ]
     },
     "metadata": {},
     "output_type": "display_data"
    },
    {
     "data": {
      "application/vnd.jupyter.widget-view+json": {
       "model_id": "18793e1dddb84a8cbd92b5b442078f31",
       "version_major": 2,
       "version_minor": 0
      },
      "text/plain": [
       "Epoch 8/100 [Val]:   0%|          | 0/88 [00:00<?, ?it/s]"
      ]
     },
     "metadata": {},
     "output_type": "display_data"
    },
    {
     "name": "stdout",
     "output_type": "stream",
     "text": [
      "AUC Calc Warn: Target scores need to be probabilities for multiclass roc_auc, i.e. they should sum up to 1.0 over classes\n",
      "Epoch 8: TrainLoss=0.5597, F1-W=0.7711, Acc=0.7722, AUC=0.0000\n",
      "  -> New best F1-W: 0.7711. Saving artifacts.\n"
     ]
    },
    {
     "data": {
      "application/vnd.jupyter.widget-view+json": {
       "model_id": "c81b42b9b9224f5ba5fe7ce33758edb4",
       "version_major": 2,
       "version_minor": 0
      },
      "text/plain": [
       "Epoch 9/100 [Train]:   0%|          | 0/88 [00:00<?, ?it/s]"
      ]
     },
     "metadata": {},
     "output_type": "display_data"
    },
    {
     "data": {
      "application/vnd.jupyter.widget-view+json": {
       "model_id": "1a4980996eef4645879591e65a533902",
       "version_major": 2,
       "version_minor": 0
      },
      "text/plain": [
       "Epoch 9/100 [Val]:   0%|          | 0/88 [00:00<?, ?it/s]"
      ]
     },
     "metadata": {},
     "output_type": "display_data"
    },
    {
     "name": "stdout",
     "output_type": "stream",
     "text": [
      "AUC Calc Warn: Target scores need to be probabilities for multiclass roc_auc, i.e. they should sum up to 1.0 over classes\n",
      "Epoch 9: TrainLoss=0.4994, F1-W=0.7691, Acc=0.7694, AUC=0.0000\n"
     ]
    },
    {
     "data": {
      "application/vnd.jupyter.widget-view+json": {
       "model_id": "6b049068803d44a0903666fcc1f0ddd3",
       "version_major": 2,
       "version_minor": 0
      },
      "text/plain": [
       "Epoch 10/100 [Train]:   0%|          | 0/88 [00:00<?, ?it/s]"
      ]
     },
     "metadata": {},
     "output_type": "display_data"
    },
    {
     "data": {
      "application/vnd.jupyter.widget-view+json": {
       "model_id": "db45b38b0ce64d94a7d65b465bd0678c",
       "version_major": 2,
       "version_minor": 0
      },
      "text/plain": [
       "Epoch 10/100 [Val]:   0%|          | 0/88 [00:00<?, ?it/s]"
      ]
     },
     "metadata": {},
     "output_type": "display_data"
    },
    {
     "name": "stdout",
     "output_type": "stream",
     "text": [
      "AUC Calc Warn: Target scores need to be probabilities for multiclass roc_auc, i.e. they should sum up to 1.0 over classes\n",
      "Epoch 10: TrainLoss=0.4321, F1-W=0.7535, Acc=0.7569, AUC=0.0000\n"
     ]
    },
    {
     "data": {
      "application/vnd.jupyter.widget-view+json": {
       "model_id": "8fd1c7130302443b8a6ca4f849dbe829",
       "version_major": 2,
       "version_minor": 0
      },
      "text/plain": [
       "Epoch 11/100 [Train]:   0%|          | 0/88 [00:00<?, ?it/s]"
      ]
     },
     "metadata": {},
     "output_type": "display_data"
    },
    {
     "data": {
      "application/vnd.jupyter.widget-view+json": {
       "model_id": "7b2845df3dbc4ec78291dff8838a5c2d",
       "version_major": 2,
       "version_minor": 0
      },
      "text/plain": [
       "Epoch 11/100 [Val]:   0%|          | 0/88 [00:00<?, ?it/s]"
      ]
     },
     "metadata": {},
     "output_type": "display_data"
    },
    {
     "name": "stdout",
     "output_type": "stream",
     "text": [
      "AUC Calc Warn: Target scores need to be probabilities for multiclass roc_auc, i.e. they should sum up to 1.0 over classes\n",
      "Epoch 11: TrainLoss=0.4420, F1-W=0.7811, Acc=0.7811, AUC=0.0000\n",
      "  -> New best F1-W: 0.7811. Saving artifacts.\n"
     ]
    },
    {
     "data": {
      "application/vnd.jupyter.widget-view+json": {
       "model_id": "4f79767b0d004cf98fb49a8f6c1e48d9",
       "version_major": 2,
       "version_minor": 0
      },
      "text/plain": [
       "Epoch 12/100 [Train]:   0%|          | 0/88 [00:00<?, ?it/s]"
      ]
     },
     "metadata": {},
     "output_type": "display_data"
    },
    {
     "data": {
      "application/vnd.jupyter.widget-view+json": {
       "model_id": "04878039e3284de6906f85364c54ed9c",
       "version_major": 2,
       "version_minor": 0
      },
      "text/plain": [
       "Epoch 12/100 [Val]:   0%|          | 0/88 [00:00<?, ?it/s]"
      ]
     },
     "metadata": {},
     "output_type": "display_data"
    },
    {
     "name": "stdout",
     "output_type": "stream",
     "text": [
      "AUC Calc Warn: Target scores need to be probabilities for multiclass roc_auc, i.e. they should sum up to 1.0 over classes\n",
      "Epoch 12: TrainLoss=0.3901, F1-W=0.7781, Acc=0.7783, AUC=0.0000\n"
     ]
    },
    {
     "data": {
      "application/vnd.jupyter.widget-view+json": {
       "model_id": "63d2813d8872479381c8dda3063eeb0c",
       "version_major": 2,
       "version_minor": 0
      },
      "text/plain": [
       "Epoch 13/100 [Train]:   0%|          | 0/88 [00:00<?, ?it/s]"
      ]
     },
     "metadata": {},
     "output_type": "display_data"
    },
    {
     "data": {
      "application/vnd.jupyter.widget-view+json": {
       "model_id": "8e0577aa2c7d485ba887d0cc5f07bdf4",
       "version_major": 2,
       "version_minor": 0
      },
      "text/plain": [
       "Epoch 13/100 [Val]:   0%|          | 0/88 [00:00<?, ?it/s]"
      ]
     },
     "metadata": {},
     "output_type": "display_data"
    },
    {
     "name": "stdout",
     "output_type": "stream",
     "text": [
      "AUC Calc Warn: Target scores need to be probabilities for multiclass roc_auc, i.e. they should sum up to 1.0 over classes\n",
      "Epoch 13: TrainLoss=0.3387, F1-W=0.7844, Acc=0.7840, AUC=0.0000\n",
      "  -> New best F1-W: 0.7844. Saving artifacts.\n"
     ]
    },
    {
     "data": {
      "application/vnd.jupyter.widget-view+json": {
       "model_id": "06f9430330e74f6a9f28f1ce5d2dec52",
       "version_major": 2,
       "version_minor": 0
      },
      "text/plain": [
       "Epoch 14/100 [Train]:   0%|          | 0/88 [00:00<?, ?it/s]"
      ]
     },
     "metadata": {},
     "output_type": "display_data"
    },
    {
     "data": {
      "application/vnd.jupyter.widget-view+json": {
       "model_id": "d5aa6c01f98c445eb40fe1402b078f01",
       "version_major": 2,
       "version_minor": 0
      },
      "text/plain": [
       "Epoch 14/100 [Val]:   0%|          | 0/88 [00:00<?, ?it/s]"
      ]
     },
     "metadata": {},
     "output_type": "display_data"
    },
    {
     "name": "stdout",
     "output_type": "stream",
     "text": [
      "AUC Calc Warn: Target scores need to be probabilities for multiclass roc_auc, i.e. they should sum up to 1.0 over classes\n",
      "Epoch 14: TrainLoss=0.3422, F1-W=0.7900, Acc=0.7911, AUC=0.0000\n",
      "  -> New best F1-W: 0.7900. Saving artifacts.\n"
     ]
    },
    {
     "data": {
      "application/vnd.jupyter.widget-view+json": {
       "model_id": "1ae9e09857ad47b4997bcdf8702de7b2",
       "version_major": 2,
       "version_minor": 0
      },
      "text/plain": [
       "Epoch 15/100 [Train]:   0%|          | 0/88 [00:00<?, ?it/s]"
      ]
     },
     "metadata": {},
     "output_type": "display_data"
    },
    {
     "data": {
      "application/vnd.jupyter.widget-view+json": {
       "model_id": "1b9d9ec0985f4536bed7b0a76cf33cab",
       "version_major": 2,
       "version_minor": 0
      },
      "text/plain": [
       "Epoch 15/100 [Val]:   0%|          | 0/88 [00:00<?, ?it/s]"
      ]
     },
     "metadata": {},
     "output_type": "display_data"
    },
    {
     "name": "stdout",
     "output_type": "stream",
     "text": [
      "AUC Calc Warn: Target scores need to be probabilities for multiclass roc_auc, i.e. they should sum up to 1.0 over classes\n",
      "Epoch 15: TrainLoss=0.3219, F1-W=0.7832, Acc=0.7836, AUC=0.0000\n"
     ]
    },
    {
     "data": {
      "application/vnd.jupyter.widget-view+json": {
       "model_id": "b4be913d087f47cfac0623e6e3a7a71c",
       "version_major": 2,
       "version_minor": 0
      },
      "text/plain": [
       "Epoch 16/100 [Train]:   0%|          | 0/88 [00:00<?, ?it/s]"
      ]
     },
     "metadata": {},
     "output_type": "display_data"
    },
    {
     "data": {
      "application/vnd.jupyter.widget-view+json": {
       "model_id": "e0a23f4a410c4ee795d1304ed009bb7a",
       "version_major": 2,
       "version_minor": 0
      },
      "text/plain": [
       "Epoch 16/100 [Val]:   0%|          | 0/88 [00:00<?, ?it/s]"
      ]
     },
     "metadata": {},
     "output_type": "display_data"
    },
    {
     "name": "stdout",
     "output_type": "stream",
     "text": [
      "AUC Calc Warn: Target scores need to be probabilities for multiclass roc_auc, i.e. they should sum up to 1.0 over classes\n",
      "Epoch 16: TrainLoss=0.2939, F1-W=0.7878, Acc=0.7890, AUC=0.0000\n"
     ]
    },
    {
     "data": {
      "application/vnd.jupyter.widget-view+json": {
       "model_id": "2af20aa68d944a99b80ff8be0878ae03",
       "version_major": 2,
       "version_minor": 0
      },
      "text/plain": [
       "Epoch 17/100 [Train]:   0%|          | 0/88 [00:00<?, ?it/s]"
      ]
     },
     "metadata": {},
     "output_type": "display_data"
    },
    {
     "data": {
      "application/vnd.jupyter.widget-view+json": {
       "model_id": "130ec6ff2ce34acf813bbc9767a72f12",
       "version_major": 2,
       "version_minor": 0
      },
      "text/plain": [
       "Epoch 17/100 [Val]:   0%|          | 0/88 [00:00<?, ?it/s]"
      ]
     },
     "metadata": {},
     "output_type": "display_data"
    },
    {
     "name": "stdout",
     "output_type": "stream",
     "text": [
      "AUC Calc Warn: Target scores need to be probabilities for multiclass roc_auc, i.e. they should sum up to 1.0 over classes\n",
      "Epoch 17: TrainLoss=0.2906, F1-W=0.7943, Acc=0.7947, AUC=0.0000\n",
      "  -> New best F1-W: 0.7943. Saving artifacts.\n"
     ]
    },
    {
     "data": {
      "application/vnd.jupyter.widget-view+json": {
       "model_id": "77e29f1f5ff14af8a7a496cb94419863",
       "version_major": 2,
       "version_minor": 0
      },
      "text/plain": [
       "Epoch 18/100 [Train]:   0%|          | 0/88 [00:00<?, ?it/s]"
      ]
     },
     "metadata": {},
     "output_type": "display_data"
    },
    {
     "data": {
      "application/vnd.jupyter.widget-view+json": {
       "model_id": "52c637069a6442ddba36551c2ea0a711",
       "version_major": 2,
       "version_minor": 0
      },
      "text/plain": [
       "Epoch 18/100 [Val]:   0%|          | 0/88 [00:00<?, ?it/s]"
      ]
     },
     "metadata": {},
     "output_type": "display_data"
    },
    {
     "name": "stdout",
     "output_type": "stream",
     "text": [
      "AUC Calc Warn: Target scores need to be probabilities for multiclass roc_auc, i.e. they should sum up to 1.0 over classes\n",
      "Epoch 18: TrainLoss=0.2504, F1-W=0.7978, Acc=0.7986, AUC=0.0000\n",
      "  -> New best F1-W: 0.7978. Saving artifacts.\n"
     ]
    },
    {
     "data": {
      "application/vnd.jupyter.widget-view+json": {
       "model_id": "c1c02fddfbeb41cf9f6e3e83e29db40a",
       "version_major": 2,
       "version_minor": 0
      },
      "text/plain": [
       "Epoch 19/100 [Train]:   0%|          | 0/88 [00:00<?, ?it/s]"
      ]
     },
     "metadata": {},
     "output_type": "display_data"
    },
    {
     "data": {
      "application/vnd.jupyter.widget-view+json": {
       "model_id": "4da241d9362f48838d4b4fc61cc9c6f2",
       "version_major": 2,
       "version_minor": 0
      },
      "text/plain": [
       "Epoch 19/100 [Val]:   0%|          | 0/88 [00:00<?, ?it/s]"
      ]
     },
     "metadata": {},
     "output_type": "display_data"
    },
    {
     "name": "stdout",
     "output_type": "stream",
     "text": [
      "AUC Calc Warn: Target scores need to be probabilities for multiclass roc_auc, i.e. they should sum up to 1.0 over classes\n",
      "Epoch 19: TrainLoss=0.2301, F1-W=0.7938, Acc=0.7943, AUC=0.0000\n"
     ]
    },
    {
     "data": {
      "application/vnd.jupyter.widget-view+json": {
       "model_id": "3535abb5482d4e91b58fa557177ee462",
       "version_major": 2,
       "version_minor": 0
      },
      "text/plain": [
       "Epoch 20/100 [Train]:   0%|          | 0/88 [00:00<?, ?it/s]"
      ]
     },
     "metadata": {},
     "output_type": "display_data"
    },
    {
     "data": {
      "application/vnd.jupyter.widget-view+json": {
       "model_id": "d276597e21ce4623acef70dd0b145653",
       "version_major": 2,
       "version_minor": 0
      },
      "text/plain": [
       "Epoch 20/100 [Val]:   0%|          | 0/88 [00:00<?, ?it/s]"
      ]
     },
     "metadata": {},
     "output_type": "display_data"
    },
    {
     "name": "stdout",
     "output_type": "stream",
     "text": [
      "AUC Calc Warn: Target scores need to be probabilities for multiclass roc_auc, i.e. they should sum up to 1.0 over classes\n",
      "Epoch 20: TrainLoss=0.2351, F1-W=0.7924, Acc=0.7932, AUC=0.0000\n"
     ]
    },
    {
     "data": {
      "application/vnd.jupyter.widget-view+json": {
       "model_id": "b87328559bad437f8b30a6ae29b090c2",
       "version_major": 2,
       "version_minor": 0
      },
      "text/plain": [
       "Epoch 21/100 [Train]:   0%|          | 0/88 [00:00<?, ?it/s]"
      ]
     },
     "metadata": {},
     "output_type": "display_data"
    },
    {
     "data": {
      "application/vnd.jupyter.widget-view+json": {
       "model_id": "621a961378b4488c8c73433a6d503f4c",
       "version_major": 2,
       "version_minor": 0
      },
      "text/plain": [
       "Epoch 21/100 [Val]:   0%|          | 0/88 [00:00<?, ?it/s]"
      ]
     },
     "metadata": {},
     "output_type": "display_data"
    },
    {
     "name": "stdout",
     "output_type": "stream",
     "text": [
      "AUC Calc Warn: Target scores need to be probabilities for multiclass roc_auc, i.e. they should sum up to 1.0 over classes\n",
      "Epoch 21: TrainLoss=0.2296, F1-W=0.7928, Acc=0.7929, AUC=0.0000\n"
     ]
    },
    {
     "data": {
      "application/vnd.jupyter.widget-view+json": {
       "model_id": "3a51b0ede7974b6ea33889e027334b38",
       "version_major": 2,
       "version_minor": 0
      },
      "text/plain": [
       "Epoch 22/100 [Train]:   0%|          | 0/88 [00:00<?, ?it/s]"
      ]
     },
     "metadata": {},
     "output_type": "display_data"
    },
    {
     "data": {
      "application/vnd.jupyter.widget-view+json": {
       "model_id": "9282577906d0443fb9436434b12a8535",
       "version_major": 2,
       "version_minor": 0
      },
      "text/plain": [
       "Epoch 22/100 [Val]:   0%|          | 0/88 [00:00<?, ?it/s]"
      ]
     },
     "metadata": {},
     "output_type": "display_data"
    },
    {
     "name": "stdout",
     "output_type": "stream",
     "text": [
      "AUC Calc Warn: Target scores need to be probabilities for multiclass roc_auc, i.e. they should sum up to 1.0 over classes\n",
      "Epoch 22: TrainLoss=0.2120, F1-W=0.7938, Acc=0.7940, AUC=0.0000\n"
     ]
    },
    {
     "data": {
      "application/vnd.jupyter.widget-view+json": {
       "model_id": "c246d9710c3d41b29d0f5faa84c9f1a6",
       "version_major": 2,
       "version_minor": 0
      },
      "text/plain": [
       "Epoch 23/100 [Train]:   0%|          | 0/88 [00:00<?, ?it/s]"
      ]
     },
     "metadata": {},
     "output_type": "display_data"
    },
    {
     "data": {
      "application/vnd.jupyter.widget-view+json": {
       "model_id": "d71e2be4f4fa4c88b253a07642adcee0",
       "version_major": 2,
       "version_minor": 0
      },
      "text/plain": [
       "Epoch 23/100 [Val]:   0%|          | 0/88 [00:00<?, ?it/s]"
      ]
     },
     "metadata": {},
     "output_type": "display_data"
    },
    {
     "name": "stdout",
     "output_type": "stream",
     "text": [
      "AUC Calc Warn: Target scores need to be probabilities for multiclass roc_auc, i.e. they should sum up to 1.0 over classes\n",
      "Epoch 23: TrainLoss=0.1765, F1-W=0.7991, Acc=0.7993, AUC=0.0000\n",
      "  -> New best F1-W: 0.7991. Saving artifacts.\n"
     ]
    },
    {
     "data": {
      "application/vnd.jupyter.widget-view+json": {
       "model_id": "b8f07d5bdb2640e3992b00a188af7501",
       "version_major": 2,
       "version_minor": 0
      },
      "text/plain": [
       "Epoch 24/100 [Train]:   0%|          | 0/88 [00:00<?, ?it/s]"
      ]
     },
     "metadata": {},
     "output_type": "display_data"
    },
    {
     "data": {
      "application/vnd.jupyter.widget-view+json": {
       "model_id": "7f24daa914234dc88c72ef5b8c390dc7",
       "version_major": 2,
       "version_minor": 0
      },
      "text/plain": [
       "Epoch 24/100 [Val]:   0%|          | 0/88 [00:00<?, ?it/s]"
      ]
     },
     "metadata": {},
     "output_type": "display_data"
    },
    {
     "name": "stdout",
     "output_type": "stream",
     "text": [
      "AUC Calc Warn: Target scores need to be probabilities for multiclass roc_auc, i.e. they should sum up to 1.0 over classes\n",
      "Epoch 24: TrainLoss=0.1826, F1-W=0.7928, Acc=0.7929, AUC=0.0000\n"
     ]
    },
    {
     "data": {
      "application/vnd.jupyter.widget-view+json": {
       "model_id": "7959308f7508421c9c0d1ffa968eef4f",
       "version_major": 2,
       "version_minor": 0
      },
      "text/plain": [
       "Epoch 25/100 [Train]:   0%|          | 0/88 [00:00<?, ?it/s]"
      ]
     },
     "metadata": {},
     "output_type": "display_data"
    },
    {
     "data": {
      "application/vnd.jupyter.widget-view+json": {
       "model_id": "4d512c3a583f4b6aa6e8d3bbc216b129",
       "version_major": 2,
       "version_minor": 0
      },
      "text/plain": [
       "Epoch 25/100 [Val]:   0%|          | 0/88 [00:00<?, ?it/s]"
      ]
     },
     "metadata": {},
     "output_type": "display_data"
    },
    {
     "name": "stdout",
     "output_type": "stream",
     "text": [
      "AUC Calc Warn: Target scores need to be probabilities for multiclass roc_auc, i.e. they should sum up to 1.0 over classes\n",
      "Epoch 25: TrainLoss=0.1749, F1-W=0.7973, Acc=0.7972, AUC=0.0000\n"
     ]
    },
    {
     "data": {
      "application/vnd.jupyter.widget-view+json": {
       "model_id": "485cddc6c20d4f939d6d345cc1417401",
       "version_major": 2,
       "version_minor": 0
      },
      "text/plain": [
       "Epoch 26/100 [Train]:   0%|          | 0/88 [00:00<?, ?it/s]"
      ]
     },
     "metadata": {},
     "output_type": "display_data"
    },
    {
     "data": {
      "application/vnd.jupyter.widget-view+json": {
       "model_id": "5f0c5f9a57334e4695a4856f21cf0a2f",
       "version_major": 2,
       "version_minor": 0
      },
      "text/plain": [
       "Epoch 26/100 [Val]:   0%|          | 0/88 [00:00<?, ?it/s]"
      ]
     },
     "metadata": {},
     "output_type": "display_data"
    },
    {
     "name": "stdout",
     "output_type": "stream",
     "text": [
      "AUC Calc Warn: Target scores need to be probabilities for multiclass roc_auc, i.e. they should sum up to 1.0 over classes\n",
      "Epoch 26: TrainLoss=0.1774, F1-W=0.8052, Acc=0.8057, AUC=0.0000\n",
      "  -> New best F1-W: 0.8052. Saving artifacts.\n"
     ]
    },
    {
     "data": {
      "application/vnd.jupyter.widget-view+json": {
       "model_id": "1d15ec865b2c40d18bb31acefb6706bb",
       "version_major": 2,
       "version_minor": 0
      },
      "text/plain": [
       "Epoch 27/100 [Train]:   0%|          | 0/88 [00:00<?, ?it/s]"
      ]
     },
     "metadata": {},
     "output_type": "display_data"
    },
    {
     "data": {
      "application/vnd.jupyter.widget-view+json": {
       "model_id": "141d1d200f574a8ea87ba74cb853ec80",
       "version_major": 2,
       "version_minor": 0
      },
      "text/plain": [
       "Epoch 27/100 [Val]:   0%|          | 0/88 [00:00<?, ?it/s]"
      ]
     },
     "metadata": {},
     "output_type": "display_data"
    },
    {
     "name": "stdout",
     "output_type": "stream",
     "text": [
      "AUC Calc Warn: Target scores need to be probabilities for multiclass roc_auc, i.e. they should sum up to 1.0 over classes\n",
      "Epoch 27: TrainLoss=0.1802, F1-W=0.8033, Acc=0.8032, AUC=0.0000\n"
     ]
    },
    {
     "data": {
      "application/vnd.jupyter.widget-view+json": {
       "model_id": "ba930c017c0c40348a53350ce359a6fb",
       "version_major": 2,
       "version_minor": 0
      },
      "text/plain": [
       "Epoch 28/100 [Train]:   0%|          | 0/88 [00:00<?, ?it/s]"
      ]
     },
     "metadata": {},
     "output_type": "display_data"
    },
    {
     "data": {
      "application/vnd.jupyter.widget-view+json": {
       "model_id": "667e30f3d013463b91a4240f177c16db",
       "version_major": 2,
       "version_minor": 0
      },
      "text/plain": [
       "Epoch 28/100 [Val]:   0%|          | 0/88 [00:00<?, ?it/s]"
      ]
     },
     "metadata": {},
     "output_type": "display_data"
    },
    {
     "name": "stdout",
     "output_type": "stream",
     "text": [
      "AUC Calc Warn: Target scores need to be probabilities for multiclass roc_auc, i.e. they should sum up to 1.0 over classes\n",
      "Epoch 28: TrainLoss=0.1500, F1-W=0.7964, Acc=0.7954, AUC=0.0000\n"
     ]
    },
    {
     "data": {
      "application/vnd.jupyter.widget-view+json": {
       "model_id": "3fc56cf884d84cbd8f22e257ac020cc9",
       "version_major": 2,
       "version_minor": 0
      },
      "text/plain": [
       "Epoch 29/100 [Train]:   0%|          | 0/88 [00:00<?, ?it/s]"
      ]
     },
     "metadata": {},
     "output_type": "display_data"
    },
    {
     "data": {
      "application/vnd.jupyter.widget-view+json": {
       "model_id": "c1138e23012449d4b76fb9e4de1c768d",
       "version_major": 2,
       "version_minor": 0
      },
      "text/plain": [
       "Epoch 29/100 [Val]:   0%|          | 0/88 [00:00<?, ?it/s]"
      ]
     },
     "metadata": {},
     "output_type": "display_data"
    },
    {
     "name": "stdout",
     "output_type": "stream",
     "text": [
      "AUC Calc Warn: Target scores need to be probabilities for multiclass roc_auc, i.e. they should sum up to 1.0 over classes\n",
      "Epoch 29: TrainLoss=0.1663, F1-W=0.7988, Acc=0.7986, AUC=0.0000\n"
     ]
    },
    {
     "data": {
      "application/vnd.jupyter.widget-view+json": {
       "model_id": "bb7df8dd11ee4147a72242e48d487e47",
       "version_major": 2,
       "version_minor": 0
      },
      "text/plain": [
       "Epoch 30/100 [Train]:   0%|          | 0/88 [00:00<?, ?it/s]"
      ]
     },
     "metadata": {},
     "output_type": "display_data"
    },
    {
     "data": {
      "application/vnd.jupyter.widget-view+json": {
       "model_id": "031c2b3f516b4615b972624a9d26b32b",
       "version_major": 2,
       "version_minor": 0
      },
      "text/plain": [
       "Epoch 30/100 [Val]:   0%|          | 0/88 [00:00<?, ?it/s]"
      ]
     },
     "metadata": {},
     "output_type": "display_data"
    },
    {
     "name": "stdout",
     "output_type": "stream",
     "text": [
      "AUC Calc Warn: Target scores need to be probabilities for multiclass roc_auc, i.e. they should sum up to 1.0 over classes\n",
      "Epoch 30: TrainLoss=0.1487, F1-W=0.7972, Acc=0.7979, AUC=0.0000\n"
     ]
    },
    {
     "data": {
      "application/vnd.jupyter.widget-view+json": {
       "model_id": "dd8e9c178ff8413296a29aa257967d61",
       "version_major": 2,
       "version_minor": 0
      },
      "text/plain": [
       "Epoch 31/100 [Train]:   0%|          | 0/88 [00:00<?, ?it/s]"
      ]
     },
     "metadata": {},
     "output_type": "display_data"
    },
    {
     "data": {
      "application/vnd.jupyter.widget-view+json": {
       "model_id": "f3de521a6dbe461580f69b580490f0d4",
       "version_major": 2,
       "version_minor": 0
      },
      "text/plain": [
       "Epoch 31/100 [Val]:   0%|          | 0/88 [00:00<?, ?it/s]"
      ]
     },
     "metadata": {},
     "output_type": "display_data"
    },
    {
     "name": "stdout",
     "output_type": "stream",
     "text": [
      "AUC Calc Warn: Target scores need to be probabilities for multiclass roc_auc, i.e. they should sum up to 1.0 over classes\n",
      "Epoch 31: TrainLoss=0.1245, F1-W=0.7952, Acc=0.7950, AUC=0.0000\n"
     ]
    },
    {
     "data": {
      "application/vnd.jupyter.widget-view+json": {
       "model_id": "2980b250e61b451daafb30c8eb152b2b",
       "version_major": 2,
       "version_minor": 0
      },
      "text/plain": [
       "Epoch 32/100 [Train]:   0%|          | 0/88 [00:00<?, ?it/s]"
      ]
     },
     "metadata": {},
     "output_type": "display_data"
    },
    {
     "data": {
      "application/vnd.jupyter.widget-view+json": {
       "model_id": "73a02ee014f940fdb93cb19b8f31277a",
       "version_major": 2,
       "version_minor": 0
      },
      "text/plain": [
       "Epoch 32/100 [Val]:   0%|          | 0/88 [00:00<?, ?it/s]"
      ]
     },
     "metadata": {},
     "output_type": "display_data"
    },
    {
     "name": "stdout",
     "output_type": "stream",
     "text": [
      "AUC Calc Warn: Target scores need to be probabilities for multiclass roc_auc, i.e. they should sum up to 1.0 over classes\n",
      "Epoch 32: TrainLoss=0.1284, F1-W=0.7912, Acc=0.7911, AUC=0.0000\n"
     ]
    },
    {
     "data": {
      "application/vnd.jupyter.widget-view+json": {
       "model_id": "d17b4276713443de92c64b94379d711b",
       "version_major": 2,
       "version_minor": 0
      },
      "text/plain": [
       "Epoch 33/100 [Train]:   0%|          | 0/88 [00:00<?, ?it/s]"
      ]
     },
     "metadata": {},
     "output_type": "display_data"
    },
    {
     "data": {
      "application/vnd.jupyter.widget-view+json": {
       "model_id": "0c1d71002b69423fa927eaf15cc15091",
       "version_major": 2,
       "version_minor": 0
      },
      "text/plain": [
       "Epoch 33/100 [Val]:   0%|          | 0/88 [00:00<?, ?it/s]"
      ]
     },
     "metadata": {},
     "output_type": "display_data"
    },
    {
     "name": "stdout",
     "output_type": "stream",
     "text": [
      "AUC Calc Warn: Target scores need to be probabilities for multiclass roc_auc, i.e. they should sum up to 1.0 over classes\n",
      "Epoch 33: TrainLoss=0.1164, F1-W=0.7984, Acc=0.7982, AUC=0.0000\n"
     ]
    },
    {
     "data": {
      "application/vnd.jupyter.widget-view+json": {
       "model_id": "3b5b7926a39e44828d3b7a55f4399cdc",
       "version_major": 2,
       "version_minor": 0
      },
      "text/plain": [
       "Epoch 34/100 [Train]:   0%|          | 0/88 [00:00<?, ?it/s]"
      ]
     },
     "metadata": {},
     "output_type": "display_data"
    },
    {
     "data": {
      "application/vnd.jupyter.widget-view+json": {
       "model_id": "7d77815a2616486291e07ae4509caf76",
       "version_major": 2,
       "version_minor": 0
      },
      "text/plain": [
       "Epoch 34/100 [Val]:   0%|          | 0/88 [00:00<?, ?it/s]"
      ]
     },
     "metadata": {},
     "output_type": "display_data"
    },
    {
     "name": "stdout",
     "output_type": "stream",
     "text": [
      "AUC Calc Warn: Target scores need to be probabilities for multiclass roc_auc, i.e. they should sum up to 1.0 over classes\n",
      "Epoch 34: TrainLoss=0.1200, F1-W=0.7987, Acc=0.7989, AUC=0.0000\n"
     ]
    },
    {
     "data": {
      "application/vnd.jupyter.widget-view+json": {
       "model_id": "38fa8da93a624a4d93db23c46692b592",
       "version_major": 2,
       "version_minor": 0
      },
      "text/plain": [
       "Epoch 35/100 [Train]:   0%|          | 0/88 [00:00<?, ?it/s]"
      ]
     },
     "metadata": {},
     "output_type": "display_data"
    },
    {
     "data": {
      "application/vnd.jupyter.widget-view+json": {
       "model_id": "f9aca4d871094de783c64b9c8dda2460",
       "version_major": 2,
       "version_minor": 0
      },
      "text/plain": [
       "Epoch 35/100 [Val]:   0%|          | 0/88 [00:00<?, ?it/s]"
      ]
     },
     "metadata": {},
     "output_type": "display_data"
    },
    {
     "name": "stdout",
     "output_type": "stream",
     "text": [
      "AUC Calc Warn: Target scores need to be probabilities for multiclass roc_auc, i.e. they should sum up to 1.0 over classes\n",
      "Epoch 35: TrainLoss=0.0977, F1-W=0.8018, Acc=0.8018, AUC=0.0000\n"
     ]
    },
    {
     "data": {
      "application/vnd.jupyter.widget-view+json": {
       "model_id": "6ed96c40b4d744fdb0f0c4024b02b994",
       "version_major": 2,
       "version_minor": 0
      },
      "text/plain": [
       "Epoch 36/100 [Train]:   0%|          | 0/88 [00:00<?, ?it/s]"
      ]
     },
     "metadata": {},
     "output_type": "display_data"
    },
    {
     "data": {
      "application/vnd.jupyter.widget-view+json": {
       "model_id": "3db739486aa74bb9bdca57201fb86106",
       "version_major": 2,
       "version_minor": 0
      },
      "text/plain": [
       "Epoch 36/100 [Val]:   0%|          | 0/88 [00:00<?, ?it/s]"
      ]
     },
     "metadata": {},
     "output_type": "display_data"
    },
    {
     "name": "stdout",
     "output_type": "stream",
     "text": [
      "AUC Calc Warn: Target scores need to be probabilities for multiclass roc_auc, i.e. they should sum up to 1.0 over classes\n",
      "Epoch 36: TrainLoss=0.0983, F1-W=0.8028, Acc=0.8028, AUC=0.0000\n"
     ]
    },
    {
     "data": {
      "application/vnd.jupyter.widget-view+json": {
       "model_id": "37f89a0840b54d37a61ac420e82caa58",
       "version_major": 2,
       "version_minor": 0
      },
      "text/plain": [
       "Epoch 37/100 [Train]:   0%|          | 0/88 [00:00<?, ?it/s]"
      ]
     },
     "metadata": {},
     "output_type": "display_data"
    },
    {
     "data": {
      "application/vnd.jupyter.widget-view+json": {
       "model_id": "b65d7d3192ce4b1c824a26512ba628d0",
       "version_major": 2,
       "version_minor": 0
      },
      "text/plain": [
       "Epoch 37/100 [Val]:   0%|          | 0/88 [00:00<?, ?it/s]"
      ]
     },
     "metadata": {},
     "output_type": "display_data"
    },
    {
     "name": "stdout",
     "output_type": "stream",
     "text": [
      "AUC Calc Warn: Target scores need to be probabilities for multiclass roc_auc, i.e. they should sum up to 1.0 over classes\n",
      "Epoch 37: TrainLoss=0.0886, F1-W=0.8018, Acc=0.8018, AUC=0.0000\n"
     ]
    },
    {
     "data": {
      "application/vnd.jupyter.widget-view+json": {
       "model_id": "b991585141344f0396c5c618b5084d47",
       "version_major": 2,
       "version_minor": 0
      },
      "text/plain": [
       "Epoch 38/100 [Train]:   0%|          | 0/88 [00:00<?, ?it/s]"
      ]
     },
     "metadata": {},
     "output_type": "display_data"
    },
    {
     "data": {
      "application/vnd.jupyter.widget-view+json": {
       "model_id": "10065fe31949450a88305650b7bb41a8",
       "version_major": 2,
       "version_minor": 0
      },
      "text/plain": [
       "Epoch 38/100 [Val]:   0%|          | 0/88 [00:00<?, ?it/s]"
      ]
     },
     "metadata": {},
     "output_type": "display_data"
    },
    {
     "name": "stdout",
     "output_type": "stream",
     "text": [
      "AUC Calc Warn: Target scores need to be probabilities for multiclass roc_auc, i.e. they should sum up to 1.0 over classes\n",
      "Epoch 38: TrainLoss=0.0855, F1-W=0.8077, Acc=0.8078, AUC=0.0000\n",
      "  -> New best F1-W: 0.8077. Saving artifacts.\n"
     ]
    },
    {
     "data": {
      "application/vnd.jupyter.widget-view+json": {
       "model_id": "5b6ba8662c094168899157e0e478d259",
       "version_major": 2,
       "version_minor": 0
      },
      "text/plain": [
       "Epoch 39/100 [Train]:   0%|          | 0/88 [00:00<?, ?it/s]"
      ]
     },
     "metadata": {},
     "output_type": "display_data"
    },
    {
     "data": {
      "application/vnd.jupyter.widget-view+json": {
       "model_id": "35e4f3b3aa844a80af6e57b2405d2dd2",
       "version_major": 2,
       "version_minor": 0
      },
      "text/plain": [
       "Epoch 39/100 [Val]:   0%|          | 0/88 [00:00<?, ?it/s]"
      ]
     },
     "metadata": {},
     "output_type": "display_data"
    },
    {
     "name": "stdout",
     "output_type": "stream",
     "text": [
      "AUC Calc Warn: Target scores need to be probabilities for multiclass roc_auc, i.e. they should sum up to 1.0 over classes\n",
      "Epoch 39: TrainLoss=0.1017, F1-W=0.7987, Acc=0.7986, AUC=0.0000\n"
     ]
    },
    {
     "data": {
      "application/vnd.jupyter.widget-view+json": {
       "model_id": "1a76270a726748978f90db15dc8464e8",
       "version_major": 2,
       "version_minor": 0
      },
      "text/plain": [
       "Epoch 40/100 [Train]:   0%|          | 0/88 [00:00<?, ?it/s]"
      ]
     },
     "metadata": {},
     "output_type": "display_data"
    },
    {
     "data": {
      "application/vnd.jupyter.widget-view+json": {
       "model_id": "f31d6406d668435299c6edd126fe4463",
       "version_major": 2,
       "version_minor": 0
      },
      "text/plain": [
       "Epoch 40/100 [Val]:   0%|          | 0/88 [00:00<?, ?it/s]"
      ]
     },
     "metadata": {},
     "output_type": "display_data"
    },
    {
     "name": "stdout",
     "output_type": "stream",
     "text": [
      "AUC Calc Warn: Target scores need to be probabilities for multiclass roc_auc, i.e. they should sum up to 1.0 over classes\n",
      "Epoch 40: TrainLoss=0.0977, F1-W=0.8000, Acc=0.8000, AUC=0.0000\n"
     ]
    },
    {
     "data": {
      "application/vnd.jupyter.widget-view+json": {
       "model_id": "615c371566484bf4a89bff02c62d1941",
       "version_major": 2,
       "version_minor": 0
      },
      "text/plain": [
       "Epoch 41/100 [Train]:   0%|          | 0/88 [00:00<?, ?it/s]"
      ]
     },
     "metadata": {},
     "output_type": "display_data"
    },
    {
     "data": {
      "application/vnd.jupyter.widget-view+json": {
       "model_id": "6a61b5fb1965404b8c6467b92331f5ec",
       "version_major": 2,
       "version_minor": 0
      },
      "text/plain": [
       "Epoch 41/100 [Val]:   0%|          | 0/88 [00:00<?, ?it/s]"
      ]
     },
     "metadata": {},
     "output_type": "display_data"
    },
    {
     "name": "stdout",
     "output_type": "stream",
     "text": [
      "AUC Calc Warn: Target scores need to be probabilities for multiclass roc_auc, i.e. they should sum up to 1.0 over classes\n",
      "Epoch 41: TrainLoss=0.0974, F1-W=0.8024, Acc=0.8025, AUC=0.0000\n"
     ]
    },
    {
     "data": {
      "application/vnd.jupyter.widget-view+json": {
       "model_id": "e355e556e0f54a77b11286c44bf0b707",
       "version_major": 2,
       "version_minor": 0
      },
      "text/plain": [
       "Epoch 42/100 [Train]:   0%|          | 0/88 [00:00<?, ?it/s]"
      ]
     },
     "metadata": {},
     "output_type": "display_data"
    },
    {
     "data": {
      "application/vnd.jupyter.widget-view+json": {
       "model_id": "269096f2c8ee46c292cce30ecbd340a1",
       "version_major": 2,
       "version_minor": 0
      },
      "text/plain": [
       "Epoch 42/100 [Val]:   0%|          | 0/88 [00:00<?, ?it/s]"
      ]
     },
     "metadata": {},
     "output_type": "display_data"
    },
    {
     "name": "stdout",
     "output_type": "stream",
     "text": [
      "AUC Calc Warn: Target scores need to be probabilities for multiclass roc_auc, i.e. they should sum up to 1.0 over classes\n",
      "Epoch 42: TrainLoss=0.0836, F1-W=0.8031, Acc=0.8028, AUC=0.0000\n"
     ]
    },
    {
     "data": {
      "application/vnd.jupyter.widget-view+json": {
       "model_id": "7f8ce2d7b6e644398dc89a064315cf39",
       "version_major": 2,
       "version_minor": 0
      },
      "text/plain": [
       "Epoch 43/100 [Train]:   0%|          | 0/88 [00:00<?, ?it/s]"
      ]
     },
     "metadata": {},
     "output_type": "display_data"
    },
    {
     "data": {
      "application/vnd.jupyter.widget-view+json": {
       "model_id": "f3a39ce926c44515873d2cdf5f139ce0",
       "version_major": 2,
       "version_minor": 0
      },
      "text/plain": [
       "Epoch 43/100 [Val]:   0%|          | 0/88 [00:00<?, ?it/s]"
      ]
     },
     "metadata": {},
     "output_type": "display_data"
    },
    {
     "name": "stdout",
     "output_type": "stream",
     "text": [
      "AUC Calc Warn: Target scores need to be probabilities for multiclass roc_auc, i.e. they should sum up to 1.0 over classes\n",
      "Epoch 43: TrainLoss=0.0974, F1-W=0.7992, Acc=0.7989, AUC=0.0000\n"
     ]
    },
    {
     "data": {
      "application/vnd.jupyter.widget-view+json": {
       "model_id": "070a577679eb4333900cd063f7f8652e",
       "version_major": 2,
       "version_minor": 0
      },
      "text/plain": [
       "Epoch 44/100 [Train]:   0%|          | 0/88 [00:00<?, ?it/s]"
      ]
     },
     "metadata": {},
     "output_type": "display_data"
    },
    {
     "data": {
      "application/vnd.jupyter.widget-view+json": {
       "model_id": "2f1b7f6c17a84767a53681a9acaecb31",
       "version_major": 2,
       "version_minor": 0
      },
      "text/plain": [
       "Epoch 44/100 [Val]:   0%|          | 0/88 [00:00<?, ?it/s]"
      ]
     },
     "metadata": {},
     "output_type": "display_data"
    },
    {
     "name": "stdout",
     "output_type": "stream",
     "text": [
      "AUC Calc Warn: Target scores need to be probabilities for multiclass roc_auc, i.e. they should sum up to 1.0 over classes\n",
      "Epoch 44: TrainLoss=0.0960, F1-W=0.7998, Acc=0.8000, AUC=0.0000\n"
     ]
    },
    {
     "data": {
      "application/vnd.jupyter.widget-view+json": {
       "model_id": "bf64fa4e42c645908566589b4ecf8f39",
       "version_major": 2,
       "version_minor": 0
      },
      "text/plain": [
       "Epoch 45/100 [Train]:   0%|          | 0/88 [00:00<?, ?it/s]"
      ]
     },
     "metadata": {},
     "output_type": "display_data"
    },
    {
     "data": {
      "application/vnd.jupyter.widget-view+json": {
       "model_id": "c75b1bba07e94791a27330084f71996b",
       "version_major": 2,
       "version_minor": 0
      },
      "text/plain": [
       "Epoch 45/100 [Val]:   0%|          | 0/88 [00:00<?, ?it/s]"
      ]
     },
     "metadata": {},
     "output_type": "display_data"
    },
    {
     "name": "stdout",
     "output_type": "stream",
     "text": [
      "AUC Calc Warn: Target scores need to be probabilities for multiclass roc_auc, i.e. they should sum up to 1.0 over classes\n",
      "Epoch 45: TrainLoss=0.0719, F1-W=0.8016, Acc=0.8018, AUC=0.0000\n"
     ]
    },
    {
     "data": {
      "application/vnd.jupyter.widget-view+json": {
       "model_id": "cc08174d99e04119a0426b2a7a91a3c1",
       "version_major": 2,
       "version_minor": 0
      },
      "text/plain": [
       "Epoch 46/100 [Train]:   0%|          | 0/88 [00:00<?, ?it/s]"
      ]
     },
     "metadata": {},
     "output_type": "display_data"
    },
    {
     "data": {
      "application/vnd.jupyter.widget-view+json": {
       "model_id": "5e8be82728e34f38b0d2baca80b7713d",
       "version_major": 2,
       "version_minor": 0
      },
      "text/plain": [
       "Epoch 46/100 [Val]:   0%|          | 0/88 [00:00<?, ?it/s]"
      ]
     },
     "metadata": {},
     "output_type": "display_data"
    },
    {
     "name": "stdout",
     "output_type": "stream",
     "text": [
      "AUC Calc Warn: Target scores need to be probabilities for multiclass roc_auc, i.e. they should sum up to 1.0 over classes\n",
      "Epoch 46: TrainLoss=0.0869, F1-W=0.7993, Acc=0.7993, AUC=0.0000\n"
     ]
    },
    {
     "data": {
      "application/vnd.jupyter.widget-view+json": {
       "model_id": "0ac34288c6b44c3e91aee11854289911",
       "version_major": 2,
       "version_minor": 0
      },
      "text/plain": [
       "Epoch 47/100 [Train]:   0%|          | 0/88 [00:00<?, ?it/s]"
      ]
     },
     "metadata": {},
     "output_type": "display_data"
    },
    {
     "data": {
      "application/vnd.jupyter.widget-view+json": {
       "model_id": "f122b7df33dd42d3a666013b86491269",
       "version_major": 2,
       "version_minor": 0
      },
      "text/plain": [
       "Epoch 47/100 [Val]:   0%|          | 0/88 [00:00<?, ?it/s]"
      ]
     },
     "metadata": {},
     "output_type": "display_data"
    },
    {
     "name": "stdout",
     "output_type": "stream",
     "text": [
      "AUC Calc Warn: Target scores need to be probabilities for multiclass roc_auc, i.e. they should sum up to 1.0 over classes\n",
      "Epoch 47: TrainLoss=0.0914, F1-W=0.7993, Acc=0.7993, AUC=0.0000\n"
     ]
    },
    {
     "data": {
      "application/vnd.jupyter.widget-view+json": {
       "model_id": "c8bacf56ee554fc58c618a58fbc11489",
       "version_major": 2,
       "version_minor": 0
      },
      "text/plain": [
       "Epoch 48/100 [Train]:   0%|          | 0/88 [00:00<?, ?it/s]"
      ]
     },
     "metadata": {},
     "output_type": "display_data"
    },
    {
     "data": {
      "application/vnd.jupyter.widget-view+json": {
       "model_id": "9e59c7d0326a4e3995598a56e33dce95",
       "version_major": 2,
       "version_minor": 0
      },
      "text/plain": [
       "Epoch 48/100 [Val]:   0%|          | 0/88 [00:00<?, ?it/s]"
      ]
     },
     "metadata": {},
     "output_type": "display_data"
    },
    {
     "name": "stdout",
     "output_type": "stream",
     "text": [
      "AUC Calc Warn: Target scores need to be probabilities for multiclass roc_auc, i.e. they should sum up to 1.0 over classes\n",
      "Epoch 48: TrainLoss=0.0856, F1-W=0.7984, Acc=0.7986, AUC=0.0000\n"
     ]
    },
    {
     "data": {
      "application/vnd.jupyter.widget-view+json": {
       "model_id": "045e0663f3b94d61b4885aa5d105f8f0",
       "version_major": 2,
       "version_minor": 0
      },
      "text/plain": [
       "Epoch 49/100 [Train]:   0%|          | 0/88 [00:00<?, ?it/s]"
      ]
     },
     "metadata": {},
     "output_type": "display_data"
    },
    {
     "data": {
      "application/vnd.jupyter.widget-view+json": {
       "model_id": "4b9961a715764d65ad974879bbf0a204",
       "version_major": 2,
       "version_minor": 0
      },
      "text/plain": [
       "Epoch 49/100 [Val]:   0%|          | 0/88 [00:00<?, ?it/s]"
      ]
     },
     "metadata": {},
     "output_type": "display_data"
    },
    {
     "name": "stdout",
     "output_type": "stream",
     "text": [
      "AUC Calc Warn: Target scores need to be probabilities for multiclass roc_auc, i.e. they should sum up to 1.0 over classes\n",
      "Epoch 49: TrainLoss=0.0866, F1-W=0.8008, Acc=0.8011, AUC=0.0000\n"
     ]
    },
    {
     "data": {
      "application/vnd.jupyter.widget-view+json": {
       "model_id": "bde50398ea7c4935978b9f99b39086f3",
       "version_major": 2,
       "version_minor": 0
      },
      "text/plain": [
       "Epoch 50/100 [Train]:   0%|          | 0/88 [00:00<?, ?it/s]"
      ]
     },
     "metadata": {},
     "output_type": "display_data"
    },
    {
     "data": {
      "application/vnd.jupyter.widget-view+json": {
       "model_id": "fd0c7de2bf8e4240bd5e07f3878c197c",
       "version_major": 2,
       "version_minor": 0
      },
      "text/plain": [
       "Epoch 50/100 [Val]:   0%|          | 0/88 [00:00<?, ?it/s]"
      ]
     },
     "metadata": {},
     "output_type": "display_data"
    },
    {
     "name": "stdout",
     "output_type": "stream",
     "text": [
      "AUC Calc Warn: Target scores need to be probabilities for multiclass roc_auc, i.e. they should sum up to 1.0 over classes\n",
      "Epoch 50: TrainLoss=0.0816, F1-W=0.7997, Acc=0.7996, AUC=0.0000\n"
     ]
    },
    {
     "data": {
      "application/vnd.jupyter.widget-view+json": {
       "model_id": "d5060902b251449880a5d9ab43b16b17",
       "version_major": 2,
       "version_minor": 0
      },
      "text/plain": [
       "Epoch 51/100 [Train]:   0%|          | 0/88 [00:00<?, ?it/s]"
      ]
     },
     "metadata": {},
     "output_type": "display_data"
    },
    {
     "data": {
      "application/vnd.jupyter.widget-view+json": {
       "model_id": "918bf99b0e85459396ccd03839b3745e",
       "version_major": 2,
       "version_minor": 0
      },
      "text/plain": [
       "Epoch 51/100 [Val]:   0%|          | 0/88 [00:00<?, ?it/s]"
      ]
     },
     "metadata": {},
     "output_type": "display_data"
    },
    {
     "name": "stdout",
     "output_type": "stream",
     "text": [
      "AUC Calc Warn: Target scores need to be probabilities for multiclass roc_auc, i.e. they should sum up to 1.0 over classes\n",
      "Epoch 51: TrainLoss=0.0806, F1-W=0.8021, Acc=0.8021, AUC=0.0000\n"
     ]
    },
    {
     "data": {
      "application/vnd.jupyter.widget-view+json": {
       "model_id": "f092876abe71456880c2c1962b0cf446",
       "version_major": 2,
       "version_minor": 0
      },
      "text/plain": [
       "Epoch 52/100 [Train]:   0%|          | 0/88 [00:00<?, ?it/s]"
      ]
     },
     "metadata": {},
     "output_type": "display_data"
    },
    {
     "data": {
      "application/vnd.jupyter.widget-view+json": {
       "model_id": "2999d31352da43a4a9b280e7b0aec493",
       "version_major": 2,
       "version_minor": 0
      },
      "text/plain": [
       "Epoch 52/100 [Val]:   0%|          | 0/88 [00:00<?, ?it/s]"
      ]
     },
     "metadata": {},
     "output_type": "display_data"
    },
    {
     "name": "stdout",
     "output_type": "stream",
     "text": [
      "AUC Calc Warn: Target scores need to be probabilities for multiclass roc_auc, i.e. they should sum up to 1.0 over classes\n",
      "Epoch 52: TrainLoss=0.0780, F1-W=0.8030, Acc=0.8032, AUC=0.0000\n"
     ]
    },
    {
     "data": {
      "application/vnd.jupyter.widget-view+json": {
       "model_id": "2573e990cb1f40118e534cfc26233b83",
       "version_major": 2,
       "version_minor": 0
      },
      "text/plain": [
       "Epoch 53/100 [Train]:   0%|          | 0/88 [00:00<?, ?it/s]"
      ]
     },
     "metadata": {},
     "output_type": "display_data"
    },
    {
     "data": {
      "application/vnd.jupyter.widget-view+json": {
       "model_id": "f12ed83c782a475c81774c82eccc113d",
       "version_major": 2,
       "version_minor": 0
      },
      "text/plain": [
       "Epoch 53/100 [Val]:   0%|          | 0/88 [00:00<?, ?it/s]"
      ]
     },
     "metadata": {},
     "output_type": "display_data"
    },
    {
     "name": "stdout",
     "output_type": "stream",
     "text": [
      "AUC Calc Warn: Target scores need to be probabilities for multiclass roc_auc, i.e. they should sum up to 1.0 over classes\n",
      "Epoch 53: TrainLoss=0.0824, F1-W=0.7981, Acc=0.7982, AUC=0.0000\n"
     ]
    },
    {
     "data": {
      "application/vnd.jupyter.widget-view+json": {
       "model_id": "7ce2eb1c43b94635a9dc2dee6c8751d0",
       "version_major": 2,
       "version_minor": 0
      },
      "text/plain": [
       "Epoch 54/100 [Train]:   0%|          | 0/88 [00:00<?, ?it/s]"
      ]
     },
     "metadata": {},
     "output_type": "display_data"
    },
    {
     "data": {
      "application/vnd.jupyter.widget-view+json": {
       "model_id": "ded2c92bff8a4095a62af7361a189eab",
       "version_major": 2,
       "version_minor": 0
      },
      "text/plain": [
       "Epoch 54/100 [Val]:   0%|          | 0/88 [00:00<?, ?it/s]"
      ]
     },
     "metadata": {},
     "output_type": "display_data"
    },
    {
     "name": "stdout",
     "output_type": "stream",
     "text": [
      "AUC Calc Warn: Target scores need to be probabilities for multiclass roc_auc, i.e. they should sum up to 1.0 over classes\n",
      "Epoch 54: TrainLoss=0.0891, F1-W=0.8046, Acc=0.8046, AUC=0.0000\n"
     ]
    },
    {
     "data": {
      "application/vnd.jupyter.widget-view+json": {
       "model_id": "2cf2114a3c2c4ddd86f98114195784d9",
       "version_major": 2,
       "version_minor": 0
      },
      "text/plain": [
       "Epoch 55/100 [Train]:   0%|          | 0/88 [00:00<?, ?it/s]"
      ]
     },
     "metadata": {},
     "output_type": "display_data"
    },
    {
     "data": {
      "application/vnd.jupyter.widget-view+json": {
       "model_id": "9c6883a6779948909486319ad5c1c784",
       "version_major": 2,
       "version_minor": 0
      },
      "text/plain": [
       "Epoch 55/100 [Val]:   0%|          | 0/88 [00:00<?, ?it/s]"
      ]
     },
     "metadata": {},
     "output_type": "display_data"
    },
    {
     "name": "stdout",
     "output_type": "stream",
     "text": [
      "AUC Calc Warn: Target scores need to be probabilities for multiclass roc_auc, i.e. they should sum up to 1.0 over classes\n",
      "Epoch 55: TrainLoss=0.0798, F1-W=0.8036, Acc=0.8036, AUC=0.0000\n"
     ]
    },
    {
     "data": {
      "application/vnd.jupyter.widget-view+json": {
       "model_id": "3160879c4ec9406ba6982c55700f8ff8",
       "version_major": 2,
       "version_minor": 0
      },
      "text/plain": [
       "Epoch 56/100 [Train]:   0%|          | 0/88 [00:00<?, ?it/s]"
      ]
     },
     "metadata": {},
     "output_type": "display_data"
    },
    {
     "data": {
      "application/vnd.jupyter.widget-view+json": {
       "model_id": "daa26c556790470d85f40fc00f99beff",
       "version_major": 2,
       "version_minor": 0
      },
      "text/plain": [
       "Epoch 56/100 [Val]:   0%|          | 0/88 [00:00<?, ?it/s]"
      ]
     },
     "metadata": {},
     "output_type": "display_data"
    },
    {
     "name": "stdout",
     "output_type": "stream",
     "text": [
      "AUC Calc Warn: Target scores need to be probabilities for multiclass roc_auc, i.e. they should sum up to 1.0 over classes\n",
      "Epoch 56: TrainLoss=0.0772, F1-W=0.8024, Acc=0.8025, AUC=0.0000\n"
     ]
    },
    {
     "data": {
      "application/vnd.jupyter.widget-view+json": {
       "model_id": "d3fefb31964a4e6d8604eaf68e2a92cd",
       "version_major": 2,
       "version_minor": 0
      },
      "text/plain": [
       "Epoch 57/100 [Train]:   0%|          | 0/88 [00:00<?, ?it/s]"
      ]
     },
     "metadata": {},
     "output_type": "display_data"
    },
    {
     "data": {
      "application/vnd.jupyter.widget-view+json": {
       "model_id": "b2aef2555a084c6bb8b8254cd01956f7",
       "version_major": 2,
       "version_minor": 0
      },
      "text/plain": [
       "Epoch 57/100 [Val]:   0%|          | 0/88 [00:00<?, ?it/s]"
      ]
     },
     "metadata": {},
     "output_type": "display_data"
    },
    {
     "name": "stdout",
     "output_type": "stream",
     "text": [
      "AUC Calc Warn: Target scores need to be probabilities for multiclass roc_auc, i.e. they should sum up to 1.0 over classes\n",
      "Epoch 57: TrainLoss=0.0996, F1-W=0.8006, Acc=0.8007, AUC=0.0000\n"
     ]
    },
    {
     "data": {
      "application/vnd.jupyter.widget-view+json": {
       "model_id": "ee3148d9d51549618a9e05c2fd4646b5",
       "version_major": 2,
       "version_minor": 0
      },
      "text/plain": [
       "Epoch 58/100 [Train]:   0%|          | 0/88 [00:00<?, ?it/s]"
      ]
     },
     "metadata": {},
     "output_type": "display_data"
    },
    {
     "data": {
      "application/vnd.jupyter.widget-view+json": {
       "model_id": "5729d4f6143b46138c532bf854eaf80d",
       "version_major": 2,
       "version_minor": 0
      },
      "text/plain": [
       "Epoch 58/100 [Val]:   0%|          | 0/88 [00:00<?, ?it/s]"
      ]
     },
     "metadata": {},
     "output_type": "display_data"
    },
    {
     "name": "stdout",
     "output_type": "stream",
     "text": [
      "AUC Calc Warn: Target scores need to be probabilities for multiclass roc_auc, i.e. they should sum up to 1.0 over classes\n",
      "Epoch 58: TrainLoss=0.0764, F1-W=0.8018, Acc=0.8018, AUC=0.0000\n"
     ]
    },
    {
     "data": {
      "application/vnd.jupyter.widget-view+json": {
       "model_id": "51e2a5b6f53d467990eea66bb999143a",
       "version_major": 2,
       "version_minor": 0
      },
      "text/plain": [
       "Epoch 59/100 [Train]:   0%|          | 0/88 [00:00<?, ?it/s]"
      ]
     },
     "metadata": {},
     "output_type": "display_data"
    },
    {
     "data": {
      "application/vnd.jupyter.widget-view+json": {
       "model_id": "7b27884e9084444aa1c5dd64718c0bcc",
       "version_major": 2,
       "version_minor": 0
      },
      "text/plain": [
       "Epoch 59/100 [Val]:   0%|          | 0/88 [00:00<?, ?it/s]"
      ]
     },
     "metadata": {},
     "output_type": "display_data"
    },
    {
     "name": "stdout",
     "output_type": "stream",
     "text": [
      "AUC Calc Warn: Target scores need to be probabilities for multiclass roc_auc, i.e. they should sum up to 1.0 over classes\n",
      "Epoch 59: TrainLoss=0.0721, F1-W=0.8026, Acc=0.8028, AUC=0.0000\n"
     ]
    },
    {
     "data": {
      "application/vnd.jupyter.widget-view+json": {
       "model_id": "c5dcf1bb94784d46985300076d6ca4f0",
       "version_major": 2,
       "version_minor": 0
      },
      "text/plain": [
       "Epoch 60/100 [Train]:   0%|          | 0/88 [00:00<?, ?it/s]"
      ]
     },
     "metadata": {},
     "output_type": "display_data"
    },
    {
     "data": {
      "application/vnd.jupyter.widget-view+json": {
       "model_id": "283c3718a78d46539d900f52a6e1e930",
       "version_major": 2,
       "version_minor": 0
      },
      "text/plain": [
       "Epoch 60/100 [Val]:   0%|          | 0/88 [00:00<?, ?it/s]"
      ]
     },
     "metadata": {},
     "output_type": "display_data"
    },
    {
     "name": "stdout",
     "output_type": "stream",
     "text": [
      "AUC Calc Warn: Target scores need to be probabilities for multiclass roc_auc, i.e. they should sum up to 1.0 over classes\n",
      "Epoch 60: TrainLoss=0.0804, F1-W=0.8033, Acc=0.8036, AUC=0.0000\n"
     ]
    },
    {
     "data": {
      "application/vnd.jupyter.widget-view+json": {
       "model_id": "5c2d92e245b74536b4bfa788a64aec39",
       "version_major": 2,
       "version_minor": 0
      },
      "text/plain": [
       "Epoch 61/100 [Train]:   0%|          | 0/88 [00:00<?, ?it/s]"
      ]
     },
     "metadata": {},
     "output_type": "display_data"
    },
    {
     "data": {
      "application/vnd.jupyter.widget-view+json": {
       "model_id": "81792d7639684c30a02f0139b61f1990",
       "version_major": 2,
       "version_minor": 0
      },
      "text/plain": [
       "Epoch 61/100 [Val]:   0%|          | 0/88 [00:00<?, ?it/s]"
      ]
     },
     "metadata": {},
     "output_type": "display_data"
    },
    {
     "name": "stdout",
     "output_type": "stream",
     "text": [
      "AUC Calc Warn: Target scores need to be probabilities for multiclass roc_auc, i.e. they should sum up to 1.0 over classes\n",
      "Epoch 61: TrainLoss=0.0698, F1-W=0.8018, Acc=0.8021, AUC=0.0000\n"
     ]
    },
    {
     "data": {
      "application/vnd.jupyter.widget-view+json": {
       "model_id": "c955a2c58b364143b96ba2029b8424b6",
       "version_major": 2,
       "version_minor": 0
      },
      "text/plain": [
       "Epoch 62/100 [Train]:   0%|          | 0/88 [00:00<?, ?it/s]"
      ]
     },
     "metadata": {},
     "output_type": "display_data"
    },
    {
     "data": {
      "application/vnd.jupyter.widget-view+json": {
       "model_id": "8b5169ea58fd490aa423b99ae0b34531",
       "version_major": 2,
       "version_minor": 0
      },
      "text/plain": [
       "Epoch 62/100 [Val]:   0%|          | 0/88 [00:00<?, ?it/s]"
      ]
     },
     "metadata": {},
     "output_type": "display_data"
    },
    {
     "name": "stdout",
     "output_type": "stream",
     "text": [
      "AUC Calc Warn: Target scores need to be probabilities for multiclass roc_auc, i.e. they should sum up to 1.0 over classes\n",
      "Epoch 62: TrainLoss=0.0810, F1-W=0.8032, Acc=0.8032, AUC=0.0000\n"
     ]
    },
    {
     "data": {
      "application/vnd.jupyter.widget-view+json": {
       "model_id": "096d696e2fec428aae3f9496afd56b97",
       "version_major": 2,
       "version_minor": 0
      },
      "text/plain": [
       "Epoch 63/100 [Train]:   0%|          | 0/88 [00:00<?, ?it/s]"
      ]
     },
     "metadata": {},
     "output_type": "display_data"
    },
    {
     "data": {
      "application/vnd.jupyter.widget-view+json": {
       "model_id": "f4d7f74b12de44138b0975e5e02b6f80",
       "version_major": 2,
       "version_minor": 0
      },
      "text/plain": [
       "Epoch 63/100 [Val]:   0%|          | 0/88 [00:00<?, ?it/s]"
      ]
     },
     "metadata": {},
     "output_type": "display_data"
    },
    {
     "name": "stdout",
     "output_type": "stream",
     "text": [
      "AUC Calc Warn: Target scores need to be probabilities for multiclass roc_auc, i.e. they should sum up to 1.0 over classes\n",
      "Epoch 63: TrainLoss=0.0865, F1-W=0.8035, Acc=0.8036, AUC=0.0000\n"
     ]
    },
    {
     "data": {
      "application/vnd.jupyter.widget-view+json": {
       "model_id": "faba146dad0244f9894d040ec53944df",
       "version_major": 2,
       "version_minor": 0
      },
      "text/plain": [
       "Epoch 64/100 [Train]:   0%|          | 0/88 [00:00<?, ?it/s]"
      ]
     },
     "metadata": {},
     "output_type": "display_data"
    },
    {
     "data": {
      "application/vnd.jupyter.widget-view+json": {
       "model_id": "d0599f99f14d415cba83d661c35caf13",
       "version_major": 2,
       "version_minor": 0
      },
      "text/plain": [
       "Epoch 64/100 [Val]:   0%|          | 0/88 [00:00<?, ?it/s]"
      ]
     },
     "metadata": {},
     "output_type": "display_data"
    },
    {
     "name": "stdout",
     "output_type": "stream",
     "text": [
      "AUC Calc Warn: Target scores need to be probabilities for multiclass roc_auc, i.e. they should sum up to 1.0 over classes\n",
      "Epoch 64: TrainLoss=0.0892, F1-W=0.8045, Acc=0.8046, AUC=0.0000\n"
     ]
    },
    {
     "data": {
      "application/vnd.jupyter.widget-view+json": {
       "model_id": "f1865d66f2484f28b289924c3fa9e3b5",
       "version_major": 2,
       "version_minor": 0
      },
      "text/plain": [
       "Epoch 65/100 [Train]:   0%|          | 0/88 [00:00<?, ?it/s]"
      ]
     },
     "metadata": {},
     "output_type": "display_data"
    },
    {
     "data": {
      "application/vnd.jupyter.widget-view+json": {
       "model_id": "0288c6bc39164fb3a3fe7f3e5042570e",
       "version_major": 2,
       "version_minor": 0
      },
      "text/plain": [
       "Epoch 65/100 [Val]:   0%|          | 0/88 [00:00<?, ?it/s]"
      ]
     },
     "metadata": {},
     "output_type": "display_data"
    },
    {
     "name": "stdout",
     "output_type": "stream",
     "text": [
      "AUC Calc Warn: Target scores need to be probabilities for multiclass roc_auc, i.e. they should sum up to 1.0 over classes\n",
      "Epoch 65: TrainLoss=0.0947, F1-W=0.8012, Acc=0.8014, AUC=0.0000\n"
     ]
    },
    {
     "data": {
      "application/vnd.jupyter.widget-view+json": {
       "model_id": "2e7c9ccbbcc5484fa070bcc1991c3f81",
       "version_major": 2,
       "version_minor": 0
      },
      "text/plain": [
       "Epoch 66/100 [Train]:   0%|          | 0/88 [00:00<?, ?it/s]"
      ]
     },
     "metadata": {},
     "output_type": "display_data"
    },
    {
     "data": {
      "application/vnd.jupyter.widget-view+json": {
       "model_id": "9a9a1e35a98e46459ae253137253eb6c",
       "version_major": 2,
       "version_minor": 0
      },
      "text/plain": [
       "Epoch 66/100 [Val]:   0%|          | 0/88 [00:00<?, ?it/s]"
      ]
     },
     "metadata": {},
     "output_type": "display_data"
    },
    {
     "name": "stdout",
     "output_type": "stream",
     "text": [
      "AUC Calc Warn: Target scores need to be probabilities for multiclass roc_auc, i.e. they should sum up to 1.0 over classes\n",
      "Epoch 66: TrainLoss=0.0798, F1-W=0.8031, Acc=0.8032, AUC=0.0000\n"
     ]
    },
    {
     "data": {
      "application/vnd.jupyter.widget-view+json": {
       "model_id": "cfa15d4ba3b2426eabdd2af8cc6999ab",
       "version_major": 2,
       "version_minor": 0
      },
      "text/plain": [
       "Epoch 67/100 [Train]:   0%|          | 0/88 [00:00<?, ?it/s]"
      ]
     },
     "metadata": {},
     "output_type": "display_data"
    },
    {
     "data": {
      "application/vnd.jupyter.widget-view+json": {
       "model_id": "f4ce3a6b9f02478c9db8245483e7a32b",
       "version_major": 2,
       "version_minor": 0
      },
      "text/plain": [
       "Epoch 67/100 [Val]:   0%|          | 0/88 [00:00<?, ?it/s]"
      ]
     },
     "metadata": {},
     "output_type": "display_data"
    },
    {
     "name": "stdout",
     "output_type": "stream",
     "text": [
      "AUC Calc Warn: Target scores need to be probabilities for multiclass roc_auc, i.e. they should sum up to 1.0 over classes\n",
      "Epoch 67: TrainLoss=0.0763, F1-W=0.8024, Acc=0.8025, AUC=0.0000\n"
     ]
    },
    {
     "data": {
      "application/vnd.jupyter.widget-view+json": {
       "model_id": "153ffcf9c1af40248b85cf3a4ab755ea",
       "version_major": 2,
       "version_minor": 0
      },
      "text/plain": [
       "Epoch 68/100 [Train]:   0%|          | 0/88 [00:00<?, ?it/s]"
      ]
     },
     "metadata": {},
     "output_type": "display_data"
    },
    {
     "data": {
      "application/vnd.jupyter.widget-view+json": {
       "model_id": "b9be5081565b47c3b1e170d7b9298f06",
       "version_major": 2,
       "version_minor": 0
      },
      "text/plain": [
       "Epoch 68/100 [Val]:   0%|          | 0/88 [00:00<?, ?it/s]"
      ]
     },
     "metadata": {},
     "output_type": "display_data"
    },
    {
     "name": "stdout",
     "output_type": "stream",
     "text": [
      "AUC Calc Warn: Target scores need to be probabilities for multiclass roc_auc, i.e. they should sum up to 1.0 over classes\n",
      "Epoch 68: TrainLoss=0.0792, F1-W=0.8000, Acc=0.8000, AUC=0.0000\n"
     ]
    },
    {
     "data": {
      "application/vnd.jupyter.widget-view+json": {
       "model_id": "da9e292db8674ca18aa80fc632363dae",
       "version_major": 2,
       "version_minor": 0
      },
      "text/plain": [
       "Epoch 69/100 [Train]:   0%|          | 0/88 [00:00<?, ?it/s]"
      ]
     },
     "metadata": {},
     "output_type": "display_data"
    },
    {
     "data": {
      "application/vnd.jupyter.widget-view+json": {
       "model_id": "8ada409cef124c0eb9bbce9125a3f1df",
       "version_major": 2,
       "version_minor": 0
      },
      "text/plain": [
       "Epoch 69/100 [Val]:   0%|          | 0/88 [00:00<?, ?it/s]"
      ]
     },
     "metadata": {},
     "output_type": "display_data"
    },
    {
     "name": "stdout",
     "output_type": "stream",
     "text": [
      "AUC Calc Warn: Target scores need to be probabilities for multiclass roc_auc, i.e. they should sum up to 1.0 over classes\n",
      "Epoch 69: TrainLoss=0.0866, F1-W=0.8019, Acc=0.8021, AUC=0.0000\n"
     ]
    },
    {
     "data": {
      "application/vnd.jupyter.widget-view+json": {
       "model_id": "371043f433eb49b9968455c2af1a606b",
       "version_major": 2,
       "version_minor": 0
      },
      "text/plain": [
       "Epoch 70/100 [Train]:   0%|          | 0/88 [00:00<?, ?it/s]"
      ]
     },
     "metadata": {},
     "output_type": "display_data"
    },
    {
     "data": {
      "application/vnd.jupyter.widget-view+json": {
       "model_id": "a770ba34055247c1a9627d4117525a8d",
       "version_major": 2,
       "version_minor": 0
      },
      "text/plain": [
       "Epoch 70/100 [Val]:   0%|          | 0/88 [00:00<?, ?it/s]"
      ]
     },
     "metadata": {},
     "output_type": "display_data"
    },
    {
     "name": "stdout",
     "output_type": "stream",
     "text": [
      "AUC Calc Warn: Target scores need to be probabilities for multiclass roc_auc, i.e. they should sum up to 1.0 over classes\n",
      "Epoch 70: TrainLoss=0.0837, F1-W=0.8013, Acc=0.8014, AUC=0.0000\n"
     ]
    },
    {
     "data": {
      "application/vnd.jupyter.widget-view+json": {
       "model_id": "9f0183fb16c04229943d9a264fbd6990",
       "version_major": 2,
       "version_minor": 0
      },
      "text/plain": [
       "Epoch 71/100 [Train]:   0%|          | 0/88 [00:00<?, ?it/s]"
      ]
     },
     "metadata": {},
     "output_type": "display_data"
    },
    {
     "data": {
      "application/vnd.jupyter.widget-view+json": {
       "model_id": "2ef0e31bcabb4b5781aa38e68378247f",
       "version_major": 2,
       "version_minor": 0
      },
      "text/plain": [
       "Epoch 71/100 [Val]:   0%|          | 0/88 [00:00<?, ?it/s]"
      ]
     },
     "metadata": {},
     "output_type": "display_data"
    },
    {
     "name": "stdout",
     "output_type": "stream",
     "text": [
      "AUC Calc Warn: Target scores need to be probabilities for multiclass roc_auc, i.e. they should sum up to 1.0 over classes\n",
      "Epoch 71: TrainLoss=0.0773, F1-W=0.8018, Acc=0.8018, AUC=0.0000\n"
     ]
    },
    {
     "data": {
      "application/vnd.jupyter.widget-view+json": {
       "model_id": "76718edb48dd4edf8e884f6634f60589",
       "version_major": 2,
       "version_minor": 0
      },
      "text/plain": [
       "Epoch 72/100 [Train]:   0%|          | 0/88 [00:00<?, ?it/s]"
      ]
     },
     "metadata": {},
     "output_type": "display_data"
    },
    {
     "data": {
      "application/vnd.jupyter.widget-view+json": {
       "model_id": "1e62e9f5043a48fa885cab376f65796a",
       "version_major": 2,
       "version_minor": 0
      },
      "text/plain": [
       "Epoch 72/100 [Val]:   0%|          | 0/88 [00:00<?, ?it/s]"
      ]
     },
     "metadata": {},
     "output_type": "display_data"
    },
    {
     "name": "stdout",
     "output_type": "stream",
     "text": [
      "AUC Calc Warn: Target scores need to be probabilities for multiclass roc_auc, i.e. they should sum up to 1.0 over classes\n",
      "Epoch 72: TrainLoss=0.0867, F1-W=0.7982, Acc=0.7982, AUC=0.0000\n"
     ]
    },
    {
     "data": {
      "application/vnd.jupyter.widget-view+json": {
       "model_id": "948dc6eafe4a4359a4e71b1f03285fd1",
       "version_major": 2,
       "version_minor": 0
      },
      "text/plain": [
       "Epoch 73/100 [Train]:   0%|          | 0/88 [00:00<?, ?it/s]"
      ]
     },
     "metadata": {},
     "output_type": "display_data"
    },
    {
     "data": {
      "application/vnd.jupyter.widget-view+json": {
       "model_id": "7233f905f2f141cca824ffd1ff640cb1",
       "version_major": 2,
       "version_minor": 0
      },
      "text/plain": [
       "Epoch 73/100 [Val]:   0%|          | 0/88 [00:00<?, ?it/s]"
      ]
     },
     "metadata": {},
     "output_type": "display_data"
    },
    {
     "name": "stdout",
     "output_type": "stream",
     "text": [
      "AUC Calc Warn: Target scores need to be probabilities for multiclass roc_auc, i.e. they should sum up to 1.0 over classes\n",
      "Epoch 73: TrainLoss=0.0762, F1-W=0.8001, Acc=0.8000, AUC=0.0000\n"
     ]
    },
    {
     "data": {
      "application/vnd.jupyter.widget-view+json": {
       "model_id": "cdadf78d6197435eac3d8ccd9dcd1c73",
       "version_major": 2,
       "version_minor": 0
      },
      "text/plain": [
       "Epoch 74/100 [Train]:   0%|          | 0/88 [00:00<?, ?it/s]"
      ]
     },
     "metadata": {},
     "output_type": "display_data"
    },
    {
     "data": {
      "application/vnd.jupyter.widget-view+json": {
       "model_id": "fd38c4513f314c12bb86abf3d0bde1f6",
       "version_major": 2,
       "version_minor": 0
      },
      "text/plain": [
       "Epoch 74/100 [Val]:   0%|          | 0/88 [00:00<?, ?it/s]"
      ]
     },
     "metadata": {},
     "output_type": "display_data"
    },
    {
     "name": "stdout",
     "output_type": "stream",
     "text": [
      "AUC Calc Warn: Target scores need to be probabilities for multiclass roc_auc, i.e. they should sum up to 1.0 over classes\n",
      "Epoch 74: TrainLoss=0.0837, F1-W=0.8008, Acc=0.8011, AUC=0.0000\n"
     ]
    },
    {
     "data": {
      "application/vnd.jupyter.widget-view+json": {
       "model_id": "a27756eee9e0448399e95854c7b90d59",
       "version_major": 2,
       "version_minor": 0
      },
      "text/plain": [
       "Epoch 75/100 [Train]:   0%|          | 0/88 [00:00<?, ?it/s]"
      ]
     },
     "metadata": {},
     "output_type": "display_data"
    },
    {
     "data": {
      "application/vnd.jupyter.widget-view+json": {
       "model_id": "e7fc601647c64af089d8eab440e0d0a0",
       "version_major": 2,
       "version_minor": 0
      },
      "text/plain": [
       "Epoch 75/100 [Val]:   0%|          | 0/88 [00:00<?, ?it/s]"
      ]
     },
     "metadata": {},
     "output_type": "display_data"
    },
    {
     "name": "stdout",
     "output_type": "stream",
     "text": [
      "AUC Calc Warn: Target scores need to be probabilities for multiclass roc_auc, i.e. they should sum up to 1.0 over classes\n",
      "Epoch 75: TrainLoss=0.0823, F1-W=0.7997, Acc=0.7996, AUC=0.0000\n"
     ]
    },
    {
     "data": {
      "application/vnd.jupyter.widget-view+json": {
       "model_id": "9ec166a4d12b4c318f62ec2428086714",
       "version_major": 2,
       "version_minor": 0
      },
      "text/plain": [
       "Epoch 76/100 [Train]:   0%|          | 0/88 [00:00<?, ?it/s]"
      ]
     },
     "metadata": {},
     "output_type": "display_data"
    },
    {
     "data": {
      "application/vnd.jupyter.widget-view+json": {
       "model_id": "30f69163a3dd46e49a29eabd23312d26",
       "version_major": 2,
       "version_minor": 0
      },
      "text/plain": [
       "Epoch 76/100 [Val]:   0%|          | 0/88 [00:00<?, ?it/s]"
      ]
     },
     "metadata": {},
     "output_type": "display_data"
    },
    {
     "name": "stdout",
     "output_type": "stream",
     "text": [
      "AUC Calc Warn: Target scores need to be probabilities for multiclass roc_auc, i.e. they should sum up to 1.0 over classes\n",
      "Epoch 76: TrainLoss=0.0803, F1-W=0.8017, Acc=0.8018, AUC=0.0000\n"
     ]
    },
    {
     "data": {
      "application/vnd.jupyter.widget-view+json": {
       "model_id": "a7bc072804054b27a8b27f6ba29a45e6",
       "version_major": 2,
       "version_minor": 0
      },
      "text/plain": [
       "Epoch 77/100 [Train]:   0%|          | 0/88 [00:00<?, ?it/s]"
      ]
     },
     "metadata": {},
     "output_type": "display_data"
    },
    {
     "data": {
      "application/vnd.jupyter.widget-view+json": {
       "model_id": "e05504b4981e4bf2b459e2eec91ada30",
       "version_major": 2,
       "version_minor": 0
      },
      "text/plain": [
       "Epoch 77/100 [Val]:   0%|          | 0/88 [00:00<?, ?it/s]"
      ]
     },
     "metadata": {},
     "output_type": "display_data"
    },
    {
     "name": "stdout",
     "output_type": "stream",
     "text": [
      "AUC Calc Warn: Target scores need to be probabilities for multiclass roc_auc, i.e. they should sum up to 1.0 over classes\n",
      "Epoch 77: TrainLoss=0.0716, F1-W=0.8019, Acc=0.8021, AUC=0.0000\n"
     ]
    },
    {
     "data": {
      "application/vnd.jupyter.widget-view+json": {
       "model_id": "0d2f68c7f3014011b93a5acc0a5a8e05",
       "version_major": 2,
       "version_minor": 0
      },
      "text/plain": [
       "Epoch 78/100 [Train]:   0%|          | 0/88 [00:00<?, ?it/s]"
      ]
     },
     "metadata": {},
     "output_type": "display_data"
    },
    {
     "data": {
      "application/vnd.jupyter.widget-view+json": {
       "model_id": "ae0c2245c3ed4fb69e74648ec86bd60f",
       "version_major": 2,
       "version_minor": 0
      },
      "text/plain": [
       "Epoch 78/100 [Val]:   0%|          | 0/88 [00:00<?, ?it/s]"
      ]
     },
     "metadata": {},
     "output_type": "display_data"
    },
    {
     "name": "stdout",
     "output_type": "stream",
     "text": [
      "AUC Calc Warn: Target scores need to be probabilities for multiclass roc_auc, i.e. they should sum up to 1.0 over classes\n",
      "Epoch 78: TrainLoss=0.0750, F1-W=0.8045, Acc=0.8046, AUC=0.0000\n"
     ]
    },
    {
     "data": {
      "application/vnd.jupyter.widget-view+json": {
       "model_id": "0bc56236cadd46a89293a0308d7bff05",
       "version_major": 2,
       "version_minor": 0
      },
      "text/plain": [
       "Epoch 79/100 [Train]:   0%|          | 0/88 [00:00<?, ?it/s]"
      ]
     },
     "metadata": {},
     "output_type": "display_data"
    },
    {
     "data": {
      "application/vnd.jupyter.widget-view+json": {
       "model_id": "f406601e52ec4eca8e1f2085a2bab86a",
       "version_major": 2,
       "version_minor": 0
      },
      "text/plain": [
       "Epoch 79/100 [Val]:   0%|          | 0/88 [00:00<?, ?it/s]"
      ]
     },
     "metadata": {},
     "output_type": "display_data"
    },
    {
     "name": "stdout",
     "output_type": "stream",
     "text": [
      "AUC Calc Warn: Target scores need to be probabilities for multiclass roc_auc, i.e. they should sum up to 1.0 over classes\n",
      "Epoch 79: TrainLoss=0.0811, F1-W=0.8017, Acc=0.8018, AUC=0.0000\n"
     ]
    },
    {
     "data": {
      "application/vnd.jupyter.widget-view+json": {
       "model_id": "4080e602b5124d409379da328eebed85",
       "version_major": 2,
       "version_minor": 0
      },
      "text/plain": [
       "Epoch 80/100 [Train]:   0%|          | 0/88 [00:00<?, ?it/s]"
      ]
     },
     "metadata": {},
     "output_type": "display_data"
    },
    {
     "data": {
      "application/vnd.jupyter.widget-view+json": {
       "model_id": "c8c283de6c0c4b419ecd7f67df25aeb6",
       "version_major": 2,
       "version_minor": 0
      },
      "text/plain": [
       "Epoch 80/100 [Val]:   0%|          | 0/88 [00:00<?, ?it/s]"
      ]
     },
     "metadata": {},
     "output_type": "display_data"
    },
    {
     "name": "stdout",
     "output_type": "stream",
     "text": [
      "AUC Calc Warn: Target scores need to be probabilities for multiclass roc_auc, i.e. they should sum up to 1.0 over classes\n",
      "Epoch 80: TrainLoss=0.0811, F1-W=0.8016, Acc=0.8018, AUC=0.0000\n"
     ]
    },
    {
     "data": {
      "application/vnd.jupyter.widget-view+json": {
       "model_id": "da861681204b4915942d0f3806e2644a",
       "version_major": 2,
       "version_minor": 0
      },
      "text/plain": [
       "Epoch 81/100 [Train]:   0%|          | 0/88 [00:00<?, ?it/s]"
      ]
     },
     "metadata": {},
     "output_type": "display_data"
    },
    {
     "data": {
      "application/vnd.jupyter.widget-view+json": {
       "model_id": "75cdb2f3be4043c7b9130a214b3eed95",
       "version_major": 2,
       "version_minor": 0
      },
      "text/plain": [
       "Epoch 81/100 [Val]:   0%|          | 0/88 [00:00<?, ?it/s]"
      ]
     },
     "metadata": {},
     "output_type": "display_data"
    },
    {
     "name": "stdout",
     "output_type": "stream",
     "text": [
      "AUC Calc Warn: Target scores need to be probabilities for multiclass roc_auc, i.e. they should sum up to 1.0 over classes\n",
      "Epoch 81: TrainLoss=0.0850, F1-W=0.8046, Acc=0.8046, AUC=0.0000\n"
     ]
    },
    {
     "data": {
      "application/vnd.jupyter.widget-view+json": {
       "model_id": "5a56cac058a94f64874348ec78008ded",
       "version_major": 2,
       "version_minor": 0
      },
      "text/plain": [
       "Epoch 82/100 [Train]:   0%|          | 0/88 [00:00<?, ?it/s]"
      ]
     },
     "metadata": {},
     "output_type": "display_data"
    },
    {
     "data": {
      "application/vnd.jupyter.widget-view+json": {
       "model_id": "ec5bb65e2409446b9260ea97a325bcfb",
       "version_major": 2,
       "version_minor": 0
      },
      "text/plain": [
       "Epoch 82/100 [Val]:   0%|          | 0/88 [00:00<?, ?it/s]"
      ]
     },
     "metadata": {},
     "output_type": "display_data"
    },
    {
     "name": "stdout",
     "output_type": "stream",
     "text": [
      "AUC Calc Warn: Target scores need to be probabilities for multiclass roc_auc, i.e. they should sum up to 1.0 over classes\n",
      "Epoch 82: TrainLoss=0.0873, F1-W=0.8042, Acc=0.8043, AUC=0.0000\n"
     ]
    },
    {
     "data": {
      "application/vnd.jupyter.widget-view+json": {
       "model_id": "ee64a64f2ddc4a18ac41a4b023484dfd",
       "version_major": 2,
       "version_minor": 0
      },
      "text/plain": [
       "Epoch 83/100 [Train]:   0%|          | 0/88 [00:00<?, ?it/s]"
      ]
     },
     "metadata": {},
     "output_type": "display_data"
    },
    {
     "data": {
      "application/vnd.jupyter.widget-view+json": {
       "model_id": "e03fbd4de7fe439da5f590ab1eb2e9ec",
       "version_major": 2,
       "version_minor": 0
      },
      "text/plain": [
       "Epoch 83/100 [Val]:   0%|          | 0/88 [00:00<?, ?it/s]"
      ]
     },
     "metadata": {},
     "output_type": "display_data"
    },
    {
     "name": "stdout",
     "output_type": "stream",
     "text": [
      "AUC Calc Warn: Target scores need to be probabilities for multiclass roc_auc, i.e. they should sum up to 1.0 over classes\n",
      "Epoch 83: TrainLoss=0.0869, F1-W=0.8032, Acc=0.8032, AUC=0.0000\n"
     ]
    },
    {
     "data": {
      "application/vnd.jupyter.widget-view+json": {
       "model_id": "39c8e5323d2e4e2d83c0edf4dd343547",
       "version_major": 2,
       "version_minor": 0
      },
      "text/plain": [
       "Epoch 84/100 [Train]:   0%|          | 0/88 [00:00<?, ?it/s]"
      ]
     },
     "metadata": {},
     "output_type": "display_data"
    },
    {
     "data": {
      "application/vnd.jupyter.widget-view+json": {
       "model_id": "db30967acd504d3c85ccca569d251963",
       "version_major": 2,
       "version_minor": 0
      },
      "text/plain": [
       "Epoch 84/100 [Val]:   0%|          | 0/88 [00:00<?, ?it/s]"
      ]
     },
     "metadata": {},
     "output_type": "display_data"
    },
    {
     "name": "stdout",
     "output_type": "stream",
     "text": [
      "AUC Calc Warn: Target scores need to be probabilities for multiclass roc_auc, i.e. they should sum up to 1.0 over classes\n",
      "Epoch 84: TrainLoss=0.0771, F1-W=0.8047, Acc=0.8050, AUC=0.0000\n"
     ]
    },
    {
     "data": {
      "application/vnd.jupyter.widget-view+json": {
       "model_id": "9550b287eece48e2a5b7d08717747906",
       "version_major": 2,
       "version_minor": 0
      },
      "text/plain": [
       "Epoch 85/100 [Train]:   0%|          | 0/88 [00:00<?, ?it/s]"
      ]
     },
     "metadata": {},
     "output_type": "display_data"
    },
    {
     "data": {
      "application/vnd.jupyter.widget-view+json": {
       "model_id": "7475e18e40344bf6b5fe147b0ddbcb7a",
       "version_major": 2,
       "version_minor": 0
      },
      "text/plain": [
       "Epoch 85/100 [Val]:   0%|          | 0/88 [00:00<?, ?it/s]"
      ]
     },
     "metadata": {},
     "output_type": "display_data"
    },
    {
     "name": "stdout",
     "output_type": "stream",
     "text": [
      "AUC Calc Warn: Target scores need to be probabilities for multiclass roc_auc, i.e. they should sum up to 1.0 over classes\n",
      "Epoch 85: TrainLoss=0.0849, F1-W=0.8026, Acc=0.8028, AUC=0.0000\n"
     ]
    },
    {
     "data": {
      "application/vnd.jupyter.widget-view+json": {
       "model_id": "06ed91c9c82a42a4ab9a1d2b12411304",
       "version_major": 2,
       "version_minor": 0
      },
      "text/plain": [
       "Epoch 86/100 [Train]:   0%|          | 0/88 [00:00<?, ?it/s]"
      ]
     },
     "metadata": {},
     "output_type": "display_data"
    },
    {
     "data": {
      "application/vnd.jupyter.widget-view+json": {
       "model_id": "be7ebf68d5104a2cb952524554ecee1a",
       "version_major": 2,
       "version_minor": 0
      },
      "text/plain": [
       "Epoch 86/100 [Val]:   0%|          | 0/88 [00:00<?, ?it/s]"
      ]
     },
     "metadata": {},
     "output_type": "display_data"
    },
    {
     "name": "stdout",
     "output_type": "stream",
     "text": [
      "AUC Calc Warn: Target scores need to be probabilities for multiclass roc_auc, i.e. they should sum up to 1.0 over classes\n",
      "Epoch 86: TrainLoss=0.0955, F1-W=0.8007, Acc=0.8007, AUC=0.0000\n"
     ]
    },
    {
     "data": {
      "application/vnd.jupyter.widget-view+json": {
       "model_id": "ce09bf5df64543a4902ee40f5c981744",
       "version_major": 2,
       "version_minor": 0
      },
      "text/plain": [
       "Epoch 87/100 [Train]:   0%|          | 0/88 [00:00<?, ?it/s]"
      ]
     },
     "metadata": {},
     "output_type": "display_data"
    },
    {
     "data": {
      "application/vnd.jupyter.widget-view+json": {
       "model_id": "26acaba853944f3f9c4a0cd52c84aedf",
       "version_major": 2,
       "version_minor": 0
      },
      "text/plain": [
       "Epoch 87/100 [Val]:   0%|          | 0/88 [00:00<?, ?it/s]"
      ]
     },
     "metadata": {},
     "output_type": "display_data"
    },
    {
     "name": "stdout",
     "output_type": "stream",
     "text": [
      "AUC Calc Warn: Target scores need to be probabilities for multiclass roc_auc, i.e. they should sum up to 1.0 over classes\n",
      "Epoch 87: TrainLoss=0.0838, F1-W=0.8013, Acc=0.8014, AUC=0.0000\n"
     ]
    },
    {
     "data": {
      "application/vnd.jupyter.widget-view+json": {
       "model_id": "d51eac53d3394a98aaa29bfbda46c8b5",
       "version_major": 2,
       "version_minor": 0
      },
      "text/plain": [
       "Epoch 88/100 [Train]:   0%|          | 0/88 [00:00<?, ?it/s]"
      ]
     },
     "metadata": {},
     "output_type": "display_data"
    },
    {
     "data": {
      "application/vnd.jupyter.widget-view+json": {
       "model_id": "4626c00d0204406fa2553078fb3fff24",
       "version_major": 2,
       "version_minor": 0
      },
      "text/plain": [
       "Epoch 88/100 [Val]:   0%|          | 0/88 [00:00<?, ?it/s]"
      ]
     },
     "metadata": {},
     "output_type": "display_data"
    },
    {
     "name": "stdout",
     "output_type": "stream",
     "text": [
      "AUC Calc Warn: Target scores need to be probabilities for multiclass roc_auc, i.e. they should sum up to 1.0 over classes\n",
      "Epoch 88: TrainLoss=0.0847, F1-W=0.8029, Acc=0.8028, AUC=0.0000\n"
     ]
    },
    {
     "data": {
      "application/vnd.jupyter.widget-view+json": {
       "model_id": "43efbca76311431986b0531c20d4a83c",
       "version_major": 2,
       "version_minor": 0
      },
      "text/plain": [
       "Epoch 89/100 [Train]:   0%|          | 0/88 [00:00<?, ?it/s]"
      ]
     },
     "metadata": {},
     "output_type": "display_data"
    },
    {
     "data": {
      "application/vnd.jupyter.widget-view+json": {
       "model_id": "6ed7e1834e6549ff8c3412f7a24e4f91",
       "version_major": 2,
       "version_minor": 0
      },
      "text/plain": [
       "Epoch 89/100 [Val]:   0%|          | 0/88 [00:00<?, ?it/s]"
      ]
     },
     "metadata": {},
     "output_type": "display_data"
    },
    {
     "name": "stdout",
     "output_type": "stream",
     "text": [
      "AUC Calc Warn: Target scores need to be probabilities for multiclass roc_auc, i.e. they should sum up to 1.0 over classes\n",
      "Epoch 89: TrainLoss=0.0839, F1-W=0.8039, Acc=0.8039, AUC=0.0000\n"
     ]
    },
    {
     "data": {
      "application/vnd.jupyter.widget-view+json": {
       "model_id": "1fc34c658f6449068a0e17a40fc98562",
       "version_major": 2,
       "version_minor": 0
      },
      "text/plain": [
       "Epoch 90/100 [Train]:   0%|          | 0/88 [00:00<?, ?it/s]"
      ]
     },
     "metadata": {},
     "output_type": "display_data"
    },
    {
     "data": {
      "application/vnd.jupyter.widget-view+json": {
       "model_id": "1f2ac97bf5c64219a4cdbecce995b2cf",
       "version_major": 2,
       "version_minor": 0
      },
      "text/plain": [
       "Epoch 90/100 [Val]:   0%|          | 0/88 [00:00<?, ?it/s]"
      ]
     },
     "metadata": {},
     "output_type": "display_data"
    },
    {
     "name": "stdout",
     "output_type": "stream",
     "text": [
      "AUC Calc Warn: Target scores need to be probabilities for multiclass roc_auc, i.e. they should sum up to 1.0 over classes\n",
      "Epoch 90: TrainLoss=0.0748, F1-W=0.8054, Acc=0.8057, AUC=0.0000\n"
     ]
    },
    {
     "data": {
      "application/vnd.jupyter.widget-view+json": {
       "model_id": "ff1f9ac117864fc6b57c09b7e38dc2a1",
       "version_major": 2,
       "version_minor": 0
      },
      "text/plain": [
       "Epoch 91/100 [Train]:   0%|          | 0/88 [00:00<?, ?it/s]"
      ]
     },
     "metadata": {},
     "output_type": "display_data"
    },
    {
     "data": {
      "application/vnd.jupyter.widget-view+json": {
       "model_id": "7c0c6ac1361644489379e6356faf999a",
       "version_major": 2,
       "version_minor": 0
      },
      "text/plain": [
       "Epoch 91/100 [Val]:   0%|          | 0/88 [00:00<?, ?it/s]"
      ]
     },
     "metadata": {},
     "output_type": "display_data"
    },
    {
     "name": "stdout",
     "output_type": "stream",
     "text": [
      "AUC Calc Warn: Target scores need to be probabilities for multiclass roc_auc, i.e. they should sum up to 1.0 over classes\n",
      "Epoch 91: TrainLoss=0.0888, F1-W=0.8030, Acc=0.8028, AUC=0.0000\n"
     ]
    },
    {
     "data": {
      "application/vnd.jupyter.widget-view+json": {
       "model_id": "50f19047b83842088294e8f97a67992f",
       "version_major": 2,
       "version_minor": 0
      },
      "text/plain": [
       "Epoch 92/100 [Train]:   0%|          | 0/88 [00:00<?, ?it/s]"
      ]
     },
     "metadata": {},
     "output_type": "display_data"
    },
    {
     "data": {
      "application/vnd.jupyter.widget-view+json": {
       "model_id": "c6f0a40c799e4292adc5f79f7c993553",
       "version_major": 2,
       "version_minor": 0
      },
      "text/plain": [
       "Epoch 92/100 [Val]:   0%|          | 0/88 [00:00<?, ?it/s]"
      ]
     },
     "metadata": {},
     "output_type": "display_data"
    },
    {
     "name": "stdout",
     "output_type": "stream",
     "text": [
      "AUC Calc Warn: Target scores need to be probabilities for multiclass roc_auc, i.e. they should sum up to 1.0 over classes\n",
      "Epoch 92: TrainLoss=0.0790, F1-W=0.8006, Acc=0.8007, AUC=0.0000\n"
     ]
    },
    {
     "data": {
      "application/vnd.jupyter.widget-view+json": {
       "model_id": "5b6602df548d4eb48de462aeed237dae",
       "version_major": 2,
       "version_minor": 0
      },
      "text/plain": [
       "Epoch 93/100 [Train]:   0%|          | 0/88 [00:00<?, ?it/s]"
      ]
     },
     "metadata": {},
     "output_type": "display_data"
    },
    {
     "data": {
      "application/vnd.jupyter.widget-view+json": {
       "model_id": "1b3b3d3197614c149951918cb754fa56",
       "version_major": 2,
       "version_minor": 0
      },
      "text/plain": [
       "Epoch 93/100 [Val]:   0%|          | 0/88 [00:00<?, ?it/s]"
      ]
     },
     "metadata": {},
     "output_type": "display_data"
    },
    {
     "name": "stdout",
     "output_type": "stream",
     "text": [
      "AUC Calc Warn: Target scores need to be probabilities for multiclass roc_auc, i.e. they should sum up to 1.0 over classes\n",
      "Epoch 93: TrainLoss=0.0738, F1-W=0.8013, Acc=0.8014, AUC=0.0000\n"
     ]
    },
    {
     "data": {
      "application/vnd.jupyter.widget-view+json": {
       "model_id": "a5416fc5f4d44797a7831fe0dcf35583",
       "version_major": 2,
       "version_minor": 0
      },
      "text/plain": [
       "Epoch 94/100 [Train]:   0%|          | 0/88 [00:00<?, ?it/s]"
      ]
     },
     "metadata": {},
     "output_type": "display_data"
    },
    {
     "data": {
      "application/vnd.jupyter.widget-view+json": {
       "model_id": "19836667d37344d6b9cec31f0e3f39ef",
       "version_major": 2,
       "version_minor": 0
      },
      "text/plain": [
       "Epoch 94/100 [Val]:   0%|          | 0/88 [00:00<?, ?it/s]"
      ]
     },
     "metadata": {},
     "output_type": "display_data"
    },
    {
     "name": "stdout",
     "output_type": "stream",
     "text": [
      "AUC Calc Warn: Target scores need to be probabilities for multiclass roc_auc, i.e. they should sum up to 1.0 over classes\n",
      "Epoch 94: TrainLoss=0.0881, F1-W=0.8018, Acc=0.8018, AUC=0.0000\n"
     ]
    },
    {
     "data": {
      "application/vnd.jupyter.widget-view+json": {
       "model_id": "78d4b2216abb461c819b8da7033fb24b",
       "version_major": 2,
       "version_minor": 0
      },
      "text/plain": [
       "Epoch 95/100 [Train]:   0%|          | 0/88 [00:00<?, ?it/s]"
      ]
     },
     "metadata": {},
     "output_type": "display_data"
    },
    {
     "data": {
      "application/vnd.jupyter.widget-view+json": {
       "model_id": "92cfc66094dc4950a634e7ac4ddb9029",
       "version_major": 2,
       "version_minor": 0
      },
      "text/plain": [
       "Epoch 95/100 [Val]:   0%|          | 0/88 [00:00<?, ?it/s]"
      ]
     },
     "metadata": {},
     "output_type": "display_data"
    },
    {
     "name": "stdout",
     "output_type": "stream",
     "text": [
      "AUC Calc Warn: Target scores need to be probabilities for multiclass roc_auc, i.e. they should sum up to 1.0 over classes\n",
      "Epoch 95: TrainLoss=0.0858, F1-W=0.8031, Acc=0.8032, AUC=0.0000\n"
     ]
    },
    {
     "data": {
      "application/vnd.jupyter.widget-view+json": {
       "model_id": "b926af80f2ef49f5b689e46dcfa77331",
       "version_major": 2,
       "version_minor": 0
      },
      "text/plain": [
       "Epoch 96/100 [Train]:   0%|          | 0/88 [00:00<?, ?it/s]"
      ]
     },
     "metadata": {},
     "output_type": "display_data"
    },
    {
     "data": {
      "application/vnd.jupyter.widget-view+json": {
       "model_id": "fdbb56bc42fb4443bc98473bab00a64f",
       "version_major": 2,
       "version_minor": 0
      },
      "text/plain": [
       "Epoch 96/100 [Val]:   0%|          | 0/88 [00:00<?, ?it/s]"
      ]
     },
     "metadata": {},
     "output_type": "display_data"
    },
    {
     "name": "stdout",
     "output_type": "stream",
     "text": [
      "AUC Calc Warn: Target scores need to be probabilities for multiclass roc_auc, i.e. they should sum up to 1.0 over classes\n",
      "Epoch 96: TrainLoss=0.0851, F1-W=0.8013, Acc=0.8014, AUC=0.0000\n"
     ]
    },
    {
     "data": {
      "application/vnd.jupyter.widget-view+json": {
       "model_id": "925dc46d60fd484fb800e07745858bd9",
       "version_major": 2,
       "version_minor": 0
      },
      "text/plain": [
       "Epoch 97/100 [Train]:   0%|          | 0/88 [00:00<?, ?it/s]"
      ]
     },
     "metadata": {},
     "output_type": "display_data"
    },
    {
     "data": {
      "application/vnd.jupyter.widget-view+json": {
       "model_id": "acc9c7fbc97f465da579678f9411513a",
       "version_major": 2,
       "version_minor": 0
      },
      "text/plain": [
       "Epoch 97/100 [Val]:   0%|          | 0/88 [00:00<?, ?it/s]"
      ]
     },
     "metadata": {},
     "output_type": "display_data"
    },
    {
     "name": "stdout",
     "output_type": "stream",
     "text": [
      "AUC Calc Warn: Target scores need to be probabilities for multiclass roc_auc, i.e. they should sum up to 1.0 over classes\n",
      "Epoch 97: TrainLoss=0.0693, F1-W=0.8035, Acc=0.8036, AUC=0.0000\n"
     ]
    },
    {
     "data": {
      "application/vnd.jupyter.widget-view+json": {
       "model_id": "642569dac8dc40d2ad62b46fe94c2e53",
       "version_major": 2,
       "version_minor": 0
      },
      "text/plain": [
       "Epoch 98/100 [Train]:   0%|          | 0/88 [00:00<?, ?it/s]"
      ]
     },
     "metadata": {},
     "output_type": "display_data"
    },
    {
     "data": {
      "application/vnd.jupyter.widget-view+json": {
       "model_id": "7d2f6fcbdf964ed7bf1bc29ed427fe36",
       "version_major": 2,
       "version_minor": 0
      },
      "text/plain": [
       "Epoch 98/100 [Val]:   0%|          | 0/88 [00:00<?, ?it/s]"
      ]
     },
     "metadata": {},
     "output_type": "display_data"
    },
    {
     "name": "stdout",
     "output_type": "stream",
     "text": [
      "AUC Calc Warn: Target scores need to be probabilities for multiclass roc_auc, i.e. they should sum up to 1.0 over classes\n",
      "Epoch 98: TrainLoss=0.0776, F1-W=0.8010, Acc=0.8011, AUC=0.0000\n"
     ]
    },
    {
     "data": {
      "application/vnd.jupyter.widget-view+json": {
       "model_id": "c1e099f85fc64608a4d6103a866a5bb7",
       "version_major": 2,
       "version_minor": 0
      },
      "text/plain": [
       "Epoch 99/100 [Train]:   0%|          | 0/88 [00:00<?, ?it/s]"
      ]
     },
     "metadata": {},
     "output_type": "display_data"
    },
    {
     "data": {
      "application/vnd.jupyter.widget-view+json": {
       "model_id": "029627b0d8794301ab5d2dd42b980c37",
       "version_major": 2,
       "version_minor": 0
      },
      "text/plain": [
       "Epoch 99/100 [Val]:   0%|          | 0/88 [00:00<?, ?it/s]"
      ]
     },
     "metadata": {},
     "output_type": "display_data"
    },
    {
     "name": "stdout",
     "output_type": "stream",
     "text": [
      "AUC Calc Warn: Target scores need to be probabilities for multiclass roc_auc, i.e. they should sum up to 1.0 over classes\n",
      "Epoch 99: TrainLoss=0.0879, F1-W=0.8019, Acc=0.8021, AUC=0.0000\n"
     ]
    },
    {
     "data": {
      "application/vnd.jupyter.widget-view+json": {
       "model_id": "2b6a8629e2d44131925f51bfc309a04f",
       "version_major": 2,
       "version_minor": 0
      },
      "text/plain": [
       "Epoch 100/100 [Train]:   0%|          | 0/88 [00:00<?, ?it/s]"
      ]
     },
     "metadata": {},
     "output_type": "display_data"
    },
    {
     "data": {
      "application/vnd.jupyter.widget-view+json": {
       "model_id": "633ffd9493d54574b21fe8afa0785da5",
       "version_major": 2,
       "version_minor": 0
      },
      "text/plain": [
       "Epoch 100/100 [Val]:   0%|          | 0/88 [00:00<?, ?it/s]"
      ]
     },
     "metadata": {},
     "output_type": "display_data"
    },
    {
     "name": "stdout",
     "output_type": "stream",
     "text": [
      "AUC Calc Warn: Target scores need to be probabilities for multiclass roc_auc, i.e. they should sum up to 1.0 over classes\n",
      "Epoch 100: TrainLoss=0.0722, F1-W=0.8028, Acc=0.8028, AUC=0.0000\n",
      "\n",
      "Finished Training for EfficientNetB0_data_25percent. Best F1-W: 0.8077 at Epoch 38\n",
      "==> Results with 25.0% data: Best F1-Weighted = 0.8077\n",
      "\n",
      "--- Training with 50.0% of labeled data ---\n",
      "Train dataset subset size: 5620\n",
      "Adapting EfficientNetB0 pretrained weights from 3 to 1 channels.\n",
      "\n",
      "Starting training for EfficientNetB0_data_50percent...\n"
     ]
    },
    {
     "name": "stderr",
     "output_type": "stream",
     "text": [
      "C:\\Users\\PC\\anaconda3\\envs\\train_env\\lib\\site-packages\\torch\\optim\\lr_scheduler.py:62: UserWarning: The verbose parameter is deprecated. Please use get_last_lr() to access the learning rate.\n",
      "  warnings.warn(\n"
     ]
    },
    {
     "data": {
      "application/vnd.jupyter.widget-view+json": {
       "model_id": "42e9bb629aa44a06ab1e0ea7995195dc",
       "version_major": 2,
       "version_minor": 0
      },
      "text/plain": [
       "Epoch 1/100 [Train]:   0%|          | 0/176 [00:00<?, ?it/s]"
      ]
     },
     "metadata": {},
     "output_type": "display_data"
    },
    {
     "data": {
      "application/vnd.jupyter.widget-view+json": {
       "model_id": "cfd3296d616f47f9b65ba42a50c3c4f9",
       "version_major": 2,
       "version_minor": 0
      },
      "text/plain": [
       "Epoch 1/100 [Val]:   0%|          | 0/88 [00:00<?, ?it/s]"
      ]
     },
     "metadata": {},
     "output_type": "display_data"
    },
    {
     "name": "stdout",
     "output_type": "stream",
     "text": [
      "AUC Calc Warn: Target scores need to be probabilities for multiclass roc_auc, i.e. they should sum up to 1.0 over classes\n",
      "Epoch 1: TrainLoss=1.3043, F1-W=0.5841, Acc=0.6249, AUC=0.0000\n",
      "  -> New best F1-W: 0.5841. Saving artifacts.\n"
     ]
    },
    {
     "data": {
      "application/vnd.jupyter.widget-view+json": {
       "model_id": "489d7a307ded4c04b4caf0a6a8062abc",
       "version_major": 2,
       "version_minor": 0
      },
      "text/plain": [
       "Epoch 2/100 [Train]:   0%|          | 0/176 [00:00<?, ?it/s]"
      ]
     },
     "metadata": {},
     "output_type": "display_data"
    },
    {
     "data": {
      "application/vnd.jupyter.widget-view+json": {
       "model_id": "5b6525c366fc4a46a179876e3b8ffc95",
       "version_major": 2,
       "version_minor": 0
      },
      "text/plain": [
       "Epoch 2/100 [Val]:   0%|          | 0/88 [00:00<?, ?it/s]"
      ]
     },
     "metadata": {},
     "output_type": "display_data"
    },
    {
     "name": "stdout",
     "output_type": "stream",
     "text": [
      "AUC Calc Warn: Target scores need to be probabilities for multiclass roc_auc, i.e. they should sum up to 1.0 over classes\n",
      "Epoch 2: TrainLoss=0.8694, F1-W=0.7092, Acc=0.7135, AUC=0.0000\n",
      "  -> New best F1-W: 0.7092. Saving artifacts.\n"
     ]
    },
    {
     "data": {
      "application/vnd.jupyter.widget-view+json": {
       "model_id": "1b1cefa1aa1b458197c27972c8383914",
       "version_major": 2,
       "version_minor": 0
      },
      "text/plain": [
       "Epoch 3/100 [Train]:   0%|          | 0/176 [00:00<?, ?it/s]"
      ]
     },
     "metadata": {},
     "output_type": "display_data"
    },
    {
     "data": {
      "application/vnd.jupyter.widget-view+json": {
       "model_id": "3a881c6e5c2d4b5bb19969ddb6cd2191",
       "version_major": 2,
       "version_minor": 0
      },
      "text/plain": [
       "Epoch 3/100 [Val]:   0%|          | 0/88 [00:00<?, ?it/s]"
      ]
     },
     "metadata": {},
     "output_type": "display_data"
    },
    {
     "name": "stdout",
     "output_type": "stream",
     "text": [
      "AUC Calc Warn: Target scores need to be probabilities for multiclass roc_auc, i.e. they should sum up to 1.0 over classes\n",
      "Epoch 3: TrainLoss=0.7335, F1-W=0.7527, Acc=0.7523, AUC=0.0000\n",
      "  -> New best F1-W: 0.7527. Saving artifacts.\n"
     ]
    },
    {
     "data": {
      "application/vnd.jupyter.widget-view+json": {
       "model_id": "0dd8831df6b74279a677e4eee8cf5513",
       "version_major": 2,
       "version_minor": 0
      },
      "text/plain": [
       "Epoch 4/100 [Train]:   0%|          | 0/176 [00:00<?, ?it/s]"
      ]
     },
     "metadata": {},
     "output_type": "display_data"
    },
    {
     "data": {
      "application/vnd.jupyter.widget-view+json": {
       "model_id": "76c9d8e5c8014d7f8ad2f6b0e24afe8b",
       "version_major": 2,
       "version_minor": 0
      },
      "text/plain": [
       "Epoch 4/100 [Val]:   0%|          | 0/88 [00:00<?, ?it/s]"
      ]
     },
     "metadata": {},
     "output_type": "display_data"
    },
    {
     "name": "stdout",
     "output_type": "stream",
     "text": [
      "AUC Calc Warn: Target scores need to be probabilities for multiclass roc_auc, i.e. they should sum up to 1.0 over classes\n",
      "Epoch 4: TrainLoss=0.6534, F1-W=0.7775, Acc=0.7779, AUC=0.0000\n",
      "  -> New best F1-W: 0.7775. Saving artifacts.\n"
     ]
    },
    {
     "data": {
      "application/vnd.jupyter.widget-view+json": {
       "model_id": "8c6b72ecac4848b1b8d6c4ee19c92603",
       "version_major": 2,
       "version_minor": 0
      },
      "text/plain": [
       "Epoch 5/100 [Train]:   0%|          | 0/176 [00:00<?, ?it/s]"
      ]
     },
     "metadata": {},
     "output_type": "display_data"
    },
    {
     "data": {
      "application/vnd.jupyter.widget-view+json": {
       "model_id": "025e51e4060649ccbb30fd482412b8c4",
       "version_major": 2,
       "version_minor": 0
      },
      "text/plain": [
       "Epoch 5/100 [Val]:   0%|          | 0/88 [00:00<?, ?it/s]"
      ]
     },
     "metadata": {},
     "output_type": "display_data"
    },
    {
     "name": "stdout",
     "output_type": "stream",
     "text": [
      "AUC Calc Warn: Target scores need to be probabilities for multiclass roc_auc, i.e. they should sum up to 1.0 over classes\n",
      "Epoch 5: TrainLoss=0.5965, F1-W=0.7971, Acc=0.7968, AUC=0.0000\n",
      "  -> New best F1-W: 0.7971. Saving artifacts.\n"
     ]
    },
    {
     "data": {
      "application/vnd.jupyter.widget-view+json": {
       "model_id": "f401454cf25c45cd84a8bf53c3a7dd97",
       "version_major": 2,
       "version_minor": 0
      },
      "text/plain": [
       "Epoch 6/100 [Train]:   0%|          | 0/176 [00:00<?, ?it/s]"
      ]
     },
     "metadata": {},
     "output_type": "display_data"
    },
    {
     "data": {
      "application/vnd.jupyter.widget-view+json": {
       "model_id": "ad00e02538784a1b9f7524405e77d62f",
       "version_major": 2,
       "version_minor": 0
      },
      "text/plain": [
       "Epoch 6/100 [Val]:   0%|          | 0/88 [00:00<?, ?it/s]"
      ]
     },
     "metadata": {},
     "output_type": "display_data"
    },
    {
     "name": "stdout",
     "output_type": "stream",
     "text": [
      "AUC Calc Warn: Target scores need to be probabilities for multiclass roc_auc, i.e. they should sum up to 1.0 over classes\n",
      "Epoch 6: TrainLoss=0.5311, F1-W=0.8042, Acc=0.8039, AUC=0.0000\n",
      "  -> New best F1-W: 0.8042. Saving artifacts.\n"
     ]
    },
    {
     "data": {
      "application/vnd.jupyter.widget-view+json": {
       "model_id": "0f71e1abee104238ba55c27b301ad23a",
       "version_major": 2,
       "version_minor": 0
      },
      "text/plain": [
       "Epoch 7/100 [Train]:   0%|          | 0/176 [00:00<?, ?it/s]"
      ]
     },
     "metadata": {},
     "output_type": "display_data"
    },
    {
     "data": {
      "application/vnd.jupyter.widget-view+json": {
       "model_id": "90f337b43f5e491b815e65980d6917d4",
       "version_major": 2,
       "version_minor": 0
      },
      "text/plain": [
       "Epoch 7/100 [Val]:   0%|          | 0/88 [00:00<?, ?it/s]"
      ]
     },
     "metadata": {},
     "output_type": "display_data"
    },
    {
     "name": "stdout",
     "output_type": "stream",
     "text": [
      "AUC Calc Warn: Target scores need to be probabilities for multiclass roc_auc, i.e. they should sum up to 1.0 over classes\n",
      "Epoch 7: TrainLoss=0.4996, F1-W=0.8036, Acc=0.8039, AUC=0.0000\n"
     ]
    },
    {
     "data": {
      "application/vnd.jupyter.widget-view+json": {
       "model_id": "60cc73b01afd469ca2e66406966f0d26",
       "version_major": 2,
       "version_minor": 0
      },
      "text/plain": [
       "Epoch 8/100 [Train]:   0%|          | 0/176 [00:00<?, ?it/s]"
      ]
     },
     "metadata": {},
     "output_type": "display_data"
    },
    {
     "data": {
      "application/vnd.jupyter.widget-view+json": {
       "model_id": "c804e25304d941e39dde35ba0df9f752",
       "version_major": 2,
       "version_minor": 0
      },
      "text/plain": [
       "Epoch 8/100 [Val]:   0%|          | 0/88 [00:00<?, ?it/s]"
      ]
     },
     "metadata": {},
     "output_type": "display_data"
    },
    {
     "name": "stdout",
     "output_type": "stream",
     "text": [
      "AUC Calc Warn: Target scores need to be probabilities for multiclass roc_auc, i.e. they should sum up to 1.0 over classes\n",
      "Epoch 8: TrainLoss=0.4566, F1-W=0.8034, Acc=0.8043, AUC=0.0000\n"
     ]
    },
    {
     "data": {
      "application/vnd.jupyter.widget-view+json": {
       "model_id": "96a46318b09b4930a780e26999a554ea",
       "version_major": 2,
       "version_minor": 0
      },
      "text/plain": [
       "Epoch 9/100 [Train]:   0%|          | 0/176 [00:00<?, ?it/s]"
      ]
     },
     "metadata": {},
     "output_type": "display_data"
    },
    {
     "data": {
      "application/vnd.jupyter.widget-view+json": {
       "model_id": "b1d9156db5d544a4aa93c9ef6612a906",
       "version_major": 2,
       "version_minor": 0
      },
      "text/plain": [
       "Epoch 9/100 [Val]:   0%|          | 0/88 [00:00<?, ?it/s]"
      ]
     },
     "metadata": {},
     "output_type": "display_data"
    },
    {
     "name": "stdout",
     "output_type": "stream",
     "text": [
      "AUC Calc Warn: Target scores need to be probabilities for multiclass roc_auc, i.e. they should sum up to 1.0 over classes\n",
      "Epoch 9: TrainLoss=0.4261, F1-W=0.8044, Acc=0.8046, AUC=0.0000\n",
      "  -> New best F1-W: 0.8044. Saving artifacts.\n"
     ]
    },
    {
     "data": {
      "application/vnd.jupyter.widget-view+json": {
       "model_id": "bfd5bde8ae96477e84e79f95c107f86a",
       "version_major": 2,
       "version_minor": 0
      },
      "text/plain": [
       "Epoch 10/100 [Train]:   0%|          | 0/176 [00:00<?, ?it/s]"
      ]
     },
     "metadata": {},
     "output_type": "display_data"
    },
    {
     "data": {
      "application/vnd.jupyter.widget-view+json": {
       "model_id": "404d7d4602ce4b79a4305b09e5ac7067",
       "version_major": 2,
       "version_minor": 0
      },
      "text/plain": [
       "Epoch 10/100 [Val]:   0%|          | 0/88 [00:00<?, ?it/s]"
      ]
     },
     "metadata": {},
     "output_type": "display_data"
    },
    {
     "name": "stdout",
     "output_type": "stream",
     "text": [
      "AUC Calc Warn: Target scores need to be probabilities for multiclass roc_auc, i.e. they should sum up to 1.0 over classes\n",
      "Epoch 10: TrainLoss=0.3999, F1-W=0.8238, Acc=0.8246, AUC=0.0000\n",
      "  -> New best F1-W: 0.8238. Saving artifacts.\n"
     ]
    },
    {
     "data": {
      "application/vnd.jupyter.widget-view+json": {
       "model_id": "16dd60f5544749369a686951e93627fa",
       "version_major": 2,
       "version_minor": 0
      },
      "text/plain": [
       "Epoch 11/100 [Train]:   0%|          | 0/176 [00:00<?, ?it/s]"
      ]
     },
     "metadata": {},
     "output_type": "display_data"
    },
    {
     "data": {
      "application/vnd.jupyter.widget-view+json": {
       "model_id": "c98c9c5bd33a49dc9c71800f866b8ab8",
       "version_major": 2,
       "version_minor": 0
      },
      "text/plain": [
       "Epoch 11/100 [Val]:   0%|          | 0/88 [00:00<?, ?it/s]"
      ]
     },
     "metadata": {},
     "output_type": "display_data"
    },
    {
     "name": "stdout",
     "output_type": "stream",
     "text": [
      "AUC Calc Warn: Target scores need to be probabilities for multiclass roc_auc, i.e. they should sum up to 1.0 over classes\n",
      "Epoch 11: TrainLoss=0.3746, F1-W=0.8281, Acc=0.8281, AUC=0.0000\n",
      "  -> New best F1-W: 0.8281. Saving artifacts.\n"
     ]
    },
    {
     "data": {
      "application/vnd.jupyter.widget-view+json": {
       "model_id": "421d1640571449e688eca42ac4c93b23",
       "version_major": 2,
       "version_minor": 0
      },
      "text/plain": [
       "Epoch 12/100 [Train]:   0%|          | 0/176 [00:00<?, ?it/s]"
      ]
     },
     "metadata": {},
     "output_type": "display_data"
    },
    {
     "data": {
      "application/vnd.jupyter.widget-view+json": {
       "model_id": "d4a0f562df7c4e50a56d2d812ca266db",
       "version_major": 2,
       "version_minor": 0
      },
      "text/plain": [
       "Epoch 12/100 [Val]:   0%|          | 0/88 [00:00<?, ?it/s]"
      ]
     },
     "metadata": {},
     "output_type": "display_data"
    },
    {
     "name": "stdout",
     "output_type": "stream",
     "text": [
      "AUC Calc Warn: Target scores need to be probabilities for multiclass roc_auc, i.e. they should sum up to 1.0 over classes\n",
      "Epoch 12: TrainLoss=0.3425, F1-W=0.8346, Acc=0.8342, AUC=0.0000\n",
      "  -> New best F1-W: 0.8346. Saving artifacts.\n"
     ]
    },
    {
     "data": {
      "application/vnd.jupyter.widget-view+json": {
       "model_id": "ab1e5a21984640378342e94adee5eee1",
       "version_major": 2,
       "version_minor": 0
      },
      "text/plain": [
       "Epoch 13/100 [Train]:   0%|          | 0/176 [00:00<?, ?it/s]"
      ]
     },
     "metadata": {},
     "output_type": "display_data"
    },
    {
     "data": {
      "application/vnd.jupyter.widget-view+json": {
       "model_id": "b3af94a3b49442f988fc9b7c99033b21",
       "version_major": 2,
       "version_minor": 0
      },
      "text/plain": [
       "Epoch 13/100 [Val]:   0%|          | 0/88 [00:00<?, ?it/s]"
      ]
     },
     "metadata": {},
     "output_type": "display_data"
    },
    {
     "name": "stdout",
     "output_type": "stream",
     "text": [
      "AUC Calc Warn: Target scores need to be probabilities for multiclass roc_auc, i.e. they should sum up to 1.0 over classes\n",
      "Epoch 13: TrainLoss=0.3291, F1-W=0.8289, Acc=0.8292, AUC=0.0000\n"
     ]
    },
    {
     "data": {
      "application/vnd.jupyter.widget-view+json": {
       "model_id": "0f6954f5d5474c9f9f2b5d11f0b878e6",
       "version_major": 2,
       "version_minor": 0
      },
      "text/plain": [
       "Epoch 14/100 [Train]:   0%|          | 0/176 [00:00<?, ?it/s]"
      ]
     },
     "metadata": {},
     "output_type": "display_data"
    },
    {
     "data": {
      "application/vnd.jupyter.widget-view+json": {
       "model_id": "d8282dd781764fd2be068f81380bb4ea",
       "version_major": 2,
       "version_minor": 0
      },
      "text/plain": [
       "Epoch 14/100 [Val]:   0%|          | 0/88 [00:00<?, ?it/s]"
      ]
     },
     "metadata": {},
     "output_type": "display_data"
    },
    {
     "name": "stdout",
     "output_type": "stream",
     "text": [
      "AUC Calc Warn: Target scores need to be probabilities for multiclass roc_auc, i.e. they should sum up to 1.0 over classes\n",
      "Epoch 14: TrainLoss=0.2984, F1-W=0.8253, Acc=0.8256, AUC=0.0000\n"
     ]
    },
    {
     "data": {
      "application/vnd.jupyter.widget-view+json": {
       "model_id": "37d09b070b6f4e64b92bb2c7069bbb71",
       "version_major": 2,
       "version_minor": 0
      },
      "text/plain": [
       "Epoch 15/100 [Train]:   0%|          | 0/176 [00:00<?, ?it/s]"
      ]
     },
     "metadata": {},
     "output_type": "display_data"
    },
    {
     "data": {
      "application/vnd.jupyter.widget-view+json": {
       "model_id": "f59c314c995d42c6bcaf603a01bb9585",
       "version_major": 2,
       "version_minor": 0
      },
      "text/plain": [
       "Epoch 15/100 [Val]:   0%|          | 0/88 [00:00<?, ?it/s]"
      ]
     },
     "metadata": {},
     "output_type": "display_data"
    },
    {
     "name": "stdout",
     "output_type": "stream",
     "text": [
      "AUC Calc Warn: Target scores need to be probabilities for multiclass roc_auc, i.e. they should sum up to 1.0 over classes\n",
      "Epoch 15: TrainLoss=0.2702, F1-W=0.8268, Acc=0.8270, AUC=0.0000\n"
     ]
    },
    {
     "data": {
      "application/vnd.jupyter.widget-view+json": {
       "model_id": "b27549a72da64f31b55abab4d5794c76",
       "version_major": 2,
       "version_minor": 0
      },
      "text/plain": [
       "Epoch 16/100 [Train]:   0%|          | 0/176 [00:00<?, ?it/s]"
      ]
     },
     "metadata": {},
     "output_type": "display_data"
    },
    {
     "data": {
      "application/vnd.jupyter.widget-view+json": {
       "model_id": "a17f76948b09460ea5a48d99b9c9fd6a",
       "version_major": 2,
       "version_minor": 0
      },
      "text/plain": [
       "Epoch 16/100 [Val]:   0%|          | 0/88 [00:00<?, ?it/s]"
      ]
     },
     "metadata": {},
     "output_type": "display_data"
    },
    {
     "name": "stdout",
     "output_type": "stream",
     "text": [
      "AUC Calc Warn: Target scores need to be probabilities for multiclass roc_auc, i.e. they should sum up to 1.0 over classes\n",
      "Epoch 16: TrainLoss=0.2512, F1-W=0.8348, Acc=0.8352, AUC=0.0000\n",
      "  -> New best F1-W: 0.8348. Saving artifacts.\n"
     ]
    },
    {
     "data": {
      "application/vnd.jupyter.widget-view+json": {
       "model_id": "99ae12c3e9c24c8491a6110e02b650c3",
       "version_major": 2,
       "version_minor": 0
      },
      "text/plain": [
       "Epoch 17/100 [Train]:   0%|          | 0/176 [00:00<?, ?it/s]"
      ]
     },
     "metadata": {},
     "output_type": "display_data"
    },
    {
     "data": {
      "application/vnd.jupyter.widget-view+json": {
       "model_id": "f09951302cfa4dc5801c00a5fc6924f8",
       "version_major": 2,
       "version_minor": 0
      },
      "text/plain": [
       "Epoch 17/100 [Val]:   0%|          | 0/88 [00:00<?, ?it/s]"
      ]
     },
     "metadata": {},
     "output_type": "display_data"
    },
    {
     "name": "stdout",
     "output_type": "stream",
     "text": [
      "AUC Calc Warn: Target scores need to be probabilities for multiclass roc_auc, i.e. they should sum up to 1.0 over classes\n",
      "Epoch 17: TrainLoss=0.2475, F1-W=0.8345, Acc=0.8345, AUC=0.0000\n"
     ]
    },
    {
     "data": {
      "application/vnd.jupyter.widget-view+json": {
       "model_id": "67296b62d1db4852b6c73ccb73689ea0",
       "version_major": 2,
       "version_minor": 0
      },
      "text/plain": [
       "Epoch 18/100 [Train]:   0%|          | 0/176 [00:00<?, ?it/s]"
      ]
     },
     "metadata": {},
     "output_type": "display_data"
    },
    {
     "data": {
      "application/vnd.jupyter.widget-view+json": {
       "model_id": "7285571835154a67bd1303a4eb623d9a",
       "version_major": 2,
       "version_minor": 0
      },
      "text/plain": [
       "Epoch 18/100 [Val]:   0%|          | 0/88 [00:00<?, ?it/s]"
      ]
     },
     "metadata": {},
     "output_type": "display_data"
    },
    {
     "name": "stdout",
     "output_type": "stream",
     "text": [
      "AUC Calc Warn: Target scores need to be probabilities for multiclass roc_auc, i.e. they should sum up to 1.0 over classes\n",
      "Epoch 18: TrainLoss=0.2203, F1-W=0.8332, Acc=0.8331, AUC=0.0000\n"
     ]
    },
    {
     "data": {
      "application/vnd.jupyter.widget-view+json": {
       "model_id": "c279587620154e398dbb0e8e935e27d4",
       "version_major": 2,
       "version_minor": 0
      },
      "text/plain": [
       "Epoch 19/100 [Train]:   0%|          | 0/176 [00:00<?, ?it/s]"
      ]
     },
     "metadata": {},
     "output_type": "display_data"
    },
    {
     "data": {
      "application/vnd.jupyter.widget-view+json": {
       "model_id": "72f11698ca254187bf29454e7f784717",
       "version_major": 2,
       "version_minor": 0
      },
      "text/plain": [
       "Epoch 19/100 [Val]:   0%|          | 0/88 [00:00<?, ?it/s]"
      ]
     },
     "metadata": {},
     "output_type": "display_data"
    },
    {
     "name": "stdout",
     "output_type": "stream",
     "text": [
      "AUC Calc Warn: Target scores need to be probabilities for multiclass roc_auc, i.e. they should sum up to 1.0 over classes\n",
      "Epoch 19: TrainLoss=0.2146, F1-W=0.8447, Acc=0.8448, AUC=0.0000\n",
      "  -> New best F1-W: 0.8447. Saving artifacts.\n"
     ]
    },
    {
     "data": {
      "application/vnd.jupyter.widget-view+json": {
       "model_id": "53f6cfe4c4e24abfb94da2bc2aaddfda",
       "version_major": 2,
       "version_minor": 0
      },
      "text/plain": [
       "Epoch 20/100 [Train]:   0%|          | 0/176 [00:00<?, ?it/s]"
      ]
     },
     "metadata": {},
     "output_type": "display_data"
    },
    {
     "data": {
      "application/vnd.jupyter.widget-view+json": {
       "model_id": "a3718c0b06ab4d1abb41a0668671bfe2",
       "version_major": 2,
       "version_minor": 0
      },
      "text/plain": [
       "Epoch 20/100 [Val]:   0%|          | 0/88 [00:00<?, ?it/s]"
      ]
     },
     "metadata": {},
     "output_type": "display_data"
    },
    {
     "name": "stdout",
     "output_type": "stream",
     "text": [
      "AUC Calc Warn: Target scores need to be probabilities for multiclass roc_auc, i.e. they should sum up to 1.0 over classes\n",
      "Epoch 20: TrainLoss=0.1997, F1-W=0.8416, Acc=0.8420, AUC=0.0000\n"
     ]
    },
    {
     "data": {
      "application/vnd.jupyter.widget-view+json": {
       "model_id": "904ba88a73d3457a8e0daba26b352785",
       "version_major": 2,
       "version_minor": 0
      },
      "text/plain": [
       "Epoch 21/100 [Train]:   0%|          | 0/176 [00:00<?, ?it/s]"
      ]
     },
     "metadata": {},
     "output_type": "display_data"
    },
    {
     "data": {
      "application/vnd.jupyter.widget-view+json": {
       "model_id": "a0a40f609cab460ea9e42aca294dbcce",
       "version_major": 2,
       "version_minor": 0
      },
      "text/plain": [
       "Epoch 21/100 [Val]:   0%|          | 0/88 [00:00<?, ?it/s]"
      ]
     },
     "metadata": {},
     "output_type": "display_data"
    },
    {
     "name": "stdout",
     "output_type": "stream",
     "text": [
      "AUC Calc Warn: Target scores need to be probabilities for multiclass roc_auc, i.e. they should sum up to 1.0 over classes\n",
      "Epoch 21: TrainLoss=0.1862, F1-W=0.8428, Acc=0.8434, AUC=0.0000\n"
     ]
    },
    {
     "data": {
      "application/vnd.jupyter.widget-view+json": {
       "model_id": "171223287ce94ad18c020e27732046df",
       "version_major": 2,
       "version_minor": 0
      },
      "text/plain": [
       "Epoch 22/100 [Train]:   0%|          | 0/176 [00:00<?, ?it/s]"
      ]
     },
     "metadata": {},
     "output_type": "display_data"
    },
    {
     "data": {
      "application/vnd.jupyter.widget-view+json": {
       "model_id": "ea3bb2527b9e44938febf373c036776d",
       "version_major": 2,
       "version_minor": 0
      },
      "text/plain": [
       "Epoch 22/100 [Val]:   0%|          | 0/88 [00:00<?, ?it/s]"
      ]
     },
     "metadata": {},
     "output_type": "display_data"
    },
    {
     "name": "stdout",
     "output_type": "stream",
     "text": [
      "AUC Calc Warn: Target scores need to be probabilities for multiclass roc_auc, i.e. they should sum up to 1.0 over classes\n",
      "Epoch 22: TrainLoss=0.1867, F1-W=0.8406, Acc=0.8409, AUC=0.0000\n"
     ]
    },
    {
     "data": {
      "application/vnd.jupyter.widget-view+json": {
       "model_id": "4767a835a90b41a9a8d96cbf5267345e",
       "version_major": 2,
       "version_minor": 0
      },
      "text/plain": [
       "Epoch 23/100 [Train]:   0%|          | 0/176 [00:00<?, ?it/s]"
      ]
     },
     "metadata": {},
     "output_type": "display_data"
    },
    {
     "data": {
      "application/vnd.jupyter.widget-view+json": {
       "model_id": "aa4707b094d9451f843cacc5ac14f286",
       "version_major": 2,
       "version_minor": 0
      },
      "text/plain": [
       "Epoch 23/100 [Val]:   0%|          | 0/88 [00:00<?, ?it/s]"
      ]
     },
     "metadata": {},
     "output_type": "display_data"
    },
    {
     "name": "stdout",
     "output_type": "stream",
     "text": [
      "AUC Calc Warn: Target scores need to be probabilities for multiclass roc_auc, i.e. they should sum up to 1.0 over classes\n",
      "Epoch 23: TrainLoss=0.1713, F1-W=0.8446, Acc=0.8445, AUC=0.0000\n"
     ]
    },
    {
     "data": {
      "application/vnd.jupyter.widget-view+json": {
       "model_id": "f906b1f595c949e8b21a4a30636bd39b",
       "version_major": 2,
       "version_minor": 0
      },
      "text/plain": [
       "Epoch 24/100 [Train]:   0%|          | 0/176 [00:00<?, ?it/s]"
      ]
     },
     "metadata": {},
     "output_type": "display_data"
    },
    {
     "data": {
      "application/vnd.jupyter.widget-view+json": {
       "model_id": "366267e884e041fea7ad385e7cc6608c",
       "version_major": 2,
       "version_minor": 0
      },
      "text/plain": [
       "Epoch 24/100 [Val]:   0%|          | 0/88 [00:00<?, ?it/s]"
      ]
     },
     "metadata": {},
     "output_type": "display_data"
    },
    {
     "name": "stdout",
     "output_type": "stream",
     "text": [
      "AUC Calc Warn: Target scores need to be probabilities for multiclass roc_auc, i.e. they should sum up to 1.0 over classes\n",
      "Epoch 24: TrainLoss=0.1716, F1-W=0.8391, Acc=0.8395, AUC=0.0000\n"
     ]
    },
    {
     "data": {
      "application/vnd.jupyter.widget-view+json": {
       "model_id": "cfc7716ad126460f99bbfd35056a6c6b",
       "version_major": 2,
       "version_minor": 0
      },
      "text/plain": [
       "Epoch 25/100 [Train]:   0%|          | 0/176 [00:00<?, ?it/s]"
      ]
     },
     "metadata": {},
     "output_type": "display_data"
    },
    {
     "data": {
      "application/vnd.jupyter.widget-view+json": {
       "model_id": "48e467992b3943d29a57d531c6221139",
       "version_major": 2,
       "version_minor": 0
      },
      "text/plain": [
       "Epoch 25/100 [Val]:   0%|          | 0/88 [00:00<?, ?it/s]"
      ]
     },
     "metadata": {},
     "output_type": "display_data"
    },
    {
     "name": "stdout",
     "output_type": "stream",
     "text": [
      "AUC Calc Warn: Target scores need to be probabilities for multiclass roc_auc, i.e. they should sum up to 1.0 over classes\n",
      "Epoch 25: TrainLoss=0.1588, F1-W=0.8419, Acc=0.8420, AUC=0.0000\n"
     ]
    },
    {
     "data": {
      "application/vnd.jupyter.widget-view+json": {
       "model_id": "299b2e01f773487392ecb5594b5056c8",
       "version_major": 2,
       "version_minor": 0
      },
      "text/plain": [
       "Epoch 26/100 [Train]:   0%|          | 0/176 [00:00<?, ?it/s]"
      ]
     },
     "metadata": {},
     "output_type": "display_data"
    },
    {
     "data": {
      "application/vnd.jupyter.widget-view+json": {
       "model_id": "0c92d51dbcfa4869b863e2da4338f1f0",
       "version_major": 2,
       "version_minor": 0
      },
      "text/plain": [
       "Epoch 26/100 [Val]:   0%|          | 0/88 [00:00<?, ?it/s]"
      ]
     },
     "metadata": {},
     "output_type": "display_data"
    },
    {
     "name": "stdout",
     "output_type": "stream",
     "text": [
      "AUC Calc Warn: Target scores need to be probabilities for multiclass roc_auc, i.e. they should sum up to 1.0 over classes\n",
      "Epoch 26: TrainLoss=0.1445, F1-W=0.8504, Acc=0.8505, AUC=0.0000\n",
      "  -> New best F1-W: 0.8504. Saving artifacts.\n"
     ]
    },
    {
     "data": {
      "application/vnd.jupyter.widget-view+json": {
       "model_id": "30222fcc8d324438aa5e138d190a0e01",
       "version_major": 2,
       "version_minor": 0
      },
      "text/plain": [
       "Epoch 27/100 [Train]:   0%|          | 0/176 [00:00<?, ?it/s]"
      ]
     },
     "metadata": {},
     "output_type": "display_data"
    },
    {
     "data": {
      "application/vnd.jupyter.widget-view+json": {
       "model_id": "f0c07ba47a4944349d25386c410cb2d4",
       "version_major": 2,
       "version_minor": 0
      },
      "text/plain": [
       "Epoch 27/100 [Val]:   0%|          | 0/88 [00:00<?, ?it/s]"
      ]
     },
     "metadata": {},
     "output_type": "display_data"
    },
    {
     "name": "stdout",
     "output_type": "stream",
     "text": [
      "AUC Calc Warn: Target scores need to be probabilities for multiclass roc_auc, i.e. they should sum up to 1.0 over classes\n",
      "Epoch 27: TrainLoss=0.1114, F1-W=0.8550, Acc=0.8552, AUC=0.0000\n",
      "  -> New best F1-W: 0.8550. Saving artifacts.\n"
     ]
    },
    {
     "data": {
      "application/vnd.jupyter.widget-view+json": {
       "model_id": "91bcdcab7eca4cd79e99961cb91aecc2",
       "version_major": 2,
       "version_minor": 0
      },
      "text/plain": [
       "Epoch 28/100 [Train]:   0%|          | 0/176 [00:00<?, ?it/s]"
      ]
     },
     "metadata": {},
     "output_type": "display_data"
    },
    {
     "data": {
      "application/vnd.jupyter.widget-view+json": {
       "model_id": "0ed8066b7cc74e6db9f6333011a9aff4",
       "version_major": 2,
       "version_minor": 0
      },
      "text/plain": [
       "Epoch 28/100 [Val]:   0%|          | 0/88 [00:00<?, ?it/s]"
      ]
     },
     "metadata": {},
     "output_type": "display_data"
    },
    {
     "name": "stdout",
     "output_type": "stream",
     "text": [
      "AUC Calc Warn: Target scores need to be probabilities for multiclass roc_auc, i.e. they should sum up to 1.0 over classes\n",
      "Epoch 28: TrainLoss=0.1152, F1-W=0.8554, Acc=0.8555, AUC=0.0000\n",
      "  -> New best F1-W: 0.8554. Saving artifacts.\n"
     ]
    },
    {
     "data": {
      "application/vnd.jupyter.widget-view+json": {
       "model_id": "7156e2563cdc4c9a91b14f645244cc70",
       "version_major": 2,
       "version_minor": 0
      },
      "text/plain": [
       "Epoch 29/100 [Train]:   0%|          | 0/176 [00:00<?, ?it/s]"
      ]
     },
     "metadata": {},
     "output_type": "display_data"
    },
    {
     "data": {
      "application/vnd.jupyter.widget-view+json": {
       "model_id": "ff980926a5d248b1b44cfab6254a0951",
       "version_major": 2,
       "version_minor": 0
      },
      "text/plain": [
       "Epoch 29/100 [Val]:   0%|          | 0/88 [00:00<?, ?it/s]"
      ]
     },
     "metadata": {},
     "output_type": "display_data"
    },
    {
     "name": "stdout",
     "output_type": "stream",
     "text": [
      "AUC Calc Warn: Target scores need to be probabilities for multiclass roc_auc, i.e. they should sum up to 1.0 over classes\n",
      "Epoch 29: TrainLoss=0.1095, F1-W=0.8543, Acc=0.8544, AUC=0.0000\n"
     ]
    },
    {
     "data": {
      "application/vnd.jupyter.widget-view+json": {
       "model_id": "43296de5be28460bb3be2392ef73b7fe",
       "version_major": 2,
       "version_minor": 0
      },
      "text/plain": [
       "Epoch 30/100 [Train]:   0%|          | 0/176 [00:00<?, ?it/s]"
      ]
     },
     "metadata": {},
     "output_type": "display_data"
    },
    {
     "data": {
      "application/vnd.jupyter.widget-view+json": {
       "model_id": "a93243f5e6e2455481bd153c5d892d67",
       "version_major": 2,
       "version_minor": 0
      },
      "text/plain": [
       "Epoch 30/100 [Val]:   0%|          | 0/88 [00:00<?, ?it/s]"
      ]
     },
     "metadata": {},
     "output_type": "display_data"
    },
    {
     "name": "stdout",
     "output_type": "stream",
     "text": [
      "AUC Calc Warn: Target scores need to be probabilities for multiclass roc_auc, i.e. they should sum up to 1.0 over classes\n",
      "Epoch 30: TrainLoss=0.1009, F1-W=0.8591, Acc=0.8594, AUC=0.0000\n",
      "  -> New best F1-W: 0.8591. Saving artifacts.\n"
     ]
    },
    {
     "data": {
      "application/vnd.jupyter.widget-view+json": {
       "model_id": "54cdd2651673477bb6ce663f58a3da74",
       "version_major": 2,
       "version_minor": 0
      },
      "text/plain": [
       "Epoch 31/100 [Train]:   0%|          | 0/176 [00:00<?, ?it/s]"
      ]
     },
     "metadata": {},
     "output_type": "display_data"
    },
    {
     "data": {
      "application/vnd.jupyter.widget-view+json": {
       "model_id": "fd084bb63641499a9d2d4b77d4de0270",
       "version_major": 2,
       "version_minor": 0
      },
      "text/plain": [
       "Epoch 31/100 [Val]:   0%|          | 0/88 [00:00<?, ?it/s]"
      ]
     },
     "metadata": {},
     "output_type": "display_data"
    },
    {
     "name": "stdout",
     "output_type": "stream",
     "text": [
      "AUC Calc Warn: Target scores need to be probabilities for multiclass roc_auc, i.e. they should sum up to 1.0 over classes\n",
      "Epoch 31: TrainLoss=0.1042, F1-W=0.8558, Acc=0.8559, AUC=0.0000\n"
     ]
    },
    {
     "data": {
      "application/vnd.jupyter.widget-view+json": {
       "model_id": "b73fa837b94c4737935751c2720fd606",
       "version_major": 2,
       "version_minor": 0
      },
      "text/plain": [
       "Epoch 32/100 [Train]:   0%|          | 0/176 [00:00<?, ?it/s]"
      ]
     },
     "metadata": {},
     "output_type": "display_data"
    },
    {
     "data": {
      "application/vnd.jupyter.widget-view+json": {
       "model_id": "dff7facf4a5f4164a7c8dc6dba3a8912",
       "version_major": 2,
       "version_minor": 0
      },
      "text/plain": [
       "Epoch 32/100 [Val]:   0%|          | 0/88 [00:00<?, ?it/s]"
      ]
     },
     "metadata": {},
     "output_type": "display_data"
    },
    {
     "name": "stdout",
     "output_type": "stream",
     "text": [
      "AUC Calc Warn: Target scores need to be probabilities for multiclass roc_auc, i.e. they should sum up to 1.0 over classes\n",
      "Epoch 32: TrainLoss=0.1011, F1-W=0.8547, Acc=0.8548, AUC=0.0000\n"
     ]
    },
    {
     "data": {
      "application/vnd.jupyter.widget-view+json": {
       "model_id": "03d47210a21845f4bef970afc1359665",
       "version_major": 2,
       "version_minor": 0
      },
      "text/plain": [
       "Epoch 33/100 [Train]:   0%|          | 0/176 [00:00<?, ?it/s]"
      ]
     },
     "metadata": {},
     "output_type": "display_data"
    },
    {
     "data": {
      "application/vnd.jupyter.widget-view+json": {
       "model_id": "0112c40769244c1b901c8698d4a19281",
       "version_major": 2,
       "version_minor": 0
      },
      "text/plain": [
       "Epoch 33/100 [Val]:   0%|          | 0/88 [00:00<?, ?it/s]"
      ]
     },
     "metadata": {},
     "output_type": "display_data"
    },
    {
     "name": "stdout",
     "output_type": "stream",
     "text": [
      "AUC Calc Warn: Target scores need to be probabilities for multiclass roc_auc, i.e. they should sum up to 1.0 over classes\n",
      "Epoch 33: TrainLoss=0.1002, F1-W=0.8590, Acc=0.8591, AUC=0.0000\n"
     ]
    },
    {
     "data": {
      "application/vnd.jupyter.widget-view+json": {
       "model_id": "7d7e61be64b34644851af7f300715213",
       "version_major": 2,
       "version_minor": 0
      },
      "text/plain": [
       "Epoch 34/100 [Train]:   0%|          | 0/176 [00:00<?, ?it/s]"
      ]
     },
     "metadata": {},
     "output_type": "display_data"
    },
    {
     "data": {
      "application/vnd.jupyter.widget-view+json": {
       "model_id": "71021a49a63f4f718e26423f3c8f81d3",
       "version_major": 2,
       "version_minor": 0
      },
      "text/plain": [
       "Epoch 34/100 [Val]:   0%|          | 0/88 [00:00<?, ?it/s]"
      ]
     },
     "metadata": {},
     "output_type": "display_data"
    },
    {
     "name": "stdout",
     "output_type": "stream",
     "text": [
      "AUC Calc Warn: Target scores need to be probabilities for multiclass roc_auc, i.e. they should sum up to 1.0 over classes\n",
      "Epoch 34: TrainLoss=0.0903, F1-W=0.8540, Acc=0.8541, AUC=0.0000\n"
     ]
    },
    {
     "data": {
      "application/vnd.jupyter.widget-view+json": {
       "model_id": "3fb4c7fe6fec4b89a8b4557f201b6504",
       "version_major": 2,
       "version_minor": 0
      },
      "text/plain": [
       "Epoch 35/100 [Train]:   0%|          | 0/176 [00:00<?, ?it/s]"
      ]
     },
     "metadata": {},
     "output_type": "display_data"
    },
    {
     "data": {
      "application/vnd.jupyter.widget-view+json": {
       "model_id": "ea2a40c3447a42d9b49ca261a1072801",
       "version_major": 2,
       "version_minor": 0
      },
      "text/plain": [
       "Epoch 35/100 [Val]:   0%|          | 0/88 [00:00<?, ?it/s]"
      ]
     },
     "metadata": {},
     "output_type": "display_data"
    },
    {
     "name": "stdout",
     "output_type": "stream",
     "text": [
      "AUC Calc Warn: Target scores need to be probabilities for multiclass roc_auc, i.e. they should sum up to 1.0 over classes\n",
      "Epoch 35: TrainLoss=0.0934, F1-W=0.8560, Acc=0.8559, AUC=0.0000\n"
     ]
    },
    {
     "data": {
      "application/vnd.jupyter.widget-view+json": {
       "model_id": "2983de6d26eb4373999428bb5b7a1783",
       "version_major": 2,
       "version_minor": 0
      },
      "text/plain": [
       "Epoch 36/100 [Train]:   0%|          | 0/176 [00:00<?, ?it/s]"
      ]
     },
     "metadata": {},
     "output_type": "display_data"
    },
    {
     "data": {
      "application/vnd.jupyter.widget-view+json": {
       "model_id": "f18f7219e054455ea88afa83279e4d54",
       "version_major": 2,
       "version_minor": 0
      },
      "text/plain": [
       "Epoch 36/100 [Val]:   0%|          | 0/88 [00:00<?, ?it/s]"
      ]
     },
     "metadata": {},
     "output_type": "display_data"
    },
    {
     "name": "stdout",
     "output_type": "stream",
     "text": [
      "AUC Calc Warn: Target scores need to be probabilities for multiclass roc_auc, i.e. they should sum up to 1.0 over classes\n",
      "Epoch 36: TrainLoss=0.1013, F1-W=0.8547, Acc=0.8548, AUC=0.0000\n"
     ]
    },
    {
     "data": {
      "application/vnd.jupyter.widget-view+json": {
       "model_id": "ff4786593e414fc58180196dac15ff16",
       "version_major": 2,
       "version_minor": 0
      },
      "text/plain": [
       "Epoch 37/100 [Train]:   0%|          | 0/176 [00:00<?, ?it/s]"
      ]
     },
     "metadata": {},
     "output_type": "display_data"
    },
    {
     "data": {
      "application/vnd.jupyter.widget-view+json": {
       "model_id": "b3e06a7117db44499a53b01696f5e0ec",
       "version_major": 2,
       "version_minor": 0
      },
      "text/plain": [
       "Epoch 37/100 [Val]:   0%|          | 0/88 [00:00<?, ?it/s]"
      ]
     },
     "metadata": {},
     "output_type": "display_data"
    },
    {
     "name": "stdout",
     "output_type": "stream",
     "text": [
      "AUC Calc Warn: Target scores need to be probabilities for multiclass roc_auc, i.e. they should sum up to 1.0 over classes\n",
      "Epoch 37: TrainLoss=0.0922, F1-W=0.8531, Acc=0.8530, AUC=0.0000\n"
     ]
    },
    {
     "data": {
      "application/vnd.jupyter.widget-view+json": {
       "model_id": "fff15ba0e83f4ff1974033584dd523a9",
       "version_major": 2,
       "version_minor": 0
      },
      "text/plain": [
       "Epoch 38/100 [Train]:   0%|          | 0/176 [00:00<?, ?it/s]"
      ]
     },
     "metadata": {},
     "output_type": "display_data"
    },
    {
     "data": {
      "application/vnd.jupyter.widget-view+json": {
       "model_id": "ac5ad79d756a4ad48009c6fb98d88889",
       "version_major": 2,
       "version_minor": 0
      },
      "text/plain": [
       "Epoch 38/100 [Val]:   0%|          | 0/88 [00:00<?, ?it/s]"
      ]
     },
     "metadata": {},
     "output_type": "display_data"
    },
    {
     "name": "stdout",
     "output_type": "stream",
     "text": [
      "AUC Calc Warn: Target scores need to be probabilities for multiclass roc_auc, i.e. they should sum up to 1.0 over classes\n",
      "Epoch 38: TrainLoss=0.0878, F1-W=0.8577, Acc=0.8577, AUC=0.0000\n"
     ]
    },
    {
     "data": {
      "application/vnd.jupyter.widget-view+json": {
       "model_id": "c87dfb1bb0f345c18abac58e5bbca732",
       "version_major": 2,
       "version_minor": 0
      },
      "text/plain": [
       "Epoch 39/100 [Train]:   0%|          | 0/176 [00:00<?, ?it/s]"
      ]
     },
     "metadata": {},
     "output_type": "display_data"
    },
    {
     "data": {
      "application/vnd.jupyter.widget-view+json": {
       "model_id": "7c508edaea2249089befddca732f3fc9",
       "version_major": 2,
       "version_minor": 0
      },
      "text/plain": [
       "Epoch 39/100 [Val]:   0%|          | 0/88 [00:00<?, ?it/s]"
      ]
     },
     "metadata": {},
     "output_type": "display_data"
    },
    {
     "name": "stdout",
     "output_type": "stream",
     "text": [
      "AUC Calc Warn: Target scores need to be probabilities for multiclass roc_auc, i.e. they should sum up to 1.0 over classes\n",
      "Epoch 39: TrainLoss=0.0841, F1-W=0.8516, Acc=0.8516, AUC=0.0000\n"
     ]
    },
    {
     "data": {
      "application/vnd.jupyter.widget-view+json": {
       "model_id": "52c321adb9d044e18766294137c626c3",
       "version_major": 2,
       "version_minor": 0
      },
      "text/plain": [
       "Epoch 40/100 [Train]:   0%|          | 0/176 [00:00<?, ?it/s]"
      ]
     },
     "metadata": {},
     "output_type": "display_data"
    },
    {
     "data": {
      "application/vnd.jupyter.widget-view+json": {
       "model_id": "6516833446d140038499721da67bab10",
       "version_major": 2,
       "version_minor": 0
      },
      "text/plain": [
       "Epoch 40/100 [Val]:   0%|          | 0/88 [00:00<?, ?it/s]"
      ]
     },
     "metadata": {},
     "output_type": "display_data"
    },
    {
     "name": "stdout",
     "output_type": "stream",
     "text": [
      "AUC Calc Warn: Target scores need to be probabilities for multiclass roc_auc, i.e. they should sum up to 1.0 over classes\n",
      "Epoch 40: TrainLoss=0.0928, F1-W=0.8520, Acc=0.8520, AUC=0.0000\n"
     ]
    },
    {
     "data": {
      "application/vnd.jupyter.widget-view+json": {
       "model_id": "873d4f643abf48b3a433e262646f3b1d",
       "version_major": 2,
       "version_minor": 0
      },
      "text/plain": [
       "Epoch 41/100 [Train]:   0%|          | 0/176 [00:00<?, ?it/s]"
      ]
     },
     "metadata": {},
     "output_type": "display_data"
    },
    {
     "data": {
      "application/vnd.jupyter.widget-view+json": {
       "model_id": "de6271599359413b9c5ef866f4abafdb",
       "version_major": 2,
       "version_minor": 0
      },
      "text/plain": [
       "Epoch 41/100 [Val]:   0%|          | 0/88 [00:00<?, ?it/s]"
      ]
     },
     "metadata": {},
     "output_type": "display_data"
    },
    {
     "name": "stdout",
     "output_type": "stream",
     "text": [
      "AUC Calc Warn: Target scores need to be probabilities for multiclass roc_auc, i.e. they should sum up to 1.0 over classes\n",
      "Epoch 41: TrainLoss=0.0847, F1-W=0.8555, Acc=0.8555, AUC=0.0000\n"
     ]
    },
    {
     "data": {
      "application/vnd.jupyter.widget-view+json": {
       "model_id": "c10897232afb44fb97740fb3f242164c",
       "version_major": 2,
       "version_minor": 0
      },
      "text/plain": [
       "Epoch 42/100 [Train]:   0%|          | 0/176 [00:00<?, ?it/s]"
      ]
     },
     "metadata": {},
     "output_type": "display_data"
    },
    {
     "data": {
      "application/vnd.jupyter.widget-view+json": {
       "model_id": "c706776332f342d7be01061ec90f7792",
       "version_major": 2,
       "version_minor": 0
      },
      "text/plain": [
       "Epoch 42/100 [Val]:   0%|          | 0/88 [00:00<?, ?it/s]"
      ]
     },
     "metadata": {},
     "output_type": "display_data"
    },
    {
     "name": "stdout",
     "output_type": "stream",
     "text": [
      "AUC Calc Warn: Target scores need to be probabilities for multiclass roc_auc, i.e. they should sum up to 1.0 over classes\n",
      "Epoch 42: TrainLoss=0.0869, F1-W=0.8540, Acc=0.8541, AUC=0.0000\n"
     ]
    },
    {
     "data": {
      "application/vnd.jupyter.widget-view+json": {
       "model_id": "afe8a1eb129d40e39f81913ea9f78863",
       "version_major": 2,
       "version_minor": 0
      },
      "text/plain": [
       "Epoch 43/100 [Train]:   0%|          | 0/176 [00:00<?, ?it/s]"
      ]
     },
     "metadata": {},
     "output_type": "display_data"
    },
    {
     "data": {
      "application/vnd.jupyter.widget-view+json": {
       "model_id": "537aa21bf25d4694a9ffe36fc4dd5fd7",
       "version_major": 2,
       "version_minor": 0
      },
      "text/plain": [
       "Epoch 43/100 [Val]:   0%|          | 0/88 [00:00<?, ?it/s]"
      ]
     },
     "metadata": {},
     "output_type": "display_data"
    },
    {
     "name": "stdout",
     "output_type": "stream",
     "text": [
      "AUC Calc Warn: Target scores need to be probabilities for multiclass roc_auc, i.e. they should sum up to 1.0 over classes\n",
      "Epoch 43: TrainLoss=0.0864, F1-W=0.8569, Acc=0.8569, AUC=0.0000\n"
     ]
    },
    {
     "data": {
      "application/vnd.jupyter.widget-view+json": {
       "model_id": "9977eea168864ce29ddd3dda9ab56ebc",
       "version_major": 2,
       "version_minor": 0
      },
      "text/plain": [
       "Epoch 44/100 [Train]:   0%|          | 0/176 [00:00<?, ?it/s]"
      ]
     },
     "metadata": {},
     "output_type": "display_data"
    },
    {
     "data": {
      "application/vnd.jupyter.widget-view+json": {
       "model_id": "f791a351d22540b182ff4f6ac5f2747c",
       "version_major": 2,
       "version_minor": 0
      },
      "text/plain": [
       "Epoch 44/100 [Val]:   0%|          | 0/88 [00:00<?, ?it/s]"
      ]
     },
     "metadata": {},
     "output_type": "display_data"
    },
    {
     "name": "stdout",
     "output_type": "stream",
     "text": [
      "AUC Calc Warn: Target scores need to be probabilities for multiclass roc_auc, i.e. they should sum up to 1.0 over classes\n",
      "Epoch 44: TrainLoss=0.0923, F1-W=0.8555, Acc=0.8555, AUC=0.0000\n"
     ]
    },
    {
     "data": {
      "application/vnd.jupyter.widget-view+json": {
       "model_id": "3468a895fb704255a70e5b34344d3c7a",
       "version_major": 2,
       "version_minor": 0
      },
      "text/plain": [
       "Epoch 45/100 [Train]:   0%|          | 0/176 [00:00<?, ?it/s]"
      ]
     },
     "metadata": {},
     "output_type": "display_data"
    },
    {
     "data": {
      "application/vnd.jupyter.widget-view+json": {
       "model_id": "a8856c9e0a9d46869f7ab88ad6df70c4",
       "version_major": 2,
       "version_minor": 0
      },
      "text/plain": [
       "Epoch 45/100 [Val]:   0%|          | 0/88 [00:00<?, ?it/s]"
      ]
     },
     "metadata": {},
     "output_type": "display_data"
    },
    {
     "name": "stdout",
     "output_type": "stream",
     "text": [
      "AUC Calc Warn: Target scores need to be probabilities for multiclass roc_auc, i.e. they should sum up to 1.0 over classes\n",
      "Epoch 45: TrainLoss=0.0892, F1-W=0.8562, Acc=0.8562, AUC=0.0000\n"
     ]
    },
    {
     "data": {
      "application/vnd.jupyter.widget-view+json": {
       "model_id": "84649dc2f517493682e0a7840dbc0d22",
       "version_major": 2,
       "version_minor": 0
      },
      "text/plain": [
       "Epoch 46/100 [Train]:   0%|          | 0/176 [00:00<?, ?it/s]"
      ]
     },
     "metadata": {},
     "output_type": "display_data"
    },
    {
     "data": {
      "application/vnd.jupyter.widget-view+json": {
       "model_id": "784bb67a94c548df814e81ae2e05adf7",
       "version_major": 2,
       "version_minor": 0
      },
      "text/plain": [
       "Epoch 46/100 [Val]:   0%|          | 0/88 [00:00<?, ?it/s]"
      ]
     },
     "metadata": {},
     "output_type": "display_data"
    },
    {
     "name": "stdout",
     "output_type": "stream",
     "text": [
      "AUC Calc Warn: Target scores need to be probabilities for multiclass roc_auc, i.e. they should sum up to 1.0 over classes\n",
      "Epoch 46: TrainLoss=0.0932, F1-W=0.8547, Acc=0.8548, AUC=0.0000\n"
     ]
    },
    {
     "data": {
      "application/vnd.jupyter.widget-view+json": {
       "model_id": "07864b0ae9f04652923405ec58abab40",
       "version_major": 2,
       "version_minor": 0
      },
      "text/plain": [
       "Epoch 47/100 [Train]:   0%|          | 0/176 [00:00<?, ?it/s]"
      ]
     },
     "metadata": {},
     "output_type": "display_data"
    },
    {
     "data": {
      "application/vnd.jupyter.widget-view+json": {
       "model_id": "79d4ec489c4f4157a766e856a9e25f31",
       "version_major": 2,
       "version_minor": 0
      },
      "text/plain": [
       "Epoch 47/100 [Val]:   0%|          | 0/88 [00:00<?, ?it/s]"
      ]
     },
     "metadata": {},
     "output_type": "display_data"
    },
    {
     "name": "stdout",
     "output_type": "stream",
     "text": [
      "AUC Calc Warn: Target scores need to be probabilities for multiclass roc_auc, i.e. they should sum up to 1.0 over classes\n",
      "Epoch 47: TrainLoss=0.0850, F1-W=0.8587, Acc=0.8587, AUC=0.0000\n"
     ]
    },
    {
     "data": {
      "application/vnd.jupyter.widget-view+json": {
       "model_id": "1383978b2f8f41fdb7028c2044d7b535",
       "version_major": 2,
       "version_minor": 0
      },
      "text/plain": [
       "Epoch 48/100 [Train]:   0%|          | 0/176 [00:00<?, ?it/s]"
      ]
     },
     "metadata": {},
     "output_type": "display_data"
    },
    {
     "data": {
      "application/vnd.jupyter.widget-view+json": {
       "model_id": "ec101beac10147ef8cb1437a52278b29",
       "version_major": 2,
       "version_minor": 0
      },
      "text/plain": [
       "Epoch 48/100 [Val]:   0%|          | 0/88 [00:00<?, ?it/s]"
      ]
     },
     "metadata": {},
     "output_type": "display_data"
    },
    {
     "name": "stdout",
     "output_type": "stream",
     "text": [
      "AUC Calc Warn: Target scores need to be probabilities for multiclass roc_auc, i.e. they should sum up to 1.0 over classes\n",
      "Epoch 48: TrainLoss=0.0784, F1-W=0.8531, Acc=0.8530, AUC=0.0000\n"
     ]
    },
    {
     "data": {
      "application/vnd.jupyter.widget-view+json": {
       "model_id": "b20bea4aeca34cd6839c0181d85bc528",
       "version_major": 2,
       "version_minor": 0
      },
      "text/plain": [
       "Epoch 49/100 [Train]:   0%|          | 0/176 [00:00<?, ?it/s]"
      ]
     },
     "metadata": {},
     "output_type": "display_data"
    },
    {
     "data": {
      "application/vnd.jupyter.widget-view+json": {
       "model_id": "7d4d5f493f404f65a6ee22f8454f580f",
       "version_major": 2,
       "version_minor": 0
      },
      "text/plain": [
       "Epoch 49/100 [Val]:   0%|          | 0/88 [00:00<?, ?it/s]"
      ]
     },
     "metadata": {},
     "output_type": "display_data"
    },
    {
     "name": "stdout",
     "output_type": "stream",
     "text": [
      "AUC Calc Warn: Target scores need to be probabilities for multiclass roc_auc, i.e. they should sum up to 1.0 over classes\n",
      "Epoch 49: TrainLoss=0.0814, F1-W=0.8584, Acc=0.8584, AUC=0.0000\n"
     ]
    },
    {
     "data": {
      "application/vnd.jupyter.widget-view+json": {
       "model_id": "6fcd528ab51343f5b8acd6a05e63707b",
       "version_major": 2,
       "version_minor": 0
      },
      "text/plain": [
       "Epoch 50/100 [Train]:   0%|          | 0/176 [00:00<?, ?it/s]"
      ]
     },
     "metadata": {},
     "output_type": "display_data"
    },
    {
     "data": {
      "application/vnd.jupyter.widget-view+json": {
       "model_id": "2ef350666f1f4d6c8249403492488cd9",
       "version_major": 2,
       "version_minor": 0
      },
      "text/plain": [
       "Epoch 50/100 [Val]:   0%|          | 0/88 [00:00<?, ?it/s]"
      ]
     },
     "metadata": {},
     "output_type": "display_data"
    },
    {
     "name": "stdout",
     "output_type": "stream",
     "text": [
      "AUC Calc Warn: Target scores need to be probabilities for multiclass roc_auc, i.e. they should sum up to 1.0 over classes\n",
      "Epoch 50: TrainLoss=0.0956, F1-W=0.8587, Acc=0.8587, AUC=0.0000\n"
     ]
    },
    {
     "data": {
      "application/vnd.jupyter.widget-view+json": {
       "model_id": "0f453d288be346b3a93b0af777132f15",
       "version_major": 2,
       "version_minor": 0
      },
      "text/plain": [
       "Epoch 51/100 [Train]:   0%|          | 0/176 [00:00<?, ?it/s]"
      ]
     },
     "metadata": {},
     "output_type": "display_data"
    },
    {
     "data": {
      "application/vnd.jupyter.widget-view+json": {
       "model_id": "45ef144df4ce452d805ff6cc5498d65d",
       "version_major": 2,
       "version_minor": 0
      },
      "text/plain": [
       "Epoch 51/100 [Val]:   0%|          | 0/88 [00:00<?, ?it/s]"
      ]
     },
     "metadata": {},
     "output_type": "display_data"
    },
    {
     "name": "stdout",
     "output_type": "stream",
     "text": [
      "AUC Calc Warn: Target scores need to be probabilities for multiclass roc_auc, i.e. they should sum up to 1.0 over classes\n",
      "Epoch 51: TrainLoss=0.0919, F1-W=0.8549, Acc=0.8548, AUC=0.0000\n"
     ]
    },
    {
     "data": {
      "application/vnd.jupyter.widget-view+json": {
       "model_id": "cd051f3e1d6240b6ae5820828fdbb5e1",
       "version_major": 2,
       "version_minor": 0
      },
      "text/plain": [
       "Epoch 52/100 [Train]:   0%|          | 0/176 [00:00<?, ?it/s]"
      ]
     },
     "metadata": {},
     "output_type": "display_data"
    },
    {
     "data": {
      "application/vnd.jupyter.widget-view+json": {
       "model_id": "3340c1efbfdd4189b6f7f4c92249a456",
       "version_major": 2,
       "version_minor": 0
      },
      "text/plain": [
       "Epoch 52/100 [Val]:   0%|          | 0/88 [00:00<?, ?it/s]"
      ]
     },
     "metadata": {},
     "output_type": "display_data"
    },
    {
     "name": "stdout",
     "output_type": "stream",
     "text": [
      "AUC Calc Warn: Target scores need to be probabilities for multiclass roc_auc, i.e. they should sum up to 1.0 over classes\n",
      "Epoch 52: TrainLoss=0.0884, F1-W=0.8533, Acc=0.8534, AUC=0.0000\n"
     ]
    },
    {
     "data": {
      "application/vnd.jupyter.widget-view+json": {
       "model_id": "7e7862ddfbb24a69bdbd344ca126f17e",
       "version_major": 2,
       "version_minor": 0
      },
      "text/plain": [
       "Epoch 53/100 [Train]:   0%|          | 0/176 [00:00<?, ?it/s]"
      ]
     },
     "metadata": {},
     "output_type": "display_data"
    },
    {
     "data": {
      "application/vnd.jupyter.widget-view+json": {
       "model_id": "9f4b2142b70d486b982c44061dd1e505",
       "version_major": 2,
       "version_minor": 0
      },
      "text/plain": [
       "Epoch 53/100 [Val]:   0%|          | 0/88 [00:00<?, ?it/s]"
      ]
     },
     "metadata": {},
     "output_type": "display_data"
    },
    {
     "name": "stdout",
     "output_type": "stream",
     "text": [
      "AUC Calc Warn: Target scores need to be probabilities for multiclass roc_auc, i.e. they should sum up to 1.0 over classes\n",
      "Epoch 53: TrainLoss=0.0915, F1-W=0.8553, Acc=0.8552, AUC=0.0000\n"
     ]
    },
    {
     "data": {
      "application/vnd.jupyter.widget-view+json": {
       "model_id": "f9d21bec328f46daaf2b0c48009d0b2d",
       "version_major": 2,
       "version_minor": 0
      },
      "text/plain": [
       "Epoch 54/100 [Train]:   0%|          | 0/176 [00:00<?, ?it/s]"
      ]
     },
     "metadata": {},
     "output_type": "display_data"
    },
    {
     "data": {
      "application/vnd.jupyter.widget-view+json": {
       "model_id": "641c79de4514432bbb16bbcf0f4061f3",
       "version_major": 2,
       "version_minor": 0
      },
      "text/plain": [
       "Epoch 54/100 [Val]:   0%|          | 0/88 [00:00<?, ?it/s]"
      ]
     },
     "metadata": {},
     "output_type": "display_data"
    },
    {
     "name": "stdout",
     "output_type": "stream",
     "text": [
      "AUC Calc Warn: Target scores need to be probabilities for multiclass roc_auc, i.e. they should sum up to 1.0 over classes\n",
      "Epoch 54: TrainLoss=0.0906, F1-W=0.8529, Acc=0.8530, AUC=0.0000\n"
     ]
    },
    {
     "data": {
      "application/vnd.jupyter.widget-view+json": {
       "model_id": "d68a497ab7fc4ede8804af88d1e4993d",
       "version_major": 2,
       "version_minor": 0
      },
      "text/plain": [
       "Epoch 55/100 [Train]:   0%|          | 0/176 [00:00<?, ?it/s]"
      ]
     },
     "metadata": {},
     "output_type": "display_data"
    },
    {
     "data": {
      "application/vnd.jupyter.widget-view+json": {
       "model_id": "1cbe11b5c2dc4aca9b5983bd244c431e",
       "version_major": 2,
       "version_minor": 0
      },
      "text/plain": [
       "Epoch 55/100 [Val]:   0%|          | 0/88 [00:00<?, ?it/s]"
      ]
     },
     "metadata": {},
     "output_type": "display_data"
    },
    {
     "name": "stdout",
     "output_type": "stream",
     "text": [
      "AUC Calc Warn: Target scores need to be probabilities for multiclass roc_auc, i.e. they should sum up to 1.0 over classes\n",
      "Epoch 55: TrainLoss=0.0863, F1-W=0.8565, Acc=0.8566, AUC=0.0000\n"
     ]
    },
    {
     "data": {
      "application/vnd.jupyter.widget-view+json": {
       "model_id": "60ff110deada4aadad3411eb3de78078",
       "version_major": 2,
       "version_minor": 0
      },
      "text/plain": [
       "Epoch 56/100 [Train]:   0%|          | 0/176 [00:00<?, ?it/s]"
      ]
     },
     "metadata": {},
     "output_type": "display_data"
    },
    {
     "data": {
      "application/vnd.jupyter.widget-view+json": {
       "model_id": "edfa722e7a904690b069c4adfab43ee8",
       "version_major": 2,
       "version_minor": 0
      },
      "text/plain": [
       "Epoch 56/100 [Val]:   0%|          | 0/88 [00:00<?, ?it/s]"
      ]
     },
     "metadata": {},
     "output_type": "display_data"
    },
    {
     "name": "stdout",
     "output_type": "stream",
     "text": [
      "AUC Calc Warn: Target scores need to be probabilities for multiclass roc_auc, i.e. they should sum up to 1.0 over classes\n",
      "Epoch 56: TrainLoss=0.0840, F1-W=0.8556, Acc=0.8555, AUC=0.0000\n"
     ]
    },
    {
     "data": {
      "application/vnd.jupyter.widget-view+json": {
       "model_id": "852f345233d5412392a0cbd8847ac6eb",
       "version_major": 2,
       "version_minor": 0
      },
      "text/plain": [
       "Epoch 57/100 [Train]:   0%|          | 0/176 [00:00<?, ?it/s]"
      ]
     },
     "metadata": {},
     "output_type": "display_data"
    },
    {
     "data": {
      "application/vnd.jupyter.widget-view+json": {
       "model_id": "df38355788f84bf3a477365d29fed486",
       "version_major": 2,
       "version_minor": 0
      },
      "text/plain": [
       "Epoch 57/100 [Val]:   0%|          | 0/88 [00:00<?, ?it/s]"
      ]
     },
     "metadata": {},
     "output_type": "display_data"
    },
    {
     "name": "stdout",
     "output_type": "stream",
     "text": [
      "AUC Calc Warn: Target scores need to be probabilities for multiclass roc_auc, i.e. they should sum up to 1.0 over classes\n",
      "Epoch 57: TrainLoss=0.1012, F1-W=0.8558, Acc=0.8559, AUC=0.0000\n"
     ]
    },
    {
     "data": {
      "application/vnd.jupyter.widget-view+json": {
       "model_id": "beab5fc67b924fa9a03ee8602d4a99d5",
       "version_major": 2,
       "version_minor": 0
      },
      "text/plain": [
       "Epoch 58/100 [Train]:   0%|          | 0/176 [00:00<?, ?it/s]"
      ]
     },
     "metadata": {},
     "output_type": "display_data"
    },
    {
     "data": {
      "application/vnd.jupyter.widget-view+json": {
       "model_id": "4c87b722a29f4254bad7e9c8c4eab49c",
       "version_major": 2,
       "version_minor": 0
      },
      "text/plain": [
       "Epoch 58/100 [Val]:   0%|          | 0/88 [00:00<?, ?it/s]"
      ]
     },
     "metadata": {},
     "output_type": "display_data"
    },
    {
     "name": "stdout",
     "output_type": "stream",
     "text": [
      "AUC Calc Warn: Target scores need to be probabilities for multiclass roc_auc, i.e. they should sum up to 1.0 over classes\n",
      "Epoch 58: TrainLoss=0.0844, F1-W=0.8555, Acc=0.8555, AUC=0.0000\n"
     ]
    },
    {
     "data": {
      "application/vnd.jupyter.widget-view+json": {
       "model_id": "084bba7d75f74bac9e9ca8da1d05d35a",
       "version_major": 2,
       "version_minor": 0
      },
      "text/plain": [
       "Epoch 59/100 [Train]:   0%|          | 0/176 [00:00<?, ?it/s]"
      ]
     },
     "metadata": {},
     "output_type": "display_data"
    },
    {
     "data": {
      "application/vnd.jupyter.widget-view+json": {
       "model_id": "caf447520e894b32bfc7f3d3cae9ed88",
       "version_major": 2,
       "version_minor": 0
      },
      "text/plain": [
       "Epoch 59/100 [Val]:   0%|          | 0/88 [00:00<?, ?it/s]"
      ]
     },
     "metadata": {},
     "output_type": "display_data"
    },
    {
     "name": "stdout",
     "output_type": "stream",
     "text": [
      "AUC Calc Warn: Target scores need to be probabilities for multiclass roc_auc, i.e. they should sum up to 1.0 over classes\n",
      "Epoch 59: TrainLoss=0.0816, F1-W=0.8530, Acc=0.8530, AUC=0.0000\n"
     ]
    },
    {
     "data": {
      "application/vnd.jupyter.widget-view+json": {
       "model_id": "6b2bdad2b8da4ca8b05d4de50f45acab",
       "version_major": 2,
       "version_minor": 0
      },
      "text/plain": [
       "Epoch 60/100 [Train]:   0%|          | 0/176 [00:00<?, ?it/s]"
      ]
     },
     "metadata": {},
     "output_type": "display_data"
    },
    {
     "data": {
      "application/vnd.jupyter.widget-view+json": {
       "model_id": "9ef6c4df9b0549e697daa744de9a21f4",
       "version_major": 2,
       "version_minor": 0
      },
      "text/plain": [
       "Epoch 60/100 [Val]:   0%|          | 0/88 [00:00<?, ?it/s]"
      ]
     },
     "metadata": {},
     "output_type": "display_data"
    },
    {
     "name": "stdout",
     "output_type": "stream",
     "text": [
      "AUC Calc Warn: Target scores need to be probabilities for multiclass roc_auc, i.e. they should sum up to 1.0 over classes\n",
      "Epoch 60: TrainLoss=0.0811, F1-W=0.8576, Acc=0.8577, AUC=0.0000\n"
     ]
    },
    {
     "data": {
      "application/vnd.jupyter.widget-view+json": {
       "model_id": "20d06248215145d4b8308b4dd4f4f2e1",
       "version_major": 2,
       "version_minor": 0
      },
      "text/plain": [
       "Epoch 61/100 [Train]:   0%|          | 0/176 [00:00<?, ?it/s]"
      ]
     },
     "metadata": {},
     "output_type": "display_data"
    },
    {
     "data": {
      "application/vnd.jupyter.widget-view+json": {
       "model_id": "a43a1508649245838decf82e5e00a2f6",
       "version_major": 2,
       "version_minor": 0
      },
      "text/plain": [
       "Epoch 61/100 [Val]:   0%|          | 0/88 [00:00<?, ?it/s]"
      ]
     },
     "metadata": {},
     "output_type": "display_data"
    },
    {
     "name": "stdout",
     "output_type": "stream",
     "text": [
      "AUC Calc Warn: Target scores need to be probabilities for multiclass roc_auc, i.e. they should sum up to 1.0 over classes\n",
      "Epoch 61: TrainLoss=0.0929, F1-W=0.8540, Acc=0.8541, AUC=0.0000\n"
     ]
    },
    {
     "data": {
      "application/vnd.jupyter.widget-view+json": {
       "model_id": "7ab81caffdcb4e9f8256662dfc54ef58",
       "version_major": 2,
       "version_minor": 0
      },
      "text/plain": [
       "Epoch 62/100 [Train]:   0%|          | 0/176 [00:00<?, ?it/s]"
      ]
     },
     "metadata": {},
     "output_type": "display_data"
    },
    {
     "data": {
      "application/vnd.jupyter.widget-view+json": {
       "model_id": "49536bedfd8b4bf899cc9f15182f82f2",
       "version_major": 2,
       "version_minor": 0
      },
      "text/plain": [
       "Epoch 62/100 [Val]:   0%|          | 0/88 [00:00<?, ?it/s]"
      ]
     },
     "metadata": {},
     "output_type": "display_data"
    },
    {
     "name": "stdout",
     "output_type": "stream",
     "text": [
      "AUC Calc Warn: Target scores need to be probabilities for multiclass roc_auc, i.e. they should sum up to 1.0 over classes\n",
      "Epoch 62: TrainLoss=0.0866, F1-W=0.8541, Acc=0.8541, AUC=0.0000\n"
     ]
    },
    {
     "data": {
      "application/vnd.jupyter.widget-view+json": {
       "model_id": "e91220acdf4c4d56a0a3b94882423e69",
       "version_major": 2,
       "version_minor": 0
      },
      "text/plain": [
       "Epoch 63/100 [Train]:   0%|          | 0/176 [00:00<?, ?it/s]"
      ]
     },
     "metadata": {},
     "output_type": "display_data"
    },
    {
     "data": {
      "application/vnd.jupyter.widget-view+json": {
       "model_id": "e3e61e0c53174ecaa84ea2d933257dc3",
       "version_major": 2,
       "version_minor": 0
      },
      "text/plain": [
       "Epoch 63/100 [Val]:   0%|          | 0/88 [00:00<?, ?it/s]"
      ]
     },
     "metadata": {},
     "output_type": "display_data"
    },
    {
     "name": "stdout",
     "output_type": "stream",
     "text": [
      "AUC Calc Warn: Target scores need to be probabilities for multiclass roc_auc, i.e. they should sum up to 1.0 over classes\n",
      "Epoch 63: TrainLoss=0.0941, F1-W=0.8565, Acc=0.8566, AUC=0.0000\n"
     ]
    },
    {
     "data": {
      "application/vnd.jupyter.widget-view+json": {
       "model_id": "0e9e84b8fb61458cbdf71691a53e58a0",
       "version_major": 2,
       "version_minor": 0
      },
      "text/plain": [
       "Epoch 64/100 [Train]:   0%|          | 0/176 [00:00<?, ?it/s]"
      ]
     },
     "metadata": {},
     "output_type": "display_data"
    },
    {
     "data": {
      "application/vnd.jupyter.widget-view+json": {
       "model_id": "5989cd52e9ad49edbdc01608d7d4551d",
       "version_major": 2,
       "version_minor": 0
      },
      "text/plain": [
       "Epoch 64/100 [Val]:   0%|          | 0/88 [00:00<?, ?it/s]"
      ]
     },
     "metadata": {},
     "output_type": "display_data"
    },
    {
     "name": "stdout",
     "output_type": "stream",
     "text": [
      "AUC Calc Warn: Target scores need to be probabilities for multiclass roc_auc, i.e. they should sum up to 1.0 over classes\n",
      "Epoch 64: TrainLoss=0.0832, F1-W=0.8544, Acc=0.8544, AUC=0.0000\n"
     ]
    },
    {
     "data": {
      "application/vnd.jupyter.widget-view+json": {
       "model_id": "eb912fca686c4684aa589d141061444f",
       "version_major": 2,
       "version_minor": 0
      },
      "text/plain": [
       "Epoch 65/100 [Train]:   0%|          | 0/176 [00:00<?, ?it/s]"
      ]
     },
     "metadata": {},
     "output_type": "display_data"
    },
    {
     "data": {
      "application/vnd.jupyter.widget-view+json": {
       "model_id": "0b67973b0ab74a1f871e144c3c34a965",
       "version_major": 2,
       "version_minor": 0
      },
      "text/plain": [
       "Epoch 65/100 [Val]:   0%|          | 0/88 [00:00<?, ?it/s]"
      ]
     },
     "metadata": {},
     "output_type": "display_data"
    },
    {
     "name": "stdout",
     "output_type": "stream",
     "text": [
      "AUC Calc Warn: Target scores need to be probabilities for multiclass roc_auc, i.e. they should sum up to 1.0 over classes\n",
      "Epoch 65: TrainLoss=0.0807, F1-W=0.8577, Acc=0.8577, AUC=0.0000\n"
     ]
    },
    {
     "data": {
      "application/vnd.jupyter.widget-view+json": {
       "model_id": "30f3c97de04c441aa418cb9c5c8324ac",
       "version_major": 2,
       "version_minor": 0
      },
      "text/plain": [
       "Epoch 66/100 [Train]:   0%|          | 0/176 [00:00<?, ?it/s]"
      ]
     },
     "metadata": {},
     "output_type": "display_data"
    },
    {
     "data": {
      "application/vnd.jupyter.widget-view+json": {
       "model_id": "80b88b8a8aa84ef9bc75d651c7f39bbc",
       "version_major": 2,
       "version_minor": 0
      },
      "text/plain": [
       "Epoch 66/100 [Val]:   0%|          | 0/88 [00:00<?, ?it/s]"
      ]
     },
     "metadata": {},
     "output_type": "display_data"
    },
    {
     "name": "stdout",
     "output_type": "stream",
     "text": [
      "AUC Calc Warn: Target scores need to be probabilities for multiclass roc_auc, i.e. they should sum up to 1.0 over classes\n",
      "Epoch 66: TrainLoss=0.0819, F1-W=0.8562, Acc=0.8562, AUC=0.0000\n"
     ]
    },
    {
     "data": {
      "application/vnd.jupyter.widget-view+json": {
       "model_id": "7f105d66e4444185b772742c52ce9b27",
       "version_major": 2,
       "version_minor": 0
      },
      "text/plain": [
       "Epoch 67/100 [Train]:   0%|          | 0/176 [00:00<?, ?it/s]"
      ]
     },
     "metadata": {},
     "output_type": "display_data"
    },
    {
     "data": {
      "application/vnd.jupyter.widget-view+json": {
       "model_id": "e12b00397f644370a16f55f1d7e91927",
       "version_major": 2,
       "version_minor": 0
      },
      "text/plain": [
       "Epoch 67/100 [Val]:   0%|          | 0/88 [00:00<?, ?it/s]"
      ]
     },
     "metadata": {},
     "output_type": "display_data"
    },
    {
     "name": "stdout",
     "output_type": "stream",
     "text": [
      "AUC Calc Warn: Target scores need to be probabilities for multiclass roc_auc, i.e. they should sum up to 1.0 over classes\n",
      "Epoch 67: TrainLoss=0.0935, F1-W=0.8538, Acc=0.8537, AUC=0.0000\n"
     ]
    },
    {
     "data": {
      "application/vnd.jupyter.widget-view+json": {
       "model_id": "e4caf9e41eb344a0ab9267ce871ccc8b",
       "version_major": 2,
       "version_minor": 0
      },
      "text/plain": [
       "Epoch 68/100 [Train]:   0%|          | 0/176 [00:00<?, ?it/s]"
      ]
     },
     "metadata": {},
     "output_type": "display_data"
    },
    {
     "data": {
      "application/vnd.jupyter.widget-view+json": {
       "model_id": "3b4cfb0645d3476fac4d3565b9b07902",
       "version_major": 2,
       "version_minor": 0
      },
      "text/plain": [
       "Epoch 68/100 [Val]:   0%|          | 0/88 [00:00<?, ?it/s]"
      ]
     },
     "metadata": {},
     "output_type": "display_data"
    },
    {
     "name": "stdout",
     "output_type": "stream",
     "text": [
      "AUC Calc Warn: Target scores need to be probabilities for multiclass roc_auc, i.e. they should sum up to 1.0 over classes\n",
      "Epoch 68: TrainLoss=0.0874, F1-W=0.8562, Acc=0.8562, AUC=0.0000\n"
     ]
    },
    {
     "data": {
      "application/vnd.jupyter.widget-view+json": {
       "model_id": "201b750dcd7448cea98675879e5ab221",
       "version_major": 2,
       "version_minor": 0
      },
      "text/plain": [
       "Epoch 69/100 [Train]:   0%|          | 0/176 [00:00<?, ?it/s]"
      ]
     },
     "metadata": {},
     "output_type": "display_data"
    },
    {
     "data": {
      "application/vnd.jupyter.widget-view+json": {
       "model_id": "62cb6de2b5a44f56ace5bd519396414f",
       "version_major": 2,
       "version_minor": 0
      },
      "text/plain": [
       "Epoch 69/100 [Val]:   0%|          | 0/88 [00:00<?, ?it/s]"
      ]
     },
     "metadata": {},
     "output_type": "display_data"
    },
    {
     "name": "stdout",
     "output_type": "stream",
     "text": [
      "AUC Calc Warn: Target scores need to be probabilities for multiclass roc_auc, i.e. they should sum up to 1.0 over classes\n",
      "Epoch 69: TrainLoss=0.0860, F1-W=0.8562, Acc=0.8562, AUC=0.0000\n"
     ]
    },
    {
     "data": {
      "application/vnd.jupyter.widget-view+json": {
       "model_id": "98f6330504c940f1b0a10712bbd0b63e",
       "version_major": 2,
       "version_minor": 0
      },
      "text/plain": [
       "Epoch 70/100 [Train]:   0%|          | 0/176 [00:00<?, ?it/s]"
      ]
     },
     "metadata": {},
     "output_type": "display_data"
    },
    {
     "data": {
      "application/vnd.jupyter.widget-view+json": {
       "model_id": "184f7f46669c4eb6881c2b62c986fa02",
       "version_major": 2,
       "version_minor": 0
      },
      "text/plain": [
       "Epoch 70/100 [Val]:   0%|          | 0/88 [00:00<?, ?it/s]"
      ]
     },
     "metadata": {},
     "output_type": "display_data"
    },
    {
     "name": "stdout",
     "output_type": "stream",
     "text": [
      "AUC Calc Warn: Target scores need to be probabilities for multiclass roc_auc, i.e. they should sum up to 1.0 over classes\n",
      "Epoch 70: TrainLoss=0.0799, F1-W=0.8530, Acc=0.8530, AUC=0.0000\n"
     ]
    },
    {
     "data": {
      "application/vnd.jupyter.widget-view+json": {
       "model_id": "253d2044b1cd459ea8f32e9ffa4a6a17",
       "version_major": 2,
       "version_minor": 0
      },
      "text/plain": [
       "Epoch 71/100 [Train]:   0%|          | 0/176 [00:00<?, ?it/s]"
      ]
     },
     "metadata": {},
     "output_type": "display_data"
    },
    {
     "data": {
      "application/vnd.jupyter.widget-view+json": {
       "model_id": "4b13a16febbc4b319c5d6e234e45d969",
       "version_major": 2,
       "version_minor": 0
      },
      "text/plain": [
       "Epoch 71/100 [Val]:   0%|          | 0/88 [00:00<?, ?it/s]"
      ]
     },
     "metadata": {},
     "output_type": "display_data"
    },
    {
     "name": "stdout",
     "output_type": "stream",
     "text": [
      "AUC Calc Warn: Target scores need to be probabilities for multiclass roc_auc, i.e. they should sum up to 1.0 over classes\n",
      "Epoch 71: TrainLoss=0.0879, F1-W=0.8562, Acc=0.8562, AUC=0.0000\n"
     ]
    },
    {
     "data": {
      "application/vnd.jupyter.widget-view+json": {
       "model_id": "ba6d0d8f8a9347d592ca2f4efe451a29",
       "version_major": 2,
       "version_minor": 0
      },
      "text/plain": [
       "Epoch 72/100 [Train]:   0%|          | 0/176 [00:00<?, ?it/s]"
      ]
     },
     "metadata": {},
     "output_type": "display_data"
    },
    {
     "data": {
      "application/vnd.jupyter.widget-view+json": {
       "model_id": "b4745e28267148c58ba66b60d12f1ba6",
       "version_major": 2,
       "version_minor": 0
      },
      "text/plain": [
       "Epoch 72/100 [Val]:   0%|          | 0/88 [00:00<?, ?it/s]"
      ]
     },
     "metadata": {},
     "output_type": "display_data"
    },
    {
     "name": "stdout",
     "output_type": "stream",
     "text": [
      "AUC Calc Warn: Target scores need to be probabilities for multiclass roc_auc, i.e. they should sum up to 1.0 over classes\n",
      "Epoch 72: TrainLoss=0.0836, F1-W=0.8584, Acc=0.8584, AUC=0.0000\n"
     ]
    },
    {
     "data": {
      "application/vnd.jupyter.widget-view+json": {
       "model_id": "60911ba5cf264fdea2cde431e83ea592",
       "version_major": 2,
       "version_minor": 0
      },
      "text/plain": [
       "Epoch 73/100 [Train]:   0%|          | 0/176 [00:00<?, ?it/s]"
      ]
     },
     "metadata": {},
     "output_type": "display_data"
    },
    {
     "data": {
      "application/vnd.jupyter.widget-view+json": {
       "model_id": "f95dcc1b652b4064b59a06732e8b30b6",
       "version_major": 2,
       "version_minor": 0
      },
      "text/plain": [
       "Epoch 73/100 [Val]:   0%|          | 0/88 [00:00<?, ?it/s]"
      ]
     },
     "metadata": {},
     "output_type": "display_data"
    },
    {
     "name": "stdout",
     "output_type": "stream",
     "text": [
      "AUC Calc Warn: Target scores need to be probabilities for multiclass roc_auc, i.e. they should sum up to 1.0 over classes\n",
      "Epoch 73: TrainLoss=0.0889, F1-W=0.8559, Acc=0.8559, AUC=0.0000\n"
     ]
    },
    {
     "data": {
      "application/vnd.jupyter.widget-view+json": {
       "model_id": "708ec2cbaee54d599fd072af330c62a9",
       "version_major": 2,
       "version_minor": 0
      },
      "text/plain": [
       "Epoch 74/100 [Train]:   0%|          | 0/176 [00:00<?, ?it/s]"
      ]
     },
     "metadata": {},
     "output_type": "display_data"
    },
    {
     "data": {
      "application/vnd.jupyter.widget-view+json": {
       "model_id": "778b9961ef4949948bb1c5e6aa3591be",
       "version_major": 2,
       "version_minor": 0
      },
      "text/plain": [
       "Epoch 74/100 [Val]:   0%|          | 0/88 [00:00<?, ?it/s]"
      ]
     },
     "metadata": {},
     "output_type": "display_data"
    },
    {
     "name": "stdout",
     "output_type": "stream",
     "text": [
      "AUC Calc Warn: Target scores need to be probabilities for multiclass roc_auc, i.e. they should sum up to 1.0 over classes\n",
      "Epoch 74: TrainLoss=0.0819, F1-W=0.8534, Acc=0.8534, AUC=0.0000\n"
     ]
    },
    {
     "data": {
      "application/vnd.jupyter.widget-view+json": {
       "model_id": "12d151edfeac4b3caa9673f000d82010",
       "version_major": 2,
       "version_minor": 0
      },
      "text/plain": [
       "Epoch 75/100 [Train]:   0%|          | 0/176 [00:00<?, ?it/s]"
      ]
     },
     "metadata": {},
     "output_type": "display_data"
    },
    {
     "data": {
      "application/vnd.jupyter.widget-view+json": {
       "model_id": "4e0e7c25aa334217834c00c931951171",
       "version_major": 2,
       "version_minor": 0
      },
      "text/plain": [
       "Epoch 75/100 [Val]:   0%|          | 0/88 [00:00<?, ?it/s]"
      ]
     },
     "metadata": {},
     "output_type": "display_data"
    },
    {
     "name": "stdout",
     "output_type": "stream",
     "text": [
      "AUC Calc Warn: Target scores need to be probabilities for multiclass roc_auc, i.e. they should sum up to 1.0 over classes\n",
      "Epoch 75: TrainLoss=0.0838, F1-W=0.8533, Acc=0.8534, AUC=0.0000\n"
     ]
    },
    {
     "data": {
      "application/vnd.jupyter.widget-view+json": {
       "model_id": "96dde85b225f4974bd8dd106f93f9f62",
       "version_major": 2,
       "version_minor": 0
      },
      "text/plain": [
       "Epoch 76/100 [Train]:   0%|          | 0/176 [00:00<?, ?it/s]"
      ]
     },
     "metadata": {},
     "output_type": "display_data"
    },
    {
     "data": {
      "application/vnd.jupyter.widget-view+json": {
       "model_id": "2bb37e71b5dc44cfba3a7c8730329f8d",
       "version_major": 2,
       "version_minor": 0
      },
      "text/plain": [
       "Epoch 76/100 [Val]:   0%|          | 0/88 [00:00<?, ?it/s]"
      ]
     },
     "metadata": {},
     "output_type": "display_data"
    },
    {
     "name": "stdout",
     "output_type": "stream",
     "text": [
      "AUC Calc Warn: Target scores need to be probabilities for multiclass roc_auc, i.e. they should sum up to 1.0 over classes\n",
      "Epoch 76: TrainLoss=0.0899, F1-W=0.8555, Acc=0.8555, AUC=0.0000\n"
     ]
    },
    {
     "data": {
      "application/vnd.jupyter.widget-view+json": {
       "model_id": "7c42250c0f9945f39ad915ef621285b6",
       "version_major": 2,
       "version_minor": 0
      },
      "text/plain": [
       "Epoch 77/100 [Train]:   0%|          | 0/176 [00:00<?, ?it/s]"
      ]
     },
     "metadata": {},
     "output_type": "display_data"
    },
    {
     "data": {
      "application/vnd.jupyter.widget-view+json": {
       "model_id": "2e2a5548eb594644b3c741a372ff59e1",
       "version_major": 2,
       "version_minor": 0
      },
      "text/plain": [
       "Epoch 77/100 [Val]:   0%|          | 0/88 [00:00<?, ?it/s]"
      ]
     },
     "metadata": {},
     "output_type": "display_data"
    },
    {
     "name": "stdout",
     "output_type": "stream",
     "text": [
      "AUC Calc Warn: Target scores need to be probabilities for multiclass roc_auc, i.e. they should sum up to 1.0 over classes\n",
      "Epoch 77: TrainLoss=0.0885, F1-W=0.8566, Acc=0.8566, AUC=0.0000\n"
     ]
    },
    {
     "data": {
      "application/vnd.jupyter.widget-view+json": {
       "model_id": "d1a5fa4b352849089dbde07c1c60fa1a",
       "version_major": 2,
       "version_minor": 0
      },
      "text/plain": [
       "Epoch 78/100 [Train]:   0%|          | 0/176 [00:00<?, ?it/s]"
      ]
     },
     "metadata": {},
     "output_type": "display_data"
    },
    {
     "data": {
      "application/vnd.jupyter.widget-view+json": {
       "model_id": "1a308b6d840f4e8192844bd57ea4d30c",
       "version_major": 2,
       "version_minor": 0
      },
      "text/plain": [
       "Epoch 78/100 [Val]:   0%|          | 0/88 [00:00<?, ?it/s]"
      ]
     },
     "metadata": {},
     "output_type": "display_data"
    },
    {
     "name": "stdout",
     "output_type": "stream",
     "text": [
      "AUC Calc Warn: Target scores need to be probabilities for multiclass roc_auc, i.e. they should sum up to 1.0 over classes\n",
      "Epoch 78: TrainLoss=0.0913, F1-W=0.8555, Acc=0.8555, AUC=0.0000\n"
     ]
    },
    {
     "data": {
      "application/vnd.jupyter.widget-view+json": {
       "model_id": "d4924e7e1cd8417396ec1fff75e85776",
       "version_major": 2,
       "version_minor": 0
      },
      "text/plain": [
       "Epoch 79/100 [Train]:   0%|          | 0/176 [00:00<?, ?it/s]"
      ]
     },
     "metadata": {},
     "output_type": "display_data"
    },
    {
     "data": {
      "application/vnd.jupyter.widget-view+json": {
       "model_id": "0099b0f5f8224f10a45122c19df6198e",
       "version_major": 2,
       "version_minor": 0
      },
      "text/plain": [
       "Epoch 79/100 [Val]:   0%|          | 0/88 [00:00<?, ?it/s]"
      ]
     },
     "metadata": {},
     "output_type": "display_data"
    },
    {
     "name": "stdout",
     "output_type": "stream",
     "text": [
      "AUC Calc Warn: Target scores need to be probabilities for multiclass roc_auc, i.e. they should sum up to 1.0 over classes\n",
      "Epoch 79: TrainLoss=0.0928, F1-W=0.8548, Acc=0.8548, AUC=0.0000\n"
     ]
    },
    {
     "data": {
      "application/vnd.jupyter.widget-view+json": {
       "model_id": "7d4708df4cf04c55928b19683eea56d6",
       "version_major": 2,
       "version_minor": 0
      },
      "text/plain": [
       "Epoch 80/100 [Train]:   0%|          | 0/176 [00:00<?, ?it/s]"
      ]
     },
     "metadata": {},
     "output_type": "display_data"
    },
    {
     "data": {
      "application/vnd.jupyter.widget-view+json": {
       "model_id": "fdceebdccc084220961d827540018213",
       "version_major": 2,
       "version_minor": 0
      },
      "text/plain": [
       "Epoch 80/100 [Val]:   0%|          | 0/88 [00:00<?, ?it/s]"
      ]
     },
     "metadata": {},
     "output_type": "display_data"
    },
    {
     "name": "stdout",
     "output_type": "stream",
     "text": [
      "AUC Calc Warn: Target scores need to be probabilities for multiclass roc_auc, i.e. they should sum up to 1.0 over classes\n",
      "Epoch 80: TrainLoss=0.0902, F1-W=0.8548, Acc=0.8548, AUC=0.0000\n"
     ]
    },
    {
     "data": {
      "application/vnd.jupyter.widget-view+json": {
       "model_id": "ee7316d7ee934d189e06a5516a6d7b08",
       "version_major": 2,
       "version_minor": 0
      },
      "text/plain": [
       "Epoch 81/100 [Train]:   0%|          | 0/176 [00:00<?, ?it/s]"
      ]
     },
     "metadata": {},
     "output_type": "display_data"
    },
    {
     "data": {
      "application/vnd.jupyter.widget-view+json": {
       "model_id": "1aacd344e78541a5b2fac87c64b33b28",
       "version_major": 2,
       "version_minor": 0
      },
      "text/plain": [
       "Epoch 81/100 [Val]:   0%|          | 0/88 [00:00<?, ?it/s]"
      ]
     },
     "metadata": {},
     "output_type": "display_data"
    },
    {
     "name": "stdout",
     "output_type": "stream",
     "text": [
      "AUC Calc Warn: Target scores need to be probabilities for multiclass roc_auc, i.e. they should sum up to 1.0 over classes\n",
      "Epoch 81: TrainLoss=0.0804, F1-W=0.8555, Acc=0.8555, AUC=0.0000\n"
     ]
    },
    {
     "data": {
      "application/vnd.jupyter.widget-view+json": {
       "model_id": "d5fd3b019bca4d36bf914acd52074aac",
       "version_major": 2,
       "version_minor": 0
      },
      "text/plain": [
       "Epoch 82/100 [Train]:   0%|          | 0/176 [00:00<?, ?it/s]"
      ]
     },
     "metadata": {},
     "output_type": "display_data"
    },
    {
     "data": {
      "application/vnd.jupyter.widget-view+json": {
       "model_id": "61e6c92f1d1445d193dce61540771cd5",
       "version_major": 2,
       "version_minor": 0
      },
      "text/plain": [
       "Epoch 82/100 [Val]:   0%|          | 0/88 [00:00<?, ?it/s]"
      ]
     },
     "metadata": {},
     "output_type": "display_data"
    },
    {
     "name": "stdout",
     "output_type": "stream",
     "text": [
      "AUC Calc Warn: Target scores need to be probabilities for multiclass roc_auc, i.e. they should sum up to 1.0 over classes\n",
      "Epoch 82: TrainLoss=0.0828, F1-W=0.8543, Acc=0.8544, AUC=0.0000\n"
     ]
    },
    {
     "data": {
      "application/vnd.jupyter.widget-view+json": {
       "model_id": "12c3809f00574974ab465488d772f424",
       "version_major": 2,
       "version_minor": 0
      },
      "text/plain": [
       "Epoch 83/100 [Train]:   0%|          | 0/176 [00:00<?, ?it/s]"
      ]
     },
     "metadata": {},
     "output_type": "display_data"
    },
    {
     "data": {
      "application/vnd.jupyter.widget-view+json": {
       "model_id": "3ba4e67956034ed2af8e76651bd512f3",
       "version_major": 2,
       "version_minor": 0
      },
      "text/plain": [
       "Epoch 83/100 [Val]:   0%|          | 0/88 [00:00<?, ?it/s]"
      ]
     },
     "metadata": {},
     "output_type": "display_data"
    },
    {
     "name": "stdout",
     "output_type": "stream",
     "text": [
      "AUC Calc Warn: Target scores need to be probabilities for multiclass roc_auc, i.e. they should sum up to 1.0 over classes\n",
      "Epoch 83: TrainLoss=0.0900, F1-W=0.8526, Acc=0.8527, AUC=0.0000\n"
     ]
    },
    {
     "data": {
      "application/vnd.jupyter.widget-view+json": {
       "model_id": "e3ef5f0db9414cadbc6bfb5be09341bd",
       "version_major": 2,
       "version_minor": 0
      },
      "text/plain": [
       "Epoch 84/100 [Train]:   0%|          | 0/176 [00:00<?, ?it/s]"
      ]
     },
     "metadata": {},
     "output_type": "display_data"
    },
    {
     "data": {
      "application/vnd.jupyter.widget-view+json": {
       "model_id": "f6d445ba0b0e4b678223f7ead2509c33",
       "version_major": 2,
       "version_minor": 0
      },
      "text/plain": [
       "Epoch 84/100 [Val]:   0%|          | 0/88 [00:00<?, ?it/s]"
      ]
     },
     "metadata": {},
     "output_type": "display_data"
    },
    {
     "name": "stdout",
     "output_type": "stream",
     "text": [
      "AUC Calc Warn: Target scores need to be probabilities for multiclass roc_auc, i.e. they should sum up to 1.0 over classes\n",
      "Epoch 84: TrainLoss=0.0859, F1-W=0.8551, Acc=0.8552, AUC=0.0000\n"
     ]
    },
    {
     "data": {
      "application/vnd.jupyter.widget-view+json": {
       "model_id": "165b644d251c4dabb7226c4fac0cb939",
       "version_major": 2,
       "version_minor": 0
      },
      "text/plain": [
       "Epoch 85/100 [Train]:   0%|          | 0/176 [00:00<?, ?it/s]"
      ]
     },
     "metadata": {},
     "output_type": "display_data"
    },
    {
     "data": {
      "application/vnd.jupyter.widget-view+json": {
       "model_id": "fb5aaf5637824e92880b5acc7a222994",
       "version_major": 2,
       "version_minor": 0
      },
      "text/plain": [
       "Epoch 85/100 [Val]:   0%|          | 0/88 [00:00<?, ?it/s]"
      ]
     },
     "metadata": {},
     "output_type": "display_data"
    },
    {
     "name": "stdout",
     "output_type": "stream",
     "text": [
      "AUC Calc Warn: Target scores need to be probabilities for multiclass roc_auc, i.e. they should sum up to 1.0 over classes\n",
      "Epoch 85: TrainLoss=0.0915, F1-W=0.8562, Acc=0.8562, AUC=0.0000\n"
     ]
    },
    {
     "data": {
      "application/vnd.jupyter.widget-view+json": {
       "model_id": "654f3b2f07b5415cbe90445be546e618",
       "version_major": 2,
       "version_minor": 0
      },
      "text/plain": [
       "Epoch 86/100 [Train]:   0%|          | 0/176 [00:00<?, ?it/s]"
      ]
     },
     "metadata": {},
     "output_type": "display_data"
    },
    {
     "data": {
      "application/vnd.jupyter.widget-view+json": {
       "model_id": "2b9dab8777a34626a6cbcc5e92904245",
       "version_major": 2,
       "version_minor": 0
      },
      "text/plain": [
       "Epoch 86/100 [Val]:   0%|          | 0/88 [00:00<?, ?it/s]"
      ]
     },
     "metadata": {},
     "output_type": "display_data"
    },
    {
     "name": "stdout",
     "output_type": "stream",
     "text": [
      "AUC Calc Warn: Target scores need to be probabilities for multiclass roc_auc, i.e. they should sum up to 1.0 over classes\n",
      "Epoch 86: TrainLoss=0.0961, F1-W=0.8555, Acc=0.8555, AUC=0.0000\n"
     ]
    },
    {
     "data": {
      "application/vnd.jupyter.widget-view+json": {
       "model_id": "b6f6690763b34613913d84c6b0d21766",
       "version_major": 2,
       "version_minor": 0
      },
      "text/plain": [
       "Epoch 87/100 [Train]:   0%|          | 0/176 [00:00<?, ?it/s]"
      ]
     },
     "metadata": {},
     "output_type": "display_data"
    },
    {
     "data": {
      "application/vnd.jupyter.widget-view+json": {
       "model_id": "bd61c56af398497eb87f3bb2de38d7f4",
       "version_major": 2,
       "version_minor": 0
      },
      "text/plain": [
       "Epoch 87/100 [Val]:   0%|          | 0/88 [00:00<?, ?it/s]"
      ]
     },
     "metadata": {},
     "output_type": "display_data"
    },
    {
     "name": "stdout",
     "output_type": "stream",
     "text": [
      "AUC Calc Warn: Target scores need to be probabilities for multiclass roc_auc, i.e. they should sum up to 1.0 over classes\n",
      "Epoch 87: TrainLoss=0.0857, F1-W=0.8580, Acc=0.8580, AUC=0.0000\n"
     ]
    },
    {
     "data": {
      "application/vnd.jupyter.widget-view+json": {
       "model_id": "9cf38941aa5e4e1d8811997db943c45d",
       "version_major": 2,
       "version_minor": 0
      },
      "text/plain": [
       "Epoch 88/100 [Train]:   0%|          | 0/176 [00:00<?, ?it/s]"
      ]
     },
     "metadata": {},
     "output_type": "display_data"
    },
    {
     "data": {
      "application/vnd.jupyter.widget-view+json": {
       "model_id": "05341a8d78534af69cd604e7f9f6f5a0",
       "version_major": 2,
       "version_minor": 0
      },
      "text/plain": [
       "Epoch 88/100 [Val]:   0%|          | 0/88 [00:00<?, ?it/s]"
      ]
     },
     "metadata": {},
     "output_type": "display_data"
    },
    {
     "name": "stdout",
     "output_type": "stream",
     "text": [
      "AUC Calc Warn: Target scores need to be probabilities for multiclass roc_auc, i.e. they should sum up to 1.0 over classes\n",
      "Epoch 88: TrainLoss=0.0886, F1-W=0.8563, Acc=0.8562, AUC=0.0000\n"
     ]
    },
    {
     "data": {
      "application/vnd.jupyter.widget-view+json": {
       "model_id": "b5db9f761e664aff9d100453392d4f27",
       "version_major": 2,
       "version_minor": 0
      },
      "text/plain": [
       "Epoch 89/100 [Train]:   0%|          | 0/176 [00:00<?, ?it/s]"
      ]
     },
     "metadata": {},
     "output_type": "display_data"
    },
    {
     "data": {
      "application/vnd.jupyter.widget-view+json": {
       "model_id": "bc946bbc77714066a9b389d156d4a550",
       "version_major": 2,
       "version_minor": 0
      },
      "text/plain": [
       "Epoch 89/100 [Val]:   0%|          | 0/88 [00:00<?, ?it/s]"
      ]
     },
     "metadata": {},
     "output_type": "display_data"
    },
    {
     "name": "stdout",
     "output_type": "stream",
     "text": [
      "AUC Calc Warn: Target scores need to be probabilities for multiclass roc_auc, i.e. they should sum up to 1.0 over classes\n",
      "Epoch 89: TrainLoss=0.0826, F1-W=0.8569, Acc=0.8569, AUC=0.0000\n"
     ]
    },
    {
     "data": {
      "application/vnd.jupyter.widget-view+json": {
       "model_id": "a2c9f84bd0a94be9bc401b021b9a006b",
       "version_major": 2,
       "version_minor": 0
      },
      "text/plain": [
       "Epoch 90/100 [Train]:   0%|          | 0/176 [00:00<?, ?it/s]"
      ]
     },
     "metadata": {},
     "output_type": "display_data"
    },
    {
     "data": {
      "application/vnd.jupyter.widget-view+json": {
       "model_id": "55045f3bbec24553bb5a2b3203e53ee6",
       "version_major": 2,
       "version_minor": 0
      },
      "text/plain": [
       "Epoch 90/100 [Val]:   0%|          | 0/88 [00:00<?, ?it/s]"
      ]
     },
     "metadata": {},
     "output_type": "display_data"
    },
    {
     "name": "stdout",
     "output_type": "stream",
     "text": [
      "AUC Calc Warn: Target scores need to be probabilities for multiclass roc_auc, i.e. they should sum up to 1.0 over classes\n",
      "Epoch 90: TrainLoss=0.0806, F1-W=0.8552, Acc=0.8552, AUC=0.0000\n"
     ]
    },
    {
     "data": {
      "application/vnd.jupyter.widget-view+json": {
       "model_id": "5934933a18b4441683a71325f8e2eeaf",
       "version_major": 2,
       "version_minor": 0
      },
      "text/plain": [
       "Epoch 91/100 [Train]:   0%|          | 0/176 [00:00<?, ?it/s]"
      ]
     },
     "metadata": {},
     "output_type": "display_data"
    },
    {
     "data": {
      "application/vnd.jupyter.widget-view+json": {
       "model_id": "1babd87d96954587bd4e69c53990cac4",
       "version_major": 2,
       "version_minor": 0
      },
      "text/plain": [
       "Epoch 91/100 [Val]:   0%|          | 0/88 [00:00<?, ?it/s]"
      ]
     },
     "metadata": {},
     "output_type": "display_data"
    },
    {
     "name": "stdout",
     "output_type": "stream",
     "text": [
      "AUC Calc Warn: Target scores need to be probabilities for multiclass roc_auc, i.e. they should sum up to 1.0 over classes\n",
      "Epoch 91: TrainLoss=0.0958, F1-W=0.8543, Acc=0.8544, AUC=0.0000\n"
     ]
    },
    {
     "data": {
      "application/vnd.jupyter.widget-view+json": {
       "model_id": "bf081fbf371a4ebeb06ccb69b1871168",
       "version_major": 2,
       "version_minor": 0
      },
      "text/plain": [
       "Epoch 92/100 [Train]:   0%|          | 0/176 [00:00<?, ?it/s]"
      ]
     },
     "metadata": {},
     "output_type": "display_data"
    },
    {
     "data": {
      "application/vnd.jupyter.widget-view+json": {
       "model_id": "2501f51a395349098c4a45c98d9140ae",
       "version_major": 2,
       "version_minor": 0
      },
      "text/plain": [
       "Epoch 92/100 [Val]:   0%|          | 0/88 [00:00<?, ?it/s]"
      ]
     },
     "metadata": {},
     "output_type": "display_data"
    },
    {
     "name": "stdout",
     "output_type": "stream",
     "text": [
      "AUC Calc Warn: Target scores need to be probabilities for multiclass roc_auc, i.e. they should sum up to 1.0 over classes\n",
      "Epoch 92: TrainLoss=0.0880, F1-W=0.8565, Acc=0.8566, AUC=0.0000\n"
     ]
    },
    {
     "data": {
      "application/vnd.jupyter.widget-view+json": {
       "model_id": "5b7b8d561e9141cc98fe0b259d548fe0",
       "version_major": 2,
       "version_minor": 0
      },
      "text/plain": [
       "Epoch 93/100 [Train]:   0%|          | 0/176 [00:00<?, ?it/s]"
      ]
     },
     "metadata": {},
     "output_type": "display_data"
    },
    {
     "data": {
      "application/vnd.jupyter.widget-view+json": {
       "model_id": "792595596c7b4c0a8e3c490333a4a99f",
       "version_major": 2,
       "version_minor": 0
      },
      "text/plain": [
       "Epoch 93/100 [Val]:   0%|          | 0/88 [00:00<?, ?it/s]"
      ]
     },
     "metadata": {},
     "output_type": "display_data"
    },
    {
     "name": "stdout",
     "output_type": "stream",
     "text": [
      "AUC Calc Warn: Target scores need to be probabilities for multiclass roc_auc, i.e. they should sum up to 1.0 over classes\n",
      "Epoch 93: TrainLoss=0.0876, F1-W=0.8530, Acc=0.8530, AUC=0.0000\n"
     ]
    },
    {
     "data": {
      "application/vnd.jupyter.widget-view+json": {
       "model_id": "5183a892586b4fdc917c306e5c6bd50f",
       "version_major": 2,
       "version_minor": 0
      },
      "text/plain": [
       "Epoch 94/100 [Train]:   0%|          | 0/176 [00:00<?, ?it/s]"
      ]
     },
     "metadata": {},
     "output_type": "display_data"
    },
    {
     "data": {
      "application/vnd.jupyter.widget-view+json": {
       "model_id": "0917219bf7724da1be217e65b65431c4",
       "version_major": 2,
       "version_minor": 0
      },
      "text/plain": [
       "Epoch 94/100 [Val]:   0%|          | 0/88 [00:00<?, ?it/s]"
      ]
     },
     "metadata": {},
     "output_type": "display_data"
    },
    {
     "name": "stdout",
     "output_type": "stream",
     "text": [
      "AUC Calc Warn: Target scores need to be probabilities for multiclass roc_auc, i.e. they should sum up to 1.0 over classes\n",
      "Epoch 94: TrainLoss=0.0865, F1-W=0.8556, Acc=0.8555, AUC=0.0000\n"
     ]
    },
    {
     "data": {
      "application/vnd.jupyter.widget-view+json": {
       "model_id": "910cbcd16d7845308aa4ec12a5273116",
       "version_major": 2,
       "version_minor": 0
      },
      "text/plain": [
       "Epoch 95/100 [Train]:   0%|          | 0/176 [00:00<?, ?it/s]"
      ]
     },
     "metadata": {},
     "output_type": "display_data"
    },
    {
     "data": {
      "application/vnd.jupyter.widget-view+json": {
       "model_id": "3e9ecb837a994f9690aa227c599e51bf",
       "version_major": 2,
       "version_minor": 0
      },
      "text/plain": [
       "Epoch 95/100 [Val]:   0%|          | 0/88 [00:00<?, ?it/s]"
      ]
     },
     "metadata": {},
     "output_type": "display_data"
    },
    {
     "name": "stdout",
     "output_type": "stream",
     "text": [
      "AUC Calc Warn: Target scores need to be probabilities for multiclass roc_auc, i.e. they should sum up to 1.0 over classes\n",
      "Epoch 95: TrainLoss=0.0967, F1-W=0.8572, Acc=0.8573, AUC=0.0000\n"
     ]
    },
    {
     "data": {
      "application/vnd.jupyter.widget-view+json": {
       "model_id": "ccebdaf40a3f4339ae3c954aeae76860",
       "version_major": 2,
       "version_minor": 0
      },
      "text/plain": [
       "Epoch 96/100 [Train]:   0%|          | 0/176 [00:00<?, ?it/s]"
      ]
     },
     "metadata": {},
     "output_type": "display_data"
    },
    {
     "data": {
      "application/vnd.jupyter.widget-view+json": {
       "model_id": "86feb288e11c475b8c590d7f6982b756",
       "version_major": 2,
       "version_minor": 0
      },
      "text/plain": [
       "Epoch 96/100 [Val]:   0%|          | 0/88 [00:00<?, ?it/s]"
      ]
     },
     "metadata": {},
     "output_type": "display_data"
    },
    {
     "name": "stdout",
     "output_type": "stream",
     "text": [
      "AUC Calc Warn: Target scores need to be probabilities for multiclass roc_auc, i.e. they should sum up to 1.0 over classes\n",
      "Epoch 96: TrainLoss=0.0888, F1-W=0.8552, Acc=0.8552, AUC=0.0000\n"
     ]
    },
    {
     "data": {
      "application/vnd.jupyter.widget-view+json": {
       "model_id": "64d2e87e33c749f3988a2e0b90ed3b59",
       "version_major": 2,
       "version_minor": 0
      },
      "text/plain": [
       "Epoch 97/100 [Train]:   0%|          | 0/176 [00:00<?, ?it/s]"
      ]
     },
     "metadata": {},
     "output_type": "display_data"
    },
    {
     "data": {
      "application/vnd.jupyter.widget-view+json": {
       "model_id": "7d9b337ae199446c93085bbc5200fe8a",
       "version_major": 2,
       "version_minor": 0
      },
      "text/plain": [
       "Epoch 97/100 [Val]:   0%|          | 0/88 [00:00<?, ?it/s]"
      ]
     },
     "metadata": {},
     "output_type": "display_data"
    },
    {
     "name": "stdout",
     "output_type": "stream",
     "text": [
      "AUC Calc Warn: Target scores need to be probabilities for multiclass roc_auc, i.e. they should sum up to 1.0 over classes\n",
      "Epoch 97: TrainLoss=0.0834, F1-W=0.8554, Acc=0.8555, AUC=0.0000\n"
     ]
    },
    {
     "data": {
      "application/vnd.jupyter.widget-view+json": {
       "model_id": "aa8577aeec3a43dc8397d7a05d5041e5",
       "version_major": 2,
       "version_minor": 0
      },
      "text/plain": [
       "Epoch 98/100 [Train]:   0%|          | 0/176 [00:00<?, ?it/s]"
      ]
     },
     "metadata": {},
     "output_type": "display_data"
    },
    {
     "data": {
      "application/vnd.jupyter.widget-view+json": {
       "model_id": "9b53738a195b4d40b4b92c89a5d34e50",
       "version_major": 2,
       "version_minor": 0
      },
      "text/plain": [
       "Epoch 98/100 [Val]:   0%|          | 0/88 [00:00<?, ?it/s]"
      ]
     },
     "metadata": {},
     "output_type": "display_data"
    },
    {
     "name": "stdout",
     "output_type": "stream",
     "text": [
      "AUC Calc Warn: Target scores need to be probabilities for multiclass roc_auc, i.e. they should sum up to 1.0 over classes\n",
      "Epoch 98: TrainLoss=0.0848, F1-W=0.8570, Acc=0.8569, AUC=0.0000\n"
     ]
    },
    {
     "data": {
      "application/vnd.jupyter.widget-view+json": {
       "model_id": "7af8e227b19246cea340ea26a49bdda0",
       "version_major": 2,
       "version_minor": 0
      },
      "text/plain": [
       "Epoch 99/100 [Train]:   0%|          | 0/176 [00:00<?, ?it/s]"
      ]
     },
     "metadata": {},
     "output_type": "display_data"
    },
    {
     "data": {
      "application/vnd.jupyter.widget-view+json": {
       "model_id": "0336b56a1f794a76bce48c7d41933315",
       "version_major": 2,
       "version_minor": 0
      },
      "text/plain": [
       "Epoch 99/100 [Val]:   0%|          | 0/88 [00:00<?, ?it/s]"
      ]
     },
     "metadata": {},
     "output_type": "display_data"
    },
    {
     "name": "stdout",
     "output_type": "stream",
     "text": [
      "AUC Calc Warn: Target scores need to be probabilities for multiclass roc_auc, i.e. they should sum up to 1.0 over classes\n",
      "Epoch 99: TrainLoss=0.0855, F1-W=0.8531, Acc=0.8530, AUC=0.0000\n"
     ]
    },
    {
     "data": {
      "application/vnd.jupyter.widget-view+json": {
       "model_id": "50edb5e681ce4fcba68a877dfc6600f5",
       "version_major": 2,
       "version_minor": 0
      },
      "text/plain": [
       "Epoch 100/100 [Train]:   0%|          | 0/176 [00:00<?, ?it/s]"
      ]
     },
     "metadata": {},
     "output_type": "display_data"
    },
    {
     "data": {
      "application/vnd.jupyter.widget-view+json": {
       "model_id": "ac89f63a12294e658fd3a3cdbe13fbf6",
       "version_major": 2,
       "version_minor": 0
      },
      "text/plain": [
       "Epoch 100/100 [Val]:   0%|          | 0/88 [00:00<?, ?it/s]"
      ]
     },
     "metadata": {},
     "output_type": "display_data"
    },
    {
     "name": "stdout",
     "output_type": "stream",
     "text": [
      "AUC Calc Warn: Target scores need to be probabilities for multiclass roc_auc, i.e. they should sum up to 1.0 over classes\n",
      "Epoch 100: TrainLoss=0.0940, F1-W=0.8568, Acc=0.8569, AUC=0.0000\n",
      "\n",
      "Finished Training for EfficientNetB0_data_50percent. Best F1-W: 0.8591 at Epoch 30\n",
      "==> Results with 50.0% data: Best F1-Weighted = 0.8591\n",
      "\n",
      "--- Training with 100.0% of labeled data ---\n",
      "Train dataset subset size: 11240\n",
      "Adapting EfficientNetB0 pretrained weights from 3 to 1 channels.\n",
      "\n",
      "Starting training for EfficientNetB0_data_100percent...\n"
     ]
    },
    {
     "name": "stderr",
     "output_type": "stream",
     "text": [
      "C:\\Users\\PC\\anaconda3\\envs\\train_env\\lib\\site-packages\\torch\\optim\\lr_scheduler.py:62: UserWarning: The verbose parameter is deprecated. Please use get_last_lr() to access the learning rate.\n",
      "  warnings.warn(\n"
     ]
    },
    {
     "data": {
      "application/vnd.jupyter.widget-view+json": {
       "model_id": "f51963747f884ef684c568ddd17aab3d",
       "version_major": 2,
       "version_minor": 0
      },
      "text/plain": [
       "Epoch 1/100 [Train]:   0%|          | 0/352 [00:00<?, ?it/s]"
      ]
     },
     "metadata": {},
     "output_type": "display_data"
    },
    {
     "data": {
      "application/vnd.jupyter.widget-view+json": {
       "model_id": "7a424c058a91468eb1944790cb3d4ff8",
       "version_major": 2,
       "version_minor": 0
      },
      "text/plain": [
       "Epoch 1/100 [Val]:   0%|          | 0/88 [00:00<?, ?it/s]"
      ]
     },
     "metadata": {},
     "output_type": "display_data"
    },
    {
     "name": "stdout",
     "output_type": "stream",
     "text": [
      "AUC Calc Warn: Target scores need to be probabilities for multiclass roc_auc, i.e. they should sum up to 1.0 over classes\n",
      "Epoch 1: TrainLoss=1.1153, F1-W=0.7196, Acc=0.7221, AUC=0.0000\n",
      "  -> New best F1-W: 0.7196. Saving artifacts.\n"
     ]
    },
    {
     "data": {
      "application/vnd.jupyter.widget-view+json": {
       "model_id": "c293631bfab04c988d80f100bd1f9302",
       "version_major": 2,
       "version_minor": 0
      },
      "text/plain": [
       "Epoch 2/100 [Train]:   0%|          | 0/352 [00:00<?, ?it/s]"
      ]
     },
     "metadata": {},
     "output_type": "display_data"
    },
    {
     "data": {
      "application/vnd.jupyter.widget-view+json": {
       "model_id": "c347cd1d89ba46ec9e0fbbcb0447d2aa",
       "version_major": 2,
       "version_minor": 0
      },
      "text/plain": [
       "Epoch 2/100 [Val]:   0%|          | 0/88 [00:00<?, ?it/s]"
      ]
     },
     "metadata": {},
     "output_type": "display_data"
    },
    {
     "name": "stdout",
     "output_type": "stream",
     "text": [
      "AUC Calc Warn: Target scores need to be probabilities for multiclass roc_auc, i.e. they should sum up to 1.0 over classes\n",
      "Epoch 2: TrainLoss=0.7267, F1-W=0.7660, Acc=0.7673, AUC=0.0000\n",
      "  -> New best F1-W: 0.7660. Saving artifacts.\n"
     ]
    },
    {
     "data": {
      "application/vnd.jupyter.widget-view+json": {
       "model_id": "69b7e64c68f34f4d851587a151faf53a",
       "version_major": 2,
       "version_minor": 0
      },
      "text/plain": [
       "Epoch 3/100 [Train]:   0%|          | 0/352 [00:00<?, ?it/s]"
      ]
     },
     "metadata": {},
     "output_type": "display_data"
    },
    {
     "data": {
      "application/vnd.jupyter.widget-view+json": {
       "model_id": "292f489d366c4d21b389840888c71809",
       "version_major": 2,
       "version_minor": 0
      },
      "text/plain": [
       "Epoch 3/100 [Val]:   0%|          | 0/88 [00:00<?, ?it/s]"
      ]
     },
     "metadata": {},
     "output_type": "display_data"
    },
    {
     "name": "stdout",
     "output_type": "stream",
     "text": [
      "AUC Calc Warn: Target scores need to be probabilities for multiclass roc_auc, i.e. they should sum up to 1.0 over classes\n",
      "Epoch 3: TrainLoss=0.6144, F1-W=0.7949, Acc=0.7961, AUC=0.0000\n",
      "  -> New best F1-W: 0.7949. Saving artifacts.\n"
     ]
    },
    {
     "data": {
      "application/vnd.jupyter.widget-view+json": {
       "model_id": "2470670347724c51b4b8a299374354ef",
       "version_major": 2,
       "version_minor": 0
      },
      "text/plain": [
       "Epoch 4/100 [Train]:   0%|          | 0/352 [00:00<?, ?it/s]"
      ]
     },
     "metadata": {},
     "output_type": "display_data"
    },
    {
     "data": {
      "application/vnd.jupyter.widget-view+json": {
       "model_id": "0e85a22e751f4e288731442d540e7493",
       "version_major": 2,
       "version_minor": 0
      },
      "text/plain": [
       "Epoch 4/100 [Val]:   0%|          | 0/88 [00:00<?, ?it/s]"
      ]
     },
     "metadata": {},
     "output_type": "display_data"
    },
    {
     "name": "stdout",
     "output_type": "stream",
     "text": [
      "AUC Calc Warn: Target scores need to be probabilities for multiclass roc_auc, i.e. they should sum up to 1.0 over classes\n",
      "Epoch 4: TrainLoss=0.5429, F1-W=0.8212, Acc=0.8210, AUC=0.0000\n",
      "  -> New best F1-W: 0.8212. Saving artifacts.\n"
     ]
    },
    {
     "data": {
      "application/vnd.jupyter.widget-view+json": {
       "model_id": "90bc7c9e509c444c885c60623083c92b",
       "version_major": 2,
       "version_minor": 0
      },
      "text/plain": [
       "Epoch 5/100 [Train]:   0%|          | 0/352 [00:00<?, ?it/s]"
      ]
     },
     "metadata": {},
     "output_type": "display_data"
    },
    {
     "data": {
      "application/vnd.jupyter.widget-view+json": {
       "model_id": "79ff887f86c5494ea2ee25e1b73fccd9",
       "version_major": 2,
       "version_minor": 0
      },
      "text/plain": [
       "Epoch 5/100 [Val]:   0%|          | 0/88 [00:00<?, ?it/s]"
      ]
     },
     "metadata": {},
     "output_type": "display_data"
    },
    {
     "name": "stdout",
     "output_type": "stream",
     "text": [
      "AUC Calc Warn: Target scores need to be probabilities for multiclass roc_auc, i.e. they should sum up to 1.0 over classes\n",
      "Epoch 5: TrainLoss=0.4893, F1-W=0.8262, Acc=0.8263, AUC=0.0000\n",
      "  -> New best F1-W: 0.8262. Saving artifacts.\n"
     ]
    },
    {
     "data": {
      "application/vnd.jupyter.widget-view+json": {
       "model_id": "411d4772742c41daa8ac52d7a848c270",
       "version_major": 2,
       "version_minor": 0
      },
      "text/plain": [
       "Epoch 6/100 [Train]:   0%|          | 0/352 [00:00<?, ?it/s]"
      ]
     },
     "metadata": {},
     "output_type": "display_data"
    },
    {
     "data": {
      "application/vnd.jupyter.widget-view+json": {
       "model_id": "92f721f2d9fb49e1afe25aae93ad3f3a",
       "version_major": 2,
       "version_minor": 0
      },
      "text/plain": [
       "Epoch 6/100 [Val]:   0%|          | 0/88 [00:00<?, ?it/s]"
      ]
     },
     "metadata": {},
     "output_type": "display_data"
    },
    {
     "name": "stdout",
     "output_type": "stream",
     "text": [
      "AUC Calc Warn: Target scores need to be probabilities for multiclass roc_auc, i.e. they should sum up to 1.0 over classes\n",
      "Epoch 6: TrainLoss=0.4437, F1-W=0.8408, Acc=0.8409, AUC=0.0000\n",
      "  -> New best F1-W: 0.8408. Saving artifacts.\n"
     ]
    },
    {
     "data": {
      "application/vnd.jupyter.widget-view+json": {
       "model_id": "1426e8f844bf4c9fa91e42ff55260a18",
       "version_major": 2,
       "version_minor": 0
      },
      "text/plain": [
       "Epoch 7/100 [Train]:   0%|          | 0/352 [00:00<?, ?it/s]"
      ]
     },
     "metadata": {},
     "output_type": "display_data"
    },
    {
     "data": {
      "application/vnd.jupyter.widget-view+json": {
       "model_id": "b4d97541d4b041928c4f586c1a5d23a7",
       "version_major": 2,
       "version_minor": 0
      },
      "text/plain": [
       "Epoch 7/100 [Val]:   0%|          | 0/88 [00:00<?, ?it/s]"
      ]
     },
     "metadata": {},
     "output_type": "display_data"
    },
    {
     "name": "stdout",
     "output_type": "stream",
     "text": [
      "AUC Calc Warn: Target scores need to be probabilities for multiclass roc_auc, i.e. they should sum up to 1.0 over classes\n",
      "Epoch 7: TrainLoss=0.4147, F1-W=0.8535, Acc=0.8534, AUC=0.0000\n",
      "  -> New best F1-W: 0.8535. Saving artifacts.\n"
     ]
    },
    {
     "data": {
      "application/vnd.jupyter.widget-view+json": {
       "model_id": "dd6cb2c537134ba089ee6abcc857b444",
       "version_major": 2,
       "version_minor": 0
      },
      "text/plain": [
       "Epoch 8/100 [Train]:   0%|          | 0/352 [00:00<?, ?it/s]"
      ]
     },
     "metadata": {},
     "output_type": "display_data"
    },
    {
     "data": {
      "application/vnd.jupyter.widget-view+json": {
       "model_id": "c99bc6e9b7ce4bf9a47bf2660d8e7984",
       "version_major": 2,
       "version_minor": 0
      },
      "text/plain": [
       "Epoch 8/100 [Val]:   0%|          | 0/88 [00:00<?, ?it/s]"
      ]
     },
     "metadata": {},
     "output_type": "display_data"
    },
    {
     "name": "stdout",
     "output_type": "stream",
     "text": [
      "AUC Calc Warn: Target scores need to be probabilities for multiclass roc_auc, i.e. they should sum up to 1.0 over classes\n",
      "Epoch 8: TrainLoss=0.3740, F1-W=0.8551, Acc=0.8552, AUC=0.0000\n",
      "  -> New best F1-W: 0.8551. Saving artifacts.\n"
     ]
    },
    {
     "data": {
      "application/vnd.jupyter.widget-view+json": {
       "model_id": "8364b21ba2a447528d0b4a0f673a0a91",
       "version_major": 2,
       "version_minor": 0
      },
      "text/plain": [
       "Epoch 9/100 [Train]:   0%|          | 0/352 [00:00<?, ?it/s]"
      ]
     },
     "metadata": {},
     "output_type": "display_data"
    },
    {
     "data": {
      "application/vnd.jupyter.widget-view+json": {
       "model_id": "fb82759ffdfb4fbcad8a69106ab898ad",
       "version_major": 2,
       "version_minor": 0
      },
      "text/plain": [
       "Epoch 9/100 [Val]:   0%|          | 0/88 [00:00<?, ?it/s]"
      ]
     },
     "metadata": {},
     "output_type": "display_data"
    },
    {
     "name": "stdout",
     "output_type": "stream",
     "text": [
      "AUC Calc Warn: Target scores need to be probabilities for multiclass roc_auc, i.e. they should sum up to 1.0 over classes\n",
      "Epoch 9: TrainLoss=0.3514, F1-W=0.8595, Acc=0.8594, AUC=0.0000\n",
      "  -> New best F1-W: 0.8595. Saving artifacts.\n"
     ]
    },
    {
     "data": {
      "application/vnd.jupyter.widget-view+json": {
       "model_id": "d93f1c32be7d4e85992d09c810df3046",
       "version_major": 2,
       "version_minor": 0
      },
      "text/plain": [
       "Epoch 10/100 [Train]:   0%|          | 0/352 [00:00<?, ?it/s]"
      ]
     },
     "metadata": {},
     "output_type": "display_data"
    },
    {
     "data": {
      "application/vnd.jupyter.widget-view+json": {
       "model_id": "d217e3d17f5147d1b2f2310babf0b518",
       "version_major": 2,
       "version_minor": 0
      },
      "text/plain": [
       "Epoch 10/100 [Val]:   0%|          | 0/88 [00:00<?, ?it/s]"
      ]
     },
     "metadata": {},
     "output_type": "display_data"
    },
    {
     "name": "stdout",
     "output_type": "stream",
     "text": [
      "AUC Calc Warn: Target scores need to be probabilities for multiclass roc_auc, i.e. they should sum up to 1.0 over classes\n",
      "Epoch 10: TrainLoss=0.3174, F1-W=0.8701, Acc=0.8701, AUC=0.0000\n",
      "  -> New best F1-W: 0.8701. Saving artifacts.\n"
     ]
    },
    {
     "data": {
      "application/vnd.jupyter.widget-view+json": {
       "model_id": "66d846d3a0e64198b6dd11647563f251",
       "version_major": 2,
       "version_minor": 0
      },
      "text/plain": [
       "Epoch 11/100 [Train]:   0%|          | 0/352 [00:00<?, ?it/s]"
      ]
     },
     "metadata": {},
     "output_type": "display_data"
    },
    {
     "data": {
      "application/vnd.jupyter.widget-view+json": {
       "model_id": "f4e0fbda517446ed89116ef1d1e87a83",
       "version_major": 2,
       "version_minor": 0
      },
      "text/plain": [
       "Epoch 11/100 [Val]:   0%|          | 0/88 [00:00<?, ?it/s]"
      ]
     },
     "metadata": {},
     "output_type": "display_data"
    },
    {
     "name": "stdout",
     "output_type": "stream",
     "text": [
      "AUC Calc Warn: Target scores need to be probabilities for multiclass roc_auc, i.e. they should sum up to 1.0 over classes\n",
      "Epoch 11: TrainLoss=0.2894, F1-W=0.8788, Acc=0.8786, AUC=0.0000\n",
      "  -> New best F1-W: 0.8788. Saving artifacts.\n"
     ]
    },
    {
     "data": {
      "application/vnd.jupyter.widget-view+json": {
       "model_id": "9c67f728c7ad4fcc9519a76d9f3dda3a",
       "version_major": 2,
       "version_minor": 0
      },
      "text/plain": [
       "Epoch 12/100 [Train]:   0%|          | 0/352 [00:00<?, ?it/s]"
      ]
     },
     "metadata": {},
     "output_type": "display_data"
    },
    {
     "data": {
      "application/vnd.jupyter.widget-view+json": {
       "model_id": "417e55748fc84f30b05d995ce4a9691e",
       "version_major": 2,
       "version_minor": 0
      },
      "text/plain": [
       "Epoch 12/100 [Val]:   0%|          | 0/88 [00:00<?, ?it/s]"
      ]
     },
     "metadata": {},
     "output_type": "display_data"
    },
    {
     "name": "stdout",
     "output_type": "stream",
     "text": [
      "AUC Calc Warn: Target scores need to be probabilities for multiclass roc_auc, i.e. they should sum up to 1.0 over classes\n",
      "Epoch 12: TrainLoss=0.2833, F1-W=0.8802, Acc=0.8801, AUC=0.0000\n",
      "  -> New best F1-W: 0.8802. Saving artifacts.\n"
     ]
    },
    {
     "data": {
      "application/vnd.jupyter.widget-view+json": {
       "model_id": "6c924adb27e74459af6a31b75af98533",
       "version_major": 2,
       "version_minor": 0
      },
      "text/plain": [
       "Epoch 13/100 [Train]:   0%|          | 0/352 [00:00<?, ?it/s]"
      ]
     },
     "metadata": {},
     "output_type": "display_data"
    },
    {
     "data": {
      "application/vnd.jupyter.widget-view+json": {
       "model_id": "592ae2dfff204ce5b7602bbd64835bf0",
       "version_major": 2,
       "version_minor": 0
      },
      "text/plain": [
       "Epoch 13/100 [Val]:   0%|          | 0/88 [00:00<?, ?it/s]"
      ]
     },
     "metadata": {},
     "output_type": "display_data"
    },
    {
     "name": "stdout",
     "output_type": "stream",
     "text": [
      "AUC Calc Warn: Target scores need to be probabilities for multiclass roc_auc, i.e. they should sum up to 1.0 over classes\n",
      "Epoch 13: TrainLoss=0.2471, F1-W=0.8770, Acc=0.8772, AUC=0.0000\n"
     ]
    },
    {
     "data": {
      "application/vnd.jupyter.widget-view+json": {
       "model_id": "2f94235c19434426aa664e0e028ddfce",
       "version_major": 2,
       "version_minor": 0
      },
      "text/plain": [
       "Epoch 14/100 [Train]:   0%|          | 0/352 [00:00<?, ?it/s]"
      ]
     },
     "metadata": {},
     "output_type": "display_data"
    },
    {
     "data": {
      "application/vnd.jupyter.widget-view+json": {
       "model_id": "62cc8f2d3745437c85ddab3f6c05ed32",
       "version_major": 2,
       "version_minor": 0
      },
      "text/plain": [
       "Epoch 14/100 [Val]:   0%|          | 0/88 [00:00<?, ?it/s]"
      ]
     },
     "metadata": {},
     "output_type": "display_data"
    },
    {
     "name": "stdout",
     "output_type": "stream",
     "text": [
      "AUC Calc Warn: Target scores need to be probabilities for multiclass roc_auc, i.e. they should sum up to 1.0 over classes\n",
      "Epoch 14: TrainLoss=0.2376, F1-W=0.8860, Acc=0.8861, AUC=0.0000\n",
      "  -> New best F1-W: 0.8860. Saving artifacts.\n"
     ]
    },
    {
     "data": {
      "application/vnd.jupyter.widget-view+json": {
       "model_id": "d7a9e0ba6eea4d2980a22cd11e1e0b7f",
       "version_major": 2,
       "version_minor": 0
      },
      "text/plain": [
       "Epoch 15/100 [Train]:   0%|          | 0/352 [00:00<?, ?it/s]"
      ]
     },
     "metadata": {},
     "output_type": "display_data"
    },
    {
     "data": {
      "application/vnd.jupyter.widget-view+json": {
       "model_id": "a06d0ca4ae0841669df2b5c949cdbc1f",
       "version_major": 2,
       "version_minor": 0
      },
      "text/plain": [
       "Epoch 15/100 [Val]:   0%|          | 0/88 [00:00<?, ?it/s]"
      ]
     },
     "metadata": {},
     "output_type": "display_data"
    },
    {
     "name": "stdout",
     "output_type": "stream",
     "text": [
      "AUC Calc Warn: Target scores need to be probabilities for multiclass roc_auc, i.e. they should sum up to 1.0 over classes\n",
      "Epoch 15: TrainLoss=0.2251, F1-W=0.8836, Acc=0.8840, AUC=0.0000\n"
     ]
    },
    {
     "data": {
      "application/vnd.jupyter.widget-view+json": {
       "model_id": "351e84de0bc94530a671160693b6b850",
       "version_major": 2,
       "version_minor": 0
      },
      "text/plain": [
       "Epoch 16/100 [Train]:   0%|          | 0/352 [00:00<?, ?it/s]"
      ]
     },
     "metadata": {},
     "output_type": "display_data"
    },
    {
     "data": {
      "application/vnd.jupyter.widget-view+json": {
       "model_id": "359479367273428fb2af2a4a8d4d0f28",
       "version_major": 2,
       "version_minor": 0
      },
      "text/plain": [
       "Epoch 16/100 [Val]:   0%|          | 0/88 [00:00<?, ?it/s]"
      ]
     },
     "metadata": {},
     "output_type": "display_data"
    },
    {
     "name": "stdout",
     "output_type": "stream",
     "text": [
      "AUC Calc Warn: Target scores need to be probabilities for multiclass roc_auc, i.e. they should sum up to 1.0 over classes\n",
      "Epoch 16: TrainLoss=0.2136, F1-W=0.8868, Acc=0.8868, AUC=0.0000\n",
      "  -> New best F1-W: 0.8868. Saving artifacts.\n"
     ]
    },
    {
     "data": {
      "application/vnd.jupyter.widget-view+json": {
       "model_id": "89682edfab4c4adc955b2402b3fa7816",
       "version_major": 2,
       "version_minor": 0
      },
      "text/plain": [
       "Epoch 17/100 [Train]:   0%|          | 0/352 [00:00<?, ?it/s]"
      ]
     },
     "metadata": {},
     "output_type": "display_data"
    },
    {
     "data": {
      "application/vnd.jupyter.widget-view+json": {
       "model_id": "d2a3d66caee94df8924ebc509bb2b8cd",
       "version_major": 2,
       "version_minor": 0
      },
      "text/plain": [
       "Epoch 17/100 [Val]:   0%|          | 0/88 [00:00<?, ?it/s]"
      ]
     },
     "metadata": {},
     "output_type": "display_data"
    },
    {
     "name": "stdout",
     "output_type": "stream",
     "text": [
      "AUC Calc Warn: Target scores need to be probabilities for multiclass roc_auc, i.e. they should sum up to 1.0 over classes\n",
      "Epoch 17: TrainLoss=0.1915, F1-W=0.8892, Acc=0.8890, AUC=0.0000\n",
      "  -> New best F1-W: 0.8892. Saving artifacts.\n"
     ]
    },
    {
     "data": {
      "application/vnd.jupyter.widget-view+json": {
       "model_id": "7a2d05ba719c47f9a996acae2887508e",
       "version_major": 2,
       "version_minor": 0
      },
      "text/plain": [
       "Epoch 18/100 [Train]:   0%|          | 0/352 [00:00<?, ?it/s]"
      ]
     },
     "metadata": {},
     "output_type": "display_data"
    },
    {
     "data": {
      "application/vnd.jupyter.widget-view+json": {
       "model_id": "30e280f14e9c4e6d8b36b3d156efff2f",
       "version_major": 2,
       "version_minor": 0
      },
      "text/plain": [
       "Epoch 18/100 [Val]:   0%|          | 0/88 [00:00<?, ?it/s]"
      ]
     },
     "metadata": {},
     "output_type": "display_data"
    },
    {
     "name": "stdout",
     "output_type": "stream",
     "text": [
      "AUC Calc Warn: Target scores need to be probabilities for multiclass roc_auc, i.e. they should sum up to 1.0 over classes\n",
      "Epoch 18: TrainLoss=0.1807, F1-W=0.8880, Acc=0.8879, AUC=0.0000\n"
     ]
    },
    {
     "data": {
      "application/vnd.jupyter.widget-view+json": {
       "model_id": "53bd7aa7c5a0487484b70fed5e03431a",
       "version_major": 2,
       "version_minor": 0
      },
      "text/plain": [
       "Epoch 19/100 [Train]:   0%|          | 0/352 [00:00<?, ?it/s]"
      ]
     },
     "metadata": {},
     "output_type": "display_data"
    },
    {
     "data": {
      "application/vnd.jupyter.widget-view+json": {
       "model_id": "0d3ce6f1ce5946009f4b114df944ceb2",
       "version_major": 2,
       "version_minor": 0
      },
      "text/plain": [
       "Epoch 19/100 [Val]:   0%|          | 0/88 [00:00<?, ?it/s]"
      ]
     },
     "metadata": {},
     "output_type": "display_data"
    },
    {
     "name": "stdout",
     "output_type": "stream",
     "text": [
      "AUC Calc Warn: Target scores need to be probabilities for multiclass roc_auc, i.e. they should sum up to 1.0 over classes\n",
      "Epoch 19: TrainLoss=0.1662, F1-W=0.8861, Acc=0.8858, AUC=0.0000\n"
     ]
    },
    {
     "data": {
      "application/vnd.jupyter.widget-view+json": {
       "model_id": "5a08c5b7ae1b42b4b1558cda95c4302b",
       "version_major": 2,
       "version_minor": 0
      },
      "text/plain": [
       "Epoch 20/100 [Train]:   0%|          | 0/352 [00:00<?, ?it/s]"
      ]
     },
     "metadata": {},
     "output_type": "display_data"
    },
    {
     "data": {
      "application/vnd.jupyter.widget-view+json": {
       "model_id": "e3f183f2a0724aa39f0a2354b3ba4edc",
       "version_major": 2,
       "version_minor": 0
      },
      "text/plain": [
       "Epoch 20/100 [Val]:   0%|          | 0/88 [00:00<?, ?it/s]"
      ]
     },
     "metadata": {},
     "output_type": "display_data"
    },
    {
     "name": "stdout",
     "output_type": "stream",
     "text": [
      "AUC Calc Warn: Target scores need to be probabilities for multiclass roc_auc, i.e. they should sum up to 1.0 over classes\n",
      "Epoch 20: TrainLoss=0.1636, F1-W=0.8828, Acc=0.8829, AUC=0.0000\n"
     ]
    },
    {
     "data": {
      "application/vnd.jupyter.widget-view+json": {
       "model_id": "2308dfb018bf40c09a4f46ea5d6080d7",
       "version_major": 2,
       "version_minor": 0
      },
      "text/plain": [
       "Epoch 21/100 [Train]:   0%|          | 0/352 [00:00<?, ?it/s]"
      ]
     },
     "metadata": {},
     "output_type": "display_data"
    },
    {
     "data": {
      "application/vnd.jupyter.widget-view+json": {
       "model_id": "0f051f94d61d4716a18ccf027d9a0ea0",
       "version_major": 2,
       "version_minor": 0
      },
      "text/plain": [
       "Epoch 21/100 [Val]:   0%|          | 0/88 [00:00<?, ?it/s]"
      ]
     },
     "metadata": {},
     "output_type": "display_data"
    },
    {
     "name": "stdout",
     "output_type": "stream",
     "text": [
      "AUC Calc Warn: Target scores need to be probabilities for multiclass roc_auc, i.e. they should sum up to 1.0 over classes\n",
      "Epoch 21: TrainLoss=0.1583, F1-W=0.8925, Acc=0.8925, AUC=0.0000\n",
      "  -> New best F1-W: 0.8925. Saving artifacts.\n"
     ]
    },
    {
     "data": {
      "application/vnd.jupyter.widget-view+json": {
       "model_id": "d247f747bece4356919f7f0f2862d86d",
       "version_major": 2,
       "version_minor": 0
      },
      "text/plain": [
       "Epoch 22/100 [Train]:   0%|          | 0/352 [00:00<?, ?it/s]"
      ]
     },
     "metadata": {},
     "output_type": "display_data"
    },
    {
     "data": {
      "application/vnd.jupyter.widget-view+json": {
       "model_id": "f4458ffff97d4d3b9b8e0931172b2858",
       "version_major": 2,
       "version_minor": 0
      },
      "text/plain": [
       "Epoch 22/100 [Val]:   0%|          | 0/88 [00:00<?, ?it/s]"
      ]
     },
     "metadata": {},
     "output_type": "display_data"
    },
    {
     "name": "stdout",
     "output_type": "stream",
     "text": [
      "AUC Calc Warn: Target scores need to be probabilities for multiclass roc_auc, i.e. they should sum up to 1.0 over classes\n",
      "Epoch 22: TrainLoss=0.1490, F1-W=0.8953, Acc=0.8954, AUC=0.0000\n",
      "  -> New best F1-W: 0.8953. Saving artifacts.\n"
     ]
    },
    {
     "data": {
      "application/vnd.jupyter.widget-view+json": {
       "model_id": "71c9f4ffee454750a5b2308a7e6f3a8e",
       "version_major": 2,
       "version_minor": 0
      },
      "text/plain": [
       "Epoch 23/100 [Train]:   0%|          | 0/352 [00:00<?, ?it/s]"
      ]
     },
     "metadata": {},
     "output_type": "display_data"
    },
    {
     "data": {
      "application/vnd.jupyter.widget-view+json": {
       "model_id": "6723b6f4ad3e41c394d0491f436c86a7",
       "version_major": 2,
       "version_minor": 0
      },
      "text/plain": [
       "Epoch 23/100 [Val]:   0%|          | 0/88 [00:00<?, ?it/s]"
      ]
     },
     "metadata": {},
     "output_type": "display_data"
    },
    {
     "name": "stdout",
     "output_type": "stream",
     "text": [
      "AUC Calc Warn: Target scores need to be probabilities for multiclass roc_auc, i.e. they should sum up to 1.0 over classes\n",
      "Epoch 23: TrainLoss=0.1463, F1-W=0.8942, Acc=0.8943, AUC=0.0000\n"
     ]
    },
    {
     "data": {
      "application/vnd.jupyter.widget-view+json": {
       "model_id": "24c3e5429e3642a48f5dda31d9c30af3",
       "version_major": 2,
       "version_minor": 0
      },
      "text/plain": [
       "Epoch 24/100 [Train]:   0%|          | 0/352 [00:00<?, ?it/s]"
      ]
     },
     "metadata": {},
     "output_type": "display_data"
    },
    {
     "data": {
      "application/vnd.jupyter.widget-view+json": {
       "model_id": "eba68ae4ad594632a67ff44d1d9339fc",
       "version_major": 2,
       "version_minor": 0
      },
      "text/plain": [
       "Epoch 24/100 [Val]:   0%|          | 0/88 [00:00<?, ?it/s]"
      ]
     },
     "metadata": {},
     "output_type": "display_data"
    },
    {
     "name": "stdout",
     "output_type": "stream",
     "text": [
      "AUC Calc Warn: Target scores need to be probabilities for multiclass roc_auc, i.e. they should sum up to 1.0 over classes\n",
      "Epoch 24: TrainLoss=0.1348, F1-W=0.8925, Acc=0.8925, AUC=0.0000\n"
     ]
    },
    {
     "data": {
      "application/vnd.jupyter.widget-view+json": {
       "model_id": "49110f721b614d3994d50264f494a021",
       "version_major": 2,
       "version_minor": 0
      },
      "text/plain": [
       "Epoch 25/100 [Train]:   0%|          | 0/352 [00:00<?, ?it/s]"
      ]
     },
     "metadata": {},
     "output_type": "display_data"
    },
    {
     "data": {
      "application/vnd.jupyter.widget-view+json": {
       "model_id": "d471350082f948c3abbeb3f925a460ce",
       "version_major": 2,
       "version_minor": 0
      },
      "text/plain": [
       "Epoch 25/100 [Val]:   0%|          | 0/88 [00:00<?, ?it/s]"
      ]
     },
     "metadata": {},
     "output_type": "display_data"
    },
    {
     "name": "stdout",
     "output_type": "stream",
     "text": [
      "AUC Calc Warn: Target scores need to be probabilities for multiclass roc_auc, i.e. they should sum up to 1.0 over classes\n",
      "Epoch 25: TrainLoss=0.1360, F1-W=0.8882, Acc=0.8883, AUC=0.0000\n"
     ]
    },
    {
     "data": {
      "application/vnd.jupyter.widget-view+json": {
       "model_id": "42fa4182f0494c8db74b10b2a57a7a76",
       "version_major": 2,
       "version_minor": 0
      },
      "text/plain": [
       "Epoch 26/100 [Train]:   0%|          | 0/352 [00:00<?, ?it/s]"
      ]
     },
     "metadata": {},
     "output_type": "display_data"
    },
    {
     "data": {
      "application/vnd.jupyter.widget-view+json": {
       "model_id": "8816464d94cd4d718018f474b596006b",
       "version_major": 2,
       "version_minor": 0
      },
      "text/plain": [
       "Epoch 26/100 [Val]:   0%|          | 0/88 [00:00<?, ?it/s]"
      ]
     },
     "metadata": {},
     "output_type": "display_data"
    },
    {
     "name": "stdout",
     "output_type": "stream",
     "text": [
      "AUC Calc Warn: Target scores need to be probabilities for multiclass roc_auc, i.e. they should sum up to 1.0 over classes\n",
      "Epoch 26: TrainLoss=0.1250, F1-W=0.8942, Acc=0.8943, AUC=0.0000\n"
     ]
    },
    {
     "data": {
      "application/vnd.jupyter.widget-view+json": {
       "model_id": "f91f0c46b3784e44b1873f00eccd87ce",
       "version_major": 2,
       "version_minor": 0
      },
      "text/plain": [
       "Epoch 27/100 [Train]:   0%|          | 0/352 [00:00<?, ?it/s]"
      ]
     },
     "metadata": {},
     "output_type": "display_data"
    },
    {
     "data": {
      "application/vnd.jupyter.widget-view+json": {
       "model_id": "c1e2421545ba4f7fb5bb26d9f57dbcc8",
       "version_major": 2,
       "version_minor": 0
      },
      "text/plain": [
       "Epoch 27/100 [Val]:   0%|          | 0/88 [00:00<?, ?it/s]"
      ]
     },
     "metadata": {},
     "output_type": "display_data"
    },
    {
     "name": "stdout",
     "output_type": "stream",
     "text": [
      "AUC Calc Warn: Target scores need to be probabilities for multiclass roc_auc, i.e. they should sum up to 1.0 over classes\n",
      "Epoch 27: TrainLoss=0.1261, F1-W=0.8984, Acc=0.8986, AUC=0.0000\n",
      "  -> New best F1-W: 0.8984. Saving artifacts.\n"
     ]
    },
    {
     "data": {
      "application/vnd.jupyter.widget-view+json": {
       "model_id": "3df28075f821403ab9ce51c83899ccea",
       "version_major": 2,
       "version_minor": 0
      },
      "text/plain": [
       "Epoch 28/100 [Train]:   0%|          | 0/352 [00:00<?, ?it/s]"
      ]
     },
     "metadata": {},
     "output_type": "display_data"
    },
    {
     "data": {
      "application/vnd.jupyter.widget-view+json": {
       "model_id": "2059a7948ece4f68a42f4d698aceb1ed",
       "version_major": 2,
       "version_minor": 0
      },
      "text/plain": [
       "Epoch 28/100 [Val]:   0%|          | 0/88 [00:00<?, ?it/s]"
      ]
     },
     "metadata": {},
     "output_type": "display_data"
    },
    {
     "name": "stdout",
     "output_type": "stream",
     "text": [
      "AUC Calc Warn: Target scores need to be probabilities for multiclass roc_auc, i.e. they should sum up to 1.0 over classes\n",
      "Epoch 28: TrainLoss=0.1183, F1-W=0.9002, Acc=0.9004, AUC=0.0000\n",
      "  -> New best F1-W: 0.9002. Saving artifacts.\n"
     ]
    },
    {
     "data": {
      "application/vnd.jupyter.widget-view+json": {
       "model_id": "1c94ad4a3d1749a48fb3544b498ccf81",
       "version_major": 2,
       "version_minor": 0
      },
      "text/plain": [
       "Epoch 29/100 [Train]:   0%|          | 0/352 [00:00<?, ?it/s]"
      ]
     },
     "metadata": {},
     "output_type": "display_data"
    },
    {
     "data": {
      "application/vnd.jupyter.widget-view+json": {
       "model_id": "8c56cadf6e5b42b5aa9b76ba7965776c",
       "version_major": 2,
       "version_minor": 0
      },
      "text/plain": [
       "Epoch 29/100 [Val]:   0%|          | 0/88 [00:00<?, ?it/s]"
      ]
     },
     "metadata": {},
     "output_type": "display_data"
    },
    {
     "name": "stdout",
     "output_type": "stream",
     "text": [
      "AUC Calc Warn: Target scores need to be probabilities for multiclass roc_auc, i.e. they should sum up to 1.0 over classes\n",
      "Epoch 29: TrainLoss=0.1129, F1-W=0.9022, Acc=0.9021, AUC=0.0000\n",
      "  -> New best F1-W: 0.9022. Saving artifacts.\n"
     ]
    },
    {
     "data": {
      "application/vnd.jupyter.widget-view+json": {
       "model_id": "ac9745f5d36342c1a7a09271d1e96bda",
       "version_major": 2,
       "version_minor": 0
      },
      "text/plain": [
       "Epoch 30/100 [Train]:   0%|          | 0/352 [00:00<?, ?it/s]"
      ]
     },
     "metadata": {},
     "output_type": "display_data"
    },
    {
     "data": {
      "application/vnd.jupyter.widget-view+json": {
       "model_id": "d37673fed38841ebba1d3148ac6cd86a",
       "version_major": 2,
       "version_minor": 0
      },
      "text/plain": [
       "Epoch 30/100 [Val]:   0%|          | 0/88 [00:00<?, ?it/s]"
      ]
     },
     "metadata": {},
     "output_type": "display_data"
    },
    {
     "name": "stdout",
     "output_type": "stream",
     "text": [
      "AUC Calc Warn: Target scores need to be probabilities for multiclass roc_auc, i.e. they should sum up to 1.0 over classes\n",
      "Epoch 30: TrainLoss=0.1180, F1-W=0.8895, Acc=0.8897, AUC=0.0000\n"
     ]
    },
    {
     "data": {
      "application/vnd.jupyter.widget-view+json": {
       "model_id": "dd841cf9303b4f0fb8a29d6f246561ed",
       "version_major": 2,
       "version_minor": 0
      },
      "text/plain": [
       "Epoch 31/100 [Train]:   0%|          | 0/352 [00:00<?, ?it/s]"
      ]
     },
     "metadata": {},
     "output_type": "display_data"
    },
    {
     "data": {
      "application/vnd.jupyter.widget-view+json": {
       "model_id": "d9242011c33149bd88293bf135a448a9",
       "version_major": 2,
       "version_minor": 0
      },
      "text/plain": [
       "Epoch 31/100 [Val]:   0%|          | 0/88 [00:00<?, ?it/s]"
      ]
     },
     "metadata": {},
     "output_type": "display_data"
    },
    {
     "name": "stdout",
     "output_type": "stream",
     "text": [
      "AUC Calc Warn: Target scores need to be probabilities for multiclass roc_auc, i.e. they should sum up to 1.0 over classes\n",
      "Epoch 31: TrainLoss=0.1059, F1-W=0.8943, Acc=0.8943, AUC=0.0000\n"
     ]
    },
    {
     "data": {
      "application/vnd.jupyter.widget-view+json": {
       "model_id": "d8f6fdeb595545f1a489fb2c94c7e95c",
       "version_major": 2,
       "version_minor": 0
      },
      "text/plain": [
       "Epoch 32/100 [Train]:   0%|          | 0/352 [00:00<?, ?it/s]"
      ]
     },
     "metadata": {},
     "output_type": "display_data"
    },
    {
     "data": {
      "application/vnd.jupyter.widget-view+json": {
       "model_id": "47161b0729ea4e298d015e6f13a2af9f",
       "version_major": 2,
       "version_minor": 0
      },
      "text/plain": [
       "Epoch 32/100 [Val]:   0%|          | 0/88 [00:00<?, ?it/s]"
      ]
     },
     "metadata": {},
     "output_type": "display_data"
    },
    {
     "name": "stdout",
     "output_type": "stream",
     "text": [
      "AUC Calc Warn: Target scores need to be probabilities for multiclass roc_auc, i.e. they should sum up to 1.0 over classes\n",
      "Epoch 32: TrainLoss=0.0972, F1-W=0.8932, Acc=0.8932, AUC=0.0000\n"
     ]
    },
    {
     "data": {
      "application/vnd.jupyter.widget-view+json": {
       "model_id": "aee17d7ea5a847899e733fc4bb36a70c",
       "version_major": 2,
       "version_minor": 0
      },
      "text/plain": [
       "Epoch 33/100 [Train]:   0%|          | 0/352 [00:00<?, ?it/s]"
      ]
     },
     "metadata": {},
     "output_type": "display_data"
    },
    {
     "data": {
      "application/vnd.jupyter.widget-view+json": {
       "model_id": "49816c7e365b49aab5d711403cafc0aa",
       "version_major": 2,
       "version_minor": 0
      },
      "text/plain": [
       "Epoch 33/100 [Val]:   0%|          | 0/88 [00:00<?, ?it/s]"
      ]
     },
     "metadata": {},
     "output_type": "display_data"
    },
    {
     "name": "stdout",
     "output_type": "stream",
     "text": [
      "AUC Calc Warn: Target scores need to be probabilities for multiclass roc_auc, i.e. they should sum up to 1.0 over classes\n",
      "Epoch 33: TrainLoss=0.1031, F1-W=0.8964, Acc=0.8964, AUC=0.0000\n"
     ]
    },
    {
     "data": {
      "application/vnd.jupyter.widget-view+json": {
       "model_id": "889c5c74b46241798702949a47b62383",
       "version_major": 2,
       "version_minor": 0
      },
      "text/plain": [
       "Epoch 34/100 [Train]:   0%|          | 0/352 [00:00<?, ?it/s]"
      ]
     },
     "metadata": {},
     "output_type": "display_data"
    },
    {
     "data": {
      "application/vnd.jupyter.widget-view+json": {
       "model_id": "577896a9d7f0439485240266945ca6b3",
       "version_major": 2,
       "version_minor": 0
      },
      "text/plain": [
       "Epoch 34/100 [Val]:   0%|          | 0/88 [00:00<?, ?it/s]"
      ]
     },
     "metadata": {},
     "output_type": "display_data"
    },
    {
     "name": "stdout",
     "output_type": "stream",
     "text": [
      "AUC Calc Warn: Target scores need to be probabilities for multiclass roc_auc, i.e. they should sum up to 1.0 over classes\n",
      "Epoch 34: TrainLoss=0.1006, F1-W=0.9030, Acc=0.9028, AUC=0.0000\n",
      "  -> New best F1-W: 0.9030. Saving artifacts.\n"
     ]
    },
    {
     "data": {
      "application/vnd.jupyter.widget-view+json": {
       "model_id": "954d0aab9c814cae91b2ab2993e58ae4",
       "version_major": 2,
       "version_minor": 0
      },
      "text/plain": [
       "Epoch 35/100 [Train]:   0%|          | 0/352 [00:00<?, ?it/s]"
      ]
     },
     "metadata": {},
     "output_type": "display_data"
    },
    {
     "data": {
      "application/vnd.jupyter.widget-view+json": {
       "model_id": "dcd09ef2a5244cf99fe586a9160ea8b7",
       "version_major": 2,
       "version_minor": 0
      },
      "text/plain": [
       "Epoch 35/100 [Val]:   0%|          | 0/88 [00:00<?, ?it/s]"
      ]
     },
     "metadata": {},
     "output_type": "display_data"
    },
    {
     "name": "stdout",
     "output_type": "stream",
     "text": [
      "AUC Calc Warn: Target scores need to be probabilities for multiclass roc_auc, i.e. they should sum up to 1.0 over classes\n",
      "Epoch 35: TrainLoss=0.0910, F1-W=0.9006, Acc=0.9007, AUC=0.0000\n"
     ]
    },
    {
     "data": {
      "application/vnd.jupyter.widget-view+json": {
       "model_id": "ac5e422426df47818b149c15c014fcd1",
       "version_major": 2,
       "version_minor": 0
      },
      "text/plain": [
       "Epoch 36/100 [Train]:   0%|          | 0/352 [00:00<?, ?it/s]"
      ]
     },
     "metadata": {},
     "output_type": "display_data"
    },
    {
     "data": {
      "application/vnd.jupyter.widget-view+json": {
       "model_id": "2bfa8a0a958742c29ac14568617858a4",
       "version_major": 2,
       "version_minor": 0
      },
      "text/plain": [
       "Epoch 36/100 [Val]:   0%|          | 0/88 [00:00<?, ?it/s]"
      ]
     },
     "metadata": {},
     "output_type": "display_data"
    },
    {
     "name": "stdout",
     "output_type": "stream",
     "text": [
      "AUC Calc Warn: Target scores need to be probabilities for multiclass roc_auc, i.e. they should sum up to 1.0 over classes\n",
      "Epoch 36: TrainLoss=0.0889, F1-W=0.8970, Acc=0.8968, AUC=0.0000\n"
     ]
    },
    {
     "data": {
      "application/vnd.jupyter.widget-view+json": {
       "model_id": "8920224a64174039a508f1ee9b0a6ff8",
       "version_major": 2,
       "version_minor": 0
      },
      "text/plain": [
       "Epoch 37/100 [Train]:   0%|          | 0/352 [00:00<?, ?it/s]"
      ]
     },
     "metadata": {},
     "output_type": "display_data"
    },
    {
     "data": {
      "application/vnd.jupyter.widget-view+json": {
       "model_id": "3f199ef5477b45609edfbee8f168eec1",
       "version_major": 2,
       "version_minor": 0
      },
      "text/plain": [
       "Epoch 37/100 [Val]:   0%|          | 0/88 [00:00<?, ?it/s]"
      ]
     },
     "metadata": {},
     "output_type": "display_data"
    },
    {
     "name": "stdout",
     "output_type": "stream",
     "text": [
      "AUC Calc Warn: Target scores need to be probabilities for multiclass roc_auc, i.e. they should sum up to 1.0 over classes\n",
      "Epoch 37: TrainLoss=0.0900, F1-W=0.9018, Acc=0.9018, AUC=0.0000\n"
     ]
    },
    {
     "data": {
      "application/vnd.jupyter.widget-view+json": {
       "model_id": "3085a57f0da34251a4eae52b2d337ba3",
       "version_major": 2,
       "version_minor": 0
      },
      "text/plain": [
       "Epoch 38/100 [Train]:   0%|          | 0/352 [00:00<?, ?it/s]"
      ]
     },
     "metadata": {},
     "output_type": "display_data"
    },
    {
     "data": {
      "application/vnd.jupyter.widget-view+json": {
       "model_id": "76a6c2169b7e47b6881c38104429d7e9",
       "version_major": 2,
       "version_minor": 0
      },
      "text/plain": [
       "Epoch 38/100 [Val]:   0%|          | 0/88 [00:00<?, ?it/s]"
      ]
     },
     "metadata": {},
     "output_type": "display_data"
    },
    {
     "name": "stdout",
     "output_type": "stream",
     "text": [
      "AUC Calc Warn: Target scores need to be probabilities for multiclass roc_auc, i.e. they should sum up to 1.0 over classes\n",
      "Epoch 38: TrainLoss=0.0902, F1-W=0.9013, Acc=0.9014, AUC=0.0000\n"
     ]
    },
    {
     "data": {
      "application/vnd.jupyter.widget-view+json": {
       "model_id": "31f8c711182b405b86e8f6eb34472cf1",
       "version_major": 2,
       "version_minor": 0
      },
      "text/plain": [
       "Epoch 39/100 [Train]:   0%|          | 0/352 [00:00<?, ?it/s]"
      ]
     },
     "metadata": {},
     "output_type": "display_data"
    },
    {
     "data": {
      "application/vnd.jupyter.widget-view+json": {
       "model_id": "70e17fd71c384f9ab394cdd286a26214",
       "version_major": 2,
       "version_minor": 0
      },
      "text/plain": [
       "Epoch 39/100 [Val]:   0%|          | 0/88 [00:00<?, ?it/s]"
      ]
     },
     "metadata": {},
     "output_type": "display_data"
    },
    {
     "name": "stdout",
     "output_type": "stream",
     "text": [
      "AUC Calc Warn: Target scores need to be probabilities for multiclass roc_auc, i.e. they should sum up to 1.0 over classes\n",
      "Epoch 39: TrainLoss=0.0917, F1-W=0.8926, Acc=0.8929, AUC=0.0000\n"
     ]
    },
    {
     "data": {
      "application/vnd.jupyter.widget-view+json": {
       "model_id": "8b83b3d4819f45e8b5dd530a4d77cfd3",
       "version_major": 2,
       "version_minor": 0
      },
      "text/plain": [
       "Epoch 40/100 [Train]:   0%|          | 0/352 [00:00<?, ?it/s]"
      ]
     },
     "metadata": {},
     "output_type": "display_data"
    },
    {
     "data": {
      "application/vnd.jupyter.widget-view+json": {
       "model_id": "e475c2dda227427abcc62b02b5231238",
       "version_major": 2,
       "version_minor": 0
      },
      "text/plain": [
       "Epoch 40/100 [Val]:   0%|          | 0/88 [00:00<?, ?it/s]"
      ]
     },
     "metadata": {},
     "output_type": "display_data"
    },
    {
     "name": "stdout",
     "output_type": "stream",
     "text": [
      "AUC Calc Warn: Target scores need to be probabilities for multiclass roc_auc, i.e. they should sum up to 1.0 over classes\n",
      "Epoch 40: TrainLoss=0.0855, F1-W=0.8930, Acc=0.8929, AUC=0.0000\n"
     ]
    },
    {
     "data": {
      "application/vnd.jupyter.widget-view+json": {
       "model_id": "e70fb2d3a29742afa90d1a6f102143e6",
       "version_major": 2,
       "version_minor": 0
      },
      "text/plain": [
       "Epoch 41/100 [Train]:   0%|          | 0/352 [00:00<?, ?it/s]"
      ]
     },
     "metadata": {},
     "output_type": "display_data"
    },
    {
     "data": {
      "application/vnd.jupyter.widget-view+json": {
       "model_id": "072842194f1748f19611067a28cc0bc7",
       "version_major": 2,
       "version_minor": 0
      },
      "text/plain": [
       "Epoch 41/100 [Val]:   0%|          | 0/88 [00:00<?, ?it/s]"
      ]
     },
     "metadata": {},
     "output_type": "display_data"
    },
    {
     "name": "stdout",
     "output_type": "stream",
     "text": [
      "AUC Calc Warn: Target scores need to be probabilities for multiclass roc_auc, i.e. they should sum up to 1.0 over classes\n",
      "Epoch 41: TrainLoss=0.0710, F1-W=0.9035, Acc=0.9036, AUC=0.0000\n",
      "  -> New best F1-W: 0.9035. Saving artifacts.\n"
     ]
    },
    {
     "data": {
      "application/vnd.jupyter.widget-view+json": {
       "model_id": "a2654b0231034572b32487fe7af90b6f",
       "version_major": 2,
       "version_minor": 0
      },
      "text/plain": [
       "Epoch 42/100 [Train]:   0%|          | 0/352 [00:00<?, ?it/s]"
      ]
     },
     "metadata": {},
     "output_type": "display_data"
    },
    {
     "data": {
      "application/vnd.jupyter.widget-view+json": {
       "model_id": "75ab440635de40518e4e0a8fe3f00132",
       "version_major": 2,
       "version_minor": 0
      },
      "text/plain": [
       "Epoch 42/100 [Val]:   0%|          | 0/88 [00:00<?, ?it/s]"
      ]
     },
     "metadata": {},
     "output_type": "display_data"
    },
    {
     "name": "stdout",
     "output_type": "stream",
     "text": [
      "AUC Calc Warn: Target scores need to be probabilities for multiclass roc_auc, i.e. they should sum up to 1.0 over classes\n",
      "Epoch 42: TrainLoss=0.0577, F1-W=0.9072, Acc=0.9071, AUC=0.0000\n",
      "  -> New best F1-W: 0.9072. Saving artifacts.\n"
     ]
    },
    {
     "data": {
      "application/vnd.jupyter.widget-view+json": {
       "model_id": "a369aa618a514c75bc6592af50d370e3",
       "version_major": 2,
       "version_minor": 0
      },
      "text/plain": [
       "Epoch 43/100 [Train]:   0%|          | 0/352 [00:00<?, ?it/s]"
      ]
     },
     "metadata": {},
     "output_type": "display_data"
    },
    {
     "data": {
      "application/vnd.jupyter.widget-view+json": {
       "model_id": "dfe81572f62349eebf0a770cfc9024e5",
       "version_major": 2,
       "version_minor": 0
      },
      "text/plain": [
       "Epoch 43/100 [Val]:   0%|          | 0/88 [00:00<?, ?it/s]"
      ]
     },
     "metadata": {},
     "output_type": "display_data"
    },
    {
     "name": "stdout",
     "output_type": "stream",
     "text": [
      "AUC Calc Warn: Target scores need to be probabilities for multiclass roc_auc, i.e. they should sum up to 1.0 over classes\n",
      "Epoch 43: TrainLoss=0.0555, F1-W=0.9085, Acc=0.9085, AUC=0.0000\n",
      "  -> New best F1-W: 0.9085. Saving artifacts.\n"
     ]
    },
    {
     "data": {
      "application/vnd.jupyter.widget-view+json": {
       "model_id": "3cdc912e3e0b4bfbb94bc000aaaf50d9",
       "version_major": 2,
       "version_minor": 0
      },
      "text/plain": [
       "Epoch 44/100 [Train]:   0%|          | 0/352 [00:00<?, ?it/s]"
      ]
     },
     "metadata": {},
     "output_type": "display_data"
    },
    {
     "data": {
      "application/vnd.jupyter.widget-view+json": {
       "model_id": "2f93643d49b24b94aed4c6e8ba521936",
       "version_major": 2,
       "version_minor": 0
      },
      "text/plain": [
       "Epoch 44/100 [Val]:   0%|          | 0/88 [00:00<?, ?it/s]"
      ]
     },
     "metadata": {},
     "output_type": "display_data"
    },
    {
     "name": "stdout",
     "output_type": "stream",
     "text": [
      "AUC Calc Warn: Target scores need to be probabilities for multiclass roc_auc, i.e. they should sum up to 1.0 over classes\n",
      "Epoch 44: TrainLoss=0.0489, F1-W=0.9038, Acc=0.9039, AUC=0.0000\n"
     ]
    },
    {
     "data": {
      "application/vnd.jupyter.widget-view+json": {
       "model_id": "33b498bafcf149ffb74095b09402c01a",
       "version_major": 2,
       "version_minor": 0
      },
      "text/plain": [
       "Epoch 45/100 [Train]:   0%|          | 0/352 [00:00<?, ?it/s]"
      ]
     },
     "metadata": {},
     "output_type": "display_data"
    },
    {
     "data": {
      "application/vnd.jupyter.widget-view+json": {
       "model_id": "19ed204f6b694c49a5b73c9c15f9e2a7",
       "version_major": 2,
       "version_minor": 0
      },
      "text/plain": [
       "Epoch 45/100 [Val]:   0%|          | 0/88 [00:00<?, ?it/s]"
      ]
     },
     "metadata": {},
     "output_type": "display_data"
    },
    {
     "name": "stdout",
     "output_type": "stream",
     "text": [
      "AUC Calc Warn: Target scores need to be probabilities for multiclass roc_auc, i.e. they should sum up to 1.0 over classes\n",
      "Epoch 45: TrainLoss=0.0474, F1-W=0.9077, Acc=0.9078, AUC=0.0000\n"
     ]
    },
    {
     "data": {
      "application/vnd.jupyter.widget-view+json": {
       "model_id": "b93582ca57be4e2788af1a3231f9fa0c",
       "version_major": 2,
       "version_minor": 0
      },
      "text/plain": [
       "Epoch 46/100 [Train]:   0%|          | 0/352 [00:00<?, ?it/s]"
      ]
     },
     "metadata": {},
     "output_type": "display_data"
    },
    {
     "data": {
      "application/vnd.jupyter.widget-view+json": {
       "model_id": "17fbc077af5a4ce1abf1c34e81fc99cf",
       "version_major": 2,
       "version_minor": 0
      },
      "text/plain": [
       "Epoch 46/100 [Val]:   0%|          | 0/88 [00:00<?, ?it/s]"
      ]
     },
     "metadata": {},
     "output_type": "display_data"
    },
    {
     "name": "stdout",
     "output_type": "stream",
     "text": [
      "AUC Calc Warn: Target scores need to be probabilities for multiclass roc_auc, i.e. they should sum up to 1.0 over classes\n",
      "Epoch 46: TrainLoss=0.0460, F1-W=0.9085, Acc=0.9085, AUC=0.0000\n",
      "  -> New best F1-W: 0.9085. Saving artifacts.\n"
     ]
    },
    {
     "data": {
      "application/vnd.jupyter.widget-view+json": {
       "model_id": "e09c4a6d4d414376b8b3a558d05746c5",
       "version_major": 2,
       "version_minor": 0
      },
      "text/plain": [
       "Epoch 47/100 [Train]:   0%|          | 0/352 [00:00<?, ?it/s]"
      ]
     },
     "metadata": {},
     "output_type": "display_data"
    },
    {
     "data": {
      "application/vnd.jupyter.widget-view+json": {
       "model_id": "54544adfbd8944bf8613ad5adc85b0d4",
       "version_major": 2,
       "version_minor": 0
      },
      "text/plain": [
       "Epoch 47/100 [Val]:   0%|          | 0/88 [00:00<?, ?it/s]"
      ]
     },
     "metadata": {},
     "output_type": "display_data"
    },
    {
     "name": "stdout",
     "output_type": "stream",
     "text": [
      "AUC Calc Warn: Target scores need to be probabilities for multiclass roc_auc, i.e. they should sum up to 1.0 over classes\n",
      "Epoch 47: TrainLoss=0.0471, F1-W=0.9078, Acc=0.9078, AUC=0.0000\n"
     ]
    },
    {
     "data": {
      "application/vnd.jupyter.widget-view+json": {
       "model_id": "9354b6b668704c2db2515893a0d83c80",
       "version_major": 2,
       "version_minor": 0
      },
      "text/plain": [
       "Epoch 48/100 [Train]:   0%|          | 0/352 [00:00<?, ?it/s]"
      ]
     },
     "metadata": {},
     "output_type": "display_data"
    },
    {
     "data": {
      "application/vnd.jupyter.widget-view+json": {
       "model_id": "71c3a1ae6fe9467da0c491b8bfb47ed7",
       "version_major": 2,
       "version_minor": 0
      },
      "text/plain": [
       "Epoch 48/100 [Val]:   0%|          | 0/88 [00:00<?, ?it/s]"
      ]
     },
     "metadata": {},
     "output_type": "display_data"
    },
    {
     "name": "stdout",
     "output_type": "stream",
     "text": [
      "AUC Calc Warn: Target scores need to be probabilities for multiclass roc_auc, i.e. they should sum up to 1.0 over classes\n",
      "Epoch 48: TrainLoss=0.0496, F1-W=0.9067, Acc=0.9068, AUC=0.0000\n"
     ]
    },
    {
     "data": {
      "application/vnd.jupyter.widget-view+json": {
       "model_id": "618a36f199974fb19228bbeca44d1bad",
       "version_major": 2,
       "version_minor": 0
      },
      "text/plain": [
       "Epoch 49/100 [Train]:   0%|          | 0/352 [00:00<?, ?it/s]"
      ]
     },
     "metadata": {},
     "output_type": "display_data"
    },
    {
     "data": {
      "application/vnd.jupyter.widget-view+json": {
       "model_id": "ea10ba9745114443a132a617f28e15ec",
       "version_major": 2,
       "version_minor": 0
      },
      "text/plain": [
       "Epoch 49/100 [Val]:   0%|          | 0/88 [00:00<?, ?it/s]"
      ]
     },
     "metadata": {},
     "output_type": "display_data"
    },
    {
     "name": "stdout",
     "output_type": "stream",
     "text": [
      "AUC Calc Warn: Target scores need to be probabilities for multiclass roc_auc, i.e. they should sum up to 1.0 over classes\n",
      "Epoch 49: TrainLoss=0.0515, F1-W=0.9063, Acc=0.9064, AUC=0.0000\n"
     ]
    },
    {
     "data": {
      "application/vnd.jupyter.widget-view+json": {
       "model_id": "472fc9513f444a84ab62b6d383d98df5",
       "version_major": 2,
       "version_minor": 0
      },
      "text/plain": [
       "Epoch 50/100 [Train]:   0%|          | 0/352 [00:00<?, ?it/s]"
      ]
     },
     "metadata": {},
     "output_type": "display_data"
    },
    {
     "data": {
      "application/vnd.jupyter.widget-view+json": {
       "model_id": "f7e1fb128b93424c9423ee783e57ec65",
       "version_major": 2,
       "version_minor": 0
      },
      "text/plain": [
       "Epoch 50/100 [Val]:   0%|          | 0/88 [00:00<?, ?it/s]"
      ]
     },
     "metadata": {},
     "output_type": "display_data"
    },
    {
     "name": "stdout",
     "output_type": "stream",
     "text": [
      "AUC Calc Warn: Target scores need to be probabilities for multiclass roc_auc, i.e. they should sum up to 1.0 over classes\n",
      "Epoch 50: TrainLoss=0.0500, F1-W=0.9095, Acc=0.9096, AUC=0.0000\n",
      "  -> New best F1-W: 0.9095. Saving artifacts.\n"
     ]
    },
    {
     "data": {
      "application/vnd.jupyter.widget-view+json": {
       "model_id": "e8556f6a0bc44a41b8202c3a1efd44c1",
       "version_major": 2,
       "version_minor": 0
      },
      "text/plain": [
       "Epoch 51/100 [Train]:   0%|          | 0/352 [00:00<?, ?it/s]"
      ]
     },
     "metadata": {},
     "output_type": "display_data"
    },
    {
     "data": {
      "application/vnd.jupyter.widget-view+json": {
       "model_id": "9fde9e3ff4d9434d9587763dd23fe5fd",
       "version_major": 2,
       "version_minor": 0
      },
      "text/plain": [
       "Epoch 51/100 [Val]:   0%|          | 0/88 [00:00<?, ?it/s]"
      ]
     },
     "metadata": {},
     "output_type": "display_data"
    },
    {
     "name": "stdout",
     "output_type": "stream",
     "text": [
      "AUC Calc Warn: Target scores need to be probabilities for multiclass roc_auc, i.e. they should sum up to 1.0 over classes\n",
      "Epoch 51: TrainLoss=0.0425, F1-W=0.9064, Acc=0.9064, AUC=0.0000\n"
     ]
    },
    {
     "data": {
      "application/vnd.jupyter.widget-view+json": {
       "model_id": "7f23b4fe6668442fb7a04969e10285a3",
       "version_major": 2,
       "version_minor": 0
      },
      "text/plain": [
       "Epoch 52/100 [Train]:   0%|          | 0/352 [00:00<?, ?it/s]"
      ]
     },
     "metadata": {},
     "output_type": "display_data"
    },
    {
     "data": {
      "application/vnd.jupyter.widget-view+json": {
       "model_id": "c9dff6c06cd3429a9756481369eb002a",
       "version_major": 2,
       "version_minor": 0
      },
      "text/plain": [
       "Epoch 52/100 [Val]:   0%|          | 0/88 [00:00<?, ?it/s]"
      ]
     },
     "metadata": {},
     "output_type": "display_data"
    },
    {
     "name": "stdout",
     "output_type": "stream",
     "text": [
      "AUC Calc Warn: Target scores need to be probabilities for multiclass roc_auc, i.e. they should sum up to 1.0 over classes\n",
      "Epoch 52: TrainLoss=0.0435, F1-W=0.9067, Acc=0.9068, AUC=0.0000\n"
     ]
    },
    {
     "data": {
      "application/vnd.jupyter.widget-view+json": {
       "model_id": "0a7bc31297a142558efd29fa25e7bc05",
       "version_major": 2,
       "version_minor": 0
      },
      "text/plain": [
       "Epoch 53/100 [Train]:   0%|          | 0/352 [00:00<?, ?it/s]"
      ]
     },
     "metadata": {},
     "output_type": "display_data"
    },
    {
     "data": {
      "application/vnd.jupyter.widget-view+json": {
       "model_id": "7c33541726254db78a29d0fbed29660c",
       "version_major": 2,
       "version_minor": 0
      },
      "text/plain": [
       "Epoch 53/100 [Val]:   0%|          | 0/88 [00:00<?, ?it/s]"
      ]
     },
     "metadata": {},
     "output_type": "display_data"
    },
    {
     "name": "stdout",
     "output_type": "stream",
     "text": [
      "AUC Calc Warn: Target scores need to be probabilities for multiclass roc_auc, i.e. they should sum up to 1.0 over classes\n",
      "Epoch 53: TrainLoss=0.0392, F1-W=0.9074, Acc=0.9075, AUC=0.0000\n"
     ]
    },
    {
     "data": {
      "application/vnd.jupyter.widget-view+json": {
       "model_id": "95c5613c55264646a6ae2bd00638a925",
       "version_major": 2,
       "version_minor": 0
      },
      "text/plain": [
       "Epoch 54/100 [Train]:   0%|          | 0/352 [00:00<?, ?it/s]"
      ]
     },
     "metadata": {},
     "output_type": "display_data"
    },
    {
     "data": {
      "application/vnd.jupyter.widget-view+json": {
       "model_id": "ed465c8857444a77beb2bd3a7f13982d",
       "version_major": 2,
       "version_minor": 0
      },
      "text/plain": [
       "Epoch 54/100 [Val]:   0%|          | 0/88 [00:00<?, ?it/s]"
      ]
     },
     "metadata": {},
     "output_type": "display_data"
    },
    {
     "name": "stdout",
     "output_type": "stream",
     "text": [
      "AUC Calc Warn: Target scores need to be probabilities for multiclass roc_auc, i.e. they should sum up to 1.0 over classes\n",
      "Epoch 54: TrainLoss=0.0410, F1-W=0.9085, Acc=0.9085, AUC=0.0000\n"
     ]
    },
    {
     "data": {
      "application/vnd.jupyter.widget-view+json": {
       "model_id": "b101740302a54072b7e281a12d9b0098",
       "version_major": 2,
       "version_minor": 0
      },
      "text/plain": [
       "Epoch 55/100 [Train]:   0%|          | 0/352 [00:00<?, ?it/s]"
      ]
     },
     "metadata": {},
     "output_type": "display_data"
    },
    {
     "data": {
      "application/vnd.jupyter.widget-view+json": {
       "model_id": "f042768c958f4a8b9e42bc6e60cafd42",
       "version_major": 2,
       "version_minor": 0
      },
      "text/plain": [
       "Epoch 55/100 [Val]:   0%|          | 0/88 [00:00<?, ?it/s]"
      ]
     },
     "metadata": {},
     "output_type": "display_data"
    },
    {
     "name": "stdout",
     "output_type": "stream",
     "text": [
      "AUC Calc Warn: Target scores need to be probabilities for multiclass roc_auc, i.e. they should sum up to 1.0 over classes\n",
      "Epoch 55: TrainLoss=0.0424, F1-W=0.9089, Acc=0.9089, AUC=0.0000\n"
     ]
    },
    {
     "data": {
      "application/vnd.jupyter.widget-view+json": {
       "model_id": "87dd55d33c504907a983c8362218d169",
       "version_major": 2,
       "version_minor": 0
      },
      "text/plain": [
       "Epoch 56/100 [Train]:   0%|          | 0/352 [00:00<?, ?it/s]"
      ]
     },
     "metadata": {},
     "output_type": "display_data"
    },
    {
     "data": {
      "application/vnd.jupyter.widget-view+json": {
       "model_id": "241172fccdd14e75ba7403c0e9bad062",
       "version_major": 2,
       "version_minor": 0
      },
      "text/plain": [
       "Epoch 56/100 [Val]:   0%|          | 0/88 [00:00<?, ?it/s]"
      ]
     },
     "metadata": {},
     "output_type": "display_data"
    },
    {
     "name": "stdout",
     "output_type": "stream",
     "text": [
      "AUC Calc Warn: Target scores need to be probabilities for multiclass roc_auc, i.e. they should sum up to 1.0 over classes\n",
      "Epoch 56: TrainLoss=0.0441, F1-W=0.9113, Acc=0.9114, AUC=0.0000\n",
      "  -> New best F1-W: 0.9113. Saving artifacts.\n"
     ]
    },
    {
     "data": {
      "application/vnd.jupyter.widget-view+json": {
       "model_id": "1333a46f310549fa99549849db8d3d66",
       "version_major": 2,
       "version_minor": 0
      },
      "text/plain": [
       "Epoch 57/100 [Train]:   0%|          | 0/352 [00:00<?, ?it/s]"
      ]
     },
     "metadata": {},
     "output_type": "display_data"
    },
    {
     "data": {
      "application/vnd.jupyter.widget-view+json": {
       "model_id": "b087987fc8134aa9af09cf1794bbc919",
       "version_major": 2,
       "version_minor": 0
      },
      "text/plain": [
       "Epoch 57/100 [Val]:   0%|          | 0/88 [00:00<?, ?it/s]"
      ]
     },
     "metadata": {},
     "output_type": "display_data"
    },
    {
     "name": "stdout",
     "output_type": "stream",
     "text": [
      "AUC Calc Warn: Target scores need to be probabilities for multiclass roc_auc, i.e. they should sum up to 1.0 over classes\n",
      "Epoch 57: TrainLoss=0.0447, F1-W=0.9085, Acc=0.9085, AUC=0.0000\n"
     ]
    },
    {
     "data": {
      "application/vnd.jupyter.widget-view+json": {
       "model_id": "b12c2aa11eca4d8ab58bff0735244f05",
       "version_major": 2,
       "version_minor": 0
      },
      "text/plain": [
       "Epoch 58/100 [Train]:   0%|          | 0/352 [00:00<?, ?it/s]"
      ]
     },
     "metadata": {},
     "output_type": "display_data"
    },
    {
     "data": {
      "application/vnd.jupyter.widget-view+json": {
       "model_id": "864f758021f040afab35a2be45fa57b0",
       "version_major": 2,
       "version_minor": 0
      },
      "text/plain": [
       "Epoch 58/100 [Val]:   0%|          | 0/88 [00:00<?, ?it/s]"
      ]
     },
     "metadata": {},
     "output_type": "display_data"
    },
    {
     "name": "stdout",
     "output_type": "stream",
     "text": [
      "AUC Calc Warn: Target scores need to be probabilities for multiclass roc_auc, i.e. they should sum up to 1.0 over classes\n",
      "Epoch 58: TrainLoss=0.0370, F1-W=0.9092, Acc=0.9093, AUC=0.0000\n"
     ]
    },
    {
     "data": {
      "application/vnd.jupyter.widget-view+json": {
       "model_id": "7e7733398a3e4898a0cf97a45ec27bdb",
       "version_major": 2,
       "version_minor": 0
      },
      "text/plain": [
       "Epoch 59/100 [Train]:   0%|          | 0/352 [00:00<?, ?it/s]"
      ]
     },
     "metadata": {},
     "output_type": "display_data"
    },
    {
     "data": {
      "application/vnd.jupyter.widget-view+json": {
       "model_id": "f085ad105e0645349224015213a1531c",
       "version_major": 2,
       "version_minor": 0
      },
      "text/plain": [
       "Epoch 59/100 [Val]:   0%|          | 0/88 [00:00<?, ?it/s]"
      ]
     },
     "metadata": {},
     "output_type": "display_data"
    },
    {
     "name": "stdout",
     "output_type": "stream",
     "text": [
      "AUC Calc Warn: Target scores need to be probabilities for multiclass roc_auc, i.e. they should sum up to 1.0 over classes\n",
      "Epoch 59: TrainLoss=0.0392, F1-W=0.9096, Acc=0.9096, AUC=0.0000\n"
     ]
    },
    {
     "data": {
      "application/vnd.jupyter.widget-view+json": {
       "model_id": "724ff2fdb23a4e4984160c4320f3223c",
       "version_major": 2,
       "version_minor": 0
      },
      "text/plain": [
       "Epoch 60/100 [Train]:   0%|          | 0/352 [00:00<?, ?it/s]"
      ]
     },
     "metadata": {},
     "output_type": "display_data"
    },
    {
     "data": {
      "application/vnd.jupyter.widget-view+json": {
       "model_id": "6f2ddf5c49ac4f698bc260eb3e689770",
       "version_major": 2,
       "version_minor": 0
      },
      "text/plain": [
       "Epoch 60/100 [Val]:   0%|          | 0/88 [00:00<?, ?it/s]"
      ]
     },
     "metadata": {},
     "output_type": "display_data"
    },
    {
     "name": "stdout",
     "output_type": "stream",
     "text": [
      "AUC Calc Warn: Target scores need to be probabilities for multiclass roc_auc, i.e. they should sum up to 1.0 over classes\n",
      "Epoch 60: TrainLoss=0.0408, F1-W=0.9078, Acc=0.9078, AUC=0.0000\n"
     ]
    },
    {
     "data": {
      "application/vnd.jupyter.widget-view+json": {
       "model_id": "c5e1fa1099f943378473d0640b0ce96c",
       "version_major": 2,
       "version_minor": 0
      },
      "text/plain": [
       "Epoch 61/100 [Train]:   0%|          | 0/352 [00:00<?, ?it/s]"
      ]
     },
     "metadata": {},
     "output_type": "display_data"
    },
    {
     "data": {
      "application/vnd.jupyter.widget-view+json": {
       "model_id": "79793483a7374e2295ae3d0359415456",
       "version_major": 2,
       "version_minor": 0
      },
      "text/plain": [
       "Epoch 61/100 [Val]:   0%|          | 0/88 [00:00<?, ?it/s]"
      ]
     },
     "metadata": {},
     "output_type": "display_data"
    },
    {
     "name": "stdout",
     "output_type": "stream",
     "text": [
      "AUC Calc Warn: Target scores need to be probabilities for multiclass roc_auc, i.e. they should sum up to 1.0 over classes\n",
      "Epoch 61: TrainLoss=0.0392, F1-W=0.9096, Acc=0.9096, AUC=0.0000\n"
     ]
    },
    {
     "data": {
      "application/vnd.jupyter.widget-view+json": {
       "model_id": "c6f5554945994f639e06d5fa53f26c77",
       "version_major": 2,
       "version_minor": 0
      },
      "text/plain": [
       "Epoch 62/100 [Train]:   0%|          | 0/352 [00:00<?, ?it/s]"
      ]
     },
     "metadata": {},
     "output_type": "display_data"
    },
    {
     "data": {
      "application/vnd.jupyter.widget-view+json": {
       "model_id": "f2b0f784ddfd46a7a5edf854aadd7775",
       "version_major": 2,
       "version_minor": 0
      },
      "text/plain": [
       "Epoch 62/100 [Val]:   0%|          | 0/88 [00:00<?, ?it/s]"
      ]
     },
     "metadata": {},
     "output_type": "display_data"
    },
    {
     "name": "stdout",
     "output_type": "stream",
     "text": [
      "AUC Calc Warn: Target scores need to be probabilities for multiclass roc_auc, i.e. they should sum up to 1.0 over classes\n",
      "Epoch 62: TrainLoss=0.0454, F1-W=0.9092, Acc=0.9093, AUC=0.0000\n"
     ]
    },
    {
     "data": {
      "application/vnd.jupyter.widget-view+json": {
       "model_id": "c8921397945b484e9f7f39dab89872b9",
       "version_major": 2,
       "version_minor": 0
      },
      "text/plain": [
       "Epoch 63/100 [Train]:   0%|          | 0/352 [00:00<?, ?it/s]"
      ]
     },
     "metadata": {},
     "output_type": "display_data"
    },
    {
     "data": {
      "application/vnd.jupyter.widget-view+json": {
       "model_id": "265f148b3d08464aae24af88b4ab3828",
       "version_major": 2,
       "version_minor": 0
      },
      "text/plain": [
       "Epoch 63/100 [Val]:   0%|          | 0/88 [00:00<?, ?it/s]"
      ]
     },
     "metadata": {},
     "output_type": "display_data"
    },
    {
     "name": "stdout",
     "output_type": "stream",
     "text": [
      "AUC Calc Warn: Target scores need to be probabilities for multiclass roc_auc, i.e. they should sum up to 1.0 over classes\n",
      "Epoch 63: TrainLoss=0.0426, F1-W=0.9116, Acc=0.9117, AUC=0.0000\n",
      "  -> New best F1-W: 0.9116. Saving artifacts.\n"
     ]
    },
    {
     "data": {
      "application/vnd.jupyter.widget-view+json": {
       "model_id": "884ab3c7b1444dd18c9aedeb6596c450",
       "version_major": 2,
       "version_minor": 0
      },
      "text/plain": [
       "Epoch 64/100 [Train]:   0%|          | 0/352 [00:00<?, ?it/s]"
      ]
     },
     "metadata": {},
     "output_type": "display_data"
    },
    {
     "data": {
      "application/vnd.jupyter.widget-view+json": {
       "model_id": "ce1cf602b2f64e639fb334b6b4632e10",
       "version_major": 2,
       "version_minor": 0
      },
      "text/plain": [
       "Epoch 64/100 [Val]:   0%|          | 0/88 [00:00<?, ?it/s]"
      ]
     },
     "metadata": {},
     "output_type": "display_data"
    },
    {
     "name": "stdout",
     "output_type": "stream",
     "text": [
      "AUC Calc Warn: Target scores need to be probabilities for multiclass roc_auc, i.e. they should sum up to 1.0 over classes\n",
      "Epoch 64: TrainLoss=0.0424, F1-W=0.9113, Acc=0.9114, AUC=0.0000\n"
     ]
    },
    {
     "data": {
      "application/vnd.jupyter.widget-view+json": {
       "model_id": "f47c97dbfcee41238c8c390ba7dc2dca",
       "version_major": 2,
       "version_minor": 0
      },
      "text/plain": [
       "Epoch 65/100 [Train]:   0%|          | 0/352 [00:00<?, ?it/s]"
      ]
     },
     "metadata": {},
     "output_type": "display_data"
    },
    {
     "data": {
      "application/vnd.jupyter.widget-view+json": {
       "model_id": "b4269c2fff3c4340b91a95986c3516d0",
       "version_major": 2,
       "version_minor": 0
      },
      "text/plain": [
       "Epoch 65/100 [Val]:   0%|          | 0/88 [00:00<?, ?it/s]"
      ]
     },
     "metadata": {},
     "output_type": "display_data"
    },
    {
     "name": "stdout",
     "output_type": "stream",
     "text": [
      "AUC Calc Warn: Target scores need to be probabilities for multiclass roc_auc, i.e. they should sum up to 1.0 over classes\n",
      "Epoch 65: TrainLoss=0.0442, F1-W=0.9113, Acc=0.9114, AUC=0.0000\n"
     ]
    },
    {
     "data": {
      "application/vnd.jupyter.widget-view+json": {
       "model_id": "2019131c264c47a6a3699a2725693906",
       "version_major": 2,
       "version_minor": 0
      },
      "text/plain": [
       "Epoch 66/100 [Train]:   0%|          | 0/352 [00:00<?, ?it/s]"
      ]
     },
     "metadata": {},
     "output_type": "display_data"
    },
    {
     "data": {
      "application/vnd.jupyter.widget-view+json": {
       "model_id": "4882ad0ea33f425981fd8679385f1dd9",
       "version_major": 2,
       "version_minor": 0
      },
      "text/plain": [
       "Epoch 66/100 [Val]:   0%|          | 0/88 [00:00<?, ?it/s]"
      ]
     },
     "metadata": {},
     "output_type": "display_data"
    },
    {
     "name": "stdout",
     "output_type": "stream",
     "text": [
      "AUC Calc Warn: Target scores need to be probabilities for multiclass roc_auc, i.e. they should sum up to 1.0 over classes\n",
      "Epoch 66: TrainLoss=0.0415, F1-W=0.9088, Acc=0.9089, AUC=0.0000\n"
     ]
    },
    {
     "data": {
      "application/vnd.jupyter.widget-view+json": {
       "model_id": "2e4b304d303d47bc86737f5da28b35bd",
       "version_major": 2,
       "version_minor": 0
      },
      "text/plain": [
       "Epoch 67/100 [Train]:   0%|          | 0/352 [00:00<?, ?it/s]"
      ]
     },
     "metadata": {},
     "output_type": "display_data"
    },
    {
     "data": {
      "application/vnd.jupyter.widget-view+json": {
       "model_id": "8dab0a3dbd2542d386b257ec2dcbf9a5",
       "version_major": 2,
       "version_minor": 0
      },
      "text/plain": [
       "Epoch 67/100 [Val]:   0%|          | 0/88 [00:00<?, ?it/s]"
      ]
     },
     "metadata": {},
     "output_type": "display_data"
    },
    {
     "name": "stdout",
     "output_type": "stream",
     "text": [
      "AUC Calc Warn: Target scores need to be probabilities for multiclass roc_auc, i.e. they should sum up to 1.0 over classes\n",
      "Epoch 67: TrainLoss=0.0442, F1-W=0.9085, Acc=0.9085, AUC=0.0000\n"
     ]
    },
    {
     "data": {
      "application/vnd.jupyter.widget-view+json": {
       "model_id": "521abf75bb024fd3bfdaade9b48db84a",
       "version_major": 2,
       "version_minor": 0
      },
      "text/plain": [
       "Epoch 68/100 [Train]:   0%|          | 0/352 [00:00<?, ?it/s]"
      ]
     },
     "metadata": {},
     "output_type": "display_data"
    },
    {
     "data": {
      "application/vnd.jupyter.widget-view+json": {
       "model_id": "93b0f7d74e2d4686b1a099adf8bb47b3",
       "version_major": 2,
       "version_minor": 0
      },
      "text/plain": [
       "Epoch 68/100 [Val]:   0%|          | 0/88 [00:00<?, ?it/s]"
      ]
     },
     "metadata": {},
     "output_type": "display_data"
    },
    {
     "name": "stdout",
     "output_type": "stream",
     "text": [
      "AUC Calc Warn: Target scores need to be probabilities for multiclass roc_auc, i.e. they should sum up to 1.0 over classes\n",
      "Epoch 68: TrainLoss=0.0397, F1-W=0.9092, Acc=0.9093, AUC=0.0000\n"
     ]
    },
    {
     "data": {
      "application/vnd.jupyter.widget-view+json": {
       "model_id": "978ed23b853840e98aa6a85135f99026",
       "version_major": 2,
       "version_minor": 0
      },
      "text/plain": [
       "Epoch 69/100 [Train]:   0%|          | 0/352 [00:00<?, ?it/s]"
      ]
     },
     "metadata": {},
     "output_type": "display_data"
    },
    {
     "data": {
      "application/vnd.jupyter.widget-view+json": {
       "model_id": "97e66904079a409c9b8a12c88b40d036",
       "version_major": 2,
       "version_minor": 0
      },
      "text/plain": [
       "Epoch 69/100 [Val]:   0%|          | 0/88 [00:00<?, ?it/s]"
      ]
     },
     "metadata": {},
     "output_type": "display_data"
    },
    {
     "name": "stdout",
     "output_type": "stream",
     "text": [
      "AUC Calc Warn: Target scores need to be probabilities for multiclass roc_auc, i.e. they should sum up to 1.0 over classes\n",
      "Epoch 69: TrainLoss=0.0415, F1-W=0.9110, Acc=0.9110, AUC=0.0000\n"
     ]
    },
    {
     "data": {
      "application/vnd.jupyter.widget-view+json": {
       "model_id": "bacd906782d34becb531883a55f8239e",
       "version_major": 2,
       "version_minor": 0
      },
      "text/plain": [
       "Epoch 70/100 [Train]:   0%|          | 0/352 [00:00<?, ?it/s]"
      ]
     },
     "metadata": {},
     "output_type": "display_data"
    },
    {
     "data": {
      "application/vnd.jupyter.widget-view+json": {
       "model_id": "be953c95435840be9929f550059fd072",
       "version_major": 2,
       "version_minor": 0
      },
      "text/plain": [
       "Epoch 70/100 [Val]:   0%|          | 0/88 [00:00<?, ?it/s]"
      ]
     },
     "metadata": {},
     "output_type": "display_data"
    },
    {
     "name": "stdout",
     "output_type": "stream",
     "text": [
      "AUC Calc Warn: Target scores need to be probabilities for multiclass roc_auc, i.e. they should sum up to 1.0 over classes\n",
      "Epoch 70: TrainLoss=0.0379, F1-W=0.9103, Acc=0.9103, AUC=0.0000\n"
     ]
    },
    {
     "data": {
      "application/vnd.jupyter.widget-view+json": {
       "model_id": "04749e56bbe245198292a318ef9b8d2c",
       "version_major": 2,
       "version_minor": 0
      },
      "text/plain": [
       "Epoch 71/100 [Train]:   0%|          | 0/352 [00:00<?, ?it/s]"
      ]
     },
     "metadata": {},
     "output_type": "display_data"
    },
    {
     "data": {
      "application/vnd.jupyter.widget-view+json": {
       "model_id": "29c729fa4c8442c79cfb9aa0415f7328",
       "version_major": 2,
       "version_minor": 0
      },
      "text/plain": [
       "Epoch 71/100 [Val]:   0%|          | 0/88 [00:00<?, ?it/s]"
      ]
     },
     "metadata": {},
     "output_type": "display_data"
    },
    {
     "name": "stdout",
     "output_type": "stream",
     "text": [
      "AUC Calc Warn: Target scores need to be probabilities for multiclass roc_auc, i.e. they should sum up to 1.0 over classes\n",
      "Epoch 71: TrainLoss=0.0410, F1-W=0.9099, Acc=0.9100, AUC=0.0000\n"
     ]
    },
    {
     "data": {
      "application/vnd.jupyter.widget-view+json": {
       "model_id": "3f8c9e665e4c4cf3b25ba795c2dee12c",
       "version_major": 2,
       "version_minor": 0
      },
      "text/plain": [
       "Epoch 72/100 [Train]:   0%|          | 0/352 [00:00<?, ?it/s]"
      ]
     },
     "metadata": {},
     "output_type": "display_data"
    },
    {
     "data": {
      "application/vnd.jupyter.widget-view+json": {
       "model_id": "28dddccf027548dab383fe5cc9b1077e",
       "version_major": 2,
       "version_minor": 0
      },
      "text/plain": [
       "Epoch 72/100 [Val]:   0%|          | 0/88 [00:00<?, ?it/s]"
      ]
     },
     "metadata": {},
     "output_type": "display_data"
    },
    {
     "name": "stdout",
     "output_type": "stream",
     "text": [
      "AUC Calc Warn: Target scores need to be probabilities for multiclass roc_auc, i.e. they should sum up to 1.0 over classes\n",
      "Epoch 72: TrainLoss=0.0360, F1-W=0.9091, Acc=0.9093, AUC=0.0000\n"
     ]
    },
    {
     "data": {
      "application/vnd.jupyter.widget-view+json": {
       "model_id": "f6edf7ed29744702ae9e393bcb634253",
       "version_major": 2,
       "version_minor": 0
      },
      "text/plain": [
       "Epoch 73/100 [Train]:   0%|          | 0/352 [00:00<?, ?it/s]"
      ]
     },
     "metadata": {},
     "output_type": "display_data"
    },
    {
     "data": {
      "application/vnd.jupyter.widget-view+json": {
       "model_id": "9406e5a91e9c4a11a83601b84d80b2e4",
       "version_major": 2,
       "version_minor": 0
      },
      "text/plain": [
       "Epoch 73/100 [Val]:   0%|          | 0/88 [00:00<?, ?it/s]"
      ]
     },
     "metadata": {},
     "output_type": "display_data"
    },
    {
     "name": "stdout",
     "output_type": "stream",
     "text": [
      "AUC Calc Warn: Target scores need to be probabilities for multiclass roc_auc, i.e. they should sum up to 1.0 over classes\n",
      "Epoch 73: TrainLoss=0.0399, F1-W=0.9102, Acc=0.9103, AUC=0.0000\n"
     ]
    },
    {
     "data": {
      "application/vnd.jupyter.widget-view+json": {
       "model_id": "c5a57951b9f54e6280ec1000ea72d497",
       "version_major": 2,
       "version_minor": 0
      },
      "text/plain": [
       "Epoch 74/100 [Train]:   0%|          | 0/352 [00:00<?, ?it/s]"
      ]
     },
     "metadata": {},
     "output_type": "display_data"
    },
    {
     "data": {
      "application/vnd.jupyter.widget-view+json": {
       "model_id": "93440b7a33304c058781945ada167aee",
       "version_major": 2,
       "version_minor": 0
      },
      "text/plain": [
       "Epoch 74/100 [Val]:   0%|          | 0/88 [00:00<?, ?it/s]"
      ]
     },
     "metadata": {},
     "output_type": "display_data"
    },
    {
     "name": "stdout",
     "output_type": "stream",
     "text": [
      "AUC Calc Warn: Target scores need to be probabilities for multiclass roc_auc, i.e. they should sum up to 1.0 over classes\n",
      "Epoch 74: TrainLoss=0.0371, F1-W=0.9092, Acc=0.9093, AUC=0.0000\n"
     ]
    },
    {
     "data": {
      "application/vnd.jupyter.widget-view+json": {
       "model_id": "26467c7b5768497b934bf4145154725e",
       "version_major": 2,
       "version_minor": 0
      },
      "text/plain": [
       "Epoch 75/100 [Train]:   0%|          | 0/352 [00:00<?, ?it/s]"
      ]
     },
     "metadata": {},
     "output_type": "display_data"
    },
    {
     "data": {
      "application/vnd.jupyter.widget-view+json": {
       "model_id": "8ccdec192d5641e1bfd24a6f87876c21",
       "version_major": 2,
       "version_minor": 0
      },
      "text/plain": [
       "Epoch 75/100 [Val]:   0%|          | 0/88 [00:00<?, ?it/s]"
      ]
     },
     "metadata": {},
     "output_type": "display_data"
    },
    {
     "name": "stdout",
     "output_type": "stream",
     "text": [
      "AUC Calc Warn: Target scores need to be probabilities for multiclass roc_auc, i.e. they should sum up to 1.0 over classes\n",
      "Epoch 75: TrainLoss=0.0459, F1-W=0.9110, Acc=0.9110, AUC=0.0000\n"
     ]
    },
    {
     "data": {
      "application/vnd.jupyter.widget-view+json": {
       "model_id": "178a3f752c114c2d9c60f60e64bdf958",
       "version_major": 2,
       "version_minor": 0
      },
      "text/plain": [
       "Epoch 76/100 [Train]:   0%|          | 0/352 [00:00<?, ?it/s]"
      ]
     },
     "metadata": {},
     "output_type": "display_data"
    },
    {
     "data": {
      "application/vnd.jupyter.widget-view+json": {
       "model_id": "9de63eb058ce486aabb0d03952396819",
       "version_major": 2,
       "version_minor": 0
      },
      "text/plain": [
       "Epoch 76/100 [Val]:   0%|          | 0/88 [00:00<?, ?it/s]"
      ]
     },
     "metadata": {},
     "output_type": "display_data"
    },
    {
     "name": "stdout",
     "output_type": "stream",
     "text": [
      "AUC Calc Warn: Target scores need to be probabilities for multiclass roc_auc, i.e. they should sum up to 1.0 over classes\n",
      "Epoch 76: TrainLoss=0.0400, F1-W=0.9106, Acc=0.9107, AUC=0.0000\n"
     ]
    },
    {
     "data": {
      "application/vnd.jupyter.widget-view+json": {
       "model_id": "194de621c98c4bc8b29c236cf107e953",
       "version_major": 2,
       "version_minor": 0
      },
      "text/plain": [
       "Epoch 77/100 [Train]:   0%|          | 0/352 [00:00<?, ?it/s]"
      ]
     },
     "metadata": {},
     "output_type": "display_data"
    },
    {
     "data": {
      "application/vnd.jupyter.widget-view+json": {
       "model_id": "19345f2095e94a048d61264b6070875b",
       "version_major": 2,
       "version_minor": 0
      },
      "text/plain": [
       "Epoch 77/100 [Val]:   0%|          | 0/88 [00:00<?, ?it/s]"
      ]
     },
     "metadata": {},
     "output_type": "display_data"
    },
    {
     "name": "stdout",
     "output_type": "stream",
     "text": [
      "AUC Calc Warn: Target scores need to be probabilities for multiclass roc_auc, i.e. they should sum up to 1.0 over classes\n",
      "Epoch 77: TrainLoss=0.0392, F1-W=0.9106, Acc=0.9107, AUC=0.0000\n"
     ]
    },
    {
     "data": {
      "application/vnd.jupyter.widget-view+json": {
       "model_id": "4e6e626d6c5f43898d7f25efe1436901",
       "version_major": 2,
       "version_minor": 0
      },
      "text/plain": [
       "Epoch 78/100 [Train]:   0%|          | 0/352 [00:00<?, ?it/s]"
      ]
     },
     "metadata": {},
     "output_type": "display_data"
    },
    {
     "data": {
      "application/vnd.jupyter.widget-view+json": {
       "model_id": "06358c44665148e0b1bdeb3b2b58e100",
       "version_major": 2,
       "version_minor": 0
      },
      "text/plain": [
       "Epoch 78/100 [Val]:   0%|          | 0/88 [00:00<?, ?it/s]"
      ]
     },
     "metadata": {},
     "output_type": "display_data"
    },
    {
     "name": "stdout",
     "output_type": "stream",
     "text": [
      "AUC Calc Warn: Target scores need to be probabilities for multiclass roc_auc, i.e. they should sum up to 1.0 over classes\n",
      "Epoch 78: TrainLoss=0.0404, F1-W=0.9106, Acc=0.9107, AUC=0.0000\n"
     ]
    },
    {
     "data": {
      "application/vnd.jupyter.widget-view+json": {
       "model_id": "515306060d7549ee93c1b70c845867d0",
       "version_major": 2,
       "version_minor": 0
      },
      "text/plain": [
       "Epoch 79/100 [Train]:   0%|          | 0/352 [00:00<?, ?it/s]"
      ]
     },
     "metadata": {},
     "output_type": "display_data"
    },
    {
     "data": {
      "application/vnd.jupyter.widget-view+json": {
       "model_id": "6fce830b62c244c68fc0bc31676bea08",
       "version_major": 2,
       "version_minor": 0
      },
      "text/plain": [
       "Epoch 79/100 [Val]:   0%|          | 0/88 [00:00<?, ?it/s]"
      ]
     },
     "metadata": {},
     "output_type": "display_data"
    },
    {
     "name": "stdout",
     "output_type": "stream",
     "text": [
      "AUC Calc Warn: Target scores need to be probabilities for multiclass roc_auc, i.e. they should sum up to 1.0 over classes\n",
      "Epoch 79: TrainLoss=0.0431, F1-W=0.9116, Acc=0.9117, AUC=0.0000\n"
     ]
    },
    {
     "data": {
      "application/vnd.jupyter.widget-view+json": {
       "model_id": "8dc075f721bc402fb0cdcb0033368b53",
       "version_major": 2,
       "version_minor": 0
      },
      "text/plain": [
       "Epoch 80/100 [Train]:   0%|          | 0/352 [00:00<?, ?it/s]"
      ]
     },
     "metadata": {},
     "output_type": "display_data"
    },
    {
     "data": {
      "application/vnd.jupyter.widget-view+json": {
       "model_id": "551c1393773e4da197e7ae05110b21cc",
       "version_major": 2,
       "version_minor": 0
      },
      "text/plain": [
       "Epoch 80/100 [Val]:   0%|          | 0/88 [00:00<?, ?it/s]"
      ]
     },
     "metadata": {},
     "output_type": "display_data"
    },
    {
     "name": "stdout",
     "output_type": "stream",
     "text": [
      "AUC Calc Warn: Target scores need to be probabilities for multiclass roc_auc, i.e. they should sum up to 1.0 over classes\n",
      "Epoch 80: TrainLoss=0.0390, F1-W=0.9071, Acc=0.9071, AUC=0.0000\n"
     ]
    },
    {
     "data": {
      "application/vnd.jupyter.widget-view+json": {
       "model_id": "fd6983eebee043cd8d2d59a89129e665",
       "version_major": 2,
       "version_minor": 0
      },
      "text/plain": [
       "Epoch 81/100 [Train]:   0%|          | 0/352 [00:00<?, ?it/s]"
      ]
     },
     "metadata": {},
     "output_type": "display_data"
    },
    {
     "data": {
      "application/vnd.jupyter.widget-view+json": {
       "model_id": "aa7c9f2b56ca45d9bdd92e2302ad8722",
       "version_major": 2,
       "version_minor": 0
      },
      "text/plain": [
       "Epoch 81/100 [Val]:   0%|          | 0/88 [00:00<?, ?it/s]"
      ]
     },
     "metadata": {},
     "output_type": "display_data"
    },
    {
     "name": "stdout",
     "output_type": "stream",
     "text": [
      "AUC Calc Warn: Target scores need to be probabilities for multiclass roc_auc, i.e. they should sum up to 1.0 over classes\n",
      "Epoch 81: TrainLoss=0.0410, F1-W=0.9117, Acc=0.9117, AUC=0.0000\n",
      "  -> New best F1-W: 0.9117. Saving artifacts.\n"
     ]
    },
    {
     "data": {
      "application/vnd.jupyter.widget-view+json": {
       "model_id": "7b3d5c78c37d4fec9c8dd51322acd885",
       "version_major": 2,
       "version_minor": 0
      },
      "text/plain": [
       "Epoch 82/100 [Train]:   0%|          | 0/352 [00:00<?, ?it/s]"
      ]
     },
     "metadata": {},
     "output_type": "display_data"
    },
    {
     "data": {
      "application/vnd.jupyter.widget-view+json": {
       "model_id": "3604df09f9cd442b8b9ec229cd44b5e6",
       "version_major": 2,
       "version_minor": 0
      },
      "text/plain": [
       "Epoch 82/100 [Val]:   0%|          | 0/88 [00:00<?, ?it/s]"
      ]
     },
     "metadata": {},
     "output_type": "display_data"
    },
    {
     "name": "stdout",
     "output_type": "stream",
     "text": [
      "AUC Calc Warn: Target scores need to be probabilities for multiclass roc_auc, i.e. they should sum up to 1.0 over classes\n",
      "Epoch 82: TrainLoss=0.0381, F1-W=0.9127, Acc=0.9128, AUC=0.0000\n",
      "  -> New best F1-W: 0.9127. Saving artifacts.\n"
     ]
    },
    {
     "data": {
      "application/vnd.jupyter.widget-view+json": {
       "model_id": "d9608dba32a24ee389e433f25bebc367",
       "version_major": 2,
       "version_minor": 0
      },
      "text/plain": [
       "Epoch 83/100 [Train]:   0%|          | 0/352 [00:00<?, ?it/s]"
      ]
     },
     "metadata": {},
     "output_type": "display_data"
    },
    {
     "data": {
      "application/vnd.jupyter.widget-view+json": {
       "model_id": "ef3f01fe937e465f80ba3142e28f0ec1",
       "version_major": 2,
       "version_minor": 0
      },
      "text/plain": [
       "Epoch 83/100 [Val]:   0%|          | 0/88 [00:00<?, ?it/s]"
      ]
     },
     "metadata": {},
     "output_type": "display_data"
    },
    {
     "name": "stdout",
     "output_type": "stream",
     "text": [
      "AUC Calc Warn: Target scores need to be probabilities for multiclass roc_auc, i.e. they should sum up to 1.0 over classes\n",
      "Epoch 83: TrainLoss=0.0411, F1-W=0.9092, Acc=0.9093, AUC=0.0000\n"
     ]
    },
    {
     "data": {
      "application/vnd.jupyter.widget-view+json": {
       "model_id": "5b3406e197034de39fb330b8d81425dc",
       "version_major": 2,
       "version_minor": 0
      },
      "text/plain": [
       "Epoch 84/100 [Train]:   0%|          | 0/352 [00:00<?, ?it/s]"
      ]
     },
     "metadata": {},
     "output_type": "display_data"
    },
    {
     "data": {
      "application/vnd.jupyter.widget-view+json": {
       "model_id": "66e6070db06d489f9733ffcaa33b031a",
       "version_major": 2,
       "version_minor": 0
      },
      "text/plain": [
       "Epoch 84/100 [Val]:   0%|          | 0/88 [00:00<?, ?it/s]"
      ]
     },
     "metadata": {},
     "output_type": "display_data"
    },
    {
     "name": "stdout",
     "output_type": "stream",
     "text": [
      "AUC Calc Warn: Target scores need to be probabilities for multiclass roc_auc, i.e. they should sum up to 1.0 over classes\n",
      "Epoch 84: TrainLoss=0.0412, F1-W=0.9099, Acc=0.9100, AUC=0.0000\n"
     ]
    },
    {
     "data": {
      "application/vnd.jupyter.widget-view+json": {
       "model_id": "bf0d934a9784440eae0bd386d0fe3706",
       "version_major": 2,
       "version_minor": 0
      },
      "text/plain": [
       "Epoch 85/100 [Train]:   0%|          | 0/352 [00:00<?, ?it/s]"
      ]
     },
     "metadata": {},
     "output_type": "display_data"
    },
    {
     "data": {
      "application/vnd.jupyter.widget-view+json": {
       "model_id": "c71220f032c94b4cb848bbe274e1bcc9",
       "version_major": 2,
       "version_minor": 0
      },
      "text/plain": [
       "Epoch 85/100 [Val]:   0%|          | 0/88 [00:00<?, ?it/s]"
      ]
     },
     "metadata": {},
     "output_type": "display_data"
    },
    {
     "name": "stdout",
     "output_type": "stream",
     "text": [
      "AUC Calc Warn: Target scores need to be probabilities for multiclass roc_auc, i.e. they should sum up to 1.0 over classes\n",
      "Epoch 85: TrainLoss=0.0387, F1-W=0.9103, Acc=0.9103, AUC=0.0000\n"
     ]
    },
    {
     "data": {
      "application/vnd.jupyter.widget-view+json": {
       "model_id": "fd66fc276ae84a36aba14c9a08ea356a",
       "version_major": 2,
       "version_minor": 0
      },
      "text/plain": [
       "Epoch 86/100 [Train]:   0%|          | 0/352 [00:00<?, ?it/s]"
      ]
     },
     "metadata": {},
     "output_type": "display_data"
    },
    {
     "data": {
      "application/vnd.jupyter.widget-view+json": {
       "model_id": "544d9ffc94ef4a3faff560c83ac6e59e",
       "version_major": 2,
       "version_minor": 0
      },
      "text/plain": [
       "Epoch 86/100 [Val]:   0%|          | 0/88 [00:00<?, ?it/s]"
      ]
     },
     "metadata": {},
     "output_type": "display_data"
    },
    {
     "name": "stdout",
     "output_type": "stream",
     "text": [
      "AUC Calc Warn: Target scores need to be probabilities for multiclass roc_auc, i.e. they should sum up to 1.0 over classes\n",
      "Epoch 86: TrainLoss=0.0400, F1-W=0.9114, Acc=0.9114, AUC=0.0000\n"
     ]
    },
    {
     "data": {
      "application/vnd.jupyter.widget-view+json": {
       "model_id": "972ea08d2b064bc2bba6bb5d037755c9",
       "version_major": 2,
       "version_minor": 0
      },
      "text/plain": [
       "Epoch 87/100 [Train]:   0%|          | 0/352 [00:00<?, ?it/s]"
      ]
     },
     "metadata": {},
     "output_type": "display_data"
    },
    {
     "data": {
      "application/vnd.jupyter.widget-view+json": {
       "model_id": "ceb7d0d5f71c4d02996b28df89e49be8",
       "version_major": 2,
       "version_minor": 0
      },
      "text/plain": [
       "Epoch 87/100 [Val]:   0%|          | 0/88 [00:00<?, ?it/s]"
      ]
     },
     "metadata": {},
     "output_type": "display_data"
    },
    {
     "name": "stdout",
     "output_type": "stream",
     "text": [
      "AUC Calc Warn: Target scores need to be probabilities for multiclass roc_auc, i.e. they should sum up to 1.0 over classes\n",
      "Epoch 87: TrainLoss=0.0370, F1-W=0.9107, Acc=0.9107, AUC=0.0000\n"
     ]
    },
    {
     "data": {
      "application/vnd.jupyter.widget-view+json": {
       "model_id": "4ddd74b4b837413c84928f9b51e21ee2",
       "version_major": 2,
       "version_minor": 0
      },
      "text/plain": [
       "Epoch 88/100 [Train]:   0%|          | 0/352 [00:00<?, ?it/s]"
      ]
     },
     "metadata": {},
     "output_type": "display_data"
    },
    {
     "data": {
      "application/vnd.jupyter.widget-view+json": {
       "model_id": "9027aea772dc47ac935d3a33cb8768e9",
       "version_major": 2,
       "version_minor": 0
      },
      "text/plain": [
       "Epoch 88/100 [Val]:   0%|          | 0/88 [00:00<?, ?it/s]"
      ]
     },
     "metadata": {},
     "output_type": "display_data"
    },
    {
     "name": "stdout",
     "output_type": "stream",
     "text": [
      "AUC Calc Warn: Target scores need to be probabilities for multiclass roc_auc, i.e. they should sum up to 1.0 over classes\n",
      "Epoch 88: TrainLoss=0.0406, F1-W=0.9131, Acc=0.9132, AUC=0.0000\n",
      "  -> New best F1-W: 0.9131. Saving artifacts.\n"
     ]
    },
    {
     "data": {
      "application/vnd.jupyter.widget-view+json": {
       "model_id": "8da09e36a3ad419fab238794f15d6f1e",
       "version_major": 2,
       "version_minor": 0
      },
      "text/plain": [
       "Epoch 89/100 [Train]:   0%|          | 0/352 [00:00<?, ?it/s]"
      ]
     },
     "metadata": {},
     "output_type": "display_data"
    },
    {
     "data": {
      "application/vnd.jupyter.widget-view+json": {
       "model_id": "7760263ebddc41ccb6accf50b9553efe",
       "version_major": 2,
       "version_minor": 0
      },
      "text/plain": [
       "Epoch 89/100 [Val]:   0%|          | 0/88 [00:00<?, ?it/s]"
      ]
     },
     "metadata": {},
     "output_type": "display_data"
    },
    {
     "name": "stdout",
     "output_type": "stream",
     "text": [
      "AUC Calc Warn: Target scores need to be probabilities for multiclass roc_auc, i.e. they should sum up to 1.0 over classes\n",
      "Epoch 89: TrainLoss=0.0405, F1-W=0.9099, Acc=0.9100, AUC=0.0000\n"
     ]
    },
    {
     "data": {
      "application/vnd.jupyter.widget-view+json": {
       "model_id": "579338f3d1da46c9ad2fba57c73a1dda",
       "version_major": 2,
       "version_minor": 0
      },
      "text/plain": [
       "Epoch 90/100 [Train]:   0%|          | 0/352 [00:00<?, ?it/s]"
      ]
     },
     "metadata": {},
     "output_type": "display_data"
    },
    {
     "data": {
      "application/vnd.jupyter.widget-view+json": {
       "model_id": "7d5ec63a97fd4d558a08b96f77b7c1b4",
       "version_major": 2,
       "version_minor": 0
      },
      "text/plain": [
       "Epoch 90/100 [Val]:   0%|          | 0/88 [00:00<?, ?it/s]"
      ]
     },
     "metadata": {},
     "output_type": "display_data"
    },
    {
     "name": "stdout",
     "output_type": "stream",
     "text": [
      "AUC Calc Warn: Target scores need to be probabilities for multiclass roc_auc, i.e. they should sum up to 1.0 over classes\n",
      "Epoch 90: TrainLoss=0.0398, F1-W=0.9102, Acc=0.9103, AUC=0.0000\n"
     ]
    },
    {
     "data": {
      "application/vnd.jupyter.widget-view+json": {
       "model_id": "5c458090357449a88a77793283b51ad6",
       "version_major": 2,
       "version_minor": 0
      },
      "text/plain": [
       "Epoch 91/100 [Train]:   0%|          | 0/352 [00:00<?, ?it/s]"
      ]
     },
     "metadata": {},
     "output_type": "display_data"
    },
    {
     "data": {
      "application/vnd.jupyter.widget-view+json": {
       "model_id": "0d246d96e5eb42658cd9471eb5f041e2",
       "version_major": 2,
       "version_minor": 0
      },
      "text/plain": [
       "Epoch 91/100 [Val]:   0%|          | 0/88 [00:00<?, ?it/s]"
      ]
     },
     "metadata": {},
     "output_type": "display_data"
    },
    {
     "name": "stdout",
     "output_type": "stream",
     "text": [
      "AUC Calc Warn: Target scores need to be probabilities for multiclass roc_auc, i.e. they should sum up to 1.0 over classes\n",
      "Epoch 91: TrainLoss=0.0440, F1-W=0.9107, Acc=0.9107, AUC=0.0000\n"
     ]
    },
    {
     "data": {
      "application/vnd.jupyter.widget-view+json": {
       "model_id": "05a55d5a41724152acb3c9ae3c69bc5d",
       "version_major": 2,
       "version_minor": 0
      },
      "text/plain": [
       "Epoch 92/100 [Train]:   0%|          | 0/352 [00:00<?, ?it/s]"
      ]
     },
     "metadata": {},
     "output_type": "display_data"
    },
    {
     "data": {
      "application/vnd.jupyter.widget-view+json": {
       "model_id": "3de45aad0fbe4b7ba21fa73364118295",
       "version_major": 2,
       "version_minor": 0
      },
      "text/plain": [
       "Epoch 92/100 [Val]:   0%|          | 0/88 [00:00<?, ?it/s]"
      ]
     },
     "metadata": {},
     "output_type": "display_data"
    },
    {
     "name": "stdout",
     "output_type": "stream",
     "text": [
      "AUC Calc Warn: Target scores need to be probabilities for multiclass roc_auc, i.e. they should sum up to 1.0 over classes\n",
      "Epoch 92: TrainLoss=0.0406, F1-W=0.9124, Acc=0.9125, AUC=0.0000\n"
     ]
    },
    {
     "data": {
      "application/vnd.jupyter.widget-view+json": {
       "model_id": "6ea7d3667cd24ea5974e9584a59f03c3",
       "version_major": 2,
       "version_minor": 0
      },
      "text/plain": [
       "Epoch 93/100 [Train]:   0%|          | 0/352 [00:00<?, ?it/s]"
      ]
     },
     "metadata": {},
     "output_type": "display_data"
    },
    {
     "data": {
      "application/vnd.jupyter.widget-view+json": {
       "model_id": "c6a3ddca14d0404ba64ea497843683d4",
       "version_major": 2,
       "version_minor": 0
      },
      "text/plain": [
       "Epoch 93/100 [Val]:   0%|          | 0/88 [00:00<?, ?it/s]"
      ]
     },
     "metadata": {},
     "output_type": "display_data"
    },
    {
     "name": "stdout",
     "output_type": "stream",
     "text": [
      "AUC Calc Warn: Target scores need to be probabilities for multiclass roc_auc, i.e. they should sum up to 1.0 over classes\n",
      "Epoch 93: TrainLoss=0.0428, F1-W=0.9124, Acc=0.9125, AUC=0.0000\n"
     ]
    },
    {
     "data": {
      "application/vnd.jupyter.widget-view+json": {
       "model_id": "b622489a671a4e9695b4478fd8578e8c",
       "version_major": 2,
       "version_minor": 0
      },
      "text/plain": [
       "Epoch 94/100 [Train]:   0%|          | 0/352 [00:00<?, ?it/s]"
      ]
     },
     "metadata": {},
     "output_type": "display_data"
    },
    {
     "data": {
      "application/vnd.jupyter.widget-view+json": {
       "model_id": "c167244d37794671babd63536159ef2c",
       "version_major": 2,
       "version_minor": 0
      },
      "text/plain": [
       "Epoch 94/100 [Val]:   0%|          | 0/88 [00:00<?, ?it/s]"
      ]
     },
     "metadata": {},
     "output_type": "display_data"
    },
    {
     "name": "stdout",
     "output_type": "stream",
     "text": [
      "AUC Calc Warn: Target scores need to be probabilities for multiclass roc_auc, i.e. they should sum up to 1.0 over classes\n",
      "Epoch 94: TrainLoss=0.0370, F1-W=0.9106, Acc=0.9107, AUC=0.0000\n"
     ]
    },
    {
     "data": {
      "application/vnd.jupyter.widget-view+json": {
       "model_id": "45b28eddf26c4b068cc503124d76402b",
       "version_major": 2,
       "version_minor": 0
      },
      "text/plain": [
       "Epoch 95/100 [Train]:   0%|          | 0/352 [00:00<?, ?it/s]"
      ]
     },
     "metadata": {},
     "output_type": "display_data"
    },
    {
     "data": {
      "application/vnd.jupyter.widget-view+json": {
       "model_id": "93492247682743348e2cd8c2593071db",
       "version_major": 2,
       "version_minor": 0
      },
      "text/plain": [
       "Epoch 95/100 [Val]:   0%|          | 0/88 [00:00<?, ?it/s]"
      ]
     },
     "metadata": {},
     "output_type": "display_data"
    },
    {
     "name": "stdout",
     "output_type": "stream",
     "text": [
      "AUC Calc Warn: Target scores need to be probabilities for multiclass roc_auc, i.e. they should sum up to 1.0 over classes\n",
      "Epoch 95: TrainLoss=0.0421, F1-W=0.9116, Acc=0.9117, AUC=0.0000\n"
     ]
    },
    {
     "data": {
      "application/vnd.jupyter.widget-view+json": {
       "model_id": "87ad55add5fc4060920c83bedacbe875",
       "version_major": 2,
       "version_minor": 0
      },
      "text/plain": [
       "Epoch 96/100 [Train]:   0%|          | 0/352 [00:00<?, ?it/s]"
      ]
     },
     "metadata": {},
     "output_type": "display_data"
    },
    {
     "data": {
      "application/vnd.jupyter.widget-view+json": {
       "model_id": "5b263ad65b904125b61b905fccc9c59b",
       "version_major": 2,
       "version_minor": 0
      },
      "text/plain": [
       "Epoch 96/100 [Val]:   0%|          | 0/88 [00:00<?, ?it/s]"
      ]
     },
     "metadata": {},
     "output_type": "display_data"
    },
    {
     "name": "stdout",
     "output_type": "stream",
     "text": [
      "AUC Calc Warn: Target scores need to be probabilities for multiclass roc_auc, i.e. they should sum up to 1.0 over classes\n",
      "Epoch 96: TrainLoss=0.0394, F1-W=0.9064, Acc=0.9064, AUC=0.0000\n"
     ]
    },
    {
     "data": {
      "application/vnd.jupyter.widget-view+json": {
       "model_id": "dee65468d15349039f9900194e2f4288",
       "version_major": 2,
       "version_minor": 0
      },
      "text/plain": [
       "Epoch 97/100 [Train]:   0%|          | 0/352 [00:00<?, ?it/s]"
      ]
     },
     "metadata": {},
     "output_type": "display_data"
    },
    {
     "data": {
      "application/vnd.jupyter.widget-view+json": {
       "model_id": "f605046d4e574726a488d34db8e10d2f",
       "version_major": 2,
       "version_minor": 0
      },
      "text/plain": [
       "Epoch 97/100 [Val]:   0%|          | 0/88 [00:00<?, ?it/s]"
      ]
     },
     "metadata": {},
     "output_type": "display_data"
    },
    {
     "name": "stdout",
     "output_type": "stream",
     "text": [
      "AUC Calc Warn: Target scores need to be probabilities for multiclass roc_auc, i.e. they should sum up to 1.0 over classes\n",
      "Epoch 97: TrainLoss=0.0417, F1-W=0.9113, Acc=0.9114, AUC=0.0000\n"
     ]
    },
    {
     "data": {
      "application/vnd.jupyter.widget-view+json": {
       "model_id": "3f69152b43474538b77e844d7c670942",
       "version_major": 2,
       "version_minor": 0
      },
      "text/plain": [
       "Epoch 98/100 [Train]:   0%|          | 0/352 [00:00<?, ?it/s]"
      ]
     },
     "metadata": {},
     "output_type": "display_data"
    },
    {
     "data": {
      "application/vnd.jupyter.widget-view+json": {
       "model_id": "ce526a08053a423f942aa7f7041e0403",
       "version_major": 2,
       "version_minor": 0
      },
      "text/plain": [
       "Epoch 98/100 [Val]:   0%|          | 0/88 [00:00<?, ?it/s]"
      ]
     },
     "metadata": {},
     "output_type": "display_data"
    },
    {
     "name": "stdout",
     "output_type": "stream",
     "text": [
      "AUC Calc Warn: Target scores need to be probabilities for multiclass roc_auc, i.e. they should sum up to 1.0 over classes\n",
      "Epoch 98: TrainLoss=0.0395, F1-W=0.9099, Acc=0.9100, AUC=0.0000\n"
     ]
    },
    {
     "data": {
      "application/vnd.jupyter.widget-view+json": {
       "model_id": "2a79a5b204d34d27ab92694cb8415240",
       "version_major": 2,
       "version_minor": 0
      },
      "text/plain": [
       "Epoch 99/100 [Train]:   0%|          | 0/352 [00:00<?, ?it/s]"
      ]
     },
     "metadata": {},
     "output_type": "display_data"
    },
    {
     "data": {
      "application/vnd.jupyter.widget-view+json": {
       "model_id": "06f7d737f9cf4fd7a5a23bd850e96fea",
       "version_major": 2,
       "version_minor": 0
      },
      "text/plain": [
       "Epoch 99/100 [Val]:   0%|          | 0/88 [00:00<?, ?it/s]"
      ]
     },
     "metadata": {},
     "output_type": "display_data"
    },
    {
     "name": "stdout",
     "output_type": "stream",
     "text": [
      "AUC Calc Warn: Target scores need to be probabilities for multiclass roc_auc, i.e. they should sum up to 1.0 over classes\n",
      "Epoch 99: TrainLoss=0.0412, F1-W=0.9099, Acc=0.9100, AUC=0.0000\n"
     ]
    },
    {
     "data": {
      "application/vnd.jupyter.widget-view+json": {
       "model_id": "b0611203e96448258e9b73ae4f467912",
       "version_major": 2,
       "version_minor": 0
      },
      "text/plain": [
       "Epoch 100/100 [Train]:   0%|          | 0/352 [00:00<?, ?it/s]"
      ]
     },
     "metadata": {},
     "output_type": "display_data"
    },
    {
     "data": {
      "application/vnd.jupyter.widget-view+json": {
       "model_id": "6daf595180b54e71b4baa838ac12e572",
       "version_major": 2,
       "version_minor": 0
      },
      "text/plain": [
       "Epoch 100/100 [Val]:   0%|          | 0/88 [00:00<?, ?it/s]"
      ]
     },
     "metadata": {},
     "output_type": "display_data"
    },
    {
     "name": "stdout",
     "output_type": "stream",
     "text": [
      "AUC Calc Warn: Target scores need to be probabilities for multiclass roc_auc, i.e. they should sum up to 1.0 over classes\n",
      "Epoch 100: TrainLoss=0.0412, F1-W=0.9099, Acc=0.9100, AUC=0.0000\n",
      "\n",
      "Finished Training for EfficientNetB0_data_100percent. Best F1-W: 0.9131 at Epoch 88\n",
      "==> Results with 100.0% data: Best F1-Weighted = 0.9131\n",
      "\n",
      "--- FINAL RESULTS (Summary) ---\n",
      "\n",
      "Model: EfficientNetB0\n",
      "  25.0% data (Epoch 38): F1-W=0.8077 | F1-M=0.7862 | AUC=0.0000 | Acc=0.8078\n",
      "  50.0% data (Epoch 30): F1-W=0.8591 | F1-M=0.8463 | AUC=0.0000 | Acc=0.8594\n",
      "  100.0% data (Epoch 88): F1-W=0.9131 | F1-M=0.9079 | AUC=0.0000 | Acc=0.9132\n"
     ]
    }
   ],
   "source": [
    "for model_name, config in model_configs.items():\n",
    "    print(f\"\\n{'='*20} Evaluating: {model_name} {'='*20}\")\n",
    "    model_results = []\n",
    "    model_folder_name = model_name.replace(' ', '_').replace('-', '_') # Sanitize name\n",
    "    model_output_dir = os.path.join(BASE_OUTPUT_DIR, model_folder_name)\n",
    "    os.makedirs(model_output_dir, exist_ok=True)\n",
    "    print(f\"Saving results for this model to: {model_output_dir}\")\n",
    "\n",
    "    # Loop through data percentages\n",
    "    for percent in DATA_PERCENTAGES:\n",
    "        print(f\"\\n--- Training with {percent*100:.1f}% of labeled data ---\")\n",
    "\n",
    "        # Create subset of training indices\n",
    "        if percent < 1.0:\n",
    "             train_labels_for_stratify = full_metadata['label'].iloc[train_indices].values\n",
    "             min_samples_per_class = pd.Series(train_labels_for_stratify).value_counts().min()\n",
    "             required_samples = 2\n",
    "             if min_samples_per_class >= required_samples:\n",
    "                subset_train_indices, _ = train_test_split(train_indices, train_size=percent, random_state=SEED, stratify=train_labels_for_stratify)\n",
    "             else:\n",
    "                 print(f\"Warning: Cannot stratify subset (min class samples: {min_samples_per_class}). Using non-stratified subset.\")\n",
    "                 subset_train_indices, _ = train_test_split(train_indices, train_size=percent, random_state=SEED)\n",
    "        else:\n",
    "            subset_train_indices = train_indices\n",
    "\n",
    "        # Create Train Loader (using train_transform_effnet)\n",
    "        train_metadata_subset = full_metadata.iloc[subset_train_indices].copy()\n",
    "        try:\n",
    "            train_dataset = SpectrogramDataset(metadata_df=train_metadata_subset, melspec_dir=MELSPEC_DIR, transform=train_transform_effnet) # USE EFFNET TRANSFORM\n",
    "            train_loader = DataLoader(train_dataset, batch_size=32, shuffle=True, num_workers=0, collate_fn=collate_fn_remove_none, pin_memory=torch.cuda.is_available())\n",
    "            print(f\"Train dataset subset size: {len(train_dataset)}\")\n",
    "        except ValueError as e:\n",
    "             print(f\"Error initializing train dataset ({percent*100:.1f}%): {e}\"); continue # Skip this percentage\n",
    "        except Exception as e_gen:\n",
    "             print(f\"Unexpected error initializing train dataset ({percent*100:.1f}%): {e_gen}\"); continue\n",
    "\n",
    "        # Define output paths for this run\n",
    "        percent_str = f\"data_{percent*100:.0f}percent\" # Use integer for folder name\n",
    "        run_output_dir = os.path.join(model_output_dir, percent_str)\n",
    "        os.makedirs(run_output_dir, exist_ok=True)\n",
    "        run_base_name = f\"{model_folder_name}_{percent_str}\"\n",
    "\n",
    "        # Initialize model\n",
    "        model = config[\"model_class\"](**config[\"args\"]).to(device)\n",
    "\n",
    "        # Train and evaluate\n",
    "        best_metrics = train_and_evaluate(\n",
    "            model,\n",
    "            train_loader,\n",
    "            test_loader, # Use the consistent test_loader for validation\n",
    "            epochs=100, # Or adjust as needed\n",
    "            results_dir=run_output_dir,\n",
    "            run_base_name=run_base_name,\n",
    "            class_names=class_names_list\n",
    "        )\n",
    "\n",
    "        model_results.append({'percent': percent, 'metrics': best_metrics})\n",
    "        if best_metrics:\n",
    "            print(f\"==> Results with {percent*100:.1f}% data: Best F1-Weighted = {best_metrics.get('F1_w', 0):.4f}\")\n",
    "        else:\n",
    "            print(f\"==> No valid metrics recorded for {percent*100:.1f}% data run.\")\n",
    "\n",
    "    results[model_name] = model_results\n",
    "\n",
    "    # Report test dataset errors *once* after all percentages for this model\n",
    "    test_errors = test_loader.dataset.get_error_log()\n",
    "    if test_errors:\n",
    "        print(f\"\\n--- Test Dataset Errors ({len(test_errors)} files) ---\")\n",
    "        [print(err) for err in test_errors[:min(10, len(test_errors))]]; print(\"...\" if len(test_errors)>10 else \"\")\n",
    "\n",
    "\n",
    "# --- Final Results Summary ---\n",
    "print(\"\\n--- FINAL RESULTS (Summary) ---\")\n",
    "for model_name, result_list in results.items():\n",
    "    print(f\"\\nModel: {model_name}\")\n",
    "    if not result_list: print(\"  No results recorded.\"); continue\n",
    "    for res in result_list:\n",
    "        percent_str = f\"{res['percent']*100:.1f}% data\"\n",
    "        if res['metrics']:\n",
    "            f1_w = res['metrics'].get('F1_w', float('nan'))\n",
    "            f1_m = res['metrics'].get('F1_macro', float('nan'))\n",
    "            auc = res['metrics'].get('AUC_macro_ovr', float('nan')) # Use correct key\n",
    "            acc = res['metrics'].get('Accuracy', float('nan'))\n",
    "            epoch = res['metrics'].get('Epoch', 'N/A')\n",
    "            print(f\"  {percent_str} (Epoch {epoch}): F1-W={f1_w:.4f} | F1-M={f1_m:.4f} | AUC={auc:.4f} | Acc={acc:.4f}\")\n",
    "        else:\n",
    "            print(f\"  {percent_str}: No valid metrics recorded.\")"
   ]
  }
 ],
 "metadata": {
  "kernelspec": {
   "display_name": "Python 3 (ipykernel)",
   "language": "python",
   "name": "python3"
  },
  "language_info": {
   "codemirror_mode": {
    "name": "ipython",
    "version": 3
   },
   "file_extension": ".py",
   "mimetype": "text/x-python",
   "name": "python",
   "nbconvert_exporter": "python",
   "pygments_lexer": "ipython3",
   "version": "3.10.16"
  }
 },
 "nbformat": 4,
 "nbformat_minor": 5
}
