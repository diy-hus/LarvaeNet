{
 "cells": [
  {
   "cell_type": "code",
   "execution_count": 1,
   "id": "b33b3b6d-e8ae-4529-8df8-613cee6ae252",
   "metadata": {},
   "outputs": [],
   "source": [
    "import os\n",
    "import random\n",
    "import pandas as pd\n",
    "import numpy as np\n",
    "import torch\n",
    "import torch.nn as nn\n",
    "import torch.nn.functional as F\n",
    "import torchaudio\n",
    "import torchaudio.transforms\n",
    "from torch.utils.data import Dataset, DataLoader, Subset\n",
    "from sklearn.model_selection import train_test_split\n",
    "from sklearn.metrics import accuracy_score, precision_score, recall_score, f1_score\n",
    "from torchvision.transforms import v2 as T\n",
    "from torchvision import models\n",
    "from tqdm.notebook import tqdm\n",
    "import warnings"
   ]
  },
  {
   "cell_type": "code",
   "execution_count": 2,
   "id": "85901d55-2f8b-4b68-b544-768f6e0ae6c7",
   "metadata": {},
   "outputs": [],
   "source": [
    "warnings.simplefilter(action='ignore', category=FutureWarning)"
   ]
  },
  {
   "cell_type": "code",
   "execution_count": 3,
   "id": "038ad659-06eb-4e4d-b0bc-5cac6d2c11fa",
   "metadata": {},
   "outputs": [
    {
     "name": "stdout",
     "output_type": "stream",
     "text": [
      "Using device: cuda\n"
     ]
    }
   ],
   "source": [
    "device = torch.device(\"cuda\" if torch.cuda.is_available() else \"cpu\")\n",
    "print(f\"Using device: {device}\")\n",
    "SEED = 42\n",
    "random.seed(SEED)\n",
    "np.random.seed(SEED)\n",
    "torch.manual_seed(SEED)\n",
    "if torch.cuda.is_available():\n",
    "    torch.cuda.manual_seed_all(SEED)"
   ]
  },
  {
   "cell_type": "code",
   "execution_count": 4,
   "id": "557f1d5e-71b8-485c-8922-64abf2ec272a",
   "metadata": {},
   "outputs": [
    {
     "name": "stdout",
     "output_type": "stream",
     "text": [
      "Đã định nghĩa xong pipeline Augmentation mới cho Spectrogram.\n"
     ]
    }
   ],
   "source": [
    "class TimeShift(torch.nn.Module):\n",
    "    \"\"\" Dịch chuyển spectrogram theo trục thời gian một cách ngẫu nhiên. \"\"\"\n",
    "    def __init__(self, p=0.5, max_shift_percent=0.4):\n",
    "        super().__init__()\n",
    "        self.p = p\n",
    "        self.max_shift_percent = max_shift_percent\n",
    "\n",
    "    def forward(self, spec):\n",
    "        if torch.rand(1) < self.p:\n",
    "            time_steps = spec.shape[-1]\n",
    "            shift_amount = int(torch.rand(1) * self.max_shift_percent * time_steps)\n",
    "            if torch.rand(1) < 0.5:\n",
    "                shift_amount = -shift_amount\n",
    "            return torch.roll(spec, shifts=shift_amount, dims=-1)\n",
    "        return spec\n",
    "\n",
    "class SpecNoise(torch.nn.Module):\n",
    "    \"\"\" Thêm nhiễu Gaussian trực tiếp vào spectrogram. \"\"\"\n",
    "    def __init__(self, p=0.5, noise_level=0.05):\n",
    "        super().__init__()\n",
    "        self.p = p\n",
    "        self.noise_level = noise_level\n",
    "\n",
    "    def forward(self, spec):\n",
    "        if torch.rand(1) < self.p:\n",
    "            noise = torch.randn_like(spec) * self.noise_level\n",
    "            return spec + noise\n",
    "        return spec\n",
    "\n",
    "train_transform = T.Compose([\n",
    "    torchaudio.transforms.TimeMasking(time_mask_param=80),\n",
    "    torchaudio.transforms.FrequencyMasking(freq_mask_param=25),\n",
    "    TimeShift(p=0.5, max_shift_percent=0.4),\n",
    "    SpecNoise(p=0.3, noise_level=0.03),\n",
    "])\n",
    "\n",
    "val_transform = None\n",
    "print(\"Đã định nghĩa xong pipeline Augmentation mới cho Spectrogram.\")"
   ]
  },
  {
   "cell_type": "code",
   "execution_count": 5,
   "id": "5c89c605-3056-4229-9e0f-6aca8d200ae1",
   "metadata": {},
   "outputs": [],
   "source": [
    "def mixup_data(x, y, alpha=0.4, use_cuda=True):\n",
    "    if alpha > 0:\n",
    "        lam = np.random.beta(alpha, alpha)\n",
    "    else:\n",
    "        lam = 1\n",
    "    batch_size = x.size()[0]\n",
    "    if use_cuda:\n",
    "        index = torch.randperm(batch_size).cuda()\n",
    "    else:\n",
    "        index = torch.randperm(batch_size)\n",
    "    mixed_x = lam * x + (1 - lam) * x[index, :]\n",
    "    y_a, y_b = y, y[index]\n",
    "    return mixed_x, y_a, y_b, lam\n",
    "\n",
    "def mixup_criterion(criterion, pred, y_a, y_b, lam):\n",
    "    return lam * criterion(pred, y_a) + (1 - lam) * criterion(pred, y_b)"
   ]
  },
  {
   "cell_type": "code",
   "execution_count": 6,
   "id": "b01c647b-d663-44d0-a5cf-6acb130ff561",
   "metadata": {},
   "outputs": [],
   "source": [
    "class MobileNetV3_AudioClassifier(nn.Module):\n",
    "    def __init__(self, num_classes, input_channels=1, pretrained=True, pretrained_weights_path=None):\n",
    "        super().__init__()\n",
    "        weights = models.MobileNet_V3_Large_Weights.DEFAULT if pretrained else None\n",
    "        self.mobilenet = models.mobilenet_v3_large(weights=weights)\n",
    "\n",
    "        # Thay thế lớp Conv2d đầu tiên để phù hợp với số kênh đầu vào (1 cho spectrogram)\n",
    "        original_conv = self.mobilenet.features[0][0]\n",
    "        new_first_conv = nn.Conv2d(\n",
    "            in_channels=input_channels,\n",
    "            out_channels=original_conv.out_channels,\n",
    "            kernel_size=original_conv.kernel_size,\n",
    "            stride=original_conv.stride,\n",
    "            padding=original_conv.padding,\n",
    "            bias=original_conv.bias is not None\n",
    "        )\n",
    "        self.mobilenet.features[0][0] = new_first_conv\n",
    "\n",
    "        # Thay thế lớp classifier\n",
    "        num_ftrs = self.mobilenet.classifier[-1].in_features\n",
    "        self.mobilenet.classifier[-1] = nn.Linear(num_ftrs, num_classes)\n",
    "\n",
    "        if pretrained_weights_path:\n",
    "            print(f\"Loading pretrained weights from: {pretrained_weights_path}\")\n",
    "            checkpoint = torch.load(pretrained_weights_path, map_location=device, weights_only=True)\n",
    "            state_dict = {k: v for k, v in checkpoint.items() if k in self.state_dict()}\n",
    "            self.load_state_dict(state_dict, strict=False)\n",
    "\n",
    "    def forward(self, x):\n",
    "        if x.dim() == 3:\n",
    "            x = x.unsqueeze(1)  # Thêm chiều kênh nếu cần"
   ]
  },
  {
   "cell_type": "code",
   "execution_count": 7,
   "id": "5404ef81-b4aa-477b-9ed2-1e7ce42c5042",
   "metadata": {},
   "outputs": [],
   "source": [
    "class SpectrogramDataset(Dataset):\n",
    "    def __init__(self, metadata_df, data_dir, transform=None, target_tdim=216):\n",
    "        super().__init__()\n",
    "        self.metadata = metadata_df\n",
    "        self.data_dir = data_dir\n",
    "        self.transform = transform\n",
    "        self.target_tdim = target_tdim\n",
    "        self.class_names = sorted(self.metadata['label'].unique())\n",
    "        self.class_to_id = {name: i for i, name in enumerate(self.class_names)}\n",
    "\n",
    "    def __len__(self):\n",
    "        return len(self.metadata)\n",
    "\n",
    "    def __getitem__(self, idx):\n",
    "        row = self.metadata.iloc[idx]\n",
    "        file_path = os.path.join(self.data_dir, row['tensor_path'])\n",
    "        label = self.class_to_id[row['label']]\n",
    "\n",
    "        try:\n",
    "            spectrogram = torch.load(file_path)\n",
    "            current_tdim = spectrogram.shape[2]\n",
    "            if current_tdim > self.target_tdim:\n",
    "                spectrogram = spectrogram[:, :, :self.target_tdim]\n",
    "            elif current_tdim < self.target_tdim:\n",
    "                spectrogram = F.pad(spectrogram, (0, self.target_tdim - current_tdim))\n",
    "\n",
    "            if self.transform:\n",
    "                spectrogram = self.transform(spectrogram)\n",
    "            return spectrogram, label\n",
    "        except Exception as e:\n",
    "            print(f\"Error loading or processing file {file_path}: {e}\")\n",
    "            return None\n",
    "\n",
    "def collate_fn_remove_none(batch):\n",
    "    batch = [item for item in batch if item is not None]\n",
    "    if not batch: return None, None\n",
    "    samples, labels = zip(*batch)\n",
    "    return torch.stack(samples), torch.tensor(labels)"
   ]
  },
  {
   "cell_type": "code",
   "execution_count": 8,
   "id": "4b399ffc-3fba-47ab-9380-6b439d24a332",
   "metadata": {},
   "outputs": [],
   "source": [
    "def train_and_evaluate(model, train_loader, val_loader, epochs, checkpoint_path, metrics_csv_path):\n",
    "    optimizer = torch.optim.AdamW(model.parameters(), lr=1e-3, weight_decay=1e-4)\n",
    "    criterion = nn.CrossEntropyLoss()\n",
    "    scheduler = torch.optim.lr_scheduler.ReduceLROnPlateau(optimizer, 'max', factor=0.5, patience=5, verbose=False)\n",
    "    scaler = torch.cuda.amp.GradScaler(enabled=torch.cuda.is_available())\n",
    "    best_f1 = 0.0\n",
    "\n",
    "    if not os.path.exists(metrics_csv_path):\n",
    "        pd.DataFrame(columns=['Epoch', 'Accuracy', 'Precision', 'Recall', 'F1-Score']).to_csv(metrics_csv_path, index=False)\n",
    "\n",
    "    for epoch in range(epochs):\n",
    "        model.train()\n",
    "        loop = tqdm(train_loader, desc=f\"Epoch {epoch+1}/{epochs}\", leave=False)\n",
    "        for inputs, labels in loop:\n",
    "            if inputs is None: continue\n",
    "            inputs, labels = inputs.to(device), labels.to(device)\n",
    "            optimizer.zero_grad(set_to_none=True)\n",
    "\n",
    "            with torch.cuda.amp.autocast(enabled=torch.cuda.is_available()):\n",
    "                outputs = model(inputs)\n",
    "                loss = criterion(outputs, labels)\n",
    "\n",
    "            scaler.scale(loss).backward()\n",
    "            scaler.step(optimizer)\n",
    "            scaler.update()\n",
    "\n",
    "        model.eval()\n",
    "        val_preds, val_labels = [], []\n",
    "        with torch.no_grad():\n",
    "            for inputs, labels in val_loader:\n",
    "                if inputs is None: continue\n",
    "                inputs, labels = inputs.to(device), labels.to(device)\n",
    "                with torch.cuda.amp.autocast(enabled=torch.cuda.is_available()):\n",
    "                    outputs = model(inputs)\n",
    "                _, predicted = torch.max(outputs.data, 1)\n",
    "                val_preds.extend(predicted.cpu().numpy())\n",
    "                val_labels.extend(labels.cpu().numpy())\n",
    "\n",
    "        if len(val_labels) > 0:\n",
    "            current_f1 = f1_score(val_labels, val_preds, average='weighted', zero_division=0)\n",
    "            if current_f1 > best_f1:\n",
    "                best_f1 = current_f1\n",
    "                current_accuracy = accuracy_score(val_labels, val_preds)\n",
    "                current_precision = precision_score(val_labels, val_preds, average='weighted', zero_division=0)\n",
    "                current_recall = recall_score(val_labels, val_preds, average='weighted', zero_division=0)\n",
    "\n",
    "                print(f\"\\nEpoch {epoch+1}: New best F1-score: {best_f1:.4f}\")\n",
    "                print(f\"Accuracy: {current_accuracy:.4f}, Precision: {current_precision:.4f}, Recall: {current_recall:.4f}\")\n",
    "                print(f\"Saving checkpoint to {checkpoint_path}\")\n",
    "                torch.save(model.state_dict(), checkpoint_path)\n",
    "\n",
    "                metrics_df = pd.DataFrame([{'Epoch': epoch + 1, 'Accuracy': current_accuracy, 'Precision': current_precision, 'Recall': current_recall, 'F1-Score': current_f1}])\n",
    "                metrics_df.to_csv(metrics_csv_path, mode='a', header=False, index=False)\n",
    "            scheduler.step(current_f1)\n",
    "\n",
    "    print(f\"Finished Training for this run. Best F1-score: {best_f1:.4f}\")\n",
    "    return best_f1"
   ]
  },
  {
   "cell_type": "code",
   "execution_count": 9,
   "id": "86323c01-d0ca-4715-a61d-c820c114827e",
   "metadata": {},
   "outputs": [
    {
     "name": "stdout",
     "output_type": "stream",
     "text": [
      "Preparing dataset...\n",
      "Number of classes: 8\n",
      "Data split: 7316 train, 1830 test.\n"
     ]
    }
   ],
   "source": [
    "ROOT_DIR = r'C:\\Users\\PC\\lavar\\audiotwin_checkpoints_medium'\n",
    "METADATA_PATH = os.path.join(ROOT_DIR, 'spectrogram_tensor_metadata.csv')\n",
    "CHECKPOINT_DIR = os.path.join(ROOT_DIR, 'training_checkpoints')\n",
    "os.makedirs(CHECKPOINT_DIR, exist_ok=True)\n",
    "\n",
    "DATA_PERCENTAGES = [1.0]\n",
    "results = {}\n",
    "\n",
    "print(\"Preparing dataset...\")\n",
    "full_metadata = pd.read_csv(METADATA_PATH)\n",
    "num_classes = len(full_metadata['label'].unique())\n",
    "print(f\"Number of classes: {num_classes}\")\n",
    "\n",
    "indices = np.arange(len(full_metadata))\n",
    "labels = full_metadata['label'].values\n",
    "train_indices, test_indices, _, _ = train_test_split(\n",
    "    indices, labels, test_size=0.2, random_state=SEED, stratify=labels\n",
    ")\n",
    "print(f\"Data split: {len(train_indices)} train, {len(test_indices)} test.\")\n",
    "\n",
    "test_metadata = full_metadata.iloc[test_indices]\n",
    "test_dataset = SpectrogramDataset(metadata_df=test_metadata, data_dir=ROOT_DIR, transform=val_transform)\n",
    "test_loader = DataLoader(test_dataset, batch_size=32, num_workers=0, collate_fn=collate_fn_remove_none)\n",
    "\n",
    "# 2. Cấu hình mô hình MobileNetV3\n",
    "model_configs = {\n",
    "    \"MobileNetV3-Large\": {\n",
    "        \"model_class\": MobileNetV3_AudioClassifier,\n",
    "        \"args\": {\n",
    "            \"num_classes\": num_classes,\n",
    "            \"input_channels\": 1,\n",
    "            \"pretrained\": True  # Sử dụng pretrained weights từ ImageNet\n",
    "        }\n",
    "    }\n",
    "}"
   ]
  },
  {
   "cell_type": "code",
   "execution_count": 10,
   "id": "76c4f6a8-056d-4f76-b878-3b45ce915fe3",
   "metadata": {},
   "outputs": [
    {
     "name": "stdout",
     "output_type": "stream",
     "text": [
      "\n",
      "==================== Evaluating: MobileNetV3-Large ====================\n",
      "--- Training with 100.0% of labeled data ---\n"
     ]
    },
    {
     "name": "stderr",
     "output_type": "stream",
     "text": [
      "Downloading: \"https://download.pytorch.org/models/mobilenet_v3_large-5c1a4163.pth\" to C:\\Users\\PC/.cache\\torch\\hub\\checkpoints\\mobilenet_v3_large-5c1a4163.pth\n",
      "100%|█████████████████████████████████████████████████████████████████████████████| 21.1M/21.1M [00:01<00:00, 11.8MB/s]\n",
      "C:\\Users\\PC\\anaconda3\\envs\\train_env\\lib\\site-packages\\torch\\optim\\lr_scheduler.py:62: UserWarning: The verbose parameter is deprecated. Please use get_last_lr() to access the learning rate.\n",
      "  warnings.warn(\n"
     ]
    },
    {
     "data": {
      "application/vnd.jupyter.widget-view+json": {
       "model_id": "90c813d216d848ab8b203cfca212c6b6",
       "version_major": 2,
       "version_minor": 0
      },
      "text/plain": [
       "Epoch 1/100:   0%|          | 0/229 [00:00<?, ?it/s]"
      ]
     },
     "metadata": {},
     "output_type": "display_data"
    },
    {
     "name": "stdout",
     "output_type": "stream",
     "text": [
      "\n",
      "Epoch 1: New best F1-score: 0.7057\n",
      "Accuracy: 0.7301, Precision: 0.7409, Recall: 0.7301\n",
      "Saving checkpoint to C:\\Users\\PC\\lavar\\audiotwin_checkpoints_medium\\training_checkpoints\\MobileNetV3-Large_data_100.0percent.pth\n"
     ]
    },
    {
     "data": {
      "application/vnd.jupyter.widget-view+json": {
       "model_id": "ef26c3b1c3124b40b8d2f12443cef61d",
       "version_major": 2,
       "version_minor": 0
      },
      "text/plain": [
       "Epoch 2/100:   0%|          | 0/229 [00:00<?, ?it/s]"
      ]
     },
     "metadata": {},
     "output_type": "display_data"
    },
    {
     "name": "stdout",
     "output_type": "stream",
     "text": [
      "\n",
      "Epoch 2: New best F1-score: 0.8182\n",
      "Accuracy: 0.8164, Precision: 0.8365, Recall: 0.8164\n",
      "Saving checkpoint to C:\\Users\\PC\\lavar\\audiotwin_checkpoints_medium\\training_checkpoints\\MobileNetV3-Large_data_100.0percent.pth\n"
     ]
    },
    {
     "data": {
      "application/vnd.jupyter.widget-view+json": {
       "model_id": "c4eb151ea7b444ee9d707218d237f923",
       "version_major": 2,
       "version_minor": 0
      },
      "text/plain": [
       "Epoch 3/100:   0%|          | 0/229 [00:00<?, ?it/s]"
      ]
     },
     "metadata": {},
     "output_type": "display_data"
    },
    {
     "name": "stdout",
     "output_type": "stream",
     "text": [
      "\n",
      "Epoch 3: New best F1-score: 0.8234\n",
      "Accuracy: 0.8284, Precision: 0.8346, Recall: 0.8284\n",
      "Saving checkpoint to C:\\Users\\PC\\lavar\\audiotwin_checkpoints_medium\\training_checkpoints\\MobileNetV3-Large_data_100.0percent.pth\n"
     ]
    },
    {
     "data": {
      "application/vnd.jupyter.widget-view+json": {
       "model_id": "ccdb6bc50d1c428284374c478a6aa0b8",
       "version_major": 2,
       "version_minor": 0
      },
      "text/plain": [
       "Epoch 4/100:   0%|          | 0/229 [00:00<?, ?it/s]"
      ]
     },
     "metadata": {},
     "output_type": "display_data"
    },
    {
     "name": "stdout",
     "output_type": "stream",
     "text": [
      "\n",
      "Epoch 4: New best F1-score: 0.8524\n",
      "Accuracy: 0.8530, Precision: 0.8570, Recall: 0.8530\n",
      "Saving checkpoint to C:\\Users\\PC\\lavar\\audiotwin_checkpoints_medium\\training_checkpoints\\MobileNetV3-Large_data_100.0percent.pth\n"
     ]
    },
    {
     "data": {
      "application/vnd.jupyter.widget-view+json": {
       "model_id": "1f682da731b54f5baa7e0bc6c7542bc0",
       "version_major": 2,
       "version_minor": 0
      },
      "text/plain": [
       "Epoch 5/100:   0%|          | 0/229 [00:00<?, ?it/s]"
      ]
     },
     "metadata": {},
     "output_type": "display_data"
    },
    {
     "data": {
      "application/vnd.jupyter.widget-view+json": {
       "model_id": "bb8f0d14401b41a7af06e09e884ab06c",
       "version_major": 2,
       "version_minor": 0
      },
      "text/plain": [
       "Epoch 6/100:   0%|          | 0/229 [00:00<?, ?it/s]"
      ]
     },
     "metadata": {},
     "output_type": "display_data"
    },
    {
     "name": "stdout",
     "output_type": "stream",
     "text": [
      "\n",
      "Epoch 6: New best F1-score: 0.8565\n",
      "Accuracy: 0.8607, Precision: 0.8674, Recall: 0.8607\n",
      "Saving checkpoint to C:\\Users\\PC\\lavar\\audiotwin_checkpoints_medium\\training_checkpoints\\MobileNetV3-Large_data_100.0percent.pth\n"
     ]
    },
    {
     "data": {
      "application/vnd.jupyter.widget-view+json": {
       "model_id": "ed89518bddd7457e97bc200010a8abe7",
       "version_major": 2,
       "version_minor": 0
      },
      "text/plain": [
       "Epoch 7/100:   0%|          | 0/229 [00:00<?, ?it/s]"
      ]
     },
     "metadata": {},
     "output_type": "display_data"
    },
    {
     "data": {
      "application/vnd.jupyter.widget-view+json": {
       "model_id": "e5c60db55eea4808a9f413ab77be0799",
       "version_major": 2,
       "version_minor": 0
      },
      "text/plain": [
       "Epoch 8/100:   0%|          | 0/229 [00:00<?, ?it/s]"
      ]
     },
     "metadata": {},
     "output_type": "display_data"
    },
    {
     "name": "stdout",
     "output_type": "stream",
     "text": [
      "\n",
      "Epoch 8: New best F1-score: 0.8701\n",
      "Accuracy: 0.8721, Precision: 0.8779, Recall: 0.8721\n",
      "Saving checkpoint to C:\\Users\\PC\\lavar\\audiotwin_checkpoints_medium\\training_checkpoints\\MobileNetV3-Large_data_100.0percent.pth\n"
     ]
    },
    {
     "data": {
      "application/vnd.jupyter.widget-view+json": {
       "model_id": "4d0ffd43851843649672e820693fa52e",
       "version_major": 2,
       "version_minor": 0
      },
      "text/plain": [
       "Epoch 9/100:   0%|          | 0/229 [00:00<?, ?it/s]"
      ]
     },
     "metadata": {},
     "output_type": "display_data"
    },
    {
     "data": {
      "application/vnd.jupyter.widget-view+json": {
       "model_id": "09d5cb6e5e8a4b11af93f6e170e55ea9",
       "version_major": 2,
       "version_minor": 0
      },
      "text/plain": [
       "Epoch 10/100:   0%|          | 0/229 [00:00<?, ?it/s]"
      ]
     },
     "metadata": {},
     "output_type": "display_data"
    },
    {
     "data": {
      "application/vnd.jupyter.widget-view+json": {
       "model_id": "8596cd71a1bb46cf8c379d578fb35603",
       "version_major": 2,
       "version_minor": 0
      },
      "text/plain": [
       "Epoch 11/100:   0%|          | 0/229 [00:00<?, ?it/s]"
      ]
     },
     "metadata": {},
     "output_type": "display_data"
    },
    {
     "data": {
      "application/vnd.jupyter.widget-view+json": {
       "model_id": "d25d63f87d994c4ea0ca51044676d409",
       "version_major": 2,
       "version_minor": 0
      },
      "text/plain": [
       "Epoch 12/100:   0%|          | 0/229 [00:00<?, ?it/s]"
      ]
     },
     "metadata": {},
     "output_type": "display_data"
    },
    {
     "name": "stdout",
     "output_type": "stream",
     "text": [
      "\n",
      "Epoch 12: New best F1-score: 0.8839\n",
      "Accuracy: 0.8847, Precision: 0.8869, Recall: 0.8847\n",
      "Saving checkpoint to C:\\Users\\PC\\lavar\\audiotwin_checkpoints_medium\\training_checkpoints\\MobileNetV3-Large_data_100.0percent.pth\n"
     ]
    },
    {
     "data": {
      "application/vnd.jupyter.widget-view+json": {
       "model_id": "e35f57f996c34c6796616b0499c6a5b3",
       "version_major": 2,
       "version_minor": 0
      },
      "text/plain": [
       "Epoch 13/100:   0%|          | 0/229 [00:00<?, ?it/s]"
      ]
     },
     "metadata": {},
     "output_type": "display_data"
    },
    {
     "data": {
      "application/vnd.jupyter.widget-view+json": {
       "model_id": "16bd10719d854d5e981dc469da22897c",
       "version_major": 2,
       "version_minor": 0
      },
      "text/plain": [
       "Epoch 14/100:   0%|          | 0/229 [00:00<?, ?it/s]"
      ]
     },
     "metadata": {},
     "output_type": "display_data"
    },
    {
     "name": "stdout",
     "output_type": "stream",
     "text": [
      "\n",
      "Epoch 14: New best F1-score: 0.8911\n",
      "Accuracy: 0.8907, Precision: 0.9068, Recall: 0.8907\n",
      "Saving checkpoint to C:\\Users\\PC\\lavar\\audiotwin_checkpoints_medium\\training_checkpoints\\MobileNetV3-Large_data_100.0percent.pth\n"
     ]
    },
    {
     "data": {
      "application/vnd.jupyter.widget-view+json": {
       "model_id": "dae6c9fbb3324ab6b1b4cabad841ce02",
       "version_major": 2,
       "version_minor": 0
      },
      "text/plain": [
       "Epoch 15/100:   0%|          | 0/229 [00:00<?, ?it/s]"
      ]
     },
     "metadata": {},
     "output_type": "display_data"
    },
    {
     "name": "stdout",
     "output_type": "stream",
     "text": [
      "\n",
      "Epoch 15: New best F1-score: 0.8973\n",
      "Accuracy: 0.8984, Precision: 0.9134, Recall: 0.8984\n",
      "Saving checkpoint to C:\\Users\\PC\\lavar\\audiotwin_checkpoints_medium\\training_checkpoints\\MobileNetV3-Large_data_100.0percent.pth\n"
     ]
    },
    {
     "data": {
      "application/vnd.jupyter.widget-view+json": {
       "model_id": "f752d5f4af0a43bbbd9a64af63857a2b",
       "version_major": 2,
       "version_minor": 0
      },
      "text/plain": [
       "Epoch 16/100:   0%|          | 0/229 [00:00<?, ?it/s]"
      ]
     },
     "metadata": {},
     "output_type": "display_data"
    },
    {
     "name": "stdout",
     "output_type": "stream",
     "text": [
      "\n",
      "Epoch 16: New best F1-score: 0.9058\n",
      "Accuracy: 0.9071, Precision: 0.9100, Recall: 0.9071\n",
      "Saving checkpoint to C:\\Users\\PC\\lavar\\audiotwin_checkpoints_medium\\training_checkpoints\\MobileNetV3-Large_data_100.0percent.pth\n"
     ]
    },
    {
     "data": {
      "application/vnd.jupyter.widget-view+json": {
       "model_id": "ad91e2f08364459fb7516f3391394ec0",
       "version_major": 2,
       "version_minor": 0
      },
      "text/plain": [
       "Epoch 17/100:   0%|          | 0/229 [00:00<?, ?it/s]"
      ]
     },
     "metadata": {},
     "output_type": "display_data"
    },
    {
     "name": "stdout",
     "output_type": "stream",
     "text": [
      "\n",
      "Epoch 17: New best F1-score: 0.9098\n",
      "Accuracy: 0.9104, Precision: 0.9120, Recall: 0.9104\n",
      "Saving checkpoint to C:\\Users\\PC\\lavar\\audiotwin_checkpoints_medium\\training_checkpoints\\MobileNetV3-Large_data_100.0percent.pth\n"
     ]
    },
    {
     "data": {
      "application/vnd.jupyter.widget-view+json": {
       "model_id": "a2a1e837069c4344b1728a47b2fd1218",
       "version_major": 2,
       "version_minor": 0
      },
      "text/plain": [
       "Epoch 18/100:   0%|          | 0/229 [00:00<?, ?it/s]"
      ]
     },
     "metadata": {},
     "output_type": "display_data"
    },
    {
     "name": "stdout",
     "output_type": "stream",
     "text": [
      "\n",
      "Epoch 18: New best F1-score: 0.9112\n",
      "Accuracy: 0.9104, Precision: 0.9171, Recall: 0.9104\n",
      "Saving checkpoint to C:\\Users\\PC\\lavar\\audiotwin_checkpoints_medium\\training_checkpoints\\MobileNetV3-Large_data_100.0percent.pth\n"
     ]
    },
    {
     "data": {
      "application/vnd.jupyter.widget-view+json": {
       "model_id": "59db9364aaa6434aac94f66fb67ee273",
       "version_major": 2,
       "version_minor": 0
      },
      "text/plain": [
       "Epoch 19/100:   0%|          | 0/229 [00:00<?, ?it/s]"
      ]
     },
     "metadata": {},
     "output_type": "display_data"
    },
    {
     "data": {
      "application/vnd.jupyter.widget-view+json": {
       "model_id": "e7a59f4fc029474fb7312fb5b3ce801b",
       "version_major": 2,
       "version_minor": 0
      },
      "text/plain": [
       "Epoch 20/100:   0%|          | 0/229 [00:00<?, ?it/s]"
      ]
     },
     "metadata": {},
     "output_type": "display_data"
    },
    {
     "data": {
      "application/vnd.jupyter.widget-view+json": {
       "model_id": "c0ae6b1a07554cdbb45e654b9baa3ede",
       "version_major": 2,
       "version_minor": 0
      },
      "text/plain": [
       "Epoch 21/100:   0%|          | 0/229 [00:00<?, ?it/s]"
      ]
     },
     "metadata": {},
     "output_type": "display_data"
    },
    {
     "data": {
      "application/vnd.jupyter.widget-view+json": {
       "model_id": "cd33f79657ca446297b58d59a992d5d9",
       "version_major": 2,
       "version_minor": 0
      },
      "text/plain": [
       "Epoch 22/100:   0%|          | 0/229 [00:00<?, ?it/s]"
      ]
     },
     "metadata": {},
     "output_type": "display_data"
    },
    {
     "name": "stdout",
     "output_type": "stream",
     "text": [
      "\n",
      "Epoch 22: New best F1-score: 0.9147\n",
      "Accuracy: 0.9148, Precision: 0.9187, Recall: 0.9148\n",
      "Saving checkpoint to C:\\Users\\PC\\lavar\\audiotwin_checkpoints_medium\\training_checkpoints\\MobileNetV3-Large_data_100.0percent.pth\n"
     ]
    },
    {
     "data": {
      "application/vnd.jupyter.widget-view+json": {
       "model_id": "3ae09325f00c465baf2e38c72b113569",
       "version_major": 2,
       "version_minor": 0
      },
      "text/plain": [
       "Epoch 23/100:   0%|          | 0/229 [00:00<?, ?it/s]"
      ]
     },
     "metadata": {},
     "output_type": "display_data"
    },
    {
     "data": {
      "application/vnd.jupyter.widget-view+json": {
       "model_id": "c4e13127a4d04f338ff0d76f532006b9",
       "version_major": 2,
       "version_minor": 0
      },
      "text/plain": [
       "Epoch 24/100:   0%|          | 0/229 [00:00<?, ?it/s]"
      ]
     },
     "metadata": {},
     "output_type": "display_data"
    },
    {
     "data": {
      "application/vnd.jupyter.widget-view+json": {
       "model_id": "0bc0063afb224eee8dc63481497153dc",
       "version_major": 2,
       "version_minor": 0
      },
      "text/plain": [
       "Epoch 25/100:   0%|          | 0/229 [00:00<?, ?it/s]"
      ]
     },
     "metadata": {},
     "output_type": "display_data"
    },
    {
     "name": "stdout",
     "output_type": "stream",
     "text": [
      "\n",
      "Epoch 25: New best F1-score: 0.9235\n",
      "Accuracy: 0.9235, Precision: 0.9247, Recall: 0.9235\n",
      "Saving checkpoint to C:\\Users\\PC\\lavar\\audiotwin_checkpoints_medium\\training_checkpoints\\MobileNetV3-Large_data_100.0percent.pth\n"
     ]
    },
    {
     "data": {
      "application/vnd.jupyter.widget-view+json": {
       "model_id": "76db386a3b404cd9accc67521169d305",
       "version_major": 2,
       "version_minor": 0
      },
      "text/plain": [
       "Epoch 26/100:   0%|          | 0/229 [00:00<?, ?it/s]"
      ]
     },
     "metadata": {},
     "output_type": "display_data"
    },
    {
     "data": {
      "application/vnd.jupyter.widget-view+json": {
       "model_id": "143c005a946c471ea7f2af5da48eb039",
       "version_major": 2,
       "version_minor": 0
      },
      "text/plain": [
       "Epoch 27/100:   0%|          | 0/229 [00:00<?, ?it/s]"
      ]
     },
     "metadata": {},
     "output_type": "display_data"
    },
    {
     "data": {
      "application/vnd.jupyter.widget-view+json": {
       "model_id": "861ae2f83ba348ebacec5013c58b6644",
       "version_major": 2,
       "version_minor": 0
      },
      "text/plain": [
       "Epoch 28/100:   0%|          | 0/229 [00:00<?, ?it/s]"
      ]
     },
     "metadata": {},
     "output_type": "display_data"
    },
    {
     "data": {
      "application/vnd.jupyter.widget-view+json": {
       "model_id": "b9c9f9f18dfe4faaa97d532758aa019a",
       "version_major": 2,
       "version_minor": 0
      },
      "text/plain": [
       "Epoch 29/100:   0%|          | 0/229 [00:00<?, ?it/s]"
      ]
     },
     "metadata": {},
     "output_type": "display_data"
    },
    {
     "data": {
      "application/vnd.jupyter.widget-view+json": {
       "model_id": "3891268e5ff044adb358d44505535f8b",
       "version_major": 2,
       "version_minor": 0
      },
      "text/plain": [
       "Epoch 30/100:   0%|          | 0/229 [00:00<?, ?it/s]"
      ]
     },
     "metadata": {},
     "output_type": "display_data"
    },
    {
     "name": "stdout",
     "output_type": "stream",
     "text": [
      "\n",
      "Epoch 30: New best F1-score: 0.9275\n",
      "Accuracy: 0.9273, Precision: 0.9300, Recall: 0.9273\n",
      "Saving checkpoint to C:\\Users\\PC\\lavar\\audiotwin_checkpoints_medium\\training_checkpoints\\MobileNetV3-Large_data_100.0percent.pth\n"
     ]
    },
    {
     "data": {
      "application/vnd.jupyter.widget-view+json": {
       "model_id": "5b06e2d5d11d4b2da68d700e22a47915",
       "version_major": 2,
       "version_minor": 0
      },
      "text/plain": [
       "Epoch 31/100:   0%|          | 0/229 [00:00<?, ?it/s]"
      ]
     },
     "metadata": {},
     "output_type": "display_data"
    },
    {
     "data": {
      "application/vnd.jupyter.widget-view+json": {
       "model_id": "ec6793d28ab743f9850824a3a3b75e4c",
       "version_major": 2,
       "version_minor": 0
      },
      "text/plain": [
       "Epoch 32/100:   0%|          | 0/229 [00:00<?, ?it/s]"
      ]
     },
     "metadata": {},
     "output_type": "display_data"
    },
    {
     "name": "stdout",
     "output_type": "stream",
     "text": [
      "\n",
      "Epoch 32: New best F1-score: 0.9429\n",
      "Accuracy: 0.9426, Precision: 0.9451, Recall: 0.9426\n",
      "Saving checkpoint to C:\\Users\\PC\\lavar\\audiotwin_checkpoints_medium\\training_checkpoints\\MobileNetV3-Large_data_100.0percent.pth\n"
     ]
    },
    {
     "data": {
      "application/vnd.jupyter.widget-view+json": {
       "model_id": "e5f6b4db95134006834939ea4cc29806",
       "version_major": 2,
       "version_minor": 0
      },
      "text/plain": [
       "Epoch 33/100:   0%|          | 0/229 [00:00<?, ?it/s]"
      ]
     },
     "metadata": {},
     "output_type": "display_data"
    },
    {
     "data": {
      "application/vnd.jupyter.widget-view+json": {
       "model_id": "a99aef14c5de43f2a939e0773a202839",
       "version_major": 2,
       "version_minor": 0
      },
      "text/plain": [
       "Epoch 34/100:   0%|          | 0/229 [00:00<?, ?it/s]"
      ]
     },
     "metadata": {},
     "output_type": "display_data"
    },
    {
     "data": {
      "application/vnd.jupyter.widget-view+json": {
       "model_id": "4adbf52a993a4dd9891bdf409da82e46",
       "version_major": 2,
       "version_minor": 0
      },
      "text/plain": [
       "Epoch 35/100:   0%|          | 0/229 [00:00<?, ?it/s]"
      ]
     },
     "metadata": {},
     "output_type": "display_data"
    },
    {
     "data": {
      "application/vnd.jupyter.widget-view+json": {
       "model_id": "4a6ec689e45641d3820ad46c481c89fb",
       "version_major": 2,
       "version_minor": 0
      },
      "text/plain": [
       "Epoch 36/100:   0%|          | 0/229 [00:00<?, ?it/s]"
      ]
     },
     "metadata": {},
     "output_type": "display_data"
    },
    {
     "data": {
      "application/vnd.jupyter.widget-view+json": {
       "model_id": "545dd1d395be488f9bd4bafa9870f781",
       "version_major": 2,
       "version_minor": 0
      },
      "text/plain": [
       "Epoch 37/100:   0%|          | 0/229 [00:00<?, ?it/s]"
      ]
     },
     "metadata": {},
     "output_type": "display_data"
    },
    {
     "data": {
      "application/vnd.jupyter.widget-view+json": {
       "model_id": "e394bf43460e41c990cddaea416b4a5e",
       "version_major": 2,
       "version_minor": 0
      },
      "text/plain": [
       "Epoch 38/100:   0%|          | 0/229 [00:00<?, ?it/s]"
      ]
     },
     "metadata": {},
     "output_type": "display_data"
    },
    {
     "data": {
      "application/vnd.jupyter.widget-view+json": {
       "model_id": "b7f9cf4ab7564d618736674af1d90fd6",
       "version_major": 2,
       "version_minor": 0
      },
      "text/plain": [
       "Epoch 39/100:   0%|          | 0/229 [00:00<?, ?it/s]"
      ]
     },
     "metadata": {},
     "output_type": "display_data"
    },
    {
     "name": "stdout",
     "output_type": "stream",
     "text": [
      "\n",
      "Epoch 39: New best F1-score: 0.9449\n",
      "Accuracy: 0.9448, Precision: 0.9454, Recall: 0.9448\n",
      "Saving checkpoint to C:\\Users\\PC\\lavar\\audiotwin_checkpoints_medium\\training_checkpoints\\MobileNetV3-Large_data_100.0percent.pth\n"
     ]
    },
    {
     "data": {
      "application/vnd.jupyter.widget-view+json": {
       "model_id": "369c011627304f4a8d08593c75c4a622",
       "version_major": 2,
       "version_minor": 0
      },
      "text/plain": [
       "Epoch 40/100:   0%|          | 0/229 [00:00<?, ?it/s]"
      ]
     },
     "metadata": {},
     "output_type": "display_data"
    },
    {
     "data": {
      "application/vnd.jupyter.widget-view+json": {
       "model_id": "8b4251dba60848dca7afacb370abd508",
       "version_major": 2,
       "version_minor": 0
      },
      "text/plain": [
       "Epoch 41/100:   0%|          | 0/229 [00:00<?, ?it/s]"
      ]
     },
     "metadata": {},
     "output_type": "display_data"
    },
    {
     "data": {
      "application/vnd.jupyter.widget-view+json": {
       "model_id": "a357b925b87748568d0f25a7a696d8bd",
       "version_major": 2,
       "version_minor": 0
      },
      "text/plain": [
       "Epoch 42/100:   0%|          | 0/229 [00:00<?, ?it/s]"
      ]
     },
     "metadata": {},
     "output_type": "display_data"
    },
    {
     "name": "stdout",
     "output_type": "stream",
     "text": [
      "\n",
      "Epoch 42: New best F1-score: 0.9463\n",
      "Accuracy: 0.9464, Precision: 0.9480, Recall: 0.9464\n",
      "Saving checkpoint to C:\\Users\\PC\\lavar\\audiotwin_checkpoints_medium\\training_checkpoints\\MobileNetV3-Large_data_100.0percent.pth\n"
     ]
    },
    {
     "data": {
      "application/vnd.jupyter.widget-view+json": {
       "model_id": "7f80686a04b5463596499779e71c7565",
       "version_major": 2,
       "version_minor": 0
      },
      "text/plain": [
       "Epoch 43/100:   0%|          | 0/229 [00:00<?, ?it/s]"
      ]
     },
     "metadata": {},
     "output_type": "display_data"
    },
    {
     "data": {
      "application/vnd.jupyter.widget-view+json": {
       "model_id": "e54d391764eb4b369eec44bded7090f3",
       "version_major": 2,
       "version_minor": 0
      },
      "text/plain": [
       "Epoch 44/100:   0%|          | 0/229 [00:00<?, ?it/s]"
      ]
     },
     "metadata": {},
     "output_type": "display_data"
    },
    {
     "data": {
      "application/vnd.jupyter.widget-view+json": {
       "model_id": "4913035e902847ef8b8a872f529c20de",
       "version_major": 2,
       "version_minor": 0
      },
      "text/plain": [
       "Epoch 45/100:   0%|          | 0/229 [00:00<?, ?it/s]"
      ]
     },
     "metadata": {},
     "output_type": "display_data"
    },
    {
     "data": {
      "application/vnd.jupyter.widget-view+json": {
       "model_id": "5dea42fd1d994de3a06e91f823373f3f",
       "version_major": 2,
       "version_minor": 0
      },
      "text/plain": [
       "Epoch 46/100:   0%|          | 0/229 [00:00<?, ?it/s]"
      ]
     },
     "metadata": {},
     "output_type": "display_data"
    },
    {
     "name": "stdout",
     "output_type": "stream",
     "text": [
      "\n",
      "Epoch 46: New best F1-score: 0.9519\n",
      "Accuracy: 0.9519, Precision: 0.9532, Recall: 0.9519\n",
      "Saving checkpoint to C:\\Users\\PC\\lavar\\audiotwin_checkpoints_medium\\training_checkpoints\\MobileNetV3-Large_data_100.0percent.pth\n"
     ]
    },
    {
     "data": {
      "application/vnd.jupyter.widget-view+json": {
       "model_id": "1e27d378d8294bd0ab0b690e7ce92fd1",
       "version_major": 2,
       "version_minor": 0
      },
      "text/plain": [
       "Epoch 47/100:   0%|          | 0/229 [00:00<?, ?it/s]"
      ]
     },
     "metadata": {},
     "output_type": "display_data"
    },
    {
     "data": {
      "application/vnd.jupyter.widget-view+json": {
       "model_id": "53b7dcda630743fabbda53901110503f",
       "version_major": 2,
       "version_minor": 0
      },
      "text/plain": [
       "Epoch 48/100:   0%|          | 0/229 [00:00<?, ?it/s]"
      ]
     },
     "metadata": {},
     "output_type": "display_data"
    },
    {
     "data": {
      "application/vnd.jupyter.widget-view+json": {
       "model_id": "c10ea80bfa214137b41046272e63ccf3",
       "version_major": 2,
       "version_minor": 0
      },
      "text/plain": [
       "Epoch 49/100:   0%|          | 0/229 [00:00<?, ?it/s]"
      ]
     },
     "metadata": {},
     "output_type": "display_data"
    },
    {
     "name": "stdout",
     "output_type": "stream",
     "text": [
      "\n",
      "Epoch 49: New best F1-score: 0.9520\n",
      "Accuracy: 0.9519, Precision: 0.9521, Recall: 0.9519\n",
      "Saving checkpoint to C:\\Users\\PC\\lavar\\audiotwin_checkpoints_medium\\training_checkpoints\\MobileNetV3-Large_data_100.0percent.pth\n"
     ]
    },
    {
     "data": {
      "application/vnd.jupyter.widget-view+json": {
       "model_id": "4479ea64609b4cb9860de67c9861baed",
       "version_major": 2,
       "version_minor": 0
      },
      "text/plain": [
       "Epoch 50/100:   0%|          | 0/229 [00:00<?, ?it/s]"
      ]
     },
     "metadata": {},
     "output_type": "display_data"
    },
    {
     "data": {
      "application/vnd.jupyter.widget-view+json": {
       "model_id": "cc0695e4167648aaa180070436d9e9e2",
       "version_major": 2,
       "version_minor": 0
      },
      "text/plain": [
       "Epoch 51/100:   0%|          | 0/229 [00:00<?, ?it/s]"
      ]
     },
     "metadata": {},
     "output_type": "display_data"
    },
    {
     "data": {
      "application/vnd.jupyter.widget-view+json": {
       "model_id": "bae9d19c117e42e0b8b3308a2135b57c",
       "version_major": 2,
       "version_minor": 0
      },
      "text/plain": [
       "Epoch 52/100:   0%|          | 0/229 [00:00<?, ?it/s]"
      ]
     },
     "metadata": {},
     "output_type": "display_data"
    },
    {
     "name": "stdout",
     "output_type": "stream",
     "text": [
      "\n",
      "Epoch 52: New best F1-score: 0.9546\n",
      "Accuracy: 0.9546, Precision: 0.9548, Recall: 0.9546\n",
      "Saving checkpoint to C:\\Users\\PC\\lavar\\audiotwin_checkpoints_medium\\training_checkpoints\\MobileNetV3-Large_data_100.0percent.pth\n"
     ]
    },
    {
     "data": {
      "application/vnd.jupyter.widget-view+json": {
       "model_id": "3e2d8ee55ed244f1bb11d05f3d151b45",
       "version_major": 2,
       "version_minor": 0
      },
      "text/plain": [
       "Epoch 53/100:   0%|          | 0/229 [00:00<?, ?it/s]"
      ]
     },
     "metadata": {},
     "output_type": "display_data"
    },
    {
     "data": {
      "application/vnd.jupyter.widget-view+json": {
       "model_id": "4347be9e711242e78257b9b9a584bff3",
       "version_major": 2,
       "version_minor": 0
      },
      "text/plain": [
       "Epoch 54/100:   0%|          | 0/229 [00:00<?, ?it/s]"
      ]
     },
     "metadata": {},
     "output_type": "display_data"
    },
    {
     "data": {
      "application/vnd.jupyter.widget-view+json": {
       "model_id": "b60c0d495c9145cab1c5af4c6a2f8501",
       "version_major": 2,
       "version_minor": 0
      },
      "text/plain": [
       "Epoch 55/100:   0%|          | 0/229 [00:00<?, ?it/s]"
      ]
     },
     "metadata": {},
     "output_type": "display_data"
    },
    {
     "data": {
      "application/vnd.jupyter.widget-view+json": {
       "model_id": "26c3d89272d644108a05ad92ccecae06",
       "version_major": 2,
       "version_minor": 0
      },
      "text/plain": [
       "Epoch 56/100:   0%|          | 0/229 [00:00<?, ?it/s]"
      ]
     },
     "metadata": {},
     "output_type": "display_data"
    },
    {
     "data": {
      "application/vnd.jupyter.widget-view+json": {
       "model_id": "a4aa12df9cbc4893b6573ccd0ded1424",
       "version_major": 2,
       "version_minor": 0
      },
      "text/plain": [
       "Epoch 57/100:   0%|          | 0/229 [00:00<?, ?it/s]"
      ]
     },
     "metadata": {},
     "output_type": "display_data"
    },
    {
     "data": {
      "application/vnd.jupyter.widget-view+json": {
       "model_id": "7ab6b60d374e4048b7a639e37cda9fa1",
       "version_major": 2,
       "version_minor": 0
      },
      "text/plain": [
       "Epoch 58/100:   0%|          | 0/229 [00:00<?, ?it/s]"
      ]
     },
     "metadata": {},
     "output_type": "display_data"
    },
    {
     "data": {
      "application/vnd.jupyter.widget-view+json": {
       "model_id": "ff2ff75d496e4491895621008f8992e1",
       "version_major": 2,
       "version_minor": 0
      },
      "text/plain": [
       "Epoch 59/100:   0%|          | 0/229 [00:00<?, ?it/s]"
      ]
     },
     "metadata": {},
     "output_type": "display_data"
    },
    {
     "name": "stdout",
     "output_type": "stream",
     "text": [
      "\n",
      "Epoch 59: New best F1-score: 0.9552\n",
      "Accuracy: 0.9552, Precision: 0.9556, Recall: 0.9552\n",
      "Saving checkpoint to C:\\Users\\PC\\lavar\\audiotwin_checkpoints_medium\\training_checkpoints\\MobileNetV3-Large_data_100.0percent.pth\n"
     ]
    },
    {
     "data": {
      "application/vnd.jupyter.widget-view+json": {
       "model_id": "0c20ef2d93064e23992e18c4c4936b73",
       "version_major": 2,
       "version_minor": 0
      },
      "text/plain": [
       "Epoch 60/100:   0%|          | 0/229 [00:00<?, ?it/s]"
      ]
     },
     "metadata": {},
     "output_type": "display_data"
    },
    {
     "data": {
      "application/vnd.jupyter.widget-view+json": {
       "model_id": "94d329cc192a461ca0faa1357de5d4bd",
       "version_major": 2,
       "version_minor": 0
      },
      "text/plain": [
       "Epoch 61/100:   0%|          | 0/229 [00:00<?, ?it/s]"
      ]
     },
     "metadata": {},
     "output_type": "display_data"
    },
    {
     "name": "stdout",
     "output_type": "stream",
     "text": [
      "\n",
      "Epoch 61: New best F1-score: 0.9563\n",
      "Accuracy: 0.9563, Precision: 0.9568, Recall: 0.9563\n",
      "Saving checkpoint to C:\\Users\\PC\\lavar\\audiotwin_checkpoints_medium\\training_checkpoints\\MobileNetV3-Large_data_100.0percent.pth\n"
     ]
    },
    {
     "data": {
      "application/vnd.jupyter.widget-view+json": {
       "model_id": "723c2acdff0d4e1589ae5773296fca24",
       "version_major": 2,
       "version_minor": 0
      },
      "text/plain": [
       "Epoch 62/100:   0%|          | 0/229 [00:00<?, ?it/s]"
      ]
     },
     "metadata": {},
     "output_type": "display_data"
    },
    {
     "data": {
      "application/vnd.jupyter.widget-view+json": {
       "model_id": "dde534270f2e47249c533e9e739503b3",
       "version_major": 2,
       "version_minor": 0
      },
      "text/plain": [
       "Epoch 63/100:   0%|          | 0/229 [00:00<?, ?it/s]"
      ]
     },
     "metadata": {},
     "output_type": "display_data"
    },
    {
     "data": {
      "application/vnd.jupyter.widget-view+json": {
       "model_id": "00ad1180c9e64770a39ce21aeb76f91c",
       "version_major": 2,
       "version_minor": 0
      },
      "text/plain": [
       "Epoch 64/100:   0%|          | 0/229 [00:00<?, ?it/s]"
      ]
     },
     "metadata": {},
     "output_type": "display_data"
    },
    {
     "data": {
      "application/vnd.jupyter.widget-view+json": {
       "model_id": "5a691f3a392e4dfdb2b3b55901cd969d",
       "version_major": 2,
       "version_minor": 0
      },
      "text/plain": [
       "Epoch 65/100:   0%|          | 0/229 [00:00<?, ?it/s]"
      ]
     },
     "metadata": {},
     "output_type": "display_data"
    },
    {
     "data": {
      "application/vnd.jupyter.widget-view+json": {
       "model_id": "571a89a1a39c4faea120d81e5628cdc5",
       "version_major": 2,
       "version_minor": 0
      },
      "text/plain": [
       "Epoch 66/100:   0%|          | 0/229 [00:00<?, ?it/s]"
      ]
     },
     "metadata": {},
     "output_type": "display_data"
    },
    {
     "data": {
      "application/vnd.jupyter.widget-view+json": {
       "model_id": "3e83c2cd29634ad3869670bafd48840d",
       "version_major": 2,
       "version_minor": 0
      },
      "text/plain": [
       "Epoch 67/100:   0%|          | 0/229 [00:00<?, ?it/s]"
      ]
     },
     "metadata": {},
     "output_type": "display_data"
    },
    {
     "data": {
      "application/vnd.jupyter.widget-view+json": {
       "model_id": "39228eff006546d4a3547fed9a56e27e",
       "version_major": 2,
       "version_minor": 0
      },
      "text/plain": [
       "Epoch 68/100:   0%|          | 0/229 [00:00<?, ?it/s]"
      ]
     },
     "metadata": {},
     "output_type": "display_data"
    },
    {
     "data": {
      "application/vnd.jupyter.widget-view+json": {
       "model_id": "fae146156f2a42268324315386bd1983",
       "version_major": 2,
       "version_minor": 0
      },
      "text/plain": [
       "Epoch 69/100:   0%|          | 0/229 [00:00<?, ?it/s]"
      ]
     },
     "metadata": {},
     "output_type": "display_data"
    },
    {
     "name": "stdout",
     "output_type": "stream",
     "text": [
      "\n",
      "Epoch 69: New best F1-score: 0.9575\n",
      "Accuracy: 0.9574, Precision: 0.9578, Recall: 0.9574\n",
      "Saving checkpoint to C:\\Users\\PC\\lavar\\audiotwin_checkpoints_medium\\training_checkpoints\\MobileNetV3-Large_data_100.0percent.pth\n"
     ]
    },
    {
     "data": {
      "application/vnd.jupyter.widget-view+json": {
       "model_id": "542767b972af4ef9b51daf4227b6dd9c",
       "version_major": 2,
       "version_minor": 0
      },
      "text/plain": [
       "Epoch 70/100:   0%|          | 0/229 [00:00<?, ?it/s]"
      ]
     },
     "metadata": {},
     "output_type": "display_data"
    },
    {
     "data": {
      "application/vnd.jupyter.widget-view+json": {
       "model_id": "6886cb5bc2a94860ad0f2234ff12bd48",
       "version_major": 2,
       "version_minor": 0
      },
      "text/plain": [
       "Epoch 71/100:   0%|          | 0/229 [00:00<?, ?it/s]"
      ]
     },
     "metadata": {},
     "output_type": "display_data"
    },
    {
     "name": "stdout",
     "output_type": "stream",
     "text": [
      "\n",
      "Epoch 71: New best F1-score: 0.9585\n",
      "Accuracy: 0.9585, Precision: 0.9589, Recall: 0.9585\n",
      "Saving checkpoint to C:\\Users\\PC\\lavar\\audiotwin_checkpoints_medium\\training_checkpoints\\MobileNetV3-Large_data_100.0percent.pth\n"
     ]
    },
    {
     "data": {
      "application/vnd.jupyter.widget-view+json": {
       "model_id": "4520a50ffdd04ab199b2d954805fd687",
       "version_major": 2,
       "version_minor": 0
      },
      "text/plain": [
       "Epoch 72/100:   0%|          | 0/229 [00:00<?, ?it/s]"
      ]
     },
     "metadata": {},
     "output_type": "display_data"
    },
    {
     "data": {
      "application/vnd.jupyter.widget-view+json": {
       "model_id": "3cf5d5bfa4264ae4ba5753e5b960de5b",
       "version_major": 2,
       "version_minor": 0
      },
      "text/plain": [
       "Epoch 73/100:   0%|          | 0/229 [00:00<?, ?it/s]"
      ]
     },
     "metadata": {},
     "output_type": "display_data"
    },
    {
     "data": {
      "application/vnd.jupyter.widget-view+json": {
       "model_id": "2cfa1be3c5c9405890d227b2a77a6985",
       "version_major": 2,
       "version_minor": 0
      },
      "text/plain": [
       "Epoch 74/100:   0%|          | 0/229 [00:00<?, ?it/s]"
      ]
     },
     "metadata": {},
     "output_type": "display_data"
    },
    {
     "data": {
      "application/vnd.jupyter.widget-view+json": {
       "model_id": "b657e6b908fb419c831dd7faabc3745c",
       "version_major": 2,
       "version_minor": 0
      },
      "text/plain": [
       "Epoch 75/100:   0%|          | 0/229 [00:00<?, ?it/s]"
      ]
     },
     "metadata": {},
     "output_type": "display_data"
    },
    {
     "data": {
      "application/vnd.jupyter.widget-view+json": {
       "model_id": "9efc5069430441c589392a4be2dbaa54",
       "version_major": 2,
       "version_minor": 0
      },
      "text/plain": [
       "Epoch 76/100:   0%|          | 0/229 [00:00<?, ?it/s]"
      ]
     },
     "metadata": {},
     "output_type": "display_data"
    },
    {
     "name": "stdout",
     "output_type": "stream",
     "text": [
      "\n",
      "Epoch 76: New best F1-score: 0.9590\n",
      "Accuracy: 0.9590, Precision: 0.9592, Recall: 0.9590\n",
      "Saving checkpoint to C:\\Users\\PC\\lavar\\audiotwin_checkpoints_medium\\training_checkpoints\\MobileNetV3-Large_data_100.0percent.pth\n"
     ]
    },
    {
     "data": {
      "application/vnd.jupyter.widget-view+json": {
       "model_id": "299af4daa800458f99bf1936ea162361",
       "version_major": 2,
       "version_minor": 0
      },
      "text/plain": [
       "Epoch 77/100:   0%|          | 0/229 [00:00<?, ?it/s]"
      ]
     },
     "metadata": {},
     "output_type": "display_data"
    },
    {
     "data": {
      "application/vnd.jupyter.widget-view+json": {
       "model_id": "988063c7a7a14f9f93cd16106684709e",
       "version_major": 2,
       "version_minor": 0
      },
      "text/plain": [
       "Epoch 78/100:   0%|          | 0/229 [00:00<?, ?it/s]"
      ]
     },
     "metadata": {},
     "output_type": "display_data"
    },
    {
     "data": {
      "application/vnd.jupyter.widget-view+json": {
       "model_id": "845060673430477b9b37b18a9bad56be",
       "version_major": 2,
       "version_minor": 0
      },
      "text/plain": [
       "Epoch 79/100:   0%|          | 0/229 [00:00<?, ?it/s]"
      ]
     },
     "metadata": {},
     "output_type": "display_data"
    },
    {
     "data": {
      "application/vnd.jupyter.widget-view+json": {
       "model_id": "c9cd7503a45c403fa7f195dbe80a24a5",
       "version_major": 2,
       "version_minor": 0
      },
      "text/plain": [
       "Epoch 80/100:   0%|          | 0/229 [00:00<?, ?it/s]"
      ]
     },
     "metadata": {},
     "output_type": "display_data"
    },
    {
     "data": {
      "application/vnd.jupyter.widget-view+json": {
       "model_id": "e7c5e1d9bef44e3ca8f1b510257f501a",
       "version_major": 2,
       "version_minor": 0
      },
      "text/plain": [
       "Epoch 81/100:   0%|          | 0/229 [00:00<?, ?it/s]"
      ]
     },
     "metadata": {},
     "output_type": "display_data"
    },
    {
     "name": "stdout",
     "output_type": "stream",
     "text": [
      "\n",
      "Epoch 81: New best F1-score: 0.9597\n",
      "Accuracy: 0.9596, Precision: 0.9601, Recall: 0.9596\n",
      "Saving checkpoint to C:\\Users\\PC\\lavar\\audiotwin_checkpoints_medium\\training_checkpoints\\MobileNetV3-Large_data_100.0percent.pth\n"
     ]
    },
    {
     "data": {
      "application/vnd.jupyter.widget-view+json": {
       "model_id": "e95e818ce95e4bb08c3ce8d7fde40ec3",
       "version_major": 2,
       "version_minor": 0
      },
      "text/plain": [
       "Epoch 82/100:   0%|          | 0/229 [00:00<?, ?it/s]"
      ]
     },
     "metadata": {},
     "output_type": "display_data"
    },
    {
     "data": {
      "application/vnd.jupyter.widget-view+json": {
       "model_id": "7fa782e6ab9846d4b680959a9371f9bc",
       "version_major": 2,
       "version_minor": 0
      },
      "text/plain": [
       "Epoch 83/100:   0%|          | 0/229 [00:00<?, ?it/s]"
      ]
     },
     "metadata": {},
     "output_type": "display_data"
    },
    {
     "data": {
      "application/vnd.jupyter.widget-view+json": {
       "model_id": "1815b1c60fdd4330ba6af790ee97f45d",
       "version_major": 2,
       "version_minor": 0
      },
      "text/plain": [
       "Epoch 84/100:   0%|          | 0/229 [00:00<?, ?it/s]"
      ]
     },
     "metadata": {},
     "output_type": "display_data"
    },
    {
     "data": {
      "application/vnd.jupyter.widget-view+json": {
       "model_id": "40f03d225eb34b4486c60a81cf9fd651",
       "version_major": 2,
       "version_minor": 0
      },
      "text/plain": [
       "Epoch 85/100:   0%|          | 0/229 [00:00<?, ?it/s]"
      ]
     },
     "metadata": {},
     "output_type": "display_data"
    },
    {
     "data": {
      "application/vnd.jupyter.widget-view+json": {
       "model_id": "7270947a65d4422984dd19676879fb16",
       "version_major": 2,
       "version_minor": 0
      },
      "text/plain": [
       "Epoch 86/100:   0%|          | 0/229 [00:00<?, ?it/s]"
      ]
     },
     "metadata": {},
     "output_type": "display_data"
    },
    {
     "name": "stdout",
     "output_type": "stream",
     "text": [
      "\n",
      "Epoch 86: New best F1-score: 0.9601\n",
      "Accuracy: 0.9601, Precision: 0.9604, Recall: 0.9601\n",
      "Saving checkpoint to C:\\Users\\PC\\lavar\\audiotwin_checkpoints_medium\\training_checkpoints\\MobileNetV3-Large_data_100.0percent.pth\n"
     ]
    },
    {
     "data": {
      "application/vnd.jupyter.widget-view+json": {
       "model_id": "d1d78b7def2940df8ccd9728323f7927",
       "version_major": 2,
       "version_minor": 0
      },
      "text/plain": [
       "Epoch 87/100:   0%|          | 0/229 [00:00<?, ?it/s]"
      ]
     },
     "metadata": {},
     "output_type": "display_data"
    },
    {
     "data": {
      "application/vnd.jupyter.widget-view+json": {
       "model_id": "4f0e838bfd0a4d78bba4b33d5ecc430a",
       "version_major": 2,
       "version_minor": 0
      },
      "text/plain": [
       "Epoch 88/100:   0%|          | 0/229 [00:00<?, ?it/s]"
      ]
     },
     "metadata": {},
     "output_type": "display_data"
    },
    {
     "data": {
      "application/vnd.jupyter.widget-view+json": {
       "model_id": "297768c3dbf7423ba9e952ca8b20b738",
       "version_major": 2,
       "version_minor": 0
      },
      "text/plain": [
       "Epoch 89/100:   0%|          | 0/229 [00:00<?, ?it/s]"
      ]
     },
     "metadata": {},
     "output_type": "display_data"
    },
    {
     "data": {
      "application/vnd.jupyter.widget-view+json": {
       "model_id": "51c2b12f210a44fa86bd7f4cd10d9ce6",
       "version_major": 2,
       "version_minor": 0
      },
      "text/plain": [
       "Epoch 90/100:   0%|          | 0/229 [00:00<?, ?it/s]"
      ]
     },
     "metadata": {},
     "output_type": "display_data"
    },
    {
     "data": {
      "application/vnd.jupyter.widget-view+json": {
       "model_id": "651ad715d86745bbac5c9ddf9070873f",
       "version_major": 2,
       "version_minor": 0
      },
      "text/plain": [
       "Epoch 91/100:   0%|          | 0/229 [00:00<?, ?it/s]"
      ]
     },
     "metadata": {},
     "output_type": "display_data"
    },
    {
     "data": {
      "application/vnd.jupyter.widget-view+json": {
       "model_id": "446ffeee118748d2811c60e56c68d29d",
       "version_major": 2,
       "version_minor": 0
      },
      "text/plain": [
       "Epoch 92/100:   0%|          | 0/229 [00:00<?, ?it/s]"
      ]
     },
     "metadata": {},
     "output_type": "display_data"
    },
    {
     "name": "stdout",
     "output_type": "stream",
     "text": [
      "\n",
      "Epoch 92: New best F1-score: 0.9601\n",
      "Accuracy: 0.9601, Precision: 0.9602, Recall: 0.9601\n",
      "Saving checkpoint to C:\\Users\\PC\\lavar\\audiotwin_checkpoints_medium\\training_checkpoints\\MobileNetV3-Large_data_100.0percent.pth\n"
     ]
    },
    {
     "data": {
      "application/vnd.jupyter.widget-view+json": {
       "model_id": "52b8137d0158499f98563802337b136b",
       "version_major": 2,
       "version_minor": 0
      },
      "text/plain": [
       "Epoch 93/100:   0%|          | 0/229 [00:00<?, ?it/s]"
      ]
     },
     "metadata": {},
     "output_type": "display_data"
    },
    {
     "data": {
      "application/vnd.jupyter.widget-view+json": {
       "model_id": "efaee5c5aea8404baf0d39c534a0aee1",
       "version_major": 2,
       "version_minor": 0
      },
      "text/plain": [
       "Epoch 94/100:   0%|          | 0/229 [00:00<?, ?it/s]"
      ]
     },
     "metadata": {},
     "output_type": "display_data"
    },
    {
     "data": {
      "application/vnd.jupyter.widget-view+json": {
       "model_id": "45472485bf83467f809be16dd5a38384",
       "version_major": 2,
       "version_minor": 0
      },
      "text/plain": [
       "Epoch 95/100:   0%|          | 0/229 [00:00<?, ?it/s]"
      ]
     },
     "metadata": {},
     "output_type": "display_data"
    },
    {
     "data": {
      "application/vnd.jupyter.widget-view+json": {
       "model_id": "976f2a4fea154826a742f71bcc9c575f",
       "version_major": 2,
       "version_minor": 0
      },
      "text/plain": [
       "Epoch 96/100:   0%|          | 0/229 [00:00<?, ?it/s]"
      ]
     },
     "metadata": {},
     "output_type": "display_data"
    },
    {
     "name": "stdout",
     "output_type": "stream",
     "text": [
      "\n",
      "Epoch 96: New best F1-score: 0.9612\n",
      "Accuracy: 0.9612, Precision: 0.9612, Recall: 0.9612\n",
      "Saving checkpoint to C:\\Users\\PC\\lavar\\audiotwin_checkpoints_medium\\training_checkpoints\\MobileNetV3-Large_data_100.0percent.pth\n"
     ]
    },
    {
     "data": {
      "application/vnd.jupyter.widget-view+json": {
       "model_id": "9b046b31c57b4377ad1195019279c42e",
       "version_major": 2,
       "version_minor": 0
      },
      "text/plain": [
       "Epoch 97/100:   0%|          | 0/229 [00:00<?, ?it/s]"
      ]
     },
     "metadata": {},
     "output_type": "display_data"
    },
    {
     "data": {
      "application/vnd.jupyter.widget-view+json": {
       "model_id": "b6d614e7ecea4118af0381cf3ce60e11",
       "version_major": 2,
       "version_minor": 0
      },
      "text/plain": [
       "Epoch 98/100:   0%|          | 0/229 [00:00<?, ?it/s]"
      ]
     },
     "metadata": {},
     "output_type": "display_data"
    },
    {
     "data": {
      "application/vnd.jupyter.widget-view+json": {
       "model_id": "93cf369703464e19836dd8942c3f9bfb",
       "version_major": 2,
       "version_minor": 0
      },
      "text/plain": [
       "Epoch 99/100:   0%|          | 0/229 [00:00<?, ?it/s]"
      ]
     },
     "metadata": {},
     "output_type": "display_data"
    },
    {
     "data": {
      "application/vnd.jupyter.widget-view+json": {
       "model_id": "f5a56821c60246e198957786aadb15a1",
       "version_major": 2,
       "version_minor": 0
      },
      "text/plain": [
       "Epoch 100/100:   0%|          | 0/229 [00:00<?, ?it/s]"
      ]
     },
     "metadata": {},
     "output_type": "display_data"
    },
    {
     "name": "stdout",
     "output_type": "stream",
     "text": [
      "Finished Training for this run. Best F1-score: 0.9612\n",
      "==> Results with 100.0% data: Best F1-Score = 0.9612\n",
      "\n",
      "--- FINAL RESULTS ---\n",
      "\n",
      "Model: MobileNetV3-Large\n",
      "  100.0% data: F1-Score = 0.9612\n"
     ]
    }
   ],
   "source": [
    "for model_name, config in model_configs.items():\n",
    "    print(f\"\\n{'='*20} Evaluating: {model_name} {'='*20}\")\n",
    "    model_results = []\n",
    "    for percent in DATA_PERCENTAGES:\n",
    "        print(f\"--- Training with {percent*100:.1f}% of labeled data ---\")\n",
    "\n",
    "        if percent < 1.0:\n",
    "            stratify_labels = full_metadata['label'].iloc[train_indices].values\n",
    "            subset_train_indices, _ = train_test_split(\n",
    "                train_indices, train_size=percent, random_state=SEED, stratify=stratify_labels\n",
    "            )\n",
    "        else:\n",
    "            subset_train_indices = train_indices\n",
    "\n",
    "        train_metadata_subset = full_metadata.iloc[subset_train_indices]\n",
    "        train_dataset = SpectrogramDataset(metadata_df=train_metadata_subset, data_dir=ROOT_DIR, transform=train_transform)\n",
    "        train_loader = DataLoader(train_dataset, batch_size=32, shuffle=True, num_workers=0, collate_fn=collate_fn_remove_none)\n",
    "\n",
    "        checkpoint_filename = f\"{model_name.replace(' ', '_')}_data_{percent*100:.1f}percent.pth\"\n",
    "        checkpoint_path = os.path.join(CHECKPOINT_DIR, checkpoint_filename)\n",
    "        metrics_csv_path = os.path.join(CHECKPOINT_DIR, f\"{model_name.replace(' ', '_')}_data_{percent*100:.1f}percent_metrics.csv\")\n",
    "\n",
    "        model = config[\"model_class\"](**config[\"args\"]).to(device)\n",
    "\n",
    "        f1 = train_and_evaluate(model, train_loader, test_loader, epochs=100, checkpoint_path=checkpoint_path, metrics_csv_path=metrics_csv_path)\n",
    "        model_results.append({'percent': percent, 'f1': f1})\n",
    "        print(f\"==> Results with {percent*100:.1f}% data: Best F1-Score = {f1:.4f}\")\n",
    "    results[model_name] = model_results\n",
    "\n",
    "print(\"\\n--- FINAL RESULTS ---\")\n",
    "for model_name, result_list in results.items():\n",
    "    print(f\"\\nModel: {model_name}\")\n",
    "    for res in result_list:\n",
    "        print(f\"  {res['percent']*100:.1f}% data: F1-Score = {res['f1']:.4f}\")"
   ]
  },
  {
   "cell_type": "code",
   "execution_count": null,
   "id": "a0d1f744-ebe2-4937-a832-f10df1eef921",
   "metadata": {},
   "outputs": [],
   "source": []
  }
 ],
 "metadata": {
  "kernelspec": {
   "display_name": "Python 3 (ipykernel)",
   "language": "python",
   "name": "python3"
  },
  "language_info": {
   "codemirror_mode": {
    "name": "ipython",
    "version": 3
   },
   "file_extension": ".py",
   "mimetype": "text/x-python",
   "name": "python",
   "nbconvert_exporter": "python",
   "pygments_lexer": "ipython3",
   "version": "3.10.16"
  }
 },
 "nbformat": 4,
 "nbformat_minor": 5
}
