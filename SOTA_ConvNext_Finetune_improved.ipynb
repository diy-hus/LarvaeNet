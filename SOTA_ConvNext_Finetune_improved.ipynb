{
 "cells": [
  {
   "cell_type": "code",
   "execution_count": 1,
   "id": "60c160a9-754d-48b0-bfc0-f91bdc962df0",
   "metadata": {},
   "outputs": [],
   "source": [
    "import os\n",
    "import random\n",
    "import pandas as pd\n",
    "import numpy as np\n",
    "import torch\n",
    "import torch.nn as nn\n",
    "import torch.nn.functional as F\n",
    "import torchaudio\n",
    "import torchaudio.transforms\n",
    "from torch.utils.data import Dataset, DataLoader, Subset\n",
    "from sklearn.model_selection import train_test_split\n",
    "from sklearn.metrics import accuracy_score, precision_score, recall_score, f1_score\n",
    "from torchvision.transforms import v2 as T\n",
    "from torchvision import models\n",
    "from tqdm.notebook import tqdm\n",
    "import warnings\n",
    "\n",
    "# Tắt các cảnh báo FutureWarning\n",
    "warnings.simplefilter(action='ignore', category=FutureWarning)"
   ]
  },
  {
   "cell_type": "code",
   "execution_count": 2,
   "id": "e032f65f-6982-4c74-9f20-b454e34296d0",
   "metadata": {},
   "outputs": [
    {
     "name": "stdout",
     "output_type": "stream",
     "text": [
      "Using device: cuda\n"
     ]
    }
   ],
   "source": [
    "device = torch.device(\"cuda\" if torch.cuda.is_available() else \"cpu\")\n",
    "print(f\"Using device: {device}\")\n",
    "SEED = 42\n",
    "random.seed(SEED)\n",
    "np.random.seed(SEED)\n",
    "torch.manual_seed(SEED)\n",
    "if torch.cuda.is_available():\n",
    "    torch.cuda.manual_seed_all(SEED)"
   ]
  },
  {
   "cell_type": "code",
   "execution_count": 3,
   "id": "be70fc8a-99c6-4962-a860-7a5580a6a324",
   "metadata": {},
   "outputs": [
    {
     "name": "stdout",
     "output_type": "stream",
     "text": [
      "Đã định nghĩa xong pipeline Augmentation mới cho Spectrogram.\n"
     ]
    }
   ],
   "source": [
    "class TimeShift(torch.nn.Module):\n",
    "    \"\"\" Dịch chuyển spectrogram theo trục thời gian một cách ngẫu nhiên. \"\"\"\n",
    "    def __init__(self, p=0.5, max_shift_percent=0.4):\n",
    "        super().__init__()\n",
    "        self.p = p\n",
    "        self.max_shift_percent = max_shift_percent\n",
    "\n",
    "    def forward(self, spec):\n",
    "        if torch.rand(1) < self.p:\n",
    "            time_steps = spec.shape[-1]\n",
    "            shift_amount = int(torch.rand(1) * self.max_shift_percent * time_steps)\n",
    "            if torch.rand(1) < 0.5:\n",
    "                shift_amount = -shift_amount\n",
    "            return torch.roll(spec, shifts=shift_amount, dims=-1)\n",
    "        return spec\n",
    "\n",
    "class SpecNoise(torch.nn.Module):\n",
    "    \"\"\" Thêm nhiễu Gaussian trực tiếp vào spectrogram. \"\"\"\n",
    "    def __init__(self, p=0.5, noise_level=0.05):\n",
    "        super().__init__()\n",
    "        self.p = p\n",
    "        self.noise_level = noise_level\n",
    "\n",
    "    def forward(self, spec):\n",
    "        if torch.rand(1) < self.p:\n",
    "            noise = torch.randn_like(spec) * self.noise_level\n",
    "            return spec + noise\n",
    "        return spec\n",
    "\n",
    "train_transform = T.Compose([\n",
    "    torchaudio.transforms.TimeMasking(time_mask_param=80),\n",
    "    torchaudio.transforms.FrequencyMasking(freq_mask_param=25),\n",
    "    TimeShift(p=0.5, max_shift_percent=0.4),\n",
    "    SpecNoise(p=0.3, noise_level=0.03),\n",
    "])\n",
    "\n",
    "val_transform = None\n",
    "print(\"Đã định nghĩa xong pipeline Augmentation mới cho Spectrogram.\")\n",
    "\n",
    "# --- Mixup Functions (giữ nguyên nhưng không sử dụng trong vòng lặp chính) ---\n",
    "def mixup_data(x, y, alpha=0.4, use_cuda=True):\n",
    "    if alpha > 0:\n",
    "        lam = np.random.beta(alpha, alpha)\n",
    "    else:\n",
    "        lam = 1\n",
    "    batch_size = x.size()[0]\n",
    "    if use_cuda:\n",
    "        index = torch.randperm(batch_size).cuda()\n",
    "    else:\n",
    "        index = torch.randperm(batch_size)\n",
    "    mixed_x = lam * x + (1 - lam) * x[index, :]\n",
    "    y_a, y_b = y, y[index]\n",
    "    return mixed_x, y_a, y_b, lam\n",
    "\n",
    "def mixup_criterion(criterion, pred, y_a, y_b, lam):\n",
    "    return lam * criterion(pred, y_a) + (1 - lam) * criterion(pred, y_b)"
   ]
  },
  {
   "cell_type": "code",
   "execution_count": 4,
   "id": "0b7eb7e4-7aea-4289-8f28-9b18b86c8996",
   "metadata": {},
   "outputs": [],
   "source": [
    "class ConvNeXt_AudioClassifier(nn.Module):\n",
    "    def __init__(self, num_classes, input_channels=1, pretrained=True):\n",
    "        super().__init__()\n",
    "        weights = models.ConvNeXt_Tiny_Weights.DEFAULT if pretrained else None\n",
    "        self.convnext = models.convnext_tiny(weights=weights)\n",
    "\n",
    "        # Thay thế lớp Conv2d đầu tiên để phù hợp với số kênh đầu vào (1 cho spectrogram)\n",
    "        original_conv = self.convnext.features[0][0]\n",
    "        new_first_conv = nn.Conv2d(\n",
    "            in_channels=input_channels,\n",
    "            out_channels=original_conv.out_channels,\n",
    "            kernel_size=original_conv.kernel_size,\n",
    "            stride=original_conv.stride,\n",
    "            padding=original_conv.padding,\n",
    "            bias=original_conv.bias is not None\n",
    "        )\n",
    "        self.convnext.features[0][0] = new_first_conv\n",
    "\n",
    "        # Thay thế lớp classifier\n",
    "        num_ftrs = self.convnext.classifier[2].in_features\n",
    "        self.convnext.classifier[2] = nn.Linear(num_ftrs, num_classes)\n",
    "\n",
    "    def forward(self, x):\n",
    "        if x.dim() == 3:\n",
    "            x = x.unsqueeze(1)  # Thêm chiều kênh nếu cần\n",
    "        return self.convnext(x)"
   ]
  },
  {
   "cell_type": "code",
   "execution_count": 5,
   "id": "64248dcf-8e68-4336-a36a-cf9879fe7962",
   "metadata": {},
   "outputs": [],
   "source": [
    "class SpectrogramDataset(Dataset):\n",
    "    def __init__(self, metadata_df, data_dir, transform=None, target_tdim=216):\n",
    "        super().__init__()\n",
    "        self.metadata = metadata_df\n",
    "        self.data_dir = data_dir\n",
    "        self.transform = transform\n",
    "        self.target_tdim = target_tdim\n",
    "        self.class_names = sorted(self.metadata['label'].unique())\n",
    "        self.class_to_id = {name: i for i, name in enumerate(self.class_names)}\n",
    "\n",
    "    def __len__(self):\n",
    "        return len(self.metadata)\n",
    "\n",
    "    def __getitem__(self, idx):\n",
    "        row = self.metadata.iloc[idx]\n",
    "        file_path = os.path.join(self.data_dir, row['tensor_path'])\n",
    "        label = self.class_to_id[row['label']]\n",
    "\n",
    "        try:\n",
    "            spectrogram = torch.load(file_path)\n",
    "            current_tdim = spectrogram.shape[2]\n",
    "            if current_tdim > self.target_tdim:\n",
    "                spectrogram = spectrogram[:, :, :self.target_tdim]\n",
    "            elif current_tdim < self.target_tdim:\n",
    "                spectrogram = F.pad(spectrogram, (0, self.target_tdim - current_tdim))\n",
    "            # Resize spectrogram to 224x224 for ConvNeXt-Tiny\n",
    "            spectrogram = F.interpolate(spectrogram.unsqueeze(0), size=(224, 224), mode='bilinear', align_corners=False).squeeze(0)\n",
    "\n",
    "            if self.transform:\n",
    "                spectrogram = self.transform(spectrogram)\n",
    "            return spectrogram, label\n",
    "        except Exception as e:\n",
    "            print(f\"Error loading or processing file {file_path}: {e}\")\n",
    "            return None\n",
    "\n",
    "def collate_fn_remove_none(batch):\n",
    "    batch = [item for item in batch if item is not None]\n",
    "    if not batch: return None, None\n",
    "    samples, labels = zip(*batch)\n",
    "    return torch.stack(samples), torch.tensor(labels)"
   ]
  },
  {
   "cell_type": "code",
   "execution_count": 6,
   "id": "8aab19d0-f2a3-47cd-a121-b839f13573b6",
   "metadata": {},
   "outputs": [],
   "source": [
    "def train_and_evaluate(model, train_loader, val_loader, epochs, checkpoint_path, metrics_csv_path):\n",
    "    optimizer = torch.optim.AdamW(model.parameters(), lr=1e-3, weight_decay=1e-4)\n",
    "    criterion = nn.CrossEntropyLoss()\n",
    "    scheduler = torch.optim.lr_scheduler.ReduceLROnPlateau(optimizer, 'max', factor=0.5, patience=5, verbose=False)\n",
    "    scaler = torch.cuda.amp.GradScaler(enabled=torch.cuda.is_available())\n",
    "    best_f1 = 0.0\n",
    "\n",
    "    if not os.path.exists(metrics_csv_path):\n",
    "        pd.DataFrame(columns=['Epoch', 'Accuracy', 'Precision', 'Recall', 'F1-Score']).to_csv(metrics_csv_path, index=False)\n",
    "\n",
    "    for epoch in range(epochs):\n",
    "        model.train()\n",
    "        loop = tqdm(train_loader, desc=f\"Epoch {epoch+1}/{epochs}\", leave=False)\n",
    "        for inputs, labels in loop:\n",
    "            if inputs is None: continue\n",
    "            inputs, labels = inputs.to(device), labels.to(device)\n",
    "            optimizer.zero_grad(set_to_none=True)\n",
    "\n",
    "            with torch.cuda.amp.autocast(enabled=torch.cuda.is_available()):\n",
    "                outputs = model(inputs)\n",
    "                loss = criterion(outputs, labels)\n",
    "\n",
    "            scaler.scale(loss).backward()\n",
    "            scaler.step(optimizer)\n",
    "            scaler.update()\n",
    "\n",
    "        model.eval()\n",
    "        val_preds, val_labels = [], []\n",
    "        with torch.no_grad():\n",
    "            for inputs, labels in val_loader:\n",
    "                if inputs is None: continue\n",
    "                inputs, labels = inputs.to(device), labels.to(device)\n",
    "                with torch.cuda.amp.autocast(enabled=torch.cuda.is_available()):\n",
    "                    outputs = model(inputs)\n",
    "                _, predicted = torch.max(outputs.data, 1)\n",
    "                val_preds.extend(predicted.cpu().numpy())\n",
    "                val_labels.extend(labels.cpu().numpy())\n",
    "\n",
    "        if len(val_labels) > 0:\n",
    "            current_f1 = f1_score(val_labels, val_preds, average='weighted', zero_division=0)\n",
    "            if current_f1 > best_f1:\n",
    "                best_f1 = current_f1\n",
    "                current_accuracy = accuracy_score(val_labels, val_preds)\n",
    "                current_precision = precision_score(val_labels, val_preds, average='weighted', zero_division=0)\n",
    "                current_recall = recall_score(val_labels, val_preds, average='weighted', zero_division=0)\n",
    "\n",
    "                print(f\"\\nEpoch {epoch+1}: New best F1-score: {best_f1:.4f}\")\n",
    "                print(f\"Accuracy: {current_accuracy:.4f}, Precision: {current_precision:.4f}, Recall: {current_recall:.4f}\")\n",
    "                print(f\"Saving checkpoint to {checkpoint_path}\")\n",
    "                torch.save(model.state_dict(), checkpoint_path)\n",
    "\n",
    "                metrics_df = pd.DataFrame([{'Epoch': epoch + 1, 'Accuracy': current_accuracy, 'Precision': current_precision, 'Recall': current_recall, 'F1-Score': current_f1}])\n",
    "                metrics_df.to_csv(metrics_csv_path, mode='a', header=False, index=False)\n",
    "            scheduler.step(current_f1)\n",
    "\n",
    "    print(f\"Finished Training for this run. Best F1-score: {best_f1:.4f}\")\n",
    "    return best_f1"
   ]
  },
  {
   "cell_type": "code",
   "execution_count": 10,
   "id": "b331d5cf-0774-422f-8708-f3a4f006c967",
   "metadata": {},
   "outputs": [
    {
     "name": "stdout",
     "output_type": "stream",
     "text": [
      "Preparing dataset...\n",
      "Number of classes: 8\n",
      "Data split: 7316 train, 1830 test.\n"
     ]
    }
   ],
   "source": [
    "ROOT_DIR = r'C:\\Users\\PC\\lavar\\audiotwin_checkpoints_medium'\n",
    "METADATA_PATH = os.path.join(ROOT_DIR, 'spectrogram_tensor_metadata.csv')\n",
    "CHECKPOINT_DIR = os.path.join(ROOT_DIR, 'training_checkpoints_ConvNext_finetune')\n",
    "os.makedirs(CHECKPOINT_DIR, exist_ok=True)\n",
    "\n",
    "DATA_PERCENTAGES = [1.0]\n",
    "results = {}\n",
    "\n",
    "# 1. Tải và chuẩn bị dữ liệu\n",
    "print(\"Preparing dataset...\")\n",
    "full_metadata = pd.read_csv(METADATA_PATH)\n",
    "num_classes = len(full_metadata['label'].unique())\n",
    "print(f\"Number of classes: {num_classes}\")\n",
    "\n",
    "indices = np.arange(len(full_metadata))\n",
    "labels = full_metadata['label'].values\n",
    "train_indices, test_indices, _, _ = train_test_split(\n",
    "    indices, labels, test_size=0.2, random_state=SEED, stratify=labels\n",
    ")\n",
    "print(f\"Data split: {len(train_indices)} train, {len(test_indices)} test.\")\n",
    "\n",
    "test_metadata = full_metadata.iloc[test_indices]\n",
    "test_dataset = SpectrogramDataset(metadata_df=test_metadata, data_dir=ROOT_DIR, transform=val_transform)\n",
    "test_loader = DataLoader(test_dataset, batch_size=32, num_workers=0, collate_fn=collate_fn_remove_none)\n",
    "\n",
    "# 2. Cấu hình mô hình ConvNeXt-Tiny\n",
    "model_configs = {\n",
    "    \"ConvNeXt-Tiny\": {\n",
    "        \"model_class\": ConvNeXt_AudioClassifier,\n",
    "        \"args\": {\n",
    "            \"num_classes\": num_classes,\n",
    "            \"input_channels\": 1,\n",
    "            \"pretrained\": True  # Sử dụng pretrained weights từ ImageNet\n",
    "        }\n",
    "    }\n",
    "}"
   ]
  },
  {
   "cell_type": "code",
   "execution_count": 11,
   "id": "120dc1f4-1c29-4714-b341-812157f3e4e9",
   "metadata": {},
   "outputs": [
    {
     "name": "stdout",
     "output_type": "stream",
     "text": [
      "\n",
      "==================== Evaluating: ConvNeXt-Tiny ====================\n",
      "--- Training with 100.0% of labeled data ---\n"
     ]
    },
    {
     "name": "stderr",
     "output_type": "stream",
     "text": [
      "C:\\Users\\PC\\anaconda3\\envs\\train_env\\lib\\site-packages\\torch\\optim\\lr_scheduler.py:62: UserWarning: The verbose parameter is deprecated. Please use get_last_lr() to access the learning rate.\n",
      "  warnings.warn(\n"
     ]
    },
    {
     "data": {
      "application/vnd.jupyter.widget-view+json": {
       "model_id": "e2ab3fabbc0f4b029dbd0df8c3926dd0",
       "version_major": 2,
       "version_minor": 0
      },
      "text/plain": [
       "Epoch 1/100:   0%|          | 0/229 [00:00<?, ?it/s]"
      ]
     },
     "metadata": {},
     "output_type": "display_data"
    },
    {
     "name": "stdout",
     "output_type": "stream",
     "text": [
      "\n",
      "Epoch 1: New best F1-score: 0.4034\n",
      "Accuracy: 0.5186, Precision: 0.3870, Recall: 0.5186\n",
      "Saving checkpoint to C:\\Users\\PC\\lavar\\audiotwin_checkpoints_medium\\training_checkpoints_ConvNext_finetune\\ConvNeXt-Tiny_data_100.0percent.pth\n"
     ]
    },
    {
     "data": {
      "application/vnd.jupyter.widget-view+json": {
       "model_id": "d307debfd55141ea8e7b992c88fcd631",
       "version_major": 2,
       "version_minor": 0
      },
      "text/plain": [
       "Epoch 2/100:   0%|          | 0/229 [00:00<?, ?it/s]"
      ]
     },
     "metadata": {},
     "output_type": "display_data"
    },
    {
     "name": "stdout",
     "output_type": "stream",
     "text": [
      "\n",
      "Epoch 2: New best F1-score: 0.5098\n",
      "Accuracy: 0.5956, Precision: 0.5474, Recall: 0.5956\n",
      "Saving checkpoint to C:\\Users\\PC\\lavar\\audiotwin_checkpoints_medium\\training_checkpoints_ConvNext_finetune\\ConvNeXt-Tiny_data_100.0percent.pth\n"
     ]
    },
    {
     "data": {
      "application/vnd.jupyter.widget-view+json": {
       "model_id": "56a95cdc0ff049e9ad66bbe616154998",
       "version_major": 2,
       "version_minor": 0
      },
      "text/plain": [
       "Epoch 3/100:   0%|          | 0/229 [00:00<?, ?it/s]"
      ]
     },
     "metadata": {},
     "output_type": "display_data"
    },
    {
     "name": "stdout",
     "output_type": "stream",
     "text": [
      "\n",
      "Epoch 3: New best F1-score: 0.5583\n",
      "Accuracy: 0.6372, Precision: 0.5552, Recall: 0.6372\n",
      "Saving checkpoint to C:\\Users\\PC\\lavar\\audiotwin_checkpoints_medium\\training_checkpoints_ConvNext_finetune\\ConvNeXt-Tiny_data_100.0percent.pth\n"
     ]
    },
    {
     "data": {
      "application/vnd.jupyter.widget-view+json": {
       "model_id": "b3fdbb48b08848fd84b94e59a21f38b5",
       "version_major": 2,
       "version_minor": 0
      },
      "text/plain": [
       "Epoch 4/100:   0%|          | 0/229 [00:00<?, ?it/s]"
      ]
     },
     "metadata": {},
     "output_type": "display_data"
    },
    {
     "name": "stdout",
     "output_type": "stream",
     "text": [
      "\n",
      "Epoch 4: New best F1-score: 0.6400\n",
      "Accuracy: 0.6847, Precision: 0.6845, Recall: 0.6847\n",
      "Saving checkpoint to C:\\Users\\PC\\lavar\\audiotwin_checkpoints_medium\\training_checkpoints_ConvNext_finetune\\ConvNeXt-Tiny_data_100.0percent.pth\n"
     ]
    },
    {
     "data": {
      "application/vnd.jupyter.widget-view+json": {
       "model_id": "4b27b53700cf42f5bb6f642e6ab0728e",
       "version_major": 2,
       "version_minor": 0
      },
      "text/plain": [
       "Epoch 5/100:   0%|          | 0/229 [00:00<?, ?it/s]"
      ]
     },
     "metadata": {},
     "output_type": "display_data"
    },
    {
     "name": "stdout",
     "output_type": "stream",
     "text": [
      "\n",
      "Epoch 5: New best F1-score: 0.6513\n",
      "Accuracy: 0.6934, Precision: 0.6561, Recall: 0.6934\n",
      "Saving checkpoint to C:\\Users\\PC\\lavar\\audiotwin_checkpoints_medium\\training_checkpoints_ConvNext_finetune\\ConvNeXt-Tiny_data_100.0percent.pth\n"
     ]
    },
    {
     "data": {
      "application/vnd.jupyter.widget-view+json": {
       "model_id": "11050d441a064ef781ffee31ba7a6b44",
       "version_major": 2,
       "version_minor": 0
      },
      "text/plain": [
       "Epoch 6/100:   0%|          | 0/229 [00:00<?, ?it/s]"
      ]
     },
     "metadata": {},
     "output_type": "display_data"
    },
    {
     "data": {
      "application/vnd.jupyter.widget-view+json": {
       "model_id": "13b39a32068444bab4a4d77e89952011",
       "version_major": 2,
       "version_minor": 0
      },
      "text/plain": [
       "Epoch 7/100:   0%|          | 0/229 [00:00<?, ?it/s]"
      ]
     },
     "metadata": {},
     "output_type": "display_data"
    },
    {
     "data": {
      "application/vnd.jupyter.widget-view+json": {
       "model_id": "02b6494d18d54ec4a30323d51ac17ee6",
       "version_major": 2,
       "version_minor": 0
      },
      "text/plain": [
       "Epoch 8/100:   0%|          | 0/229 [00:00<?, ?it/s]"
      ]
     },
     "metadata": {},
     "output_type": "display_data"
    },
    {
     "name": "stdout",
     "output_type": "stream",
     "text": [
      "\n",
      "Epoch 8: New best F1-score: 0.6766\n",
      "Accuracy: 0.7142, Precision: 0.8065, Recall: 0.7142\n",
      "Saving checkpoint to C:\\Users\\PC\\lavar\\audiotwin_checkpoints_medium\\training_checkpoints_ConvNext_finetune\\ConvNeXt-Tiny_data_100.0percent.pth\n"
     ]
    },
    {
     "data": {
      "application/vnd.jupyter.widget-view+json": {
       "model_id": "c000c2f450b44357b25f2ac32b70b94a",
       "version_major": 2,
       "version_minor": 0
      },
      "text/plain": [
       "Epoch 9/100:   0%|          | 0/229 [00:00<?, ?it/s]"
      ]
     },
     "metadata": {},
     "output_type": "display_data"
    },
    {
     "name": "stdout",
     "output_type": "stream",
     "text": [
      "\n",
      "Epoch 9: New best F1-score: 0.7815\n",
      "Accuracy: 0.7836, Precision: 0.7870, Recall: 0.7836\n",
      "Saving checkpoint to C:\\Users\\PC\\lavar\\audiotwin_checkpoints_medium\\training_checkpoints_ConvNext_finetune\\ConvNeXt-Tiny_data_100.0percent.pth\n"
     ]
    },
    {
     "data": {
      "application/vnd.jupyter.widget-view+json": {
       "model_id": "9c0b5647b6404b93afd932a67dc555ff",
       "version_major": 2,
       "version_minor": 0
      },
      "text/plain": [
       "Epoch 10/100:   0%|          | 0/229 [00:00<?, ?it/s]"
      ]
     },
     "metadata": {},
     "output_type": "display_data"
    },
    {
     "data": {
      "application/vnd.jupyter.widget-view+json": {
       "model_id": "9a2a33c60e994755a54db1a41041e0d6",
       "version_major": 2,
       "version_minor": 0
      },
      "text/plain": [
       "Epoch 11/100:   0%|          | 0/229 [00:00<?, ?it/s]"
      ]
     },
     "metadata": {},
     "output_type": "display_data"
    },
    {
     "name": "stdout",
     "output_type": "stream",
     "text": [
      "\n",
      "Epoch 11: New best F1-score: 0.8294\n",
      "Accuracy: 0.8284, Precision: 0.8411, Recall: 0.8284\n",
      "Saving checkpoint to C:\\Users\\PC\\lavar\\audiotwin_checkpoints_medium\\training_checkpoints_ConvNext_finetune\\ConvNeXt-Tiny_data_100.0percent.pth\n"
     ]
    },
    {
     "data": {
      "application/vnd.jupyter.widget-view+json": {
       "model_id": "9c19b49e148e43df8684bb2b59f82f43",
       "version_major": 2,
       "version_minor": 0
      },
      "text/plain": [
       "Epoch 12/100:   0%|          | 0/229 [00:00<?, ?it/s]"
      ]
     },
     "metadata": {},
     "output_type": "display_data"
    },
    {
     "data": {
      "application/vnd.jupyter.widget-view+json": {
       "model_id": "2963a0bc210c48fa9fc180504ac44536",
       "version_major": 2,
       "version_minor": 0
      },
      "text/plain": [
       "Epoch 13/100:   0%|          | 0/229 [00:00<?, ?it/s]"
      ]
     },
     "metadata": {},
     "output_type": "display_data"
    },
    {
     "name": "stdout",
     "output_type": "stream",
     "text": [
      "\n",
      "Epoch 13: New best F1-score: 0.8474\n",
      "Accuracy: 0.8481, Precision: 0.8527, Recall: 0.8481\n",
      "Saving checkpoint to C:\\Users\\PC\\lavar\\audiotwin_checkpoints_medium\\training_checkpoints_ConvNext_finetune\\ConvNeXt-Tiny_data_100.0percent.pth\n"
     ]
    },
    {
     "data": {
      "application/vnd.jupyter.widget-view+json": {
       "model_id": "33e7414213a84638bc8ba9127346bd2e",
       "version_major": 2,
       "version_minor": 0
      },
      "text/plain": [
       "Epoch 14/100:   0%|          | 0/229 [00:00<?, ?it/s]"
      ]
     },
     "metadata": {},
     "output_type": "display_data"
    },
    {
     "name": "stdout",
     "output_type": "stream",
     "text": [
      "\n",
      "Epoch 14: New best F1-score: 0.8548\n",
      "Accuracy: 0.8552, Precision: 0.8672, Recall: 0.8552\n",
      "Saving checkpoint to C:\\Users\\PC\\lavar\\audiotwin_checkpoints_medium\\training_checkpoints_ConvNext_finetune\\ConvNeXt-Tiny_data_100.0percent.pth\n"
     ]
    },
    {
     "data": {
      "application/vnd.jupyter.widget-view+json": {
       "model_id": "a70c00e935954f07b1efc35ad496eca6",
       "version_major": 2,
       "version_minor": 0
      },
      "text/plain": [
       "Epoch 15/100:   0%|          | 0/229 [00:00<?, ?it/s]"
      ]
     },
     "metadata": {},
     "output_type": "display_data"
    },
    {
     "name": "stdout",
     "output_type": "stream",
     "text": [
      "\n",
      "Epoch 15: New best F1-score: 0.8694\n",
      "Accuracy: 0.8705, Precision: 0.8766, Recall: 0.8705\n",
      "Saving checkpoint to C:\\Users\\PC\\lavar\\audiotwin_checkpoints_medium\\training_checkpoints_ConvNext_finetune\\ConvNeXt-Tiny_data_100.0percent.pth\n"
     ]
    },
    {
     "data": {
      "application/vnd.jupyter.widget-view+json": {
       "model_id": "f1ff73c92e46451f9eae5b4bb37e438a",
       "version_major": 2,
       "version_minor": 0
      },
      "text/plain": [
       "Epoch 16/100:   0%|          | 0/229 [00:00<?, ?it/s]"
      ]
     },
     "metadata": {},
     "output_type": "display_data"
    },
    {
     "data": {
      "application/vnd.jupyter.widget-view+json": {
       "model_id": "585ea1b3f0da4bf99956d7509cd60575",
       "version_major": 2,
       "version_minor": 0
      },
      "text/plain": [
       "Epoch 17/100:   0%|          | 0/229 [00:00<?, ?it/s]"
      ]
     },
     "metadata": {},
     "output_type": "display_data"
    },
    {
     "name": "stdout",
     "output_type": "stream",
     "text": [
      "\n",
      "Epoch 17: New best F1-score: 0.8757\n",
      "Accuracy: 0.8765, Precision: 0.8773, Recall: 0.8765\n",
      "Saving checkpoint to C:\\Users\\PC\\lavar\\audiotwin_checkpoints_medium\\training_checkpoints_ConvNext_finetune\\ConvNeXt-Tiny_data_100.0percent.pth\n"
     ]
    },
    {
     "data": {
      "application/vnd.jupyter.widget-view+json": {
       "model_id": "fbfd92db289848c98ca5c77402541e5e",
       "version_major": 2,
       "version_minor": 0
      },
      "text/plain": [
       "Epoch 18/100:   0%|          | 0/229 [00:00<?, ?it/s]"
      ]
     },
     "metadata": {},
     "output_type": "display_data"
    },
    {
     "name": "stdout",
     "output_type": "stream",
     "text": [
      "\n",
      "Epoch 18: New best F1-score: 0.8781\n",
      "Accuracy: 0.8787, Precision: 0.8818, Recall: 0.8787\n",
      "Saving checkpoint to C:\\Users\\PC\\lavar\\audiotwin_checkpoints_medium\\training_checkpoints_ConvNext_finetune\\ConvNeXt-Tiny_data_100.0percent.pth\n"
     ]
    },
    {
     "data": {
      "application/vnd.jupyter.widget-view+json": {
       "model_id": "581ae6c0d49545219d09098de9132ff7",
       "version_major": 2,
       "version_minor": 0
      },
      "text/plain": [
       "Epoch 19/100:   0%|          | 0/229 [00:00<?, ?it/s]"
      ]
     },
     "metadata": {},
     "output_type": "display_data"
    },
    {
     "data": {
      "application/vnd.jupyter.widget-view+json": {
       "model_id": "272c1f4d299f4e71be09b9fc2a1550a4",
       "version_major": 2,
       "version_minor": 0
      },
      "text/plain": [
       "Epoch 20/100:   0%|          | 0/229 [00:00<?, ?it/s]"
      ]
     },
     "metadata": {},
     "output_type": "display_data"
    },
    {
     "name": "stdout",
     "output_type": "stream",
     "text": [
      "\n",
      "Epoch 20: New best F1-score: 0.8859\n",
      "Accuracy: 0.8863, Precision: 0.8867, Recall: 0.8863\n",
      "Saving checkpoint to C:\\Users\\PC\\lavar\\audiotwin_checkpoints_medium\\training_checkpoints_ConvNext_finetune\\ConvNeXt-Tiny_data_100.0percent.pth\n"
     ]
    },
    {
     "data": {
      "application/vnd.jupyter.widget-view+json": {
       "model_id": "13b81da49fe0400ba104dd8bc9f7c5ce",
       "version_major": 2,
       "version_minor": 0
      },
      "text/plain": [
       "Epoch 21/100:   0%|          | 0/229 [00:00<?, ?it/s]"
      ]
     },
     "metadata": {},
     "output_type": "display_data"
    },
    {
     "name": "stdout",
     "output_type": "stream",
     "text": [
      "\n",
      "Epoch 21: New best F1-score: 0.8926\n",
      "Accuracy: 0.8929, Precision: 0.8964, Recall: 0.8929\n",
      "Saving checkpoint to C:\\Users\\PC\\lavar\\audiotwin_checkpoints_medium\\training_checkpoints_ConvNext_finetune\\ConvNeXt-Tiny_data_100.0percent.pth\n"
     ]
    },
    {
     "data": {
      "application/vnd.jupyter.widget-view+json": {
       "model_id": "332781ec4588408dbac4589f54b11377",
       "version_major": 2,
       "version_minor": 0
      },
      "text/plain": [
       "Epoch 22/100:   0%|          | 0/229 [00:00<?, ?it/s]"
      ]
     },
     "metadata": {},
     "output_type": "display_data"
    },
    {
     "data": {
      "application/vnd.jupyter.widget-view+json": {
       "model_id": "5d389bfd4be440b299d67f81781c5275",
       "version_major": 2,
       "version_minor": 0
      },
      "text/plain": [
       "Epoch 23/100:   0%|          | 0/229 [00:00<?, ?it/s]"
      ]
     },
     "metadata": {},
     "output_type": "display_data"
    },
    {
     "data": {
      "application/vnd.jupyter.widget-view+json": {
       "model_id": "15e76751983445b3a06a6c1f06c0f05f",
       "version_major": 2,
       "version_minor": 0
      },
      "text/plain": [
       "Epoch 24/100:   0%|          | 0/229 [00:00<?, ?it/s]"
      ]
     },
     "metadata": {},
     "output_type": "display_data"
    },
    {
     "data": {
      "application/vnd.jupyter.widget-view+json": {
       "model_id": "1f274eedec21485aa0bb18f720cd20a9",
       "version_major": 2,
       "version_minor": 0
      },
      "text/plain": [
       "Epoch 25/100:   0%|          | 0/229 [00:00<?, ?it/s]"
      ]
     },
     "metadata": {},
     "output_type": "display_data"
    },
    {
     "name": "stdout",
     "output_type": "stream",
     "text": [
      "\n",
      "Epoch 25: New best F1-score: 0.9022\n",
      "Accuracy: 0.9022, Precision: 0.9050, Recall: 0.9022\n",
      "Saving checkpoint to C:\\Users\\PC\\lavar\\audiotwin_checkpoints_medium\\training_checkpoints_ConvNext_finetune\\ConvNeXt-Tiny_data_100.0percent.pth\n"
     ]
    },
    {
     "data": {
      "application/vnd.jupyter.widget-view+json": {
       "model_id": "0a22bd17e77047a6ae3aa7a38fbc8940",
       "version_major": 2,
       "version_minor": 0
      },
      "text/plain": [
       "Epoch 26/100:   0%|          | 0/229 [00:00<?, ?it/s]"
      ]
     },
     "metadata": {},
     "output_type": "display_data"
    },
    {
     "data": {
      "application/vnd.jupyter.widget-view+json": {
       "model_id": "ff1301fced9342d69a6d81d7669a9c86",
       "version_major": 2,
       "version_minor": 0
      },
      "text/plain": [
       "Epoch 27/100:   0%|          | 0/229 [00:00<?, ?it/s]"
      ]
     },
     "metadata": {},
     "output_type": "display_data"
    },
    {
     "data": {
      "application/vnd.jupyter.widget-view+json": {
       "model_id": "b36bc0aa4ff14d6a942f96a6e6c6a484",
       "version_major": 2,
       "version_minor": 0
      },
      "text/plain": [
       "Epoch 28/100:   0%|          | 0/229 [00:00<?, ?it/s]"
      ]
     },
     "metadata": {},
     "output_type": "display_data"
    },
    {
     "name": "stdout",
     "output_type": "stream",
     "text": [
      "\n",
      "Epoch 28: New best F1-score: 0.9060\n",
      "Accuracy: 0.9066, Precision: 0.9082, Recall: 0.9066\n",
      "Saving checkpoint to C:\\Users\\PC\\lavar\\audiotwin_checkpoints_medium\\training_checkpoints_ConvNext_finetune\\ConvNeXt-Tiny_data_100.0percent.pth\n"
     ]
    },
    {
     "data": {
      "application/vnd.jupyter.widget-view+json": {
       "model_id": "d4b13da87e754dde964b6fb79e36b269",
       "version_major": 2,
       "version_minor": 0
      },
      "text/plain": [
       "Epoch 29/100:   0%|          | 0/229 [00:00<?, ?it/s]"
      ]
     },
     "metadata": {},
     "output_type": "display_data"
    },
    {
     "data": {
      "application/vnd.jupyter.widget-view+json": {
       "model_id": "f6ef87c6ddb34ee3ae48fc564cefe510",
       "version_major": 2,
       "version_minor": 0
      },
      "text/plain": [
       "Epoch 30/100:   0%|          | 0/229 [00:00<?, ?it/s]"
      ]
     },
     "metadata": {},
     "output_type": "display_data"
    },
    {
     "name": "stdout",
     "output_type": "stream",
     "text": [
      "\n",
      "Epoch 30: New best F1-score: 0.9134\n",
      "Accuracy: 0.9131, Precision: 0.9145, Recall: 0.9131\n",
      "Saving checkpoint to C:\\Users\\PC\\lavar\\audiotwin_checkpoints_medium\\training_checkpoints_ConvNext_finetune\\ConvNeXt-Tiny_data_100.0percent.pth\n"
     ]
    },
    {
     "data": {
      "application/vnd.jupyter.widget-view+json": {
       "model_id": "6add7e01262a4063ba53b2d967eae1f9",
       "version_major": 2,
       "version_minor": 0
      },
      "text/plain": [
       "Epoch 31/100:   0%|          | 0/229 [00:00<?, ?it/s]"
      ]
     },
     "metadata": {},
     "output_type": "display_data"
    },
    {
     "data": {
      "application/vnd.jupyter.widget-view+json": {
       "model_id": "4869a567dd054428933d97d6f090c352",
       "version_major": 2,
       "version_minor": 0
      },
      "text/plain": [
       "Epoch 32/100:   0%|          | 0/229 [00:00<?, ?it/s]"
      ]
     },
     "metadata": {},
     "output_type": "display_data"
    },
    {
     "data": {
      "application/vnd.jupyter.widget-view+json": {
       "model_id": "198a41768afc46b7893d77a77e9e011d",
       "version_major": 2,
       "version_minor": 0
      },
      "text/plain": [
       "Epoch 33/100:   0%|          | 0/229 [00:00<?, ?it/s]"
      ]
     },
     "metadata": {},
     "output_type": "display_data"
    },
    {
     "data": {
      "application/vnd.jupyter.widget-view+json": {
       "model_id": "afd38f5f6ffd4b40b324c77a84d7661b",
       "version_major": 2,
       "version_minor": 0
      },
      "text/plain": [
       "Epoch 34/100:   0%|          | 0/229 [00:00<?, ?it/s]"
      ]
     },
     "metadata": {},
     "output_type": "display_data"
    },
    {
     "data": {
      "application/vnd.jupyter.widget-view+json": {
       "model_id": "1c7cf14e2caf408789d16dd676b48faa",
       "version_major": 2,
       "version_minor": 0
      },
      "text/plain": [
       "Epoch 35/100:   0%|          | 0/229 [00:00<?, ?it/s]"
      ]
     },
     "metadata": {},
     "output_type": "display_data"
    },
    {
     "name": "stdout",
     "output_type": "stream",
     "text": [
      "\n",
      "Epoch 35: New best F1-score: 0.9165\n",
      "Accuracy: 0.9175, Precision: 0.9191, Recall: 0.9175\n",
      "Saving checkpoint to C:\\Users\\PC\\lavar\\audiotwin_checkpoints_medium\\training_checkpoints_ConvNext_finetune\\ConvNeXt-Tiny_data_100.0percent.pth\n"
     ]
    },
    {
     "data": {
      "application/vnd.jupyter.widget-view+json": {
       "model_id": "5c98fa58a90046149ff0eacc16ad6445",
       "version_major": 2,
       "version_minor": 0
      },
      "text/plain": [
       "Epoch 36/100:   0%|          | 0/229 [00:00<?, ?it/s]"
      ]
     },
     "metadata": {},
     "output_type": "display_data"
    },
    {
     "name": "stdout",
     "output_type": "stream",
     "text": [
      "\n",
      "Epoch 36: New best F1-score: 0.9197\n",
      "Accuracy: 0.9202, Precision: 0.9209, Recall: 0.9202\n",
      "Saving checkpoint to C:\\Users\\PC\\lavar\\audiotwin_checkpoints_medium\\training_checkpoints_ConvNext_finetune\\ConvNeXt-Tiny_data_100.0percent.pth\n"
     ]
    },
    {
     "data": {
      "application/vnd.jupyter.widget-view+json": {
       "model_id": "eaba780491df47769f36f21b47488349",
       "version_major": 2,
       "version_minor": 0
      },
      "text/plain": [
       "Epoch 37/100:   0%|          | 0/229 [00:00<?, ?it/s]"
      ]
     },
     "metadata": {},
     "output_type": "display_data"
    },
    {
     "data": {
      "application/vnd.jupyter.widget-view+json": {
       "model_id": "1288fbc8c6c1439280dd42575116020b",
       "version_major": 2,
       "version_minor": 0
      },
      "text/plain": [
       "Epoch 38/100:   0%|          | 0/229 [00:00<?, ?it/s]"
      ]
     },
     "metadata": {},
     "output_type": "display_data"
    },
    {
     "data": {
      "application/vnd.jupyter.widget-view+json": {
       "model_id": "3c6b1451f9a94f6cab0941522523f1fa",
       "version_major": 2,
       "version_minor": 0
      },
      "text/plain": [
       "Epoch 39/100:   0%|          | 0/229 [00:00<?, ?it/s]"
      ]
     },
     "metadata": {},
     "output_type": "display_data"
    },
    {
     "name": "stdout",
     "output_type": "stream",
     "text": [
      "\n",
      "Epoch 39: New best F1-score: 0.9211\n",
      "Accuracy: 0.9213, Precision: 0.9234, Recall: 0.9213\n",
      "Saving checkpoint to C:\\Users\\PC\\lavar\\audiotwin_checkpoints_medium\\training_checkpoints_ConvNext_finetune\\ConvNeXt-Tiny_data_100.0percent.pth\n"
     ]
    },
    {
     "data": {
      "application/vnd.jupyter.widget-view+json": {
       "model_id": "c29565380a4248b3b6a59835f2e3f9ed",
       "version_major": 2,
       "version_minor": 0
      },
      "text/plain": [
       "Epoch 40/100:   0%|          | 0/229 [00:00<?, ?it/s]"
      ]
     },
     "metadata": {},
     "output_type": "display_data"
    },
    {
     "name": "stdout",
     "output_type": "stream",
     "text": [
      "\n",
      "Epoch 40: New best F1-score: 0.9305\n",
      "Accuracy: 0.9306, Precision: 0.9307, Recall: 0.9306\n",
      "Saving checkpoint to C:\\Users\\PC\\lavar\\audiotwin_checkpoints_medium\\training_checkpoints_ConvNext_finetune\\ConvNeXt-Tiny_data_100.0percent.pth\n"
     ]
    },
    {
     "data": {
      "application/vnd.jupyter.widget-view+json": {
       "model_id": "373cc0c21cb24c0c83babf732e351fbb",
       "version_major": 2,
       "version_minor": 0
      },
      "text/plain": [
       "Epoch 41/100:   0%|          | 0/229 [00:00<?, ?it/s]"
      ]
     },
     "metadata": {},
     "output_type": "display_data"
    },
    {
     "data": {
      "application/vnd.jupyter.widget-view+json": {
       "model_id": "1271bff30d3d4a7e8724598d9f228582",
       "version_major": 2,
       "version_minor": 0
      },
      "text/plain": [
       "Epoch 42/100:   0%|          | 0/229 [00:00<?, ?it/s]"
      ]
     },
     "metadata": {},
     "output_type": "display_data"
    },
    {
     "data": {
      "application/vnd.jupyter.widget-view+json": {
       "model_id": "8127f6ab8cf845f6a35ec7bd144e889a",
       "version_major": 2,
       "version_minor": 0
      },
      "text/plain": [
       "Epoch 43/100:   0%|          | 0/229 [00:00<?, ?it/s]"
      ]
     },
     "metadata": {},
     "output_type": "display_data"
    },
    {
     "name": "stdout",
     "output_type": "stream",
     "text": [
      "\n",
      "Epoch 43: New best F1-score: 0.9321\n",
      "Accuracy: 0.9322, Precision: 0.9334, Recall: 0.9322\n",
      "Saving checkpoint to C:\\Users\\PC\\lavar\\audiotwin_checkpoints_medium\\training_checkpoints_ConvNext_finetune\\ConvNeXt-Tiny_data_100.0percent.pth\n"
     ]
    },
    {
     "data": {
      "application/vnd.jupyter.widget-view+json": {
       "model_id": "8756400cf89745808361c920270f33a2",
       "version_major": 2,
       "version_minor": 0
      },
      "text/plain": [
       "Epoch 44/100:   0%|          | 0/229 [00:00<?, ?it/s]"
      ]
     },
     "metadata": {},
     "output_type": "display_data"
    },
    {
     "data": {
      "application/vnd.jupyter.widget-view+json": {
       "model_id": "0d1e4c761ce6443cb119a13ef4f2163d",
       "version_major": 2,
       "version_minor": 0
      },
      "text/plain": [
       "Epoch 45/100:   0%|          | 0/229 [00:00<?, ?it/s]"
      ]
     },
     "metadata": {},
     "output_type": "display_data"
    },
    {
     "data": {
      "application/vnd.jupyter.widget-view+json": {
       "model_id": "c00a155b1b4d47fe858c90a9af50968f",
       "version_major": 2,
       "version_minor": 0
      },
      "text/plain": [
       "Epoch 46/100:   0%|          | 0/229 [00:00<?, ?it/s]"
      ]
     },
     "metadata": {},
     "output_type": "display_data"
    },
    {
     "data": {
      "application/vnd.jupyter.widget-view+json": {
       "model_id": "e5082ddca430460a9dcc68a2f87cee94",
       "version_major": 2,
       "version_minor": 0
      },
      "text/plain": [
       "Epoch 47/100:   0%|          | 0/229 [00:00<?, ?it/s]"
      ]
     },
     "metadata": {},
     "output_type": "display_data"
    },
    {
     "data": {
      "application/vnd.jupyter.widget-view+json": {
       "model_id": "72f9eb84977f43ae9881f7401df88f5a",
       "version_major": 2,
       "version_minor": 0
      },
      "text/plain": [
       "Epoch 48/100:   0%|          | 0/229 [00:00<?, ?it/s]"
      ]
     },
     "metadata": {},
     "output_type": "display_data"
    },
    {
     "data": {
      "application/vnd.jupyter.widget-view+json": {
       "model_id": "6b3d015e1cf744a6898382244c05b669",
       "version_major": 2,
       "version_minor": 0
      },
      "text/plain": [
       "Epoch 49/100:   0%|          | 0/229 [00:00<?, ?it/s]"
      ]
     },
     "metadata": {},
     "output_type": "display_data"
    },
    {
     "data": {
      "application/vnd.jupyter.widget-view+json": {
       "model_id": "14c7b37c13bf4c17833e118849b78898",
       "version_major": 2,
       "version_minor": 0
      },
      "text/plain": [
       "Epoch 50/100:   0%|          | 0/229 [00:00<?, ?it/s]"
      ]
     },
     "metadata": {},
     "output_type": "display_data"
    },
    {
     "name": "stdout",
     "output_type": "stream",
     "text": [
      "\n",
      "Epoch 50: New best F1-score: 0.9399\n",
      "Accuracy: 0.9399, Precision: 0.9413, Recall: 0.9399\n",
      "Saving checkpoint to C:\\Users\\PC\\lavar\\audiotwin_checkpoints_medium\\training_checkpoints_ConvNext_finetune\\ConvNeXt-Tiny_data_100.0percent.pth\n"
     ]
    },
    {
     "data": {
      "application/vnd.jupyter.widget-view+json": {
       "model_id": "e051af325dbf4e21b25bcfe648adf777",
       "version_major": 2,
       "version_minor": 0
      },
      "text/plain": [
       "Epoch 51/100:   0%|          | 0/229 [00:00<?, ?it/s]"
      ]
     },
     "metadata": {},
     "output_type": "display_data"
    },
    {
     "name": "stdout",
     "output_type": "stream",
     "text": [
      "\n",
      "Epoch 51: New best F1-score: 0.9454\n",
      "Accuracy: 0.9454, Precision: 0.9464, Recall: 0.9454\n",
      "Saving checkpoint to C:\\Users\\PC\\lavar\\audiotwin_checkpoints_medium\\training_checkpoints_ConvNext_finetune\\ConvNeXt-Tiny_data_100.0percent.pth\n"
     ]
    },
    {
     "data": {
      "application/vnd.jupyter.widget-view+json": {
       "model_id": "2724f7d857d14b4f9018f48d33ccc9b0",
       "version_major": 2,
       "version_minor": 0
      },
      "text/plain": [
       "Epoch 52/100:   0%|          | 0/229 [00:00<?, ?it/s]"
      ]
     },
     "metadata": {},
     "output_type": "display_data"
    },
    {
     "name": "stdout",
     "output_type": "stream",
     "text": [
      "\n",
      "Epoch 52: New best F1-score: 0.9464\n",
      "Accuracy: 0.9464, Precision: 0.9467, Recall: 0.9464\n",
      "Saving checkpoint to C:\\Users\\PC\\lavar\\audiotwin_checkpoints_medium\\training_checkpoints_ConvNext_finetune\\ConvNeXt-Tiny_data_100.0percent.pth\n"
     ]
    },
    {
     "data": {
      "application/vnd.jupyter.widget-view+json": {
       "model_id": "1708be2c0a3e41869dca969e208fe54f",
       "version_major": 2,
       "version_minor": 0
      },
      "text/plain": [
       "Epoch 53/100:   0%|          | 0/229 [00:00<?, ?it/s]"
      ]
     },
     "metadata": {},
     "output_type": "display_data"
    },
    {
     "data": {
      "application/vnd.jupyter.widget-view+json": {
       "model_id": "f2df6077b0ef4c80b17be93ee43ea55a",
       "version_major": 2,
       "version_minor": 0
      },
      "text/plain": [
       "Epoch 54/100:   0%|          | 0/229 [00:00<?, ?it/s]"
      ]
     },
     "metadata": {},
     "output_type": "display_data"
    },
    {
     "data": {
      "application/vnd.jupyter.widget-view+json": {
       "model_id": "cc8eb71ff9a646658efcd8dd1f5ad2fb",
       "version_major": 2,
       "version_minor": 0
      },
      "text/plain": [
       "Epoch 55/100:   0%|          | 0/229 [00:00<?, ?it/s]"
      ]
     },
     "metadata": {},
     "output_type": "display_data"
    },
    {
     "data": {
      "application/vnd.jupyter.widget-view+json": {
       "model_id": "edd71f64155341078d31e4c68b250b92",
       "version_major": 2,
       "version_minor": 0
      },
      "text/plain": [
       "Epoch 56/100:   0%|          | 0/229 [00:00<?, ?it/s]"
      ]
     },
     "metadata": {},
     "output_type": "display_data"
    },
    {
     "data": {
      "application/vnd.jupyter.widget-view+json": {
       "model_id": "f6d4034b62ec4c0d8cd97d932e5b7a3f",
       "version_major": 2,
       "version_minor": 0
      },
      "text/plain": [
       "Epoch 57/100:   0%|          | 0/229 [00:00<?, ?it/s]"
      ]
     },
     "metadata": {},
     "output_type": "display_data"
    },
    {
     "data": {
      "application/vnd.jupyter.widget-view+json": {
       "model_id": "327a3b95f7f343f286076f16f547f571",
       "version_major": 2,
       "version_minor": 0
      },
      "text/plain": [
       "Epoch 58/100:   0%|          | 0/229 [00:00<?, ?it/s]"
      ]
     },
     "metadata": {},
     "output_type": "display_data"
    },
    {
     "data": {
      "application/vnd.jupyter.widget-view+json": {
       "model_id": "abea0889492b4add9c1b5e2ee4254fa9",
       "version_major": 2,
       "version_minor": 0
      },
      "text/plain": [
       "Epoch 59/100:   0%|          | 0/229 [00:00<?, ?it/s]"
      ]
     },
     "metadata": {},
     "output_type": "display_data"
    },
    {
     "data": {
      "application/vnd.jupyter.widget-view+json": {
       "model_id": "95cf83e8a6e74c3ea8ad1f97136709f0",
       "version_major": 2,
       "version_minor": 0
      },
      "text/plain": [
       "Epoch 60/100:   0%|          | 0/229 [00:00<?, ?it/s]"
      ]
     },
     "metadata": {},
     "output_type": "display_data"
    },
    {
     "name": "stdout",
     "output_type": "stream",
     "text": [
      "\n",
      "Epoch 60: New best F1-score: 0.9492\n",
      "Accuracy: 0.9492, Precision: 0.9493, Recall: 0.9492\n",
      "Saving checkpoint to C:\\Users\\PC\\lavar\\audiotwin_checkpoints_medium\\training_checkpoints_ConvNext_finetune\\ConvNeXt-Tiny_data_100.0percent.pth\n"
     ]
    },
    {
     "data": {
      "application/vnd.jupyter.widget-view+json": {
       "model_id": "69bb4b59fe154ed8a57c406ac4b8306f",
       "version_major": 2,
       "version_minor": 0
      },
      "text/plain": [
       "Epoch 61/100:   0%|          | 0/229 [00:00<?, ?it/s]"
      ]
     },
     "metadata": {},
     "output_type": "display_data"
    },
    {
     "data": {
      "application/vnd.jupyter.widget-view+json": {
       "model_id": "24369be339e34abf901cce33248ccb29",
       "version_major": 2,
       "version_minor": 0
      },
      "text/plain": [
       "Epoch 62/100:   0%|          | 0/229 [00:00<?, ?it/s]"
      ]
     },
     "metadata": {},
     "output_type": "display_data"
    },
    {
     "data": {
      "application/vnd.jupyter.widget-view+json": {
       "model_id": "535bc302ced5487290e3d80dbcada394",
       "version_major": 2,
       "version_minor": 0
      },
      "text/plain": [
       "Epoch 63/100:   0%|          | 0/229 [00:00<?, ?it/s]"
      ]
     },
     "metadata": {},
     "output_type": "display_data"
    },
    {
     "data": {
      "application/vnd.jupyter.widget-view+json": {
       "model_id": "b2033d0b32af4607aa38c62f41321285",
       "version_major": 2,
       "version_minor": 0
      },
      "text/plain": [
       "Epoch 64/100:   0%|          | 0/229 [00:00<?, ?it/s]"
      ]
     },
     "metadata": {},
     "output_type": "display_data"
    },
    {
     "data": {
      "application/vnd.jupyter.widget-view+json": {
       "model_id": "6768718a3dc94310b4439ca3579bf9c9",
       "version_major": 2,
       "version_minor": 0
      },
      "text/plain": [
       "Epoch 65/100:   0%|          | 0/229 [00:00<?, ?it/s]"
      ]
     },
     "metadata": {},
     "output_type": "display_data"
    },
    {
     "data": {
      "application/vnd.jupyter.widget-view+json": {
       "model_id": "fc23de3f35b74b84a9e78e9587991cd7",
       "version_major": 2,
       "version_minor": 0
      },
      "text/plain": [
       "Epoch 66/100:   0%|          | 0/229 [00:00<?, ?it/s]"
      ]
     },
     "metadata": {},
     "output_type": "display_data"
    },
    {
     "data": {
      "application/vnd.jupyter.widget-view+json": {
       "model_id": "7c645f5447b84f0e89cf7da1c8cff59c",
       "version_major": 2,
       "version_minor": 0
      },
      "text/plain": [
       "Epoch 67/100:   0%|          | 0/229 [00:00<?, ?it/s]"
      ]
     },
     "metadata": {},
     "output_type": "display_data"
    },
    {
     "data": {
      "application/vnd.jupyter.widget-view+json": {
       "model_id": "3e547ccf691a43a699cfcf6331ab7159",
       "version_major": 2,
       "version_minor": 0
      },
      "text/plain": [
       "Epoch 68/100:   0%|          | 0/229 [00:00<?, ?it/s]"
      ]
     },
     "metadata": {},
     "output_type": "display_data"
    },
    {
     "name": "stdout",
     "output_type": "stream",
     "text": [
      "\n",
      "Epoch 68: New best F1-score: 0.9498\n",
      "Accuracy: 0.9497, Precision: 0.9501, Recall: 0.9497\n",
      "Saving checkpoint to C:\\Users\\PC\\lavar\\audiotwin_checkpoints_medium\\training_checkpoints_ConvNext_finetune\\ConvNeXt-Tiny_data_100.0percent.pth\n"
     ]
    },
    {
     "data": {
      "application/vnd.jupyter.widget-view+json": {
       "model_id": "e6e639ce9bec4717b329e2dd1f2617a8",
       "version_major": 2,
       "version_minor": 0
      },
      "text/plain": [
       "Epoch 69/100:   0%|          | 0/229 [00:00<?, ?it/s]"
      ]
     },
     "metadata": {},
     "output_type": "display_data"
    },
    {
     "data": {
      "application/vnd.jupyter.widget-view+json": {
       "model_id": "ecdf610025944e7aa1bd605b6b2d4a5c",
       "version_major": 2,
       "version_minor": 0
      },
      "text/plain": [
       "Epoch 70/100:   0%|          | 0/229 [00:00<?, ?it/s]"
      ]
     },
     "metadata": {},
     "output_type": "display_data"
    },
    {
     "data": {
      "application/vnd.jupyter.widget-view+json": {
       "model_id": "de2e5885c5dd488cb7f2f3077e59418c",
       "version_major": 2,
       "version_minor": 0
      },
      "text/plain": [
       "Epoch 71/100:   0%|          | 0/229 [00:00<?, ?it/s]"
      ]
     },
     "metadata": {},
     "output_type": "display_data"
    },
    {
     "data": {
      "application/vnd.jupyter.widget-view+json": {
       "model_id": "23ab46d2b1c64ca296d8952027f67eb0",
       "version_major": 2,
       "version_minor": 0
      },
      "text/plain": [
       "Epoch 72/100:   0%|          | 0/229 [00:00<?, ?it/s]"
      ]
     },
     "metadata": {},
     "output_type": "display_data"
    },
    {
     "data": {
      "application/vnd.jupyter.widget-view+json": {
       "model_id": "25944c1e2f2b430b87e0c0528f15ecb6",
       "version_major": 2,
       "version_minor": 0
      },
      "text/plain": [
       "Epoch 73/100:   0%|          | 0/229 [00:00<?, ?it/s]"
      ]
     },
     "metadata": {},
     "output_type": "display_data"
    },
    {
     "data": {
      "application/vnd.jupyter.widget-view+json": {
       "model_id": "6354c64728bc4ce3873e427d72ad5756",
       "version_major": 2,
       "version_minor": 0
      },
      "text/plain": [
       "Epoch 74/100:   0%|          | 0/229 [00:00<?, ?it/s]"
      ]
     },
     "metadata": {},
     "output_type": "display_data"
    },
    {
     "name": "stdout",
     "output_type": "stream",
     "text": [
      "\n",
      "Epoch 74: New best F1-score: 0.9508\n",
      "Accuracy: 0.9508, Precision: 0.9511, Recall: 0.9508\n",
      "Saving checkpoint to C:\\Users\\PC\\lavar\\audiotwin_checkpoints_medium\\training_checkpoints_ConvNext_finetune\\ConvNeXt-Tiny_data_100.0percent.pth\n"
     ]
    },
    {
     "data": {
      "application/vnd.jupyter.widget-view+json": {
       "model_id": "11d7cb7a59a84846b66b855b60ff9445",
       "version_major": 2,
       "version_minor": 0
      },
      "text/plain": [
       "Epoch 75/100:   0%|          | 0/229 [00:00<?, ?it/s]"
      ]
     },
     "metadata": {},
     "output_type": "display_data"
    },
    {
     "data": {
      "application/vnd.jupyter.widget-view+json": {
       "model_id": "e75f40ac88ca4098a2ba2d92a304406e",
       "version_major": 2,
       "version_minor": 0
      },
      "text/plain": [
       "Epoch 76/100:   0%|          | 0/229 [00:00<?, ?it/s]"
      ]
     },
     "metadata": {},
     "output_type": "display_data"
    },
    {
     "data": {
      "application/vnd.jupyter.widget-view+json": {
       "model_id": "dfd17992a9e24c679f71474c5873d924",
       "version_major": 2,
       "version_minor": 0
      },
      "text/plain": [
       "Epoch 77/100:   0%|          | 0/229 [00:00<?, ?it/s]"
      ]
     },
     "metadata": {},
     "output_type": "display_data"
    },
    {
     "data": {
      "application/vnd.jupyter.widget-view+json": {
       "model_id": "2e870afe33054881accdc4df1cf1730a",
       "version_major": 2,
       "version_minor": 0
      },
      "text/plain": [
       "Epoch 78/100:   0%|          | 0/229 [00:00<?, ?it/s]"
      ]
     },
     "metadata": {},
     "output_type": "display_data"
    },
    {
     "data": {
      "application/vnd.jupyter.widget-view+json": {
       "model_id": "70f8ceb03d9d4788938ee3ba13734f23",
       "version_major": 2,
       "version_minor": 0
      },
      "text/plain": [
       "Epoch 79/100:   0%|          | 0/229 [00:00<?, ?it/s]"
      ]
     },
     "metadata": {},
     "output_type": "display_data"
    },
    {
     "name": "stdout",
     "output_type": "stream",
     "text": [
      "\n",
      "Epoch 79: New best F1-score: 0.9514\n",
      "Accuracy: 0.9514, Precision: 0.9514, Recall: 0.9514\n",
      "Saving checkpoint to C:\\Users\\PC\\lavar\\audiotwin_checkpoints_medium\\training_checkpoints_ConvNext_finetune\\ConvNeXt-Tiny_data_100.0percent.pth\n"
     ]
    },
    {
     "data": {
      "application/vnd.jupyter.widget-view+json": {
       "model_id": "36afd6a3c9f24a3d88811a46f6ea26d4",
       "version_major": 2,
       "version_minor": 0
      },
      "text/plain": [
       "Epoch 80/100:   0%|          | 0/229 [00:00<?, ?it/s]"
      ]
     },
     "metadata": {},
     "output_type": "display_data"
    },
    {
     "data": {
      "application/vnd.jupyter.widget-view+json": {
       "model_id": "d73e6f39f3724100871a709438bfb5f4",
       "version_major": 2,
       "version_minor": 0
      },
      "text/plain": [
       "Epoch 81/100:   0%|          | 0/229 [00:00<?, ?it/s]"
      ]
     },
     "metadata": {},
     "output_type": "display_data"
    },
    {
     "data": {
      "application/vnd.jupyter.widget-view+json": {
       "model_id": "ab56961f53464d9f98ca6e52722290a2",
       "version_major": 2,
       "version_minor": 0
      },
      "text/plain": [
       "Epoch 82/100:   0%|          | 0/229 [00:00<?, ?it/s]"
      ]
     },
     "metadata": {},
     "output_type": "display_data"
    },
    {
     "data": {
      "application/vnd.jupyter.widget-view+json": {
       "model_id": "e4d7f43df46e46d68f1a5834764879d8",
       "version_major": 2,
       "version_minor": 0
      },
      "text/plain": [
       "Epoch 83/100:   0%|          | 0/229 [00:00<?, ?it/s]"
      ]
     },
     "metadata": {},
     "output_type": "display_data"
    },
    {
     "data": {
      "application/vnd.jupyter.widget-view+json": {
       "model_id": "35b2e0846d104301933dca70f424ccda",
       "version_major": 2,
       "version_minor": 0
      },
      "text/plain": [
       "Epoch 84/100:   0%|          | 0/229 [00:00<?, ?it/s]"
      ]
     },
     "metadata": {},
     "output_type": "display_data"
    },
    {
     "data": {
      "application/vnd.jupyter.widget-view+json": {
       "model_id": "abc87c9c3570422d8d903cec0c6df52e",
       "version_major": 2,
       "version_minor": 0
      },
      "text/plain": [
       "Epoch 85/100:   0%|          | 0/229 [00:00<?, ?it/s]"
      ]
     },
     "metadata": {},
     "output_type": "display_data"
    },
    {
     "data": {
      "application/vnd.jupyter.widget-view+json": {
       "model_id": "3169e1103ba74f428dc834eb8d9ce605",
       "version_major": 2,
       "version_minor": 0
      },
      "text/plain": [
       "Epoch 86/100:   0%|          | 0/229 [00:00<?, ?it/s]"
      ]
     },
     "metadata": {},
     "output_type": "display_data"
    },
    {
     "data": {
      "application/vnd.jupyter.widget-view+json": {
       "model_id": "948473c3577749578dffea707c9272eb",
       "version_major": 2,
       "version_minor": 0
      },
      "text/plain": [
       "Epoch 87/100:   0%|          | 0/229 [00:00<?, ?it/s]"
      ]
     },
     "metadata": {},
     "output_type": "display_data"
    },
    {
     "data": {
      "application/vnd.jupyter.widget-view+json": {
       "model_id": "f53d40094fbd4d1f83a44790c5176bea",
       "version_major": 2,
       "version_minor": 0
      },
      "text/plain": [
       "Epoch 88/100:   0%|          | 0/229 [00:00<?, ?it/s]"
      ]
     },
     "metadata": {},
     "output_type": "display_data"
    },
    {
     "data": {
      "application/vnd.jupyter.widget-view+json": {
       "model_id": "ebbe49ca7f184bd8addfd1ddd59c8525",
       "version_major": 2,
       "version_minor": 0
      },
      "text/plain": [
       "Epoch 89/100:   0%|          | 0/229 [00:00<?, ?it/s]"
      ]
     },
     "metadata": {},
     "output_type": "display_data"
    },
    {
     "name": "stdout",
     "output_type": "stream",
     "text": [
      "\n",
      "Epoch 89: New best F1-score: 0.9519\n",
      "Accuracy: 0.9519, Precision: 0.9521, Recall: 0.9519\n",
      "Saving checkpoint to C:\\Users\\PC\\lavar\\audiotwin_checkpoints_medium\\training_checkpoints_ConvNext_finetune\\ConvNeXt-Tiny_data_100.0percent.pth\n"
     ]
    },
    {
     "data": {
      "application/vnd.jupyter.widget-view+json": {
       "model_id": "52f88d54bd1543a4b0d938f83010a2d5",
       "version_major": 2,
       "version_minor": 0
      },
      "text/plain": [
       "Epoch 90/100:   0%|          | 0/229 [00:00<?, ?it/s]"
      ]
     },
     "metadata": {},
     "output_type": "display_data"
    },
    {
     "data": {
      "application/vnd.jupyter.widget-view+json": {
       "model_id": "bb07a1df150c4f4c9e6a30d6336f0365",
       "version_major": 2,
       "version_minor": 0
      },
      "text/plain": [
       "Epoch 91/100:   0%|          | 0/229 [00:00<?, ?it/s]"
      ]
     },
     "metadata": {},
     "output_type": "display_data"
    },
    {
     "name": "stdout",
     "output_type": "stream",
     "text": [
      "\n",
      "Epoch 91: New best F1-score: 0.9519\n",
      "Accuracy: 0.9519, Precision: 0.9520, Recall: 0.9519\n",
      "Saving checkpoint to C:\\Users\\PC\\lavar\\audiotwin_checkpoints_medium\\training_checkpoints_ConvNext_finetune\\ConvNeXt-Tiny_data_100.0percent.pth\n"
     ]
    },
    {
     "data": {
      "application/vnd.jupyter.widget-view+json": {
       "model_id": "0d769020989442a395c200e8142f6e1a",
       "version_major": 2,
       "version_minor": 0
      },
      "text/plain": [
       "Epoch 92/100:   0%|          | 0/229 [00:00<?, ?it/s]"
      ]
     },
     "metadata": {},
     "output_type": "display_data"
    },
    {
     "data": {
      "application/vnd.jupyter.widget-view+json": {
       "model_id": "75764c7a6fb640afa5bee0e01965b823",
       "version_major": 2,
       "version_minor": 0
      },
      "text/plain": [
       "Epoch 93/100:   0%|          | 0/229 [00:00<?, ?it/s]"
      ]
     },
     "metadata": {},
     "output_type": "display_data"
    },
    {
     "data": {
      "application/vnd.jupyter.widget-view+json": {
       "model_id": "d0edd28fa1854080b37ec05e8fc0144d",
       "version_major": 2,
       "version_minor": 0
      },
      "text/plain": [
       "Epoch 94/100:   0%|          | 0/229 [00:00<?, ?it/s]"
      ]
     },
     "metadata": {},
     "output_type": "display_data"
    },
    {
     "data": {
      "application/vnd.jupyter.widget-view+json": {
       "model_id": "17ad8d9c7f644d0097a87f62590f3ef3",
       "version_major": 2,
       "version_minor": 0
      },
      "text/plain": [
       "Epoch 95/100:   0%|          | 0/229 [00:00<?, ?it/s]"
      ]
     },
     "metadata": {},
     "output_type": "display_data"
    },
    {
     "name": "stdout",
     "output_type": "stream",
     "text": [
      "\n",
      "Epoch 95: New best F1-score: 0.9525\n",
      "Accuracy: 0.9525, Precision: 0.9527, Recall: 0.9525\n",
      "Saving checkpoint to C:\\Users\\PC\\lavar\\audiotwin_checkpoints_medium\\training_checkpoints_ConvNext_finetune\\ConvNeXt-Tiny_data_100.0percent.pth\n"
     ]
    },
    {
     "data": {
      "application/vnd.jupyter.widget-view+json": {
       "model_id": "fa5c3155019649dbb76abdb33c72dfd0",
       "version_major": 2,
       "version_minor": 0
      },
      "text/plain": [
       "Epoch 96/100:   0%|          | 0/229 [00:00<?, ?it/s]"
      ]
     },
     "metadata": {},
     "output_type": "display_data"
    },
    {
     "data": {
      "application/vnd.jupyter.widget-view+json": {
       "model_id": "69bb0c6f7ef145df9a671bd30934ed5b",
       "version_major": 2,
       "version_minor": 0
      },
      "text/plain": [
       "Epoch 97/100:   0%|          | 0/229 [00:00<?, ?it/s]"
      ]
     },
     "metadata": {},
     "output_type": "display_data"
    },
    {
     "name": "stdout",
     "output_type": "stream",
     "text": [
      "\n",
      "Epoch 97: New best F1-score: 0.9530\n",
      "Accuracy: 0.9530, Precision: 0.9535, Recall: 0.9530\n",
      "Saving checkpoint to C:\\Users\\PC\\lavar\\audiotwin_checkpoints_medium\\training_checkpoints_ConvNext_finetune\\ConvNeXt-Tiny_data_100.0percent.pth\n"
     ]
    },
    {
     "data": {
      "application/vnd.jupyter.widget-view+json": {
       "model_id": "c05bff66eafe43ce91cc5d9e06adafcb",
       "version_major": 2,
       "version_minor": 0
      },
      "text/plain": [
       "Epoch 98/100:   0%|          | 0/229 [00:00<?, ?it/s]"
      ]
     },
     "metadata": {},
     "output_type": "display_data"
    },
    {
     "name": "stdout",
     "output_type": "stream",
     "text": [
      "\n",
      "Epoch 98: New best F1-score: 0.9547\n",
      "Accuracy: 0.9546, Precision: 0.9549, Recall: 0.9546\n",
      "Saving checkpoint to C:\\Users\\PC\\lavar\\audiotwin_checkpoints_medium\\training_checkpoints_ConvNext_finetune\\ConvNeXt-Tiny_data_100.0percent.pth\n"
     ]
    },
    {
     "data": {
      "application/vnd.jupyter.widget-view+json": {
       "model_id": "c285656b853e4b29a0085e3494669b2a",
       "version_major": 2,
       "version_minor": 0
      },
      "text/plain": [
       "Epoch 99/100:   0%|          | 0/229 [00:00<?, ?it/s]"
      ]
     },
     "metadata": {},
     "output_type": "display_data"
    },
    {
     "data": {
      "application/vnd.jupyter.widget-view+json": {
       "model_id": "9fb5e450814d491abc507645d24ef540",
       "version_major": 2,
       "version_minor": 0
      },
      "text/plain": [
       "Epoch 100/100:   0%|          | 0/229 [00:00<?, ?it/s]"
      ]
     },
     "metadata": {},
     "output_type": "display_data"
    },
    {
     "name": "stdout",
     "output_type": "stream",
     "text": [
      "Finished Training for this run. Best F1-score: 0.9547\n",
      "==> Results with 100.0% data: Best F1-Score = 0.9547\n",
      "\n",
      "--- FINAL RESULTS ---\n",
      "\n",
      "Model: ConvNeXt-Tiny\n",
      "  100.0% data: F1-Score = 0.9547\n"
     ]
    }
   ],
   "source": [
    "for model_name, config in model_configs.items():\n",
    "    print(f\"\\n{'='*20} Evaluating: {model_name} {'='*20}\")\n",
    "    model_results = []\n",
    "    for percent in DATA_PERCENTAGES:\n",
    "        print(f\"--- Training with {percent*100:.1f}% of labeled data ---\")\n",
    "\n",
    "        if percent < 1.0:\n",
    "            stratify_labels = full_metadata['label'].iloc[train_indices].values\n",
    "            subset_train_indices, _ = train_test_split(\n",
    "                train_indices, train_size=percent, random_state=SEED, stratify=stratify_labels\n",
    "            )\n",
    "        else:\n",
    "            subset_train_indices = train_indices\n",
    "\n",
    "        train_metadata_subset = full_metadata.iloc[subset_train_indices]\n",
    "        train_dataset = SpectrogramDataset(metadata_df=train_metadata_subset, data_dir=ROOT_DIR, transform=train_transform)\n",
    "        train_loader = DataLoader(train_dataset, batch_size=32, shuffle=True, num_workers=0, collate_fn=collate_fn_remove_none)\n",
    "\n",
    "        checkpoint_filename = f\"{model_name.replace(' ', '_')}_data_{percent*100:.1f}percent.pth\"\n",
    "        checkpoint_path = os.path.join(CHECKPOINT_DIR, checkpoint_filename)\n",
    "        metrics_csv_path = os.path.join(CHECKPOINT_DIR, f\"{model_name.replace(' ', '_')}_data_{percent*100:.1f}percent_metrics.csv\")\n",
    "\n",
    "        model = config[\"model_class\"](**config[\"args\"]).to(device)\n",
    "\n",
    "        f1 = train_and_evaluate(model, train_loader, test_loader, epochs=100, checkpoint_path=checkpoint_path, metrics_csv_path=metrics_csv_path)\n",
    "        model_results.append({'percent': percent, 'f1': f1})\n",
    "        print(f\"==> Results with {percent*100:.1f}% data: Best F1-Score = {f1:.4f}\")\n",
    "\n",
    "    results[model_name] = model_results\n",
    "\n",
    "print(\"\\n--- FINAL RESULTS ---\")\n",
    "for model_name, result_list in results.items():\n",
    "    print(f\"\\nModel: {model_name}\")\n",
    "    for res in result_list:\n",
    "        print(f\"  {res['percent']*100:.1f}% data: F1-Score = {res['f1']:.4f}\")"
   ]
  },
  {
   "cell_type": "code",
   "execution_count": null,
   "id": "85f8fcda-2aa5-4c4c-8c26-4f787c4c0dcc",
   "metadata": {},
   "outputs": [],
   "source": []
  }
 ],
 "metadata": {
  "kernelspec": {
   "display_name": "Python 3 (ipykernel)",
   "language": "python",
   "name": "python3"
  },
  "language_info": {
   "codemirror_mode": {
    "name": "ipython",
    "version": 3
   },
   "file_extension": ".py",
   "mimetype": "text/x-python",
   "name": "python",
   "nbconvert_exporter": "python",
   "pygments_lexer": "ipython3",
   "version": "3.10.16"
  }
 },
 "nbformat": 4,
 "nbformat_minor": 5
}
