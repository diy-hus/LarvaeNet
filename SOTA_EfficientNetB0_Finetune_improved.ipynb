{
 "cells": [
  {
   "cell_type": "code",
   "execution_count": 1,
   "id": "9642b23d-357a-4665-9c30-51bb0ba926aa",
   "metadata": {},
   "outputs": [],
   "source": [
    "import os\n",
    "import random\n",
    "import pandas as pd\n",
    "import numpy as np\n",
    "import torch\n",
    "import torch.nn as nn\n",
    "import torch.nn.functional as F\n",
    "import torchaudio\n",
    "import torchaudio.transforms\n",
    "from torch.utils.data import Dataset, DataLoader, Subset\n",
    "from sklearn.model_selection import train_test_split\n",
    "from sklearn.metrics import accuracy_score, precision_score, recall_score, f1_score\n",
    "from torchvision.transforms import v2 as T\n",
    "from torchvision import models\n",
    "from tqdm.notebook import tqdm\n",
    "import warnings\n"
   ]
  },
  {
   "cell_type": "code",
   "execution_count": 2,
   "id": "66bd7ed1-623c-48df-99fd-6fb74be12970",
   "metadata": {},
   "outputs": [],
   "source": [
    "warnings.simplefilter(action='ignore', category=FutureWarning)\n"
   ]
  },
  {
   "cell_type": "code",
   "execution_count": 3,
   "id": "0c95a4f2-1c14-4b5d-9a2f-ee8325174f75",
   "metadata": {},
   "outputs": [
    {
     "name": "stdout",
     "output_type": "stream",
     "text": [
      "Using device: cuda\n"
     ]
    }
   ],
   "source": [
    "device = torch.device(\"cuda\" if torch.cuda.is_available() else \"cpu\")\n",
    "print(f\"Using device: {device}\")\n",
    "SEED = 42\n",
    "random.seed(SEED)\n",
    "np.random.seed(SEED)\n",
    "torch.manual_seed(SEED)\n",
    "if torch.cuda.is_available():\n",
    "    torch.cuda.manual_seed_all(SEED)"
   ]
  },
  {
   "cell_type": "code",
   "execution_count": 4,
   "id": "f4ff15d0-e0a0-4a15-a45f-8f98904d0034",
   "metadata": {},
   "outputs": [
    {
     "name": "stdout",
     "output_type": "stream",
     "text": [
      "Đã định nghĩa xong pipeline Augmentation mới cho Spectrogram.\n"
     ]
    }
   ],
   "source": [
    "class TimeShift(torch.nn.Module):\n",
    "    \"\"\" Dịch chuyển spectrogram theo trục thời gian một cách ngẫu nhiên. \"\"\"\n",
    "    def __init__(self, p=0.5, max_shift_percent=0.4):\n",
    "        super().__init__()\n",
    "        self.p = p\n",
    "        self.max_shift_percent = max_shift_percent\n",
    "\n",
    "    def forward(self, spec):\n",
    "        if torch.rand(1) < self.p:\n",
    "            time_steps = spec.shape[-1]\n",
    "            shift_amount = int(torch.rand(1) * self.max_shift_percent * time_steps)\n",
    "            if torch.rand(1) < 0.5:\n",
    "                shift_amount = -shift_amount\n",
    "            return torch.roll(spec, shifts=shift_amount, dims=-1)\n",
    "        return spec\n",
    "\n",
    "class SpecNoise(torch.nn.Module):\n",
    "    \"\"\" Thêm nhiễu Gaussian trực tiếp vào spectrogram. \"\"\"\n",
    "    def __init__(self, p=0.5, noise_level=0.05):\n",
    "        super().__init__()\n",
    "        self.p = p\n",
    "        self.noise_level = noise_level\n",
    "\n",
    "    def forward(self, spec):\n",
    "        if torch.rand(1) < self.p:\n",
    "            noise = torch.randn_like(spec) * self.noise_level\n",
    "            return spec + noise\n",
    "        return spec\n",
    "\n",
    "train_transform = T.Compose([\n",
    "    torchaudio.transforms.TimeMasking(time_mask_param=80),\n",
    "    torchaudio.transforms.FrequencyMasking(freq_mask_param=25),\n",
    "    TimeShift(p=0.5, max_shift_percent=0.4),\n",
    "    SpecNoise(p=0.3, noise_level=0.03),\n",
    "])\n",
    "\n",
    "val_transform = None\n",
    "print(\"Đã định nghĩa xong pipeline Augmentation mới cho Spectrogram.\")\n",
    "\n",
    "# --- Mixup Functions (giữ nguyên nhưng không sử dụng trong vòng lặp chính) ---\n",
    "def mixup_data(x, y, alpha=0.4, use_cuda=True):\n",
    "    if alpha > 0:\n",
    "        lam = np.random.beta(alpha, alpha)\n",
    "    else:\n",
    "        lam = 1\n",
    "    batch_size = x.size()[0]\n",
    "    if use_cuda:\n",
    "        index = torch.randperm(batch_size).cuda()\n",
    "    else:\n",
    "        index = torch.randperm(batch_size)\n",
    "    mixed_x = lam * x + (1 - lam) * x[index, :]\n",
    "    y_a, y_b = y, y[index]\n",
    "    return mixed_x, y_a, y_b, lam\n",
    "\n",
    "def mixup_criterion(criterion, pred, y_a, y_b, lam):\n",
    "    return lam * criterion(pred, y_a) + (1 - lam) * criterion(pred, y_b)"
   ]
  },
  {
   "cell_type": "code",
   "execution_count": 5,
   "id": "ad44f7d7-a37c-400d-b6fb-48786594e14f",
   "metadata": {},
   "outputs": [],
   "source": [
    "class EfficientNet_AudioClassifier(nn.Module):\n",
    "    def __init__(self, num_classes, input_channels=1, pretrained=True):\n",
    "        super().__init__()\n",
    "        weights = models.EfficientNet_B0_Weights.DEFAULT if pretrained else None\n",
    "        self.efficientnet = models.efficientnet_b0(weights=weights)\n",
    "\n",
    "        # Thay thế lớp Conv2d đầu tiên để phù hợp với số kênh đầu vào (1 cho spectrogram)\n",
    "        original_conv = self.efficientnet.features[0][0]\n",
    "        new_first_conv = nn.Conv2d(\n",
    "            in_channels=input_channels,\n",
    "            out_channels=original_conv.out_channels,\n",
    "            kernel_size=original_conv.kernel_size,\n",
    "            stride=original_conv.stride,\n",
    "            padding=original_conv.padding,\n",
    "            bias=original_conv.bias is not None\n",
    "        )\n",
    "        self.efficientnet.features[0][0] = new_first_conv\n",
    "\n",
    "        # Thay thế lớp classifier\n",
    "        num_ftrs = self.efficientnet.classifier[1].in_features\n",
    "        self.efficientnet.classifier[1] = nn.Linear(num_ftrs, num_classes)\n",
    "\n",
    "    def forward(self, x):\n",
    "        if x.dim() == 3:\n",
    "            x = x.unsqueeze(1)  \n",
    "        return self.efficientnet(x)"
   ]
  },
  {
   "cell_type": "code",
   "execution_count": 6,
   "id": "afea1304-ab67-42d2-a444-224e7a3a249f",
   "metadata": {},
   "outputs": [],
   "source": [
    "class SpectrogramDataset(Dataset):\n",
    "    def __init__(self, metadata_df, data_dir, transform=None, target_tdim=216):\n",
    "        super().__init__()\n",
    "        self.metadata = metadata_df\n",
    "        self.data_dir = data_dir\n",
    "        self.transform = transform\n",
    "        self.target_tdim = target_tdim\n",
    "        self.class_names = sorted(self.metadata['label'].unique())\n",
    "        self.class_to_id = {name: i for i, name in enumerate(self.class_names)}\n",
    "\n",
    "    def __len__(self):\n",
    "        return len(self.metadata)\n",
    "\n",
    "    def __getitem__(self, idx):\n",
    "        row = self.metadata.iloc[idx]\n",
    "        file_path = os.path.join(self.data_dir, row['tensor_path'])\n",
    "        label = self.class_to_id[row['label']]\n",
    "\n",
    "        try:\n",
    "            spectrogram = torch.load(file_path)\n",
    "            current_tdim = spectrogram.shape[2]\n",
    "            if current_tdim > self.target_tdim:\n",
    "                spectrogram = spectrogram[:, :, :self.target_tdim]\n",
    "            elif current_tdim < self.target_tdim:\n",
    "                spectrogram = F.pad(spectrogram, (0, self.target_tdim - current_tdim))\n",
    "            # Resize spectrogram to 224x224 for EfficientNet-B0\n",
    "            spectrogram = F.interpolate(spectrogram.unsqueeze(0), size=(224, 224), mode='bilinear', align_corners=False).squeeze(0)\n",
    "\n",
    "            if self.transform:\n",
    "                spectrogram = self.transform(spectrogram)\n",
    "            return spectrogram, label\n",
    "        except Exception as e:\n",
    "            print(f\"Error loading or processing file {file_path}: {e}\")\n",
    "            return None\n",
    "\n",
    "def collate_fn_remove_none(batch):\n",
    "    batch = [item for item in batch if item is not None]\n",
    "    if not batch: return None, None\n",
    "    samples, labels = zip(*batch)\n",
    "    return torch.stack(samples), torch.tensor(labels)"
   ]
  },
  {
   "cell_type": "code",
   "execution_count": 7,
   "id": "dadc17b7-122c-4487-b357-a7fb9d210704",
   "metadata": {},
   "outputs": [],
   "source": [
    "def train_and_evaluate(model, train_loader, val_loader, epochs, checkpoint_path, metrics_csv_path):\n",
    "    optimizer = torch.optim.AdamW(model.parameters(), lr=1e-3, weight_decay=1e-4)\n",
    "    criterion = nn.CrossEntropyLoss()\n",
    "    scheduler = torch.optim.lr_scheduler.ReduceLROnPlateau(optimizer, 'max', factor=0.5, patience=5, verbose=False)\n",
    "    scaler = torch.cuda.amp.GradScaler(enabled=torch.cuda.is_available())\n",
    "    best_f1 = 0.0\n",
    "\n",
    "    if not os.path.exists(metrics_csv_path):\n",
    "        pd.DataFrame(columns=['Epoch', 'Accuracy', 'Precision', 'Recall', 'F1-Score']).to_csv(metrics_csv_path, index=False)\n",
    "\n",
    "    for epoch in range(epochs):\n",
    "        model.train()\n",
    "        loop = tqdm(train_loader, desc=f\"Epoch {epoch+1}/{epochs}\", leave=False)\n",
    "        for inputs, labels in loop:\n",
    "            if inputs is None: continue\n",
    "            inputs, labels = inputs.to(device), labels.to(device)\n",
    "            optimizer.zero_grad(set_to_none=True)\n",
    "\n",
    "            with torch.cuda.amp.autocast(enabled=torch.cuda.is_available()):\n",
    "                outputs = model(inputs)\n",
    "                loss = criterion(outputs, labels)\n",
    "\n",
    "            scaler.scale(loss).backward()\n",
    "            scaler.step(optimizer)\n",
    "            scaler.update()\n",
    "\n",
    "        model.eval()\n",
    "        val_preds, val_labels = [], []\n",
    "        with torch.no_grad():\n",
    "            for inputs, labels in val_loader:\n",
    "                if inputs is None: continue\n",
    "                inputs, labels = inputs.to(device), labels.to(device)\n",
    "                with torch.cuda.amp.autocast(enabled=torch.cuda.is_available()):\n",
    "                    outputs = model(inputs)\n",
    "                _, predicted = torch.max(outputs.data, 1)\n",
    "                val_preds.extend(predicted.cpu().numpy())\n",
    "                val_labels.extend(labels.cpu().numpy())\n",
    "\n",
    "        if len(val_labels) > 0:\n",
    "            current_f1 = f1_score(val_labels, val_preds, average='weighted', zero_division=0)\n",
    "            if current_f1 > best_f1:\n",
    "                best_f1 = current_f1\n",
    "                current_accuracy = accuracy_score(val_labels, val_preds)\n",
    "                current_precision = precision_score(val_labels, val_preds, average='weighted', zero_division=0)\n",
    "                current_recall = recall_score(val_labels, val_preds, average='weighted', zero_division=0)\n",
    "\n",
    "                print(f\"\\nEpoch {epoch+1}: New best F1-score: {best_f1:.4f}\")\n",
    "                print(f\"Accuracy: {current_accuracy:.4f}, Precision: {current_precision:.4f}, Recall: {current_recall:.4f}\")\n",
    "                print(f\"Saving checkpoint to {checkpoint_path}\")\n",
    "                torch.save(model.state_dict(), checkpoint_path)\n",
    "\n",
    "                metrics_df = pd.DataFrame([{'Epoch': epoch + 1, 'Accuracy': current_accuracy, 'Precision': current_precision, 'Recall': current_recall, 'F1-Score': current_f1}])\n",
    "                metrics_df.to_csv(metrics_csv_path, mode='a', header=False, index=False)\n",
    "            scheduler.step(current_f1)\n",
    "\n",
    "    print(f\"Finished Training for this run. Best F1-score: {best_f1:.4f}\")\n",
    "    return best_f1"
   ]
  },
  {
   "cell_type": "code",
   "execution_count": 10,
   "id": "6f6d1cc5-5fe7-45fc-96ad-1b7036045afa",
   "metadata": {},
   "outputs": [],
   "source": [
    "ROOT_DIR = r'C:\\Users\\PC\\lavar\\audiotwin_checkpoints_medium'\n",
    "METADATA_PATH = os.path.join(ROOT_DIR, 'spectrogram_tensor_metadata.csv')\n",
    "CHECKPOINT_DIR = os.path.join(ROOT_DIR, 'training_checkpoints_EfficientNetB0_finetune')\n",
    "os.makedirs(CHECKPOINT_DIR, exist_ok=True)\n",
    "\n",
    "DATA_PERCENTAGES = [1.0]\n",
    "results = {}"
   ]
  },
  {
   "cell_type": "code",
   "execution_count": 11,
   "id": "2b3ddf6c-56cf-4a1b-8404-2c551289514a",
   "metadata": {},
   "outputs": [
    {
     "name": "stdout",
     "output_type": "stream",
     "text": [
      "Preparing dataset...\n",
      "Number of classes: 8\n",
      "Data split: 7316 train, 1830 test.\n"
     ]
    }
   ],
   "source": [
    "print(\"Preparing dataset...\")\n",
    "full_metadata = pd.read_csv(METADATA_PATH)\n",
    "num_classes = len(full_metadata['label'].unique())\n",
    "print(f\"Number of classes: {num_classes}\")\n",
    "\n",
    "indices = np.arange(len(full_metadata))\n",
    "labels = full_metadata['label'].values\n",
    "train_indices, test_indices, _, _ = train_test_split(\n",
    "    indices, labels, test_size=0.2, random_state=SEED, stratify=labels\n",
    ")\n",
    "print(f\"Data split: {len(train_indices)} train, {len(test_indices)} test.\")\n",
    "\n",
    "test_metadata = full_metadata.iloc[test_indices]\n",
    "test_dataset = SpectrogramDataset(metadata_df=test_metadata, data_dir=ROOT_DIR, transform=val_transform)\n",
    "test_loader = DataLoader(test_dataset, batch_size=32, num_workers=0, collate_fn=collate_fn_remove_none)\n",
    "\n",
    "# 2. Cấu hình mô hình EfficientNet-B0\n",
    "model_configs = {\n",
    "    \"EfficientNet-B0\": {\n",
    "        \"model_class\": EfficientNet_AudioClassifier,\n",
    "        \"args\": {\n",
    "            \"num_classes\": num_classes,\n",
    "            \"input_channels\": 1,\n",
    "            \"pretrained\": True  # Sử dụng pretrained weights từ ImageNet\n",
    "        }\n",
    "    }\n",
    "}"
   ]
  },
  {
   "cell_type": "code",
   "execution_count": 12,
   "id": "93a42153-72fe-4ac8-80fb-a8922df31598",
   "metadata": {},
   "outputs": [
    {
     "name": "stdout",
     "output_type": "stream",
     "text": [
      "\n",
      "==================== Evaluating: EfficientNet-B0 ====================\n",
      "--- Training with 100.0% of labeled data ---\n"
     ]
    },
    {
     "name": "stderr",
     "output_type": "stream",
     "text": [
      "Downloading: \"https://download.pytorch.org/models/efficientnet_b0_rwightman-7f5810bc.pth\" to C:\\Users\\PC/.cache\\torch\\hub\\checkpoints\\efficientnet_b0_rwightman-7f5810bc.pth\n",
      "100%|█████████████████████████████████████████████████████████████████████████████| 20.5M/20.5M [00:01<00:00, 11.9MB/s]\n",
      "C:\\Users\\PC\\anaconda3\\envs\\train_env\\lib\\site-packages\\torch\\optim\\lr_scheduler.py:62: UserWarning: The verbose parameter is deprecated. Please use get_last_lr() to access the learning rate.\n",
      "  warnings.warn(\n"
     ]
    },
    {
     "data": {
      "application/vnd.jupyter.widget-view+json": {
       "model_id": "b2b72f0ee09a457fb25366eb564392e0",
       "version_major": 2,
       "version_minor": 0
      },
      "text/plain": [
       "Epoch 1/100:   0%|          | 0/229 [00:00<?, ?it/s]"
      ]
     },
     "metadata": {},
     "output_type": "display_data"
    },
    {
     "name": "stdout",
     "output_type": "stream",
     "text": [
      "\n",
      "Epoch 1: New best F1-score: 0.8091\n",
      "Accuracy: 0.8142, Precision: 0.8308, Recall: 0.8142\n",
      "Saving checkpoint to C:\\Users\\PC\\lavar\\audiotwin_checkpoints_medium\\training_checkpoints_EfficientNetB0_finetune\\EfficientNet-B0_data_100.0percent.pth\n"
     ]
    },
    {
     "data": {
      "application/vnd.jupyter.widget-view+json": {
       "model_id": "419caf6a8ae54d428b30073471da7500",
       "version_major": 2,
       "version_minor": 0
      },
      "text/plain": [
       "Epoch 2/100:   0%|          | 0/229 [00:00<?, ?it/s]"
      ]
     },
     "metadata": {},
     "output_type": "display_data"
    },
    {
     "name": "stdout",
     "output_type": "stream",
     "text": [
      "\n",
      "Epoch 2: New best F1-score: 0.8696\n",
      "Accuracy: 0.8705, Precision: 0.8717, Recall: 0.8705\n",
      "Saving checkpoint to C:\\Users\\PC\\lavar\\audiotwin_checkpoints_medium\\training_checkpoints_EfficientNetB0_finetune\\EfficientNet-B0_data_100.0percent.pth\n"
     ]
    },
    {
     "data": {
      "application/vnd.jupyter.widget-view+json": {
       "model_id": "8543f2f293704437960b8c3b7e3a728e",
       "version_major": 2,
       "version_minor": 0
      },
      "text/plain": [
       "Epoch 3/100:   0%|          | 0/229 [00:00<?, ?it/s]"
      ]
     },
     "metadata": {},
     "output_type": "display_data"
    },
    {
     "name": "stdout",
     "output_type": "stream",
     "text": [
      "\n",
      "Epoch 3: New best F1-score: 0.8738\n",
      "Accuracy: 0.8754, Precision: 0.8830, Recall: 0.8754\n",
      "Saving checkpoint to C:\\Users\\PC\\lavar\\audiotwin_checkpoints_medium\\training_checkpoints_EfficientNetB0_finetune\\EfficientNet-B0_data_100.0percent.pth\n"
     ]
    },
    {
     "data": {
      "application/vnd.jupyter.widget-view+json": {
       "model_id": "eda3b4532b2542709fe1b5126438e761",
       "version_major": 2,
       "version_minor": 0
      },
      "text/plain": [
       "Epoch 4/100:   0%|          | 0/229 [00:00<?, ?it/s]"
      ]
     },
     "metadata": {},
     "output_type": "display_data"
    },
    {
     "data": {
      "application/vnd.jupyter.widget-view+json": {
       "model_id": "2b4aab0c2ed34b00bcd55e17a14acb00",
       "version_major": 2,
       "version_minor": 0
      },
      "text/plain": [
       "Epoch 5/100:   0%|          | 0/229 [00:00<?, ?it/s]"
      ]
     },
     "metadata": {},
     "output_type": "display_data"
    },
    {
     "name": "stdout",
     "output_type": "stream",
     "text": [
      "\n",
      "Epoch 5: New best F1-score: 0.9031\n",
      "Accuracy: 0.9033, Precision: 0.9032, Recall: 0.9033\n",
      "Saving checkpoint to C:\\Users\\PC\\lavar\\audiotwin_checkpoints_medium\\training_checkpoints_EfficientNetB0_finetune\\EfficientNet-B0_data_100.0percent.pth\n"
     ]
    },
    {
     "data": {
      "application/vnd.jupyter.widget-view+json": {
       "model_id": "a1025b3de2bf4a26a4e232b21a669123",
       "version_major": 2,
       "version_minor": 0
      },
      "text/plain": [
       "Epoch 6/100:   0%|          | 0/229 [00:00<?, ?it/s]"
      ]
     },
     "metadata": {},
     "output_type": "display_data"
    },
    {
     "name": "stdout",
     "output_type": "stream",
     "text": [
      "\n",
      "Epoch 6: New best F1-score: 0.9099\n",
      "Accuracy: 0.9087, Precision: 0.9121, Recall: 0.9087\n",
      "Saving checkpoint to C:\\Users\\PC\\lavar\\audiotwin_checkpoints_medium\\training_checkpoints_EfficientNetB0_finetune\\EfficientNet-B0_data_100.0percent.pth\n"
     ]
    },
    {
     "data": {
      "application/vnd.jupyter.widget-view+json": {
       "model_id": "e49261731b604e669cdf15e797f77769",
       "version_major": 2,
       "version_minor": 0
      },
      "text/plain": [
       "Epoch 7/100:   0%|          | 0/229 [00:00<?, ?it/s]"
      ]
     },
     "metadata": {},
     "output_type": "display_data"
    },
    {
     "name": "stdout",
     "output_type": "stream",
     "text": [
      "\n",
      "Epoch 7: New best F1-score: 0.9179\n",
      "Accuracy: 0.9158, Precision: 0.9240, Recall: 0.9158\n",
      "Saving checkpoint to C:\\Users\\PC\\lavar\\audiotwin_checkpoints_medium\\training_checkpoints_EfficientNetB0_finetune\\EfficientNet-B0_data_100.0percent.pth\n"
     ]
    },
    {
     "data": {
      "application/vnd.jupyter.widget-view+json": {
       "model_id": "d47a46fe273f46198ad928c8a3394ff2",
       "version_major": 2,
       "version_minor": 0
      },
      "text/plain": [
       "Epoch 8/100:   0%|          | 0/229 [00:00<?, ?it/s]"
      ]
     },
     "metadata": {},
     "output_type": "display_data"
    },
    {
     "data": {
      "application/vnd.jupyter.widget-view+json": {
       "model_id": "e8d1d5d2d14948eca77c5ed3572f66b2",
       "version_major": 2,
       "version_minor": 0
      },
      "text/plain": [
       "Epoch 9/100:   0%|          | 0/229 [00:00<?, ?it/s]"
      ]
     },
     "metadata": {},
     "output_type": "display_data"
    },
    {
     "name": "stdout",
     "output_type": "stream",
     "text": [
      "\n",
      "Epoch 9: New best F1-score: 0.9203\n",
      "Accuracy: 0.9208, Precision: 0.9220, Recall: 0.9208\n",
      "Saving checkpoint to C:\\Users\\PC\\lavar\\audiotwin_checkpoints_medium\\training_checkpoints_EfficientNetB0_finetune\\EfficientNet-B0_data_100.0percent.pth\n"
     ]
    },
    {
     "data": {
      "application/vnd.jupyter.widget-view+json": {
       "model_id": "a24874e5f0204a609d5fc517c5710b99",
       "version_major": 2,
       "version_minor": 0
      },
      "text/plain": [
       "Epoch 10/100:   0%|          | 0/229 [00:00<?, ?it/s]"
      ]
     },
     "metadata": {},
     "output_type": "display_data"
    },
    {
     "name": "stdout",
     "output_type": "stream",
     "text": [
      "\n",
      "Epoch 10: New best F1-score: 0.9251\n",
      "Accuracy: 0.9246, Precision: 0.9270, Recall: 0.9246\n",
      "Saving checkpoint to C:\\Users\\PC\\lavar\\audiotwin_checkpoints_medium\\training_checkpoints_EfficientNetB0_finetune\\EfficientNet-B0_data_100.0percent.pth\n"
     ]
    },
    {
     "data": {
      "application/vnd.jupyter.widget-view+json": {
       "model_id": "a741b24082ae47b4b3f094490eb5f4fb",
       "version_major": 2,
       "version_minor": 0
      },
      "text/plain": [
       "Epoch 11/100:   0%|          | 0/229 [00:00<?, ?it/s]"
      ]
     },
     "metadata": {},
     "output_type": "display_data"
    },
    {
     "name": "stdout",
     "output_type": "stream",
     "text": [
      "\n",
      "Epoch 11: New best F1-score: 0.9325\n",
      "Accuracy: 0.9328, Precision: 0.9346, Recall: 0.9328\n",
      "Saving checkpoint to C:\\Users\\PC\\lavar\\audiotwin_checkpoints_medium\\training_checkpoints_EfficientNetB0_finetune\\EfficientNet-B0_data_100.0percent.pth\n"
     ]
    },
    {
     "data": {
      "application/vnd.jupyter.widget-view+json": {
       "model_id": "1d49cd1de1044fb287cddd6281f504e7",
       "version_major": 2,
       "version_minor": 0
      },
      "text/plain": [
       "Epoch 12/100:   0%|          | 0/229 [00:00<?, ?it/s]"
      ]
     },
     "metadata": {},
     "output_type": "display_data"
    },
    {
     "data": {
      "application/vnd.jupyter.widget-view+json": {
       "model_id": "5e4a2564f4d34570bc99c994cd97a8dc",
       "version_major": 2,
       "version_minor": 0
      },
      "text/plain": [
       "Epoch 13/100:   0%|          | 0/229 [00:00<?, ?it/s]"
      ]
     },
     "metadata": {},
     "output_type": "display_data"
    },
    {
     "data": {
      "application/vnd.jupyter.widget-view+json": {
       "model_id": "7ccede91aea44d3ca3d906e148df6dd1",
       "version_major": 2,
       "version_minor": 0
      },
      "text/plain": [
       "Epoch 14/100:   0%|          | 0/229 [00:00<?, ?it/s]"
      ]
     },
     "metadata": {},
     "output_type": "display_data"
    },
    {
     "data": {
      "application/vnd.jupyter.widget-view+json": {
       "model_id": "3dbc533c8e8241e4b27fdccbfebfea16",
       "version_major": 2,
       "version_minor": 0
      },
      "text/plain": [
       "Epoch 15/100:   0%|          | 0/229 [00:00<?, ?it/s]"
      ]
     },
     "metadata": {},
     "output_type": "display_data"
    },
    {
     "data": {
      "application/vnd.jupyter.widget-view+json": {
       "model_id": "b7ccb0386fc84f18a5962ce1254e4818",
       "version_major": 2,
       "version_minor": 0
      },
      "text/plain": [
       "Epoch 16/100:   0%|          | 0/229 [00:00<?, ?it/s]"
      ]
     },
     "metadata": {},
     "output_type": "display_data"
    },
    {
     "name": "stdout",
     "output_type": "stream",
     "text": [
      "\n",
      "Epoch 16: New best F1-score: 0.9458\n",
      "Accuracy: 0.9459, Precision: 0.9492, Recall: 0.9459\n",
      "Saving checkpoint to C:\\Users\\PC\\lavar\\audiotwin_checkpoints_medium\\training_checkpoints_EfficientNetB0_finetune\\EfficientNet-B0_data_100.0percent.pth\n"
     ]
    },
    {
     "data": {
      "application/vnd.jupyter.widget-view+json": {
       "model_id": "f1b9d569a91e408c8aedb8000e2f77f7",
       "version_major": 2,
       "version_minor": 0
      },
      "text/plain": [
       "Epoch 17/100:   0%|          | 0/229 [00:00<?, ?it/s]"
      ]
     },
     "metadata": {},
     "output_type": "display_data"
    },
    {
     "name": "stdout",
     "output_type": "stream",
     "text": [
      "\n",
      "Epoch 17: New best F1-score: 0.9460\n",
      "Accuracy: 0.9459, Precision: 0.9472, Recall: 0.9459\n",
      "Saving checkpoint to C:\\Users\\PC\\lavar\\audiotwin_checkpoints_medium\\training_checkpoints_EfficientNetB0_finetune\\EfficientNet-B0_data_100.0percent.pth\n"
     ]
    },
    {
     "data": {
      "application/vnd.jupyter.widget-view+json": {
       "model_id": "870da519ca1a4d27807f70c1b330eac2",
       "version_major": 2,
       "version_minor": 0
      },
      "text/plain": [
       "Epoch 18/100:   0%|          | 0/229 [00:00<?, ?it/s]"
      ]
     },
     "metadata": {},
     "output_type": "display_data"
    },
    {
     "data": {
      "application/vnd.jupyter.widget-view+json": {
       "model_id": "1aef2430bc7641029a0f936b4a334777",
       "version_major": 2,
       "version_minor": 0
      },
      "text/plain": [
       "Epoch 19/100:   0%|          | 0/229 [00:00<?, ?it/s]"
      ]
     },
     "metadata": {},
     "output_type": "display_data"
    },
    {
     "data": {
      "application/vnd.jupyter.widget-view+json": {
       "model_id": "978ef1df25f44ac397c110f81b542e6f",
       "version_major": 2,
       "version_minor": 0
      },
      "text/plain": [
       "Epoch 20/100:   0%|          | 0/229 [00:00<?, ?it/s]"
      ]
     },
     "metadata": {},
     "output_type": "display_data"
    },
    {
     "data": {
      "application/vnd.jupyter.widget-view+json": {
       "model_id": "279c02cb1712413d8df920fbcc5893fb",
       "version_major": 2,
       "version_minor": 0
      },
      "text/plain": [
       "Epoch 21/100:   0%|          | 0/229 [00:00<?, ?it/s]"
      ]
     },
     "metadata": {},
     "output_type": "display_data"
    },
    {
     "data": {
      "application/vnd.jupyter.widget-view+json": {
       "model_id": "8d2f98b791024c2d8d94a241cb874112",
       "version_major": 2,
       "version_minor": 0
      },
      "text/plain": [
       "Epoch 22/100:   0%|          | 0/229 [00:00<?, ?it/s]"
      ]
     },
     "metadata": {},
     "output_type": "display_data"
    },
    {
     "data": {
      "application/vnd.jupyter.widget-view+json": {
       "model_id": "42d9a21e1578463d99614b869956f93e",
       "version_major": 2,
       "version_minor": 0
      },
      "text/plain": [
       "Epoch 23/100:   0%|          | 0/229 [00:00<?, ?it/s]"
      ]
     },
     "metadata": {},
     "output_type": "display_data"
    },
    {
     "data": {
      "application/vnd.jupyter.widget-view+json": {
       "model_id": "6018ce2dbe1449f3a89d7a3947e01507",
       "version_major": 2,
       "version_minor": 0
      },
      "text/plain": [
       "Epoch 24/100:   0%|          | 0/229 [00:00<?, ?it/s]"
      ]
     },
     "metadata": {},
     "output_type": "display_data"
    },
    {
     "name": "stdout",
     "output_type": "stream",
     "text": [
      "\n",
      "Epoch 24: New best F1-score: 0.9534\n",
      "Accuracy: 0.9536, Precision: 0.9535, Recall: 0.9536\n",
      "Saving checkpoint to C:\\Users\\PC\\lavar\\audiotwin_checkpoints_medium\\training_checkpoints_EfficientNetB0_finetune\\EfficientNet-B0_data_100.0percent.pth\n"
     ]
    },
    {
     "data": {
      "application/vnd.jupyter.widget-view+json": {
       "model_id": "b6c1f61df5e74854bbeec498c4192fae",
       "version_major": 2,
       "version_minor": 0
      },
      "text/plain": [
       "Epoch 25/100:   0%|          | 0/229 [00:00<?, ?it/s]"
      ]
     },
     "metadata": {},
     "output_type": "display_data"
    },
    {
     "data": {
      "application/vnd.jupyter.widget-view+json": {
       "model_id": "d5bba2578d7b473fb138772bb2d7c505",
       "version_major": 2,
       "version_minor": 0
      },
      "text/plain": [
       "Epoch 26/100:   0%|          | 0/229 [00:00<?, ?it/s]"
      ]
     },
     "metadata": {},
     "output_type": "display_data"
    },
    {
     "name": "stdout",
     "output_type": "stream",
     "text": [
      "\n",
      "Epoch 26: New best F1-score: 0.9552\n",
      "Accuracy: 0.9552, Precision: 0.9554, Recall: 0.9552\n",
      "Saving checkpoint to C:\\Users\\PC\\lavar\\audiotwin_checkpoints_medium\\training_checkpoints_EfficientNetB0_finetune\\EfficientNet-B0_data_100.0percent.pth\n"
     ]
    },
    {
     "data": {
      "application/vnd.jupyter.widget-view+json": {
       "model_id": "6a11a2c8915e4eff8ed6eb2d275d52a1",
       "version_major": 2,
       "version_minor": 0
      },
      "text/plain": [
       "Epoch 27/100:   0%|          | 0/229 [00:00<?, ?it/s]"
      ]
     },
     "metadata": {},
     "output_type": "display_data"
    },
    {
     "data": {
      "application/vnd.jupyter.widget-view+json": {
       "model_id": "5b4efd55fbc447ef8508ec0decb6d3ab",
       "version_major": 2,
       "version_minor": 0
      },
      "text/plain": [
       "Epoch 28/100:   0%|          | 0/229 [00:00<?, ?it/s]"
      ]
     },
     "metadata": {},
     "output_type": "display_data"
    },
    {
     "name": "stdout",
     "output_type": "stream",
     "text": [
      "\n",
      "Epoch 28: New best F1-score: 0.9579\n",
      "Accuracy: 0.9579, Precision: 0.9581, Recall: 0.9579\n",
      "Saving checkpoint to C:\\Users\\PC\\lavar\\audiotwin_checkpoints_medium\\training_checkpoints_EfficientNetB0_finetune\\EfficientNet-B0_data_100.0percent.pth\n"
     ]
    },
    {
     "data": {
      "application/vnd.jupyter.widget-view+json": {
       "model_id": "102cdcf8211c4e0d9f55263496c2c355",
       "version_major": 2,
       "version_minor": 0
      },
      "text/plain": [
       "Epoch 29/100:   0%|          | 0/229 [00:00<?, ?it/s]"
      ]
     },
     "metadata": {},
     "output_type": "display_data"
    },
    {
     "data": {
      "application/vnd.jupyter.widget-view+json": {
       "model_id": "5a76c849d2694b138ff5d08751cfb9c7",
       "version_major": 2,
       "version_minor": 0
      },
      "text/plain": [
       "Epoch 30/100:   0%|          | 0/229 [00:00<?, ?it/s]"
      ]
     },
     "metadata": {},
     "output_type": "display_data"
    },
    {
     "data": {
      "application/vnd.jupyter.widget-view+json": {
       "model_id": "ac3d66db3a6b49d6a10b6d47f468218a",
       "version_major": 2,
       "version_minor": 0
      },
      "text/plain": [
       "Epoch 31/100:   0%|          | 0/229 [00:00<?, ?it/s]"
      ]
     },
     "metadata": {},
     "output_type": "display_data"
    },
    {
     "data": {
      "application/vnd.jupyter.widget-view+json": {
       "model_id": "5f08ba53cdc949afb7fa1a0785ccd2d1",
       "version_major": 2,
       "version_minor": 0
      },
      "text/plain": [
       "Epoch 32/100:   0%|          | 0/229 [00:00<?, ?it/s]"
      ]
     },
     "metadata": {},
     "output_type": "display_data"
    },
    {
     "data": {
      "application/vnd.jupyter.widget-view+json": {
       "model_id": "ee37951291b54049b6a8ff7b355edf84",
       "version_major": 2,
       "version_minor": 0
      },
      "text/plain": [
       "Epoch 33/100:   0%|          | 0/229 [00:00<?, ?it/s]"
      ]
     },
     "metadata": {},
     "output_type": "display_data"
    },
    {
     "data": {
      "application/vnd.jupyter.widget-view+json": {
       "model_id": "3af81181fd284681ba223a94d353e31f",
       "version_major": 2,
       "version_minor": 0
      },
      "text/plain": [
       "Epoch 34/100:   0%|          | 0/229 [00:00<?, ?it/s]"
      ]
     },
     "metadata": {},
     "output_type": "display_data"
    },
    {
     "data": {
      "application/vnd.jupyter.widget-view+json": {
       "model_id": "c24e9b88d11047f28cb2a799651e5f0e",
       "version_major": 2,
       "version_minor": 0
      },
      "text/plain": [
       "Epoch 35/100:   0%|          | 0/229 [00:00<?, ?it/s]"
      ]
     },
     "metadata": {},
     "output_type": "display_data"
    },
    {
     "data": {
      "application/vnd.jupyter.widget-view+json": {
       "model_id": "589b8824a4df4a359a5b8192a12c50da",
       "version_major": 2,
       "version_minor": 0
      },
      "text/plain": [
       "Epoch 36/100:   0%|          | 0/229 [00:00<?, ?it/s]"
      ]
     },
     "metadata": {},
     "output_type": "display_data"
    },
    {
     "name": "stdout",
     "output_type": "stream",
     "text": [
      "\n",
      "Epoch 36: New best F1-score: 0.9586\n",
      "Accuracy: 0.9585, Precision: 0.9602, Recall: 0.9585\n",
      "Saving checkpoint to C:\\Users\\PC\\lavar\\audiotwin_checkpoints_medium\\training_checkpoints_EfficientNetB0_finetune\\EfficientNet-B0_data_100.0percent.pth\n"
     ]
    },
    {
     "data": {
      "application/vnd.jupyter.widget-view+json": {
       "model_id": "47a5641be43c4c78b34362aa1ee07dbe",
       "version_major": 2,
       "version_minor": 0
      },
      "text/plain": [
       "Epoch 37/100:   0%|          | 0/229 [00:00<?, ?it/s]"
      ]
     },
     "metadata": {},
     "output_type": "display_data"
    },
    {
     "name": "stdout",
     "output_type": "stream",
     "text": [
      "\n",
      "Epoch 37: New best F1-score: 0.9619\n",
      "Accuracy: 0.9617, Precision: 0.9623, Recall: 0.9617\n",
      "Saving checkpoint to C:\\Users\\PC\\lavar\\audiotwin_checkpoints_medium\\training_checkpoints_EfficientNetB0_finetune\\EfficientNet-B0_data_100.0percent.pth\n"
     ]
    },
    {
     "data": {
      "application/vnd.jupyter.widget-view+json": {
       "model_id": "264e8532a21c4e3094c89a4725fecf19",
       "version_major": 2,
       "version_minor": 0
      },
      "text/plain": [
       "Epoch 38/100:   0%|          | 0/229 [00:00<?, ?it/s]"
      ]
     },
     "metadata": {},
     "output_type": "display_data"
    },
    {
     "data": {
      "application/vnd.jupyter.widget-view+json": {
       "model_id": "98dccfda2cf046d29fd8655fe5d2bfda",
       "version_major": 2,
       "version_minor": 0
      },
      "text/plain": [
       "Epoch 39/100:   0%|          | 0/229 [00:00<?, ?it/s]"
      ]
     },
     "metadata": {},
     "output_type": "display_data"
    },
    {
     "data": {
      "application/vnd.jupyter.widget-view+json": {
       "model_id": "8c119ae88a6f4b749bb0dae0a4d69c5f",
       "version_major": 2,
       "version_minor": 0
      },
      "text/plain": [
       "Epoch 40/100:   0%|          | 0/229 [00:00<?, ?it/s]"
      ]
     },
     "metadata": {},
     "output_type": "display_data"
    },
    {
     "name": "stdout",
     "output_type": "stream",
     "text": [
      "\n",
      "Epoch 40: New best F1-score: 0.9639\n",
      "Accuracy: 0.9639, Precision: 0.9641, Recall: 0.9639\n",
      "Saving checkpoint to C:\\Users\\PC\\lavar\\audiotwin_checkpoints_medium\\training_checkpoints_EfficientNetB0_finetune\\EfficientNet-B0_data_100.0percent.pth\n"
     ]
    },
    {
     "data": {
      "application/vnd.jupyter.widget-view+json": {
       "model_id": "b1b84448dc954a39b769a1a8f96715e5",
       "version_major": 2,
       "version_minor": 0
      },
      "text/plain": [
       "Epoch 41/100:   0%|          | 0/229 [00:00<?, ?it/s]"
      ]
     },
     "metadata": {},
     "output_type": "display_data"
    },
    {
     "data": {
      "application/vnd.jupyter.widget-view+json": {
       "model_id": "ce101d1c6f0c49a8825291e40be86815",
       "version_major": 2,
       "version_minor": 0
      },
      "text/plain": [
       "Epoch 42/100:   0%|          | 0/229 [00:00<?, ?it/s]"
      ]
     },
     "metadata": {},
     "output_type": "display_data"
    },
    {
     "data": {
      "application/vnd.jupyter.widget-view+json": {
       "model_id": "b606128c25e04a34bdfb9e9ab462577a",
       "version_major": 2,
       "version_minor": 0
      },
      "text/plain": [
       "Epoch 43/100:   0%|          | 0/229 [00:00<?, ?it/s]"
      ]
     },
     "metadata": {},
     "output_type": "display_data"
    },
    {
     "data": {
      "application/vnd.jupyter.widget-view+json": {
       "model_id": "6c6a281c135347ffa3a4071f9710926a",
       "version_major": 2,
       "version_minor": 0
      },
      "text/plain": [
       "Epoch 44/100:   0%|          | 0/229 [00:00<?, ?it/s]"
      ]
     },
     "metadata": {},
     "output_type": "display_data"
    },
    {
     "data": {
      "application/vnd.jupyter.widget-view+json": {
       "model_id": "7c1d711dcb3a4de0a6b6177e166fe2df",
       "version_major": 2,
       "version_minor": 0
      },
      "text/plain": [
       "Epoch 45/100:   0%|          | 0/229 [00:00<?, ?it/s]"
      ]
     },
     "metadata": {},
     "output_type": "display_data"
    },
    {
     "data": {
      "application/vnd.jupyter.widget-view+json": {
       "model_id": "5f72b35e48f14393822ba51980f15ff5",
       "version_major": 2,
       "version_minor": 0
      },
      "text/plain": [
       "Epoch 46/100:   0%|          | 0/229 [00:00<?, ?it/s]"
      ]
     },
     "metadata": {},
     "output_type": "display_data"
    },
    {
     "data": {
      "application/vnd.jupyter.widget-view+json": {
       "model_id": "9e7bf80086754fd4bb7ccf5514e03126",
       "version_major": 2,
       "version_minor": 0
      },
      "text/plain": [
       "Epoch 47/100:   0%|          | 0/229 [00:00<?, ?it/s]"
      ]
     },
     "metadata": {},
     "output_type": "display_data"
    },
    {
     "name": "stdout",
     "output_type": "stream",
     "text": [
      "\n",
      "Epoch 47: New best F1-score: 0.9651\n",
      "Accuracy: 0.9650, Precision: 0.9654, Recall: 0.9650\n",
      "Saving checkpoint to C:\\Users\\PC\\lavar\\audiotwin_checkpoints_medium\\training_checkpoints_EfficientNetB0_finetune\\EfficientNet-B0_data_100.0percent.pth\n"
     ]
    },
    {
     "data": {
      "application/vnd.jupyter.widget-view+json": {
       "model_id": "4a33aca8dd044aa9acdf75fffe37573b",
       "version_major": 2,
       "version_minor": 0
      },
      "text/plain": [
       "Epoch 48/100:   0%|          | 0/229 [00:00<?, ?it/s]"
      ]
     },
     "metadata": {},
     "output_type": "display_data"
    },
    {
     "name": "stdout",
     "output_type": "stream",
     "text": [
      "\n",
      "Epoch 48: New best F1-score: 0.9668\n",
      "Accuracy: 0.9667, Precision: 0.9671, Recall: 0.9667\n",
      "Saving checkpoint to C:\\Users\\PC\\lavar\\audiotwin_checkpoints_medium\\training_checkpoints_EfficientNetB0_finetune\\EfficientNet-B0_data_100.0percent.pth\n"
     ]
    },
    {
     "data": {
      "application/vnd.jupyter.widget-view+json": {
       "model_id": "e6e5078184a046d580d7e02c27208f24",
       "version_major": 2,
       "version_minor": 0
      },
      "text/plain": [
       "Epoch 49/100:   0%|          | 0/229 [00:00<?, ?it/s]"
      ]
     },
     "metadata": {},
     "output_type": "display_data"
    },
    {
     "data": {
      "application/vnd.jupyter.widget-view+json": {
       "model_id": "a16b45a491cc47988e2183af18456dc7",
       "version_major": 2,
       "version_minor": 0
      },
      "text/plain": [
       "Epoch 50/100:   0%|          | 0/229 [00:00<?, ?it/s]"
      ]
     },
     "metadata": {},
     "output_type": "display_data"
    },
    {
     "data": {
      "application/vnd.jupyter.widget-view+json": {
       "model_id": "28b4f1cb6f9c432bb28b506f7b4538cd",
       "version_major": 2,
       "version_minor": 0
      },
      "text/plain": [
       "Epoch 51/100:   0%|          | 0/229 [00:00<?, ?it/s]"
      ]
     },
     "metadata": {},
     "output_type": "display_data"
    },
    {
     "data": {
      "application/vnd.jupyter.widget-view+json": {
       "model_id": "cbca41b559e74c3bbb49fc921cfa6d48",
       "version_major": 2,
       "version_minor": 0
      },
      "text/plain": [
       "Epoch 52/100:   0%|          | 0/229 [00:00<?, ?it/s]"
      ]
     },
     "metadata": {},
     "output_type": "display_data"
    },
    {
     "data": {
      "application/vnd.jupyter.widget-view+json": {
       "model_id": "7c28c555c63341f6baf4fb3d37921a3a",
       "version_major": 2,
       "version_minor": 0
      },
      "text/plain": [
       "Epoch 53/100:   0%|          | 0/229 [00:00<?, ?it/s]"
      ]
     },
     "metadata": {},
     "output_type": "display_data"
    },
    {
     "data": {
      "application/vnd.jupyter.widget-view+json": {
       "model_id": "6d78fc174cf6497bb1c63b406b078a31",
       "version_major": 2,
       "version_minor": 0
      },
      "text/plain": [
       "Epoch 54/100:   0%|          | 0/229 [00:00<?, ?it/s]"
      ]
     },
     "metadata": {},
     "output_type": "display_data"
    },
    {
     "data": {
      "application/vnd.jupyter.widget-view+json": {
       "model_id": "e4d988098acb42589c44f545cff7afe2",
       "version_major": 2,
       "version_minor": 0
      },
      "text/plain": [
       "Epoch 55/100:   0%|          | 0/229 [00:00<?, ?it/s]"
      ]
     },
     "metadata": {},
     "output_type": "display_data"
    },
    {
     "data": {
      "application/vnd.jupyter.widget-view+json": {
       "model_id": "489364a8734345ed81233216fd717bf0",
       "version_major": 2,
       "version_minor": 0
      },
      "text/plain": [
       "Epoch 56/100:   0%|          | 0/229 [00:00<?, ?it/s]"
      ]
     },
     "metadata": {},
     "output_type": "display_data"
    },
    {
     "data": {
      "application/vnd.jupyter.widget-view+json": {
       "model_id": "7c7635d6bc3b44dea675b27e5b1c0aab",
       "version_major": 2,
       "version_minor": 0
      },
      "text/plain": [
       "Epoch 57/100:   0%|          | 0/229 [00:00<?, ?it/s]"
      ]
     },
     "metadata": {},
     "output_type": "display_data"
    },
    {
     "name": "stdout",
     "output_type": "stream",
     "text": [
      "\n",
      "Epoch 57: New best F1-score: 0.9673\n",
      "Accuracy: 0.9672, Precision: 0.9677, Recall: 0.9672\n",
      "Saving checkpoint to C:\\Users\\PC\\lavar\\audiotwin_checkpoints_medium\\training_checkpoints_EfficientNetB0_finetune\\EfficientNet-B0_data_100.0percent.pth\n"
     ]
    },
    {
     "data": {
      "application/vnd.jupyter.widget-view+json": {
       "model_id": "2479b42e2d9745b88c22a246b66431fb",
       "version_major": 2,
       "version_minor": 0
      },
      "text/plain": [
       "Epoch 58/100:   0%|          | 0/229 [00:00<?, ?it/s]"
      ]
     },
     "metadata": {},
     "output_type": "display_data"
    },
    {
     "name": "stdout",
     "output_type": "stream",
     "text": [
      "\n",
      "Epoch 58: New best F1-score: 0.9694\n",
      "Accuracy: 0.9694, Precision: 0.9697, Recall: 0.9694\n",
      "Saving checkpoint to C:\\Users\\PC\\lavar\\audiotwin_checkpoints_medium\\training_checkpoints_EfficientNetB0_finetune\\EfficientNet-B0_data_100.0percent.pth\n"
     ]
    },
    {
     "data": {
      "application/vnd.jupyter.widget-view+json": {
       "model_id": "e6501250149d4e9e82e5b33ffa144e53",
       "version_major": 2,
       "version_minor": 0
      },
      "text/plain": [
       "Epoch 59/100:   0%|          | 0/229 [00:00<?, ?it/s]"
      ]
     },
     "metadata": {},
     "output_type": "display_data"
    },
    {
     "data": {
      "application/vnd.jupyter.widget-view+json": {
       "model_id": "f08efb49f9084f8ca384726eadc2c29b",
       "version_major": 2,
       "version_minor": 0
      },
      "text/plain": [
       "Epoch 60/100:   0%|          | 0/229 [00:00<?, ?it/s]"
      ]
     },
     "metadata": {},
     "output_type": "display_data"
    },
    {
     "data": {
      "application/vnd.jupyter.widget-view+json": {
       "model_id": "c96eadbdb7f14a2dacf09a560d6b3780",
       "version_major": 2,
       "version_minor": 0
      },
      "text/plain": [
       "Epoch 61/100:   0%|          | 0/229 [00:00<?, ?it/s]"
      ]
     },
     "metadata": {},
     "output_type": "display_data"
    },
    {
     "data": {
      "application/vnd.jupyter.widget-view+json": {
       "model_id": "0aa5e9c398ec468d8fd066ee756a37fe",
       "version_major": 2,
       "version_minor": 0
      },
      "text/plain": [
       "Epoch 62/100:   0%|          | 0/229 [00:00<?, ?it/s]"
      ]
     },
     "metadata": {},
     "output_type": "display_data"
    },
    {
     "data": {
      "application/vnd.jupyter.widget-view+json": {
       "model_id": "fa9bf70525c64139977a9c39a4882fab",
       "version_major": 2,
       "version_minor": 0
      },
      "text/plain": [
       "Epoch 63/100:   0%|          | 0/229 [00:00<?, ?it/s]"
      ]
     },
     "metadata": {},
     "output_type": "display_data"
    },
    {
     "data": {
      "application/vnd.jupyter.widget-view+json": {
       "model_id": "f927838d2f9f4350b44b523340074734",
       "version_major": 2,
       "version_minor": 0
      },
      "text/plain": [
       "Epoch 64/100:   0%|          | 0/229 [00:00<?, ?it/s]"
      ]
     },
     "metadata": {},
     "output_type": "display_data"
    },
    {
     "data": {
      "application/vnd.jupyter.widget-view+json": {
       "model_id": "28ce9f89af354ef0875f6733f2d40dfd",
       "version_major": 2,
       "version_minor": 0
      },
      "text/plain": [
       "Epoch 65/100:   0%|          | 0/229 [00:00<?, ?it/s]"
      ]
     },
     "metadata": {},
     "output_type": "display_data"
    },
    {
     "data": {
      "application/vnd.jupyter.widget-view+json": {
       "model_id": "3b11d9cfde194fbdbcbbecbf57a55db8",
       "version_major": 2,
       "version_minor": 0
      },
      "text/plain": [
       "Epoch 66/100:   0%|          | 0/229 [00:00<?, ?it/s]"
      ]
     },
     "metadata": {},
     "output_type": "display_data"
    },
    {
     "data": {
      "application/vnd.jupyter.widget-view+json": {
       "model_id": "4b44ae1295c24089bfbc945227d1c161",
       "version_major": 2,
       "version_minor": 0
      },
      "text/plain": [
       "Epoch 67/100:   0%|          | 0/229 [00:00<?, ?it/s]"
      ]
     },
     "metadata": {},
     "output_type": "display_data"
    },
    {
     "data": {
      "application/vnd.jupyter.widget-view+json": {
       "model_id": "7befe0f8e3414c09bc924360b979ba78",
       "version_major": 2,
       "version_minor": 0
      },
      "text/plain": [
       "Epoch 68/100:   0%|          | 0/229 [00:00<?, ?it/s]"
      ]
     },
     "metadata": {},
     "output_type": "display_data"
    },
    {
     "data": {
      "application/vnd.jupyter.widget-view+json": {
       "model_id": "663357683b8e475497062ffb39d767f7",
       "version_major": 2,
       "version_minor": 0
      },
      "text/plain": [
       "Epoch 69/100:   0%|          | 0/229 [00:00<?, ?it/s]"
      ]
     },
     "metadata": {},
     "output_type": "display_data"
    },
    {
     "data": {
      "application/vnd.jupyter.widget-view+json": {
       "model_id": "f1046249d6844b8f8a10f5d1522ceaee",
       "version_major": 2,
       "version_minor": 0
      },
      "text/plain": [
       "Epoch 70/100:   0%|          | 0/229 [00:00<?, ?it/s]"
      ]
     },
     "metadata": {},
     "output_type": "display_data"
    },
    {
     "data": {
      "application/vnd.jupyter.widget-view+json": {
       "model_id": "b4ba948af63b46c584c5fa140d76edf7",
       "version_major": 2,
       "version_minor": 0
      },
      "text/plain": [
       "Epoch 71/100:   0%|          | 0/229 [00:00<?, ?it/s]"
      ]
     },
     "metadata": {},
     "output_type": "display_data"
    },
    {
     "data": {
      "application/vnd.jupyter.widget-view+json": {
       "model_id": "f6c1b8e35daf472c95954fd0a91d3c9f",
       "version_major": 2,
       "version_minor": 0
      },
      "text/plain": [
       "Epoch 72/100:   0%|          | 0/229 [00:00<?, ?it/s]"
      ]
     },
     "metadata": {},
     "output_type": "display_data"
    },
    {
     "data": {
      "application/vnd.jupyter.widget-view+json": {
       "model_id": "cafc529ca0c245ffa2969d5bdef529ae",
       "version_major": 2,
       "version_minor": 0
      },
      "text/plain": [
       "Epoch 73/100:   0%|          | 0/229 [00:00<?, ?it/s]"
      ]
     },
     "metadata": {},
     "output_type": "display_data"
    },
    {
     "data": {
      "application/vnd.jupyter.widget-view+json": {
       "model_id": "eaddbde7ec1549f49c08f4a3ef607903",
       "version_major": 2,
       "version_minor": 0
      },
      "text/plain": [
       "Epoch 74/100:   0%|          | 0/229 [00:00<?, ?it/s]"
      ]
     },
     "metadata": {},
     "output_type": "display_data"
    },
    {
     "name": "stdout",
     "output_type": "stream",
     "text": [
      "\n",
      "Epoch 74: New best F1-score: 0.9700\n",
      "Accuracy: 0.9699, Precision: 0.9702, Recall: 0.9699\n",
      "Saving checkpoint to C:\\Users\\PC\\lavar\\audiotwin_checkpoints_medium\\training_checkpoints_EfficientNetB0_finetune\\EfficientNet-B0_data_100.0percent.pth\n"
     ]
    },
    {
     "data": {
      "application/vnd.jupyter.widget-view+json": {
       "model_id": "f04644dc17c249a2806b0775ff0a061a",
       "version_major": 2,
       "version_minor": 0
      },
      "text/plain": [
       "Epoch 75/100:   0%|          | 0/229 [00:00<?, ?it/s]"
      ]
     },
     "metadata": {},
     "output_type": "display_data"
    },
    {
     "data": {
      "application/vnd.jupyter.widget-view+json": {
       "model_id": "067d6f74b0e84c669cffb9ef6204158d",
       "version_major": 2,
       "version_minor": 0
      },
      "text/plain": [
       "Epoch 76/100:   0%|          | 0/229 [00:00<?, ?it/s]"
      ]
     },
     "metadata": {},
     "output_type": "display_data"
    },
    {
     "data": {
      "application/vnd.jupyter.widget-view+json": {
       "model_id": "36f1065818c44f68a39eb0acb19b037b",
       "version_major": 2,
       "version_minor": 0
      },
      "text/plain": [
       "Epoch 77/100:   0%|          | 0/229 [00:00<?, ?it/s]"
      ]
     },
     "metadata": {},
     "output_type": "display_data"
    },
    {
     "data": {
      "application/vnd.jupyter.widget-view+json": {
       "model_id": "e1ab4ecb9ab1462db833817d5a4ce92f",
       "version_major": 2,
       "version_minor": 0
      },
      "text/plain": [
       "Epoch 78/100:   0%|          | 0/229 [00:00<?, ?it/s]"
      ]
     },
     "metadata": {},
     "output_type": "display_data"
    },
    {
     "data": {
      "application/vnd.jupyter.widget-view+json": {
       "model_id": "2235c23900ee4eb7ad04af326f76e838",
       "version_major": 2,
       "version_minor": 0
      },
      "text/plain": [
       "Epoch 79/100:   0%|          | 0/229 [00:00<?, ?it/s]"
      ]
     },
     "metadata": {},
     "output_type": "display_data"
    },
    {
     "data": {
      "application/vnd.jupyter.widget-view+json": {
       "model_id": "eb3bbb4af5ba4820a5e6f0099e9b70f1",
       "version_major": 2,
       "version_minor": 0
      },
      "text/plain": [
       "Epoch 80/100:   0%|          | 0/229 [00:00<?, ?it/s]"
      ]
     },
     "metadata": {},
     "output_type": "display_data"
    },
    {
     "data": {
      "application/vnd.jupyter.widget-view+json": {
       "model_id": "3f85049c973045689eef0841f82aa0c6",
       "version_major": 2,
       "version_minor": 0
      },
      "text/plain": [
       "Epoch 81/100:   0%|          | 0/229 [00:00<?, ?it/s]"
      ]
     },
     "metadata": {},
     "output_type": "display_data"
    },
    {
     "data": {
      "application/vnd.jupyter.widget-view+json": {
       "model_id": "52eb28f717254b5dbe121b89fd40d50e",
       "version_major": 2,
       "version_minor": 0
      },
      "text/plain": [
       "Epoch 82/100:   0%|          | 0/229 [00:00<?, ?it/s]"
      ]
     },
     "metadata": {},
     "output_type": "display_data"
    },
    {
     "data": {
      "application/vnd.jupyter.widget-view+json": {
       "model_id": "1b95b50a595a4bf89b57f47d55b99a7d",
       "version_major": 2,
       "version_minor": 0
      },
      "text/plain": [
       "Epoch 83/100:   0%|          | 0/229 [00:00<?, ?it/s]"
      ]
     },
     "metadata": {},
     "output_type": "display_data"
    },
    {
     "data": {
      "application/vnd.jupyter.widget-view+json": {
       "model_id": "b4e15e4a21c94a969005e0fa78e6ff21",
       "version_major": 2,
       "version_minor": 0
      },
      "text/plain": [
       "Epoch 84/100:   0%|          | 0/229 [00:00<?, ?it/s]"
      ]
     },
     "metadata": {},
     "output_type": "display_data"
    },
    {
     "data": {
      "application/vnd.jupyter.widget-view+json": {
       "model_id": "cbc33670676643aa90835252e071be12",
       "version_major": 2,
       "version_minor": 0
      },
      "text/plain": [
       "Epoch 85/100:   0%|          | 0/229 [00:00<?, ?it/s]"
      ]
     },
     "metadata": {},
     "output_type": "display_data"
    },
    {
     "data": {
      "application/vnd.jupyter.widget-view+json": {
       "model_id": "0e87f267badb48868022ef7f1112428f",
       "version_major": 2,
       "version_minor": 0
      },
      "text/plain": [
       "Epoch 86/100:   0%|          | 0/229 [00:00<?, ?it/s]"
      ]
     },
     "metadata": {},
     "output_type": "display_data"
    },
    {
     "data": {
      "application/vnd.jupyter.widget-view+json": {
       "model_id": "824db6c2ee9c46e2be6de812ad6bc9b6",
       "version_major": 2,
       "version_minor": 0
      },
      "text/plain": [
       "Epoch 87/100:   0%|          | 0/229 [00:00<?, ?it/s]"
      ]
     },
     "metadata": {},
     "output_type": "display_data"
    },
    {
     "data": {
      "application/vnd.jupyter.widget-view+json": {
       "model_id": "c1cafaf659dd4b1f981f3c9feb16068d",
       "version_major": 2,
       "version_minor": 0
      },
      "text/plain": [
       "Epoch 88/100:   0%|          | 0/229 [00:00<?, ?it/s]"
      ]
     },
     "metadata": {},
     "output_type": "display_data"
    },
    {
     "data": {
      "application/vnd.jupyter.widget-view+json": {
       "model_id": "e3f644e0fa79440d9b9e40cb7b221830",
       "version_major": 2,
       "version_minor": 0
      },
      "text/plain": [
       "Epoch 89/100:   0%|          | 0/229 [00:00<?, ?it/s]"
      ]
     },
     "metadata": {},
     "output_type": "display_data"
    },
    {
     "data": {
      "application/vnd.jupyter.widget-view+json": {
       "model_id": "cff9b66551a04a198b4d6aa589f7d268",
       "version_major": 2,
       "version_minor": 0
      },
      "text/plain": [
       "Epoch 90/100:   0%|          | 0/229 [00:00<?, ?it/s]"
      ]
     },
     "metadata": {},
     "output_type": "display_data"
    },
    {
     "data": {
      "application/vnd.jupyter.widget-view+json": {
       "model_id": "336a3d72236b4090b62c9d8bb307c600",
       "version_major": 2,
       "version_minor": 0
      },
      "text/plain": [
       "Epoch 91/100:   0%|          | 0/229 [00:00<?, ?it/s]"
      ]
     },
     "metadata": {},
     "output_type": "display_data"
    },
    {
     "data": {
      "application/vnd.jupyter.widget-view+json": {
       "model_id": "71205816f96a4f9d860fada3f70c1aa1",
       "version_major": 2,
       "version_minor": 0
      },
      "text/plain": [
       "Epoch 92/100:   0%|          | 0/229 [00:00<?, ?it/s]"
      ]
     },
     "metadata": {},
     "output_type": "display_data"
    },
    {
     "data": {
      "application/vnd.jupyter.widget-view+json": {
       "model_id": "5c849644206e42d89196d38b580ed176",
       "version_major": 2,
       "version_minor": 0
      },
      "text/plain": [
       "Epoch 93/100:   0%|          | 0/229 [00:00<?, ?it/s]"
      ]
     },
     "metadata": {},
     "output_type": "display_data"
    },
    {
     "data": {
      "application/vnd.jupyter.widget-view+json": {
       "model_id": "b2c83ffe1de74a798b4c2414e01a379c",
       "version_major": 2,
       "version_minor": 0
      },
      "text/plain": [
       "Epoch 94/100:   0%|          | 0/229 [00:00<?, ?it/s]"
      ]
     },
     "metadata": {},
     "output_type": "display_data"
    },
    {
     "data": {
      "application/vnd.jupyter.widget-view+json": {
       "model_id": "c902fddbbcc04d4c8723af2b9d409e45",
       "version_major": 2,
       "version_minor": 0
      },
      "text/plain": [
       "Epoch 95/100:   0%|          | 0/229 [00:00<?, ?it/s]"
      ]
     },
     "metadata": {},
     "output_type": "display_data"
    },
    {
     "data": {
      "application/vnd.jupyter.widget-view+json": {
       "model_id": "13a655c4aa9540879dbe213ed83da454",
       "version_major": 2,
       "version_minor": 0
      },
      "text/plain": [
       "Epoch 96/100:   0%|          | 0/229 [00:00<?, ?it/s]"
      ]
     },
     "metadata": {},
     "output_type": "display_data"
    },
    {
     "data": {
      "application/vnd.jupyter.widget-view+json": {
       "model_id": "44591474bb0646a983e33f7acc3a31d6",
       "version_major": 2,
       "version_minor": 0
      },
      "text/plain": [
       "Epoch 97/100:   0%|          | 0/229 [00:00<?, ?it/s]"
      ]
     },
     "metadata": {},
     "output_type": "display_data"
    },
    {
     "data": {
      "application/vnd.jupyter.widget-view+json": {
       "model_id": "1105e45804d74d32ac52a5f59bde1165",
       "version_major": 2,
       "version_minor": 0
      },
      "text/plain": [
       "Epoch 98/100:   0%|          | 0/229 [00:00<?, ?it/s]"
      ]
     },
     "metadata": {},
     "output_type": "display_data"
    },
    {
     "data": {
      "application/vnd.jupyter.widget-view+json": {
       "model_id": "ebef0a92eb5645f6bb366b15e6d26749",
       "version_major": 2,
       "version_minor": 0
      },
      "text/plain": [
       "Epoch 99/100:   0%|          | 0/229 [00:00<?, ?it/s]"
      ]
     },
     "metadata": {},
     "output_type": "display_data"
    },
    {
     "data": {
      "application/vnd.jupyter.widget-view+json": {
       "model_id": "5e2e83d3622a4ad4ba54e4c97cc0701a",
       "version_major": 2,
       "version_minor": 0
      },
      "text/plain": [
       "Epoch 100/100:   0%|          | 0/229 [00:00<?, ?it/s]"
      ]
     },
     "metadata": {},
     "output_type": "display_data"
    },
    {
     "name": "stdout",
     "output_type": "stream",
     "text": [
      "Finished Training for this run. Best F1-score: 0.9700\n",
      "==> Results with 100.0% data: Best F1-Score = 0.9700\n",
      "\n",
      "--- FINAL RESULTS ---\n",
      "\n",
      "Model: EfficientNet-B0\n",
      "  100.0% data: F1-Score = 0.9700\n"
     ]
    }
   ],
   "source": [
    "for model_name, config in model_configs.items():\n",
    "    print(f\"\\n{'='*20} Evaluating: {model_name} {'='*20}\")\n",
    "    model_results = []\n",
    "    for percent in DATA_PERCENTAGES:\n",
    "        print(f\"--- Training with {percent*100:.1f}% of labeled data ---\")\n",
    "\n",
    "        if percent < 1.0:\n",
    "            stratify_labels = full_metadata['label'].iloc[train_indices].values\n",
    "            subset_train_indices, _ = train_test_split(\n",
    "                train_indices, train_size=percent, random_state=SEED, stratify=stratify_labels\n",
    "            )\n",
    "        else:\n",
    "            subset_train_indices = train_indices\n",
    "\n",
    "        train_metadata_subset = full_metadata.iloc[subset_train_indices]\n",
    "        train_dataset = SpectrogramDataset(metadata_df=train_metadata_subset, data_dir=ROOT_DIR, transform=train_transform)\n",
    "        train_loader = DataLoader(train_dataset, batch_size=32, shuffle=True, num_workers=0, collate_fn=collate_fn_remove_none)\n",
    "\n",
    "        checkpoint_filename = f\"{model_name.replace(' ', '_')}_data_{percent*100:.1f}percent.pth\"\n",
    "        checkpoint_path = os.path.join(CHECKPOINT_DIR, checkpoint_filename)\n",
    "        metrics_csv_path = os.path.join(CHECKPOINT_DIR, f\"{model_name.replace(' ', '_')}_data_{percent*100:.1f}percent_metrics.csv\")\n",
    "\n",
    "        model = config[\"model_class\"](**config[\"args\"]).to(device)\n",
    "\n",
    "        f1 = train_and_evaluate(model, train_loader, test_loader, epochs=100, checkpoint_path=checkpoint_path, metrics_csv_path=metrics_csv_path)\n",
    "        model_results.append({'percent': percent, 'f1': f1})\n",
    "        print(f\"==> Results with {percent*100:.1f}% data: Best F1-Score = {f1:.4f}\")\n",
    "\n",
    "    results[model_name] = model_results\n",
    "\n",
    "print(\"\\n--- FINAL RESULTS ---\")\n",
    "for model_name, result_list in results.items():\n",
    "    print(f\"\\nModel: {model_name}\")\n",
    "    for res in result_list:\n",
    "        print(f\"  {res['percent']*100:.1f}% data: F1-Score = {res['f1']:.4f}\")"
   ]
  },
  {
   "cell_type": "code",
   "execution_count": null,
   "id": "4b35f963-2ea4-417b-8bff-ecad60c37384",
   "metadata": {},
   "outputs": [],
   "source": [
    "  "
   ]
  }
 ],
 "metadata": {
  "kernelspec": {
   "display_name": "Python 3 (ipykernel)",
   "language": "python",
   "name": "python3"
  },
  "language_info": {
   "codemirror_mode": {
    "name": "ipython",
    "version": 3
   },
   "file_extension": ".py",
   "mimetype": "text/x-python",
   "name": "python",
   "nbconvert_exporter": "python",
   "pygments_lexer": "ipython3",
   "version": "3.10.16"
  }
 },
 "nbformat": 4,
 "nbformat_minor": 5
}
