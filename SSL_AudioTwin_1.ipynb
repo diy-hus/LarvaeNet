{
 "cells": [
  {
   "cell_type": "code",
   "execution_count": 23,
   "id": "b3977203-3f35-46a6-8090-4a6373487d7a",
   "metadata": {},
   "outputs": [],
   "source": [
    "import os\n",
    "import csv\n",
    "import pandas as pd\n",
    "import numpy as np\n",
    "import torch\n",
    "import torch.nn as nn\n",
    "import torch.nn.functional as F\n",
    "import torchaudio\n",
    "import torchaudio.transforms as T_audio\n",
    "from torch.utils.data import Dataset, DataLoader\n",
    "from transformers import Wav2Vec2Model, logging as hf_logging\n",
    "from torch_audiomentations import Compose, AddColoredNoise, PitchShift\n",
    "from tqdm import tqdm\n",
    "import matplotlib.pyplot as plt\n",
    "from sklearn.model_selection import train_test_split\n",
    "from sklearn.metrics import f1_score\n",
    "import timm\n",
    "import random\n",
    "import glob\n",
    "import torchvision.transforms as T_vision\n",
    "from torch.optim.lr_scheduler import ReduceLROnPlateau\n",
    "import logging"
   ]
  },
  {
   "cell_type": "code",
   "execution_count": 24,
   "id": "ae640c43-c768-408b-8613-956a8347085b",
   "metadata": {},
   "outputs": [
    {
     "name": "stdout",
     "output_type": "stream",
     "text": [
      "Using device: cuda\n",
      "GPU: NVIDIA GeForce RTX 3050\n"
     ]
    }
   ],
   "source": [
    "logging.basicConfig(filename='debug_log.txt', level=logging.DEBUG, format='%(asctime)s %(message)s')\n",
    "hf_logging.set_verbosity_error()\n",
    "device = torch.device(\"cuda\" if torch.cuda.is_available() else \"cpu\")\n",
    "print(f\"Using device: {device}\")\n",
    "if torch.cuda.is_available():\n",
    "    print(f\"GPU: {torch.cuda.get_device_name(0)}\")"
   ]
  },
  {
   "cell_type": "code",
   "execution_count": 25,
   "id": "53e5d4ad-71aa-428e-96a8-05dfec9b46a2",
   "metadata": {},
   "outputs": [],
   "source": [
    "SEED = 42\n",
    "random.seed(SEED)\n",
    "np.random.seed(SEED)\n",
    "torch.manual_seed(SEED)\n",
    "if torch.cuda.is_available():\n",
    "    torch.cuda.manual_seed_all(SEED)"
   ]
  },
  {
   "cell_type": "code",
   "execution_count": 26,
   "id": "e922abe7-6b62-4fc9-a998-ae2d682ad0dc",
   "metadata": {},
   "outputs": [],
   "source": [
    "torch.cuda.empty_cache()"
   ]
  },
  {
   "cell_type": "code",
   "execution_count": 27,
   "id": "ea45bcf5-f4e7-4aa9-a7e8-52374d689716",
   "metadata": {},
   "outputs": [],
   "source": [
    "class DynamicGraphAttention(nn.Module):\n",
    "    def __init__(self, in_channels, num_nodes=32, heads=8, dropout=0.1):\n",
    "        super().__init__()\n",
    "        self.num_nodes = num_nodes\n",
    "        self.heads = heads\n",
    "        self.head_dim = in_channels // heads\n",
    "        self.dropout = nn.Dropout(dropout)\n",
    "        self.query = nn.Linear(in_channels, in_channels)\n",
    "        self.key = nn.Linear(in_channels, in_channels)\n",
    "        self.value = nn.Linear(in_channels, in_channels)\n",
    "        self.out = nn.Linear(in_channels, in_channels)\n",
    "        self.scale = nn.Parameter(torch.tensor(self.head_dim**-0.5))\n",
    "        self.pos_enc = nn.Parameter(torch.randn(1, num_nodes, in_channels))\n",
    "    \n",
    "    def forward(self, x):\n",
    "        B, C, H, W = x.size()\n",
    "        x_flat = x.flatten(2).transpose(1, 2)\n",
    "        num_pixels = H * W\n",
    "        N = min(self.num_nodes, num_pixels)\n",
    "        norms = torch.norm(x_flat, dim=-1)\n",
    "        _, indices = torch.topk(norms, N, dim=-1)\n",
    "        indices_expanded = indices.unsqueeze(-1).expand(-1, -1, C)\n",
    "        x_nodes = torch.gather(x_flat, 1, indices_expanded)\n",
    "        if self.pos_enc.size(1) >= N:\n",
    "            x_nodes = x_nodes + self.pos_enc[:, :N, :]\n",
    "        q = self.query(x_nodes).view(B, N, self.heads, self.head_dim).transpose(1, 2)\n",
    "        k = self.key(x_nodes).view(B, N, self.heads, self.head_dim).transpose(1, 2)\n",
    "        v = self.value(x_nodes).view(B, N, self.heads, self.head_dim).transpose(1, 2)\n",
    "        attn_weights = torch.matmul(q, k.transpose(-2, -1)) * self.scale\n",
    "        attn_weights = F.softmax(attn_weights, dim=-1)\n",
    "        attn_weights = self.dropout(attn_weights)\n",
    "        attn_output = torch.matmul(attn_weights, v).transpose(1, 2).contiguous().view(B, N, C)\n",
    "        out_nodes = self.out(attn_output)\n",
    "        out_flat = torch.zeros_like(x_flat)\n",
    "        out_flat.scatter_(1, indices_expanded, out_nodes)\n",
    "        out = out_flat.transpose(1, 2).view(B, C, H, W)\n",
    "        return x + out\n",
    "\n",
    "class TemporalAttentionAggregator(nn.Module):\n",
    "    def __init__(self, in_channels, num_heads=4):\n",
    "        super().__init__()\n",
    "        self.attention_net = nn.MultiheadAttention(embed_dim=in_channels, num_heads=num_heads, batch_first=True)\n",
    "        self.norm = nn.LayerNorm(in_channels)\n",
    "    \n",
    "    def forward(self, x):\n",
    "        if x.dim() == 4:\n",
    "            B, C, H, W = x.size()\n",
    "            x_flat = x.flatten(2).transpose(1, 2)\n",
    "        else:\n",
    "            raise ValueError(\"Input must be 4D tensor\")\n",
    "        x_norm = self.norm(x_flat)\n",
    "        attn_output, _ = self.attention_net(x_norm, x_norm, x_norm)\n",
    "        return torch.mean(attn_output, dim=1)\n",
    "\n",
    "class InvertedResidual(nn.Module):\n",
    "    def __init__(self, in_channels, out_channels, stride, expansion=6):\n",
    "        super().__init__()\n",
    "        hidden_dim = in_channels * expansion\n",
    "        self.use_residual = in_channels == out_channels and stride == 1\n",
    "        self.conv = nn.Sequential(\n",
    "            nn.Conv2d(in_channels, hidden_dim, 1, bias=False),\n",
    "            nn.BatchNorm2d(hidden_dim),\n",
    "            nn.SiLU(inplace=True),\n",
    "            nn.Conv2d(hidden_dim, hidden_dim, 3, stride, 1, groups=hidden_dim, bias=False),\n",
    "            nn.BatchNorm2d(hidden_dim),\n",
    "            nn.SiLU(inplace=True),\n",
    "            nn.Conv2d(hidden_dim, out_channels, 1, bias=False),\n",
    "            nn.BatchNorm2d(out_channels)\n",
    "        )\n",
    "        self.se = nn.Sequential(\n",
    "            nn.AdaptiveAvgPool2d(1),\n",
    "            nn.Conv2d(out_channels, out_channels // 16, 1),\n",
    "            nn.SiLU(),\n",
    "            nn.Conv2d(out_channels // 16, out_channels, 1),\n",
    "            nn.Sigmoid()\n",
    "        )\n",
    "    \n",
    "    def forward(self, x):\n",
    "        out = self.conv(x)\n",
    "        out = out * self.se(out)\n",
    "        return x + out if self.use_residual else out"
   ]
  },
  {
   "cell_type": "code",
   "execution_count": 28,
   "id": "4de34d65-d181-4640-874b-b9738713f93a",
   "metadata": {},
   "outputs": [],
   "source": [
    "class PestLarvaNet_Medium_Encoder(nn.Module):\n",
    "    def __init__(self):\n",
    "        super().__init__()\n",
    "        self.config = [[1, 24, 2, 1], [6, 40, 3, 2], [6, 64, 3, 2], [6, 120, 3, 2], [6, 160, 2, 1]]\n",
    "        self.stem = nn.Sequential(\n",
    "            nn.Conv2d(1, 24, 3, 2, 1, bias=False),\n",
    "            nn.BatchNorm2d(24),\n",
    "            nn.SiLU(inplace=True)\n",
    "        )\n",
    "        layers = []\n",
    "        in_channels = 24\n",
    "        for t, c, n, s in self.config:\n",
    "            for i in range(n):\n",
    "                stride = s if i == 0 else 1\n",
    "                layers.append(InvertedResidual(in_channels, c, stride, expansion=t))\n",
    "                in_channels = c\n",
    "            if c == 40:\n",
    "                layers.append(DynamicGraphAttention(in_channels, num_nodes=32, heads=8))\n",
    "        self.body = nn.Sequential(*layers)\n",
    "        self.head_conv = nn.Conv2d(160, 384, 1, bias=False)\n",
    "        self.aggregator = TemporalAttentionAggregator(384, num_heads=8)\n",
    "    \n",
    "    def forward(self, x):\n",
    "        if x.dim() == 3:\n",
    "            x = x.unsqueeze(1)\n",
    "        x = self.stem(x)\n",
    "        x = self.body(x)\n",
    "        x = self.head_conv(x)\n",
    "        x = self.aggregator(x)\n",
    "        return x\n",
    "\n",
    "class PestLarvaNet_Medium_Classifier(nn.Module):\n",
    "    def __init__(self, num_classes):\n",
    "        super().__init__()\n",
    "        self.encoder = PestLarvaNet_Medium_Encoder()\n",
    "        self.classifier = nn.Sequential(\n",
    "            nn.Linear(384, 192),\n",
    "            nn.SiLU(inplace=True),\n",
    "            nn.Dropout(0.4),\n",
    "            nn.Linear(192, num_classes)\n",
    "        )\n",
    "    \n",
    "    def forward(self, x):\n",
    "        x = self.encoder(x)\n",
    "        return self.classifier(x)"
   ]
  },
  {
   "cell_type": "code",
   "execution_count": 29,
   "id": "de699424-ec89-4dee-9395-61974f4a7b71",
   "metadata": {},
   "outputs": [],
   "source": [
    "class DualInputSSLDataset(Dataset):\n",
    "    def __init__(self, wav_dir, target_sample_rate=16000, target_duration_sec=5, hop_length=512, n_mels=128, n_fft=2048):\n",
    "        super().__init__()\n",
    "        self.wav_dir = wav_dir\n",
    "        self.target_sample_rate = target_sample_rate\n",
    "        self.target_num_samples = target_sample_rate * target_duration_sec\n",
    "        self.target_time_frames = (self.target_num_samples // hop_length) + 1\n",
    "        self.mel_spectrogram = T_audio.MelSpectrogram(\n",
    "            sample_rate=target_sample_rate,\n",
    "            n_fft=n_fft,\n",
    "            hop_length=hop_length,\n",
    "            n_mels=n_mels,\n",
    "            f_min=0.0,\n",
    "            f_max=target_sample_rate // 2\n",
    "        )\n",
    "        self.wav_files = glob.glob(os.path.join(wav_dir, '**', '*.wav'), recursive=True)\n",
    "        if not self.wav_files:\n",
    "            raise FileNotFoundError(f\"No valid .wav files found in directory: {wav_dir}\")\n",
    "        print(f\"Dataset initialized with {len(self.wav_files)} valid .wav files\")\n",
    "    \n",
    "    def __len__(self):\n",
    "        return len(self.wav_files)\n",
    "    \n",
    "    def __getitem__(self, idx):\n",
    "        wav_path = self.wav_files[idx]\n",
    "        try:\n",
    "            waveform, sample_rate = torchaudio.load(wav_path)\n",
    "            logging.debug(f\"Loaded waveform from {wav_path}: shape={waveform.shape}, min={waveform.min()}, max={waveform.max()}\")\n",
    "            if waveform.numel() == 0:\n",
    "                logging.warning(f\"Empty waveform: {wav_path}. Skipping...\")\n",
    "                return None\n",
    "            if sample_rate != self.target_sample_rate:\n",
    "                waveform = torchaudio.functional.resample(waveform, sample_rate, self.target_sample_rate)\n",
    "            if waveform.shape[0] > 1:\n",
    "                waveform = torch.mean(waveform, dim=0, keepdim=True)\n",
    "            current_len = waveform.shape[1]\n",
    "            if current_len != self.target_num_samples:\n",
    "                logging.warning(f\"Waveform length {current_len} does not match expected {self.target_num_samples} for {wav_path}\")\n",
    "                return None\n",
    "            \n",
    "            # Check if waveform has sufficient variance\n",
    "            if torch.std(waveform) < 1e-6:\n",
    "                logging.warning(f\"Low variance detected in {wav_path}. Skipping...\")\n",
    "                return None\n",
    "            \n",
    "            # Normalize waveform\n",
    "            waveform = (waveform - waveform.mean()) / (waveform.std() + 1e-8)\n",
    "            \n",
    "            # Compute Mel spectrogram on-the-fly\n",
    "            spectrogram = self.mel_spectrogram(waveform)\n",
    "            spectrogram = torch.log(spectrogram + 1e-9)  # Log-mel for numerical stability\n",
    "            \n",
    "            # Standardize spectrogram time dimension\n",
    "            current_time_frames = spectrogram.shape[-1]\n",
    "            if current_time_frames > self.target_time_frames:\n",
    "                spectrogram = spectrogram[:, :, :self.target_time_frames]\n",
    "            elif current_time_frames < self.target_time_frames:\n",
    "                spectrogram = F.pad(spectrogram, (0, self.target_time_frames - current_time_frames))\n",
    "            \n",
    "            # Normalize spectrogram (z-score)\n",
    "            spectrogram_mean = spectrogram.mean()\n",
    "            spectrogram_std = spectrogram.std() + 1e-8\n",
    "            spectrogram = (spectrogram - spectrogram_mean) / spectrogram_std\n",
    "            logging.debug(f\"Spectrogram shape: {spectrogram.shape}, min={spectrogram.min()}, max={spectrogram.max()}\")\n",
    "            \n",
    "            return waveform, spectrogram\n",
    "        except Exception as e:\n",
    "            logging.error(f\"Error loading item {idx} ({wav_path}): {e}. Skipping...\")\n",
    "            return None"
   ]
  },
  {
   "cell_type": "code",
   "execution_count": 30,
   "id": "b674fd89-36c7-4e4b-90ea-ff5cf73f0a7e",
   "metadata": {},
   "outputs": [],
   "source": [
    "def collate_fn_remove_none_ssl(batch):\n",
    "    batch = [item for item in batch if item is not None]\n",
    "    if len(batch) < 1:\n",
    "        logging.warning(\"Batch is empty after filtering None items\")\n",
    "        return None\n",
    "    waveforms, spectrograms = zip(*batch)\n",
    "    logging.debug(f\"Batch shapes: waveforms={waveforms[0].shape}, spectrograms={spectrograms[0].shape}\")\n",
    "    return torch.stack(waveforms), torch.stack(spectrograms)\n",
    "\n",
    "# Custom BatchNorm1d to handle single-sample batches\n",
    "class SafeBatchNorm1d(nn.BatchNorm1d):\n",
    "    def forward(self, input):\n",
    "        logging.debug(f\"SafeBatchNorm1d input shape: {input.shape}\")\n",
    "        if input.size(0) == 1 and self.training:\n",
    "            # Switch to eval mode for single-sample batches\n",
    "            self.eval()\n",
    "            out = super().forward(input)\n",
    "            self.train()\n",
    "            return out\n",
    "        return super().forward(input)"
   ]
  },
  {
   "cell_type": "code",
   "execution_count": 31,
   "id": "9f6d6c43-ac89-473e-8be8-52db3feca95c",
   "metadata": {},
   "outputs": [],
   "source": [
    "class TimeShift(torch.nn.Module):\n",
    "    def __init__(self, p=0.5, max_shift_percent=0.4):\n",
    "        super().__init__()\n",
    "        self.p = p\n",
    "        self.max_shift_percent = max_shift_percent\n",
    "\n",
    "    def forward(self, spec):\n",
    "        if torch.rand(1) < self.p:\n",
    "            time_steps = spec.shape[-1]\n",
    "            shift_amount = int(torch.rand(1) * self.max_shift_percent * time_steps)\n",
    "            if torch.rand(1) < 0.5:\n",
    "                shift_amount = -shift_amount\n",
    "            return torch.roll(spec, shifts=shift_amount, dims=-1)\n",
    "        return spec\n",
    "\n",
    "class SpecNoise(torch.nn.Module):\n",
    "    def __init__(self, p=0.5, noise_level=0.05):\n",
    "        super().__init__()\n",
    "        self.p = p\n",
    "        self.noise_level = noise_level\n",
    "\n",
    "    def forward(self, spec):\n",
    "        if torch.rand(1) < self.p:\n",
    "            noise = torch.randn_like(spec) * self.noise_level\n",
    "            return spec + noise\n",
    "        return spec"
   ]
  },
  {
   "cell_type": "code",
   "execution_count": 32,
   "id": "92da11d0-c5b3-4a22-8b8f-0a48fe1b80ec",
   "metadata": {},
   "outputs": [],
   "source": [
    "def run_audiotwin_pretraining(supervised_checkpoint_path=None):\n",
    "    def create_mlp(input_dim, hidden_dim, output_dim, num_layers):\n",
    "        layers = [nn.Linear(input_dim, hidden_dim), SafeBatchNorm1d(hidden_dim), nn.ReLU(inplace=True)]\n",
    "        for _ in range(num_layers - 2):\n",
    "            layers.extend([nn.Linear(hidden_dim, hidden_dim), SafeBatchNorm1d(hidden_dim), nn.ReLU(inplace=True)])\n",
    "        layers.append(nn.Linear(hidden_dim, output_dim))\n",
    "        return nn.Sequential(*layers)\n",
    "    \n",
    "    class AudioTwin(nn.Module):\n",
    "        def __init__(self, waveform_encoder, spectrogram_encoder, proj_dim=512, pred_dim=128):\n",
    "            super().__init__()\n",
    "            self.waveform_encoder = waveform_encoder\n",
    "            self.spectrogram_encoder = spectrogram_encoder\n",
    "            waveform_out_dim = 768\n",
    "            spectrogram_out_dim = 384\n",
    "            self.waveform_projector = create_mlp(waveform_out_dim, proj_dim, proj_dim, 3)\n",
    "            self.spectrogram_projector = create_mlp(spectrogram_out_dim, proj_dim, proj_dim, 3)\n",
    "            self.waveform_predictor = create_mlp(proj_dim, pred_dim, proj_dim, 2)\n",
    "            self.spectrogram_predictor = create_mlp(proj_dim, pred_dim, proj_dim, 2)\n",
    "        \n",
    "        def forward(self, waveform_aug, spectrogram_aug):\n",
    "            logging.debug(f\"AudioTwin input shapes: waveform={waveform_aug.shape}, spectrogram={spectrogram_aug.shape}\")\n",
    "            if waveform_aug.dim() == 3:\n",
    "                waveform_aug = waveform_aug.squeeze(1)\n",
    "            h_w = self.waveform_encoder(waveform_aug).last_hidden_state.mean(dim=1)\n",
    "            logging.debug(f\"h_w shape: {h_w.shape}, min={h_w.min()}, max={h_w.max()}\")\n",
    "            z_w = F.normalize(self.waveform_projector(h_w), dim=-1)\n",
    "            p_w = self.waveform_predictor(z_w)\n",
    "            h_s = self.spectrogram_encoder(spectrogram_aug)\n",
    "            logging.debug(f\"h_s shape: {h_s.shape}, min={h_s.min()}, max={h_s.max()}\")\n",
    "            z_s = F.normalize(self.spectrogram_projector(h_s), dim=-1)\n",
    "            p_s = self.spectrogram_predictor(z_s)\n",
    "            logging.debug(f\"z_w={z_w.min().item():.4f}-{z_w.max().item():.4f}, z_s={z_s.min().item():.4f}-{z_s.max().item():.4f}\")\n",
    "            return z_w, z_s, p_w, p_s\n",
    "    \n",
    "    class SimSiamLoss(nn.Module):\n",
    "        def __init__(self, epsilon=1e-6):\n",
    "            super().__init__()\n",
    "            self.epsilon = epsilon\n",
    "        \n",
    "        def forward(self, p1, z2, p2, z1):\n",
    "            logging.debug(f\"SimSiamLoss input shapes: p1={p1.shape}, z2={z2.shape}, p2={p2.shape}, z1={z1.shape}\")\n",
    "            z1, z2 = z1.detach(), z2.detach()\n",
    "            p1 = F.normalize(p1, dim=-1)\n",
    "            p2 = F.normalize(p2, dim=-1)\n",
    "            loss = (-(p1 * z2).sum(dim=1).mean() - (p2 * z1).sum(dim=1).mean()) / 2\n",
    "            logging.debug(f\"SimSiamLoss value: {loss.item()}\")\n",
    "            return loss\n",
    "    \n",
    "    class BarlowTwinsLoss(nn.Module):\n",
    "        def __init__(self, lambda_param=5e-3, epsilon=1e-6):\n",
    "            super().__init__()\n",
    "            self.lambda_param = lambda_param\n",
    "            self.epsilon = epsilon\n",
    "        \n",
    "        def forward(self, z1, z2):\n",
    "            logging.debug(f\"BarlowTwinsLoss input shapes: z1={z1.shape}, z2={z2.shape}\")\n",
    "            B, D = z1.size(0), z1.size(1)\n",
    "            z1_mean = z1.mean(0)\n",
    "            z2_mean = z2.mean(0)\n",
    "            z1_std = z1.std(0) + self.epsilon\n",
    "            z2_std = z2.std(0) + self.epsilon\n",
    "            z1 = (z1 - z1_mean) / z1_std\n",
    "            z2 = (z2 - z2_mean) / z2_std\n",
    "            c = (z1.T @ z2) / B\n",
    "            on_diag = torch.diagonal(c).add_(-1).pow_(2).sum()\n",
    "            off_diag = c.pow_(2).sum() - on_diag\n",
    "            loss = on_diag + self.lambda_param * off_diag\n",
    "            logging.debug(f\"BarlowTwinsLoss value: {loss.item()}, z1_std={z1_std.min().item():.4f}-{z1_std.max().item():.4f}, z2_std={z2_std.min().item():.4f}-{z2_std.max().item():.4f}\")\n",
    "            return loss\n",
    "    \n",
    "    # Định nghĩa các bộ siêu tham số\n",
    "    hyperparameter_sets = [\n",
    "        {'lambda_param': 1e-4, 'epsilon': 1e-6, 'lambda_barlow': 0.001},\n",
    "        {'lambda_param': 5e-4, 'epsilon': 1e-6, 'lambda_barlow': 0.0025},\n",
    "        {'lambda_param': 1e-3, 'epsilon': 1e-6, 'lambda_barlow': 0.005},\n",
    "        {'lambda_param': 5e-3, 'epsilon': 1e-6, 'lambda_barlow': 0.0075},\n",
    "        {'lambda_param': 1e-2, 'epsilon': 1e-6, 'lambda_barlow': 0.01}\n",
    "    ]\n",
    "\n",
    "    waveform_augment = Compose([\n",
    "        AddColoredNoise(min_snr_in_db=3.0, max_snr_in_db=30.0, min_f_decay=0.0, max_f_decay=1e-6, p=0.5, sample_rate=16000, output_type='tensor'),\n",
    "        PitchShift(min_transpose_semitones=-4, max_transpose_semitones=4, p=0.5, sample_rate=16000, output_type='tensor')\n",
    "    ], output_type='tensor')\n",
    "    \n",
    "    spectrogram_augment = T_vision.Compose([\n",
    "        T_vision.RandomApply([T_vision.GaussianBlur(kernel_size=(5, 9), sigma=(0.1, 5))], p=0.5),\n",
    "        T_vision.RandomAutocontrast(p=0.5),\n",
    "        TimeShift(p=0.5, max_shift_percent=0.4),\n",
    "        SpecNoise(p=0.5, noise_level=0.05)\n",
    "    ])\n",
    "    \n",
    "    # Use preprocessed directory\n",
    "    WAV_DIR = r\"F:\\SSL_Wav_Preprocessed\"\n",
    "    ssl_dataset = DualInputSSLDataset(wav_dir=WAV_DIR)\n",
    "    ssl_loader = DataLoader(ssl_dataset, batch_size=32, shuffle=True, num_workers=0, collate_fn=collate_fn_remove_none_ssl)\n",
    "    \n",
    "    waveform_encoder = Wav2Vec2Model.from_pretrained(\"facebook/wav2vec2-base-960h\")\n",
    "    for param in waveform_encoder.parameters():\n",
    "        param.requires_grad = False\n",
    "    \n",
    "    spectrogram_encoder = PestLarvaNet_Medium_Encoder()\n",
    "\n",
    "    if supervised_checkpoint_path and os.path.exists(supervised_checkpoint_path):\n",
    "        print(f\"Initializing AudioTwin with weights from: {supervised_checkpoint_path}\")\n",
    "        try:\n",
    "            checkpoint_data = torch.load(supervised_checkpoint_path, map_location=device, weights_only=True)\n",
    "            if 'model_state_dict' in checkpoint_data:\n",
    "                full_model_state_dict = checkpoint_data['model_state_dict']\n",
    "            else:\n",
    "                full_model_state_dict = checkpoint_data\n",
    "            \n",
    "            adjusted_state_dict = {}\n",
    "            for key, value in full_model_state_dict.items():\n",
    "                if key.startswith(('stem.', 'body.', 'head_conv.', 'aggregator.')):\n",
    "                    new_key = f\"encoder.{key}\"\n",
    "                    adjusted_state_dict[new_key] = value\n",
    "                elif key.startswith(('classifier.')):\n",
    "                    continue\n",
    "                else:\n",
    "                    adjusted_state_dict[key] = value\n",
    "            \n",
    "            spectrogram_encoder.load_state_dict(adjusted_state_dict, strict=False)\n",
    "            print(\"Successfully initialized spectrogram branch!\")\n",
    "        except Exception as e:\n",
    "            print(f\"Error loading Experiment 1 checkpoint: {e}. Continuing with random weights.\")\n",
    "\n",
    "    for idx, params in enumerate(hyperparameter_sets):\n",
    "        lambda_param = params['lambda_param']\n",
    "        epsilon = params['epsilon']\n",
    "        lambda_barlow = params['lambda_barlow']\n",
    "        run_id = f\"run_{idx+1}_lp{lambda_param:.0e}_ep{epsilon:.0e}_lb{lambda_barlow:.3f}\"\n",
    "        CHECKPOINT_DIR = os.path.join('audiotwin_checkpoints_medium', run_id)\n",
    "        os.makedirs(CHECKPOINT_DIR, exist_ok=True)\n",
    "        CSV_PATH = os.path.join(CHECKPOINT_DIR, f'{run_id}_training_log.csv')\n",
    "        \n",
    "        print(f\"\\nStarting Pre-training with AudioTwin - {run_id}\")\n",
    "        model = AudioTwin(waveform_encoder, spectrogram_encoder).to(device)\n",
    "        optimizer = torch.optim.AdamW(model.parameters(), lr=5e-6, weight_decay=1e-5)\n",
    "        scheduler = ReduceLROnPlateau(optimizer, mode='min', factor=0.1, patience=5)\n",
    "        scaler = torch.amp.GradScaler('cuda')\n",
    "        simsiam_loss_fn = SimSiamLoss(epsilon=epsilon).to(device)\n",
    "        barlow_loss_fn = BarlowTwinsLoss(lambda_param=lambda_param, epsilon=epsilon).to(device)\n",
    "\n",
    "        EPOCHS = 100\n",
    "        with open(CSV_PATH, 'w', newline='') as csvfile:\n",
    "            fieldnames = ['epoch', 'avg_loss', 'avg_grad_norm', 'valid_batches', 'learning_rate']\n",
    "            writer = csv.DictWriter(csvfile, fieldnames=fieldnames)\n",
    "            writer.writeheader()\n",
    "\n",
    "            for epoch in range(EPOCHS):\n",
    "                model.train()\n",
    "                total_loss = 0.0\n",
    "                total_grad_norm = 0.0\n",
    "                total_batches = 0\n",
    "                progress_bar = tqdm(ssl_loader, desc=f\"{run_id} Epoch {epoch+1}/{EPOCHS}\")\n",
    "\n",
    "                for i, data_batch in enumerate(progress_bar):\n",
    "                    if data_batch is None:\n",
    "                        continue\n",
    "                    waveforms, spectrograms = data_batch\n",
    "                    waveforms, spectrograms = waveforms.to(device), spectrograms.to(device)\n",
    "                    \n",
    "                    optimizer.zero_grad()\n",
    "                \n",
    "                    with torch.amp.autocast('cuda'):\n",
    "                        waveform_aug = waveform_augment(waveforms)\n",
    "                        spectrogram_aug = spectrogram_augment(spectrograms)\n",
    "                        logging.debug(f\"Augmented shapes: waveform={waveform_aug.shape}, spectrogram={spectrogram_aug.shape}\")\n",
    "                        \n",
    "                        z_w, z_s, p_w, p_s = model(waveform_aug, spectrogram_aug)\n",
    "                        \n",
    "                        # Kiểm tra đầu ra không hợp lệ từ model trước khi tính loss\n",
    "                        if torch.isnan(z_w).any() or torch.isnan(z_s).any() or torch.isinf(z_w).any() or torch.isinf(z_s).any():\n",
    "                            logging.error(f\"NaN/Inf detected in model outputs at batch {i}. Skipping batch.\")\n",
    "                            continue\n",
    "                        \n",
    "                        loss_simsiam = simsiam_loss_fn(p_w, z_s, p_s, z_w)\n",
    "                        loss_barlow = barlow_loss_fn(z_w, z_s)\n",
    "                        \n",
    "                        if torch.isnan(loss_simsiam) or torch.isnan(loss_barlow):\n",
    "                            logging.error(f\"NaN/Inf detected in loss at batch {i}. Skipping batch.\")\n",
    "                            continue\n",
    "                            \n",
    "                        loss = loss_simsiam + lambda_barlow * loss_barlow\n",
    "\n",
    "                    scaler.scale(loss).backward()\n",
    "                    \n",
    "                    scaler.unscale_(optimizer)\n",
    "                    \n",
    "                    # Clip gradients\n",
    "                    grad_norm = torch.nn.utils.clip_grad_norm_(model.parameters(), max_norm=1.0)\n",
    "                    \n",
    "   \n",
    "                    scaler.step(optimizer)\n",
    "                    \n",
    "                    scaler.update()\n",
    "                    \n",
    "                    total_loss += loss.item()\n",
    "                    if torch.isfinite(grad_norm): # Chỉ ghi lại grad norm hữu hạn\n",
    "                        total_grad_norm += grad_norm.item()\n",
    "                    total_batches += 1\n",
    "                    progress_bar.set_postfix(loss=f\"{loss.item():.4f}\", grad_norm=f\"{grad_norm.item():.4f}\")\n",
    "\n",
    "                if total_batches > 0:\n",
    "                    avg_loss = total_loss / total_batches\n",
    "                    avg_grad_norm = total_grad_norm / total_batches\n",
    "                    lr = optimizer.param_groups[0]['lr']\n",
    "                    print(f\"{run_id} Epoch {epoch+1}/{EPOCHS} | Avg Loss: {avg_loss:.4f}, Avg Grad Norm: {avg_grad_norm:.4f}, LR: {lr:.6f}\")\n",
    "                    writer.writerow({'epoch': epoch + 1, 'avg_loss': avg_loss, 'avg_grad_norm': avg_grad_norm, 'valid_batches': total_batches, 'learning_rate': lr})\n",
    "                else:\n",
    "                    print(f\"{run_id} Epoch {epoch+1}/{EPOCHS} | No valid batches processed\")\n",
    "                    writer.writerow({'epoch': epoch + 1, 'avg_loss': 0.0, 'avg_grad_norm': 0.0, 'valid_batches': 0, 'learning_rate': optimizer.param_groups[0]['lr']})\n",
    "                \n",
    "                scheduler.step(avg_loss)\n",
    "                \n",
    "                if (epoch + 1) % 5 == 0:\n",
    "                    checkpoint_path = os.path.join(CHECKPOINT_DIR, f'audiotwin_pestlarvanet_medium_epoch_{epoch+1}.pth')\n",
    "                    torch.save({\n",
    "                        'epoch': epoch + 1,\n",
    "                        'model_state_dict': model.state_dict(),\n",
    "                        'optimizer_state_dict': optimizer.state_dict(),\n",
    "                        'scaler_state_dict': scaler.state_dict(),\n",
    "                        'loss': avg_loss\n",
    "                    }, checkpoint_path)\n",
    "                    print(f\"Checkpoint saved at '{checkpoint_path}'\")"
   ]
  },
  {
   "cell_type": "code",
   "execution_count": 33,
   "id": "1525182a-53fc-46cb-be4e-eeb1006a740d",
   "metadata": {},
   "outputs": [
    {
     "name": "stdout",
     "output_type": "stream",
     "text": [
      "Dataset initialized with 28466 valid .wav files\n",
      "Initializing AudioTwin with weights from: F:\\best_model_medium.pth\n",
      "Successfully initialized spectrogram branch!\n",
      "\n",
      "Starting Pre-training with AudioTwin - run_1_lp1e-04_ep1e-06_lb0.001\n"
     ]
    },
    {
     "name": "stderr",
     "output_type": "stream",
     "text": [
      "run_1_lp1e-04_ep1e-06_lb0.001 Epoch 1/100: 100%|██████| 890/890 [20:03<00:00,  1.35s/it, grad_norm=4.3386, loss=0.2732]\n"
     ]
    },
    {
     "name": "stdout",
     "output_type": "stream",
     "text": [
      "run_1_lp1e-04_ep1e-06_lb0.001 Epoch 1/100 | Avg Loss: 0.4129, Avg Grad Norm: 3.8811, LR: 0.000005\n"
     ]
    },
    {
     "name": "stderr",
     "output_type": "stream",
     "text": [
      "run_1_lp1e-04_ep1e-06_lb0.001 Epoch 2/100: 100%|██████| 890/890 [17:17<00:00,  1.17s/it, grad_norm=6.7887, loss=0.2569]\n"
     ]
    },
    {
     "name": "stdout",
     "output_type": "stream",
     "text": [
      "run_1_lp1e-04_ep1e-06_lb0.001 Epoch 2/100 | Avg Loss: 0.1887, Avg Grad Norm: 4.3614, LR: 0.000005\n"
     ]
    },
    {
     "name": "stderr",
     "output_type": "stream",
     "text": [
      "run_1_lp1e-04_ep1e-06_lb0.001 Epoch 3/100: 100%|█████| 890/890 [16:34<00:00,  1.12s/it, grad_norm=3.8244, loss=-0.0439]\n"
     ]
    },
    {
     "name": "stdout",
     "output_type": "stream",
     "text": [
      "run_1_lp1e-04_ep1e-06_lb0.001 Epoch 3/100 | Avg Loss: -0.0483, Avg Grad Norm: 4.8823, LR: 0.000005\n"
     ]
    },
    {
     "name": "stderr",
     "output_type": "stream",
     "text": [
      "run_1_lp1e-04_ep1e-06_lb0.001 Epoch 4/100: 100%|█████| 890/890 [16:32<00:00,  1.11s/it, grad_norm=5.9195, loss=-0.4497]\n"
     ]
    },
    {
     "name": "stdout",
     "output_type": "stream",
     "text": [
      "run_1_lp1e-04_ep1e-06_lb0.001 Epoch 4/100 | Avg Loss: -0.2491, Avg Grad Norm: 5.3239, LR: 0.000005\n"
     ]
    },
    {
     "name": "stderr",
     "output_type": "stream",
     "text": [
      "run_1_lp1e-04_ep1e-06_lb0.001 Epoch 5/100: 100%|████| 890/890 [16:36<00:00,  1.12s/it, grad_norm=10.3801, loss=-0.3173]\n"
     ]
    },
    {
     "name": "stdout",
     "output_type": "stream",
     "text": [
      "run_1_lp1e-04_ep1e-06_lb0.001 Epoch 5/100 | Avg Loss: -0.4000, Avg Grad Norm: 5.0474, LR: 0.000005\n",
      "Checkpoint saved at 'audiotwin_checkpoints_medium\\run_1_lp1e-04_ep1e-06_lb0.001\\audiotwin_pestlarvanet_medium_epoch_5.pth'\n"
     ]
    },
    {
     "name": "stderr",
     "output_type": "stream",
     "text": [
      "run_1_lp1e-04_ep1e-06_lb0.001 Epoch 6/100: 100%|█████| 890/890 [16:19<00:00,  1.10s/it, grad_norm=8.8821, loss=-0.5556]\n"
     ]
    },
    {
     "name": "stdout",
     "output_type": "stream",
     "text": [
      "run_1_lp1e-04_ep1e-06_lb0.001 Epoch 6/100 | Avg Loss: -0.4976, Avg Grad Norm: 4.9588, LR: 0.000005\n"
     ]
    },
    {
     "name": "stderr",
     "output_type": "stream",
     "text": [
      "run_1_lp1e-04_ep1e-06_lb0.001 Epoch 7/100: 100%|████| 890/890 [16:17<00:00,  1.10s/it, grad_norm=16.6097, loss=-0.4274]\n"
     ]
    },
    {
     "name": "stdout",
     "output_type": "stream",
     "text": [
      "run_1_lp1e-04_ep1e-06_lb0.001 Epoch 7/100 | Avg Loss: -0.5972, Avg Grad Norm: 4.5443, LR: 0.000005\n"
     ]
    },
    {
     "name": "stderr",
     "output_type": "stream",
     "text": [
      "run_1_lp1e-04_ep1e-06_lb0.001 Epoch 8/100: 100%|█████| 890/890 [16:20<00:00,  1.10s/it, grad_norm=4.7651, loss=-0.8140]\n"
     ]
    },
    {
     "name": "stdout",
     "output_type": "stream",
     "text": [
      "run_1_lp1e-04_ep1e-06_lb0.001 Epoch 8/100 | Avg Loss: -0.6648, Avg Grad Norm: 4.1385, LR: 0.000005\n"
     ]
    },
    {
     "name": "stderr",
     "output_type": "stream",
     "text": [
      "run_1_lp1e-04_ep1e-06_lb0.001 Epoch 9/100: 100%|█████| 890/890 [16:17<00:00,  1.10s/it, grad_norm=2.5897, loss=-0.8528]\n"
     ]
    },
    {
     "name": "stdout",
     "output_type": "stream",
     "text": [
      "run_1_lp1e-04_ep1e-06_lb0.001 Epoch 9/100 | Avg Loss: -0.7123, Avg Grad Norm: 4.0426, LR: 0.000005\n"
     ]
    },
    {
     "name": "stderr",
     "output_type": "stream",
     "text": [
      "run_1_lp1e-04_ep1e-06_lb0.001 Epoch 10/100: 100%|███| 890/890 [16:20<00:00,  1.10s/it, grad_norm=13.4356, loss=-0.6894]\n"
     ]
    },
    {
     "name": "stdout",
     "output_type": "stream",
     "text": [
      "run_1_lp1e-04_ep1e-06_lb0.001 Epoch 10/100 | Avg Loss: -0.7513, Avg Grad Norm: 4.0406, LR: 0.000005\n",
      "Checkpoint saved at 'audiotwin_checkpoints_medium\\run_1_lp1e-04_ep1e-06_lb0.001\\audiotwin_pestlarvanet_medium_epoch_10.pth'\n"
     ]
    },
    {
     "name": "stderr",
     "output_type": "stream",
     "text": [
      "run_1_lp1e-04_ep1e-06_lb0.001 Epoch 11/100: 100%|████| 890/890 [16:20<00:00,  1.10s/it, grad_norm=5.7017, loss=-0.7030]\n"
     ]
    },
    {
     "name": "stdout",
     "output_type": "stream",
     "text": [
      "run_1_lp1e-04_ep1e-06_lb0.001 Epoch 11/100 | Avg Loss: -0.7806, Avg Grad Norm: 3.8066, LR: 0.000005\n"
     ]
    },
    {
     "name": "stderr",
     "output_type": "stream",
     "text": [
      "run_1_lp1e-04_ep1e-06_lb0.001 Epoch 12/100: 100%|████| 890/890 [16:24<00:00,  1.11s/it, grad_norm=0.9684, loss=-0.9234]\n"
     ]
    },
    {
     "name": "stdout",
     "output_type": "stream",
     "text": [
      "run_1_lp1e-04_ep1e-06_lb0.001 Epoch 12/100 | Avg Loss: -0.8061, Avg Grad Norm: 3.6888, LR: 0.000005\n"
     ]
    },
    {
     "name": "stderr",
     "output_type": "stream",
     "text": [
      "run_1_lp1e-04_ep1e-06_lb0.001 Epoch 13/100: 100%|████| 890/890 [16:18<00:00,  1.10s/it, grad_norm=5.2876, loss=-0.8388]\n"
     ]
    },
    {
     "name": "stdout",
     "output_type": "stream",
     "text": [
      "run_1_lp1e-04_ep1e-06_lb0.001 Epoch 13/100 | Avg Loss: -0.8104, Avg Grad Norm: 3.8810, LR: 0.000005\n"
     ]
    },
    {
     "name": "stderr",
     "output_type": "stream",
     "text": [
      "run_1_lp1e-04_ep1e-06_lb0.001 Epoch 14/100: 100%|████| 890/890 [16:18<00:00,  1.10s/it, grad_norm=4.4517, loss=-0.8163]\n"
     ]
    },
    {
     "name": "stdout",
     "output_type": "stream",
     "text": [
      "run_1_lp1e-04_ep1e-06_lb0.001 Epoch 14/100 | Avg Loss: -0.8189, Avg Grad Norm: 3.6554, LR: 0.000005\n"
     ]
    },
    {
     "name": "stderr",
     "output_type": "stream",
     "text": [
      "run_1_lp1e-04_ep1e-06_lb0.001 Epoch 15/100: 100%|████| 890/890 [16:21<00:00,  1.10s/it, grad_norm=8.1758, loss=-0.4003]\n"
     ]
    },
    {
     "name": "stdout",
     "output_type": "stream",
     "text": [
      "run_1_lp1e-04_ep1e-06_lb0.001 Epoch 15/100 | Avg Loss: -0.8335, Avg Grad Norm: 3.7002, LR: 0.000005\n",
      "Checkpoint saved at 'audiotwin_checkpoints_medium\\run_1_lp1e-04_ep1e-06_lb0.001\\audiotwin_pestlarvanet_medium_epoch_15.pth'\n"
     ]
    },
    {
     "name": "stderr",
     "output_type": "stream",
     "text": [
      "run_1_lp1e-04_ep1e-06_lb0.001 Epoch 16/100: 100%|████| 890/890 [16:22<00:00,  1.10s/it, grad_norm=3.9910, loss=-0.8892]\n"
     ]
    },
    {
     "name": "stdout",
     "output_type": "stream",
     "text": [
      "run_1_lp1e-04_ep1e-06_lb0.001 Epoch 16/100 | Avg Loss: -0.8320, Avg Grad Norm: 3.7620, LR: 0.000005\n"
     ]
    },
    {
     "name": "stderr",
     "output_type": "stream",
     "text": [
      "run_1_lp1e-04_ep1e-06_lb0.001 Epoch 17/100: 100%|████| 890/890 [16:26<00:00,  1.11s/it, grad_norm=0.6588, loss=-0.9460]\n"
     ]
    },
    {
     "name": "stdout",
     "output_type": "stream",
     "text": [
      "run_1_lp1e-04_ep1e-06_lb0.001 Epoch 17/100 | Avg Loss: -0.8418, Avg Grad Norm: 3.6494, LR: 0.000005\n"
     ]
    },
    {
     "name": "stderr",
     "output_type": "stream",
     "text": [
      "run_1_lp1e-04_ep1e-06_lb0.001 Epoch 18/100: 100%|████| 890/890 [16:24<00:00,  1.11s/it, grad_norm=2.1494, loss=-0.9247]\n"
     ]
    },
    {
     "name": "stdout",
     "output_type": "stream",
     "text": [
      "run_1_lp1e-04_ep1e-06_lb0.001 Epoch 18/100 | Avg Loss: -0.8515, Avg Grad Norm: 3.6135, LR: 0.000005\n"
     ]
    },
    {
     "name": "stderr",
     "output_type": "stream",
     "text": [
      "run_1_lp1e-04_ep1e-06_lb0.001 Epoch 19/100: 100%|████| 890/890 [16:24<00:00,  1.11s/it, grad_norm=7.5865, loss=-0.8089]\n"
     ]
    },
    {
     "name": "stdout",
     "output_type": "stream",
     "text": [
      "run_1_lp1e-04_ep1e-06_lb0.001 Epoch 19/100 | Avg Loss: -0.8511, Avg Grad Norm: 3.5935, LR: 0.000005\n"
     ]
    },
    {
     "name": "stderr",
     "output_type": "stream",
     "text": [
      "run_1_lp1e-04_ep1e-06_lb0.001 Epoch 20/100: 100%|████| 890/890 [16:14<00:00,  1.09s/it, grad_norm=0.1889, loss=-0.9644]\n"
     ]
    },
    {
     "name": "stdout",
     "output_type": "stream",
     "text": [
      "run_1_lp1e-04_ep1e-06_lb0.001 Epoch 20/100 | Avg Loss: -0.8511, Avg Grad Norm: 3.8375, LR: 0.000005\n",
      "Checkpoint saved at 'audiotwin_checkpoints_medium\\run_1_lp1e-04_ep1e-06_lb0.001\\audiotwin_pestlarvanet_medium_epoch_20.pth'\n"
     ]
    },
    {
     "name": "stderr",
     "output_type": "stream",
     "text": [
      "run_1_lp1e-04_ep1e-06_lb0.001 Epoch 21/100: 100%|███| 890/890 [16:21<00:00,  1.10s/it, grad_norm=25.5786, loss=-0.7849]\n"
     ]
    },
    {
     "name": "stdout",
     "output_type": "stream",
     "text": [
      "run_1_lp1e-04_ep1e-06_lb0.001 Epoch 21/100 | Avg Loss: -0.8618, Avg Grad Norm: 3.5922, LR: 0.000005\n"
     ]
    },
    {
     "name": "stderr",
     "output_type": "stream",
     "text": [
      "run_1_lp1e-04_ep1e-06_lb0.001 Epoch 22/100: 100%|████| 890/890 [16:23<00:00,  1.11s/it, grad_norm=1.1083, loss=-0.9460]\n"
     ]
    },
    {
     "name": "stdout",
     "output_type": "stream",
     "text": [
      "run_1_lp1e-04_ep1e-06_lb0.001 Epoch 22/100 | Avg Loss: -0.8689, Avg Grad Norm: 3.6021, LR: 0.000005\n"
     ]
    },
    {
     "name": "stderr",
     "output_type": "stream",
     "text": [
      "run_1_lp1e-04_ep1e-06_lb0.001 Epoch 23/100: 100%|████| 890/890 [16:17<00:00,  1.10s/it, grad_norm=2.4008, loss=-0.9217]\n"
     ]
    },
    {
     "name": "stdout",
     "output_type": "stream",
     "text": [
      "run_1_lp1e-04_ep1e-06_lb0.001 Epoch 23/100 | Avg Loss: -0.8664, Avg Grad Norm: 3.6594, LR: 0.000005\n"
     ]
    },
    {
     "name": "stderr",
     "output_type": "stream",
     "text": [
      "run_1_lp1e-04_ep1e-06_lb0.001 Epoch 24/100: 100%|███| 890/890 [16:20<00:00,  1.10s/it, grad_norm=16.0112, loss=-0.6794]\n"
     ]
    },
    {
     "name": "stdout",
     "output_type": "stream",
     "text": [
      "run_1_lp1e-04_ep1e-06_lb0.001 Epoch 24/100 | Avg Loss: -0.8735, Avg Grad Norm: 3.5219, LR: 0.000005\n"
     ]
    },
    {
     "name": "stderr",
     "output_type": "stream",
     "text": [
      "run_1_lp1e-04_ep1e-06_lb0.001 Epoch 25/100: 100%|████| 890/890 [16:21<00:00,  1.10s/it, grad_norm=0.4140, loss=-0.9600]\n"
     ]
    },
    {
     "name": "stdout",
     "output_type": "stream",
     "text": [
      "run_1_lp1e-04_ep1e-06_lb0.001 Epoch 25/100 | Avg Loss: -0.8703, Avg Grad Norm: 3.6147, LR: 0.000005\n",
      "Checkpoint saved at 'audiotwin_checkpoints_medium\\run_1_lp1e-04_ep1e-06_lb0.001\\audiotwin_pestlarvanet_medium_epoch_25.pth'\n"
     ]
    },
    {
     "name": "stderr",
     "output_type": "stream",
     "text": [
      "run_1_lp1e-04_ep1e-06_lb0.001 Epoch 26/100: 100%|████| 890/890 [16:18<00:00,  1.10s/it, grad_norm=8.5362, loss=-0.5345]\n"
     ]
    },
    {
     "name": "stdout",
     "output_type": "stream",
     "text": [
      "run_1_lp1e-04_ep1e-06_lb0.001 Epoch 26/100 | Avg Loss: -0.8762, Avg Grad Norm: 3.4691, LR: 0.000005\n"
     ]
    },
    {
     "name": "stderr",
     "output_type": "stream",
     "text": [
      "run_1_lp1e-04_ep1e-06_lb0.001 Epoch 27/100: 100%|███| 890/890 [16:22<00:00,  1.10s/it, grad_norm=17.6005, loss=-0.8015]\n"
     ]
    },
    {
     "name": "stdout",
     "output_type": "stream",
     "text": [
      "run_1_lp1e-04_ep1e-06_lb0.001 Epoch 27/100 | Avg Loss: -0.8791, Avg Grad Norm: 3.4265, LR: 0.000005\n"
     ]
    },
    {
     "name": "stderr",
     "output_type": "stream",
     "text": [
      "run_1_lp1e-04_ep1e-06_lb0.001 Epoch 28/100: 100%|████| 890/890 [16:18<00:00,  1.10s/it, grad_norm=0.7684, loss=-0.9549]\n"
     ]
    },
    {
     "name": "stdout",
     "output_type": "stream",
     "text": [
      "run_1_lp1e-04_ep1e-06_lb0.001 Epoch 28/100 | Avg Loss: -0.8803, Avg Grad Norm: 3.4187, LR: 0.000005\n"
     ]
    },
    {
     "name": "stderr",
     "output_type": "stream",
     "text": [
      "run_1_lp1e-04_ep1e-06_lb0.001 Epoch 29/100: 100%|████| 890/890 [16:14<00:00,  1.10s/it, grad_norm=2.3541, loss=-0.9490]\n"
     ]
    },
    {
     "name": "stdout",
     "output_type": "stream",
     "text": [
      "run_1_lp1e-04_ep1e-06_lb0.001 Epoch 29/100 | Avg Loss: -0.8920, Avg Grad Norm: 3.1576, LR: 0.000005\n"
     ]
    },
    {
     "name": "stderr",
     "output_type": "stream",
     "text": [
      "run_1_lp1e-04_ep1e-06_lb0.001 Epoch 30/100: 100%|████| 890/890 [16:23<00:00,  1.11s/it, grad_norm=1.8971, loss=-0.9341]\n"
     ]
    },
    {
     "name": "stdout",
     "output_type": "stream",
     "text": [
      "run_1_lp1e-04_ep1e-06_lb0.001 Epoch 30/100 | Avg Loss: -0.8791, Avg Grad Norm: 3.5321, LR: 0.000005\n",
      "Checkpoint saved at 'audiotwin_checkpoints_medium\\run_1_lp1e-04_ep1e-06_lb0.001\\audiotwin_pestlarvanet_medium_epoch_30.pth'\n"
     ]
    },
    {
     "name": "stderr",
     "output_type": "stream",
     "text": [
      "run_1_lp1e-04_ep1e-06_lb0.001 Epoch 31/100: 100%|████| 890/890 [16:31<00:00,  1.11s/it, grad_norm=7.8680, loss=-0.8845]\n"
     ]
    },
    {
     "name": "stdout",
     "output_type": "stream",
     "text": [
      "run_1_lp1e-04_ep1e-06_lb0.001 Epoch 31/100 | Avg Loss: -0.8914, Avg Grad Norm: 3.2336, LR: 0.000005\n"
     ]
    },
    {
     "name": "stderr",
     "output_type": "stream",
     "text": [
      "run_1_lp1e-04_ep1e-06_lb0.001 Epoch 32/100: 100%|████| 890/890 [16:23<00:00,  1.11s/it, grad_norm=2.7777, loss=-0.9476]\n"
     ]
    },
    {
     "name": "stdout",
     "output_type": "stream",
     "text": [
      "run_1_lp1e-04_ep1e-06_lb0.001 Epoch 32/100 | Avg Loss: -0.8820, Avg Grad Norm: 3.3649, LR: 0.000005\n"
     ]
    },
    {
     "name": "stderr",
     "output_type": "stream",
     "text": [
      "run_1_lp1e-04_ep1e-06_lb0.001 Epoch 33/100: 100%|████| 890/890 [16:20<00:00,  1.10s/it, grad_norm=5.5539, loss=-0.5138]\n"
     ]
    },
    {
     "name": "stdout",
     "output_type": "stream",
     "text": [
      "run_1_lp1e-04_ep1e-06_lb0.001 Epoch 33/100 | Avg Loss: -0.8937, Avg Grad Norm: 3.1898, LR: 0.000005\n"
     ]
    },
    {
     "name": "stderr",
     "output_type": "stream",
     "text": [
      "run_1_lp1e-04_ep1e-06_lb0.001 Epoch 34/100: 100%|████| 890/890 [16:20<00:00,  1.10s/it, grad_norm=1.1766, loss=-0.9524]\n"
     ]
    },
    {
     "name": "stdout",
     "output_type": "stream",
     "text": [
      "run_1_lp1e-04_ep1e-06_lb0.001 Epoch 34/100 | Avg Loss: -0.8855, Avg Grad Norm: 3.2724, LR: 0.000005\n"
     ]
    },
    {
     "name": "stderr",
     "output_type": "stream",
     "text": [
      "run_1_lp1e-04_ep1e-06_lb0.001 Epoch 35/100: 100%|████| 890/890 [16:19<00:00,  1.10s/it, grad_norm=7.3037, loss=-0.8951]\n"
     ]
    },
    {
     "name": "stdout",
     "output_type": "stream",
     "text": [
      "run_1_lp1e-04_ep1e-06_lb0.001 Epoch 35/100 | Avg Loss: -0.8879, Avg Grad Norm: 3.3640, LR: 0.000005\n",
      "Checkpoint saved at 'audiotwin_checkpoints_medium\\run_1_lp1e-04_ep1e-06_lb0.001\\audiotwin_pestlarvanet_medium_epoch_35.pth'\n"
     ]
    },
    {
     "name": "stderr",
     "output_type": "stream",
     "text": [
      "run_1_lp1e-04_ep1e-06_lb0.001 Epoch 36/100: 100%|███| 890/890 [16:17<00:00,  1.10s/it, grad_norm=11.5980, loss=-0.5111]\n"
     ]
    },
    {
     "name": "stdout",
     "output_type": "stream",
     "text": [
      "run_1_lp1e-04_ep1e-06_lb0.001 Epoch 36/100 | Avg Loss: -0.8962, Avg Grad Norm: 3.0710, LR: 0.000005\n"
     ]
    },
    {
     "name": "stderr",
     "output_type": "stream",
     "text": [
      "run_1_lp1e-04_ep1e-06_lb0.001 Epoch 37/100: 100%|████| 890/890 [16:24<00:00,  1.11s/it, grad_norm=0.3307, loss=-0.9649]\n"
     ]
    },
    {
     "name": "stdout",
     "output_type": "stream",
     "text": [
      "run_1_lp1e-04_ep1e-06_lb0.001 Epoch 37/100 | Avg Loss: -0.8981, Avg Grad Norm: 3.1033, LR: 0.000005\n"
     ]
    },
    {
     "name": "stderr",
     "output_type": "stream",
     "text": [
      "run_1_lp1e-04_ep1e-06_lb0.001 Epoch 38/100: 100%|███| 890/890 [16:26<00:00,  1.11s/it, grad_norm=30.1792, loss=-0.3159]\n"
     ]
    },
    {
     "name": "stdout",
     "output_type": "stream",
     "text": [
      "run_1_lp1e-04_ep1e-06_lb0.001 Epoch 38/100 | Avg Loss: -0.8953, Avg Grad Norm: 3.2406, LR: 0.000005\n"
     ]
    },
    {
     "name": "stderr",
     "output_type": "stream",
     "text": [
      "run_1_lp1e-04_ep1e-06_lb0.001 Epoch 39/100: 100%|████| 890/890 [16:15<00:00,  1.10s/it, grad_norm=9.7242, loss=-0.1165]\n"
     ]
    },
    {
     "name": "stdout",
     "output_type": "stream",
     "text": [
      "run_1_lp1e-04_ep1e-06_lb0.001 Epoch 39/100 | Avg Loss: -0.9006, Avg Grad Norm: 3.0620, LR: 0.000005\n"
     ]
    },
    {
     "name": "stderr",
     "output_type": "stream",
     "text": [
      "run_1_lp1e-04_ep1e-06_lb0.001 Epoch 40/100: 100%|████| 890/890 [16:23<00:00,  1.10s/it, grad_norm=0.1204, loss=-0.9694]\n"
     ]
    },
    {
     "name": "stdout",
     "output_type": "stream",
     "text": [
      "run_1_lp1e-04_ep1e-06_lb0.001 Epoch 40/100 | Avg Loss: -0.9032, Avg Grad Norm: 3.0215, LR: 0.000005\n",
      "Checkpoint saved at 'audiotwin_checkpoints_medium\\run_1_lp1e-04_ep1e-06_lb0.001\\audiotwin_pestlarvanet_medium_epoch_40.pth'\n"
     ]
    },
    {
     "name": "stderr",
     "output_type": "stream",
     "text": [
      "run_1_lp1e-04_ep1e-06_lb0.001 Epoch 41/100: 100%|███| 890/890 [16:27<00:00,  1.11s/it, grad_norm=19.7916, loss=-0.8699]\n"
     ]
    },
    {
     "name": "stdout",
     "output_type": "stream",
     "text": [
      "run_1_lp1e-04_ep1e-06_lb0.001 Epoch 41/100 | Avg Loss: -0.8937, Avg Grad Norm: 3.3305, LR: 0.000005\n"
     ]
    },
    {
     "name": "stderr",
     "output_type": "stream",
     "text": [
      "run_1_lp1e-04_ep1e-06_lb0.001 Epoch 42/100: 100%|████| 890/890 [16:19<00:00,  1.10s/it, grad_norm=9.3635, loss=-0.8519]\n"
     ]
    },
    {
     "name": "stdout",
     "output_type": "stream",
     "text": [
      "run_1_lp1e-04_ep1e-06_lb0.001 Epoch 42/100 | Avg Loss: -0.9072, Avg Grad Norm: 2.9970, LR: 0.000005\n"
     ]
    },
    {
     "name": "stderr",
     "output_type": "stream",
     "text": [
      "run_1_lp1e-04_ep1e-06_lb0.001 Epoch 43/100: 100%|████| 890/890 [16:32<00:00,  1.12s/it, grad_norm=2.1683, loss=-0.9450]\n"
     ]
    },
    {
     "name": "stdout",
     "output_type": "stream",
     "text": [
      "run_1_lp1e-04_ep1e-06_lb0.001 Epoch 43/100 | Avg Loss: -0.9014, Avg Grad Norm: 3.3099, LR: 0.000005\n"
     ]
    },
    {
     "name": "stderr",
     "output_type": "stream",
     "text": [
      "run_1_lp1e-04_ep1e-06_lb0.001 Epoch 44/100: 100%|████| 890/890 [16:15<00:00,  1.10s/it, grad_norm=0.3755, loss=-0.9685]\n"
     ]
    },
    {
     "name": "stdout",
     "output_type": "stream",
     "text": [
      "run_1_lp1e-04_ep1e-06_lb0.001 Epoch 44/100 | Avg Loss: -0.9033, Avg Grad Norm: 2.8985, LR: 0.000005\n"
     ]
    },
    {
     "name": "stderr",
     "output_type": "stream",
     "text": [
      "run_1_lp1e-04_ep1e-06_lb0.001 Epoch 45/100: 100%|███| 890/890 [16:18<00:00,  1.10s/it, grad_norm=12.4542, loss=-0.6353]\n"
     ]
    },
    {
     "name": "stdout",
     "output_type": "stream",
     "text": [
      "run_1_lp1e-04_ep1e-06_lb0.001 Epoch 45/100 | Avg Loss: -0.9055, Avg Grad Norm: 2.9302, LR: 0.000005\n",
      "Checkpoint saved at 'audiotwin_checkpoints_medium\\run_1_lp1e-04_ep1e-06_lb0.001\\audiotwin_pestlarvanet_medium_epoch_45.pth'\n"
     ]
    },
    {
     "name": "stderr",
     "output_type": "stream",
     "text": [
      "run_1_lp1e-04_ep1e-06_lb0.001 Epoch 46/100: 100%|████| 890/890 [16:18<00:00,  1.10s/it, grad_norm=0.4189, loss=-0.9667]\n"
     ]
    },
    {
     "name": "stdout",
     "output_type": "stream",
     "text": [
      "run_1_lp1e-04_ep1e-06_lb0.001 Epoch 46/100 | Avg Loss: -0.9007, Avg Grad Norm: 3.2361, LR: 0.000005\n"
     ]
    },
    {
     "name": "stderr",
     "output_type": "stream",
     "text": [
      "run_1_lp1e-04_ep1e-06_lb0.001 Epoch 47/100: 100%|███| 890/890 [16:12<00:00,  1.09s/it, grad_norm=12.4249, loss=-0.3899]\n"
     ]
    },
    {
     "name": "stdout",
     "output_type": "stream",
     "text": [
      "run_1_lp1e-04_ep1e-06_lb0.001 Epoch 47/100 | Avg Loss: -0.9080, Avg Grad Norm: 2.9339, LR: 0.000005\n"
     ]
    },
    {
     "name": "stderr",
     "output_type": "stream",
     "text": [
      "run_1_lp1e-04_ep1e-06_lb0.001 Epoch 48/100: 100%|████| 890/890 [16:19<00:00,  1.10s/it, grad_norm=2.3607, loss=-0.9379]\n"
     ]
    },
    {
     "name": "stdout",
     "output_type": "stream",
     "text": [
      "run_1_lp1e-04_ep1e-06_lb0.001 Epoch 48/100 | Avg Loss: -0.9038, Avg Grad Norm: 2.9356, LR: 0.000005\n"
     ]
    },
    {
     "name": "stderr",
     "output_type": "stream",
     "text": [
      "run_1_lp1e-04_ep1e-06_lb0.001 Epoch 49/100: 100%|████| 890/890 [16:15<00:00,  1.10s/it, grad_norm=9.9314, loss=-0.7115]\n"
     ]
    },
    {
     "name": "stdout",
     "output_type": "stream",
     "text": [
      "run_1_lp1e-04_ep1e-06_lb0.001 Epoch 49/100 | Avg Loss: -0.9067, Avg Grad Norm: 2.9136, LR: 0.000005\n"
     ]
    },
    {
     "name": "stderr",
     "output_type": "stream",
     "text": [
      "run_1_lp1e-04_ep1e-06_lb0.001 Epoch 50/100: 100%|████| 890/890 [16:18<00:00,  1.10s/it, grad_norm=9.6635, loss=-0.8346]\n"
     ]
    },
    {
     "name": "stdout",
     "output_type": "stream",
     "text": [
      "run_1_lp1e-04_ep1e-06_lb0.001 Epoch 50/100 | Avg Loss: -0.9041, Avg Grad Norm: 3.0484, LR: 0.000005\n",
      "Checkpoint saved at 'audiotwin_checkpoints_medium\\run_1_lp1e-04_ep1e-06_lb0.001\\audiotwin_pestlarvanet_medium_epoch_50.pth'\n"
     ]
    },
    {
     "name": "stderr",
     "output_type": "stream",
     "text": [
      "run_1_lp1e-04_ep1e-06_lb0.001 Epoch 51/100: 100%|████| 890/890 [16:19<00:00,  1.10s/it, grad_norm=0.1735, loss=-0.9713]\n"
     ]
    },
    {
     "name": "stdout",
     "output_type": "stream",
     "text": [
      "run_1_lp1e-04_ep1e-06_lb0.001 Epoch 51/100 | Avg Loss: -0.9022, Avg Grad Norm: 3.2945, LR: 0.000005\n"
     ]
    },
    {
     "name": "stderr",
     "output_type": "stream",
     "text": [
      "run_1_lp1e-04_ep1e-06_lb0.001 Epoch 52/100: 100%|████| 890/890 [16:44<00:00,  1.13s/it, grad_norm=3.2152, loss=-0.9486]\n"
     ]
    },
    {
     "name": "stdout",
     "output_type": "stream",
     "text": [
      "run_1_lp1e-04_ep1e-06_lb0.001 Epoch 52/100 | Avg Loss: -0.9079, Avg Grad Norm: 2.9050, LR: 0.000005\n"
     ]
    },
    {
     "name": "stderr",
     "output_type": "stream",
     "text": [
      "run_1_lp1e-04_ep1e-06_lb0.001 Epoch 53/100: 100%|████| 890/890 [18:09<00:00,  1.22s/it, grad_norm=0.0786, loss=-0.9702]\n"
     ]
    },
    {
     "name": "stdout",
     "output_type": "stream",
     "text": [
      "run_1_lp1e-04_ep1e-06_lb0.001 Epoch 53/100 | Avg Loss: -0.9078, Avg Grad Norm: 2.9548, LR: 0.000005\n"
     ]
    },
    {
     "name": "stderr",
     "output_type": "stream",
     "text": [
      "run_1_lp1e-04_ep1e-06_lb0.001 Epoch 54/100: 100%|███| 890/890 [19:57<00:00,  1.35s/it, grad_norm=21.8163, loss=-0.8425]\n"
     ]
    },
    {
     "name": "stdout",
     "output_type": "stream",
     "text": [
      "run_1_lp1e-04_ep1e-06_lb0.001 Epoch 54/100 | Avg Loss: -0.9125, Avg Grad Norm: 2.7943, LR: 0.000001\n"
     ]
    },
    {
     "name": "stderr",
     "output_type": "stream",
     "text": [
      "run_1_lp1e-04_ep1e-06_lb0.001 Epoch 55/100: 100%|████| 890/890 [17:42<00:00,  1.19s/it, grad_norm=1.2596, loss=-0.9593]\n"
     ]
    },
    {
     "name": "stdout",
     "output_type": "stream",
     "text": [
      "run_1_lp1e-04_ep1e-06_lb0.001 Epoch 55/100 | Avg Loss: -0.9131, Avg Grad Norm: 2.8572, LR: 0.000001\n",
      "Checkpoint saved at 'audiotwin_checkpoints_medium\\run_1_lp1e-04_ep1e-06_lb0.001\\audiotwin_pestlarvanet_medium_epoch_55.pth'\n"
     ]
    },
    {
     "name": "stderr",
     "output_type": "stream",
     "text": [
      "run_1_lp1e-04_ep1e-06_lb0.001 Epoch 56/100: 100%|████| 890/890 [17:50<00:00,  1.20s/it, grad_norm=6.4531, loss=-0.9062]\n"
     ]
    },
    {
     "name": "stdout",
     "output_type": "stream",
     "text": [
      "run_1_lp1e-04_ep1e-06_lb0.001 Epoch 56/100 | Avg Loss: -0.9155, Avg Grad Norm: 2.7634, LR: 0.000001\n"
     ]
    },
    {
     "name": "stderr",
     "output_type": "stream",
     "text": [
      "run_1_lp1e-04_ep1e-06_lb0.001 Epoch 57/100: 100%|███| 890/890 [18:06<00:00,  1.22s/it, grad_norm=11.1571, loss=-0.7990]\n"
     ]
    },
    {
     "name": "stdout",
     "output_type": "stream",
     "text": [
      "run_1_lp1e-04_ep1e-06_lb0.001 Epoch 57/100 | Avg Loss: -0.9126, Avg Grad Norm: 2.8195, LR: 0.000001\n"
     ]
    },
    {
     "name": "stderr",
     "output_type": "stream",
     "text": [
      "run_1_lp1e-04_ep1e-06_lb0.001 Epoch 58/100: 100%|████| 890/890 [17:35<00:00,  1.19s/it, grad_norm=3.5793, loss=-0.9299]\n"
     ]
    },
    {
     "name": "stdout",
     "output_type": "stream",
     "text": [
      "run_1_lp1e-04_ep1e-06_lb0.001 Epoch 58/100 | Avg Loss: -0.9043, Avg Grad Norm: 3.0505, LR: 0.000001\n"
     ]
    },
    {
     "name": "stderr",
     "output_type": "stream",
     "text": [
      "run_1_lp1e-04_ep1e-06_lb0.001 Epoch 59/100: 100%|████| 890/890 [18:27<00:00,  1.24s/it, grad_norm=1.5319, loss=-0.9490]\n"
     ]
    },
    {
     "name": "stdout",
     "output_type": "stream",
     "text": [
      "run_1_lp1e-04_ep1e-06_lb0.001 Epoch 59/100 | Avg Loss: -0.9141, Avg Grad Norm: 2.7986, LR: 0.000001\n"
     ]
    },
    {
     "name": "stderr",
     "output_type": "stream",
     "text": [
      "run_1_lp1e-04_ep1e-06_lb0.001 Epoch 60/100: 100%|███| 890/890 [20:04<00:00,  1.35s/it, grad_norm=11.7939, loss=-0.5070]\n"
     ]
    },
    {
     "name": "stdout",
     "output_type": "stream",
     "text": [
      "run_1_lp1e-04_ep1e-06_lb0.001 Epoch 60/100 | Avg Loss: -0.9098, Avg Grad Norm: 3.0205, LR: 0.000001\n",
      "Checkpoint saved at 'audiotwin_checkpoints_medium\\run_1_lp1e-04_ep1e-06_lb0.001\\audiotwin_pestlarvanet_medium_epoch_60.pth'\n"
     ]
    },
    {
     "name": "stderr",
     "output_type": "stream",
     "text": [
      "run_1_lp1e-04_ep1e-06_lb0.001 Epoch 61/100: 100%|████| 890/890 [17:52<00:00,  1.21s/it, grad_norm=6.8643, loss=-0.8578]\n"
     ]
    },
    {
     "name": "stdout",
     "output_type": "stream",
     "text": [
      "run_1_lp1e-04_ep1e-06_lb0.001 Epoch 61/100 | Avg Loss: -0.9104, Avg Grad Norm: 3.0217, LR: 0.000001\n"
     ]
    },
    {
     "name": "stderr",
     "output_type": "stream",
     "text": [
      "run_1_lp1e-04_ep1e-06_lb0.001 Epoch 62/100: 100%|████| 890/890 [17:47<00:00,  1.20s/it, grad_norm=0.2199, loss=-0.9727]\n"
     ]
    },
    {
     "name": "stdout",
     "output_type": "stream",
     "text": [
      "run_1_lp1e-04_ep1e-06_lb0.001 Epoch 62/100 | Avg Loss: -0.9131, Avg Grad Norm: 2.8448, LR: 0.000001\n"
     ]
    },
    {
     "name": "stderr",
     "output_type": "stream",
     "text": [
      "run_1_lp1e-04_ep1e-06_lb0.001 Epoch 63/100: 100%|███| 890/890 [18:07<00:00,  1.22s/it, grad_norm=12.3245, loss=-0.3837]\n"
     ]
    },
    {
     "name": "stdout",
     "output_type": "stream",
     "text": [
      "run_1_lp1e-04_ep1e-06_lb0.001 Epoch 63/100 | Avg Loss: -0.9085, Avg Grad Norm: 3.0595, LR: 0.000000\n"
     ]
    },
    {
     "name": "stderr",
     "output_type": "stream",
     "text": [
      "run_1_lp1e-04_ep1e-06_lb0.001 Epoch 64/100: 100%|████| 890/890 [17:40<00:00,  1.19s/it, grad_norm=6.4478, loss=-0.4643]\n"
     ]
    },
    {
     "name": "stdout",
     "output_type": "stream",
     "text": [
      "run_1_lp1e-04_ep1e-06_lb0.001 Epoch 64/100 | Avg Loss: -0.9138, Avg Grad Norm: 2.8711, LR: 0.000000\n"
     ]
    },
    {
     "name": "stderr",
     "output_type": "stream",
     "text": [
      "run_1_lp1e-04_ep1e-06_lb0.001 Epoch 65/100: 100%|████| 890/890 [17:45<00:00,  1.20s/it, grad_norm=2.9463, loss=-0.9302]\n"
     ]
    },
    {
     "name": "stdout",
     "output_type": "stream",
     "text": [
      "run_1_lp1e-04_ep1e-06_lb0.001 Epoch 65/100 | Avg Loss: -0.9099, Avg Grad Norm: 2.8217, LR: 0.000000\n",
      "Checkpoint saved at 'audiotwin_checkpoints_medium\\run_1_lp1e-04_ep1e-06_lb0.001\\audiotwin_pestlarvanet_medium_epoch_65.pth'\n"
     ]
    },
    {
     "name": "stderr",
     "output_type": "stream",
     "text": [
      "run_1_lp1e-04_ep1e-06_lb0.001 Epoch 66/100: 100%|████| 890/890 [17:44<00:00,  1.20s/it, grad_norm=0.5580, loss=-0.9594]\n"
     ]
    },
    {
     "name": "stdout",
     "output_type": "stream",
     "text": [
      "run_1_lp1e-04_ep1e-06_lb0.001 Epoch 66/100 | Avg Loss: -0.9104, Avg Grad Norm: 2.8598, LR: 0.000000\n"
     ]
    },
    {
     "name": "stderr",
     "output_type": "stream",
     "text": [
      "run_1_lp1e-04_ep1e-06_lb0.001 Epoch 67/100: 100%|███| 890/890 [18:01<00:00,  1.21s/it, grad_norm=14.6754, loss=-0.8632]\n"
     ]
    },
    {
     "name": "stdout",
     "output_type": "stream",
     "text": [
      "run_1_lp1e-04_ep1e-06_lb0.001 Epoch 67/100 | Avg Loss: -0.9170, Avg Grad Norm: 2.8086, LR: 0.000000\n"
     ]
    },
    {
     "name": "stderr",
     "output_type": "stream",
     "text": [
      "run_1_lp1e-04_ep1e-06_lb0.001 Epoch 68/100: 100%|████| 890/890 [17:45<00:00,  1.20s/it, grad_norm=1.8946, loss=-0.9611]\n"
     ]
    },
    {
     "name": "stdout",
     "output_type": "stream",
     "text": [
      "run_1_lp1e-04_ep1e-06_lb0.001 Epoch 68/100 | Avg Loss: -0.9042, Avg Grad Norm: 3.0037, LR: 0.000000\n"
     ]
    },
    {
     "name": "stderr",
     "output_type": "stream",
     "text": [
      "run_1_lp1e-04_ep1e-06_lb0.001 Epoch 69/100: 100%|████| 890/890 [17:31<00:00,  1.18s/it, grad_norm=0.1204, loss=-0.9701]\n"
     ]
    },
    {
     "name": "stdout",
     "output_type": "stream",
     "text": [
      "run_1_lp1e-04_ep1e-06_lb0.001 Epoch 69/100 | Avg Loss: -0.9127, Avg Grad Norm: 2.9530, LR: 0.000000\n"
     ]
    },
    {
     "name": "stderr",
     "output_type": "stream",
     "text": [
      "run_1_lp1e-04_ep1e-06_lb0.001 Epoch 70/100: 100%|████| 890/890 [17:56<00:00,  1.21s/it, grad_norm=0.7944, loss=-0.9675]\n"
     ]
    },
    {
     "name": "stdout",
     "output_type": "stream",
     "text": [
      "run_1_lp1e-04_ep1e-06_lb0.001 Epoch 70/100 | Avg Loss: -0.9111, Avg Grad Norm: 2.9950, LR: 0.000000\n",
      "Checkpoint saved at 'audiotwin_checkpoints_medium\\run_1_lp1e-04_ep1e-06_lb0.001\\audiotwin_pestlarvanet_medium_epoch_70.pth'\n"
     ]
    },
    {
     "name": "stderr",
     "output_type": "stream",
     "text": [
      "run_1_lp1e-04_ep1e-06_lb0.001 Epoch 71/100: 100%|████| 890/890 [17:48<00:00,  1.20s/it, grad_norm=0.7790, loss=-0.9686]\n"
     ]
    },
    {
     "name": "stdout",
     "output_type": "stream",
     "text": [
      "run_1_lp1e-04_ep1e-06_lb0.001 Epoch 71/100 | Avg Loss: -0.9088, Avg Grad Norm: 3.0298, LR: 0.000000\n"
     ]
    },
    {
     "name": "stderr",
     "output_type": "stream",
     "text": [
      "run_1_lp1e-04_ep1e-06_lb0.001 Epoch 72/100: 100%|███| 890/890 [17:52<00:00,  1.21s/it, grad_norm=11.1644, loss=-0.6770]\n"
     ]
    },
    {
     "name": "stdout",
     "output_type": "stream",
     "text": [
      "run_1_lp1e-04_ep1e-06_lb0.001 Epoch 72/100 | Avg Loss: -0.9118, Avg Grad Norm: 2.8295, LR: 0.000000\n"
     ]
    },
    {
     "name": "stderr",
     "output_type": "stream",
     "text": [
      "run_1_lp1e-04_ep1e-06_lb0.001 Epoch 73/100: 100%|████| 890/890 [17:51<00:00,  1.20s/it, grad_norm=3.8955, loss=-0.9467]\n"
     ]
    },
    {
     "name": "stdout",
     "output_type": "stream",
     "text": [
      "run_1_lp1e-04_ep1e-06_lb0.001 Epoch 73/100 | Avg Loss: -0.9123, Avg Grad Norm: 2.9939, LR: 0.000000\n"
     ]
    },
    {
     "name": "stderr",
     "output_type": "stream",
     "text": [
      "run_1_lp1e-04_ep1e-06_lb0.001 Epoch 74/100: 100%|████| 890/890 [17:27<00:00,  1.18s/it, grad_norm=6.5159, loss=-0.3168]\n"
     ]
    },
    {
     "name": "stdout",
     "output_type": "stream",
     "text": [
      "run_1_lp1e-04_ep1e-06_lb0.001 Epoch 74/100 | Avg Loss: -0.9115, Avg Grad Norm: 2.9305, LR: 0.000000\n"
     ]
    },
    {
     "name": "stderr",
     "output_type": "stream",
     "text": [
      "run_1_lp1e-04_ep1e-06_lb0.001 Epoch 75/100: 100%|████| 890/890 [18:01<00:00,  1.21s/it, grad_norm=2.3370, loss=-0.9563]\n"
     ]
    },
    {
     "name": "stdout",
     "output_type": "stream",
     "text": [
      "run_1_lp1e-04_ep1e-06_lb0.001 Epoch 75/100 | Avg Loss: -0.9146, Avg Grad Norm: 2.9001, LR: 0.000000\n",
      "Checkpoint saved at 'audiotwin_checkpoints_medium\\run_1_lp1e-04_ep1e-06_lb0.001\\audiotwin_pestlarvanet_medium_epoch_75.pth'\n"
     ]
    },
    {
     "name": "stderr",
     "output_type": "stream",
     "text": [
      "run_1_lp1e-04_ep1e-06_lb0.001 Epoch 76/100: 100%|████| 890/890 [17:54<00:00,  1.21s/it, grad_norm=0.3545, loss=-0.9714]\n"
     ]
    },
    {
     "name": "stdout",
     "output_type": "stream",
     "text": [
      "run_1_lp1e-04_ep1e-06_lb0.001 Epoch 76/100 | Avg Loss: -0.9129, Avg Grad Norm: 2.9339, LR: 0.000000\n"
     ]
    },
    {
     "name": "stderr",
     "output_type": "stream",
     "text": [
      "run_1_lp1e-04_ep1e-06_lb0.001 Epoch 77/100: 100%|███| 890/890 [17:37<00:00,  1.19s/it, grad_norm=40.3642, loss=-0.7502]\n"
     ]
    },
    {
     "name": "stdout",
     "output_type": "stream",
     "text": [
      "run_1_lp1e-04_ep1e-06_lb0.001 Epoch 77/100 | Avg Loss: -0.9129, Avg Grad Norm: 2.8979, LR: 0.000000\n"
     ]
    },
    {
     "name": "stderr",
     "output_type": "stream",
     "text": [
      "run_1_lp1e-04_ep1e-06_lb0.001 Epoch 78/100: 100%|████| 890/890 [18:04<00:00,  1.22s/it, grad_norm=4.2676, loss=-0.9141]\n"
     ]
    },
    {
     "name": "stdout",
     "output_type": "stream",
     "text": [
      "run_1_lp1e-04_ep1e-06_lb0.001 Epoch 78/100 | Avg Loss: -0.9151, Avg Grad Norm: 2.7180, LR: 0.000000\n"
     ]
    },
    {
     "name": "stderr",
     "output_type": "stream",
     "text": [
      "run_1_lp1e-04_ep1e-06_lb0.001 Epoch 79/100: 100%|████| 890/890 [17:47<00:00,  1.20s/it, grad_norm=7.7496, loss=-0.3190]\n"
     ]
    },
    {
     "name": "stdout",
     "output_type": "stream",
     "text": [
      "run_1_lp1e-04_ep1e-06_lb0.001 Epoch 79/100 | Avg Loss: -0.9162, Avg Grad Norm: 2.8039, LR: 0.000000\n"
     ]
    },
    {
     "name": "stderr",
     "output_type": "stream",
     "text": [
      "run_1_lp1e-04_ep1e-06_lb0.001 Epoch 80/100: 100%|████| 890/890 [17:43<00:00,  1.19s/it, grad_norm=6.0590, loss=-0.8819]\n"
     ]
    },
    {
     "name": "stdout",
     "output_type": "stream",
     "text": [
      "run_1_lp1e-04_ep1e-06_lb0.001 Epoch 80/100 | Avg Loss: -0.9121, Avg Grad Norm: 2.9474, LR: 0.000000\n",
      "Checkpoint saved at 'audiotwin_checkpoints_medium\\run_1_lp1e-04_ep1e-06_lb0.001\\audiotwin_pestlarvanet_medium_epoch_80.pth'\n"
     ]
    },
    {
     "name": "stderr",
     "output_type": "stream",
     "text": [
      "run_1_lp1e-04_ep1e-06_lb0.001 Epoch 81/100: 100%|████| 890/890 [17:47<00:00,  1.20s/it, grad_norm=0.3311, loss=-0.9656]\n"
     ]
    },
    {
     "name": "stdout",
     "output_type": "stream",
     "text": [
      "run_1_lp1e-04_ep1e-06_lb0.001 Epoch 81/100 | Avg Loss: -0.9115, Avg Grad Norm: 2.7943, LR: 0.000000\n"
     ]
    },
    {
     "name": "stderr",
     "output_type": "stream",
     "text": [
      "run_1_lp1e-04_ep1e-06_lb0.001 Epoch 82/100: 100%|████| 890/890 [17:44<00:00,  1.20s/it, grad_norm=0.4934, loss=-0.9668]\n"
     ]
    },
    {
     "name": "stdout",
     "output_type": "stream",
     "text": [
      "run_1_lp1e-04_ep1e-06_lb0.001 Epoch 82/100 | Avg Loss: -0.9115, Avg Grad Norm: 3.0585, LR: 0.000000\n"
     ]
    },
    {
     "name": "stderr",
     "output_type": "stream",
     "text": [
      "run_1_lp1e-04_ep1e-06_lb0.001 Epoch 83/100: 100%|████| 890/890 [17:58<00:00,  1.21s/it, grad_norm=0.5988, loss=-0.9677]\n"
     ]
    },
    {
     "name": "stdout",
     "output_type": "stream",
     "text": [
      "run_1_lp1e-04_ep1e-06_lb0.001 Epoch 83/100 | Avg Loss: -0.9144, Avg Grad Norm: 2.7506, LR: 0.000000\n"
     ]
    },
    {
     "name": "stderr",
     "output_type": "stream",
     "text": [
      "run_1_lp1e-04_ep1e-06_lb0.001 Epoch 84/100: 100%|████| 890/890 [17:54<00:00,  1.21s/it, grad_norm=6.1021, loss=-0.9130]\n"
     ]
    },
    {
     "name": "stdout",
     "output_type": "stream",
     "text": [
      "run_1_lp1e-04_ep1e-06_lb0.001 Epoch 84/100 | Avg Loss: -0.9114, Avg Grad Norm: 2.8962, LR: 0.000000\n"
     ]
    },
    {
     "name": "stderr",
     "output_type": "stream",
     "text": [
      "run_1_lp1e-04_ep1e-06_lb0.001 Epoch 85/100: 100%|████| 890/890 [18:16<00:00,  1.23s/it, grad_norm=9.2589, loss=-0.4205]\n"
     ]
    },
    {
     "name": "stdout",
     "output_type": "stream",
     "text": [
      "run_1_lp1e-04_ep1e-06_lb0.001 Epoch 85/100 | Avg Loss: -0.9112, Avg Grad Norm: 2.9326, LR: 0.000000\n",
      "Checkpoint saved at 'audiotwin_checkpoints_medium\\run_1_lp1e-04_ep1e-06_lb0.001\\audiotwin_pestlarvanet_medium_epoch_85.pth'\n"
     ]
    },
    {
     "name": "stderr",
     "output_type": "stream",
     "text": [
      "run_1_lp1e-04_ep1e-06_lb0.001 Epoch 86/100: 100%|████| 890/890 [20:12<00:00,  1.36s/it, grad_norm=0.3775, loss=-0.9684]\n"
     ]
    },
    {
     "name": "stdout",
     "output_type": "stream",
     "text": [
      "run_1_lp1e-04_ep1e-06_lb0.001 Epoch 86/100 | Avg Loss: -0.9193, Avg Grad Norm: 2.6542, LR: 0.000000\n"
     ]
    },
    {
     "name": "stderr",
     "output_type": "stream",
     "text": [
      "run_1_lp1e-04_ep1e-06_lb0.001 Epoch 87/100: 100%|███| 890/890 [17:40<00:00,  1.19s/it, grad_norm=12.7062, loss=-0.9056]\n"
     ]
    },
    {
     "name": "stdout",
     "output_type": "stream",
     "text": [
      "run_1_lp1e-04_ep1e-06_lb0.001 Epoch 87/100 | Avg Loss: -0.9069, Avg Grad Norm: 3.0581, LR: 0.000000\n"
     ]
    },
    {
     "name": "stderr",
     "output_type": "stream",
     "text": [
      "run_1_lp1e-04_ep1e-06_lb0.001 Epoch 88/100: 100%|███| 890/890 [17:37<00:00,  1.19s/it, grad_norm=10.5056, loss=-0.4533]\n"
     ]
    },
    {
     "name": "stdout",
     "output_type": "stream",
     "text": [
      "run_1_lp1e-04_ep1e-06_lb0.001 Epoch 88/100 | Avg Loss: -0.9118, Avg Grad Norm: 2.8615, LR: 0.000000\n"
     ]
    },
    {
     "name": "stderr",
     "output_type": "stream",
     "text": [
      "run_1_lp1e-04_ep1e-06_lb0.001 Epoch 89/100: 100%|████| 890/890 [17:48<00:00,  1.20s/it, grad_norm=1.1055, loss=-0.9557]\n"
     ]
    },
    {
     "name": "stdout",
     "output_type": "stream",
     "text": [
      "run_1_lp1e-04_ep1e-06_lb0.001 Epoch 89/100 | Avg Loss: -0.9097, Avg Grad Norm: 3.1470, LR: 0.000000\n"
     ]
    },
    {
     "name": "stderr",
     "output_type": "stream",
     "text": [
      "run_1_lp1e-04_ep1e-06_lb0.001 Epoch 90/100: 100%|████| 890/890 [17:45<00:00,  1.20s/it, grad_norm=2.4502, loss=-0.9336]\n"
     ]
    },
    {
     "name": "stdout",
     "output_type": "stream",
     "text": [
      "run_1_lp1e-04_ep1e-06_lb0.001 Epoch 90/100 | Avg Loss: -0.9135, Avg Grad Norm: 2.8345, LR: 0.000000\n",
      "Checkpoint saved at 'audiotwin_checkpoints_medium\\run_1_lp1e-04_ep1e-06_lb0.001\\audiotwin_pestlarvanet_medium_epoch_90.pth'\n"
     ]
    },
    {
     "name": "stderr",
     "output_type": "stream",
     "text": [
      "run_1_lp1e-04_ep1e-06_lb0.001 Epoch 91/100: 100%|████| 890/890 [17:52<00:00,  1.21s/it, grad_norm=1.5011, loss=-0.9523]\n"
     ]
    },
    {
     "name": "stdout",
     "output_type": "stream",
     "text": [
      "run_1_lp1e-04_ep1e-06_lb0.001 Epoch 91/100 | Avg Loss: -0.9139, Avg Grad Norm: 2.9115, LR: 0.000000\n"
     ]
    },
    {
     "name": "stderr",
     "output_type": "stream",
     "text": [
      "run_1_lp1e-04_ep1e-06_lb0.001 Epoch 92/100: 100%|████| 890/890 [17:57<00:00,  1.21s/it, grad_norm=0.0715, loss=-0.9719]\n"
     ]
    },
    {
     "name": "stdout",
     "output_type": "stream",
     "text": [
      "run_1_lp1e-04_ep1e-06_lb0.001 Epoch 92/100 | Avg Loss: -0.9168, Avg Grad Norm: 2.7729, LR: 0.000000\n"
     ]
    },
    {
     "name": "stderr",
     "output_type": "stream",
     "text": [
      "run_1_lp1e-04_ep1e-06_lb0.001 Epoch 93/100: 100%|████| 890/890 [18:04<00:00,  1.22s/it, grad_norm=8.0475, loss=-0.8367]\n"
     ]
    },
    {
     "name": "stdout",
     "output_type": "stream",
     "text": [
      "run_1_lp1e-04_ep1e-06_lb0.001 Epoch 93/100 | Avg Loss: -0.9115, Avg Grad Norm: 2.9801, LR: 0.000000\n"
     ]
    },
    {
     "name": "stderr",
     "output_type": "stream",
     "text": [
      "run_1_lp1e-04_ep1e-06_lb0.001 Epoch 94/100: 100%|████| 890/890 [17:43<00:00,  1.19s/it, grad_norm=1.1731, loss=-0.9501]\n"
     ]
    },
    {
     "name": "stdout",
     "output_type": "stream",
     "text": [
      "run_1_lp1e-04_ep1e-06_lb0.001 Epoch 94/100 | Avg Loss: -0.9173, Avg Grad Norm: 2.8178, LR: 0.000000\n"
     ]
    },
    {
     "name": "stderr",
     "output_type": "stream",
     "text": [
      "run_1_lp1e-04_ep1e-06_lb0.001 Epoch 95/100: 100%|███| 890/890 [17:39<00:00,  1.19s/it, grad_norm=14.2171, loss=-0.6533]\n"
     ]
    },
    {
     "name": "stdout",
     "output_type": "stream",
     "text": [
      "run_1_lp1e-04_ep1e-06_lb0.001 Epoch 95/100 | Avg Loss: -0.9147, Avg Grad Norm: 2.8646, LR: 0.000000\n",
      "Checkpoint saved at 'audiotwin_checkpoints_medium\\run_1_lp1e-04_ep1e-06_lb0.001\\audiotwin_pestlarvanet_medium_epoch_95.pth'\n"
     ]
    },
    {
     "name": "stderr",
     "output_type": "stream",
     "text": [
      "run_1_lp1e-04_ep1e-06_lb0.001 Epoch 96/100: 100%|███| 890/890 [17:25<00:00,  1.18s/it, grad_norm=13.1204, loss=-0.2605]\n"
     ]
    },
    {
     "name": "stdout",
     "output_type": "stream",
     "text": [
      "run_1_lp1e-04_ep1e-06_lb0.001 Epoch 96/100 | Avg Loss: -0.9135, Avg Grad Norm: 2.9271, LR: 0.000000\n"
     ]
    },
    {
     "name": "stderr",
     "output_type": "stream",
     "text": [
      "run_1_lp1e-04_ep1e-06_lb0.001 Epoch 97/100: 100%|████| 890/890 [17:35<00:00,  1.19s/it, grad_norm=0.5293, loss=-0.9652]\n"
     ]
    },
    {
     "name": "stdout",
     "output_type": "stream",
     "text": [
      "run_1_lp1e-04_ep1e-06_lb0.001 Epoch 97/100 | Avg Loss: -0.9090, Avg Grad Norm: 3.0245, LR: 0.000000\n"
     ]
    },
    {
     "name": "stderr",
     "output_type": "stream",
     "text": [
      "run_1_lp1e-04_ep1e-06_lb0.001 Epoch 98/100: 100%|████| 890/890 [18:06<00:00,  1.22s/it, grad_norm=1.0085, loss=-0.9616]\n"
     ]
    },
    {
     "name": "stdout",
     "output_type": "stream",
     "text": [
      "run_1_lp1e-04_ep1e-06_lb0.001 Epoch 98/100 | Avg Loss: -0.9209, Avg Grad Norm: 2.6686, LR: 0.000000\n"
     ]
    },
    {
     "name": "stderr",
     "output_type": "stream",
     "text": [
      "run_1_lp1e-04_ep1e-06_lb0.001 Epoch 99/100: 100%|████| 890/890 [17:58<00:00,  1.21s/it, grad_norm=4.3063, loss=-0.3172]\n"
     ]
    },
    {
     "name": "stdout",
     "output_type": "stream",
     "text": [
      "run_1_lp1e-04_ep1e-06_lb0.001 Epoch 99/100 | Avg Loss: -0.9145, Avg Grad Norm: 2.8886, LR: 0.000000\n"
     ]
    },
    {
     "name": "stderr",
     "output_type": "stream",
     "text": [
      "run_1_lp1e-04_ep1e-06_lb0.001 Epoch 100/100: 100%|███| 890/890 [20:31<00:00,  1.38s/it, grad_norm=1.3920, loss=-0.9620]\n"
     ]
    },
    {
     "name": "stdout",
     "output_type": "stream",
     "text": [
      "run_1_lp1e-04_ep1e-06_lb0.001 Epoch 100/100 | Avg Loss: -0.9143, Avg Grad Norm: 2.7760, LR: 0.000000\n",
      "Checkpoint saved at 'audiotwin_checkpoints_medium\\run_1_lp1e-04_ep1e-06_lb0.001\\audiotwin_pestlarvanet_medium_epoch_100.pth'\n",
      "\n",
      "Starting Pre-training with AudioTwin - run_2_lp5e-04_ep1e-06_lb0.003\n"
     ]
    },
    {
     "name": "stderr",
     "output_type": "stream",
     "text": [
      "run_2_lp5e-04_ep1e-06_lb0.003 Epoch 1/100: 100%|██████| 890/890 [19:02<00:00,  1.28s/it, grad_norm=5.8413, loss=0.3646]\n"
     ]
    },
    {
     "name": "stdout",
     "output_type": "stream",
     "text": [
      "run_2_lp5e-04_ep1e-06_lb0.003 Epoch 1/100 | Avg Loss: 0.9007, Avg Grad Norm: 4.6775, LR: 0.000005\n"
     ]
    },
    {
     "name": "stderr",
     "output_type": "stream",
     "text": [
      "run_2_lp5e-04_ep1e-06_lb0.003 Epoch 2/100: 100%|█████| 890/890 [18:49<00:00,  1.27s/it, grad_norm=1.5385, loss=-0.2795]\n"
     ]
    },
    {
     "name": "stdout",
     "output_type": "stream",
     "text": [
      "run_2_lp5e-04_ep1e-06_lb0.003 Epoch 2/100 | Avg Loss: 0.3148, Avg Grad Norm: 4.5802, LR: 0.000005\n"
     ]
    },
    {
     "name": "stderr",
     "output_type": "stream",
     "text": [
      "run_2_lp5e-04_ep1e-06_lb0.003 Epoch 3/100: 100%|█████| 890/890 [18:50<00:00,  1.27s/it, grad_norm=2.5579, loss=-0.4040]\n"
     ]
    },
    {
     "name": "stdout",
     "output_type": "stream",
     "text": [
      "run_2_lp5e-04_ep1e-06_lb0.003 Epoch 3/100 | Avg Loss: -0.0441, Avg Grad Norm: 5.0588, LR: 0.000005\n"
     ]
    },
    {
     "name": "stderr",
     "output_type": "stream",
     "text": [
      "run_2_lp5e-04_ep1e-06_lb0.003 Epoch 4/100: 100%|█████| 890/890 [19:13<00:00,  1.30s/it, grad_norm=6.4896, loss=-0.1118]\n"
     ]
    },
    {
     "name": "stdout",
     "output_type": "stream",
     "text": [
      "run_2_lp5e-04_ep1e-06_lb0.003 Epoch 4/100 | Avg Loss: -0.2256, Avg Grad Norm: 5.3062, LR: 0.000005\n"
     ]
    },
    {
     "name": "stderr",
     "output_type": "stream",
     "text": [
      "run_2_lp5e-04_ep1e-06_lb0.003 Epoch 5/100: 100%|█████████| 890/890 [18:46<00:00,  1.27s/it, grad_norm=inf, loss=0.3184]\n"
     ]
    },
    {
     "name": "stdout",
     "output_type": "stream",
     "text": [
      "run_2_lp5e-04_ep1e-06_lb0.003 Epoch 5/100 | Avg Loss: -0.3381, Avg Grad Norm: 5.3720, LR: 0.000005\n",
      "Checkpoint saved at 'audiotwin_checkpoints_medium\\run_2_lp5e-04_ep1e-06_lb0.003\\audiotwin_pestlarvanet_medium_epoch_5.pth'\n"
     ]
    },
    {
     "name": "stderr",
     "output_type": "stream",
     "text": [
      "run_2_lp5e-04_ep1e-06_lb0.003 Epoch 6/100: 100%|█████| 890/890 [19:09<00:00,  1.29s/it, grad_norm=8.5582, loss=-0.5857]\n"
     ]
    },
    {
     "name": "stdout",
     "output_type": "stream",
     "text": [
      "run_2_lp5e-04_ep1e-06_lb0.003 Epoch 6/100 | Avg Loss: -0.4067, Avg Grad Norm: 5.5807, LR: 0.000005\n"
     ]
    },
    {
     "name": "stderr",
     "output_type": "stream",
     "text": [
      "run_2_lp5e-04_ep1e-06_lb0.003 Epoch 7/100: 100%|█████| 890/890 [18:47<00:00,  1.27s/it, grad_norm=0.4537, loss=-0.7126]\n"
     ]
    },
    {
     "name": "stdout",
     "output_type": "stream",
     "text": [
      "run_2_lp5e-04_ep1e-06_lb0.003 Epoch 7/100 | Avg Loss: -0.4334, Avg Grad Norm: 5.8844, LR: 0.000005\n"
     ]
    },
    {
     "name": "stderr",
     "output_type": "stream",
     "text": [
      "run_2_lp5e-04_ep1e-06_lb0.003 Epoch 8/100: 100%|█████| 890/890 [18:50<00:00,  1.27s/it, grad_norm=5.7219, loss=-0.5395]\n"
     ]
    },
    {
     "name": "stdout",
     "output_type": "stream",
     "text": [
      "run_2_lp5e-04_ep1e-06_lb0.003 Epoch 8/100 | Avg Loss: -0.4770, Avg Grad Norm: 5.7609, LR: 0.000005\n"
     ]
    },
    {
     "name": "stderr",
     "output_type": "stream",
     "text": [
      "run_2_lp5e-04_ep1e-06_lb0.003 Epoch 9/100: 100%|█████| 890/890 [19:05<00:00,  1.29s/it, grad_norm=1.5490, loss=-0.7043]\n"
     ]
    },
    {
     "name": "stdout",
     "output_type": "stream",
     "text": [
      "run_2_lp5e-04_ep1e-06_lb0.003 Epoch 9/100 | Avg Loss: -0.4775, Avg Grad Norm: 6.1532, LR: 0.000005\n"
     ]
    },
    {
     "name": "stderr",
     "output_type": "stream",
     "text": [
      "run_2_lp5e-04_ep1e-06_lb0.003 Epoch 10/100: 100%|████| 890/890 [18:55<00:00,  1.28s/it, grad_norm=3.9141, loss=-0.7174]\n"
     ]
    },
    {
     "name": "stdout",
     "output_type": "stream",
     "text": [
      "run_2_lp5e-04_ep1e-06_lb0.003 Epoch 10/100 | Avg Loss: -0.5139, Avg Grad Norm: 5.7774, LR: 0.000005\n",
      "Checkpoint saved at 'audiotwin_checkpoints_medium\\run_2_lp5e-04_ep1e-06_lb0.003\\audiotwin_pestlarvanet_medium_epoch_10.pth'\n"
     ]
    },
    {
     "name": "stderr",
     "output_type": "stream",
     "text": [
      "run_2_lp5e-04_ep1e-06_lb0.003 Epoch 11/100: 100%|███| 890/890 [19:09<00:00,  1.29s/it, grad_norm=11.5841, loss=-0.5839]\n"
     ]
    },
    {
     "name": "stdout",
     "output_type": "stream",
     "text": [
      "run_2_lp5e-04_ep1e-06_lb0.003 Epoch 11/100 | Avg Loss: -0.5007, Avg Grad Norm: 6.0466, LR: 0.000005\n"
     ]
    },
    {
     "name": "stderr",
     "output_type": "stream",
     "text": [
      "run_2_lp5e-04_ep1e-06_lb0.003 Epoch 12/100: 100%|████| 890/890 [18:44<00:00,  1.26s/it, grad_norm=0.5284, loss=-0.7614]\n"
     ]
    },
    {
     "name": "stdout",
     "output_type": "stream",
     "text": [
      "run_2_lp5e-04_ep1e-06_lb0.003 Epoch 12/100 | Avg Loss: -0.5145, Avg Grad Norm: 6.0702, LR: 0.000005\n"
     ]
    },
    {
     "name": "stderr",
     "output_type": "stream",
     "text": [
      "run_2_lp5e-04_ep1e-06_lb0.003 Epoch 13/100: 100%|███| 890/890 [18:59<00:00,  1.28s/it, grad_norm=16.5265, loss=-0.3650]\n"
     ]
    },
    {
     "name": "stdout",
     "output_type": "stream",
     "text": [
      "run_2_lp5e-04_ep1e-06_lb0.003 Epoch 13/100 | Avg Loss: -0.5420, Avg Grad Norm: 5.9167, LR: 0.000005\n"
     ]
    },
    {
     "name": "stderr",
     "output_type": "stream",
     "text": [
      "run_2_lp5e-04_ep1e-06_lb0.003 Epoch 14/100: 100%|████| 890/890 [19:11<00:00,  1.29s/it, grad_norm=2.0187, loss=-0.6917]\n"
     ]
    },
    {
     "name": "stdout",
     "output_type": "stream",
     "text": [
      "run_2_lp5e-04_ep1e-06_lb0.003 Epoch 14/100 | Avg Loss: -0.5448, Avg Grad Norm: 5.9735, LR: 0.000005\n"
     ]
    },
    {
     "name": "stderr",
     "output_type": "stream",
     "text": [
      "run_2_lp5e-04_ep1e-06_lb0.003 Epoch 15/100: 100%|████| 890/890 [18:56<00:00,  1.28s/it, grad_norm=0.7484, loss=-0.7672]\n"
     ]
    },
    {
     "name": "stdout",
     "output_type": "stream",
     "text": [
      "run_2_lp5e-04_ep1e-06_lb0.003 Epoch 15/100 | Avg Loss: -0.5677, Avg Grad Norm: 5.9636, LR: 0.000005\n",
      "Checkpoint saved at 'audiotwin_checkpoints_medium\\run_2_lp5e-04_ep1e-06_lb0.003\\audiotwin_pestlarvanet_medium_epoch_15.pth'\n"
     ]
    },
    {
     "name": "stderr",
     "output_type": "stream",
     "text": [
      "run_2_lp5e-04_ep1e-06_lb0.003 Epoch 16/100: 100%|████| 890/890 [19:00<00:00,  1.28s/it, grad_norm=1.3910, loss=-0.7592]\n"
     ]
    },
    {
     "name": "stdout",
     "output_type": "stream",
     "text": [
      "run_2_lp5e-04_ep1e-06_lb0.003 Epoch 16/100 | Avg Loss: -0.5492, Avg Grad Norm: 6.3319, LR: 0.000005\n"
     ]
    },
    {
     "name": "stderr",
     "output_type": "stream",
     "text": [
      "run_2_lp5e-04_ep1e-06_lb0.003 Epoch 17/100: 100%|████| 890/890 [18:53<00:00,  1.27s/it, grad_norm=6.5738, loss=-0.3462]\n"
     ]
    },
    {
     "name": "stdout",
     "output_type": "stream",
     "text": [
      "run_2_lp5e-04_ep1e-06_lb0.003 Epoch 17/100 | Avg Loss: -0.5600, Avg Grad Norm: 6.1823, LR: 0.000005\n"
     ]
    },
    {
     "name": "stderr",
     "output_type": "stream",
     "text": [
      "run_2_lp5e-04_ep1e-06_lb0.003 Epoch 18/100: 100%|████| 890/890 [18:59<00:00,  1.28s/it, grad_norm=1.1134, loss=-0.7654]\n"
     ]
    },
    {
     "name": "stdout",
     "output_type": "stream",
     "text": [
      "run_2_lp5e-04_ep1e-06_lb0.003 Epoch 18/100 | Avg Loss: -0.5782, Avg Grad Norm: 5.9935, LR: 0.000005\n"
     ]
    },
    {
     "name": "stderr",
     "output_type": "stream",
     "text": [
      "run_2_lp5e-04_ep1e-06_lb0.003 Epoch 19/100: 100%|████| 890/890 [19:05<00:00,  1.29s/it, grad_norm=1.3259, loss=-0.7476]\n"
     ]
    },
    {
     "name": "stdout",
     "output_type": "stream",
     "text": [
      "run_2_lp5e-04_ep1e-06_lb0.003 Epoch 19/100 | Avg Loss: -0.5835, Avg Grad Norm: 5.9151, LR: 0.000005\n"
     ]
    },
    {
     "name": "stderr",
     "output_type": "stream",
     "text": [
      "run_2_lp5e-04_ep1e-06_lb0.003 Epoch 20/100: 100%|███| 890/890 [19:09<00:00,  1.29s/it, grad_norm=16.7398, loss=-0.2962]\n"
     ]
    },
    {
     "name": "stdout",
     "output_type": "stream",
     "text": [
      "run_2_lp5e-04_ep1e-06_lb0.003 Epoch 20/100 | Avg Loss: -0.5643, Avg Grad Norm: 6.1952, LR: 0.000005\n",
      "Checkpoint saved at 'audiotwin_checkpoints_medium\\run_2_lp5e-04_ep1e-06_lb0.003\\audiotwin_pestlarvanet_medium_epoch_20.pth'\n"
     ]
    },
    {
     "name": "stderr",
     "output_type": "stream",
     "text": [
      "run_2_lp5e-04_ep1e-06_lb0.003 Epoch 21/100: 100%|███| 890/890 [18:41<00:00,  1.26s/it, grad_norm=15.1377, loss=-0.3152]\n"
     ]
    },
    {
     "name": "stdout",
     "output_type": "stream",
     "text": [
      "run_2_lp5e-04_ep1e-06_lb0.003 Epoch 21/100 | Avg Loss: -0.5897, Avg Grad Norm: 5.8831, LR: 0.000005\n"
     ]
    },
    {
     "name": "stderr",
     "output_type": "stream",
     "text": [
      "run_2_lp5e-04_ep1e-06_lb0.003 Epoch 22/100: 100%|████| 890/890 [18:45<00:00,  1.27s/it, grad_norm=16.5046, loss=0.2699]\n"
     ]
    },
    {
     "name": "stdout",
     "output_type": "stream",
     "text": [
      "run_2_lp5e-04_ep1e-06_lb0.003 Epoch 22/100 | Avg Loss: -0.5999, Avg Grad Norm: 5.9790, LR: 0.000005\n"
     ]
    },
    {
     "name": "stderr",
     "output_type": "stream",
     "text": [
      "run_2_lp5e-04_ep1e-06_lb0.003 Epoch 23/100: 100%|████| 890/890 [19:09<00:00,  1.29s/it, grad_norm=1.1351, loss=-0.7641]\n"
     ]
    },
    {
     "name": "stdout",
     "output_type": "stream",
     "text": [
      "run_2_lp5e-04_ep1e-06_lb0.003 Epoch 23/100 | Avg Loss: -0.5822, Avg Grad Norm: 6.0306, LR: 0.000005\n"
     ]
    },
    {
     "name": "stderr",
     "output_type": "stream",
     "text": [
      "run_2_lp5e-04_ep1e-06_lb0.003 Epoch 24/100: 100%|████| 890/890 [19:01<00:00,  1.28s/it, grad_norm=19.0975, loss=0.0146]\n"
     ]
    },
    {
     "name": "stdout",
     "output_type": "stream",
     "text": [
      "run_2_lp5e-04_ep1e-06_lb0.003 Epoch 24/100 | Avg Loss: -0.6097, Avg Grad Norm: 5.7120, LR: 0.000005\n"
     ]
    },
    {
     "name": "stderr",
     "output_type": "stream",
     "text": [
      "run_2_lp5e-04_ep1e-06_lb0.003 Epoch 25/100: 100%|███| 890/890 [19:05<00:00,  1.29s/it, grad_norm=14.8440, loss=-0.5896]\n"
     ]
    },
    {
     "name": "stdout",
     "output_type": "stream",
     "text": [
      "run_2_lp5e-04_ep1e-06_lb0.003 Epoch 25/100 | Avg Loss: -0.6003, Avg Grad Norm: 6.2199, LR: 0.000005\n",
      "Checkpoint saved at 'audiotwin_checkpoints_medium\\run_2_lp5e-04_ep1e-06_lb0.003\\audiotwin_pestlarvanet_medium_epoch_25.pth'\n"
     ]
    },
    {
     "name": "stderr",
     "output_type": "stream",
     "text": [
      "run_2_lp5e-04_ep1e-06_lb0.003 Epoch 26/100: 100%|████| 890/890 [19:23<00:00,  1.31s/it, grad_norm=2.0029, loss=-0.7934]\n"
     ]
    },
    {
     "name": "stdout",
     "output_type": "stream",
     "text": [
      "run_2_lp5e-04_ep1e-06_lb0.003 Epoch 26/100 | Avg Loss: -0.6149, Avg Grad Norm: 5.8303, LR: 0.000005\n"
     ]
    },
    {
     "name": "stderr",
     "output_type": "stream",
     "text": [
      "run_2_lp5e-04_ep1e-06_lb0.003 Epoch 27/100: 100%|███| 890/890 [19:19<00:00,  1.30s/it, grad_norm=11.1505, loss=-0.5103]\n"
     ]
    },
    {
     "name": "stdout",
     "output_type": "stream",
     "text": [
      "run_2_lp5e-04_ep1e-06_lb0.003 Epoch 27/100 | Avg Loss: -0.6322, Avg Grad Norm: 5.6643, LR: 0.000005\n"
     ]
    },
    {
     "name": "stderr",
     "output_type": "stream",
     "text": [
      "run_2_lp5e-04_ep1e-06_lb0.003 Epoch 28/100: 100%|████| 890/890 [19:30<00:00,  1.32s/it, grad_norm=2.2226, loss=-0.7512]\n"
     ]
    },
    {
     "name": "stdout",
     "output_type": "stream",
     "text": [
      "run_2_lp5e-04_ep1e-06_lb0.003 Epoch 28/100 | Avg Loss: -0.6104, Avg Grad Norm: 6.0069, LR: 0.000005\n"
     ]
    },
    {
     "name": "stderr",
     "output_type": "stream",
     "text": [
      "run_2_lp5e-04_ep1e-06_lb0.003 Epoch 29/100: 100%|███| 890/890 [19:35<00:00,  1.32s/it, grad_norm=10.1947, loss=-0.3224]\n"
     ]
    },
    {
     "name": "stdout",
     "output_type": "stream",
     "text": [
      "run_2_lp5e-04_ep1e-06_lb0.003 Epoch 29/100 | Avg Loss: -0.6209, Avg Grad Norm: 5.8445, LR: 0.000005\n"
     ]
    },
    {
     "name": "stderr",
     "output_type": "stream",
     "text": [
      "run_2_lp5e-04_ep1e-06_lb0.003 Epoch 30/100: 100%|███| 890/890 [20:23<00:00,  1.37s/it, grad_norm=12.5744, loss=-0.5499]\n"
     ]
    },
    {
     "name": "stdout",
     "output_type": "stream",
     "text": [
      "run_2_lp5e-04_ep1e-06_lb0.003 Epoch 30/100 | Avg Loss: -0.6237, Avg Grad Norm: 5.8161, LR: 0.000005\n",
      "Checkpoint saved at 'audiotwin_checkpoints_medium\\run_2_lp5e-04_ep1e-06_lb0.003\\audiotwin_pestlarvanet_medium_epoch_30.pth'\n"
     ]
    },
    {
     "name": "stderr",
     "output_type": "stream",
     "text": [
      "run_2_lp5e-04_ep1e-06_lb0.003 Epoch 31/100: 100%|███| 890/890 [21:28<00:00,  1.45s/it, grad_norm=28.3911, loss=-0.0884]\n"
     ]
    },
    {
     "name": "stdout",
     "output_type": "stream",
     "text": [
      "run_2_lp5e-04_ep1e-06_lb0.003 Epoch 31/100 | Avg Loss: -0.6357, Avg Grad Norm: 5.6164, LR: 0.000005\n"
     ]
    },
    {
     "name": "stderr",
     "output_type": "stream",
     "text": [
      "run_2_lp5e-04_ep1e-06_lb0.003 Epoch 32/100: 100%|████| 890/890 [19:28<00:00,  1.31s/it, grad_norm=2.5745, loss=-0.7555]\n"
     ]
    },
    {
     "name": "stdout",
     "output_type": "stream",
     "text": [
      "run_2_lp5e-04_ep1e-06_lb0.003 Epoch 32/100 | Avg Loss: -0.6326, Avg Grad Norm: 5.8644, LR: 0.000005\n"
     ]
    },
    {
     "name": "stderr",
     "output_type": "stream",
     "text": [
      "run_2_lp5e-04_ep1e-06_lb0.003 Epoch 33/100: 100%|███| 890/890 [19:35<00:00,  1.32s/it, grad_norm=21.4157, loss=-0.5826]\n"
     ]
    },
    {
     "name": "stdout",
     "output_type": "stream",
     "text": [
      "run_2_lp5e-04_ep1e-06_lb0.003 Epoch 33/100 | Avg Loss: -0.6392, Avg Grad Norm: 5.5163, LR: 0.000005\n"
     ]
    },
    {
     "name": "stderr",
     "output_type": "stream",
     "text": [
      "run_2_lp5e-04_ep1e-06_lb0.003 Epoch 34/100: 100%|████| 890/890 [19:45<00:00,  1.33s/it, grad_norm=30.3107, loss=0.2044]\n"
     ]
    },
    {
     "name": "stdout",
     "output_type": "stream",
     "text": [
      "run_2_lp5e-04_ep1e-06_lb0.003 Epoch 34/100 | Avg Loss: -0.6510, Avg Grad Norm: 5.5573, LR: 0.000005\n"
     ]
    },
    {
     "name": "stderr",
     "output_type": "stream",
     "text": [
      "run_2_lp5e-04_ep1e-06_lb0.003 Epoch 35/100: 100%|████| 890/890 [19:22<00:00,  1.31s/it, grad_norm=9.2305, loss=-0.6150]\n"
     ]
    },
    {
     "name": "stdout",
     "output_type": "stream",
     "text": [
      "run_2_lp5e-04_ep1e-06_lb0.003 Epoch 35/100 | Avg Loss: -0.6476, Avg Grad Norm: 5.4506, LR: 0.000005\n",
      "Checkpoint saved at 'audiotwin_checkpoints_medium\\run_2_lp5e-04_ep1e-06_lb0.003\\audiotwin_pestlarvanet_medium_epoch_35.pth'\n"
     ]
    },
    {
     "name": "stderr",
     "output_type": "stream",
     "text": [
      "run_2_lp5e-04_ep1e-06_lb0.003 Epoch 36/100: 100%|████| 890/890 [19:25<00:00,  1.31s/it, grad_norm=8.6958, loss=-0.4619]\n"
     ]
    },
    {
     "name": "stdout",
     "output_type": "stream",
     "text": [
      "run_2_lp5e-04_ep1e-06_lb0.003 Epoch 36/100 | Avg Loss: -0.6530, Avg Grad Norm: 5.3847, LR: 0.000005\n"
     ]
    },
    {
     "name": "stderr",
     "output_type": "stream",
     "text": [
      "run_2_lp5e-04_ep1e-06_lb0.003 Epoch 37/100: 100%|███| 890/890 [19:19<00:00,  1.30s/it, grad_norm=16.3450, loss=-0.6130]\n"
     ]
    },
    {
     "name": "stdout",
     "output_type": "stream",
     "text": [
      "run_2_lp5e-04_ep1e-06_lb0.003 Epoch 37/100 | Avg Loss: -0.6533, Avg Grad Norm: 5.4796, LR: 0.000005\n"
     ]
    },
    {
     "name": "stderr",
     "output_type": "stream",
     "text": [
      "run_2_lp5e-04_ep1e-06_lb0.003 Epoch 38/100: 100%|████| 890/890 [19:14<00:00,  1.30s/it, grad_norm=2.6858, loss=-0.7718]\n"
     ]
    },
    {
     "name": "stdout",
     "output_type": "stream",
     "text": [
      "run_2_lp5e-04_ep1e-06_lb0.003 Epoch 38/100 | Avg Loss: -0.6688, Avg Grad Norm: 5.1563, LR: 0.000005\n"
     ]
    },
    {
     "name": "stderr",
     "output_type": "stream",
     "text": [
      "run_2_lp5e-04_ep1e-06_lb0.003 Epoch 39/100: 100%|████| 890/890 [19:28<00:00,  1.31s/it, grad_norm=8.9475, loss=-0.6563]\n"
     ]
    },
    {
     "name": "stdout",
     "output_type": "stream",
     "text": [
      "run_2_lp5e-04_ep1e-06_lb0.003 Epoch 39/100 | Avg Loss: -0.6589, Avg Grad Norm: 5.5652, LR: 0.000005\n"
     ]
    },
    {
     "name": "stderr",
     "output_type": "stream",
     "text": [
      "run_2_lp5e-04_ep1e-06_lb0.003 Epoch 40/100: 100%|████| 890/890 [21:47<00:00,  1.47s/it, grad_norm=3.9712, loss=-0.7120]\n"
     ]
    },
    {
     "name": "stdout",
     "output_type": "stream",
     "text": [
      "run_2_lp5e-04_ep1e-06_lb0.003 Epoch 40/100 | Avg Loss: -0.6666, Avg Grad Norm: 5.4673, LR: 0.000005\n",
      "Checkpoint saved at 'audiotwin_checkpoints_medium\\run_2_lp5e-04_ep1e-06_lb0.003\\audiotwin_pestlarvanet_medium_epoch_40.pth'\n"
     ]
    },
    {
     "name": "stderr",
     "output_type": "stream",
     "text": [
      "run_2_lp5e-04_ep1e-06_lb0.003 Epoch 41/100: 100%|███| 890/890 [20:01<00:00,  1.35s/it, grad_norm=12.7766, loss=-0.5691]\n"
     ]
    },
    {
     "name": "stdout",
     "output_type": "stream",
     "text": [
      "run_2_lp5e-04_ep1e-06_lb0.003 Epoch 41/100 | Avg Loss: -0.6653, Avg Grad Norm: 5.5812, LR: 0.000005\n"
     ]
    },
    {
     "name": "stderr",
     "output_type": "stream",
     "text": [
      "run_2_lp5e-04_ep1e-06_lb0.003 Epoch 42/100: 100%|███| 890/890 [19:03<00:00,  1.29s/it, grad_norm=19.5259, loss=-0.2569]\n"
     ]
    },
    {
     "name": "stdout",
     "output_type": "stream",
     "text": [
      "run_2_lp5e-04_ep1e-06_lb0.003 Epoch 42/100 | Avg Loss: -0.6668, Avg Grad Norm: 5.3073, LR: 0.000005\n"
     ]
    },
    {
     "name": "stderr",
     "output_type": "stream",
     "text": [
      "run_2_lp5e-04_ep1e-06_lb0.003 Epoch 43/100: 100%|████| 890/890 [19:10<00:00,  1.29s/it, grad_norm=25.0952, loss=0.2017]\n"
     ]
    },
    {
     "name": "stdout",
     "output_type": "stream",
     "text": [
      "run_2_lp5e-04_ep1e-06_lb0.003 Epoch 43/100 | Avg Loss: -0.6701, Avg Grad Norm: 5.3383, LR: 0.000005\n"
     ]
    },
    {
     "name": "stderr",
     "output_type": "stream",
     "text": [
      "run_2_lp5e-04_ep1e-06_lb0.003 Epoch 44/100: 100%|███| 890/890 [19:26<00:00,  1.31s/it, grad_norm=16.9778, loss=-0.3640]\n"
     ]
    },
    {
     "name": "stdout",
     "output_type": "stream",
     "text": [
      "run_2_lp5e-04_ep1e-06_lb0.003 Epoch 44/100 | Avg Loss: -0.6715, Avg Grad Norm: 5.3459, LR: 0.000005\n"
     ]
    },
    {
     "name": "stderr",
     "output_type": "stream",
     "text": [
      "run_2_lp5e-04_ep1e-06_lb0.003 Epoch 45/100: 100%|████| 890/890 [19:19<00:00,  1.30s/it, grad_norm=7.1996, loss=-0.7632]\n"
     ]
    },
    {
     "name": "stdout",
     "output_type": "stream",
     "text": [
      "run_2_lp5e-04_ep1e-06_lb0.003 Epoch 45/100 | Avg Loss: -0.6743, Avg Grad Norm: 5.2421, LR: 0.000005\n",
      "Checkpoint saved at 'audiotwin_checkpoints_medium\\run_2_lp5e-04_ep1e-06_lb0.003\\audiotwin_pestlarvanet_medium_epoch_45.pth'\n"
     ]
    },
    {
     "name": "stderr",
     "output_type": "stream",
     "text": [
      "run_2_lp5e-04_ep1e-06_lb0.003 Epoch 46/100: 100%|████| 890/890 [18:53<00:00,  1.27s/it, grad_norm=21.4847, loss=0.0712]\n"
     ]
    },
    {
     "name": "stdout",
     "output_type": "stream",
     "text": [
      "run_2_lp5e-04_ep1e-06_lb0.003 Epoch 46/100 | Avg Loss: -0.6725, Avg Grad Norm: 5.3271, LR: 0.000005\n"
     ]
    },
    {
     "name": "stderr",
     "output_type": "stream",
     "text": [
      "run_2_lp5e-04_ep1e-06_lb0.003 Epoch 47/100: 100%|████| 890/890 [19:05<00:00,  1.29s/it, grad_norm=1.1957, loss=-0.8075]\n"
     ]
    },
    {
     "name": "stdout",
     "output_type": "stream",
     "text": [
      "run_2_lp5e-04_ep1e-06_lb0.003 Epoch 47/100 | Avg Loss: -0.6793, Avg Grad Norm: 5.3672, LR: 0.000005\n"
     ]
    },
    {
     "name": "stderr",
     "output_type": "stream",
     "text": [
      "run_2_lp5e-04_ep1e-06_lb0.003 Epoch 48/100: 100%|████| 890/890 [19:56<00:00,  1.34s/it, grad_norm=4.2039, loss=-0.7513]\n"
     ]
    },
    {
     "name": "stdout",
     "output_type": "stream",
     "text": [
      "run_2_lp5e-04_ep1e-06_lb0.003 Epoch 48/100 | Avg Loss: -0.6834, Avg Grad Norm: 5.2564, LR: 0.000005\n"
     ]
    },
    {
     "name": "stderr",
     "output_type": "stream",
     "text": [
      "run_2_lp5e-04_ep1e-06_lb0.003 Epoch 49/100: 100%|████| 890/890 [19:27<00:00,  1.31s/it, grad_norm=8.1084, loss=-0.7405]\n"
     ]
    },
    {
     "name": "stdout",
     "output_type": "stream",
     "text": [
      "run_2_lp5e-04_ep1e-06_lb0.003 Epoch 49/100 | Avg Loss: -0.6856, Avg Grad Norm: 5.1921, LR: 0.000005\n"
     ]
    },
    {
     "name": "stderr",
     "output_type": "stream",
     "text": [
      "run_2_lp5e-04_ep1e-06_lb0.003 Epoch 50/100: 100%|████| 890/890 [19:17<00:00,  1.30s/it, grad_norm=1.2820, loss=-0.8097]\n"
     ]
    },
    {
     "name": "stdout",
     "output_type": "stream",
     "text": [
      "run_2_lp5e-04_ep1e-06_lb0.003 Epoch 50/100 | Avg Loss: -0.6870, Avg Grad Norm: 5.0977, LR: 0.000005\n",
      "Checkpoint saved at 'audiotwin_checkpoints_medium\\run_2_lp5e-04_ep1e-06_lb0.003\\audiotwin_pestlarvanet_medium_epoch_50.pth'\n"
     ]
    },
    {
     "name": "stderr",
     "output_type": "stream",
     "text": [
      "run_2_lp5e-04_ep1e-06_lb0.003 Epoch 51/100: 100%|████| 890/890 [19:25<00:00,  1.31s/it, grad_norm=6.2621, loss=-0.7554]\n"
     ]
    },
    {
     "name": "stdout",
     "output_type": "stream",
     "text": [
      "run_2_lp5e-04_ep1e-06_lb0.003 Epoch 51/100 | Avg Loss: -0.6951, Avg Grad Norm: 5.1386, LR: 0.000005\n"
     ]
    },
    {
     "name": "stderr",
     "output_type": "stream",
     "text": [
      "run_2_lp5e-04_ep1e-06_lb0.003 Epoch 52/100: 100%|████| 890/890 [19:22<00:00,  1.31s/it, grad_norm=1.8240, loss=-0.8129]\n"
     ]
    },
    {
     "name": "stdout",
     "output_type": "stream",
     "text": [
      "run_2_lp5e-04_ep1e-06_lb0.003 Epoch 52/100 | Avg Loss: -0.6920, Avg Grad Norm: 5.0710, LR: 0.000005\n"
     ]
    },
    {
     "name": "stderr",
     "output_type": "stream",
     "text": [
      "run_2_lp5e-04_ep1e-06_lb0.003 Epoch 53/100: 100%|████| 890/890 [19:18<00:00,  1.30s/it, grad_norm=5.4105, loss=-0.7313]\n"
     ]
    },
    {
     "name": "stdout",
     "output_type": "stream",
     "text": [
      "run_2_lp5e-04_ep1e-06_lb0.003 Epoch 53/100 | Avg Loss: -0.6853, Avg Grad Norm: 5.2223, LR: 0.000005\n"
     ]
    },
    {
     "name": "stderr",
     "output_type": "stream",
     "text": [
      "run_2_lp5e-04_ep1e-06_lb0.003 Epoch 54/100: 100%|███| 890/890 [19:31<00:00,  1.32s/it, grad_norm=18.1171, loss=-0.5740]\n"
     ]
    },
    {
     "name": "stdout",
     "output_type": "stream",
     "text": [
      "run_2_lp5e-04_ep1e-06_lb0.003 Epoch 54/100 | Avg Loss: -0.6847, Avg Grad Norm: 5.4579, LR: 0.000005\n"
     ]
    },
    {
     "name": "stderr",
     "output_type": "stream",
     "text": [
      "run_2_lp5e-04_ep1e-06_lb0.003 Epoch 55/100: 100%|████| 890/890 [19:22<00:00,  1.31s/it, grad_norm=6.9562, loss=-0.6843]\n"
     ]
    },
    {
     "name": "stdout",
     "output_type": "stream",
     "text": [
      "run_2_lp5e-04_ep1e-06_lb0.003 Epoch 55/100 | Avg Loss: -0.6891, Avg Grad Norm: 5.2270, LR: 0.000005\n",
      "Checkpoint saved at 'audiotwin_checkpoints_medium\\run_2_lp5e-04_ep1e-06_lb0.003\\audiotwin_pestlarvanet_medium_epoch_55.pth'\n"
     ]
    },
    {
     "name": "stderr",
     "output_type": "stream",
     "text": [
      "run_2_lp5e-04_ep1e-06_lb0.003 Epoch 56/100: 100%|████| 890/890 [19:01<00:00,  1.28s/it, grad_norm=7.3114, loss=-0.6586]\n"
     ]
    },
    {
     "name": "stdout",
     "output_type": "stream",
     "text": [
      "run_2_lp5e-04_ep1e-06_lb0.003 Epoch 56/100 | Avg Loss: -0.6812, Avg Grad Norm: 5.4621, LR: 0.000005\n"
     ]
    },
    {
     "name": "stderr",
     "output_type": "stream",
     "text": [
      "run_2_lp5e-04_ep1e-06_lb0.003 Epoch 57/100: 100%|████| 890/890 [19:20<00:00,  1.30s/it, grad_norm=2.3524, loss=-0.8152]\n"
     ]
    },
    {
     "name": "stdout",
     "output_type": "stream",
     "text": [
      "run_2_lp5e-04_ep1e-06_lb0.003 Epoch 57/100 | Avg Loss: -0.6970, Avg Grad Norm: 5.0222, LR: 0.000005\n"
     ]
    },
    {
     "name": "stderr",
     "output_type": "stream",
     "text": [
      "run_2_lp5e-04_ep1e-06_lb0.003 Epoch 58/100: 100%|███| 890/890 [19:44<00:00,  1.33s/it, grad_norm=15.5332, loss=-0.5960]\n"
     ]
    },
    {
     "name": "stdout",
     "output_type": "stream",
     "text": [
      "run_2_lp5e-04_ep1e-06_lb0.003 Epoch 58/100 | Avg Loss: -0.6905, Avg Grad Norm: 5.3353, LR: 0.000005\n"
     ]
    },
    {
     "name": "stderr",
     "output_type": "stream",
     "text": [
      "run_2_lp5e-04_ep1e-06_lb0.003 Epoch 59/100: 100%|███| 890/890 [19:34<00:00,  1.32s/it, grad_norm=12.5880, loss=-0.5877]\n"
     ]
    },
    {
     "name": "stdout",
     "output_type": "stream",
     "text": [
      "run_2_lp5e-04_ep1e-06_lb0.003 Epoch 59/100 | Avg Loss: -0.6939, Avg Grad Norm: 5.1447, LR: 0.000005\n"
     ]
    },
    {
     "name": "stderr",
     "output_type": "stream",
     "text": [
      "run_2_lp5e-04_ep1e-06_lb0.003 Epoch 60/100: 100%|████| 890/890 [19:44<00:00,  1.33s/it, grad_norm=2.2175, loss=-0.8020]\n"
     ]
    },
    {
     "name": "stdout",
     "output_type": "stream",
     "text": [
      "run_2_lp5e-04_ep1e-06_lb0.003 Epoch 60/100 | Avg Loss: -0.6888, Avg Grad Norm: 5.4838, LR: 0.000005\n",
      "Checkpoint saved at 'audiotwin_checkpoints_medium\\run_2_lp5e-04_ep1e-06_lb0.003\\audiotwin_pestlarvanet_medium_epoch_60.pth'\n"
     ]
    },
    {
     "name": "stderr",
     "output_type": "stream",
     "text": [
      "run_2_lp5e-04_ep1e-06_lb0.003 Epoch 61/100: 100%|████| 890/890 [21:53<00:00,  1.48s/it, grad_norm=3.4039, loss=-0.7384]\n"
     ]
    },
    {
     "name": "stdout",
     "output_type": "stream",
     "text": [
      "run_2_lp5e-04_ep1e-06_lb0.003 Epoch 61/100 | Avg Loss: -0.7092, Avg Grad Norm: 4.8760, LR: 0.000005\n"
     ]
    },
    {
     "name": "stderr",
     "output_type": "stream",
     "text": [
      "run_2_lp5e-04_ep1e-06_lb0.003 Epoch 62/100: 100%|████| 890/890 [20:27<00:00,  1.38s/it, grad_norm=2.6754, loss=-0.7720]\n"
     ]
    },
    {
     "name": "stdout",
     "output_type": "stream",
     "text": [
      "run_2_lp5e-04_ep1e-06_lb0.003 Epoch 62/100 | Avg Loss: -0.6968, Avg Grad Norm: 5.1660, LR: 0.000005\n"
     ]
    },
    {
     "name": "stderr",
     "output_type": "stream",
     "text": [
      "run_2_lp5e-04_ep1e-06_lb0.003 Epoch 63/100: 100%|████| 890/890 [20:20<00:00,  1.37s/it, grad_norm=6.8316, loss=-0.6306]\n"
     ]
    },
    {
     "name": "stdout",
     "output_type": "stream",
     "text": [
      "run_2_lp5e-04_ep1e-06_lb0.003 Epoch 63/100 | Avg Loss: -0.7043, Avg Grad Norm: 4.9996, LR: 0.000005\n"
     ]
    },
    {
     "name": "stderr",
     "output_type": "stream",
     "text": [
      "run_2_lp5e-04_ep1e-06_lb0.003 Epoch 64/100: 100%|████| 890/890 [20:21<00:00,  1.37s/it, grad_norm=6.2546, loss=-0.7799]\n"
     ]
    },
    {
     "name": "stdout",
     "output_type": "stream",
     "text": [
      "run_2_lp5e-04_ep1e-06_lb0.003 Epoch 64/100 | Avg Loss: -0.7041, Avg Grad Norm: 5.0846, LR: 0.000005\n"
     ]
    },
    {
     "name": "stderr",
     "output_type": "stream",
     "text": [
      "run_2_lp5e-04_ep1e-06_lb0.003 Epoch 65/100: 100%|████| 890/890 [20:36<00:00,  1.39s/it, grad_norm=5.0917, loss=-0.7571]\n"
     ]
    },
    {
     "name": "stdout",
     "output_type": "stream",
     "text": [
      "run_2_lp5e-04_ep1e-06_lb0.003 Epoch 65/100 | Avg Loss: -0.7004, Avg Grad Norm: 5.0693, LR: 0.000005\n",
      "Checkpoint saved at 'audiotwin_checkpoints_medium\\run_2_lp5e-04_ep1e-06_lb0.003\\audiotwin_pestlarvanet_medium_epoch_65.pth'\n"
     ]
    },
    {
     "name": "stderr",
     "output_type": "stream",
     "text": [
      "run_2_lp5e-04_ep1e-06_lb0.003 Epoch 66/100: 100%|███| 890/890 [20:14<00:00,  1.36s/it, grad_norm=11.0523, loss=-0.5400]\n"
     ]
    },
    {
     "name": "stdout",
     "output_type": "stream",
     "text": [
      "run_2_lp5e-04_ep1e-06_lb0.003 Epoch 66/100 | Avg Loss: -0.7001, Avg Grad Norm: 5.2381, LR: 0.000005\n"
     ]
    },
    {
     "name": "stderr",
     "output_type": "stream",
     "text": [
      "run_2_lp5e-04_ep1e-06_lb0.003 Epoch 67/100: 100%|███| 890/890 [20:24<00:00,  1.38s/it, grad_norm=15.2932, loss=-0.2948]\n"
     ]
    },
    {
     "name": "stdout",
     "output_type": "stream",
     "text": [
      "run_2_lp5e-04_ep1e-06_lb0.003 Epoch 67/100 | Avg Loss: -0.7038, Avg Grad Norm: 5.2192, LR: 0.000005\n"
     ]
    },
    {
     "name": "stderr",
     "output_type": "stream",
     "text": [
      "run_2_lp5e-04_ep1e-06_lb0.003 Epoch 68/100: 100%|███| 890/890 [20:17<00:00,  1.37s/it, grad_norm=12.4787, loss=-0.5841]\n"
     ]
    },
    {
     "name": "stdout",
     "output_type": "stream",
     "text": [
      "run_2_lp5e-04_ep1e-06_lb0.003 Epoch 68/100 | Avg Loss: -0.7162, Avg Grad Norm: 4.8717, LR: 0.000001\n"
     ]
    },
    {
     "name": "stderr",
     "output_type": "stream",
     "text": [
      "run_2_lp5e-04_ep1e-06_lb0.003 Epoch 69/100: 100%|████| 890/890 [20:18<00:00,  1.37s/it, grad_norm=9.8689, loss=-0.6904]\n"
     ]
    },
    {
     "name": "stdout",
     "output_type": "stream",
     "text": [
      "run_2_lp5e-04_ep1e-06_lb0.003 Epoch 69/100 | Avg Loss: -0.7127, Avg Grad Norm: 4.8587, LR: 0.000001\n"
     ]
    },
    {
     "name": "stderr",
     "output_type": "stream",
     "text": [
      "run_2_lp5e-04_ep1e-06_lb0.003 Epoch 70/100: 100%|███| 890/890 [20:16<00:00,  1.37s/it, grad_norm=25.6868, loss=-0.4451]\n"
     ]
    },
    {
     "name": "stdout",
     "output_type": "stream",
     "text": [
      "run_2_lp5e-04_ep1e-06_lb0.003 Epoch 70/100 | Avg Loss: -0.6976, Avg Grad Norm: 5.3276, LR: 0.000001\n",
      "Checkpoint saved at 'audiotwin_checkpoints_medium\\run_2_lp5e-04_ep1e-06_lb0.003\\audiotwin_pestlarvanet_medium_epoch_70.pth'\n"
     ]
    },
    {
     "name": "stderr",
     "output_type": "stream",
     "text": [
      "run_2_lp5e-04_ep1e-06_lb0.003 Epoch 71/100: 100%|███| 890/890 [20:12<00:00,  1.36s/it, grad_norm=14.6883, loss=-0.5760]\n"
     ]
    },
    {
     "name": "stdout",
     "output_type": "stream",
     "text": [
      "run_2_lp5e-04_ep1e-06_lb0.003 Epoch 71/100 | Avg Loss: -0.7068, Avg Grad Norm: 5.0903, LR: 0.000001\n"
     ]
    },
    {
     "name": "stderr",
     "output_type": "stream",
     "text": [
      "run_2_lp5e-04_ep1e-06_lb0.003 Epoch 72/100: 100%|███| 890/890 [20:06<00:00,  1.36s/it, grad_norm=12.6384, loss=-0.4110]\n"
     ]
    },
    {
     "name": "stdout",
     "output_type": "stream",
     "text": [
      "run_2_lp5e-04_ep1e-06_lb0.003 Epoch 72/100 | Avg Loss: -0.7044, Avg Grad Norm: 5.1715, LR: 0.000001\n"
     ]
    },
    {
     "name": "stderr",
     "output_type": "stream",
     "text": [
      "run_2_lp5e-04_ep1e-06_lb0.003 Epoch 73/100: 100%|████| 890/890 [20:26<00:00,  1.38s/it, grad_norm=3.7468, loss=-0.7795]\n"
     ]
    },
    {
     "name": "stdout",
     "output_type": "stream",
     "text": [
      "run_2_lp5e-04_ep1e-06_lb0.003 Epoch 73/100 | Avg Loss: -0.7009, Avg Grad Norm: 5.2212, LR: 0.000001\n"
     ]
    },
    {
     "name": "stderr",
     "output_type": "stream",
     "text": [
      "run_2_lp5e-04_ep1e-06_lb0.003 Epoch 74/100: 100%|████| 890/890 [20:32<00:00,  1.39s/it, grad_norm=4.1901, loss=-0.7564]\n"
     ]
    },
    {
     "name": "stdout",
     "output_type": "stream",
     "text": [
      "run_2_lp5e-04_ep1e-06_lb0.003 Epoch 74/100 | Avg Loss: -0.6969, Avg Grad Norm: 5.3833, LR: 0.000001\n"
     ]
    },
    {
     "name": "stderr",
     "output_type": "stream",
     "text": [
      "run_2_lp5e-04_ep1e-06_lb0.003 Epoch 75/100: 100%|████| 890/890 [20:17<00:00,  1.37s/it, grad_norm=3.0886, loss=-0.8044]\n"
     ]
    },
    {
     "name": "stdout",
     "output_type": "stream",
     "text": [
      "run_2_lp5e-04_ep1e-06_lb0.003 Epoch 75/100 | Avg Loss: -0.7067, Avg Grad Norm: 5.1486, LR: 0.000000\n",
      "Checkpoint saved at 'audiotwin_checkpoints_medium\\run_2_lp5e-04_ep1e-06_lb0.003\\audiotwin_pestlarvanet_medium_epoch_75.pth'\n"
     ]
    },
    {
     "name": "stderr",
     "output_type": "stream",
     "text": [
      "run_2_lp5e-04_ep1e-06_lb0.003 Epoch 76/100: 100%|███| 890/890 [22:38<00:00,  1.53s/it, grad_norm=17.2932, loss=-0.4280]\n"
     ]
    },
    {
     "name": "stdout",
     "output_type": "stream",
     "text": [
      "run_2_lp5e-04_ep1e-06_lb0.003 Epoch 76/100 | Avg Loss: -0.7057, Avg Grad Norm: 5.1001, LR: 0.000000\n"
     ]
    },
    {
     "name": "stderr",
     "output_type": "stream",
     "text": [
      "run_2_lp5e-04_ep1e-06_lb0.003 Epoch 77/100: 100%|████| 890/890 [21:42<00:00,  1.46s/it, grad_norm=8.4169, loss=-0.7257]\n"
     ]
    },
    {
     "name": "stdout",
     "output_type": "stream",
     "text": [
      "run_2_lp5e-04_ep1e-06_lb0.003 Epoch 77/100 | Avg Loss: -0.7150, Avg Grad Norm: 4.9254, LR: 0.000000\n"
     ]
    },
    {
     "name": "stderr",
     "output_type": "stream",
     "text": [
      "run_2_lp5e-04_ep1e-06_lb0.003 Epoch 78/100: 100%|████| 890/890 [20:38<00:00,  1.39s/it, grad_norm=0.9021, loss=-0.8292]\n"
     ]
    },
    {
     "name": "stdout",
     "output_type": "stream",
     "text": [
      "run_2_lp5e-04_ep1e-06_lb0.003 Epoch 78/100 | Avg Loss: -0.7128, Avg Grad Norm: 4.9374, LR: 0.000000\n"
     ]
    },
    {
     "name": "stderr",
     "output_type": "stream",
     "text": [
      "run_2_lp5e-04_ep1e-06_lb0.003 Epoch 79/100: 100%|████| 890/890 [20:35<00:00,  1.39s/it, grad_norm=7.5301, loss=-0.7235]\n"
     ]
    },
    {
     "name": "stdout",
     "output_type": "stream",
     "text": [
      "run_2_lp5e-04_ep1e-06_lb0.003 Epoch 79/100 | Avg Loss: -0.7071, Avg Grad Norm: 5.0261, LR: 0.000000\n"
     ]
    },
    {
     "name": "stderr",
     "output_type": "stream",
     "text": [
      "run_2_lp5e-04_ep1e-06_lb0.003 Epoch 80/100: 100%|████| 890/890 [20:37<00:00,  1.39s/it, grad_norm=2.0753, loss=-0.8177]\n"
     ]
    },
    {
     "name": "stdout",
     "output_type": "stream",
     "text": [
      "run_2_lp5e-04_ep1e-06_lb0.003 Epoch 80/100 | Avg Loss: -0.7113, Avg Grad Norm: 5.0881, LR: 0.000000\n",
      "Checkpoint saved at 'audiotwin_checkpoints_medium\\run_2_lp5e-04_ep1e-06_lb0.003\\audiotwin_pestlarvanet_medium_epoch_80.pth'\n"
     ]
    },
    {
     "name": "stderr",
     "output_type": "stream",
     "text": [
      "run_2_lp5e-04_ep1e-06_lb0.003 Epoch 81/100: 100%|████| 890/890 [20:19<00:00,  1.37s/it, grad_norm=5.6623, loss=-0.7430]\n"
     ]
    },
    {
     "name": "stdout",
     "output_type": "stream",
     "text": [
      "run_2_lp5e-04_ep1e-06_lb0.003 Epoch 81/100 | Avg Loss: -0.7101, Avg Grad Norm: 5.1647, LR: 0.000000\n"
     ]
    },
    {
     "name": "stderr",
     "output_type": "stream",
     "text": [
      "run_2_lp5e-04_ep1e-06_lb0.003 Epoch 82/100: 100%|████| 890/890 [20:44<00:00,  1.40s/it, grad_norm=3.4933, loss=-0.7852]\n"
     ]
    },
    {
     "name": "stdout",
     "output_type": "stream",
     "text": [
      "run_2_lp5e-04_ep1e-06_lb0.003 Epoch 82/100 | Avg Loss: -0.7175, Avg Grad Norm: 4.9150, LR: 0.000000\n"
     ]
    },
    {
     "name": "stderr",
     "output_type": "stream",
     "text": [
      "run_2_lp5e-04_ep1e-06_lb0.003 Epoch 83/100: 100%|████| 890/890 [20:26<00:00,  1.38s/it, grad_norm=1.1251, loss=-0.8337]\n"
     ]
    },
    {
     "name": "stdout",
     "output_type": "stream",
     "text": [
      "run_2_lp5e-04_ep1e-06_lb0.003 Epoch 83/100 | Avg Loss: -0.7049, Avg Grad Norm: 5.2119, LR: 0.000000\n"
     ]
    },
    {
     "name": "stderr",
     "output_type": "stream",
     "text": [
      "run_2_lp5e-04_ep1e-06_lb0.003 Epoch 84/100: 100%|████| 890/890 [20:35<00:00,  1.39s/it, grad_norm=7.6140, loss=-0.7246]\n"
     ]
    },
    {
     "name": "stdout",
     "output_type": "stream",
     "text": [
      "run_2_lp5e-04_ep1e-06_lb0.003 Epoch 84/100 | Avg Loss: -0.7202, Avg Grad Norm: 4.9305, LR: 0.000000\n"
     ]
    },
    {
     "name": "stderr",
     "output_type": "stream",
     "text": [
      "run_2_lp5e-04_ep1e-06_lb0.003 Epoch 85/100: 100%|████| 890/890 [20:15<00:00,  1.37s/it, grad_norm=0.8174, loss=-0.8357]\n"
     ]
    },
    {
     "name": "stdout",
     "output_type": "stream",
     "text": [
      "run_2_lp5e-04_ep1e-06_lb0.003 Epoch 85/100 | Avg Loss: -0.7191, Avg Grad Norm: 4.9285, LR: 0.000000\n",
      "Checkpoint saved at 'audiotwin_checkpoints_medium\\run_2_lp5e-04_ep1e-06_lb0.003\\audiotwin_pestlarvanet_medium_epoch_85.pth'\n"
     ]
    },
    {
     "name": "stderr",
     "output_type": "stream",
     "text": [
      "run_2_lp5e-04_ep1e-06_lb0.003 Epoch 86/100: 100%|████| 890/890 [20:08<00:00,  1.36s/it, grad_norm=5.0405, loss=-0.7734]\n"
     ]
    },
    {
     "name": "stdout",
     "output_type": "stream",
     "text": [
      "run_2_lp5e-04_ep1e-06_lb0.003 Epoch 86/100 | Avg Loss: -0.7099, Avg Grad Norm: 5.1583, LR: 0.000000\n"
     ]
    },
    {
     "name": "stderr",
     "output_type": "stream",
     "text": [
      "run_2_lp5e-04_ep1e-06_lb0.003 Epoch 87/100: 100%|███| 890/890 [20:31<00:00,  1.38s/it, grad_norm=17.3584, loss=-0.3898]\n"
     ]
    },
    {
     "name": "stdout",
     "output_type": "stream",
     "text": [
      "run_2_lp5e-04_ep1e-06_lb0.003 Epoch 87/100 | Avg Loss: -0.7078, Avg Grad Norm: 5.1417, LR: 0.000000\n"
     ]
    },
    {
     "name": "stderr",
     "output_type": "stream",
     "text": [
      "run_2_lp5e-04_ep1e-06_lb0.003 Epoch 88/100: 100%|████| 890/890 [20:21<00:00,  1.37s/it, grad_norm=8.2256, loss=-0.5710]\n"
     ]
    },
    {
     "name": "stdout",
     "output_type": "stream",
     "text": [
      "run_2_lp5e-04_ep1e-06_lb0.003 Epoch 88/100 | Avg Loss: -0.7122, Avg Grad Norm: 5.0419, LR: 0.000000\n"
     ]
    },
    {
     "name": "stderr",
     "output_type": "stream",
     "text": [
      "run_2_lp5e-04_ep1e-06_lb0.003 Epoch 89/100: 100%|███| 890/890 [20:10<00:00,  1.36s/it, grad_norm=11.5469, loss=-0.7116]\n"
     ]
    },
    {
     "name": "stdout",
     "output_type": "stream",
     "text": [
      "run_2_lp5e-04_ep1e-06_lb0.003 Epoch 89/100 | Avg Loss: -0.7081, Avg Grad Norm: 5.0552, LR: 0.000000\n"
     ]
    },
    {
     "name": "stderr",
     "output_type": "stream",
     "text": [
      "run_2_lp5e-04_ep1e-06_lb0.003 Epoch 90/100: 100%|████| 890/890 [20:28<00:00,  1.38s/it, grad_norm=1.3879, loss=-0.8188]\n"
     ]
    },
    {
     "name": "stdout",
     "output_type": "stream",
     "text": [
      "run_2_lp5e-04_ep1e-06_lb0.003 Epoch 90/100 | Avg Loss: -0.7017, Avg Grad Norm: 5.3363, LR: 0.000000\n",
      "Checkpoint saved at 'audiotwin_checkpoints_medium\\run_2_lp5e-04_ep1e-06_lb0.003\\audiotwin_pestlarvanet_medium_epoch_90.pth'\n"
     ]
    },
    {
     "name": "stderr",
     "output_type": "stream",
     "text": [
      "run_2_lp5e-04_ep1e-06_lb0.003 Epoch 91/100: 100%|███| 890/890 [20:35<00:00,  1.39s/it, grad_norm=13.9238, loss=-0.2559]\n"
     ]
    },
    {
     "name": "stdout",
     "output_type": "stream",
     "text": [
      "run_2_lp5e-04_ep1e-06_lb0.003 Epoch 91/100 | Avg Loss: -0.7041, Avg Grad Norm: 5.1330, LR: 0.000000\n"
     ]
    },
    {
     "name": "stderr",
     "output_type": "stream",
     "text": [
      "run_2_lp5e-04_ep1e-06_lb0.003 Epoch 92/100: 100%|████| 890/890 [20:31<00:00,  1.38s/it, grad_norm=1.4331, loss=-0.8116]\n"
     ]
    },
    {
     "name": "stdout",
     "output_type": "stream",
     "text": [
      "run_2_lp5e-04_ep1e-06_lb0.003 Epoch 92/100 | Avg Loss: -0.7206, Avg Grad Norm: 4.8686, LR: 0.000000\n"
     ]
    },
    {
     "name": "stderr",
     "output_type": "stream",
     "text": [
      "run_2_lp5e-04_ep1e-06_lb0.003 Epoch 93/100: 100%|███| 890/890 [20:43<00:00,  1.40s/it, grad_norm=12.1783, loss=-0.3973]\n"
     ]
    },
    {
     "name": "stdout",
     "output_type": "stream",
     "text": [
      "run_2_lp5e-04_ep1e-06_lb0.003 Epoch 93/100 | Avg Loss: -0.7035, Avg Grad Norm: 5.3062, LR: 0.000000\n"
     ]
    },
    {
     "name": "stderr",
     "output_type": "stream",
     "text": [
      "run_2_lp5e-04_ep1e-06_lb0.003 Epoch 94/100: 100%|███| 890/890 [20:24<00:00,  1.38s/it, grad_norm=18.2460, loss=-0.3924]\n"
     ]
    },
    {
     "name": "stdout",
     "output_type": "stream",
     "text": [
      "run_2_lp5e-04_ep1e-06_lb0.003 Epoch 94/100 | Avg Loss: -0.7131, Avg Grad Norm: 4.9907, LR: 0.000000\n"
     ]
    },
    {
     "name": "stderr",
     "output_type": "stream",
     "text": [
      "run_2_lp5e-04_ep1e-06_lb0.003 Epoch 95/100: 100%|███| 890/890 [20:35<00:00,  1.39s/it, grad_norm=15.2372, loss=-0.4041]\n"
     ]
    },
    {
     "name": "stdout",
     "output_type": "stream",
     "text": [
      "run_2_lp5e-04_ep1e-06_lb0.003 Epoch 95/100 | Avg Loss: -0.7116, Avg Grad Norm: 4.9648, LR: 0.000000\n",
      "Checkpoint saved at 'audiotwin_checkpoints_medium\\run_2_lp5e-04_ep1e-06_lb0.003\\audiotwin_pestlarvanet_medium_epoch_95.pth'\n"
     ]
    },
    {
     "name": "stderr",
     "output_type": "stream",
     "text": [
      "run_2_lp5e-04_ep1e-06_lb0.003 Epoch 96/100: 100%|███| 890/890 [20:19<00:00,  1.37s/it, grad_norm=19.2113, loss=-0.4795]\n"
     ]
    },
    {
     "name": "stdout",
     "output_type": "stream",
     "text": [
      "run_2_lp5e-04_ep1e-06_lb0.003 Epoch 96/100 | Avg Loss: -0.7167, Avg Grad Norm: 4.9462, LR: 0.000000\n"
     ]
    },
    {
     "name": "stderr",
     "output_type": "stream",
     "text": [
      "run_2_lp5e-04_ep1e-06_lb0.003 Epoch 97/100: 100%|███| 890/890 [20:48<00:00,  1.40s/it, grad_norm=16.8742, loss=-0.2194]\n"
     ]
    },
    {
     "name": "stdout",
     "output_type": "stream",
     "text": [
      "run_2_lp5e-04_ep1e-06_lb0.003 Epoch 97/100 | Avg Loss: -0.7104, Avg Grad Norm: 5.0481, LR: 0.000000\n"
     ]
    },
    {
     "name": "stderr",
     "output_type": "stream",
     "text": [
      "run_2_lp5e-04_ep1e-06_lb0.003 Epoch 98/100: 100%|████| 890/890 [20:29<00:00,  1.38s/it, grad_norm=2.6221, loss=-0.8219]\n"
     ]
    },
    {
     "name": "stdout",
     "output_type": "stream",
     "text": [
      "run_2_lp5e-04_ep1e-06_lb0.003 Epoch 98/100 | Avg Loss: -0.7187, Avg Grad Norm: 4.8567, LR: 0.000000\n"
     ]
    },
    {
     "name": "stderr",
     "output_type": "stream",
     "text": [
      "run_2_lp5e-04_ep1e-06_lb0.003 Epoch 99/100: 100%|████| 890/890 [20:16<00:00,  1.37s/it, grad_norm=4.8448, loss=-0.7828]\n"
     ]
    },
    {
     "name": "stdout",
     "output_type": "stream",
     "text": [
      "run_2_lp5e-04_ep1e-06_lb0.003 Epoch 99/100 | Avg Loss: -0.7027, Avg Grad Norm: 5.2328, LR: 0.000000\n"
     ]
    },
    {
     "name": "stderr",
     "output_type": "stream",
     "text": [
      "run_2_lp5e-04_ep1e-06_lb0.003 Epoch 100/100: 100%|██| 890/890 [20:35<00:00,  1.39s/it, grad_norm=12.9541, loss=-0.5836]\n"
     ]
    },
    {
     "name": "stdout",
     "output_type": "stream",
     "text": [
      "run_2_lp5e-04_ep1e-06_lb0.003 Epoch 100/100 | Avg Loss: -0.7146, Avg Grad Norm: 4.9768, LR: 0.000000\n",
      "Checkpoint saved at 'audiotwin_checkpoints_medium\\run_2_lp5e-04_ep1e-06_lb0.003\\audiotwin_pestlarvanet_medium_epoch_100.pth'\n",
      "\n",
      "Starting Pre-training with AudioTwin - run_3_lp1e-03_ep1e-06_lb0.005\n"
     ]
    },
    {
     "name": "stderr",
     "output_type": "stream",
     "text": [
      "run_3_lp1e-03_ep1e-06_lb0.005 Epoch 1/100: 100%|██████| 890/890 [17:29<00:00,  1.18s/it, grad_norm=6.4499, loss=0.8872]\n"
     ]
    },
    {
     "name": "stdout",
     "output_type": "stream",
     "text": [
      "run_3_lp1e-03_ep1e-06_lb0.005 Epoch 1/100 | Avg Loss: 1.9877, Avg Grad Norm: 8.2708, LR: 0.000005\n"
     ]
    },
    {
     "name": "stderr",
     "output_type": "stream",
     "text": [
      "run_3_lp1e-03_ep1e-06_lb0.005 Epoch 2/100: 100%|█████| 890/890 [17:32<00:00,  1.18s/it, grad_norm=25.3659, loss=1.6577]\n"
     ]
    },
    {
     "name": "stdout",
     "output_type": "stream",
     "text": [
      "run_3_lp1e-03_ep1e-06_lb0.005 Epoch 2/100 | Avg Loss: 1.0778, Avg Grad Norm: 7.9791, LR: 0.000005\n"
     ]
    },
    {
     "name": "stderr",
     "output_type": "stream",
     "text": [
      "run_3_lp1e-03_ep1e-06_lb0.005 Epoch 3/100: 100%|█████| 890/890 [18:10<00:00,  1.23s/it, grad_norm=3.2239, loss=-0.0234]\n"
     ]
    },
    {
     "name": "stdout",
     "output_type": "stream",
     "text": [
      "run_3_lp1e-03_ep1e-06_lb0.005 Epoch 3/100 | Avg Loss: 0.6841, Avg Grad Norm: 7.6798, LR: 0.000005\n"
     ]
    },
    {
     "name": "stderr",
     "output_type": "stream",
     "text": [
      "run_3_lp1e-03_ep1e-06_lb0.005 Epoch 4/100: 100%|█████| 890/890 [17:49<00:00,  1.20s/it, grad_norm=1.8642, loss=-0.1737]\n"
     ]
    },
    {
     "name": "stdout",
     "output_type": "stream",
     "text": [
      "run_3_lp1e-03_ep1e-06_lb0.005 Epoch 4/100 | Avg Loss: 0.4622, Avg Grad Norm: 8.2828, LR: 0.000005\n"
     ]
    },
    {
     "name": "stderr",
     "output_type": "stream",
     "text": [
      "run_3_lp1e-03_ep1e-06_lb0.005 Epoch 5/100: 100%|█████| 890/890 [17:11<00:00,  1.16s/it, grad_norm=12.5002, loss=0.1747]\n"
     ]
    },
    {
     "name": "stdout",
     "output_type": "stream",
     "text": [
      "run_3_lp1e-03_ep1e-06_lb0.005 Epoch 5/100 | Avg Loss: 0.3603, Avg Grad Norm: 8.6149, LR: 0.000005\n",
      "Checkpoint saved at 'audiotwin_checkpoints_medium\\run_3_lp1e-03_ep1e-06_lb0.005\\audiotwin_pestlarvanet_medium_epoch_5.pth'\n"
     ]
    },
    {
     "name": "stderr",
     "output_type": "stream",
     "text": [
      "run_3_lp1e-03_ep1e-06_lb0.005 Epoch 6/100: 100%|█████| 890/890 [17:54<00:00,  1.21s/it, grad_norm=80.8934, loss=0.2748]\n"
     ]
    },
    {
     "name": "stdout",
     "output_type": "stream",
     "text": [
      "run_3_lp1e-03_ep1e-06_lb0.005 Epoch 6/100 | Avg Loss: 0.3087, Avg Grad Norm: 8.7072, LR: 0.000005\n"
     ]
    },
    {
     "name": "stderr",
     "output_type": "stream",
     "text": [
      "run_3_lp1e-03_ep1e-06_lb0.005 Epoch 7/100: 100%|█████| 890/890 [18:05<00:00,  1.22s/it, grad_norm=23.6141, loss=0.6364]\n"
     ]
    },
    {
     "name": "stdout",
     "output_type": "stream",
     "text": [
      "run_3_lp1e-03_ep1e-06_lb0.005 Epoch 7/100 | Avg Loss: 0.2638, Avg Grad Norm: 9.0739, LR: 0.000005\n"
     ]
    },
    {
     "name": "stderr",
     "output_type": "stream",
     "text": [
      "run_3_lp1e-03_ep1e-06_lb0.005 Epoch 8/100: 100%|█████| 890/890 [17:58<00:00,  1.21s/it, grad_norm=13.1787, loss=0.1903]\n"
     ]
    },
    {
     "name": "stdout",
     "output_type": "stream",
     "text": [
      "run_3_lp1e-03_ep1e-06_lb0.005 Epoch 8/100 | Avg Loss: 0.1852, Avg Grad Norm: 8.7983, LR: 0.000005\n"
     ]
    },
    {
     "name": "stderr",
     "output_type": "stream",
     "text": [
      "run_3_lp1e-03_ep1e-06_lb0.005 Epoch 9/100: 100%|█████| 890/890 [18:12<00:00,  1.23s/it, grad_norm=3.0630, loss=-0.2448]\n"
     ]
    },
    {
     "name": "stdout",
     "output_type": "stream",
     "text": [
      "run_3_lp1e-03_ep1e-06_lb0.005 Epoch 9/100 | Avg Loss: 0.1432, Avg Grad Norm: 8.7799, LR: 0.000005\n"
     ]
    },
    {
     "name": "stderr",
     "output_type": "stream",
     "text": [
      "run_3_lp1e-03_ep1e-06_lb0.005 Epoch 10/100: 100%|████| 890/890 [18:20<00:00,  1.24s/it, grad_norm=13.6143, loss=0.0647]\n"
     ]
    },
    {
     "name": "stdout",
     "output_type": "stream",
     "text": [
      "run_3_lp1e-03_ep1e-06_lb0.005 Epoch 10/100 | Avg Loss: 0.1423, Avg Grad Norm: 9.0807, LR: 0.000005\n",
      "Checkpoint saved at 'audiotwin_checkpoints_medium\\run_3_lp1e-03_ep1e-06_lb0.005\\audiotwin_pestlarvanet_medium_epoch_10.pth'\n"
     ]
    },
    {
     "name": "stderr",
     "output_type": "stream",
     "text": [
      "run_3_lp1e-03_ep1e-06_lb0.005 Epoch 11/100: 100%|████| 890/890 [17:33<00:00,  1.18s/it, grad_norm=11.6437, loss=0.2615]\n"
     ]
    },
    {
     "name": "stdout",
     "output_type": "stream",
     "text": [
      "run_3_lp1e-03_ep1e-06_lb0.005 Epoch 11/100 | Avg Loss: 0.1236, Avg Grad Norm: 9.3822, LR: 0.000005\n"
     ]
    },
    {
     "name": "stderr",
     "output_type": "stream",
     "text": [
      "run_3_lp1e-03_ep1e-06_lb0.005 Epoch 12/100: 100%|████| 890/890 [17:25<00:00,  1.17s/it, grad_norm=17.3016, loss=0.4670]\n"
     ]
    },
    {
     "name": "stdout",
     "output_type": "stream",
     "text": [
      "run_3_lp1e-03_ep1e-06_lb0.005 Epoch 12/100 | Avg Loss: 0.0599, Avg Grad Norm: 8.7201, LR: 0.000005\n"
     ]
    },
    {
     "name": "stderr",
     "output_type": "stream",
     "text": [
      "run_3_lp1e-03_ep1e-06_lb0.005 Epoch 13/100: 100%|████| 890/890 [21:08<00:00,  1.43s/it, grad_norm=1.3739, loss=-0.3580]\n"
     ]
    },
    {
     "name": "stdout",
     "output_type": "stream",
     "text": [
      "run_3_lp1e-03_ep1e-06_lb0.005 Epoch 13/100 | Avg Loss: 0.0526, Avg Grad Norm: 9.0551, LR: 0.000005\n"
     ]
    },
    {
     "name": "stderr",
     "output_type": "stream",
     "text": [
      "run_3_lp1e-03_ep1e-06_lb0.005 Epoch 14/100: 100%|████| 890/890 [20:26<00:00,  1.38s/it, grad_norm=9.4037, loss=-0.0228]\n"
     ]
    },
    {
     "name": "stdout",
     "output_type": "stream",
     "text": [
      "run_3_lp1e-03_ep1e-06_lb0.005 Epoch 14/100 | Avg Loss: 0.0207, Avg Grad Norm: 8.6372, LR: 0.000005\n"
     ]
    },
    {
     "name": "stderr",
     "output_type": "stream",
     "text": [
      "run_3_lp1e-03_ep1e-06_lb0.005 Epoch 15/100: 100%|████| 890/890 [17:30<00:00,  1.18s/it, grad_norm=4.5375, loss=-0.2425]\n"
     ]
    },
    {
     "name": "stdout",
     "output_type": "stream",
     "text": [
      "run_3_lp1e-03_ep1e-06_lb0.005 Epoch 15/100 | Avg Loss: 0.0322, Avg Grad Norm: 9.3419, LR: 0.000005\n",
      "Checkpoint saved at 'audiotwin_checkpoints_medium\\run_3_lp1e-03_ep1e-06_lb0.005\\audiotwin_pestlarvanet_medium_epoch_15.pth'\n"
     ]
    },
    {
     "name": "stderr",
     "output_type": "stream",
     "text": [
      "run_3_lp1e-03_ep1e-06_lb0.005 Epoch 16/100: 100%|████| 890/890 [17:19<00:00,  1.17s/it, grad_norm=6.4142, loss=-0.2535]\n"
     ]
    },
    {
     "name": "stdout",
     "output_type": "stream",
     "text": [
      "run_3_lp1e-03_ep1e-06_lb0.005 Epoch 16/100 | Avg Loss: -0.0053, Avg Grad Norm: 8.9330, LR: 0.000005\n"
     ]
    },
    {
     "name": "stderr",
     "output_type": "stream",
     "text": [
      "run_3_lp1e-03_ep1e-06_lb0.005 Epoch 17/100: 100%|████| 890/890 [17:37<00:00,  1.19s/it, grad_norm=8.9892, loss=-0.2566]\n"
     ]
    },
    {
     "name": "stdout",
     "output_type": "stream",
     "text": [
      "run_3_lp1e-03_ep1e-06_lb0.005 Epoch 17/100 | Avg Loss: -0.0208, Avg Grad Norm: 9.1535, LR: 0.000005\n"
     ]
    },
    {
     "name": "stderr",
     "output_type": "stream",
     "text": [
      "run_3_lp1e-03_ep1e-06_lb0.005 Epoch 18/100: 100%|███| 890/890 [18:10<00:00,  1.23s/it, grad_norm=10.8599, loss=-0.0808]\n"
     ]
    },
    {
     "name": "stdout",
     "output_type": "stream",
     "text": [
      "run_3_lp1e-03_ep1e-06_lb0.005 Epoch 18/100 | Avg Loss: -0.0545, Avg Grad Norm: 8.6913, LR: 0.000005\n"
     ]
    },
    {
     "name": "stderr",
     "output_type": "stream",
     "text": [
      "run_3_lp1e-03_ep1e-06_lb0.005 Epoch 19/100: 100%|████| 890/890 [19:53<00:00,  1.34s/it, grad_norm=10.6723, loss=0.2754]\n"
     ]
    },
    {
     "name": "stdout",
     "output_type": "stream",
     "text": [
      "run_3_lp1e-03_ep1e-06_lb0.005 Epoch 19/100 | Avg Loss: -0.0621, Avg Grad Norm: 8.8863, LR: 0.000005\n"
     ]
    },
    {
     "name": "stderr",
     "output_type": "stream",
     "text": [
      "run_3_lp1e-03_ep1e-06_lb0.005 Epoch 20/100: 100%|████| 890/890 [17:28<00:00,  1.18s/it, grad_norm=30.1230, loss=1.4626]\n"
     ]
    },
    {
     "name": "stdout",
     "output_type": "stream",
     "text": [
      "run_3_lp1e-03_ep1e-06_lb0.005 Epoch 20/100 | Avg Loss: -0.0617, Avg Grad Norm: 9.2760, LR: 0.000005\n",
      "Checkpoint saved at 'audiotwin_checkpoints_medium\\run_3_lp1e-03_ep1e-06_lb0.005\\audiotwin_pestlarvanet_medium_epoch_20.pth'\n"
     ]
    },
    {
     "name": "stderr",
     "output_type": "stream",
     "text": [
      "run_3_lp1e-03_ep1e-06_lb0.005 Epoch 21/100: 100%|████| 890/890 [17:27<00:00,  1.18s/it, grad_norm=4.2832, loss=-0.3388]\n"
     ]
    },
    {
     "name": "stdout",
     "output_type": "stream",
     "text": [
      "run_3_lp1e-03_ep1e-06_lb0.005 Epoch 21/100 | Avg Loss: -0.0827, Avg Grad Norm: 9.1967, LR: 0.000005\n"
     ]
    },
    {
     "name": "stderr",
     "output_type": "stream",
     "text": [
      "run_3_lp1e-03_ep1e-06_lb0.005 Epoch 22/100: 100%|████| 890/890 [17:49<00:00,  1.20s/it, grad_norm=6.8989, loss=-0.2383]\n"
     ]
    },
    {
     "name": "stdout",
     "output_type": "stream",
     "text": [
      "run_3_lp1e-03_ep1e-06_lb0.005 Epoch 22/100 | Avg Loss: -0.0776, Avg Grad Norm: 9.1170, LR: 0.000005\n"
     ]
    },
    {
     "name": "stderr",
     "output_type": "stream",
     "text": [
      "run_3_lp1e-03_ep1e-06_lb0.005 Epoch 23/100: 100%|████| 890/890 [17:28<00:00,  1.18s/it, grad_norm=25.6505, loss=0.4195]\n"
     ]
    },
    {
     "name": "stdout",
     "output_type": "stream",
     "text": [
      "run_3_lp1e-03_ep1e-06_lb0.005 Epoch 23/100 | Avg Loss: -0.0851, Avg Grad Norm: 9.2641, LR: 0.000005\n"
     ]
    },
    {
     "name": "stderr",
     "output_type": "stream",
     "text": [
      "run_3_lp1e-03_ep1e-06_lb0.005 Epoch 24/100: 100%|████| 890/890 [17:48<00:00,  1.20s/it, grad_norm=12.7015, loss=0.0029]\n"
     ]
    },
    {
     "name": "stdout",
     "output_type": "stream",
     "text": [
      "run_3_lp1e-03_ep1e-06_lb0.005 Epoch 24/100 | Avg Loss: -0.1078, Avg Grad Norm: 8.9093, LR: 0.000005\n"
     ]
    },
    {
     "name": "stderr",
     "output_type": "stream",
     "text": [
      "run_3_lp1e-03_ep1e-06_lb0.005 Epoch 25/100: 100%|████| 890/890 [17:21<00:00,  1.17s/it, grad_norm=24.3807, loss=0.2791]\n"
     ]
    },
    {
     "name": "stdout",
     "output_type": "stream",
     "text": [
      "run_3_lp1e-03_ep1e-06_lb0.005 Epoch 25/100 | Avg Loss: -0.1281, Avg Grad Norm: 8.9551, LR: 0.000005\n",
      "Checkpoint saved at 'audiotwin_checkpoints_medium\\run_3_lp1e-03_ep1e-06_lb0.005\\audiotwin_pestlarvanet_medium_epoch_25.pth'\n"
     ]
    },
    {
     "name": "stderr",
     "output_type": "stream",
     "text": [
      "run_3_lp1e-03_ep1e-06_lb0.005 Epoch 26/100: 100%|████| 890/890 [17:39<00:00,  1.19s/it, grad_norm=0.9984, loss=-0.4300]\n"
     ]
    },
    {
     "name": "stdout",
     "output_type": "stream",
     "text": [
      "run_3_lp1e-03_ep1e-06_lb0.005 Epoch 26/100 | Avg Loss: -0.1299, Avg Grad Norm: 8.9650, LR: 0.000005\n"
     ]
    },
    {
     "name": "stderr",
     "output_type": "stream",
     "text": [
      "run_3_lp1e-03_ep1e-06_lb0.005 Epoch 27/100: 100%|████| 890/890 [18:24<00:00,  1.24s/it, grad_norm=18.3017, loss=0.4842]\n"
     ]
    },
    {
     "name": "stdout",
     "output_type": "stream",
     "text": [
      "run_3_lp1e-03_ep1e-06_lb0.005 Epoch 27/100 | Avg Loss: -0.1595, Avg Grad Norm: 8.9848, LR: 0.000005\n"
     ]
    },
    {
     "name": "stderr",
     "output_type": "stream",
     "text": [
      "run_3_lp1e-03_ep1e-06_lb0.005 Epoch 28/100: 100%|████| 890/890 [16:47<00:00,  1.13s/it, grad_norm=2.8206, loss=-0.4097]\n"
     ]
    },
    {
     "name": "stdout",
     "output_type": "stream",
     "text": [
      "run_3_lp1e-03_ep1e-06_lb0.005 Epoch 28/100 | Avg Loss: -0.1507, Avg Grad Norm: 9.0791, LR: 0.000005\n"
     ]
    },
    {
     "name": "stderr",
     "output_type": "stream",
     "text": [
      "run_3_lp1e-03_ep1e-06_lb0.005 Epoch 29/100: 100%|████| 890/890 [16:53<00:00,  1.14s/it, grad_norm=5.1089, loss=-0.3695]\n"
     ]
    },
    {
     "name": "stdout",
     "output_type": "stream",
     "text": [
      "run_3_lp1e-03_ep1e-06_lb0.005 Epoch 29/100 | Avg Loss: -0.1455, Avg Grad Norm: 9.3401, LR: 0.000005\n"
     ]
    },
    {
     "name": "stderr",
     "output_type": "stream",
     "text": [
      "run_3_lp1e-03_ep1e-06_lb0.005 Epoch 30/100: 100%|████| 890/890 [17:49<00:00,  1.20s/it, grad_norm=2.9320, loss=-0.4247]\n"
     ]
    },
    {
     "name": "stdout",
     "output_type": "stream",
     "text": [
      "run_3_lp1e-03_ep1e-06_lb0.005 Epoch 30/100 | Avg Loss: -0.1559, Avg Grad Norm: 9.1918, LR: 0.000005\n",
      "Checkpoint saved at 'audiotwin_checkpoints_medium\\run_3_lp1e-03_ep1e-06_lb0.005\\audiotwin_pestlarvanet_medium_epoch_30.pth'\n"
     ]
    },
    {
     "name": "stderr",
     "output_type": "stream",
     "text": [
      "run_3_lp1e-03_ep1e-06_lb0.005 Epoch 31/100: 100%|████| 890/890 [17:25<00:00,  1.17s/it, grad_norm=8.0043, loss=-0.3325]\n"
     ]
    },
    {
     "name": "stdout",
     "output_type": "stream",
     "text": [
      "run_3_lp1e-03_ep1e-06_lb0.005 Epoch 31/100 | Avg Loss: -0.1363, Avg Grad Norm: 9.8368, LR: 0.000005\n"
     ]
    },
    {
     "name": "stderr",
     "output_type": "stream",
     "text": [
      "run_3_lp1e-03_ep1e-06_lb0.005 Epoch 32/100: 100%|███| 890/890 [16:51<00:00,  1.14s/it, grad_norm=10.6339, loss=-0.2434]\n"
     ]
    },
    {
     "name": "stdout",
     "output_type": "stream",
     "text": [
      "run_3_lp1e-03_ep1e-06_lb0.005 Epoch 32/100 | Avg Loss: -0.1842, Avg Grad Norm: 8.9080, LR: 0.000005\n"
     ]
    },
    {
     "name": "stderr",
     "output_type": "stream",
     "text": [
      "run_3_lp1e-03_ep1e-06_lb0.005 Epoch 33/100: 100%|████| 890/890 [17:46<00:00,  1.20s/it, grad_norm=2.7863, loss=-0.3935]\n"
     ]
    },
    {
     "name": "stdout",
     "output_type": "stream",
     "text": [
      "run_3_lp1e-03_ep1e-06_lb0.005 Epoch 33/100 | Avg Loss: -0.1817, Avg Grad Norm: 9.2251, LR: 0.000005\n"
     ]
    },
    {
     "name": "stderr",
     "output_type": "stream",
     "text": [
      "run_3_lp1e-03_ep1e-06_lb0.005 Epoch 34/100: 100%|████| 890/890 [17:58<00:00,  1.21s/it, grad_norm=1.6678, loss=-0.4336]\n"
     ]
    },
    {
     "name": "stdout",
     "output_type": "stream",
     "text": [
      "run_3_lp1e-03_ep1e-06_lb0.005 Epoch 34/100 | Avg Loss: -0.1506, Avg Grad Norm: 9.7282, LR: 0.000005\n"
     ]
    },
    {
     "name": "stderr",
     "output_type": "stream",
     "text": [
      "run_3_lp1e-03_ep1e-06_lb0.005 Epoch 35/100: 100%|████| 890/890 [18:13<00:00,  1.23s/it, grad_norm=7.2420, loss=-0.2629]\n"
     ]
    },
    {
     "name": "stdout",
     "output_type": "stream",
     "text": [
      "run_3_lp1e-03_ep1e-06_lb0.005 Epoch 35/100 | Avg Loss: -0.1694, Avg Grad Norm: 9.2610, LR: 0.000005\n",
      "Checkpoint saved at 'audiotwin_checkpoints_medium\\run_3_lp1e-03_ep1e-06_lb0.005\\audiotwin_pestlarvanet_medium_epoch_35.pth'\n"
     ]
    },
    {
     "name": "stderr",
     "output_type": "stream",
     "text": [
      "run_3_lp1e-03_ep1e-06_lb0.005 Epoch 36/100: 100%|████| 890/890 [17:57<00:00,  1.21s/it, grad_norm=2.2311, loss=-0.4537]\n"
     ]
    },
    {
     "name": "stdout",
     "output_type": "stream",
     "text": [
      "run_3_lp1e-03_ep1e-06_lb0.005 Epoch 36/100 | Avg Loss: -0.1871, Avg Grad Norm: 9.3092, LR: 0.000005\n"
     ]
    },
    {
     "name": "stderr",
     "output_type": "stream",
     "text": [
      "run_3_lp1e-03_ep1e-06_lb0.005 Epoch 37/100: 100%|████| 890/890 [17:22<00:00,  1.17s/it, grad_norm=2.4013, loss=-0.4108]\n"
     ]
    },
    {
     "name": "stdout",
     "output_type": "stream",
     "text": [
      "run_3_lp1e-03_ep1e-06_lb0.005 Epoch 37/100 | Avg Loss: -0.2037, Avg Grad Norm: 9.3327, LR: 0.000005\n"
     ]
    },
    {
     "name": "stderr",
     "output_type": "stream",
     "text": [
      "run_3_lp1e-03_ep1e-06_lb0.005 Epoch 38/100: 100%|████| 890/890 [17:33<00:00,  1.18s/it, grad_norm=4.4224, loss=-0.4284]\n"
     ]
    },
    {
     "name": "stdout",
     "output_type": "stream",
     "text": [
      "run_3_lp1e-03_ep1e-06_lb0.005 Epoch 38/100 | Avg Loss: -0.2075, Avg Grad Norm: 8.9662, LR: 0.000005\n"
     ]
    },
    {
     "name": "stderr",
     "output_type": "stream",
     "text": [
      "run_3_lp1e-03_ep1e-06_lb0.005 Epoch 39/100: 100%|████| 890/890 [18:13<00:00,  1.23s/it, grad_norm=46.2209, loss=0.9422]\n"
     ]
    },
    {
     "name": "stdout",
     "output_type": "stream",
     "text": [
      "run_3_lp1e-03_ep1e-06_lb0.005 Epoch 39/100 | Avg Loss: -0.1946, Avg Grad Norm: 9.3768, LR: 0.000005\n"
     ]
    },
    {
     "name": "stderr",
     "output_type": "stream",
     "text": [
      "run_3_lp1e-03_ep1e-06_lb0.005 Epoch 40/100: 100%|████| 890/890 [17:35<00:00,  1.19s/it, grad_norm=8.7667, loss=-0.1348]\n"
     ]
    },
    {
     "name": "stdout",
     "output_type": "stream",
     "text": [
      "run_3_lp1e-03_ep1e-06_lb0.005 Epoch 40/100 | Avg Loss: -0.1995, Avg Grad Norm: 9.1411, LR: 0.000005\n",
      "Checkpoint saved at 'audiotwin_checkpoints_medium\\run_3_lp1e-03_ep1e-06_lb0.005\\audiotwin_pestlarvanet_medium_epoch_40.pth'\n"
     ]
    },
    {
     "name": "stderr",
     "output_type": "stream",
     "text": [
      "run_3_lp1e-03_ep1e-06_lb0.005 Epoch 41/100: 100%|███| 890/890 [17:27<00:00,  1.18s/it, grad_norm=11.3279, loss=-0.2994]\n"
     ]
    },
    {
     "name": "stdout",
     "output_type": "stream",
     "text": [
      "run_3_lp1e-03_ep1e-06_lb0.005 Epoch 41/100 | Avg Loss: -0.2180, Avg Grad Norm: 9.1850, LR: 0.000005\n"
     ]
    },
    {
     "name": "stderr",
     "output_type": "stream",
     "text": [
      "run_3_lp1e-03_ep1e-06_lb0.005 Epoch 42/100: 100%|████| 890/890 [17:33<00:00,  1.18s/it, grad_norm=5.4764, loss=-0.3695]\n"
     ]
    },
    {
     "name": "stdout",
     "output_type": "stream",
     "text": [
      "run_3_lp1e-03_ep1e-06_lb0.005 Epoch 42/100 | Avg Loss: -0.2035, Avg Grad Norm: 9.4332, LR: 0.000005\n"
     ]
    },
    {
     "name": "stderr",
     "output_type": "stream",
     "text": [
      "run_3_lp1e-03_ep1e-06_lb0.005 Epoch 43/100: 100%|████| 890/890 [17:35<00:00,  1.19s/it, grad_norm=3.2964, loss=-0.4159]\n"
     ]
    },
    {
     "name": "stdout",
     "output_type": "stream",
     "text": [
      "run_3_lp1e-03_ep1e-06_lb0.005 Epoch 43/100 | Avg Loss: -0.2119, Avg Grad Norm: 9.5425, LR: 0.000005\n"
     ]
    },
    {
     "name": "stderr",
     "output_type": "stream",
     "text": [
      "run_3_lp1e-03_ep1e-06_lb0.005 Epoch 44/100: 100%|████| 890/890 [17:26<00:00,  1.18s/it, grad_norm=3.8178, loss=-0.4284]\n"
     ]
    },
    {
     "name": "stdout",
     "output_type": "stream",
     "text": [
      "run_3_lp1e-03_ep1e-06_lb0.005 Epoch 44/100 | Avg Loss: -0.2230, Avg Grad Norm: 9.2031, LR: 0.000005\n"
     ]
    },
    {
     "name": "stderr",
     "output_type": "stream",
     "text": [
      "run_3_lp1e-03_ep1e-06_lb0.005 Epoch 45/100: 100%|████| 890/890 [17:25<00:00,  1.18s/it, grad_norm=3.9922, loss=-0.3970]\n"
     ]
    },
    {
     "name": "stdout",
     "output_type": "stream",
     "text": [
      "run_3_lp1e-03_ep1e-06_lb0.005 Epoch 45/100 | Avg Loss: -0.2144, Avg Grad Norm: 9.3529, LR: 0.000005\n",
      "Checkpoint saved at 'audiotwin_checkpoints_medium\\run_3_lp1e-03_ep1e-06_lb0.005\\audiotwin_pestlarvanet_medium_epoch_45.pth'\n"
     ]
    },
    {
     "name": "stderr",
     "output_type": "stream",
     "text": [
      "run_3_lp1e-03_ep1e-06_lb0.005 Epoch 46/100: 100%|████| 890/890 [17:24<00:00,  1.17s/it, grad_norm=1.7363, loss=-0.4836]\n"
     ]
    },
    {
     "name": "stdout",
     "output_type": "stream",
     "text": [
      "run_3_lp1e-03_ep1e-06_lb0.005 Epoch 46/100 | Avg Loss: -0.1874, Avg Grad Norm: 9.9805, LR: 0.000005\n"
     ]
    },
    {
     "name": "stderr",
     "output_type": "stream",
     "text": [
      "run_3_lp1e-03_ep1e-06_lb0.005 Epoch 47/100: 100%|████| 890/890 [17:17<00:00,  1.17s/it, grad_norm=29.6531, loss=0.5467]\n"
     ]
    },
    {
     "name": "stdout",
     "output_type": "stream",
     "text": [
      "run_3_lp1e-03_ep1e-06_lb0.005 Epoch 47/100 | Avg Loss: -0.2152, Avg Grad Norm: 9.6951, LR: 0.000005\n"
     ]
    },
    {
     "name": "stderr",
     "output_type": "stream",
     "text": [
      "run_3_lp1e-03_ep1e-06_lb0.005 Epoch 48/100: 100%|████| 890/890 [17:23<00:00,  1.17s/it, grad_norm=27.1520, loss=0.5085]\n"
     ]
    },
    {
     "name": "stdout",
     "output_type": "stream",
     "text": [
      "run_3_lp1e-03_ep1e-06_lb0.005 Epoch 48/100 | Avg Loss: -0.2118, Avg Grad Norm: 9.5537, LR: 0.000005\n"
     ]
    },
    {
     "name": "stderr",
     "output_type": "stream",
     "text": [
      "run_3_lp1e-03_ep1e-06_lb0.005 Epoch 49/100: 100%|████| 890/890 [17:29<00:00,  1.18s/it, grad_norm=2.3420, loss=-0.4771]\n"
     ]
    },
    {
     "name": "stdout",
     "output_type": "stream",
     "text": [
      "run_3_lp1e-03_ep1e-06_lb0.005 Epoch 49/100 | Avg Loss: -0.2192, Avg Grad Norm: 9.7750, LR: 0.000005\n"
     ]
    },
    {
     "name": "stderr",
     "output_type": "stream",
     "text": [
      "run_3_lp1e-03_ep1e-06_lb0.005 Epoch 50/100: 100%|███| 890/890 [17:32<00:00,  1.18s/it, grad_norm=28.8871, loss=-0.2710]\n"
     ]
    },
    {
     "name": "stdout",
     "output_type": "stream",
     "text": [
      "run_3_lp1e-03_ep1e-06_lb0.005 Epoch 50/100 | Avg Loss: -0.2330, Avg Grad Norm: 9.4141, LR: 0.000005\n",
      "Checkpoint saved at 'audiotwin_checkpoints_medium\\run_3_lp1e-03_ep1e-06_lb0.005\\audiotwin_pestlarvanet_medium_epoch_50.pth'\n"
     ]
    },
    {
     "name": "stderr",
     "output_type": "stream",
     "text": [
      "run_3_lp1e-03_ep1e-06_lb0.005 Epoch 51/100: 100%|████| 890/890 [17:28<00:00,  1.18s/it, grad_norm=7.1415, loss=-0.3825]\n"
     ]
    },
    {
     "name": "stdout",
     "output_type": "stream",
     "text": [
      "run_3_lp1e-03_ep1e-06_lb0.005 Epoch 51/100 | Avg Loss: -0.2319, Avg Grad Norm: 9.3782, LR: 0.000005\n"
     ]
    },
    {
     "name": "stderr",
     "output_type": "stream",
     "text": [
      "run_3_lp1e-03_ep1e-06_lb0.005 Epoch 52/100: 100%|████| 890/890 [17:34<00:00,  1.19s/it, grad_norm=19.1293, loss=0.2459]\n"
     ]
    },
    {
     "name": "stdout",
     "output_type": "stream",
     "text": [
      "run_3_lp1e-03_ep1e-06_lb0.005 Epoch 52/100 | Avg Loss: -0.2046, Avg Grad Norm: 10.3238, LR: 0.000005\n"
     ]
    },
    {
     "name": "stderr",
     "output_type": "stream",
     "text": [
      "run_3_lp1e-03_ep1e-06_lb0.005 Epoch 53/100: 100%|███| 890/890 [17:25<00:00,  1.18s/it, grad_norm=13.5344, loss=-0.1536]\n"
     ]
    },
    {
     "name": "stdout",
     "output_type": "stream",
     "text": [
      "run_3_lp1e-03_ep1e-06_lb0.005 Epoch 53/100 | Avg Loss: -0.2182, Avg Grad Norm: 10.0065, LR: 0.000005\n"
     ]
    },
    {
     "name": "stderr",
     "output_type": "stream",
     "text": [
      "run_3_lp1e-03_ep1e-06_lb0.005 Epoch 54/100: 100%|███| 890/890 [17:20<00:00,  1.17s/it, grad_norm=10.1008, loss=-0.3153]\n"
     ]
    },
    {
     "name": "stdout",
     "output_type": "stream",
     "text": [
      "run_3_lp1e-03_ep1e-06_lb0.005 Epoch 54/100 | Avg Loss: -0.2418, Avg Grad Norm: 9.7958, LR: 0.000005\n"
     ]
    },
    {
     "name": "stderr",
     "output_type": "stream",
     "text": [
      "run_3_lp1e-03_ep1e-06_lb0.005 Epoch 55/100: 100%|████| 890/890 [17:38<00:00,  1.19s/it, grad_norm=1.3897, loss=-0.5159]\n"
     ]
    },
    {
     "name": "stdout",
     "output_type": "stream",
     "text": [
      "run_3_lp1e-03_ep1e-06_lb0.005 Epoch 55/100 | Avg Loss: -0.2513, Avg Grad Norm: 9.4929, LR: 0.000005\n",
      "Checkpoint saved at 'audiotwin_checkpoints_medium\\run_3_lp1e-03_ep1e-06_lb0.005\\audiotwin_pestlarvanet_medium_epoch_55.pth'\n"
     ]
    },
    {
     "name": "stderr",
     "output_type": "stream",
     "text": [
      "run_3_lp1e-03_ep1e-06_lb0.005 Epoch 56/100: 100%|███| 890/890 [19:14<00:00,  1.30s/it, grad_norm=22.4226, loss=-0.0265]\n"
     ]
    },
    {
     "name": "stdout",
     "output_type": "stream",
     "text": [
      "run_3_lp1e-03_ep1e-06_lb0.005 Epoch 56/100 | Avg Loss: -0.2110, Avg Grad Norm: 10.3647, LR: 0.000005\n"
     ]
    },
    {
     "name": "stderr",
     "output_type": "stream",
     "text": [
      "run_3_lp1e-03_ep1e-06_lb0.005 Epoch 57/100: 100%|███| 890/890 [18:37<00:00,  1.26s/it, grad_norm=14.9634, loss=-0.1765]\n"
     ]
    },
    {
     "name": "stdout",
     "output_type": "stream",
     "text": [
      "run_3_lp1e-03_ep1e-06_lb0.005 Epoch 57/100 | Avg Loss: -0.2247, Avg Grad Norm: 10.0132, LR: 0.000005\n"
     ]
    },
    {
     "name": "stderr",
     "output_type": "stream",
     "text": [
      "run_3_lp1e-03_ep1e-06_lb0.005 Epoch 58/100: 100%|████| 890/890 [17:30<00:00,  1.18s/it, grad_norm=2.1356, loss=-0.4617]\n"
     ]
    },
    {
     "name": "stdout",
     "output_type": "stream",
     "text": [
      "run_3_lp1e-03_ep1e-06_lb0.005 Epoch 58/100 | Avg Loss: -0.2332, Avg Grad Norm: 10.0259, LR: 0.000005\n"
     ]
    },
    {
     "name": "stderr",
     "output_type": "stream",
     "text": [
      "run_3_lp1e-03_ep1e-06_lb0.005 Epoch 59/100: 100%|███| 890/890 [17:25<00:00,  1.18s/it, grad_norm=15.4715, loss=-0.3621]\n"
     ]
    },
    {
     "name": "stdout",
     "output_type": "stream",
     "text": [
      "run_3_lp1e-03_ep1e-06_lb0.005 Epoch 59/100 | Avg Loss: -0.2421, Avg Grad Norm: 9.7244, LR: 0.000005\n"
     ]
    },
    {
     "name": "stderr",
     "output_type": "stream",
     "text": [
      "run_3_lp1e-03_ep1e-06_lb0.005 Epoch 60/100: 100%|████| 890/890 [17:33<00:00,  1.18s/it, grad_norm=37.4877, loss=0.4071]\n"
     ]
    },
    {
     "name": "stdout",
     "output_type": "stream",
     "text": [
      "run_3_lp1e-03_ep1e-06_lb0.005 Epoch 60/100 | Avg Loss: -0.2499, Avg Grad Norm: 9.8720, LR: 0.000005\n",
      "Checkpoint saved at 'audiotwin_checkpoints_medium\\run_3_lp1e-03_ep1e-06_lb0.005\\audiotwin_pestlarvanet_medium_epoch_60.pth'\n"
     ]
    },
    {
     "name": "stderr",
     "output_type": "stream",
     "text": [
      "run_3_lp1e-03_ep1e-06_lb0.005 Epoch 61/100: 100%|████| 890/890 [17:21<00:00,  1.17s/it, grad_norm=6.3814, loss=-0.3850]\n"
     ]
    },
    {
     "name": "stdout",
     "output_type": "stream",
     "text": [
      "run_3_lp1e-03_ep1e-06_lb0.005 Epoch 61/100 | Avg Loss: -0.2398, Avg Grad Norm: 10.1738, LR: 0.000005\n"
     ]
    },
    {
     "name": "stderr",
     "output_type": "stream",
     "text": [
      "run_3_lp1e-03_ep1e-06_lb0.005 Epoch 62/100: 100%|████| 890/890 [17:39<00:00,  1.19s/it, grad_norm=4.1859, loss=-0.4204]\n"
     ]
    },
    {
     "name": "stdout",
     "output_type": "stream",
     "text": [
      "run_3_lp1e-03_ep1e-06_lb0.005 Epoch 62/100 | Avg Loss: -0.2462, Avg Grad Norm: 9.8066, LR: 0.000001\n"
     ]
    },
    {
     "name": "stderr",
     "output_type": "stream",
     "text": [
      "run_3_lp1e-03_ep1e-06_lb0.005 Epoch 63/100: 100%|████| 890/890 [17:25<00:00,  1.17s/it, grad_norm=5.7880, loss=-0.4256]\n"
     ]
    },
    {
     "name": "stdout",
     "output_type": "stream",
     "text": [
      "run_3_lp1e-03_ep1e-06_lb0.005 Epoch 63/100 | Avg Loss: -0.2278, Avg Grad Norm: 10.4764, LR: 0.000001\n"
     ]
    },
    {
     "name": "stderr",
     "output_type": "stream",
     "text": [
      "run_3_lp1e-03_ep1e-06_lb0.005 Epoch 64/100: 100%|████| 890/890 [17:26<00:00,  1.18s/it, grad_norm=15.6731, loss=0.0059]\n"
     ]
    },
    {
     "name": "stdout",
     "output_type": "stream",
     "text": [
      "run_3_lp1e-03_ep1e-06_lb0.005 Epoch 64/100 | Avg Loss: -0.2236, Avg Grad Norm: 10.5964, LR: 0.000001\n"
     ]
    },
    {
     "name": "stderr",
     "output_type": "stream",
     "text": [
      "run_3_lp1e-03_ep1e-06_lb0.005 Epoch 65/100: 100%|████| 890/890 [17:33<00:00,  1.18s/it, grad_norm=64.7226, loss=0.6513]\n"
     ]
    },
    {
     "name": "stdout",
     "output_type": "stream",
     "text": [
      "run_3_lp1e-03_ep1e-06_lb0.005 Epoch 65/100 | Avg Loss: -0.2531, Avg Grad Norm: 10.1712, LR: 0.000001\n",
      "Checkpoint saved at 'audiotwin_checkpoints_medium\\run_3_lp1e-03_ep1e-06_lb0.005\\audiotwin_pestlarvanet_medium_epoch_65.pth'\n"
     ]
    },
    {
     "name": "stderr",
     "output_type": "stream",
     "text": [
      "run_3_lp1e-03_ep1e-06_lb0.005 Epoch 66/100: 100%|████| 890/890 [17:18<00:00,  1.17s/it, grad_norm=5.3775, loss=-0.3442]\n"
     ]
    },
    {
     "name": "stdout",
     "output_type": "stream",
     "text": [
      "run_3_lp1e-03_ep1e-06_lb0.005 Epoch 66/100 | Avg Loss: -0.2323, Avg Grad Norm: 10.2482, LR: 0.000001\n"
     ]
    },
    {
     "name": "stderr",
     "output_type": "stream",
     "text": [
      "run_3_lp1e-03_ep1e-06_lb0.005 Epoch 67/100: 100%|███| 890/890 [17:27<00:00,  1.18s/it, grad_norm=35.2055, loss=-0.1638]\n"
     ]
    },
    {
     "name": "stdout",
     "output_type": "stream",
     "text": [
      "run_3_lp1e-03_ep1e-06_lb0.005 Epoch 67/100 | Avg Loss: -0.2416, Avg Grad Norm: 10.3263, LR: 0.000001\n"
     ]
    },
    {
     "name": "stderr",
     "output_type": "stream",
     "text": [
      "run_3_lp1e-03_ep1e-06_lb0.005 Epoch 68/100: 100%|████| 890/890 [17:10<00:00,  1.16s/it, grad_norm=3.7882, loss=-0.4484]\n"
     ]
    },
    {
     "name": "stdout",
     "output_type": "stream",
     "text": [
      "run_3_lp1e-03_ep1e-06_lb0.005 Epoch 68/100 | Avg Loss: -0.2308, Avg Grad Norm: 10.4878, LR: 0.000001\n"
     ]
    },
    {
     "name": "stderr",
     "output_type": "stream",
     "text": [
      "run_3_lp1e-03_ep1e-06_lb0.005 Epoch 69/100: 100%|████| 890/890 [17:24<00:00,  1.17s/it, grad_norm=43.2930, loss=0.1846]\n"
     ]
    },
    {
     "name": "stdout",
     "output_type": "stream",
     "text": [
      "run_3_lp1e-03_ep1e-06_lb0.005 Epoch 69/100 | Avg Loss: -0.2440, Avg Grad Norm: 10.3541, LR: 0.000001\n"
     ]
    },
    {
     "name": "stderr",
     "output_type": "stream",
     "text": [
      "run_3_lp1e-03_ep1e-06_lb0.005 Epoch 70/100: 100%|████| 890/890 [17:36<00:00,  1.19s/it, grad_norm=25.6411, loss=0.1092]\n"
     ]
    },
    {
     "name": "stdout",
     "output_type": "stream",
     "text": [
      "run_3_lp1e-03_ep1e-06_lb0.005 Epoch 70/100 | Avg Loss: -0.2363, Avg Grad Norm: 10.3963, LR: 0.000001\n",
      "Checkpoint saved at 'audiotwin_checkpoints_medium\\run_3_lp1e-03_ep1e-06_lb0.005\\audiotwin_pestlarvanet_medium_epoch_70.pth'\n"
     ]
    },
    {
     "name": "stderr",
     "output_type": "stream",
     "text": [
      "run_3_lp1e-03_ep1e-06_lb0.005 Epoch 71/100: 100%|███| 890/890 [17:30<00:00,  1.18s/it, grad_norm=17.9666, loss=-0.0968]\n"
     ]
    },
    {
     "name": "stdout",
     "output_type": "stream",
     "text": [
      "run_3_lp1e-03_ep1e-06_lb0.005 Epoch 71/100 | Avg Loss: -0.2397, Avg Grad Norm: 10.4316, LR: 0.000001\n"
     ]
    },
    {
     "name": "stderr",
     "output_type": "stream",
     "text": [
      "run_3_lp1e-03_ep1e-06_lb0.005 Epoch 72/100: 100%|████| 890/890 [17:22<00:00,  1.17s/it, grad_norm=25.4540, loss=0.1831]\n"
     ]
    },
    {
     "name": "stdout",
     "output_type": "stream",
     "text": [
      "run_3_lp1e-03_ep1e-06_lb0.005 Epoch 72/100 | Avg Loss: -0.2416, Avg Grad Norm: 10.3779, LR: 0.000000\n"
     ]
    },
    {
     "name": "stderr",
     "output_type": "stream",
     "text": [
      "run_3_lp1e-03_ep1e-06_lb0.005 Epoch 73/100: 100%|████| 890/890 [17:12<00:00,  1.16s/it, grad_norm=2.8023, loss=-0.4762]\n"
     ]
    },
    {
     "name": "stdout",
     "output_type": "stream",
     "text": [
      "run_3_lp1e-03_ep1e-06_lb0.005 Epoch 73/100 | Avg Loss: -0.2532, Avg Grad Norm: 9.9844, LR: 0.000000\n"
     ]
    },
    {
     "name": "stderr",
     "output_type": "stream",
     "text": [
      "run_3_lp1e-03_ep1e-06_lb0.005 Epoch 74/100: 100%|████| 890/890 [17:29<00:00,  1.18s/it, grad_norm=46.4824, loss=0.3488]\n"
     ]
    },
    {
     "name": "stdout",
     "output_type": "stream",
     "text": [
      "run_3_lp1e-03_ep1e-06_lb0.005 Epoch 74/100 | Avg Loss: -0.2493, Avg Grad Norm: 10.2128, LR: 0.000000\n"
     ]
    },
    {
     "name": "stderr",
     "output_type": "stream",
     "text": [
      "run_3_lp1e-03_ep1e-06_lb0.005 Epoch 75/100: 100%|███| 890/890 [17:37<00:00,  1.19s/it, grad_norm=12.9957, loss=-0.1096]\n"
     ]
    },
    {
     "name": "stdout",
     "output_type": "stream",
     "text": [
      "run_3_lp1e-03_ep1e-06_lb0.005 Epoch 75/100 | Avg Loss: -0.2595, Avg Grad Norm: 9.9270, LR: 0.000000\n",
      "Checkpoint saved at 'audiotwin_checkpoints_medium\\run_3_lp1e-03_ep1e-06_lb0.005\\audiotwin_pestlarvanet_medium_epoch_75.pth'\n"
     ]
    },
    {
     "name": "stderr",
     "output_type": "stream",
     "text": [
      "run_3_lp1e-03_ep1e-06_lb0.005 Epoch 76/100: 100%|████| 890/890 [17:20<00:00,  1.17s/it, grad_norm=2.7999, loss=-0.5000]\n"
     ]
    },
    {
     "name": "stdout",
     "output_type": "stream",
     "text": [
      "run_3_lp1e-03_ep1e-06_lb0.005 Epoch 76/100 | Avg Loss: -0.2300, Avg Grad Norm: 10.7262, LR: 0.000000\n"
     ]
    },
    {
     "name": "stderr",
     "output_type": "stream",
     "text": [
      "run_3_lp1e-03_ep1e-06_lb0.005 Epoch 77/100: 100%|████| 890/890 [17:28<00:00,  1.18s/it, grad_norm=20.3122, loss=0.1783]\n"
     ]
    },
    {
     "name": "stdout",
     "output_type": "stream",
     "text": [
      "run_3_lp1e-03_ep1e-06_lb0.005 Epoch 77/100 | Avg Loss: -0.2542, Avg Grad Norm: 9.9962, LR: 0.000000\n"
     ]
    },
    {
     "name": "stderr",
     "output_type": "stream",
     "text": [
      "run_3_lp1e-03_ep1e-06_lb0.005 Epoch 78/100: 100%|████| 890/890 [17:29<00:00,  1.18s/it, grad_norm=39.3311, loss=0.6146]\n"
     ]
    },
    {
     "name": "stdout",
     "output_type": "stream",
     "text": [
      "run_3_lp1e-03_ep1e-06_lb0.005 Epoch 78/100 | Avg Loss: -0.2507, Avg Grad Norm: 10.1447, LR: 0.000000\n"
     ]
    },
    {
     "name": "stderr",
     "output_type": "stream",
     "text": [
      "run_3_lp1e-03_ep1e-06_lb0.005 Epoch 79/100: 100%|████| 890/890 [17:40<00:00,  1.19s/it, grad_norm=18.8467, loss=0.0032]\n"
     ]
    },
    {
     "name": "stdout",
     "output_type": "stream",
     "text": [
      "run_3_lp1e-03_ep1e-06_lb0.005 Epoch 79/100 | Avg Loss: -0.2441, Avg Grad Norm: 10.1362, LR: 0.000000\n"
     ]
    },
    {
     "name": "stderr",
     "output_type": "stream",
     "text": [
      "run_3_lp1e-03_ep1e-06_lb0.005 Epoch 80/100: 100%|███| 890/890 [17:32<00:00,  1.18s/it, grad_norm=11.1301, loss=-0.3207]\n"
     ]
    },
    {
     "name": "stdout",
     "output_type": "stream",
     "text": [
      "run_3_lp1e-03_ep1e-06_lb0.005 Epoch 80/100 | Avg Loss: -0.2536, Avg Grad Norm: 9.9940, LR: 0.000000\n",
      "Checkpoint saved at 'audiotwin_checkpoints_medium\\run_3_lp1e-03_ep1e-06_lb0.005\\audiotwin_pestlarvanet_medium_epoch_80.pth'\n"
     ]
    },
    {
     "name": "stderr",
     "output_type": "stream",
     "text": [
      "run_3_lp1e-03_ep1e-06_lb0.005 Epoch 81/100: 100%|████| 890/890 [17:29<00:00,  1.18s/it, grad_norm=1.4232, loss=-0.4488]\n"
     ]
    },
    {
     "name": "stdout",
     "output_type": "stream",
     "text": [
      "run_3_lp1e-03_ep1e-06_lb0.005 Epoch 81/100 | Avg Loss: -0.2671, Avg Grad Norm: 9.7900, LR: 0.000000\n"
     ]
    },
    {
     "name": "stderr",
     "output_type": "stream",
     "text": [
      "run_3_lp1e-03_ep1e-06_lb0.005 Epoch 82/100: 100%|████| 890/890 [17:30<00:00,  1.18s/it, grad_norm=9.5150, loss=-0.3259]\n"
     ]
    },
    {
     "name": "stdout",
     "output_type": "stream",
     "text": [
      "run_3_lp1e-03_ep1e-06_lb0.005 Epoch 82/100 | Avg Loss: -0.2451, Avg Grad Norm: 10.2794, LR: 0.000000\n"
     ]
    },
    {
     "name": "stderr",
     "output_type": "stream",
     "text": [
      "run_3_lp1e-03_ep1e-06_lb0.005 Epoch 83/100: 100%|████| 890/890 [17:15<00:00,  1.16s/it, grad_norm=2.6516, loss=-0.4934]\n"
     ]
    },
    {
     "name": "stdout",
     "output_type": "stream",
     "text": [
      "run_3_lp1e-03_ep1e-06_lb0.005 Epoch 83/100 | Avg Loss: -0.2344, Avg Grad Norm: 10.2756, LR: 0.000000\n"
     ]
    },
    {
     "name": "stderr",
     "output_type": "stream",
     "text": [
      "run_3_lp1e-03_ep1e-06_lb0.005 Epoch 84/100: 100%|████| 890/890 [17:26<00:00,  1.18s/it, grad_norm=1.9935, loss=-0.4862]\n"
     ]
    },
    {
     "name": "stdout",
     "output_type": "stream",
     "text": [
      "run_3_lp1e-03_ep1e-06_lb0.005 Epoch 84/100 | Avg Loss: -0.2644, Avg Grad Norm: 9.8096, LR: 0.000000\n"
     ]
    },
    {
     "name": "stderr",
     "output_type": "stream",
     "text": [
      "run_3_lp1e-03_ep1e-06_lb0.005 Epoch 85/100: 100%|████| 890/890 [17:28<00:00,  1.18s/it, grad_norm=8.4535, loss=-0.3489]\n"
     ]
    },
    {
     "name": "stdout",
     "output_type": "stream",
     "text": [
      "run_3_lp1e-03_ep1e-06_lb0.005 Epoch 85/100 | Avg Loss: -0.2498, Avg Grad Norm: 9.9587, LR: 0.000000\n",
      "Checkpoint saved at 'audiotwin_checkpoints_medium\\run_3_lp1e-03_ep1e-06_lb0.005\\audiotwin_pestlarvanet_medium_epoch_85.pth'\n"
     ]
    },
    {
     "name": "stderr",
     "output_type": "stream",
     "text": [
      "run_3_lp1e-03_ep1e-06_lb0.005 Epoch 86/100: 100%|████| 890/890 [17:29<00:00,  1.18s/it, grad_norm=24.9209, loss=0.1730]\n"
     ]
    },
    {
     "name": "stdout",
     "output_type": "stream",
     "text": [
      "run_3_lp1e-03_ep1e-06_lb0.005 Epoch 86/100 | Avg Loss: -0.2439, Avg Grad Norm: 10.1804, LR: 0.000000\n"
     ]
    },
    {
     "name": "stderr",
     "output_type": "stream",
     "text": [
      "run_3_lp1e-03_ep1e-06_lb0.005 Epoch 87/100: 100%|████| 890/890 [17:25<00:00,  1.17s/it, grad_norm=3.4213, loss=-0.4432]\n"
     ]
    },
    {
     "name": "stdout",
     "output_type": "stream",
     "text": [
      "run_3_lp1e-03_ep1e-06_lb0.005 Epoch 87/100 | Avg Loss: -0.2605, Avg Grad Norm: 9.9683, LR: 0.000000\n"
     ]
    },
    {
     "name": "stderr",
     "output_type": "stream",
     "text": [
      "run_3_lp1e-03_ep1e-06_lb0.005 Epoch 88/100: 100%|███| 890/890 [17:29<00:00,  1.18s/it, grad_norm=23.7412, loss=-0.1795]\n"
     ]
    },
    {
     "name": "stdout",
     "output_type": "stream",
     "text": [
      "run_3_lp1e-03_ep1e-06_lb0.005 Epoch 88/100 | Avg Loss: -0.2358, Avg Grad Norm: 10.4470, LR: 0.000000\n"
     ]
    },
    {
     "name": "stderr",
     "output_type": "stream",
     "text": [
      "run_3_lp1e-03_ep1e-06_lb0.005 Epoch 89/100: 100%|████| 890/890 [17:22<00:00,  1.17s/it, grad_norm=50.0421, loss=0.6752]\n"
     ]
    },
    {
     "name": "stdout",
     "output_type": "stream",
     "text": [
      "run_3_lp1e-03_ep1e-06_lb0.005 Epoch 89/100 | Avg Loss: -0.2575, Avg Grad Norm: 10.0089, LR: 0.000000\n"
     ]
    },
    {
     "name": "stderr",
     "output_type": "stream",
     "text": [
      "run_3_lp1e-03_ep1e-06_lb0.005 Epoch 90/100: 100%|███| 890/890 [17:20<00:00,  1.17s/it, grad_norm=14.5231, loss=-0.2210]\n"
     ]
    },
    {
     "name": "stdout",
     "output_type": "stream",
     "text": [
      "run_3_lp1e-03_ep1e-06_lb0.005 Epoch 90/100 | Avg Loss: -0.2558, Avg Grad Norm: 10.0805, LR: 0.000000\n",
      "Checkpoint saved at 'audiotwin_checkpoints_medium\\run_3_lp1e-03_ep1e-06_lb0.005\\audiotwin_pestlarvanet_medium_epoch_90.pth'\n"
     ]
    },
    {
     "name": "stderr",
     "output_type": "stream",
     "text": [
      "run_3_lp1e-03_ep1e-06_lb0.005 Epoch 91/100: 100%|████| 890/890 [17:23<00:00,  1.17s/it, grad_norm=9.4085, loss=-0.3452]\n"
     ]
    },
    {
     "name": "stdout",
     "output_type": "stream",
     "text": [
      "run_3_lp1e-03_ep1e-06_lb0.005 Epoch 91/100 | Avg Loss: -0.2429, Avg Grad Norm: 10.3570, LR: 0.000000\n"
     ]
    },
    {
     "name": "stderr",
     "output_type": "stream",
     "text": [
      "run_3_lp1e-03_ep1e-06_lb0.005 Epoch 92/100: 100%|███| 890/890 [17:22<00:00,  1.17s/it, grad_norm=19.0608, loss=-0.0911]\n"
     ]
    },
    {
     "name": "stdout",
     "output_type": "stream",
     "text": [
      "run_3_lp1e-03_ep1e-06_lb0.005 Epoch 92/100 | Avg Loss: -0.2555, Avg Grad Norm: 9.9581, LR: 0.000000\n"
     ]
    },
    {
     "name": "stderr",
     "output_type": "stream",
     "text": [
      "run_3_lp1e-03_ep1e-06_lb0.005 Epoch 93/100: 100%|████| 890/890 [17:25<00:00,  1.17s/it, grad_norm=6.7735, loss=-0.3512]\n"
     ]
    },
    {
     "name": "stdout",
     "output_type": "stream",
     "text": [
      "run_3_lp1e-03_ep1e-06_lb0.005 Epoch 93/100 | Avg Loss: -0.2532, Avg Grad Norm: 9.7173, LR: 0.000000\n"
     ]
    },
    {
     "name": "stderr",
     "output_type": "stream",
     "text": [
      "run_3_lp1e-03_ep1e-06_lb0.005 Epoch 94/100: 100%|████| 890/890 [18:46<00:00,  1.27s/it, grad_norm=4.6457, loss=-0.4221]\n"
     ]
    },
    {
     "name": "stdout",
     "output_type": "stream",
     "text": [
      "run_3_lp1e-03_ep1e-06_lb0.005 Epoch 94/100 | Avg Loss: -0.2616, Avg Grad Norm: 9.8003, LR: 0.000000\n"
     ]
    },
    {
     "name": "stderr",
     "output_type": "stream",
     "text": [
      "run_3_lp1e-03_ep1e-06_lb0.005 Epoch 95/100: 100%|████| 890/890 [19:05<00:00,  1.29s/it, grad_norm=29.6463, loss=0.1535]\n"
     ]
    },
    {
     "name": "stdout",
     "output_type": "stream",
     "text": [
      "run_3_lp1e-03_ep1e-06_lb0.005 Epoch 95/100 | Avg Loss: -0.2550, Avg Grad Norm: 9.9549, LR: 0.000000\n",
      "Checkpoint saved at 'audiotwin_checkpoints_medium\\run_3_lp1e-03_ep1e-06_lb0.005\\audiotwin_pestlarvanet_medium_epoch_95.pth'\n"
     ]
    },
    {
     "name": "stderr",
     "output_type": "stream",
     "text": [
      "run_3_lp1e-03_ep1e-06_lb0.005 Epoch 96/100: 100%|███| 890/890 [17:35<00:00,  1.19s/it, grad_norm=14.7944, loss=-0.3497]\n"
     ]
    },
    {
     "name": "stdout",
     "output_type": "stream",
     "text": [
      "run_3_lp1e-03_ep1e-06_lb0.005 Epoch 96/100 | Avg Loss: -0.2399, Avg Grad Norm: 10.1124, LR: 0.000000\n"
     ]
    },
    {
     "name": "stderr",
     "output_type": "stream",
     "text": [
      "run_3_lp1e-03_ep1e-06_lb0.005 Epoch 97/100: 100%|████| 890/890 [17:18<00:00,  1.17s/it, grad_norm=46.6255, loss=0.7235]\n"
     ]
    },
    {
     "name": "stdout",
     "output_type": "stream",
     "text": [
      "run_3_lp1e-03_ep1e-06_lb0.005 Epoch 97/100 | Avg Loss: -0.2601, Avg Grad Norm: 9.8668, LR: 0.000000\n"
     ]
    },
    {
     "name": "stderr",
     "output_type": "stream",
     "text": [
      "run_3_lp1e-03_ep1e-06_lb0.005 Epoch 98/100: 100%|████| 890/890 [17:24<00:00,  1.17s/it, grad_norm=7.7327, loss=-0.2931]\n"
     ]
    },
    {
     "name": "stdout",
     "output_type": "stream",
     "text": [
      "run_3_lp1e-03_ep1e-06_lb0.005 Epoch 98/100 | Avg Loss: -0.2483, Avg Grad Norm: 10.2395, LR: 0.000000\n"
     ]
    },
    {
     "name": "stderr",
     "output_type": "stream",
     "text": [
      "run_3_lp1e-03_ep1e-06_lb0.005 Epoch 99/100: 100%|████| 890/890 [17:37<00:00,  1.19s/it, grad_norm=22.9491, loss=0.0846]\n"
     ]
    },
    {
     "name": "stdout",
     "output_type": "stream",
     "text": [
      "run_3_lp1e-03_ep1e-06_lb0.005 Epoch 99/100 | Avg Loss: -0.2635, Avg Grad Norm: 9.7849, LR: 0.000000\n"
     ]
    },
    {
     "name": "stderr",
     "output_type": "stream",
     "text": [
      "run_3_lp1e-03_ep1e-06_lb0.005 Epoch 100/100: 100%|███| 890/890 [18:33<00:00,  1.25s/it, grad_norm=25.2259, loss=0.2850]\n"
     ]
    },
    {
     "name": "stdout",
     "output_type": "stream",
     "text": [
      "run_3_lp1e-03_ep1e-06_lb0.005 Epoch 100/100 | Avg Loss: -0.2584, Avg Grad Norm: 9.9758, LR: 0.000000\n",
      "Checkpoint saved at 'audiotwin_checkpoints_medium\\run_3_lp1e-03_ep1e-06_lb0.005\\audiotwin_pestlarvanet_medium_epoch_100.pth'\n",
      "\n",
      "Starting Pre-training with AudioTwin - run_4_lp5e-03_ep1e-06_lb0.007\n"
     ]
    },
    {
     "name": "stderr",
     "output_type": "stream",
     "text": [
      "run_4_lp5e-03_ep1e-06_lb0.007 Epoch 1/100: 100%|██████| 890/890 [20:12<00:00,  1.36s/it, grad_norm=9.2365, loss=2.7915]\n"
     ]
    },
    {
     "name": "stdout",
     "output_type": "stream",
     "text": [
      "run_4_lp5e-03_ep1e-06_lb0.007 Epoch 1/100 | Avg Loss: 3.5118, Avg Grad Norm: 12.6890, LR: 0.000005\n"
     ]
    },
    {
     "name": "stderr",
     "output_type": "stream",
     "text": [
      "run_4_lp5e-03_ep1e-06_lb0.007 Epoch 2/100: 100%|█████| 890/890 [18:16<00:00,  1.23s/it, grad_norm=10.9400, loss=2.4074]\n"
     ]
    },
    {
     "name": "stdout",
     "output_type": "stream",
     "text": [
      "run_4_lp5e-03_ep1e-06_lb0.007 Epoch 2/100 | Avg Loss: 2.6760, Avg Grad Norm: 9.4369, LR: 0.000005\n"
     ]
    },
    {
     "name": "stderr",
     "output_type": "stream",
     "text": [
      "run_4_lp5e-03_ep1e-06_lb0.007 Epoch 3/100: 100%|████| 890/890 [18:18<00:00,  1.23s/it, grad_norm=106.9415, loss=2.2460]\n"
     ]
    },
    {
     "name": "stdout",
     "output_type": "stream",
     "text": [
      "run_4_lp5e-03_ep1e-06_lb0.007 Epoch 3/100 | Avg Loss: 2.3745, Avg Grad Norm: 9.7154, LR: 0.000005\n"
     ]
    },
    {
     "name": "stderr",
     "output_type": "stream",
     "text": [
      "run_4_lp5e-03_ep1e-06_lb0.007 Epoch 4/100: 100%|██████| 890/890 [18:16<00:00,  1.23s/it, grad_norm=7.7471, loss=1.9160]\n"
     ]
    },
    {
     "name": "stdout",
     "output_type": "stream",
     "text": [
      "run_4_lp5e-03_ep1e-06_lb0.007 Epoch 4/100 | Avg Loss: 2.1368, Avg Grad Norm: 9.2989, LR: 0.000005\n"
     ]
    },
    {
     "name": "stderr",
     "output_type": "stream",
     "text": [
      "run_4_lp5e-03_ep1e-06_lb0.007 Epoch 5/100: 100%|█████| 890/890 [18:20<00:00,  1.24s/it, grad_norm=28.7595, loss=3.2985]\n"
     ]
    },
    {
     "name": "stdout",
     "output_type": "stream",
     "text": [
      "run_4_lp5e-03_ep1e-06_lb0.007 Epoch 5/100 | Avg Loss: 2.0834, Avg Grad Norm: 9.5255, LR: 0.000005\n",
      "Checkpoint saved at 'audiotwin_checkpoints_medium\\run_4_lp5e-03_ep1e-06_lb0.007\\audiotwin_pestlarvanet_medium_epoch_5.pth'\n"
     ]
    },
    {
     "name": "stderr",
     "output_type": "stream",
     "text": [
      "run_4_lp5e-03_ep1e-06_lb0.007 Epoch 6/100: 100%|█████| 890/890 [18:18<00:00,  1.23s/it, grad_norm=35.5854, loss=2.8173]\n"
     ]
    },
    {
     "name": "stdout",
     "output_type": "stream",
     "text": [
      "run_4_lp5e-03_ep1e-06_lb0.007 Epoch 6/100 | Avg Loss: 2.0185, Avg Grad Norm: 9.7500, LR: 0.000005\n"
     ]
    },
    {
     "name": "stderr",
     "output_type": "stream",
     "text": [
      "run_4_lp5e-03_ep1e-06_lb0.007 Epoch 7/100: 100%|█████| 890/890 [18:28<00:00,  1.25s/it, grad_norm=16.2025, loss=2.0998]\n"
     ]
    },
    {
     "name": "stdout",
     "output_type": "stream",
     "text": [
      "run_4_lp5e-03_ep1e-06_lb0.007 Epoch 7/100 | Avg Loss: 1.9359, Avg Grad Norm: 9.8641, LR: 0.000005\n"
     ]
    },
    {
     "name": "stderr",
     "output_type": "stream",
     "text": [
      "run_4_lp5e-03_ep1e-06_lb0.007 Epoch 8/100: 100%|██████| 890/890 [18:20<00:00,  1.24s/it, grad_norm=6.2934, loss=1.5999]\n"
     ]
    },
    {
     "name": "stdout",
     "output_type": "stream",
     "text": [
      "run_4_lp5e-03_ep1e-06_lb0.007 Epoch 8/100 | Avg Loss: 1.9085, Avg Grad Norm: 10.0310, LR: 0.000005\n"
     ]
    },
    {
     "name": "stderr",
     "output_type": "stream",
     "text": [
      "run_4_lp5e-03_ep1e-06_lb0.007 Epoch 9/100: 100%|█████| 890/890 [18:12<00:00,  1.23s/it, grad_norm=17.5477, loss=2.1832]\n"
     ]
    },
    {
     "name": "stdout",
     "output_type": "stream",
     "text": [
      "run_4_lp5e-03_ep1e-06_lb0.007 Epoch 9/100 | Avg Loss: 1.8533, Avg Grad Norm: 10.0795, LR: 0.000005\n"
     ]
    },
    {
     "name": "stderr",
     "output_type": "stream",
     "text": [
      "run_4_lp5e-03_ep1e-06_lb0.007 Epoch 10/100: 100%|█████| 890/890 [18:05<00:00,  1.22s/it, grad_norm=5.7531, loss=1.3474]\n"
     ]
    },
    {
     "name": "stdout",
     "output_type": "stream",
     "text": [
      "run_4_lp5e-03_ep1e-06_lb0.007 Epoch 10/100 | Avg Loss: 1.8008, Avg Grad Norm: 10.2279, LR: 0.000005\n",
      "Checkpoint saved at 'audiotwin_checkpoints_medium\\run_4_lp5e-03_ep1e-06_lb0.007\\audiotwin_pestlarvanet_medium_epoch_10.pth'\n"
     ]
    },
    {
     "name": "stderr",
     "output_type": "stream",
     "text": [
      "run_4_lp5e-03_ep1e-06_lb0.007 Epoch 11/100: 100%|████| 890/890 [18:31<00:00,  1.25s/it, grad_norm=17.3224, loss=2.2935]\n"
     ]
    },
    {
     "name": "stdout",
     "output_type": "stream",
     "text": [
      "run_4_lp5e-03_ep1e-06_lb0.007 Epoch 11/100 | Avg Loss: 1.7728, Avg Grad Norm: 10.1033, LR: 0.000005\n"
     ]
    },
    {
     "name": "stderr",
     "output_type": "stream",
     "text": [
      "run_4_lp5e-03_ep1e-06_lb0.007 Epoch 12/100: 100%|████| 890/890 [18:20<00:00,  1.24s/it, grad_norm=26.3894, loss=2.7047]\n"
     ]
    },
    {
     "name": "stdout",
     "output_type": "stream",
     "text": [
      "run_4_lp5e-03_ep1e-06_lb0.007 Epoch 12/100 | Avg Loss: 1.7469, Avg Grad Norm: 10.5372, LR: 0.000005\n"
     ]
    },
    {
     "name": "stderr",
     "output_type": "stream",
     "text": [
      "run_4_lp5e-03_ep1e-06_lb0.007 Epoch 13/100: 100%|████| 890/890 [17:58<00:00,  1.21s/it, grad_norm=22.9160, loss=2.7189]\n"
     ]
    },
    {
     "name": "stdout",
     "output_type": "stream",
     "text": [
      "run_4_lp5e-03_ep1e-06_lb0.007 Epoch 13/100 | Avg Loss: 1.7215, Avg Grad Norm: 10.6190, LR: 0.000005\n"
     ]
    },
    {
     "name": "stderr",
     "output_type": "stream",
     "text": [
      "run_4_lp5e-03_ep1e-06_lb0.007 Epoch 14/100: 100%|████| 890/890 [18:16<00:00,  1.23s/it, grad_norm=57.0526, loss=2.3811]\n"
     ]
    },
    {
     "name": "stdout",
     "output_type": "stream",
     "text": [
      "run_4_lp5e-03_ep1e-06_lb0.007 Epoch 14/100 | Avg Loss: 1.7186, Avg Grad Norm: 11.1429, LR: 0.000005\n"
     ]
    },
    {
     "name": "stderr",
     "output_type": "stream",
     "text": [
      "run_4_lp5e-03_ep1e-06_lb0.007 Epoch 15/100: 100%|████| 890/890 [18:33<00:00,  1.25s/it, grad_norm=11.9014, loss=1.2943]\n"
     ]
    },
    {
     "name": "stdout",
     "output_type": "stream",
     "text": [
      "run_4_lp5e-03_ep1e-06_lb0.007 Epoch 15/100 | Avg Loss: 1.6555, Avg Grad Norm: 11.1410, LR: 0.000005\n",
      "Checkpoint saved at 'audiotwin_checkpoints_medium\\run_4_lp5e-03_ep1e-06_lb0.007\\audiotwin_pestlarvanet_medium_epoch_15.pth'\n"
     ]
    },
    {
     "name": "stderr",
     "output_type": "stream",
     "text": [
      "run_4_lp5e-03_ep1e-06_lb0.007 Epoch 16/100: 100%|████| 890/890 [18:24<00:00,  1.24s/it, grad_norm=57.0084, loss=2.4854]\n"
     ]
    },
    {
     "name": "stdout",
     "output_type": "stream",
     "text": [
      "run_4_lp5e-03_ep1e-06_lb0.007 Epoch 16/100 | Avg Loss: 1.6227, Avg Grad Norm: 11.4197, LR: 0.000005\n"
     ]
    },
    {
     "name": "stderr",
     "output_type": "stream",
     "text": [
      "run_4_lp5e-03_ep1e-06_lb0.007 Epoch 17/100: 100%|████| 890/890 [18:23<00:00,  1.24s/it, grad_norm=21.1184, loss=1.7294]\n"
     ]
    },
    {
     "name": "stdout",
     "output_type": "stream",
     "text": [
      "run_4_lp5e-03_ep1e-06_lb0.007 Epoch 17/100 | Avg Loss: 1.6021, Avg Grad Norm: 11.5464, LR: 0.000005\n"
     ]
    },
    {
     "name": "stderr",
     "output_type": "stream",
     "text": [
      "run_4_lp5e-03_ep1e-06_lb0.007 Epoch 18/100: 100%|████| 890/890 [18:27<00:00,  1.24s/it, grad_norm=14.6442, loss=1.3492]\n"
     ]
    },
    {
     "name": "stdout",
     "output_type": "stream",
     "text": [
      "run_4_lp5e-03_ep1e-06_lb0.007 Epoch 18/100 | Avg Loss: 1.5687, Avg Grad Norm: 11.6430, LR: 0.000005\n"
     ]
    },
    {
     "name": "stderr",
     "output_type": "stream",
     "text": [
      "run_4_lp5e-03_ep1e-06_lb0.007 Epoch 19/100: 100%|████| 890/890 [18:35<00:00,  1.25s/it, grad_norm=38.3854, loss=3.4181]\n"
     ]
    },
    {
     "name": "stdout",
     "output_type": "stream",
     "text": [
      "run_4_lp5e-03_ep1e-06_lb0.007 Epoch 19/100 | Avg Loss: 1.5783, Avg Grad Norm: 12.2847, LR: 0.000005\n"
     ]
    },
    {
     "name": "stderr",
     "output_type": "stream",
     "text": [
      "run_4_lp5e-03_ep1e-06_lb0.007 Epoch 20/100: 100%|█████| 890/890 [18:21<00:00,  1.24s/it, grad_norm=8.0432, loss=1.3275]\n"
     ]
    },
    {
     "name": "stdout",
     "output_type": "stream",
     "text": [
      "run_4_lp5e-03_ep1e-06_lb0.007 Epoch 20/100 | Avg Loss: 1.5487, Avg Grad Norm: 12.1628, LR: 0.000005\n",
      "Checkpoint saved at 'audiotwin_checkpoints_medium\\run_4_lp5e-03_ep1e-06_lb0.007\\audiotwin_pestlarvanet_medium_epoch_20.pth'\n"
     ]
    },
    {
     "name": "stderr",
     "output_type": "stream",
     "text": [
      "run_4_lp5e-03_ep1e-06_lb0.007 Epoch 21/100: 100%|████| 890/890 [18:25<00:00,  1.24s/it, grad_norm=19.8154, loss=1.4421]\n"
     ]
    },
    {
     "name": "stdout",
     "output_type": "stream",
     "text": [
      "run_4_lp5e-03_ep1e-06_lb0.007 Epoch 21/100 | Avg Loss: 1.5637, Avg Grad Norm: 12.7162, LR: 0.000005\n"
     ]
    },
    {
     "name": "stderr",
     "output_type": "stream",
     "text": [
      "run_4_lp5e-03_ep1e-06_lb0.007 Epoch 22/100: 100%|█████| 890/890 [18:03<00:00,  1.22s/it, grad_norm=9.5217, loss=1.4405]\n"
     ]
    },
    {
     "name": "stdout",
     "output_type": "stream",
     "text": [
      "run_4_lp5e-03_ep1e-06_lb0.007 Epoch 22/100 | Avg Loss: 1.5221, Avg Grad Norm: 12.3126, LR: 0.000005\n"
     ]
    },
    {
     "name": "stderr",
     "output_type": "stream",
     "text": [
      "run_4_lp5e-03_ep1e-06_lb0.007 Epoch 23/100: 100%|████| 890/890 [18:25<00:00,  1.24s/it, grad_norm=10.3426, loss=1.2120]\n"
     ]
    },
    {
     "name": "stdout",
     "output_type": "stream",
     "text": [
      "run_4_lp5e-03_ep1e-06_lb0.007 Epoch 23/100 | Avg Loss: 1.5018, Avg Grad Norm: 12.5761, LR: 0.000005\n"
     ]
    },
    {
     "name": "stderr",
     "output_type": "stream",
     "text": [
      "run_4_lp5e-03_ep1e-06_lb0.007 Epoch 24/100: 100%|█████| 890/890 [18:17<00:00,  1.23s/it, grad_norm=8.2579, loss=1.2397]\n"
     ]
    },
    {
     "name": "stdout",
     "output_type": "stream",
     "text": [
      "run_4_lp5e-03_ep1e-06_lb0.007 Epoch 24/100 | Avg Loss: 1.4782, Avg Grad Norm: 12.5218, LR: 0.000005\n"
     ]
    },
    {
     "name": "stderr",
     "output_type": "stream",
     "text": [
      "run_4_lp5e-03_ep1e-06_lb0.007 Epoch 25/100: 100%|████| 890/890 [18:14<00:00,  1.23s/it, grad_norm=13.6023, loss=1.4247]\n"
     ]
    },
    {
     "name": "stdout",
     "output_type": "stream",
     "text": [
      "run_4_lp5e-03_ep1e-06_lb0.007 Epoch 25/100 | Avg Loss: 1.4675, Avg Grad Norm: 12.5681, LR: 0.000005\n",
      "Checkpoint saved at 'audiotwin_checkpoints_medium\\run_4_lp5e-03_ep1e-06_lb0.007\\audiotwin_pestlarvanet_medium_epoch_25.pth'\n"
     ]
    },
    {
     "name": "stderr",
     "output_type": "stream",
     "text": [
      "run_4_lp5e-03_ep1e-06_lb0.007 Epoch 26/100: 100%|████| 890/890 [18:30<00:00,  1.25s/it, grad_norm=14.4993, loss=1.2560]\n"
     ]
    },
    {
     "name": "stdout",
     "output_type": "stream",
     "text": [
      "run_4_lp5e-03_ep1e-06_lb0.007 Epoch 26/100 | Avg Loss: 1.4759, Avg Grad Norm: 13.0010, LR: 0.000005\n"
     ]
    },
    {
     "name": "stderr",
     "output_type": "stream",
     "text": [
      "run_4_lp5e-03_ep1e-06_lb0.007 Epoch 27/100: 100%|████| 890/890 [18:21<00:00,  1.24s/it, grad_norm=15.1387, loss=1.4310]\n"
     ]
    },
    {
     "name": "stdout",
     "output_type": "stream",
     "text": [
      "run_4_lp5e-03_ep1e-06_lb0.007 Epoch 27/100 | Avg Loss: 1.4703, Avg Grad Norm: 13.1109, LR: 0.000005\n"
     ]
    },
    {
     "name": "stderr",
     "output_type": "stream",
     "text": [
      "run_4_lp5e-03_ep1e-06_lb0.007 Epoch 28/100: 100%|████| 890/890 [18:05<00:00,  1.22s/it, grad_norm=19.8493, loss=2.0646]\n"
     ]
    },
    {
     "name": "stdout",
     "output_type": "stream",
     "text": [
      "run_4_lp5e-03_ep1e-06_lb0.007 Epoch 28/100 | Avg Loss: 1.4482, Avg Grad Norm: 13.2553, LR: 0.000005\n"
     ]
    },
    {
     "name": "stderr",
     "output_type": "stream",
     "text": [
      "run_4_lp5e-03_ep1e-06_lb0.007 Epoch 29/100: 100%|█████| 890/890 [18:23<00:00,  1.24s/it, grad_norm=5.6170, loss=0.9304]\n"
     ]
    },
    {
     "name": "stdout",
     "output_type": "stream",
     "text": [
      "run_4_lp5e-03_ep1e-06_lb0.007 Epoch 29/100 | Avg Loss: 1.4433, Avg Grad Norm: 13.2709, LR: 0.000005\n"
     ]
    },
    {
     "name": "stderr",
     "output_type": "stream",
     "text": [
      "run_4_lp5e-03_ep1e-06_lb0.007 Epoch 30/100: 100%|█████| 890/890 [18:19<00:00,  1.24s/it, grad_norm=7.2501, loss=1.1196]\n"
     ]
    },
    {
     "name": "stdout",
     "output_type": "stream",
     "text": [
      "run_4_lp5e-03_ep1e-06_lb0.007 Epoch 30/100 | Avg Loss: 1.4062, Avg Grad Norm: 13.1104, LR: 0.000005\n",
      "Checkpoint saved at 'audiotwin_checkpoints_medium\\run_4_lp5e-03_ep1e-06_lb0.007\\audiotwin_pestlarvanet_medium_epoch_30.pth'\n"
     ]
    },
    {
     "name": "stderr",
     "output_type": "stream",
     "text": [
      "run_4_lp5e-03_ep1e-06_lb0.007 Epoch 31/100: 100%|█████| 890/890 [18:29<00:00,  1.25s/it, grad_norm=7.1934, loss=1.1821]\n"
     ]
    },
    {
     "name": "stdout",
     "output_type": "stream",
     "text": [
      "run_4_lp5e-03_ep1e-06_lb0.007 Epoch 31/100 | Avg Loss: 1.4132, Avg Grad Norm: 13.3732, LR: 0.000005\n"
     ]
    },
    {
     "name": "stderr",
     "output_type": "stream",
     "text": [
      "run_4_lp5e-03_ep1e-06_lb0.007 Epoch 32/100: 100%|████| 890/890 [18:27<00:00,  1.24s/it, grad_norm=26.9519, loss=1.8513]\n"
     ]
    },
    {
     "name": "stdout",
     "output_type": "stream",
     "text": [
      "run_4_lp5e-03_ep1e-06_lb0.007 Epoch 32/100 | Avg Loss: 1.3912, Avg Grad Norm: 13.0035, LR: 0.000005\n"
     ]
    },
    {
     "name": "stderr",
     "output_type": "stream",
     "text": [
      "run_4_lp5e-03_ep1e-06_lb0.007 Epoch 33/100: 100%|████| 890/890 [18:27<00:00,  1.24s/it, grad_norm=24.6810, loss=1.3838]\n"
     ]
    },
    {
     "name": "stdout",
     "output_type": "stream",
     "text": [
      "run_4_lp5e-03_ep1e-06_lb0.007 Epoch 33/100 | Avg Loss: 1.3971, Avg Grad Norm: 13.4654, LR: 0.000005\n"
     ]
    },
    {
     "name": "stderr",
     "output_type": "stream",
     "text": [
      "run_4_lp5e-03_ep1e-06_lb0.007 Epoch 34/100: 100%|████| 890/890 [18:19<00:00,  1.24s/it, grad_norm=30.5277, loss=2.2655]\n"
     ]
    },
    {
     "name": "stdout",
     "output_type": "stream",
     "text": [
      "run_4_lp5e-03_ep1e-06_lb0.007 Epoch 34/100 | Avg Loss: 1.3919, Avg Grad Norm: 13.9407, LR: 0.000005\n"
     ]
    },
    {
     "name": "stderr",
     "output_type": "stream",
     "text": [
      "run_4_lp5e-03_ep1e-06_lb0.007 Epoch 35/100: 100%|████| 890/890 [18:29<00:00,  1.25s/it, grad_norm=34.2935, loss=2.5781]\n"
     ]
    },
    {
     "name": "stdout",
     "output_type": "stream",
     "text": [
      "run_4_lp5e-03_ep1e-06_lb0.007 Epoch 35/100 | Avg Loss: 1.3842, Avg Grad Norm: 13.7021, LR: 0.000005\n",
      "Checkpoint saved at 'audiotwin_checkpoints_medium\\run_4_lp5e-03_ep1e-06_lb0.007\\audiotwin_pestlarvanet_medium_epoch_35.pth'\n"
     ]
    },
    {
     "name": "stderr",
     "output_type": "stream",
     "text": [
      "run_4_lp5e-03_ep1e-06_lb0.007 Epoch 36/100: 100%|████| 890/890 [18:28<00:00,  1.25s/it, grad_norm=14.0489, loss=1.4417]\n"
     ]
    },
    {
     "name": "stdout",
     "output_type": "stream",
     "text": [
      "run_4_lp5e-03_ep1e-06_lb0.007 Epoch 36/100 | Avg Loss: 1.3804, Avg Grad Norm: 13.7203, LR: 0.000005\n"
     ]
    },
    {
     "name": "stderr",
     "output_type": "stream",
     "text": [
      "run_4_lp5e-03_ep1e-06_lb0.007 Epoch 37/100: 100%|████| 890/890 [18:18<00:00,  1.23s/it, grad_norm=17.0482, loss=1.5140]\n"
     ]
    },
    {
     "name": "stdout",
     "output_type": "stream",
     "text": [
      "run_4_lp5e-03_ep1e-06_lb0.007 Epoch 37/100 | Avg Loss: 1.3591, Avg Grad Norm: 14.1074, LR: 0.000005\n"
     ]
    },
    {
     "name": "stderr",
     "output_type": "stream",
     "text": [
      "run_4_lp5e-03_ep1e-06_lb0.007 Epoch 38/100: 100%|████| 890/890 [18:13<00:00,  1.23s/it, grad_norm=15.4476, loss=1.0924]\n"
     ]
    },
    {
     "name": "stdout",
     "output_type": "stream",
     "text": [
      "run_4_lp5e-03_ep1e-06_lb0.007 Epoch 38/100 | Avg Loss: 1.3534, Avg Grad Norm: 13.6424, LR: 0.000005\n"
     ]
    },
    {
     "name": "stderr",
     "output_type": "stream",
     "text": [
      "run_4_lp5e-03_ep1e-06_lb0.007 Epoch 39/100: 100%|████| 890/890 [18:46<00:00,  1.27s/it, grad_norm=43.6217, loss=4.3689]\n"
     ]
    },
    {
     "name": "stdout",
     "output_type": "stream",
     "text": [
      "run_4_lp5e-03_ep1e-06_lb0.007 Epoch 39/100 | Avg Loss: 1.3241, Avg Grad Norm: 13.3322, LR: 0.000005\n"
     ]
    },
    {
     "name": "stderr",
     "output_type": "stream",
     "text": [
      "run_4_lp5e-03_ep1e-06_lb0.007 Epoch 40/100: 100%|████| 890/890 [20:40<00:00,  1.39s/it, grad_norm=24.7159, loss=1.8920]\n"
     ]
    },
    {
     "name": "stdout",
     "output_type": "stream",
     "text": [
      "run_4_lp5e-03_ep1e-06_lb0.007 Epoch 40/100 | Avg Loss: 1.3370, Avg Grad Norm: 13.9776, LR: 0.000005\n",
      "Checkpoint saved at 'audiotwin_checkpoints_medium\\run_4_lp5e-03_ep1e-06_lb0.007\\audiotwin_pestlarvanet_medium_epoch_40.pth'\n"
     ]
    },
    {
     "name": "stderr",
     "output_type": "stream",
     "text": [
      "run_4_lp5e-03_ep1e-06_lb0.007 Epoch 41/100: 100%|████| 890/890 [18:10<00:00,  1.23s/it, grad_norm=14.1676, loss=1.6442]\n"
     ]
    },
    {
     "name": "stdout",
     "output_type": "stream",
     "text": [
      "run_4_lp5e-03_ep1e-06_lb0.007 Epoch 41/100 | Avg Loss: 1.3324, Avg Grad Norm: 13.8502, LR: 0.000005\n"
     ]
    },
    {
     "name": "stderr",
     "output_type": "stream",
     "text": [
      "run_4_lp5e-03_ep1e-06_lb0.007 Epoch 42/100: 100%|████| 890/890 [18:13<00:00,  1.23s/it, grad_norm=22.9809, loss=1.5125]\n"
     ]
    },
    {
     "name": "stdout",
     "output_type": "stream",
     "text": [
      "run_4_lp5e-03_ep1e-06_lb0.007 Epoch 42/100 | Avg Loss: 1.3137, Avg Grad Norm: 13.9058, LR: 0.000005\n"
     ]
    },
    {
     "name": "stderr",
     "output_type": "stream",
     "text": [
      "run_4_lp5e-03_ep1e-06_lb0.007 Epoch 43/100: 100%|████| 890/890 [18:30<00:00,  1.25s/it, grad_norm=19.7547, loss=2.4132]\n"
     ]
    },
    {
     "name": "stdout",
     "output_type": "stream",
     "text": [
      "run_4_lp5e-03_ep1e-06_lb0.007 Epoch 43/100 | Avg Loss: 1.3275, Avg Grad Norm: 13.8970, LR: 0.000005\n"
     ]
    },
    {
     "name": "stderr",
     "output_type": "stream",
     "text": [
      "run_4_lp5e-03_ep1e-06_lb0.007 Epoch 44/100: 100%|████| 890/890 [18:20<00:00,  1.24s/it, grad_norm=25.0503, loss=1.4021]\n"
     ]
    },
    {
     "name": "stdout",
     "output_type": "stream",
     "text": [
      "run_4_lp5e-03_ep1e-06_lb0.007 Epoch 44/100 | Avg Loss: 1.3072, Avg Grad Norm: 13.6774, LR: 0.000005\n"
     ]
    },
    {
     "name": "stderr",
     "output_type": "stream",
     "text": [
      "run_4_lp5e-03_ep1e-06_lb0.007 Epoch 45/100: 100%|████| 890/890 [18:30<00:00,  1.25s/it, grad_norm=15.0959, loss=1.3388]\n"
     ]
    },
    {
     "name": "stdout",
     "output_type": "stream",
     "text": [
      "run_4_lp5e-03_ep1e-06_lb0.007 Epoch 45/100 | Avg Loss: 1.3256, Avg Grad Norm: 14.3446, LR: 0.000005\n",
      "Checkpoint saved at 'audiotwin_checkpoints_medium\\run_4_lp5e-03_ep1e-06_lb0.007\\audiotwin_pestlarvanet_medium_epoch_45.pth'\n"
     ]
    },
    {
     "name": "stderr",
     "output_type": "stream",
     "text": [
      "run_4_lp5e-03_ep1e-06_lb0.007 Epoch 46/100: 100%|████| 890/890 [18:21<00:00,  1.24s/it, grad_norm=11.8851, loss=1.1157]\n"
     ]
    },
    {
     "name": "stdout",
     "output_type": "stream",
     "text": [
      "run_4_lp5e-03_ep1e-06_lb0.007 Epoch 46/100 | Avg Loss: 1.3239, Avg Grad Norm: 14.2808, LR: 0.000005\n"
     ]
    },
    {
     "name": "stderr",
     "output_type": "stream",
     "text": [
      "run_4_lp5e-03_ep1e-06_lb0.007 Epoch 47/100: 100%|████| 890/890 [18:08<00:00,  1.22s/it, grad_norm=22.8738, loss=1.5432]\n"
     ]
    },
    {
     "name": "stdout",
     "output_type": "stream",
     "text": [
      "run_4_lp5e-03_ep1e-06_lb0.007 Epoch 47/100 | Avg Loss: 1.3102, Avg Grad Norm: 14.2627, LR: 0.000005\n"
     ]
    },
    {
     "name": "stderr",
     "output_type": "stream",
     "text": [
      "run_4_lp5e-03_ep1e-06_lb0.007 Epoch 48/100: 100%|████| 890/890 [18:23<00:00,  1.24s/it, grad_norm=31.9450, loss=1.3814]\n"
     ]
    },
    {
     "name": "stdout",
     "output_type": "stream",
     "text": [
      "run_4_lp5e-03_ep1e-06_lb0.007 Epoch 48/100 | Avg Loss: 1.3116, Avg Grad Norm: 14.4453, LR: 0.000005\n"
     ]
    },
    {
     "name": "stderr",
     "output_type": "stream",
     "text": [
      "run_4_lp5e-03_ep1e-06_lb0.007 Epoch 49/100: 100%|████| 890/890 [18:25<00:00,  1.24s/it, grad_norm=20.3661, loss=1.7527]\n"
     ]
    },
    {
     "name": "stdout",
     "output_type": "stream",
     "text": [
      "run_4_lp5e-03_ep1e-06_lb0.007 Epoch 49/100 | Avg Loss: 1.2970, Avg Grad Norm: 14.2486, LR: 0.000005\n"
     ]
    },
    {
     "name": "stderr",
     "output_type": "stream",
     "text": [
      "run_4_lp5e-03_ep1e-06_lb0.007 Epoch 50/100: 100%|████| 890/890 [18:44<00:00,  1.26s/it, grad_norm=24.9250, loss=2.0242]\n"
     ]
    },
    {
     "name": "stdout",
     "output_type": "stream",
     "text": [
      "run_4_lp5e-03_ep1e-06_lb0.007 Epoch 50/100 | Avg Loss: 1.2881, Avg Grad Norm: 14.3993, LR: 0.000005\n",
      "Checkpoint saved at 'audiotwin_checkpoints_medium\\run_4_lp5e-03_ep1e-06_lb0.007\\audiotwin_pestlarvanet_medium_epoch_50.pth'\n"
     ]
    },
    {
     "name": "stderr",
     "output_type": "stream",
     "text": [
      "run_4_lp5e-03_ep1e-06_lb0.007 Epoch 51/100: 100%|████| 890/890 [18:11<00:00,  1.23s/it, grad_norm=12.6592, loss=1.2129]\n"
     ]
    },
    {
     "name": "stdout",
     "output_type": "stream",
     "text": [
      "run_4_lp5e-03_ep1e-06_lb0.007 Epoch 51/100 | Avg Loss: 1.2941, Avg Grad Norm: 14.4106, LR: 0.000005\n"
     ]
    },
    {
     "name": "stderr",
     "output_type": "stream",
     "text": [
      "run_4_lp5e-03_ep1e-06_lb0.007 Epoch 52/100: 100%|████| 890/890 [18:23<00:00,  1.24s/it, grad_norm=15.0605, loss=1.0196]\n"
     ]
    },
    {
     "name": "stdout",
     "output_type": "stream",
     "text": [
      "run_4_lp5e-03_ep1e-06_lb0.007 Epoch 52/100 | Avg Loss: 1.2811, Avg Grad Norm: 14.2369, LR: 0.000005\n"
     ]
    },
    {
     "name": "stderr",
     "output_type": "stream",
     "text": [
      "run_4_lp5e-03_ep1e-06_lb0.007 Epoch 53/100: 100%|████| 890/890 [18:24<00:00,  1.24s/it, grad_norm=35.0085, loss=1.7054]\n"
     ]
    },
    {
     "name": "stdout",
     "output_type": "stream",
     "text": [
      "run_4_lp5e-03_ep1e-06_lb0.007 Epoch 53/100 | Avg Loss: 1.2669, Avg Grad Norm: 14.2854, LR: 0.000005\n"
     ]
    },
    {
     "name": "stderr",
     "output_type": "stream",
     "text": [
      "run_4_lp5e-03_ep1e-06_lb0.007 Epoch 54/100: 100%|████| 890/890 [18:09<00:00,  1.22s/it, grad_norm=15.5864, loss=1.3305]\n"
     ]
    },
    {
     "name": "stdout",
     "output_type": "stream",
     "text": [
      "run_4_lp5e-03_ep1e-06_lb0.007 Epoch 54/100 | Avg Loss: 1.2542, Avg Grad Norm: 14.4811, LR: 0.000005\n"
     ]
    },
    {
     "name": "stderr",
     "output_type": "stream",
     "text": [
      "run_4_lp5e-03_ep1e-06_lb0.007 Epoch 55/100: 100%|████| 890/890 [18:41<00:00,  1.26s/it, grad_norm=16.5855, loss=1.4592]\n"
     ]
    },
    {
     "name": "stdout",
     "output_type": "stream",
     "text": [
      "run_4_lp5e-03_ep1e-06_lb0.007 Epoch 55/100 | Avg Loss: 1.2428, Avg Grad Norm: 14.7449, LR: 0.000005\n",
      "Checkpoint saved at 'audiotwin_checkpoints_medium\\run_4_lp5e-03_ep1e-06_lb0.007\\audiotwin_pestlarvanet_medium_epoch_55.pth'\n"
     ]
    },
    {
     "name": "stderr",
     "output_type": "stream",
     "text": [
      "run_4_lp5e-03_ep1e-06_lb0.007 Epoch 56/100: 100%|████| 890/890 [18:27<00:00,  1.24s/it, grad_norm=32.9434, loss=1.7550]\n"
     ]
    },
    {
     "name": "stdout",
     "output_type": "stream",
     "text": [
      "run_4_lp5e-03_ep1e-06_lb0.007 Epoch 56/100 | Avg Loss: 1.2587, Avg Grad Norm: 14.7139, LR: 0.000005\n"
     ]
    },
    {
     "name": "stderr",
     "output_type": "stream",
     "text": [
      "run_4_lp5e-03_ep1e-06_lb0.007 Epoch 57/100: 100%|████| 890/890 [18:08<00:00,  1.22s/it, grad_norm=14.2639, loss=1.2952]\n"
     ]
    },
    {
     "name": "stdout",
     "output_type": "stream",
     "text": [
      "run_4_lp5e-03_ep1e-06_lb0.007 Epoch 57/100 | Avg Loss: 1.2774, Avg Grad Norm: 14.9898, LR: 0.000005\n"
     ]
    },
    {
     "name": "stderr",
     "output_type": "stream",
     "text": [
      "run_4_lp5e-03_ep1e-06_lb0.007 Epoch 58/100: 100%|████| 890/890 [18:25<00:00,  1.24s/it, grad_norm=26.8495, loss=1.8878]\n"
     ]
    },
    {
     "name": "stdout",
     "output_type": "stream",
     "text": [
      "run_4_lp5e-03_ep1e-06_lb0.007 Epoch 58/100 | Avg Loss: 1.2727, Avg Grad Norm: 15.1053, LR: 0.000005\n"
     ]
    },
    {
     "name": "stderr",
     "output_type": "stream",
     "text": [
      "run_4_lp5e-03_ep1e-06_lb0.007 Epoch 59/100: 100%|████| 890/890 [18:30<00:00,  1.25s/it, grad_norm=23.2237, loss=1.3027]\n"
     ]
    },
    {
     "name": "stdout",
     "output_type": "stream",
     "text": [
      "run_4_lp5e-03_ep1e-06_lb0.007 Epoch 59/100 | Avg Loss: 1.2454, Avg Grad Norm: 14.5008, LR: 0.000005\n"
     ]
    },
    {
     "name": "stderr",
     "output_type": "stream",
     "text": [
      "run_4_lp5e-03_ep1e-06_lb0.007 Epoch 60/100: 100%|████| 890/890 [18:23<00:00,  1.24s/it, grad_norm=48.1170, loss=2.5067]\n"
     ]
    },
    {
     "name": "stdout",
     "output_type": "stream",
     "text": [
      "run_4_lp5e-03_ep1e-06_lb0.007 Epoch 60/100 | Avg Loss: 1.2455, Avg Grad Norm: 14.7684, LR: 0.000005\n",
      "Checkpoint saved at 'audiotwin_checkpoints_medium\\run_4_lp5e-03_ep1e-06_lb0.007\\audiotwin_pestlarvanet_medium_epoch_60.pth'\n"
     ]
    },
    {
     "name": "stderr",
     "output_type": "stream",
     "text": [
      "run_4_lp5e-03_ep1e-06_lb0.007 Epoch 61/100: 100%|████| 890/890 [19:26<00:00,  1.31s/it, grad_norm=11.7464, loss=1.2609]\n"
     ]
    },
    {
     "name": "stdout",
     "output_type": "stream",
     "text": [
      "run_4_lp5e-03_ep1e-06_lb0.007 Epoch 61/100 | Avg Loss: 1.2669, Avg Grad Norm: 15.2811, LR: 0.000005\n"
     ]
    },
    {
     "name": "stderr",
     "output_type": "stream",
     "text": [
      "run_4_lp5e-03_ep1e-06_lb0.007 Epoch 62/100: 100%|████| 890/890 [18:24<00:00,  1.24s/it, grad_norm=23.7843, loss=1.5893]\n"
     ]
    },
    {
     "name": "stdout",
     "output_type": "stream",
     "text": [
      "run_4_lp5e-03_ep1e-06_lb0.007 Epoch 62/100 | Avg Loss: 1.2327, Avg Grad Norm: 14.8361, LR: 0.000001\n"
     ]
    },
    {
     "name": "stderr",
     "output_type": "stream",
     "text": [
      "run_4_lp5e-03_ep1e-06_lb0.007 Epoch 63/100: 100%|████| 890/890 [18:58<00:00,  1.28s/it, grad_norm=30.2889, loss=1.5364]\n"
     ]
    },
    {
     "name": "stdout",
     "output_type": "stream",
     "text": [
      "run_4_lp5e-03_ep1e-06_lb0.007 Epoch 63/100 | Avg Loss: 1.2277, Avg Grad Norm: 14.6485, LR: 0.000001\n"
     ]
    },
    {
     "name": "stderr",
     "output_type": "stream",
     "text": [
      "run_4_lp5e-03_ep1e-06_lb0.007 Epoch 64/100: 100%|████| 890/890 [18:19<00:00,  1.23s/it, grad_norm=31.8897, loss=1.6494]\n"
     ]
    },
    {
     "name": "stdout",
     "output_type": "stream",
     "text": [
      "run_4_lp5e-03_ep1e-06_lb0.007 Epoch 64/100 | Avg Loss: 1.2452, Avg Grad Norm: 14.8786, LR: 0.000001\n"
     ]
    },
    {
     "name": "stderr",
     "output_type": "stream",
     "text": [
      "run_4_lp5e-03_ep1e-06_lb0.007 Epoch 65/100: 100%|████| 890/890 [18:14<00:00,  1.23s/it, grad_norm=32.6086, loss=2.3476]\n"
     ]
    },
    {
     "name": "stdout",
     "output_type": "stream",
     "text": [
      "run_4_lp5e-03_ep1e-06_lb0.007 Epoch 65/100 | Avg Loss: 1.2502, Avg Grad Norm: 15.1400, LR: 0.000001\n",
      "Checkpoint saved at 'audiotwin_checkpoints_medium\\run_4_lp5e-03_ep1e-06_lb0.007\\audiotwin_pestlarvanet_medium_epoch_65.pth'\n"
     ]
    },
    {
     "name": "stderr",
     "output_type": "stream",
     "text": [
      "run_4_lp5e-03_ep1e-06_lb0.007 Epoch 66/100: 100%|████| 890/890 [17:57<00:00,  1.21s/it, grad_norm=18.2477, loss=1.3196]\n"
     ]
    },
    {
     "name": "stdout",
     "output_type": "stream",
     "text": [
      "run_4_lp5e-03_ep1e-06_lb0.007 Epoch 66/100 | Avg Loss: 1.2203, Avg Grad Norm: 14.6131, LR: 0.000001\n"
     ]
    },
    {
     "name": "stderr",
     "output_type": "stream",
     "text": [
      "run_4_lp5e-03_ep1e-06_lb0.007 Epoch 67/100: 100%|█████| 890/890 [17:31<00:00,  1.18s/it, grad_norm=9.0568, loss=0.8821]\n"
     ]
    },
    {
     "name": "stdout",
     "output_type": "stream",
     "text": [
      "run_4_lp5e-03_ep1e-06_lb0.007 Epoch 67/100 | Avg Loss: 1.2526, Avg Grad Norm: 15.1568, LR: 0.000001\n"
     ]
    },
    {
     "name": "stderr",
     "output_type": "stream",
     "text": [
      "run_4_lp5e-03_ep1e-06_lb0.007 Epoch 68/100: 100%|████| 890/890 [17:44<00:00,  1.20s/it, grad_norm=31.4457, loss=1.2777]\n"
     ]
    },
    {
     "name": "stdout",
     "output_type": "stream",
     "text": [
      "run_4_lp5e-03_ep1e-06_lb0.007 Epoch 68/100 | Avg Loss: 1.2384, Avg Grad Norm: 15.0242, LR: 0.000001\n"
     ]
    },
    {
     "name": "stderr",
     "output_type": "stream",
     "text": [
      "run_4_lp5e-03_ep1e-06_lb0.007 Epoch 69/100: 100%|████| 890/890 [18:03<00:00,  1.22s/it, grad_norm=22.9466, loss=1.6092]\n"
     ]
    },
    {
     "name": "stdout",
     "output_type": "stream",
     "text": [
      "run_4_lp5e-03_ep1e-06_lb0.007 Epoch 69/100 | Avg Loss: 1.2203, Avg Grad Norm: 14.8599, LR: 0.000001\n"
     ]
    },
    {
     "name": "stderr",
     "output_type": "stream",
     "text": [
      "run_4_lp5e-03_ep1e-06_lb0.007 Epoch 70/100: 100%|████| 890/890 [17:46<00:00,  1.20s/it, grad_norm=60.9956, loss=3.0606]\n"
     ]
    },
    {
     "name": "stdout",
     "output_type": "stream",
     "text": [
      "run_4_lp5e-03_ep1e-06_lb0.007 Epoch 70/100 | Avg Loss: 1.2291, Avg Grad Norm: 14.8240, LR: 0.000001\n",
      "Checkpoint saved at 'audiotwin_checkpoints_medium\\run_4_lp5e-03_ep1e-06_lb0.007\\audiotwin_pestlarvanet_medium_epoch_70.pth'\n"
     ]
    },
    {
     "name": "stderr",
     "output_type": "stream",
     "text": [
      "run_4_lp5e-03_ep1e-06_lb0.007 Epoch 71/100: 100%|█████| 890/890 [17:34<00:00,  1.19s/it, grad_norm=9.8871, loss=0.8922]\n"
     ]
    },
    {
     "name": "stdout",
     "output_type": "stream",
     "text": [
      "run_4_lp5e-03_ep1e-06_lb0.007 Epoch 71/100 | Avg Loss: 1.2342, Avg Grad Norm: 14.5728, LR: 0.000001\n"
     ]
    },
    {
     "name": "stderr",
     "output_type": "stream",
     "text": [
      "run_4_lp5e-03_ep1e-06_lb0.007 Epoch 72/100: 100%|████| 890/890 [17:44<00:00,  1.20s/it, grad_norm=25.8241, loss=1.6417]\n"
     ]
    },
    {
     "name": "stdout",
     "output_type": "stream",
     "text": [
      "run_4_lp5e-03_ep1e-06_lb0.007 Epoch 72/100 | Avg Loss: 1.2424, Avg Grad Norm: 15.1458, LR: 0.000001\n"
     ]
    },
    {
     "name": "stderr",
     "output_type": "stream",
     "text": [
      "run_4_lp5e-03_ep1e-06_lb0.007 Epoch 73/100: 100%|████| 890/890 [20:27<00:00,  1.38s/it, grad_norm=17.6054, loss=1.1635]\n"
     ]
    },
    {
     "name": "stdout",
     "output_type": "stream",
     "text": [
      "run_4_lp5e-03_ep1e-06_lb0.007 Epoch 73/100 | Avg Loss: 1.2051, Avg Grad Norm: 14.5117, LR: 0.000000\n"
     ]
    },
    {
     "name": "stderr",
     "output_type": "stream",
     "text": [
      "run_4_lp5e-03_ep1e-06_lb0.007 Epoch 74/100: 100%|████| 890/890 [17:47<00:00,  1.20s/it, grad_norm=22.4470, loss=2.3360]\n"
     ]
    },
    {
     "name": "stdout",
     "output_type": "stream",
     "text": [
      "run_4_lp5e-03_ep1e-06_lb0.007 Epoch 74/100 | Avg Loss: 1.2275, Avg Grad Norm: 14.4267, LR: 0.000000\n"
     ]
    },
    {
     "name": "stderr",
     "output_type": "stream",
     "text": [
      "run_4_lp5e-03_ep1e-06_lb0.007 Epoch 75/100: 100%|████| 890/890 [18:57<00:00,  1.28s/it, grad_norm=36.1767, loss=1.7110]\n"
     ]
    },
    {
     "name": "stdout",
     "output_type": "stream",
     "text": [
      "run_4_lp5e-03_ep1e-06_lb0.007 Epoch 75/100 | Avg Loss: 1.2319, Avg Grad Norm: 14.7858, LR: 0.000000\n",
      "Checkpoint saved at 'audiotwin_checkpoints_medium\\run_4_lp5e-03_ep1e-06_lb0.007\\audiotwin_pestlarvanet_medium_epoch_75.pth'\n"
     ]
    },
    {
     "name": "stderr",
     "output_type": "stream",
     "text": [
      "run_4_lp5e-03_ep1e-06_lb0.007 Epoch 76/100: 100%|████| 890/890 [20:29<00:00,  1.38s/it, grad_norm=10.5137, loss=1.1444]\n"
     ]
    },
    {
     "name": "stdout",
     "output_type": "stream",
     "text": [
      "run_4_lp5e-03_ep1e-06_lb0.007 Epoch 76/100 | Avg Loss: 1.2120, Avg Grad Norm: 14.4434, LR: 0.000000\n"
     ]
    },
    {
     "name": "stderr",
     "output_type": "stream",
     "text": [
      "run_4_lp5e-03_ep1e-06_lb0.007 Epoch 77/100: 100%|████| 890/890 [18:04<00:00,  1.22s/it, grad_norm=12.6354, loss=1.3048]\n"
     ]
    },
    {
     "name": "stdout",
     "output_type": "stream",
     "text": [
      "run_4_lp5e-03_ep1e-06_lb0.007 Epoch 77/100 | Avg Loss: 1.2434, Avg Grad Norm: 14.9966, LR: 0.000000\n"
     ]
    },
    {
     "name": "stderr",
     "output_type": "stream",
     "text": [
      "run_4_lp5e-03_ep1e-06_lb0.007 Epoch 78/100: 100%|████| 890/890 [18:28<00:00,  1.25s/it, grad_norm=14.1254, loss=1.0873]\n"
     ]
    },
    {
     "name": "stdout",
     "output_type": "stream",
     "text": [
      "run_4_lp5e-03_ep1e-06_lb0.007 Epoch 78/100 | Avg Loss: 1.2349, Avg Grad Norm: 14.7468, LR: 0.000000\n"
     ]
    },
    {
     "name": "stderr",
     "output_type": "stream",
     "text": [
      "run_4_lp5e-03_ep1e-06_lb0.007 Epoch 79/100: 100%|████| 890/890 [18:12<00:00,  1.23s/it, grad_norm=11.4447, loss=1.2005]\n"
     ]
    },
    {
     "name": "stdout",
     "output_type": "stream",
     "text": [
      "run_4_lp5e-03_ep1e-06_lb0.007 Epoch 79/100 | Avg Loss: 1.2406, Avg Grad Norm: 14.9599, LR: 0.000000\n"
     ]
    },
    {
     "name": "stderr",
     "output_type": "stream",
     "text": [
      "run_4_lp5e-03_ep1e-06_lb0.007 Epoch 80/100: 100%|████| 890/890 [18:19<00:00,  1.24s/it, grad_norm=27.9685, loss=1.6022]\n"
     ]
    },
    {
     "name": "stdout",
     "output_type": "stream",
     "text": [
      "run_4_lp5e-03_ep1e-06_lb0.007 Epoch 80/100 | Avg Loss: 1.2347, Avg Grad Norm: 14.7551, LR: 0.000000\n",
      "Checkpoint saved at 'audiotwin_checkpoints_medium\\run_4_lp5e-03_ep1e-06_lb0.007\\audiotwin_pestlarvanet_medium_epoch_80.pth'\n"
     ]
    },
    {
     "name": "stderr",
     "output_type": "stream",
     "text": [
      "run_4_lp5e-03_ep1e-06_lb0.007 Epoch 81/100: 100%|████| 890/890 [18:04<00:00,  1.22s/it, grad_norm=16.2796, loss=1.1250]\n"
     ]
    },
    {
     "name": "stdout",
     "output_type": "stream",
     "text": [
      "run_4_lp5e-03_ep1e-06_lb0.007 Epoch 81/100 | Avg Loss: 1.2289, Avg Grad Norm: 14.5538, LR: 0.000000\n"
     ]
    },
    {
     "name": "stderr",
     "output_type": "stream",
     "text": [
      "run_4_lp5e-03_ep1e-06_lb0.007 Epoch 82/100: 100%|████| 890/890 [18:25<00:00,  1.24s/it, grad_norm=19.4846, loss=1.3650]\n"
     ]
    },
    {
     "name": "stdout",
     "output_type": "stream",
     "text": [
      "run_4_lp5e-03_ep1e-06_lb0.007 Epoch 82/100 | Avg Loss: 1.2232, Avg Grad Norm: 14.8020, LR: 0.000000\n"
     ]
    },
    {
     "name": "stderr",
     "output_type": "stream",
     "text": [
      "run_4_lp5e-03_ep1e-06_lb0.007 Epoch 83/100: 100%|█████| 890/890 [18:16<00:00,  1.23s/it, grad_norm=5.4262, loss=0.8142]\n"
     ]
    },
    {
     "name": "stdout",
     "output_type": "stream",
     "text": [
      "run_4_lp5e-03_ep1e-06_lb0.007 Epoch 83/100 | Avg Loss: 1.2335, Avg Grad Norm: 14.7155, LR: 0.000000\n"
     ]
    },
    {
     "name": "stderr",
     "output_type": "stream",
     "text": [
      "run_4_lp5e-03_ep1e-06_lb0.007 Epoch 84/100: 100%|████| 890/890 [18:21<00:00,  1.24s/it, grad_norm=42.1405, loss=1.8186]\n"
     ]
    },
    {
     "name": "stdout",
     "output_type": "stream",
     "text": [
      "run_4_lp5e-03_ep1e-06_lb0.007 Epoch 84/100 | Avg Loss: 1.2329, Avg Grad Norm: 14.7679, LR: 0.000000\n"
     ]
    },
    {
     "name": "stderr",
     "output_type": "stream",
     "text": [
      "run_4_lp5e-03_ep1e-06_lb0.007 Epoch 85/100: 100%|████| 890/890 [18:05<00:00,  1.22s/it, grad_norm=17.5318, loss=1.4215]\n"
     ]
    },
    {
     "name": "stdout",
     "output_type": "stream",
     "text": [
      "run_4_lp5e-03_ep1e-06_lb0.007 Epoch 85/100 | Avg Loss: 1.2361, Avg Grad Norm: 14.7107, LR: 0.000000\n",
      "Checkpoint saved at 'audiotwin_checkpoints_medium\\run_4_lp5e-03_ep1e-06_lb0.007\\audiotwin_pestlarvanet_medium_epoch_85.pth'\n"
     ]
    },
    {
     "name": "stderr",
     "output_type": "stream",
     "text": [
      "run_4_lp5e-03_ep1e-06_lb0.007 Epoch 86/100: 100%|█████| 890/890 [18:23<00:00,  1.24s/it, grad_norm=8.1898, loss=1.0667]\n"
     ]
    },
    {
     "name": "stdout",
     "output_type": "stream",
     "text": [
      "run_4_lp5e-03_ep1e-06_lb0.007 Epoch 86/100 | Avg Loss: 1.2489, Avg Grad Norm: 15.2639, LR: 0.000000\n"
     ]
    },
    {
     "name": "stderr",
     "output_type": "stream",
     "text": [
      "run_4_lp5e-03_ep1e-06_lb0.007 Epoch 87/100: 100%|████| 890/890 [18:27<00:00,  1.24s/it, grad_norm=32.9377, loss=2.7872]\n"
     ]
    },
    {
     "name": "stdout",
     "output_type": "stream",
     "text": [
      "run_4_lp5e-03_ep1e-06_lb0.007 Epoch 87/100 | Avg Loss: 1.2347, Avg Grad Norm: 14.9753, LR: 0.000000\n"
     ]
    },
    {
     "name": "stderr",
     "output_type": "stream",
     "text": [
      "run_4_lp5e-03_ep1e-06_lb0.007 Epoch 88/100: 100%|████| 890/890 [18:18<00:00,  1.23s/it, grad_norm=21.0036, loss=1.5811]\n"
     ]
    },
    {
     "name": "stdout",
     "output_type": "stream",
     "text": [
      "run_4_lp5e-03_ep1e-06_lb0.007 Epoch 88/100 | Avg Loss: 1.2480, Avg Grad Norm: 15.0500, LR: 0.000000\n"
     ]
    },
    {
     "name": "stderr",
     "output_type": "stream",
     "text": [
      "run_4_lp5e-03_ep1e-06_lb0.007 Epoch 89/100: 100%|████| 890/890 [18:31<00:00,  1.25s/it, grad_norm=31.0231, loss=1.8500]\n"
     ]
    },
    {
     "name": "stdout",
     "output_type": "stream",
     "text": [
      "run_4_lp5e-03_ep1e-06_lb0.007 Epoch 89/100 | Avg Loss: 1.2169, Avg Grad Norm: 14.5181, LR: 0.000000\n"
     ]
    },
    {
     "name": "stderr",
     "output_type": "stream",
     "text": [
      "run_4_lp5e-03_ep1e-06_lb0.007 Epoch 90/100: 100%|████| 890/890 [19:02<00:00,  1.28s/it, grad_norm=13.5337, loss=1.2748]\n"
     ]
    },
    {
     "name": "stdout",
     "output_type": "stream",
     "text": [
      "run_4_lp5e-03_ep1e-06_lb0.007 Epoch 90/100 | Avg Loss: 1.2554, Avg Grad Norm: 15.2332, LR: 0.000000\n",
      "Checkpoint saved at 'audiotwin_checkpoints_medium\\run_4_lp5e-03_ep1e-06_lb0.007\\audiotwin_pestlarvanet_medium_epoch_90.pth'\n"
     ]
    },
    {
     "name": "stderr",
     "output_type": "stream",
     "text": [
      "run_4_lp5e-03_ep1e-06_lb0.007 Epoch 91/100: 100%|████| 890/890 [18:32<00:00,  1.25s/it, grad_norm=35.1611, loss=1.9884]\n"
     ]
    },
    {
     "name": "stdout",
     "output_type": "stream",
     "text": [
      "run_4_lp5e-03_ep1e-06_lb0.007 Epoch 91/100 | Avg Loss: 1.2248, Avg Grad Norm: 14.8101, LR: 0.000000\n"
     ]
    },
    {
     "name": "stderr",
     "output_type": "stream",
     "text": [
      "run_4_lp5e-03_ep1e-06_lb0.007 Epoch 92/100: 100%|████| 890/890 [18:27<00:00,  1.24s/it, grad_norm=16.6960, loss=1.3163]\n"
     ]
    },
    {
     "name": "stdout",
     "output_type": "stream",
     "text": [
      "run_4_lp5e-03_ep1e-06_lb0.007 Epoch 92/100 | Avg Loss: 1.2007, Avg Grad Norm: 14.4184, LR: 0.000000\n"
     ]
    },
    {
     "name": "stderr",
     "output_type": "stream",
     "text": [
      "run_4_lp5e-03_ep1e-06_lb0.007 Epoch 93/100: 100%|████| 890/890 [18:12<00:00,  1.23s/it, grad_norm=17.4809, loss=1.4039]\n"
     ]
    },
    {
     "name": "stdout",
     "output_type": "stream",
     "text": [
      "run_4_lp5e-03_ep1e-06_lb0.007 Epoch 93/100 | Avg Loss: 1.2451, Avg Grad Norm: 15.0066, LR: 0.000000\n"
     ]
    },
    {
     "name": "stderr",
     "output_type": "stream",
     "text": [
      "run_4_lp5e-03_ep1e-06_lb0.007 Epoch 94/100: 100%|████| 890/890 [18:02<00:00,  1.22s/it, grad_norm=11.6812, loss=0.8636]\n"
     ]
    },
    {
     "name": "stdout",
     "output_type": "stream",
     "text": [
      "run_4_lp5e-03_ep1e-06_lb0.007 Epoch 94/100 | Avg Loss: 1.2158, Avg Grad Norm: 14.5723, LR: 0.000000\n"
     ]
    },
    {
     "name": "stderr",
     "output_type": "stream",
     "text": [
      "run_4_lp5e-03_ep1e-06_lb0.007 Epoch 95/100: 100%|████| 890/890 [18:34<00:00,  1.25s/it, grad_norm=27.6351, loss=2.6101]\n"
     ]
    },
    {
     "name": "stdout",
     "output_type": "stream",
     "text": [
      "run_4_lp5e-03_ep1e-06_lb0.007 Epoch 95/100 | Avg Loss: 1.2092, Avg Grad Norm: 14.4782, LR: 0.000000\n",
      "Checkpoint saved at 'audiotwin_checkpoints_medium\\run_4_lp5e-03_ep1e-06_lb0.007\\audiotwin_pestlarvanet_medium_epoch_95.pth'\n"
     ]
    },
    {
     "name": "stderr",
     "output_type": "stream",
     "text": [
      "run_4_lp5e-03_ep1e-06_lb0.007 Epoch 96/100: 100%|████| 890/890 [17:37<00:00,  1.19s/it, grad_norm=13.5791, loss=0.9691]\n"
     ]
    },
    {
     "name": "stdout",
     "output_type": "stream",
     "text": [
      "run_4_lp5e-03_ep1e-06_lb0.007 Epoch 96/100 | Avg Loss: 1.2105, Avg Grad Norm: 14.7971, LR: 0.000000\n"
     ]
    },
    {
     "name": "stderr",
     "output_type": "stream",
     "text": [
      "run_4_lp5e-03_ep1e-06_lb0.007 Epoch 97/100: 100%|████| 890/890 [17:33<00:00,  1.18s/it, grad_norm=36.2687, loss=3.7646]\n"
     ]
    },
    {
     "name": "stdout",
     "output_type": "stream",
     "text": [
      "run_4_lp5e-03_ep1e-06_lb0.007 Epoch 97/100 | Avg Loss: 1.2234, Avg Grad Norm: 14.7923, LR: 0.000000\n"
     ]
    },
    {
     "name": "stderr",
     "output_type": "stream",
     "text": [
      "run_4_lp5e-03_ep1e-06_lb0.007 Epoch 98/100: 100%|████| 890/890 [17:37<00:00,  1.19s/it, grad_norm=24.0736, loss=1.4442]\n"
     ]
    },
    {
     "name": "stdout",
     "output_type": "stream",
     "text": [
      "run_4_lp5e-03_ep1e-06_lb0.007 Epoch 98/100 | Avg Loss: 1.2061, Avg Grad Norm: 14.5322, LR: 0.000000\n"
     ]
    },
    {
     "name": "stderr",
     "output_type": "stream",
     "text": [
      "run_4_lp5e-03_ep1e-06_lb0.007 Epoch 99/100: 100%|████| 890/890 [17:36<00:00,  1.19s/it, grad_norm=33.5991, loss=1.7806]\n"
     ]
    },
    {
     "name": "stdout",
     "output_type": "stream",
     "text": [
      "run_4_lp5e-03_ep1e-06_lb0.007 Epoch 99/100 | Avg Loss: 1.2303, Avg Grad Norm: 14.6644, LR: 0.000000\n"
     ]
    },
    {
     "name": "stderr",
     "output_type": "stream",
     "text": [
      "run_4_lp5e-03_ep1e-06_lb0.007 Epoch 100/100: 100%|███| 890/890 [17:38<00:00,  1.19s/it, grad_norm=39.9970, loss=1.1413]\n"
     ]
    },
    {
     "name": "stdout",
     "output_type": "stream",
     "text": [
      "run_4_lp5e-03_ep1e-06_lb0.007 Epoch 100/100 | Avg Loss: 1.2296, Avg Grad Norm: 14.7343, LR: 0.000000\n",
      "Checkpoint saved at 'audiotwin_checkpoints_medium\\run_4_lp5e-03_ep1e-06_lb0.007\\audiotwin_pestlarvanet_medium_epoch_100.pth'\n",
      "\n",
      "Starting Pre-training with AudioTwin - run_5_lp1e-02_ep1e-06_lb0.010\n"
     ]
    },
    {
     "name": "stderr",
     "output_type": "stream",
     "text": [
      "run_5_lp1e-02_ep1e-06_lb0.010 Epoch 1/100: 100%|█████| 890/890 [19:41<00:00,  1.33s/it, grad_norm=19.6271, loss=5.4010]\n"
     ]
    },
    {
     "name": "stdout",
     "output_type": "stream",
     "text": [
      "run_5_lp1e-02_ep1e-06_lb0.010 Epoch 1/100 | Avg Loss: 5.4052, Avg Grad Norm: 17.0784, LR: 0.000005\n"
     ]
    },
    {
     "name": "stderr",
     "output_type": "stream",
     "text": [
      "run_5_lp1e-02_ep1e-06_lb0.010 Epoch 2/100: 100%|█████| 890/890 [19:28<00:00,  1.31s/it, grad_norm=11.5441, loss=3.9224]\n"
     ]
    },
    {
     "name": "stdout",
     "output_type": "stream",
     "text": [
      "run_5_lp1e-02_ep1e-06_lb0.010 Epoch 2/100 | Avg Loss: 4.5742, Avg Grad Norm: 14.0333, LR: 0.000005\n"
     ]
    },
    {
     "name": "stderr",
     "output_type": "stream",
     "text": [
      "run_5_lp1e-02_ep1e-06_lb0.010 Epoch 3/100: 100%|█████| 890/890 [19:04<00:00,  1.29s/it, grad_norm=29.7296, loss=5.9857]\n"
     ]
    },
    {
     "name": "stdout",
     "output_type": "stream",
     "text": [
      "run_5_lp1e-02_ep1e-06_lb0.010 Epoch 3/100 | Avg Loss: 4.2386, Avg Grad Norm: 13.7369, LR: 0.000005\n"
     ]
    },
    {
     "name": "stderr",
     "output_type": "stream",
     "text": [
      "run_5_lp1e-02_ep1e-06_lb0.010 Epoch 4/100: 100%|█████| 890/890 [19:51<00:00,  1.34s/it, grad_norm=18.7079, loss=4.0850]\n"
     ]
    },
    {
     "name": "stdout",
     "output_type": "stream",
     "text": [
      "run_5_lp1e-02_ep1e-06_lb0.010 Epoch 4/100 | Avg Loss: 3.9938, Avg Grad Norm: 13.7462, LR: 0.000005\n"
     ]
    },
    {
     "name": "stderr",
     "output_type": "stream",
     "text": [
      "run_5_lp1e-02_ep1e-06_lb0.010 Epoch 5/100: 100%|█████| 890/890 [19:34<00:00,  1.32s/it, grad_norm=72.8476, loss=5.9992]\n"
     ]
    },
    {
     "name": "stdout",
     "output_type": "stream",
     "text": [
      "run_5_lp1e-02_ep1e-06_lb0.010 Epoch 5/100 | Avg Loss: 3.8219, Avg Grad Norm: 13.6593, LR: 0.000005\n",
      "Checkpoint saved at 'audiotwin_checkpoints_medium\\run_5_lp1e-02_ep1e-06_lb0.010\\audiotwin_pestlarvanet_medium_epoch_5.pth'\n"
     ]
    },
    {
     "name": "stderr",
     "output_type": "stream",
     "text": [
      "run_5_lp1e-02_ep1e-06_lb0.010 Epoch 6/100: 100%|██████| 890/890 [19:22<00:00,  1.31s/it, grad_norm=9.9196, loss=3.5244]\n"
     ]
    },
    {
     "name": "stdout",
     "output_type": "stream",
     "text": [
      "run_5_lp1e-02_ep1e-06_lb0.010 Epoch 6/100 | Avg Loss: 3.7366, Avg Grad Norm: 13.9185, LR: 0.000005\n"
     ]
    },
    {
     "name": "stderr",
     "output_type": "stream",
     "text": [
      "run_5_lp1e-02_ep1e-06_lb0.010 Epoch 7/100: 100%|█████| 890/890 [19:44<00:00,  1.33s/it, grad_norm=24.6932, loss=5.5638]\n"
     ]
    },
    {
     "name": "stdout",
     "output_type": "stream",
     "text": [
      "run_5_lp1e-02_ep1e-06_lb0.010 Epoch 7/100 | Avg Loss: 3.6522, Avg Grad Norm: 14.5549, LR: 0.000005\n"
     ]
    },
    {
     "name": "stderr",
     "output_type": "stream",
     "text": [
      "run_5_lp1e-02_ep1e-06_lb0.010 Epoch 8/100: 100%|██████| 890/890 [19:20<00:00,  1.30s/it, grad_norm=9.2967, loss=3.2387]\n"
     ]
    },
    {
     "name": "stdout",
     "output_type": "stream",
     "text": [
      "run_5_lp1e-02_ep1e-06_lb0.010 Epoch 8/100 | Avg Loss: 3.6158, Avg Grad Norm: 14.6775, LR: 0.000005\n"
     ]
    },
    {
     "name": "stderr",
     "output_type": "stream",
     "text": [
      "run_5_lp1e-02_ep1e-06_lb0.010 Epoch 9/100: 100%|█████| 890/890 [19:40<00:00,  1.33s/it, grad_norm=55.2043, loss=4.6473]\n"
     ]
    },
    {
     "name": "stdout",
     "output_type": "stream",
     "text": [
      "run_5_lp1e-02_ep1e-06_lb0.010 Epoch 9/100 | Avg Loss: 3.5498, Avg Grad Norm: 15.7261, LR: 0.000005\n"
     ]
    },
    {
     "name": "stderr",
     "output_type": "stream",
     "text": [
      "run_5_lp1e-02_ep1e-06_lb0.010 Epoch 10/100: 100%|█████| 890/890 [19:29<00:00,  1.31s/it, grad_norm=4.8613, loss=2.8144]\n"
     ]
    },
    {
     "name": "stdout",
     "output_type": "stream",
     "text": [
      "run_5_lp1e-02_ep1e-06_lb0.010 Epoch 10/100 | Avg Loss: 3.4795, Avg Grad Norm: 14.1075, LR: 0.000005\n",
      "Checkpoint saved at 'audiotwin_checkpoints_medium\\run_5_lp1e-02_ep1e-06_lb0.010\\audiotwin_pestlarvanet_medium_epoch_10.pth'\n"
     ]
    },
    {
     "name": "stderr",
     "output_type": "stream",
     "text": [
      "run_5_lp1e-02_ep1e-06_lb0.010 Epoch 11/100: 100%|████| 890/890 [19:51<00:00,  1.34s/it, grad_norm=49.1649, loss=6.4630]\n"
     ]
    },
    {
     "name": "stdout",
     "output_type": "stream",
     "text": [
      "run_5_lp1e-02_ep1e-06_lb0.010 Epoch 11/100 | Avg Loss: 3.4334, Avg Grad Norm: 14.8129, LR: 0.000005\n"
     ]
    },
    {
     "name": "stderr",
     "output_type": "stream",
     "text": [
      "run_5_lp1e-02_ep1e-06_lb0.010 Epoch 12/100: 100%|█████| 890/890 [19:34<00:00,  1.32s/it, grad_norm=8.5673, loss=3.2774]\n"
     ]
    },
    {
     "name": "stdout",
     "output_type": "stream",
     "text": [
      "run_5_lp1e-02_ep1e-06_lb0.010 Epoch 12/100 | Avg Loss: 3.3634, Avg Grad Norm: 14.4062, LR: 0.000005\n"
     ]
    },
    {
     "name": "stderr",
     "output_type": "stream",
     "text": [
      "run_5_lp1e-02_ep1e-06_lb0.010 Epoch 13/100: 100%|████| 890/890 [19:46<00:00,  1.33s/it, grad_norm=28.4691, loss=3.9526]\n"
     ]
    },
    {
     "name": "stdout",
     "output_type": "stream",
     "text": [
      "run_5_lp1e-02_ep1e-06_lb0.010 Epoch 13/100 | Avg Loss: 3.3689, Avg Grad Norm: 15.1870, LR: 0.000005\n"
     ]
    },
    {
     "name": "stderr",
     "output_type": "stream",
     "text": [
      "run_5_lp1e-02_ep1e-06_lb0.010 Epoch 14/100: 100%|████| 890/890 [19:52<00:00,  1.34s/it, grad_norm=50.0049, loss=5.0049]\n"
     ]
    },
    {
     "name": "stdout",
     "output_type": "stream",
     "text": [
      "run_5_lp1e-02_ep1e-06_lb0.010 Epoch 14/100 | Avg Loss: 3.3220, Avg Grad Norm: 15.0143, LR: 0.000005\n"
     ]
    },
    {
     "name": "stderr",
     "output_type": "stream",
     "text": [
      "run_5_lp1e-02_ep1e-06_lb0.010 Epoch 15/100: 100%|████| 890/890 [19:34<00:00,  1.32s/it, grad_norm=16.3761, loss=3.3584]\n"
     ]
    },
    {
     "name": "stdout",
     "output_type": "stream",
     "text": [
      "run_5_lp1e-02_ep1e-06_lb0.010 Epoch 15/100 | Avg Loss: 3.3050, Avg Grad Norm: 14.8750, LR: 0.000005\n",
      "Checkpoint saved at 'audiotwin_checkpoints_medium\\run_5_lp1e-02_ep1e-06_lb0.010\\audiotwin_pestlarvanet_medium_epoch_15.pth'\n"
     ]
    },
    {
     "name": "stderr",
     "output_type": "stream",
     "text": [
      "run_5_lp1e-02_ep1e-06_lb0.010 Epoch 16/100: 100%|████| 890/890 [19:33<00:00,  1.32s/it, grad_norm=12.5971, loss=3.0573]\n"
     ]
    },
    {
     "name": "stdout",
     "output_type": "stream",
     "text": [
      "run_5_lp1e-02_ep1e-06_lb0.010 Epoch 16/100 | Avg Loss: 3.2929, Avg Grad Norm: 15.6293, LR: 0.000005\n"
     ]
    },
    {
     "name": "stderr",
     "output_type": "stream",
     "text": [
      "run_5_lp1e-02_ep1e-06_lb0.010 Epoch 17/100: 100%|████| 890/890 [19:50<00:00,  1.34s/it, grad_norm=45.6662, loss=5.6368]\n"
     ]
    },
    {
     "name": "stdout",
     "output_type": "stream",
     "text": [
      "run_5_lp1e-02_ep1e-06_lb0.010 Epoch 17/100 | Avg Loss: 3.2555, Avg Grad Norm: 15.8585, LR: 0.000005\n"
     ]
    },
    {
     "name": "stderr",
     "output_type": "stream",
     "text": [
      "run_5_lp1e-02_ep1e-06_lb0.010 Epoch 18/100: 100%|████| 890/890 [19:34<00:00,  1.32s/it, grad_norm=28.8978, loss=4.0343]\n"
     ]
    },
    {
     "name": "stdout",
     "output_type": "stream",
     "text": [
      "run_5_lp1e-02_ep1e-06_lb0.010 Epoch 18/100 | Avg Loss: 3.1929, Avg Grad Norm: 15.5056, LR: 0.000005\n"
     ]
    },
    {
     "name": "stderr",
     "output_type": "stream",
     "text": [
      "run_5_lp1e-02_ep1e-06_lb0.010 Epoch 19/100: 100%|████| 890/890 [19:39<00:00,  1.33s/it, grad_norm=69.6730, loss=3.6187]\n"
     ]
    },
    {
     "name": "stdout",
     "output_type": "stream",
     "text": [
      "run_5_lp1e-02_ep1e-06_lb0.010 Epoch 19/100 | Avg Loss: 3.1984, Avg Grad Norm: 16.1692, LR: 0.000005\n"
     ]
    },
    {
     "name": "stderr",
     "output_type": "stream",
     "text": [
      "run_5_lp1e-02_ep1e-06_lb0.010 Epoch 20/100: 100%|████| 890/890 [20:09<00:00,  1.36s/it, grad_norm=18.0575, loss=3.1367]\n"
     ]
    },
    {
     "name": "stdout",
     "output_type": "stream",
     "text": [
      "run_5_lp1e-02_ep1e-06_lb0.010 Epoch 20/100 | Avg Loss: 3.1632, Avg Grad Norm: 15.5757, LR: 0.000005\n",
      "Checkpoint saved at 'audiotwin_checkpoints_medium\\run_5_lp1e-02_ep1e-06_lb0.010\\audiotwin_pestlarvanet_medium_epoch_20.pth'\n"
     ]
    },
    {
     "name": "stderr",
     "output_type": "stream",
     "text": [
      "run_5_lp1e-02_ep1e-06_lb0.010 Epoch 21/100: 100%|████| 890/890 [21:38<00:00,  1.46s/it, grad_norm=14.9983, loss=3.2709]\n"
     ]
    },
    {
     "name": "stdout",
     "output_type": "stream",
     "text": [
      "run_5_lp1e-02_ep1e-06_lb0.010 Epoch 21/100 | Avg Loss: 3.1628, Avg Grad Norm: 16.5493, LR: 0.000005\n"
     ]
    },
    {
     "name": "stderr",
     "output_type": "stream",
     "text": [
      "run_5_lp1e-02_ep1e-06_lb0.010 Epoch 22/100: 100%|████| 890/890 [19:47<00:00,  1.33s/it, grad_norm=14.0110, loss=2.7332]\n"
     ]
    },
    {
     "name": "stdout",
     "output_type": "stream",
     "text": [
      "run_5_lp1e-02_ep1e-06_lb0.010 Epoch 22/100 | Avg Loss: 3.1365, Avg Grad Norm: 16.5889, LR: 0.000005\n"
     ]
    },
    {
     "name": "stderr",
     "output_type": "stream",
     "text": [
      "run_5_lp1e-02_ep1e-06_lb0.010 Epoch 23/100: 100%|████| 890/890 [19:32<00:00,  1.32s/it, grad_norm=34.1223, loss=3.4836]\n"
     ]
    },
    {
     "name": "stdout",
     "output_type": "stream",
     "text": [
      "run_5_lp1e-02_ep1e-06_lb0.010 Epoch 23/100 | Avg Loss: 3.1026, Avg Grad Norm: 15.8985, LR: 0.000005\n"
     ]
    },
    {
     "name": "stderr",
     "output_type": "stream",
     "text": [
      "run_5_lp1e-02_ep1e-06_lb0.010 Epoch 24/100: 100%|████| 890/890 [19:48<00:00,  1.34s/it, grad_norm=40.3731, loss=4.8025]\n"
     ]
    },
    {
     "name": "stdout",
     "output_type": "stream",
     "text": [
      "run_5_lp1e-02_ep1e-06_lb0.010 Epoch 24/100 | Avg Loss: 3.0912, Avg Grad Norm: 16.3181, LR: 0.000005\n"
     ]
    },
    {
     "name": "stderr",
     "output_type": "stream",
     "text": [
      "run_5_lp1e-02_ep1e-06_lb0.010 Epoch 25/100: 100%|████| 890/890 [19:24<00:00,  1.31s/it, grad_norm=30.0636, loss=3.9421]\n"
     ]
    },
    {
     "name": "stdout",
     "output_type": "stream",
     "text": [
      "run_5_lp1e-02_ep1e-06_lb0.010 Epoch 25/100 | Avg Loss: 3.0739, Avg Grad Norm: 16.7412, LR: 0.000005\n",
      "Checkpoint saved at 'audiotwin_checkpoints_medium\\run_5_lp1e-02_ep1e-06_lb0.010\\audiotwin_pestlarvanet_medium_epoch_25.pth'\n"
     ]
    },
    {
     "name": "stderr",
     "output_type": "stream",
     "text": [
      "run_5_lp1e-02_ep1e-06_lb0.010 Epoch 26/100: 100%|████| 890/890 [19:52<00:00,  1.34s/it, grad_norm=23.5147, loss=3.5663]\n"
     ]
    },
    {
     "name": "stdout",
     "output_type": "stream",
     "text": [
      "run_5_lp1e-02_ep1e-06_lb0.010 Epoch 26/100 | Avg Loss: 3.0541, Avg Grad Norm: 16.4585, LR: 0.000005\n"
     ]
    },
    {
     "name": "stderr",
     "output_type": "stream",
     "text": [
      "run_5_lp1e-02_ep1e-06_lb0.010 Epoch 27/100: 100%|████| 890/890 [19:36<00:00,  1.32s/it, grad_norm=11.9753, loss=3.1564]\n"
     ]
    },
    {
     "name": "stdout",
     "output_type": "stream",
     "text": [
      "run_5_lp1e-02_ep1e-06_lb0.010 Epoch 27/100 | Avg Loss: 3.0434, Avg Grad Norm: 17.2725, LR: 0.000005\n"
     ]
    },
    {
     "name": "stderr",
     "output_type": "stream",
     "text": [
      "run_5_lp1e-02_ep1e-06_lb0.010 Epoch 28/100: 100%|████| 890/890 [19:40<00:00,  1.33s/it, grad_norm=20.1523, loss=3.1195]\n"
     ]
    },
    {
     "name": "stdout",
     "output_type": "stream",
     "text": [
      "run_5_lp1e-02_ep1e-06_lb0.010 Epoch 28/100 | Avg Loss: 3.0164, Avg Grad Norm: 16.5827, LR: 0.000005\n"
     ]
    },
    {
     "name": "stderr",
     "output_type": "stream",
     "text": [
      "run_5_lp1e-02_ep1e-06_lb0.010 Epoch 29/100: 100%|████| 890/890 [19:32<00:00,  1.32s/it, grad_norm=59.6926, loss=3.8994]\n"
     ]
    },
    {
     "name": "stdout",
     "output_type": "stream",
     "text": [
      "run_5_lp1e-02_ep1e-06_lb0.010 Epoch 29/100 | Avg Loss: 3.0271, Avg Grad Norm: 16.4740, LR: 0.000005\n"
     ]
    },
    {
     "name": "stderr",
     "output_type": "stream",
     "text": [
      "run_5_lp1e-02_ep1e-06_lb0.010 Epoch 30/100: 100%|████| 890/890 [19:32<00:00,  1.32s/it, grad_norm=34.8898, loss=3.3182]\n"
     ]
    },
    {
     "name": "stdout",
     "output_type": "stream",
     "text": [
      "run_5_lp1e-02_ep1e-06_lb0.010 Epoch 30/100 | Avg Loss: 2.9930, Avg Grad Norm: 16.7351, LR: 0.000005\n",
      "Checkpoint saved at 'audiotwin_checkpoints_medium\\run_5_lp1e-02_ep1e-06_lb0.010\\audiotwin_pestlarvanet_medium_epoch_30.pth'\n"
     ]
    },
    {
     "name": "stderr",
     "output_type": "stream",
     "text": [
      "run_5_lp1e-02_ep1e-06_lb0.010 Epoch 31/100: 100%|█████| 890/890 [19:24<00:00,  1.31s/it, grad_norm=7.8756, loss=2.3897]\n"
     ]
    },
    {
     "name": "stdout",
     "output_type": "stream",
     "text": [
      "run_5_lp1e-02_ep1e-06_lb0.010 Epoch 31/100 | Avg Loss: 2.9916, Avg Grad Norm: 16.7049, LR: 0.000005\n"
     ]
    },
    {
     "name": "stderr",
     "output_type": "stream",
     "text": [
      "run_5_lp1e-02_ep1e-06_lb0.010 Epoch 32/100: 100%|████| 890/890 [19:31<00:00,  1.32s/it, grad_norm=34.4275, loss=4.2027]\n"
     ]
    },
    {
     "name": "stdout",
     "output_type": "stream",
     "text": [
      "run_5_lp1e-02_ep1e-06_lb0.010 Epoch 32/100 | Avg Loss: 2.9783, Avg Grad Norm: 17.0225, LR: 0.000005\n"
     ]
    },
    {
     "name": "stderr",
     "output_type": "stream",
     "text": [
      "run_5_lp1e-02_ep1e-06_lb0.010 Epoch 33/100: 100%|████| 890/890 [19:28<00:00,  1.31s/it, grad_norm=26.3031, loss=3.3236]\n"
     ]
    },
    {
     "name": "stdout",
     "output_type": "stream",
     "text": [
      "run_5_lp1e-02_ep1e-06_lb0.010 Epoch 33/100 | Avg Loss: 2.9833, Avg Grad Norm: 17.9614, LR: 0.000005\n"
     ]
    },
    {
     "name": "stderr",
     "output_type": "stream",
     "text": [
      "run_5_lp1e-02_ep1e-06_lb0.010 Epoch 34/100: 100%|█████| 890/890 [19:43<00:00,  1.33s/it, grad_norm=7.7875, loss=2.5374]\n"
     ]
    },
    {
     "name": "stdout",
     "output_type": "stream",
     "text": [
      "run_5_lp1e-02_ep1e-06_lb0.010 Epoch 34/100 | Avg Loss: 2.9764, Avg Grad Norm: 17.4405, LR: 0.000005\n"
     ]
    },
    {
     "name": "stderr",
     "output_type": "stream",
     "text": [
      "run_5_lp1e-02_ep1e-06_lb0.010 Epoch 35/100: 100%|████| 890/890 [19:30<00:00,  1.32s/it, grad_norm=18.8352, loss=2.4465]\n"
     ]
    },
    {
     "name": "stdout",
     "output_type": "stream",
     "text": [
      "run_5_lp1e-02_ep1e-06_lb0.010 Epoch 35/100 | Avg Loss: 2.9362, Avg Grad Norm: 16.9271, LR: 0.000005\n",
      "Checkpoint saved at 'audiotwin_checkpoints_medium\\run_5_lp1e-02_ep1e-06_lb0.010\\audiotwin_pestlarvanet_medium_epoch_35.pth'\n"
     ]
    },
    {
     "name": "stderr",
     "output_type": "stream",
     "text": [
      "run_5_lp1e-02_ep1e-06_lb0.010 Epoch 36/100: 100%|████| 890/890 [19:42<00:00,  1.33s/it, grad_norm=18.5139, loss=3.3091]\n"
     ]
    },
    {
     "name": "stdout",
     "output_type": "stream",
     "text": [
      "run_5_lp1e-02_ep1e-06_lb0.010 Epoch 36/100 | Avg Loss: 2.9103, Avg Grad Norm: 17.2066, LR: 0.000005\n"
     ]
    },
    {
     "name": "stderr",
     "output_type": "stream",
     "text": [
      "run_5_lp1e-02_ep1e-06_lb0.010 Epoch 37/100: 100%|████| 890/890 [20:17<00:00,  1.37s/it, grad_norm=31.2528, loss=2.8223]\n"
     ]
    },
    {
     "name": "stdout",
     "output_type": "stream",
     "text": [
      "run_5_lp1e-02_ep1e-06_lb0.010 Epoch 37/100 | Avg Loss: 2.9172, Avg Grad Norm: 17.5567, LR: 0.000005\n"
     ]
    },
    {
     "name": "stderr",
     "output_type": "stream",
     "text": [
      "run_5_lp1e-02_ep1e-06_lb0.010 Epoch 38/100: 100%|████| 890/890 [20:50<00:00,  1.41s/it, grad_norm=48.6942, loss=2.7549]\n"
     ]
    },
    {
     "name": "stdout",
     "output_type": "stream",
     "text": [
      "run_5_lp1e-02_ep1e-06_lb0.010 Epoch 38/100 | Avg Loss: 2.9264, Avg Grad Norm: 18.0940, LR: 0.000005\n"
     ]
    },
    {
     "name": "stderr",
     "output_type": "stream",
     "text": [
      "run_5_lp1e-02_ep1e-06_lb0.010 Epoch 39/100: 100%|████| 890/890 [20:30<00:00,  1.38s/it, grad_norm=43.3063, loss=4.2936]\n"
     ]
    },
    {
     "name": "stdout",
     "output_type": "stream",
     "text": [
      "run_5_lp1e-02_ep1e-06_lb0.010 Epoch 39/100 | Avg Loss: 2.9123, Avg Grad Norm: 18.1858, LR: 0.000005\n"
     ]
    },
    {
     "name": "stderr",
     "output_type": "stream",
     "text": [
      "run_5_lp1e-02_ep1e-06_lb0.010 Epoch 40/100: 100%|████| 890/890 [21:12<00:00,  1.43s/it, grad_norm=23.8985, loss=3.5455]\n"
     ]
    },
    {
     "name": "stdout",
     "output_type": "stream",
     "text": [
      "run_5_lp1e-02_ep1e-06_lb0.010 Epoch 40/100 | Avg Loss: 2.8596, Avg Grad Norm: 17.3092, LR: 0.000005\n",
      "Checkpoint saved at 'audiotwin_checkpoints_medium\\run_5_lp1e-02_ep1e-06_lb0.010\\audiotwin_pestlarvanet_medium_epoch_40.pth'\n"
     ]
    },
    {
     "name": "stderr",
     "output_type": "stream",
     "text": [
      "run_5_lp1e-02_ep1e-06_lb0.010 Epoch 41/100: 100%|████| 890/890 [22:51<00:00,  1.54s/it, grad_norm=62.7480, loss=6.1795]\n"
     ]
    },
    {
     "name": "stdout",
     "output_type": "stream",
     "text": [
      "run_5_lp1e-02_ep1e-06_lb0.010 Epoch 41/100 | Avg Loss: 2.8775, Avg Grad Norm: 18.6131, LR: 0.000005\n"
     ]
    },
    {
     "name": "stderr",
     "output_type": "stream",
     "text": [
      "run_5_lp1e-02_ep1e-06_lb0.010 Epoch 42/100: 100%|████| 890/890 [22:30<00:00,  1.52s/it, grad_norm=32.7706, loss=3.0131]\n"
     ]
    },
    {
     "name": "stdout",
     "output_type": "stream",
     "text": [
      "run_5_lp1e-02_ep1e-06_lb0.010 Epoch 42/100 | Avg Loss: 2.8898, Avg Grad Norm: 18.1337, LR: 0.000005\n"
     ]
    },
    {
     "name": "stderr",
     "output_type": "stream",
     "text": [
      "run_5_lp1e-02_ep1e-06_lb0.010 Epoch 43/100: 100%|████| 890/890 [22:57<00:00,  1.55s/it, grad_norm=72.4387, loss=5.1631]\n"
     ]
    },
    {
     "name": "stdout",
     "output_type": "stream",
     "text": [
      "run_5_lp1e-02_ep1e-06_lb0.010 Epoch 43/100 | Avg Loss: 2.8878, Avg Grad Norm: 18.6121, LR: 0.000005\n"
     ]
    },
    {
     "name": "stderr",
     "output_type": "stream",
     "text": [
      "run_5_lp1e-02_ep1e-06_lb0.010 Epoch 44/100: 100%|████| 890/890 [21:14<00:00,  1.43s/it, grad_norm=10.4230, loss=2.7463]\n"
     ]
    },
    {
     "name": "stdout",
     "output_type": "stream",
     "text": [
      "run_5_lp1e-02_ep1e-06_lb0.010 Epoch 44/100 | Avg Loss: 2.8640, Avg Grad Norm: 18.0080, LR: 0.000005\n"
     ]
    },
    {
     "name": "stderr",
     "output_type": "stream",
     "text": [
      "run_5_lp1e-02_ep1e-06_lb0.010 Epoch 45/100: 100%|████| 890/890 [20:52<00:00,  1.41s/it, grad_norm=41.8258, loss=4.2821]\n"
     ]
    },
    {
     "name": "stdout",
     "output_type": "stream",
     "text": [
      "run_5_lp1e-02_ep1e-06_lb0.010 Epoch 45/100 | Avg Loss: 2.8566, Avg Grad Norm: 18.4008, LR: 0.000005\n",
      "Checkpoint saved at 'audiotwin_checkpoints_medium\\run_5_lp1e-02_ep1e-06_lb0.010\\audiotwin_pestlarvanet_medium_epoch_45.pth'\n"
     ]
    },
    {
     "name": "stderr",
     "output_type": "stream",
     "text": [
      "run_5_lp1e-02_ep1e-06_lb0.010 Epoch 46/100: 100%|████| 890/890 [20:57<00:00,  1.41s/it, grad_norm=59.6842, loss=5.1339]\n"
     ]
    },
    {
     "name": "stdout",
     "output_type": "stream",
     "text": [
      "run_5_lp1e-02_ep1e-06_lb0.010 Epoch 46/100 | Avg Loss: 2.8452, Avg Grad Norm: 18.8765, LR: 0.000005\n"
     ]
    },
    {
     "name": "stderr",
     "output_type": "stream",
     "text": [
      "run_5_lp1e-02_ep1e-06_lb0.010 Epoch 47/100: 100%|████| 890/890 [23:26<00:00,  1.58s/it, grad_norm=73.2422, loss=3.5359]\n"
     ]
    },
    {
     "name": "stdout",
     "output_type": "stream",
     "text": [
      "run_5_lp1e-02_ep1e-06_lb0.010 Epoch 47/100 | Avg Loss: 2.8407, Avg Grad Norm: 18.1502, LR: 0.000005\n"
     ]
    },
    {
     "name": "stderr",
     "output_type": "stream",
     "text": [
      "run_5_lp1e-02_ep1e-06_lb0.010 Epoch 48/100: 100%|████| 890/890 [22:17<00:00,  1.50s/it, grad_norm=70.2628, loss=4.2240]\n"
     ]
    },
    {
     "name": "stdout",
     "output_type": "stream",
     "text": [
      "run_5_lp1e-02_ep1e-06_lb0.010 Epoch 48/100 | Avg Loss: 2.8171, Avg Grad Norm: 18.4999, LR: 0.000005\n"
     ]
    },
    {
     "name": "stderr",
     "output_type": "stream",
     "text": [
      "run_5_lp1e-02_ep1e-06_lb0.010 Epoch 49/100: 100%|████| 890/890 [21:39<00:00,  1.46s/it, grad_norm=29.8926, loss=3.5560]\n"
     ]
    },
    {
     "name": "stdout",
     "output_type": "stream",
     "text": [
      "run_5_lp1e-02_ep1e-06_lb0.010 Epoch 49/100 | Avg Loss: 2.8183, Avg Grad Norm: 18.8153, LR: 0.000005\n"
     ]
    },
    {
     "name": "stderr",
     "output_type": "stream",
     "text": [
      "run_5_lp1e-02_ep1e-06_lb0.010 Epoch 50/100: 100%|████| 890/890 [20:30<00:00,  1.38s/it, grad_norm=43.6280, loss=2.6449]\n"
     ]
    },
    {
     "name": "stdout",
     "output_type": "stream",
     "text": [
      "run_5_lp1e-02_ep1e-06_lb0.010 Epoch 50/100 | Avg Loss: 2.7985, Avg Grad Norm: 19.3676, LR: 0.000005\n",
      "Checkpoint saved at 'audiotwin_checkpoints_medium\\run_5_lp1e-02_ep1e-06_lb0.010\\audiotwin_pestlarvanet_medium_epoch_50.pth'\n"
     ]
    },
    {
     "name": "stderr",
     "output_type": "stream",
     "text": [
      "run_5_lp1e-02_ep1e-06_lb0.010 Epoch 51/100: 100%|█████| 890/890 [19:52<00:00,  1.34s/it, grad_norm=7.8162, loss=2.5286]\n"
     ]
    },
    {
     "name": "stdout",
     "output_type": "stream",
     "text": [
      "run_5_lp1e-02_ep1e-06_lb0.010 Epoch 51/100 | Avg Loss: 2.8140, Avg Grad Norm: 18.0476, LR: 0.000005\n"
     ]
    },
    {
     "name": "stderr",
     "output_type": "stream",
     "text": [
      "run_5_lp1e-02_ep1e-06_lb0.010 Epoch 52/100: 100%|████| 890/890 [21:39<00:00,  1.46s/it, grad_norm=24.2550, loss=3.0553]\n"
     ]
    },
    {
     "name": "stdout",
     "output_type": "stream",
     "text": [
      "run_5_lp1e-02_ep1e-06_lb0.010 Epoch 52/100 | Avg Loss: 2.8235, Avg Grad Norm: 18.7792, LR: 0.000005\n"
     ]
    },
    {
     "name": "stderr",
     "output_type": "stream",
     "text": [
      "run_5_lp1e-02_ep1e-06_lb0.010 Epoch 53/100: 100%|████| 890/890 [21:32<00:00,  1.45s/it, grad_norm=15.3500, loss=2.5286]\n"
     ]
    },
    {
     "name": "stdout",
     "output_type": "stream",
     "text": [
      "run_5_lp1e-02_ep1e-06_lb0.010 Epoch 53/100 | Avg Loss: 2.7806, Avg Grad Norm: 18.0548, LR: 0.000005\n"
     ]
    },
    {
     "name": "stderr",
     "output_type": "stream",
     "text": [
      "run_5_lp1e-02_ep1e-06_lb0.010 Epoch 54/100: 100%|█████████████████████████████████████████████████████████████████████████████████████████████| 890/890 [19:38<00:00,  1.32s/it, grad_norm=13.5768, loss=2.5715]\n"
     ]
    },
    {
     "name": "stdout",
     "output_type": "stream",
     "text": [
      "run_5_lp1e-02_ep1e-06_lb0.010 Epoch 54/100 | Avg Loss: 2.7837, Avg Grad Norm: 19.0531, LR: 0.000005\n"
     ]
    },
    {
     "name": "stderr",
     "output_type": "stream",
     "text": [
      "run_5_lp1e-02_ep1e-06_lb0.010 Epoch 55/100: 100%|█████████████████████████████████████████████████████████████████████████████████████████████| 890/890 [20:50<00:00,  1.40s/it, grad_norm=34.6851, loss=3.5787]\n"
     ]
    },
    {
     "name": "stdout",
     "output_type": "stream",
     "text": [
      "run_5_lp1e-02_ep1e-06_lb0.010 Epoch 55/100 | Avg Loss: 2.7900, Avg Grad Norm: 19.2516, LR: 0.000005\n",
      "Checkpoint saved at 'audiotwin_checkpoints_medium\\run_5_lp1e-02_ep1e-06_lb0.010\\audiotwin_pestlarvanet_medium_epoch_55.pth'\n"
     ]
    },
    {
     "name": "stderr",
     "output_type": "stream",
     "text": [
      "run_5_lp1e-02_ep1e-06_lb0.010 Epoch 56/100: 100%|█████████████████████████████████████████████████████████████████████████████████████████████| 890/890 [24:10<00:00,  1.63s/it, grad_norm=26.1291, loss=3.2202]\n"
     ]
    },
    {
     "name": "stdout",
     "output_type": "stream",
     "text": [
      "run_5_lp1e-02_ep1e-06_lb0.010 Epoch 56/100 | Avg Loss: 2.8108, Avg Grad Norm: 19.7772, LR: 0.000005\n"
     ]
    },
    {
     "name": "stderr",
     "output_type": "stream",
     "text": [
      "run_5_lp1e-02_ep1e-06_lb0.010 Epoch 57/100: 100%|█████████████████████████████████████████████████████████████████████████████████████████████| 890/890 [22:24<00:00,  1.51s/it, grad_norm=21.9812, loss=2.8418]\n"
     ]
    },
    {
     "name": "stdout",
     "output_type": "stream",
     "text": [
      "run_5_lp1e-02_ep1e-06_lb0.010 Epoch 57/100 | Avg Loss: 2.7819, Avg Grad Norm: 19.0338, LR: 0.000005\n"
     ]
    },
    {
     "name": "stderr",
     "output_type": "stream",
     "text": [
      "run_5_lp1e-02_ep1e-06_lb0.010 Epoch 58/100: 100%|█████████████████████████████████████████████████████████████████████████████████████████████| 890/890 [23:23<00:00,  1.58s/it, grad_norm=32.8546, loss=3.3763]\n"
     ]
    },
    {
     "name": "stdout",
     "output_type": "stream",
     "text": [
      "run_5_lp1e-02_ep1e-06_lb0.010 Epoch 58/100 | Avg Loss: 2.7640, Avg Grad Norm: 19.2349, LR: 0.000005\n"
     ]
    },
    {
     "name": "stderr",
     "output_type": "stream",
     "text": [
      "run_5_lp1e-02_ep1e-06_lb0.010 Epoch 59/100: 100%|█████████████████████████████████████████████████████████████████████████████████████████████| 890/890 [20:54<00:00,  1.41s/it, grad_norm=22.2316, loss=2.8034]\n"
     ]
    },
    {
     "name": "stdout",
     "output_type": "stream",
     "text": [
      "run_5_lp1e-02_ep1e-06_lb0.010 Epoch 59/100 | Avg Loss: 2.7806, Avg Grad Norm: 19.2954, LR: 0.000005\n"
     ]
    },
    {
     "name": "stderr",
     "output_type": "stream",
     "text": [
      "run_5_lp1e-02_ep1e-06_lb0.010 Epoch 60/100: 100%|█████████████████████████████████████████████████████████████████████████████████████████████| 890/890 [20:54<00:00,  1.41s/it, grad_norm=15.2300, loss=2.5835]\n"
     ]
    },
    {
     "name": "stdout",
     "output_type": "stream",
     "text": [
      "run_5_lp1e-02_ep1e-06_lb0.010 Epoch 60/100 | Avg Loss: 2.7541, Avg Grad Norm: 19.4670, LR: 0.000005\n",
      "Checkpoint saved at 'audiotwin_checkpoints_medium\\run_5_lp1e-02_ep1e-06_lb0.010\\audiotwin_pestlarvanet_medium_epoch_60.pth'\n"
     ]
    },
    {
     "name": "stderr",
     "output_type": "stream",
     "text": [
      "run_5_lp1e-02_ep1e-06_lb0.010 Epoch 61/100: 100%|█████████████████████████████████████████████████████████████████████████████████████████████| 890/890 [24:24<00:00,  1.65s/it, grad_norm=12.2778, loss=2.2968]\n"
     ]
    },
    {
     "name": "stdout",
     "output_type": "stream",
     "text": [
      "run_5_lp1e-02_ep1e-06_lb0.010 Epoch 61/100 | Avg Loss: 2.7835, Avg Grad Norm: 19.8943, LR: 0.000005\n"
     ]
    },
    {
     "name": "stderr",
     "output_type": "stream",
     "text": [
      "run_5_lp1e-02_ep1e-06_lb0.010 Epoch 62/100: 100%|█████████████████████████████████████████████████████████████████████████████████████████████| 890/890 [24:41<00:00,  1.66s/it, grad_norm=47.3096, loss=2.7291]\n"
     ]
    },
    {
     "name": "stdout",
     "output_type": "stream",
     "text": [
      "run_5_lp1e-02_ep1e-06_lb0.010 Epoch 62/100 | Avg Loss: 2.7597, Avg Grad Norm: 20.0123, LR: 0.000005\n"
     ]
    },
    {
     "name": "stderr",
     "output_type": "stream",
     "text": [
      "run_5_lp1e-02_ep1e-06_lb0.010 Epoch 63/100: 100%|█████████████████████████████████████████████████████████████████████████████████████████████| 890/890 [25:53<00:00,  1.75s/it, grad_norm=41.6560, loss=3.2676]\n"
     ]
    },
    {
     "name": "stdout",
     "output_type": "stream",
     "text": [
      "run_5_lp1e-02_ep1e-06_lb0.010 Epoch 63/100 | Avg Loss: 2.7420, Avg Grad Norm: 18.7090, LR: 0.000005\n"
     ]
    },
    {
     "name": "stderr",
     "output_type": "stream",
     "text": [
      "run_5_lp1e-02_ep1e-06_lb0.010 Epoch 64/100: 100%|██████████████████████████████████████████████████████████████████████████████████████████████| 890/890 [22:40<00:00,  1.53s/it, grad_norm=9.2749, loss=2.4825]\n"
     ]
    },
    {
     "name": "stdout",
     "output_type": "stream",
     "text": [
      "run_5_lp1e-02_ep1e-06_lb0.010 Epoch 64/100 | Avg Loss: 2.7350, Avg Grad Norm: 19.4851, LR: 0.000005\n"
     ]
    },
    {
     "name": "stderr",
     "output_type": "stream",
     "text": [
      "run_5_lp1e-02_ep1e-06_lb0.010 Epoch 65/100: 100%|█████████████████████████████████████████████████████████████████████████████████████████████| 890/890 [19:58<00:00,  1.35s/it, grad_norm=23.6862, loss=2.5942]\n"
     ]
    },
    {
     "name": "stdout",
     "output_type": "stream",
     "text": [
      "run_5_lp1e-02_ep1e-06_lb0.010 Epoch 65/100 | Avg Loss: 2.7326, Avg Grad Norm: 19.8661, LR: 0.000005\n",
      "Checkpoint saved at 'audiotwin_checkpoints_medium\\run_5_lp1e-02_ep1e-06_lb0.010\\audiotwin_pestlarvanet_medium_epoch_65.pth'\n"
     ]
    },
    {
     "name": "stderr",
     "output_type": "stream",
     "text": [
      "run_5_lp1e-02_ep1e-06_lb0.010 Epoch 66/100: 100%|█████████████████████████████████████████████████████████████████████████████████████████████| 890/890 [20:05<00:00,  1.35s/it, grad_norm=23.1332, loss=2.6904]\n"
     ]
    },
    {
     "name": "stdout",
     "output_type": "stream",
     "text": [
      "run_5_lp1e-02_ep1e-06_lb0.010 Epoch 66/100 | Avg Loss: 2.7578, Avg Grad Norm: 20.2328, LR: 0.000005\n"
     ]
    },
    {
     "name": "stderr",
     "output_type": "stream",
     "text": [
      "run_5_lp1e-02_ep1e-06_lb0.010 Epoch 67/100: 100%|█████████████████████████████████████████████████████████████████████████████████████████████| 890/890 [19:47<00:00,  1.33s/it, grad_norm=22.1111, loss=2.7206]\n"
     ]
    },
    {
     "name": "stdout",
     "output_type": "stream",
     "text": [
      "run_5_lp1e-02_ep1e-06_lb0.010 Epoch 67/100 | Avg Loss: 2.7075, Avg Grad Norm: 19.6768, LR: 0.000005\n"
     ]
    },
    {
     "name": "stderr",
     "output_type": "stream",
     "text": [
      "run_5_lp1e-02_ep1e-06_lb0.010 Epoch 68/100: 100%|█████████████████████████████████████████████████████████████████████████████████████████████| 890/890 [19:47<00:00,  1.33s/it, grad_norm=73.9894, loss=3.8088]\n"
     ]
    },
    {
     "name": "stdout",
     "output_type": "stream",
     "text": [
      "run_5_lp1e-02_ep1e-06_lb0.010 Epoch 68/100 | Avg Loss: 2.7258, Avg Grad Norm: 20.0415, LR: 0.000005\n"
     ]
    },
    {
     "name": "stderr",
     "output_type": "stream",
     "text": [
      "run_5_lp1e-02_ep1e-06_lb0.010 Epoch 69/100: 100%|█████████████████████████████████████████████████████████████████████████████████████████████| 890/890 [19:47<00:00,  1.33s/it, grad_norm=56.2035, loss=4.3538]\n"
     ]
    },
    {
     "name": "stdout",
     "output_type": "stream",
     "text": [
      "run_5_lp1e-02_ep1e-06_lb0.010 Epoch 69/100 | Avg Loss: 2.7450, Avg Grad Norm: 20.5223, LR: 0.000005\n"
     ]
    },
    {
     "name": "stderr",
     "output_type": "stream",
     "text": [
      "run_5_lp1e-02_ep1e-06_lb0.010 Epoch 70/100: 100%|█████████████████████████████████████████████████████████████████████████████████████████████| 890/890 [19:34<00:00,  1.32s/it, grad_norm=16.4103, loss=2.7053]\n"
     ]
    },
    {
     "name": "stdout",
     "output_type": "stream",
     "text": [
      "run_5_lp1e-02_ep1e-06_lb0.010 Epoch 70/100 | Avg Loss: 2.7233, Avg Grad Norm: 20.3215, LR: 0.000005\n",
      "Checkpoint saved at 'audiotwin_checkpoints_medium\\run_5_lp1e-02_ep1e-06_lb0.010\\audiotwin_pestlarvanet_medium_epoch_70.pth'\n"
     ]
    },
    {
     "name": "stderr",
     "output_type": "stream",
     "text": [
      "run_5_lp1e-02_ep1e-06_lb0.010 Epoch 71/100: 100%|█████████████████████████████████████████████████████████████████████████████████████████████| 890/890 [21:49<00:00,  1.47s/it, grad_norm=10.6331, loss=2.2646]\n"
     ]
    },
    {
     "name": "stdout",
     "output_type": "stream",
     "text": [
      "run_5_lp1e-02_ep1e-06_lb0.010 Epoch 71/100 | Avg Loss: 2.7182, Avg Grad Norm: 19.7237, LR: 0.000005\n"
     ]
    },
    {
     "name": "stderr",
     "output_type": "stream",
     "text": [
      "run_5_lp1e-02_ep1e-06_lb0.010 Epoch 72/100: 100%|█████████████████████████████████████████████████████████████████████████████████████████████| 890/890 [21:47<00:00,  1.47s/it, grad_norm=62.5599, loss=4.5318]\n"
     ]
    },
    {
     "name": "stdout",
     "output_type": "stream",
     "text": [
      "run_5_lp1e-02_ep1e-06_lb0.010 Epoch 72/100 | Avg Loss: 2.7287, Avg Grad Norm: 20.5736, LR: 0.000005\n"
     ]
    },
    {
     "name": "stderr",
     "output_type": "stream",
     "text": [
      "run_5_lp1e-02_ep1e-06_lb0.010 Epoch 73/100: 100%|█████████████████████████████████████████████████████████████████████████████████████████████| 890/890 [19:48<00:00,  1.33s/it, grad_norm=80.6698, loss=3.7449]\n"
     ]
    },
    {
     "name": "stdout",
     "output_type": "stream",
     "text": [
      "run_5_lp1e-02_ep1e-06_lb0.010 Epoch 73/100 | Avg Loss: 2.7144, Avg Grad Norm: 20.6742, LR: 0.000005\n"
     ]
    },
    {
     "name": "stderr",
     "output_type": "stream",
     "text": [
      "run_5_lp1e-02_ep1e-06_lb0.010 Epoch 74/100: 100%|████████████████████████████████████████████████████████████████████████████████████████████| 890/890 [19:27<00:00,  1.31s/it, grad_norm=104.9981, loss=3.8504]\n"
     ]
    },
    {
     "name": "stdout",
     "output_type": "stream",
     "text": [
      "run_5_lp1e-02_ep1e-06_lb0.010 Epoch 74/100 | Avg Loss: 2.7086, Avg Grad Norm: 19.9509, LR: 0.000001\n"
     ]
    },
    {
     "name": "stderr",
     "output_type": "stream",
     "text": [
      "run_5_lp1e-02_ep1e-06_lb0.010 Epoch 75/100: 100%|█████████████████████████████████████████████████████████████████████████████████████████████| 890/890 [19:54<00:00,  1.34s/it, grad_norm=42.0869, loss=3.3461]\n"
     ]
    },
    {
     "name": "stdout",
     "output_type": "stream",
     "text": [
      "run_5_lp1e-02_ep1e-06_lb0.010 Epoch 75/100 | Avg Loss: 2.6961, Avg Grad Norm: 20.0337, LR: 0.000001\n",
      "Checkpoint saved at 'audiotwin_checkpoints_medium\\run_5_lp1e-02_ep1e-06_lb0.010\\audiotwin_pestlarvanet_medium_epoch_75.pth'\n"
     ]
    },
    {
     "name": "stderr",
     "output_type": "stream",
     "text": [
      "run_5_lp1e-02_ep1e-06_lb0.010 Epoch 76/100: 100%|█████████████████████████████████████████████████████████████████████████████████████████████| 890/890 [19:49<00:00,  1.34s/it, grad_norm=17.0260, loss=2.4523]\n"
     ]
    },
    {
     "name": "stdout",
     "output_type": "stream",
     "text": [
      "run_5_lp1e-02_ep1e-06_lb0.010 Epoch 76/100 | Avg Loss: 2.6994, Avg Grad Norm: 19.5840, LR: 0.000001\n"
     ]
    },
    {
     "name": "stderr",
     "output_type": "stream",
     "text": [
      "run_5_lp1e-02_ep1e-06_lb0.010 Epoch 77/100: 100%|█████████████████████████████████████████████████████████████████████████████████████████████| 890/890 [19:41<00:00,  1.33s/it, grad_norm=48.6792, loss=3.9920]\n"
     ]
    },
    {
     "name": "stdout",
     "output_type": "stream",
     "text": [
      "run_5_lp1e-02_ep1e-06_lb0.010 Epoch 77/100 | Avg Loss: 2.6875, Avg Grad Norm: 19.9674, LR: 0.000001\n"
     ]
    },
    {
     "name": "stderr",
     "output_type": "stream",
     "text": [
      "run_5_lp1e-02_ep1e-06_lb0.010 Epoch 78/100: 100%|█████████████████████████████████████████████████████████████████████████████████████████████| 890/890 [19:24<00:00,  1.31s/it, grad_norm=31.4608, loss=2.6621]\n"
     ]
    },
    {
     "name": "stdout",
     "output_type": "stream",
     "text": [
      "run_5_lp1e-02_ep1e-06_lb0.010 Epoch 78/100 | Avg Loss: 2.7071, Avg Grad Norm: 19.6710, LR: 0.000001\n"
     ]
    },
    {
     "name": "stderr",
     "output_type": "stream",
     "text": [
      "run_5_lp1e-02_ep1e-06_lb0.010 Epoch 79/100: 100%|█████████████████████████████████████████████████████████████████████████████████████████████| 890/890 [20:01<00:00,  1.35s/it, grad_norm=44.6575, loss=3.3265]\n"
     ]
    },
    {
     "name": "stdout",
     "output_type": "stream",
     "text": [
      "run_5_lp1e-02_ep1e-06_lb0.010 Epoch 79/100 | Avg Loss: 2.7153, Avg Grad Norm: 20.6496, LR: 0.000001\n"
     ]
    },
    {
     "name": "stderr",
     "output_type": "stream",
     "text": [
      "run_5_lp1e-02_ep1e-06_lb0.010 Epoch 80/100: 100%|█████████████████████████████████████████████████████████████████████████████████████████████| 890/890 [19:43<00:00,  1.33s/it, grad_norm=17.1690, loss=2.7585]\n"
     ]
    },
    {
     "name": "stdout",
     "output_type": "stream",
     "text": [
      "run_5_lp1e-02_ep1e-06_lb0.010 Epoch 80/100 | Avg Loss: 2.7182, Avg Grad Norm: 19.7578, LR: 0.000001\n",
      "Checkpoint saved at 'audiotwin_checkpoints_medium\\run_5_lp1e-02_ep1e-06_lb0.010\\audiotwin_pestlarvanet_medium_epoch_80.pth'\n"
     ]
    },
    {
     "name": "stderr",
     "output_type": "stream",
     "text": [
      "run_5_lp1e-02_ep1e-06_lb0.010 Epoch 81/100: 100%|█████████████████████████████████████████████████████████████████████████████████████████████| 890/890 [19:38<00:00,  1.32s/it, grad_norm=40.1303, loss=4.6367]\n"
     ]
    },
    {
     "name": "stdout",
     "output_type": "stream",
     "text": [
      "run_5_lp1e-02_ep1e-06_lb0.010 Epoch 81/100 | Avg Loss: 2.6978, Avg Grad Norm: 20.2135, LR: 0.000001\n"
     ]
    },
    {
     "name": "stderr",
     "output_type": "stream",
     "text": [
      "run_5_lp1e-02_ep1e-06_lb0.010 Epoch 82/100: 100%|█████████████████████████████████████████████████████████████████████████████████████████████| 890/890 [19:43<00:00,  1.33s/it, grad_norm=24.3540, loss=2.7612]\n"
     ]
    },
    {
     "name": "stdout",
     "output_type": "stream",
     "text": [
      "run_5_lp1e-02_ep1e-06_lb0.010 Epoch 82/100 | Avg Loss: 2.7086, Avg Grad Norm: 20.2965, LR: 0.000001\n"
     ]
    },
    {
     "name": "stderr",
     "output_type": "stream",
     "text": [
      "run_5_lp1e-02_ep1e-06_lb0.010 Epoch 83/100: 100%|█████████████████████████████████████████████████████████████████████████████████████████████| 890/890 [19:42<00:00,  1.33s/it, grad_norm=13.7847, loss=2.5338]\n"
     ]
    },
    {
     "name": "stdout",
     "output_type": "stream",
     "text": [
      "run_5_lp1e-02_ep1e-06_lb0.010 Epoch 83/100 | Avg Loss: 2.7054, Avg Grad Norm: 19.7587, LR: 0.000001\n"
     ]
    },
    {
     "name": "stderr",
     "output_type": "stream",
     "text": [
      "run_5_lp1e-02_ep1e-06_lb0.010 Epoch 84/100: 100%|█████████████████████████████████████████████████████████████████████████████████████████████| 890/890 [19:41<00:00,  1.33s/it, grad_norm=57.6893, loss=4.6910]\n"
     ]
    },
    {
     "name": "stdout",
     "output_type": "stream",
     "text": [
      "run_5_lp1e-02_ep1e-06_lb0.010 Epoch 84/100 | Avg Loss: 2.7179, Avg Grad Norm: 20.8037, LR: 0.000000\n"
     ]
    },
    {
     "name": "stderr",
     "output_type": "stream",
     "text": [
      "run_5_lp1e-02_ep1e-06_lb0.010 Epoch 85/100: 100%|█████████████████████████████████████████████████████████████████████████████████████████████| 890/890 [19:35<00:00,  1.32s/it, grad_norm=40.6987, loss=4.0323]\n"
     ]
    },
    {
     "name": "stdout",
     "output_type": "stream",
     "text": [
      "run_5_lp1e-02_ep1e-06_lb0.010 Epoch 85/100 | Avg Loss: 2.7179, Avg Grad Norm: 20.1328, LR: 0.000000\n",
      "Checkpoint saved at 'audiotwin_checkpoints_medium\\run_5_lp1e-02_ep1e-06_lb0.010\\audiotwin_pestlarvanet_medium_epoch_85.pth'\n"
     ]
    },
    {
     "name": "stderr",
     "output_type": "stream",
     "text": [
      "run_5_lp1e-02_ep1e-06_lb0.010 Epoch 86/100: 100%|█████████████████████████████████████████████████████████████████████████████████████████████| 890/890 [19:43<00:00,  1.33s/it, grad_norm=49.2150, loss=3.9891]\n"
     ]
    },
    {
     "name": "stdout",
     "output_type": "stream",
     "text": [
      "run_5_lp1e-02_ep1e-06_lb0.010 Epoch 86/100 | Avg Loss: 2.6825, Avg Grad Norm: 19.5561, LR: 0.000000\n"
     ]
    },
    {
     "name": "stderr",
     "output_type": "stream",
     "text": [
      "run_5_lp1e-02_ep1e-06_lb0.010 Epoch 87/100: 100%|█████████████████████████████████████████████████████████████████████████████████████████████| 890/890 [19:50<00:00,  1.34s/it, grad_norm=20.6312, loss=2.2514]\n"
     ]
    },
    {
     "name": "stdout",
     "output_type": "stream",
     "text": [
      "run_5_lp1e-02_ep1e-06_lb0.010 Epoch 87/100 | Avg Loss: 2.6988, Avg Grad Norm: 19.6476, LR: 0.000000\n"
     ]
    },
    {
     "name": "stderr",
     "output_type": "stream",
     "text": [
      "run_5_lp1e-02_ep1e-06_lb0.010 Epoch 88/100: 100%|█████████████████████████████████████████████████████████████████████████████████████████████| 890/890 [19:44<00:00,  1.33s/it, grad_norm=16.4765, loss=2.8654]\n"
     ]
    },
    {
     "name": "stdout",
     "output_type": "stream",
     "text": [
      "run_5_lp1e-02_ep1e-06_lb0.010 Epoch 88/100 | Avg Loss: 2.6924, Avg Grad Norm: 19.3763, LR: 0.000000\n"
     ]
    },
    {
     "name": "stderr",
     "output_type": "stream",
     "text": [
      "run_5_lp1e-02_ep1e-06_lb0.010 Epoch 89/100: 100%|█████████████████████████████████████████████████████████████████████████████████████████████| 890/890 [19:28<00:00,  1.31s/it, grad_norm=37.5410, loss=3.7453]\n"
     ]
    },
    {
     "name": "stdout",
     "output_type": "stream",
     "text": [
      "run_5_lp1e-02_ep1e-06_lb0.010 Epoch 89/100 | Avg Loss: 2.7009, Avg Grad Norm: 20.0177, LR: 0.000000\n"
     ]
    },
    {
     "name": "stderr",
     "output_type": "stream",
     "text": [
      "run_5_lp1e-02_ep1e-06_lb0.010 Epoch 90/100: 100%|█████████████████████████████████████████████████████████████████████████████████████████████| 890/890 [19:33<00:00,  1.32s/it, grad_norm=24.9064, loss=3.0070]\n"
     ]
    },
    {
     "name": "stdout",
     "output_type": "stream",
     "text": [
      "run_5_lp1e-02_ep1e-06_lb0.010 Epoch 90/100 | Avg Loss: 2.6873, Avg Grad Norm: 19.9328, LR: 0.000000\n",
      "Checkpoint saved at 'audiotwin_checkpoints_medium\\run_5_lp1e-02_ep1e-06_lb0.010\\audiotwin_pestlarvanet_medium_epoch_90.pth'\n"
     ]
    },
    {
     "name": "stderr",
     "output_type": "stream",
     "text": [
      "run_5_lp1e-02_ep1e-06_lb0.010 Epoch 91/100: 100%|█████████████████████████████████████████████████████████████████████████████████████████████| 890/890 [20:04<00:00,  1.35s/it, grad_norm=66.5970, loss=3.0397]\n"
     ]
    },
    {
     "name": "stdout",
     "output_type": "stream",
     "text": [
      "run_5_lp1e-02_ep1e-06_lb0.010 Epoch 91/100 | Avg Loss: 2.7008, Avg Grad Norm: 21.2373, LR: 0.000000\n"
     ]
    },
    {
     "name": "stderr",
     "output_type": "stream",
     "text": [
      "run_5_lp1e-02_ep1e-06_lb0.010 Epoch 92/100: 100%|█████████████████████████████████████████████████████████████████████████████████████████████| 890/890 [19:40<00:00,  1.33s/it, grad_norm=58.8838, loss=3.4169]\n"
     ]
    },
    {
     "name": "stdout",
     "output_type": "stream",
     "text": [
      "run_5_lp1e-02_ep1e-06_lb0.010 Epoch 92/100 | Avg Loss: 2.7000, Avg Grad Norm: 18.9501, LR: 0.000000\n"
     ]
    },
    {
     "name": "stderr",
     "output_type": "stream",
     "text": [
      "run_5_lp1e-02_ep1e-06_lb0.010 Epoch 93/100: 100%|█████████████████████████████████████████████████████████████████████████████████████████████| 890/890 [20:08<00:00,  1.36s/it, grad_norm=54.6655, loss=3.9713]\n"
     ]
    },
    {
     "name": "stdout",
     "output_type": "stream",
     "text": [
      "run_5_lp1e-02_ep1e-06_lb0.010 Epoch 93/100 | Avg Loss: 2.6950, Avg Grad Norm: 19.9982, LR: 0.000000\n"
     ]
    },
    {
     "name": "stderr",
     "output_type": "stream",
     "text": [
      "run_5_lp1e-02_ep1e-06_lb0.010 Epoch 94/100: 100%|█████████████████████████████████████████████████████████████████████████████████████████████| 890/890 [21:58<00:00,  1.48s/it, grad_norm=15.7652, loss=2.2976]\n"
     ]
    },
    {
     "name": "stdout",
     "output_type": "stream",
     "text": [
      "run_5_lp1e-02_ep1e-06_lb0.010 Epoch 94/100 | Avg Loss: 2.7252, Avg Grad Norm: 20.8792, LR: 0.000000\n"
     ]
    },
    {
     "name": "stderr",
     "output_type": "stream",
     "text": [
      "run_5_lp1e-02_ep1e-06_lb0.010 Epoch 95/100: 100%|█████████████████████████████████████████████████████████████████████████████████████████████| 890/890 [19:36<00:00,  1.32s/it, grad_norm=60.2020, loss=3.1099]\n"
     ]
    },
    {
     "name": "stdout",
     "output_type": "stream",
     "text": [
      "run_5_lp1e-02_ep1e-06_lb0.010 Epoch 95/100 | Avg Loss: 2.7310, Avg Grad Norm: 20.2080, LR: 0.000000\n",
      "Checkpoint saved at 'audiotwin_checkpoints_medium\\run_5_lp1e-02_ep1e-06_lb0.010\\audiotwin_pestlarvanet_medium_epoch_95.pth'\n"
     ]
    },
    {
     "name": "stderr",
     "output_type": "stream",
     "text": [
      "run_5_lp1e-02_ep1e-06_lb0.010 Epoch 96/100: 100%|█████████████████████████████████████████████████████████████████████████████████████████████| 890/890 [19:30<00:00,  1.32s/it, grad_norm=41.3414, loss=3.2045]\n"
     ]
    },
    {
     "name": "stdout",
     "output_type": "stream",
     "text": [
      "run_5_lp1e-02_ep1e-06_lb0.010 Epoch 96/100 | Avg Loss: 2.6589, Avg Grad Norm: 19.4707, LR: 0.000000\n"
     ]
    },
    {
     "name": "stderr",
     "output_type": "stream",
     "text": [
      "run_5_lp1e-02_ep1e-06_lb0.010 Epoch 97/100: 100%|█████████████████████████████████████████████████████████████████████████████████████████████| 890/890 [19:36<00:00,  1.32s/it, grad_norm=34.1929, loss=2.4518]\n"
     ]
    },
    {
     "name": "stdout",
     "output_type": "stream",
     "text": [
      "run_5_lp1e-02_ep1e-06_lb0.010 Epoch 97/100 | Avg Loss: 2.6717, Avg Grad Norm: 19.8208, LR: 0.000000\n"
     ]
    },
    {
     "name": "stderr",
     "output_type": "stream",
     "text": [
      "run_5_lp1e-02_ep1e-06_lb0.010 Epoch 98/100: 100%|█████████████████████████████████████████████████████████████████████████████████████████████| 890/890 [19:55<00:00,  1.34s/it, grad_norm=31.5967, loss=3.2579]\n"
     ]
    },
    {
     "name": "stdout",
     "output_type": "stream",
     "text": [
      "run_5_lp1e-02_ep1e-06_lb0.010 Epoch 98/100 | Avg Loss: 2.6786, Avg Grad Norm: 20.0370, LR: 0.000000\n"
     ]
    },
    {
     "name": "stderr",
     "output_type": "stream",
     "text": [
      "run_5_lp1e-02_ep1e-06_lb0.010 Epoch 99/100: 100%|█████████████████████████████████████████████████████████████████████████████████████████████| 890/890 [19:37<00:00,  1.32s/it, grad_norm=19.7969, loss=2.6781]\n"
     ]
    },
    {
     "name": "stdout",
     "output_type": "stream",
     "text": [
      "run_5_lp1e-02_ep1e-06_lb0.010 Epoch 99/100 | Avg Loss: 2.6886, Avg Grad Norm: 19.5231, LR: 0.000000\n"
     ]
    },
    {
     "name": "stderr",
     "output_type": "stream",
     "text": [
      "run_5_lp1e-02_ep1e-06_lb0.010 Epoch 100/100: 100%|████████████████████████████████████████████████████████████████████████████████████████████| 890/890 [19:48<00:00,  1.34s/it, grad_norm=28.3231, loss=2.7325]\n"
     ]
    },
    {
     "name": "stdout",
     "output_type": "stream",
     "text": [
      "run_5_lp1e-02_ep1e-06_lb0.010 Epoch 100/100 | Avg Loss: 2.6894, Avg Grad Norm: 19.7799, LR: 0.000000\n",
      "Checkpoint saved at 'audiotwin_checkpoints_medium\\run_5_lp1e-02_ep1e-06_lb0.010\\audiotwin_pestlarvanet_medium_epoch_100.pth'\n"
     ]
    }
   ],
   "source": [
    "SUPERVISED_CHECKPOINT = r'F:\\best_model_medium.pth'\n",
    "run_audiotwin_pretraining(supervised_checkpoint_path=SUPERVISED_CHECKPOINT)"
   ]
  },
  {
   "cell_type": "code",
   "execution_count": null,
   "id": "7f53431c-f9ea-409a-b320-4213feace3a5",
   "metadata": {},
   "outputs": [],
   "source": []
  },
  {
   "cell_type": "code",
   "execution_count": null,
   "id": "51ac17b8-7fdf-4b40-a953-5a6682cb441e",
   "metadata": {},
   "outputs": [],
   "source": []
  }
 ],
 "metadata": {
  "kernelspec": {
   "display_name": "Python 3 (ipykernel)",
   "language": "python",
   "name": "python3"
  },
  "language_info": {
   "codemirror_mode": {
    "name": "ipython",
    "version": 3
   },
   "file_extension": ".py",
   "mimetype": "text/x-python",
   "name": "python",
   "nbconvert_exporter": "python",
   "pygments_lexer": "ipython3",
   "version": "3.10.16"
  }
 },
 "nbformat": 4,
 "nbformat_minor": 5
}
