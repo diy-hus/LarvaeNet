{
 "cells": [
  {
   "cell_type": "code",
   "execution_count": 31,
   "id": "ec8cc22c-84ca-44ea-ad84-a516d78282e7",
   "metadata": {},
   "outputs": [],
   "source": [
    "import os\n",
    "import random\n",
    "import pandas as pd\n",
    "import numpy as np\n",
    "import torch\n",
    "import torch.nn as nn\n",
    "import torch.nn.functional as F\n",
    "import torchaudio\n",
    "import torchaudio.transforms\n",
    "from torch.utils.data import Dataset, DataLoader, Subset\n",
    "from sklearn.model_selection import train_test_split # THAY ĐỔI: Dùng train_test_split\n",
    "from sklearn.metrics import accuracy_score, precision_score, recall_score, f1_score\n",
    "from torchvision.transforms import v2 as T\n",
    "from tqdm.notebook import tqdm\n"
   ]
  },
  {
   "cell_type": "code",
   "execution_count": 32,
   "id": "b5b37fb9-0e09-4df7-9430-a29227427b7a",
   "metadata": {},
   "outputs": [],
   "source": [
    "import warnings # <<< MỚI: Thêm thư viện warnings\n",
    "\n",
    "# <<< MỚI: Tắt các cảnh báo FutureWarning >>>\n",
    "warnings.simplefilter(action='ignore', category=FutureWarning)"
   ]
  },
  {
   "cell_type": "code",
   "execution_count": 33,
   "id": "8d226899-8864-446d-8fd0-99d53124259e",
   "metadata": {},
   "outputs": [
    {
     "name": "stdout",
     "output_type": "stream",
     "text": [
      "Using device: cuda\n"
     ]
    }
   ],
   "source": [
    "device = torch.device(\"cuda\" if torch.cuda.is_available() else \"cpu\")\n",
    "print(f\"Using device: {device}\")\n",
    "SEED = 42\n",
    "random.seed(SEED)\n",
    "np.random.seed(SEED)\n",
    "torch.manual_seed(SEED)\n",
    "if torch.cuda.is_available():\n",
    "    torch.cuda.manual_seed_all(SEED)"
   ]
  },
  {
   "cell_type": "code",
   "execution_count": 34,
   "id": "994d40d9-2ff8-4edc-a996-dfc0e8c2f84b",
   "metadata": {},
   "outputs": [
    {
     "name": "stdout",
     "output_type": "stream",
     "text": [
      "Đã định nghĩa xong pipeline Augmentation mới cho Spectrogram.\n"
     ]
    }
   ],
   "source": [
    "class TimeShift(torch.nn.Module):\n",
    "    \"\"\" Dịch chuyển spectrogram theo trục thời gian một cách ngẫu nhiên. \"\"\"\n",
    "    def __init__(self, p=0.5, max_shift_percent=0.4):\n",
    "        super().__init__()\n",
    "        self.p = p\n",
    "        self.max_shift_percent = max_shift_percent\n",
    "\n",
    "    def forward(self, spec):\n",
    "        if torch.rand(1) < self.p:\n",
    "            time_steps = spec.shape[-1]\n",
    "            # Chọn một lượng dịch chuyển ngẫu nhiên\n",
    "            shift_amount = int(torch.rand(1) * self.max_shift_percent * time_steps)\n",
    "            # Dịch ngẫu nhiên sang trái hoặc phải\n",
    "            if torch.rand(1) < 0.5:\n",
    "                shift_amount = -shift_amount\n",
    "            return torch.roll(spec, shifts=shift_amount, dims=-1)\n",
    "        return spec\n",
    "\n",
    "class SpecNoise(torch.nn.Module):\n",
    "    \"\"\" Thêm nhiễu Gaussian trực tiếp vào spectrogram. \"\"\"\n",
    "    def __init__(self, p=0.5, noise_level=0.05):\n",
    "        super().__init__()\n",
    "        self.p = p\n",
    "        self.noise_level = noise_level\n",
    "\n",
    "    def forward(self, spec):\n",
    "        if torch.rand(1) < self.p:\n",
    "            noise = torch.randn_like(spec) * self.noise_level\n",
    "            return spec + noise\n",
    "        return spec\n",
    "\n",
    "train_transform = T.Compose([\n",
    "    # Kỹ thuật 1: SpecAugment (Time & Frequency Masking)\n",
    "    torchaudio.transforms.TimeMasking(time_mask_param=80),\n",
    "    torchaudio.transforms.FrequencyMasking(freq_mask_param=25),\n",
    "    \n",
    "    # Kỹ thuật 2: Time Shifting\n",
    "    TimeShift(p=0.5, max_shift_percent=0.4),\n",
    "    \n",
    "    # Kỹ thuật 3: Spectrogram Noise\n",
    "    SpecNoise(p=0.3, noise_level=0.03),\n",
    "])\n",
    "\n",
    "# Tập validation không sử dụng augmentation\n",
    "val_transform = None\n",
    "\n",
    "print(\"Đã định nghĩa xong pipeline Augmentation mới cho Spectrogram.\")\n",
    "\n",
    "\n",
    "# --- CÁC HÀM MIXUP (Không sử dụng trong vòng lặp chính nhưng giữ lại) ---\n",
    "def mixup_data(x, y, alpha=0.4, use_cuda=True):\n",
    "    \"\"\"\n",
    "    Trộn dữ liệu trong một batch.\n",
    "    Trả về input đã trộn, và hai bộ nhãn gốc cùng với hệ số trộn lambda.\n",
    "    \"\"\"\n",
    "    if alpha > 0:\n",
    "        lam = np.random.beta(alpha, alpha)\n",
    "    else:\n",
    "        lam = 1\n",
    "\n",
    "    batch_size = x.size()[0]\n",
    "    if use_cuda:\n",
    "        index = torch.randperm(batch_size).cuda()\n",
    "    else:\n",
    "        index = torch.randperm(batch_size)\n",
    "\n",
    "    mixed_x = lam * x + (1 - lam) * x[index, :]\n",
    "    y_a, y_b = y, y[index]\n",
    "    return mixed_x, y_a, y_b, lam\n",
    "\n",
    "def mixup_criterion(criterion, pred, y_a, y_b, lam):\n",
    "    \"\"\"\n",
    "    Hàm tính loss đặc biệt cho Mixup.\n",
    "    \"\"\"\n",
    "    return lam * criterion(pred, y_a) + (1 - lam) * criterion(pred, y_b)"
   ]
  },
  {
   "cell_type": "code",
   "execution_count": 35,
   "id": "05662d0f-9f1e-41ab-aadb-fd5fc3dc0bc1",
   "metadata": {},
   "outputs": [],
   "source": [
    "class DynamicGraphAttention(nn.Module):\n",
    "    def __init__(self, in_channels, num_nodes=32, heads=8, dropout=0.1):\n",
    "        super().__init__()\n",
    "        self.num_nodes, self.heads = num_nodes, heads\n",
    "        self.head_dim = in_channels // heads\n",
    "        self.dropout = nn.Dropout(dropout)\n",
    "        self.query = nn.Linear(in_channels, in_channels)\n",
    "        self.key = nn.Linear(in_channels, in_channels)\n",
    "        self.value = nn.Linear(in_channels, in_channels)\n",
    "        self.out = nn.Linear(in_channels, in_channels)\n",
    "        self.scale = nn.Parameter(torch.tensor(self.head_dim**-0.5))\n",
    "        self.pos_enc = nn.Parameter(torch.randn(1, num_nodes, in_channels))\n",
    "\n",
    "    def forward(self, x):\n",
    "        B, C, H, W = x.size()\n",
    "        x_flat = x.flatten(2).transpose(1, 2)\n",
    "        num_pixels = H * W\n",
    "        N = min(self.num_nodes, num_pixels)\n",
    "        _, indices = torch.topk(torch.norm(x_flat, dim=-1), N, dim=-1)\n",
    "        indices_expanded = indices.unsqueeze(-1).expand(-1, -1, C)\n",
    "        x_nodes = torch.gather(x_flat, 1, indices_expanded)\n",
    "        if self.pos_enc.size(1) >= N:\n",
    "            x_nodes = x_nodes + self.pos_enc[:, :N, :]\n",
    "        q = self.query(x_nodes).view(B, N, self.heads, self.head_dim).transpose(1, 2)\n",
    "        k = self.key(x_nodes).view(B, N, self.heads, self.head_dim).transpose(1, 2)\n",
    "        v = self.value(x_nodes).view(B, N, self.heads, self.head_dim).transpose(1, 2)\n",
    "        attn_weights = F.softmax(torch.matmul(q, k.transpose(-2, -1)) * self.scale, dim=-1)\n",
    "        attn_output = torch.matmul(self.dropout(attn_weights), v).transpose(1, 2).contiguous().view(B, N, C)\n",
    "        out_nodes = self.out(attn_output)\n",
    "        out_flat = torch.zeros_like(x_flat)\n",
    "        out_flat.scatter_(1, indices_expanded, out_nodes)\n",
    "        out = out_flat.transpose(1, 2).view(B, C, H, W)\n",
    "        return x + out\n",
    "\n",
    "class TemporalAttentionAggregator(nn.Module):\n",
    "    def __init__(self, in_channels, num_heads=4):\n",
    "        super().__init__()\n",
    "        self.attention_net = nn.MultiheadAttention(embed_dim=in_channels, num_heads=num_heads, batch_first=True)\n",
    "        self.norm = nn.LayerNorm(in_channels)\n",
    "\n",
    "    def forward(self, x):\n",
    "        if x.dim() != 4: raise ValueError(\"Input must be 4D tensor\")\n",
    "        B, C, H, W = x.size()\n",
    "        x_flat = x.flatten(2).transpose(1, 2)\n",
    "        x_norm = self.norm(x_flat)\n",
    "        attn_output, _ = self.attention_net(x_norm, x_norm, x_norm)\n",
    "        return torch.mean(attn_output, dim=1)\n",
    "\n",
    "class InvertedResidual(nn.Module):\n",
    "    def __init__(self, in_channels, out_channels, stride, expansion=6):\n",
    "        super().__init__()\n",
    "        hidden_dim = in_channels * expansion\n",
    "        self.use_residual = in_channels == out_channels and stride == 1\n",
    "        self.conv = nn.Sequential(\n",
    "            nn.Conv2d(in_channels, hidden_dim, 1, bias=False), nn.BatchNorm2d(hidden_dim), nn.SiLU(inplace=True),\n",
    "            nn.Conv2d(hidden_dim, hidden_dim, 3, stride, 1, groups=hidden_dim, bias=False), nn.BatchNorm2d(hidden_dim), nn.SiLU(inplace=True),\n",
    "            nn.Conv2d(hidden_dim, out_channels, 1, bias=False), nn.BatchNorm2d(out_channels)\n",
    "        )\n",
    "        self.se = nn.Sequential(\n",
    "            nn.AdaptiveAvgPool2d(1),\n",
    "            nn.Conv2d(out_channels, out_channels // 16, 1), nn.SiLU(),\n",
    "            nn.Conv2d(out_channels // 16, out_channels, 1), nn.Sigmoid()\n",
    "        )\n",
    "\n",
    "    def forward(self, x):\n",
    "        out = self.conv(x)\n",
    "        out = out * self.se(out)\n",
    "        return x + out if self.use_residual else out\n"
   ]
  },
  {
   "cell_type": "code",
   "execution_count": 36,
   "id": "4d0d7aa7-da96-4545-98df-57aabd2379f1",
   "metadata": {},
   "outputs": [],
   "source": [
    "class PestLarvaNet_Medium_Encoder(nn.Module):\n",
    "    def __init__(self):\n",
    "        super().__init__()\n",
    "        self.config = [[1, 24, 2, 1], [6, 40, 3, 2], [6, 64, 3, 2], [6, 120, 3, 2], [6, 160, 2, 1]]\n",
    "        self.stem = nn.Sequential(\n",
    "            nn.Conv2d(1, 24, 3, 2, 1, bias=False),\n",
    "            nn.BatchNorm2d(24),\n",
    "            nn.SiLU(inplace=True)\n",
    "        )\n",
    "        layers = []\n",
    "        in_channels = 24\n",
    "        for t, c, n, s in self.config:\n",
    "            for i in range(n):\n",
    "                stride = s if i == 0 else 1\n",
    "                layers.append(InvertedResidual(in_channels, c, stride, expansion=t))\n",
    "                in_channels = c\n",
    "            if c == 40:\n",
    "                layers.append(DynamicGraphAttention(in_channels, num_nodes=32, heads=8))\n",
    "        self.body = nn.Sequential(*layers)\n",
    "        self.head_conv = nn.Conv2d(160, 384, 1, bias=False)\n",
    "        self.aggregator = TemporalAttentionAggregator(384, num_heads=8)\n",
    "    \n",
    "    def forward(self, x):\n",
    "        if x.dim() == 3:\n",
    "            x = x.unsqueeze(1)\n",
    "        x = self.stem(x)\n",
    "        x = self.body(x)\n",
    "        x = self.head_conv(x)\n",
    "        x = self.aggregator(x)\n",
    "        return x\n",
    "\n",
    "class PestLarvaNet_Medium_Classifier(nn.Module):\n",
    "    def __init__(self, num_classes, pretrained_weights_path=None):\n",
    "        super().__init__()\n",
    "        self.encoder = PestLarvaNet_Medium_Encoder()\n",
    "        self.classifier = nn.Sequential(\n",
    "            nn.Linear(384, 192),\n",
    "            nn.SiLU(inplace=True),\n",
    "            nn.Dropout(0.4),\n",
    "            nn.Linear(192, num_classes)\n",
    "        )\n",
    "        if pretrained_weights_path:\n",
    "            print(f\"Loading pretrained weights from: {pretrained_weights_path}\")\n",
    "            checkpoint = torch.load(pretrained_weights_path, map_location=device, weights_only=True)\n",
    "            # Adjust the checkpoint loading to handle encoder weights\n",
    "            state_dict = {k.replace('encoder.', ''): v for k, v in checkpoint.items() if k.startswith('encoder.')}\n",
    "            self.encoder.load_state_dict(state_dict, strict=False)\n",
    "\n",
    "    def forward(self, x):\n",
    "        x = self.encoder(x)\n",
    "        return self.classifier(x)"
   ]
  },
  {
   "cell_type": "code",
   "execution_count": 37,
   "id": "80a172fc-8ebd-4c11-9c08-3c6cc6e29240",
   "metadata": {},
   "outputs": [],
   "source": [
    "class SpectrogramDataset(Dataset):\n",
    "    def __init__(self, metadata_df, data_dir, transform=None, target_tdim=216): # Cập nhật tdim nếu cần\n",
    "        super().__init__()\n",
    "        self.metadata = metadata_df\n",
    "        self.data_dir = data_dir\n",
    "        self.transform = transform\n",
    "        self.target_tdim = target_tdim\n",
    "        # Tạo ánh xạ từ tên lớp sang ID số nguyên\n",
    "        self.class_names = sorted(self.metadata['label'].unique())\n",
    "        self.class_to_id = {name: i for i, name in enumerate(self.class_names)}\n",
    "\n",
    "    def __len__(self):\n",
    "        return len(self.metadata)\n",
    "\n",
    "    def __getitem__(self, idx):\n",
    "        row = self.metadata.iloc[idx]\n",
    "        # THAY ĐỔI: Sử dụng cột 'tensor_path'\n",
    "        relative_path = row['tensor_path']\n",
    "        # THAY ĐỔI: Kết hợp thư mục gốc với đường dẫn tương đối\n",
    "        file_path = os.path.join(self.data_dir, relative_path)\n",
    "        label = self.class_to_id[row['label']]\n",
    "\n",
    "        try:\n",
    "            spectrogram = torch.load(file_path)\n",
    "            # Chuẩn hóa kích thước spectrogram\n",
    "            current_tdim = spectrogram.shape[2]\n",
    "            if current_tdim > self.target_tdim:\n",
    "                spectrogram = spectrogram[:, :, :self.target_tdim]\n",
    "            elif current_tdim < self.target_tdim:\n",
    "                spectrogram = F.pad(spectrogram, (0, self.target_tdim - current_tdim))\n",
    "\n",
    "            # Áp dụng augmentation nếu có\n",
    "            if self.transform:\n",
    "                spectrogram = self.transform(spectrogram)\n",
    "            return spectrogram, label\n",
    "        except Exception as e:\n",
    "            print(f\"Error loading or processing file {file_path}: {e}\")\n",
    "            return None\n",
    "\n",
    "def collate_fn_remove_none(batch):\n",
    "    batch = [item for item in batch if item is not None]\n",
    "    if not batch: return None, None\n",
    "    samples, labels = zip(*batch)\n",
    "    return torch.stack(samples), torch.tensor(labels)"
   ]
  },
  {
   "cell_type": "code",
   "execution_count": 38,
   "id": "aae71558-52b4-427f-9ef5-f53b5f95e436",
   "metadata": {},
   "outputs": [],
   "source": [
    "def train_and_evaluate(model, train_loader, val_loader, epochs, checkpoint_path, metrics_csv_path):\n",
    "    optimizer = torch.optim.AdamW(model.parameters(), lr=1e-3, weight_decay=1e-4)\n",
    "    criterion = nn.CrossEntropyLoss()\n",
    "    scheduler = torch.optim.lr_scheduler.ReduceLROnPlateau(optimizer, 'max', factor=0.5, patience=5, verbose=False)\n",
    "    # Dùng GradScaler mà không cần kiểm tra device.type\n",
    "    scaler = torch.cuda.amp.GradScaler(enabled=torch.cuda.is_available())\n",
    "    best_f1 = 0.0\n",
    "    \n",
    "    if not os.path.exists(metrics_csv_path):\n",
    "        pd.DataFrame(columns=['Epoch', 'Accuracy', 'Precision', 'Recall', 'F1-Score']).to_csv(metrics_csv_path, index=False)\n",
    "        \n",
    "    for epoch in range(epochs):\n",
    "        model.train()\n",
    "        # Bọc train_loader bằng tqdm để có thanh tiến trình\n",
    "        loop = tqdm(train_loader, desc=f\"Epoch {epoch+1}/{epochs}\", leave=False)\n",
    "        for inputs, labels in loop:\n",
    "            if inputs is None: continue\n",
    "            inputs, labels = inputs.to(device), labels.to(device)\n",
    "            optimizer.zero_grad(set_to_none=True) # Tối ưu hóa\n",
    "            \n",
    "            with torch.cuda.amp.autocast(enabled=torch.cuda.is_available()):\n",
    "                outputs = model(inputs)\n",
    "                loss = criterion(outputs, labels)\n",
    "            \n",
    "            scaler.scale(loss).backward()\n",
    "            scaler.step(optimizer)\n",
    "            scaler.update()\n",
    "            \n",
    "        model.eval()\n",
    "        val_preds, val_labels = [], []\n",
    "        with torch.no_grad():\n",
    "            for inputs, labels in val_loader:\n",
    "                if inputs is None: continue\n",
    "                inputs, labels = inputs.to(device), labels.to(device)\n",
    "                with torch.cuda.amp.autocast(enabled=torch.cuda.is_available()):\n",
    "                    outputs = model(inputs)\n",
    "                _, predicted = torch.max(outputs.data, 1)\n",
    "                val_preds.extend(predicted.cpu().numpy())\n",
    "                val_labels.extend(labels.cpu().numpy())\n",
    "                \n",
    "        if len(val_labels) > 0:\n",
    "            current_f1 = f1_score(val_labels, val_preds, average='weighted', zero_division=0)\n",
    "            if current_f1 > best_f1:\n",
    "                best_f1 = current_f1\n",
    "                current_accuracy = accuracy_score(val_labels, val_preds)\n",
    "                current_precision = precision_score(val_labels, val_preds, average='weighted', zero_division=0)\n",
    "                current_recall = recall_score(val_labels, val_preds, average='weighted', zero_division=0)\n",
    "                \n",
    "                print(f\"\\nEpoch {epoch+1}: New best F1-score: {best_f1:.4f}\")\n",
    "                print(f\"Accuracy: {current_accuracy:.4f}, Precision: {current_precision:.4f}, Recall: {current_recall:.4f}\")\n",
    "                print(f\"Saving checkpoint to {checkpoint_path}\")\n",
    "                torch.save(model.state_dict(), checkpoint_path)\n",
    "                \n",
    "                metrics_df = pd.DataFrame([{'Epoch': epoch + 1, 'Accuracy': current_accuracy, 'Precision': current_precision, 'Recall': current_recall, 'F1-Score': current_f1}])\n",
    "                metrics_df.to_csv(metrics_csv_path, mode='a', header=False, index=False)\n",
    "            scheduler.step(current_f1)\n",
    "            \n",
    "    print(f\"Finished Training for this run. Best F1-score: {best_f1:.4f}\")\n",
    "    # <<< SỬA LỖI: Chỉ trả về một giá trị float duy nhất >>>\n",
    "    return best_f1"
   ]
  },
  {
   "cell_type": "code",
   "execution_count": 39,
   "id": "20c72597-0fec-4509-880b-299587e923ab",
   "metadata": {},
   "outputs": [
    {
     "name": "stdout",
     "output_type": "stream",
     "text": [
      "Preparing dataset...\n",
      "Number of classes: 8\n",
      "Data split: 7316 train, 1830 test.\n"
     ]
    }
   ],
   "source": [
    "# --- CẬP NHẬT CÁC ĐƯỜNG DẪN NÀY ---\n",
    "ROOT_DIR = r'C:\\Users\\PC\\lavar\\audiotwin_checkpoints_medium'\n",
    "METADATA_PATH = os.path.join(ROOT_DIR, 'spectrogram_tensor_metadata.csv')\n",
    "CHECKPOINT_DIR = os.path.join(ROOT_DIR, 'training_checkpoints')\n",
    "CHECKPOINT_BASE = r'C:\\Users\\PC\\lavar\\audiotwin_checkpoints_medium'\n",
    "os.makedirs(CHECKPOINT_DIR, exist_ok=True)\n",
    "\n",
    "checkpoint_files = [\n",
    "    'run_1_lp1e-04_ep1e-06_lb0.001_audiotwin_pestlarvanet_medium_epoch_100.pth',\n",
    "    'run_2_lp5e-04_ep1e-06_lb0.003_audiotwin_pestlarvanet_medium_epoch_100.pth',\n",
    "    'run_3_lp1e-03_ep1e-06_lb0.005_audiotwin_pestlarvanet_medium_epoch_100.pth',\n",
    "    'run_4_lp5e-03_ep1e-06_lb0.007_audiotwin_pestlarvanet_medium_epoch_100.pth',\n",
    "    'run_5_lp1e-02_ep1e-06_lb0.010_audiotwin_pestlarvanet_medium_epoch_100.pth'\n",
    "]\n",
    "DATA_PERCENTAGES = [0.25, 0.5, 1.0]\n",
    "results = {}\n",
    "\n",
    "# 1. Tải và chuẩn bị dữ liệu (thực hiện một lần)\n",
    "print(\"Preparing dataset...\")\n",
    "full_metadata = pd.read_csv(METADATA_PATH)\n",
    "num_classes = len(full_metadata['label'].unique())\n",
    "print(f\"Number of classes: {num_classes}\")\n",
    "\n",
    "indices = np.arange(len(full_metadata))\n",
    "labels = full_metadata['label'].values\n",
    "train_indices, test_indices, _, _ = train_test_split(\n",
    "    indices, labels, test_size=0.2, random_state=SEED, stratify=labels\n",
    ")\n",
    "print(f\"Data split: {len(train_indices)} train, {len(test_indices)} test.\")\n",
    "\n",
    "# Tạo dataset test cố định\n",
    "test_metadata = full_metadata.iloc[test_indices]\n",
    "test_dataset = SpectrogramDataset(metadata_df=test_metadata, data_dir=ROOT_DIR, transform=val_transform)\n",
    "test_loader = DataLoader(test_dataset, batch_size=32, num_workers=0, collate_fn=collate_fn_remove_none)\n",
    "\n",
    "# 2. Xây dựng cấu hình mô hình\n",
    "model_configs = {\n",
    "    f\"PestLarvaNet (AudioTwin Run {i+1})\": {\n",
    "        \"model_class\": PestLarvaNet_Medium_Classifier,\n",
    "        \"args\": {\"num_classes\": num_classes, \"pretrained_weights_path\": os.path.join(CHECKPOINT_BASE, checkpoint_files[i])}\n",
    "    } for i in range(len(checkpoint_files))\n",
    "}"
   ]
  },
  {
   "cell_type": "code",
   "execution_count": 40,
   "id": "4a60fb97-99e7-4768-9472-94584a8194d5",
   "metadata": {},
   "outputs": [
    {
     "name": "stdout",
     "output_type": "stream",
     "text": [
      "\n",
      "==================== Evaluating: PestLarvaNet (AudioTwin Run 1) ====================\n",
      "--- Training with 25.0% of labeled data ---\n",
      "Loading pretrained weights from: C:\\Users\\PC\\lavar\\audiotwin_checkpoints_medium\\run_1_lp1e-04_ep1e-06_lb0.001_audiotwin_pestlarvanet_medium_epoch_100.pth\n"
     ]
    },
    {
     "name": "stderr",
     "output_type": "stream",
     "text": [
      "C:\\Users\\PC\\anaconda3\\envs\\train_env\\lib\\site-packages\\torch\\optim\\lr_scheduler.py:62: UserWarning: The verbose parameter is deprecated. Please use get_last_lr() to access the learning rate.\n",
      "  warnings.warn(\n"
     ]
    },
    {
     "data": {
      "application/vnd.jupyter.widget-view+json": {
       "model_id": "953a98fe8edd4b4ab08927ef43122a7c",
       "version_major": 2,
       "version_minor": 0
      },
      "text/plain": [
       "Epoch 1/50:   0%|          | 0/58 [00:00<?, ?it/s]"
      ]
     },
     "metadata": {},
     "output_type": "display_data"
    },
    {
     "name": "stdout",
     "output_type": "stream",
     "text": [
      "\n",
      "Epoch 1: New best F1-score: 0.3518\n",
      "Accuracy: 0.4858, Precision: 0.4682, Recall: 0.4858\n",
      "Saving checkpoint to C:\\Users\\PC\\lavar\\audiotwin_checkpoints_medium\\training_checkpoints\\PestLarvaNet_AudioTwin_Run_1_data_25.0percent.pth\n"
     ]
    },
    {
     "data": {
      "application/vnd.jupyter.widget-view+json": {
       "model_id": "3d762616df3c41a4a8fe9cb250cbb826",
       "version_major": 2,
       "version_minor": 0
      },
      "text/plain": [
       "Epoch 2/50:   0%|          | 0/58 [00:00<?, ?it/s]"
      ]
     },
     "metadata": {},
     "output_type": "display_data"
    },
    {
     "name": "stdout",
     "output_type": "stream",
     "text": [
      "\n",
      "Epoch 2: New best F1-score: 0.4838\n",
      "Accuracy: 0.5645, Precision: 0.5389, Recall: 0.5645\n",
      "Saving checkpoint to C:\\Users\\PC\\lavar\\audiotwin_checkpoints_medium\\training_checkpoints\\PestLarvaNet_AudioTwin_Run_1_data_25.0percent.pth\n"
     ]
    },
    {
     "data": {
      "application/vnd.jupyter.widget-view+json": {
       "model_id": "e8e9abc8f78741ca90e81d5602c1f4c7",
       "version_major": 2,
       "version_minor": 0
      },
      "text/plain": [
       "Epoch 3/50:   0%|          | 0/58 [00:00<?, ?it/s]"
      ]
     },
     "metadata": {},
     "output_type": "display_data"
    },
    {
     "name": "stdout",
     "output_type": "stream",
     "text": [
      "\n",
      "Epoch 3: New best F1-score: 0.5362\n",
      "Accuracy: 0.6126, Precision: 0.5496, Recall: 0.6126\n",
      "Saving checkpoint to C:\\Users\\PC\\lavar\\audiotwin_checkpoints_medium\\training_checkpoints\\PestLarvaNet_AudioTwin_Run_1_data_25.0percent.pth\n"
     ]
    },
    {
     "data": {
      "application/vnd.jupyter.widget-view+json": {
       "model_id": "4ab598c5dc9e4dcf827d7901dee53e85",
       "version_major": 2,
       "version_minor": 0
      },
      "text/plain": [
       "Epoch 4/50:   0%|          | 0/58 [00:00<?, ?it/s]"
      ]
     },
     "metadata": {},
     "output_type": "display_data"
    },
    {
     "data": {
      "application/vnd.jupyter.widget-view+json": {
       "model_id": "cabf92da6695479f87132ab3c60401ae",
       "version_major": 2,
       "version_minor": 0
      },
      "text/plain": [
       "Epoch 5/50:   0%|          | 0/58 [00:00<?, ?it/s]"
      ]
     },
     "metadata": {},
     "output_type": "display_data"
    },
    {
     "name": "stdout",
     "output_type": "stream",
     "text": [
      "\n",
      "Epoch 5: New best F1-score: 0.5846\n",
      "Accuracy: 0.6372, Precision: 0.6206, Recall: 0.6372\n",
      "Saving checkpoint to C:\\Users\\PC\\lavar\\audiotwin_checkpoints_medium\\training_checkpoints\\PestLarvaNet_AudioTwin_Run_1_data_25.0percent.pth\n"
     ]
    },
    {
     "data": {
      "application/vnd.jupyter.widget-view+json": {
       "model_id": "afa1c131477c4eaf9e3bea341f43ba9e",
       "version_major": 2,
       "version_minor": 0
      },
      "text/plain": [
       "Epoch 6/50:   0%|          | 0/58 [00:00<?, ?it/s]"
      ]
     },
     "metadata": {},
     "output_type": "display_data"
    },
    {
     "name": "stdout",
     "output_type": "stream",
     "text": [
      "\n",
      "Epoch 6: New best F1-score: 0.6096\n",
      "Accuracy: 0.6694, Precision: 0.6363, Recall: 0.6694\n",
      "Saving checkpoint to C:\\Users\\PC\\lavar\\audiotwin_checkpoints_medium\\training_checkpoints\\PestLarvaNet_AudioTwin_Run_1_data_25.0percent.pth\n"
     ]
    },
    {
     "data": {
      "application/vnd.jupyter.widget-view+json": {
       "model_id": "8807ef17be9a49629b7965db5a5c30fe",
       "version_major": 2,
       "version_minor": 0
      },
      "text/plain": [
       "Epoch 7/50:   0%|          | 0/58 [00:00<?, ?it/s]"
      ]
     },
     "metadata": {},
     "output_type": "display_data"
    },
    {
     "data": {
      "application/vnd.jupyter.widget-view+json": {
       "model_id": "6e307fed95e14494b27cddbf1664529e",
       "version_major": 2,
       "version_minor": 0
      },
      "text/plain": [
       "Epoch 8/50:   0%|          | 0/58 [00:00<?, ?it/s]"
      ]
     },
     "metadata": {},
     "output_type": "display_data"
    },
    {
     "name": "stdout",
     "output_type": "stream",
     "text": [
      "\n",
      "Epoch 8: New best F1-score: 0.6374\n",
      "Accuracy: 0.6710, Precision: 0.6529, Recall: 0.6710\n",
      "Saving checkpoint to C:\\Users\\PC\\lavar\\audiotwin_checkpoints_medium\\training_checkpoints\\PestLarvaNet_AudioTwin_Run_1_data_25.0percent.pth\n"
     ]
    },
    {
     "data": {
      "application/vnd.jupyter.widget-view+json": {
       "model_id": "434ec76e3a844a21ba38ac7012aefaac",
       "version_major": 2,
       "version_minor": 0
      },
      "text/plain": [
       "Epoch 9/50:   0%|          | 0/58 [00:00<?, ?it/s]"
      ]
     },
     "metadata": {},
     "output_type": "display_data"
    },
    {
     "data": {
      "application/vnd.jupyter.widget-view+json": {
       "model_id": "bd5bd4e0ce0e4691815281ba5109f989",
       "version_major": 2,
       "version_minor": 0
      },
      "text/plain": [
       "Epoch 10/50:   0%|          | 0/58 [00:00<?, ?it/s]"
      ]
     },
     "metadata": {},
     "output_type": "display_data"
    },
    {
     "data": {
      "application/vnd.jupyter.widget-view+json": {
       "model_id": "66558cafe17c4d03be44438e549fa885",
       "version_major": 2,
       "version_minor": 0
      },
      "text/plain": [
       "Epoch 11/50:   0%|          | 0/58 [00:00<?, ?it/s]"
      ]
     },
     "metadata": {},
     "output_type": "display_data"
    },
    {
     "data": {
      "application/vnd.jupyter.widget-view+json": {
       "model_id": "5ff3c19e278c4f8fb0361c03917a6164",
       "version_major": 2,
       "version_minor": 0
      },
      "text/plain": [
       "Epoch 12/50:   0%|          | 0/58 [00:00<?, ?it/s]"
      ]
     },
     "metadata": {},
     "output_type": "display_data"
    },
    {
     "data": {
      "application/vnd.jupyter.widget-view+json": {
       "model_id": "65f792bdb1024a0482ba4dc2690178ce",
       "version_major": 2,
       "version_minor": 0
      },
      "text/plain": [
       "Epoch 13/50:   0%|          | 0/58 [00:00<?, ?it/s]"
      ]
     },
     "metadata": {},
     "output_type": "display_data"
    },
    {
     "data": {
      "application/vnd.jupyter.widget-view+json": {
       "model_id": "9c9487afce9a4d64bc1a3b78ed03565d",
       "version_major": 2,
       "version_minor": 0
      },
      "text/plain": [
       "Epoch 14/50:   0%|          | 0/58 [00:00<?, ?it/s]"
      ]
     },
     "metadata": {},
     "output_type": "display_data"
    },
    {
     "data": {
      "application/vnd.jupyter.widget-view+json": {
       "model_id": "e3b5e3c1db14454d890371aad32ff1a8",
       "version_major": 2,
       "version_minor": 0
      },
      "text/plain": [
       "Epoch 15/50:   0%|          | 0/58 [00:00<?, ?it/s]"
      ]
     },
     "metadata": {},
     "output_type": "display_data"
    },
    {
     "data": {
      "application/vnd.jupyter.widget-view+json": {
       "model_id": "2f96f5bce9414be4a710c0a91c0c7912",
       "version_major": 2,
       "version_minor": 0
      },
      "text/plain": [
       "Epoch 16/50:   0%|          | 0/58 [00:00<?, ?it/s]"
      ]
     },
     "metadata": {},
     "output_type": "display_data"
    },
    {
     "data": {
      "application/vnd.jupyter.widget-view+json": {
       "model_id": "396351c1c08c462c8a9e3325f7d0c03f",
       "version_major": 2,
       "version_minor": 0
      },
      "text/plain": [
       "Epoch 17/50:   0%|          | 0/58 [00:00<?, ?it/s]"
      ]
     },
     "metadata": {},
     "output_type": "display_data"
    },
    {
     "data": {
      "application/vnd.jupyter.widget-view+json": {
       "model_id": "6ce4d38210c4478bb950b242c5f94909",
       "version_major": 2,
       "version_minor": 0
      },
      "text/plain": [
       "Epoch 18/50:   0%|          | 0/58 [00:00<?, ?it/s]"
      ]
     },
     "metadata": {},
     "output_type": "display_data"
    },
    {
     "name": "stdout",
     "output_type": "stream",
     "text": [
      "\n",
      "Epoch 18: New best F1-score: 0.6717\n",
      "Accuracy: 0.7060, Precision: 0.7263, Recall: 0.7060\n",
      "Saving checkpoint to C:\\Users\\PC\\lavar\\audiotwin_checkpoints_medium\\training_checkpoints\\PestLarvaNet_AudioTwin_Run_1_data_25.0percent.pth\n"
     ]
    },
    {
     "data": {
      "application/vnd.jupyter.widget-view+json": {
       "model_id": "d58305cc9738415d8c55660388bfb79e",
       "version_major": 2,
       "version_minor": 0
      },
      "text/plain": [
       "Epoch 19/50:   0%|          | 0/58 [00:00<?, ?it/s]"
      ]
     },
     "metadata": {},
     "output_type": "display_data"
    },
    {
     "name": "stdout",
     "output_type": "stream",
     "text": [
      "\n",
      "Epoch 19: New best F1-score: 0.7168\n",
      "Accuracy: 0.7284, Precision: 0.7104, Recall: 0.7284\n",
      "Saving checkpoint to C:\\Users\\PC\\lavar\\audiotwin_checkpoints_medium\\training_checkpoints\\PestLarvaNet_AudioTwin_Run_1_data_25.0percent.pth\n"
     ]
    },
    {
     "data": {
      "application/vnd.jupyter.widget-view+json": {
       "model_id": "7c816f04292645888adf08d591762f9f",
       "version_major": 2,
       "version_minor": 0
      },
      "text/plain": [
       "Epoch 20/50:   0%|          | 0/58 [00:00<?, ?it/s]"
      ]
     },
     "metadata": {},
     "output_type": "display_data"
    },
    {
     "data": {
      "application/vnd.jupyter.widget-view+json": {
       "model_id": "b038bbda0472441ebf6cf6255ce12b58",
       "version_major": 2,
       "version_minor": 0
      },
      "text/plain": [
       "Epoch 21/50:   0%|          | 0/58 [00:00<?, ?it/s]"
      ]
     },
     "metadata": {},
     "output_type": "display_data"
    },
    {
     "data": {
      "application/vnd.jupyter.widget-view+json": {
       "model_id": "8ec76fd3cacc4b44afb87f7734150583",
       "version_major": 2,
       "version_minor": 0
      },
      "text/plain": [
       "Epoch 22/50:   0%|          | 0/58 [00:00<?, ?it/s]"
      ]
     },
     "metadata": {},
     "output_type": "display_data"
    },
    {
     "name": "stdout",
     "output_type": "stream",
     "text": [
      "\n",
      "Epoch 22: New best F1-score: 0.7368\n",
      "Accuracy: 0.7503, Precision: 0.7311, Recall: 0.7503\n",
      "Saving checkpoint to C:\\Users\\PC\\lavar\\audiotwin_checkpoints_medium\\training_checkpoints\\PestLarvaNet_AudioTwin_Run_1_data_25.0percent.pth\n"
     ]
    },
    {
     "data": {
      "application/vnd.jupyter.widget-view+json": {
       "model_id": "4987343b9e1f4402b8500b0f82284ff9",
       "version_major": 2,
       "version_minor": 0
      },
      "text/plain": [
       "Epoch 23/50:   0%|          | 0/58 [00:00<?, ?it/s]"
      ]
     },
     "metadata": {},
     "output_type": "display_data"
    },
    {
     "data": {
      "application/vnd.jupyter.widget-view+json": {
       "model_id": "7275e8798c464143a46a1eda6fa09b80",
       "version_major": 2,
       "version_minor": 0
      },
      "text/plain": [
       "Epoch 24/50:   0%|          | 0/58 [00:00<?, ?it/s]"
      ]
     },
     "metadata": {},
     "output_type": "display_data"
    },
    {
     "data": {
      "application/vnd.jupyter.widget-view+json": {
       "model_id": "34da32af1ff24ab5a38bc4039839df6a",
       "version_major": 2,
       "version_minor": 0
      },
      "text/plain": [
       "Epoch 25/50:   0%|          | 0/58 [00:00<?, ?it/s]"
      ]
     },
     "metadata": {},
     "output_type": "display_data"
    },
    {
     "data": {
      "application/vnd.jupyter.widget-view+json": {
       "model_id": "e886531802c047179c396bbe6744c2de",
       "version_major": 2,
       "version_minor": 0
      },
      "text/plain": [
       "Epoch 26/50:   0%|          | 0/58 [00:00<?, ?it/s]"
      ]
     },
     "metadata": {},
     "output_type": "display_data"
    },
    {
     "name": "stdout",
     "output_type": "stream",
     "text": [
      "\n",
      "Epoch 26: New best F1-score: 0.7635\n",
      "Accuracy: 0.7743, Precision: 0.7767, Recall: 0.7743\n",
      "Saving checkpoint to C:\\Users\\PC\\lavar\\audiotwin_checkpoints_medium\\training_checkpoints\\PestLarvaNet_AudioTwin_Run_1_data_25.0percent.pth\n"
     ]
    },
    {
     "data": {
      "application/vnd.jupyter.widget-view+json": {
       "model_id": "7f9d08340f6b41d7aa8672766d6ca55b",
       "version_major": 2,
       "version_minor": 0
      },
      "text/plain": [
       "Epoch 27/50:   0%|          | 0/58 [00:00<?, ?it/s]"
      ]
     },
     "metadata": {},
     "output_type": "display_data"
    },
    {
     "data": {
      "application/vnd.jupyter.widget-view+json": {
       "model_id": "3b9ee4a6b38247ada4a0af754c88e54d",
       "version_major": 2,
       "version_minor": 0
      },
      "text/plain": [
       "Epoch 28/50:   0%|          | 0/58 [00:00<?, ?it/s]"
      ]
     },
     "metadata": {},
     "output_type": "display_data"
    },
    {
     "data": {
      "application/vnd.jupyter.widget-view+json": {
       "model_id": "63fe8f15c2f64de8b7478bea34dd7a15",
       "version_major": 2,
       "version_minor": 0
      },
      "text/plain": [
       "Epoch 29/50:   0%|          | 0/58 [00:00<?, ?it/s]"
      ]
     },
     "metadata": {},
     "output_type": "display_data"
    },
    {
     "data": {
      "application/vnd.jupyter.widget-view+json": {
       "model_id": "af3223ac2d244da595c877ddb6e03967",
       "version_major": 2,
       "version_minor": 0
      },
      "text/plain": [
       "Epoch 30/50:   0%|          | 0/58 [00:00<?, ?it/s]"
      ]
     },
     "metadata": {},
     "output_type": "display_data"
    },
    {
     "data": {
      "application/vnd.jupyter.widget-view+json": {
       "model_id": "616dbcd46e1549edaac95e65f33de850",
       "version_major": 2,
       "version_minor": 0
      },
      "text/plain": [
       "Epoch 31/50:   0%|          | 0/58 [00:00<?, ?it/s]"
      ]
     },
     "metadata": {},
     "output_type": "display_data"
    },
    {
     "data": {
      "application/vnd.jupyter.widget-view+json": {
       "model_id": "da3d3e2f3306464a8455dd8048c3b7c2",
       "version_major": 2,
       "version_minor": 0
      },
      "text/plain": [
       "Epoch 32/50:   0%|          | 0/58 [00:00<?, ?it/s]"
      ]
     },
     "metadata": {},
     "output_type": "display_data"
    },
    {
     "name": "stdout",
     "output_type": "stream",
     "text": [
      "\n",
      "Epoch 32: New best F1-score: 0.7808\n",
      "Accuracy: 0.7825, Precision: 0.7924, Recall: 0.7825\n",
      "Saving checkpoint to C:\\Users\\PC\\lavar\\audiotwin_checkpoints_medium\\training_checkpoints\\PestLarvaNet_AudioTwin_Run_1_data_25.0percent.pth\n"
     ]
    },
    {
     "data": {
      "application/vnd.jupyter.widget-view+json": {
       "model_id": "bdfddfeddd8c450d84e9cf7b1c8e1bc7",
       "version_major": 2,
       "version_minor": 0
      },
      "text/plain": [
       "Epoch 33/50:   0%|          | 0/58 [00:00<?, ?it/s]"
      ]
     },
     "metadata": {},
     "output_type": "display_data"
    },
    {
     "data": {
      "application/vnd.jupyter.widget-view+json": {
       "model_id": "e9ae2009c73b4c24ab9fa4efbafa043e",
       "version_major": 2,
       "version_minor": 0
      },
      "text/plain": [
       "Epoch 34/50:   0%|          | 0/58 [00:00<?, ?it/s]"
      ]
     },
     "metadata": {},
     "output_type": "display_data"
    },
    {
     "name": "stdout",
     "output_type": "stream",
     "text": [
      "\n",
      "Epoch 34: New best F1-score: 0.7880\n",
      "Accuracy: 0.7885, Precision: 0.7954, Recall: 0.7885\n",
      "Saving checkpoint to C:\\Users\\PC\\lavar\\audiotwin_checkpoints_medium\\training_checkpoints\\PestLarvaNet_AudioTwin_Run_1_data_25.0percent.pth\n"
     ]
    },
    {
     "data": {
      "application/vnd.jupyter.widget-view+json": {
       "model_id": "d3b96d7b0477475eada66371a4d9bc5d",
       "version_major": 2,
       "version_minor": 0
      },
      "text/plain": [
       "Epoch 35/50:   0%|          | 0/58 [00:00<?, ?it/s]"
      ]
     },
     "metadata": {},
     "output_type": "display_data"
    },
    {
     "data": {
      "application/vnd.jupyter.widget-view+json": {
       "model_id": "0dc316a2fce54dfaabd84126e0ab87c1",
       "version_major": 2,
       "version_minor": 0
      },
      "text/plain": [
       "Epoch 36/50:   0%|          | 0/58 [00:00<?, ?it/s]"
      ]
     },
     "metadata": {},
     "output_type": "display_data"
    },
    {
     "data": {
      "application/vnd.jupyter.widget-view+json": {
       "model_id": "e002b1d28a854f268f9a5b8a05890907",
       "version_major": 2,
       "version_minor": 0
      },
      "text/plain": [
       "Epoch 37/50:   0%|          | 0/58 [00:00<?, ?it/s]"
      ]
     },
     "metadata": {},
     "output_type": "display_data"
    },
    {
     "name": "stdout",
     "output_type": "stream",
     "text": [
      "\n",
      "Epoch 37: New best F1-score: 0.8093\n",
      "Accuracy: 0.8104, Precision: 0.8095, Recall: 0.8104\n",
      "Saving checkpoint to C:\\Users\\PC\\lavar\\audiotwin_checkpoints_medium\\training_checkpoints\\PestLarvaNet_AudioTwin_Run_1_data_25.0percent.pth\n"
     ]
    },
    {
     "data": {
      "application/vnd.jupyter.widget-view+json": {
       "model_id": "914ddb0e01914d77aa8001c7c4192d0c",
       "version_major": 2,
       "version_minor": 0
      },
      "text/plain": [
       "Epoch 38/50:   0%|          | 0/58 [00:00<?, ?it/s]"
      ]
     },
     "metadata": {},
     "output_type": "display_data"
    },
    {
     "data": {
      "application/vnd.jupyter.widget-view+json": {
       "model_id": "99bb7957244a4f189e27c384ed9e2ef9",
       "version_major": 2,
       "version_minor": 0
      },
      "text/plain": [
       "Epoch 39/50:   0%|          | 0/58 [00:00<?, ?it/s]"
      ]
     },
     "metadata": {},
     "output_type": "display_data"
    },
    {
     "data": {
      "application/vnd.jupyter.widget-view+json": {
       "model_id": "67d9dcfbf31c4317b4c46d1bafccc713",
       "version_major": 2,
       "version_minor": 0
      },
      "text/plain": [
       "Epoch 40/50:   0%|          | 0/58 [00:00<?, ?it/s]"
      ]
     },
     "metadata": {},
     "output_type": "display_data"
    },
    {
     "name": "stdout",
     "output_type": "stream",
     "text": [
      "\n",
      "Epoch 40: New best F1-score: 0.8171\n",
      "Accuracy: 0.8197, Precision: 0.8280, Recall: 0.8197\n",
      "Saving checkpoint to C:\\Users\\PC\\lavar\\audiotwin_checkpoints_medium\\training_checkpoints\\PestLarvaNet_AudioTwin_Run_1_data_25.0percent.pth\n"
     ]
    },
    {
     "data": {
      "application/vnd.jupyter.widget-view+json": {
       "model_id": "eb845f83152b42e4bdef6d39db5f28fe",
       "version_major": 2,
       "version_minor": 0
      },
      "text/plain": [
       "Epoch 41/50:   0%|          | 0/58 [00:00<?, ?it/s]"
      ]
     },
     "metadata": {},
     "output_type": "display_data"
    },
    {
     "data": {
      "application/vnd.jupyter.widget-view+json": {
       "model_id": "f6845a915738441fb5285f05711e349c",
       "version_major": 2,
       "version_minor": 0
      },
      "text/plain": [
       "Epoch 42/50:   0%|          | 0/58 [00:00<?, ?it/s]"
      ]
     },
     "metadata": {},
     "output_type": "display_data"
    },
    {
     "name": "stdout",
     "output_type": "stream",
     "text": [
      "\n",
      "Epoch 42: New best F1-score: 0.8234\n",
      "Accuracy: 0.8251, Precision: 0.8366, Recall: 0.8251\n",
      "Saving checkpoint to C:\\Users\\PC\\lavar\\audiotwin_checkpoints_medium\\training_checkpoints\\PestLarvaNet_AudioTwin_Run_1_data_25.0percent.pth\n"
     ]
    },
    {
     "data": {
      "application/vnd.jupyter.widget-view+json": {
       "model_id": "a8c42a3975934cd491d688837f00e4a0",
       "version_major": 2,
       "version_minor": 0
      },
      "text/plain": [
       "Epoch 43/50:   0%|          | 0/58 [00:00<?, ?it/s]"
      ]
     },
     "metadata": {},
     "output_type": "display_data"
    },
    {
     "data": {
      "application/vnd.jupyter.widget-view+json": {
       "model_id": "ce59f5a7e8464cd784bf0f29438a6043",
       "version_major": 2,
       "version_minor": 0
      },
      "text/plain": [
       "Epoch 44/50:   0%|          | 0/58 [00:00<?, ?it/s]"
      ]
     },
     "metadata": {},
     "output_type": "display_data"
    },
    {
     "data": {
      "application/vnd.jupyter.widget-view+json": {
       "model_id": "db28e1077ab44fc6a8a4a14d34de847e",
       "version_major": 2,
       "version_minor": 0
      },
      "text/plain": [
       "Epoch 45/50:   0%|          | 0/58 [00:00<?, ?it/s]"
      ]
     },
     "metadata": {},
     "output_type": "display_data"
    },
    {
     "name": "stdout",
     "output_type": "stream",
     "text": [
      "\n",
      "Epoch 45: New best F1-score: 0.8251\n",
      "Accuracy: 0.8268, Precision: 0.8349, Recall: 0.8268\n",
      "Saving checkpoint to C:\\Users\\PC\\lavar\\audiotwin_checkpoints_medium\\training_checkpoints\\PestLarvaNet_AudioTwin_Run_1_data_25.0percent.pth\n"
     ]
    },
    {
     "data": {
      "application/vnd.jupyter.widget-view+json": {
       "model_id": "bdd07ea8b2be4e0fac4dad8cec4948dc",
       "version_major": 2,
       "version_minor": 0
      },
      "text/plain": [
       "Epoch 46/50:   0%|          | 0/58 [00:00<?, ?it/s]"
      ]
     },
     "metadata": {},
     "output_type": "display_data"
    },
    {
     "data": {
      "application/vnd.jupyter.widget-view+json": {
       "model_id": "e4168e1e59ff46a4a565a8307b7cc248",
       "version_major": 2,
       "version_minor": 0
      },
      "text/plain": [
       "Epoch 47/50:   0%|          | 0/58 [00:00<?, ?it/s]"
      ]
     },
     "metadata": {},
     "output_type": "display_data"
    },
    {
     "data": {
      "application/vnd.jupyter.widget-view+json": {
       "model_id": "29cf2e3986d74974afe6ca168a3d1513",
       "version_major": 2,
       "version_minor": 0
      },
      "text/plain": [
       "Epoch 48/50:   0%|          | 0/58 [00:00<?, ?it/s]"
      ]
     },
     "metadata": {},
     "output_type": "display_data"
    },
    {
     "name": "stdout",
     "output_type": "stream",
     "text": [
      "\n",
      "Epoch 48: New best F1-score: 0.8495\n",
      "Accuracy: 0.8497, Precision: 0.8552, Recall: 0.8497\n",
      "Saving checkpoint to C:\\Users\\PC\\lavar\\audiotwin_checkpoints_medium\\training_checkpoints\\PestLarvaNet_AudioTwin_Run_1_data_25.0percent.pth\n"
     ]
    },
    {
     "data": {
      "application/vnd.jupyter.widget-view+json": {
       "model_id": "c0dd95afa76e43cd94321e5a5a891f2f",
       "version_major": 2,
       "version_minor": 0
      },
      "text/plain": [
       "Epoch 49/50:   0%|          | 0/58 [00:00<?, ?it/s]"
      ]
     },
     "metadata": {},
     "output_type": "display_data"
    },
    {
     "data": {
      "application/vnd.jupyter.widget-view+json": {
       "model_id": "43117fa4dc2846fbbb378ce7f300a280",
       "version_major": 2,
       "version_minor": 0
      },
      "text/plain": [
       "Epoch 50/50:   0%|          | 0/58 [00:00<?, ?it/s]"
      ]
     },
     "metadata": {},
     "output_type": "display_data"
    },
    {
     "name": "stdout",
     "output_type": "stream",
     "text": [
      "Finished Training for this run. Best F1-score: 0.8495\n",
      "==> Results with 25.0% data: Best F1-Score = 0.8495\n",
      "--- Training with 50.0% of labeled data ---\n",
      "Loading pretrained weights from: C:\\Users\\PC\\lavar\\audiotwin_checkpoints_medium\\run_1_lp1e-04_ep1e-06_lb0.001_audiotwin_pestlarvanet_medium_epoch_100.pth\n"
     ]
    },
    {
     "name": "stderr",
     "output_type": "stream",
     "text": [
      "C:\\Users\\PC\\anaconda3\\envs\\train_env\\lib\\site-packages\\torch\\optim\\lr_scheduler.py:62: UserWarning: The verbose parameter is deprecated. Please use get_last_lr() to access the learning rate.\n",
      "  warnings.warn(\n"
     ]
    },
    {
     "data": {
      "application/vnd.jupyter.widget-view+json": {
       "model_id": "3138a04d82414214a23759b60cf1085c",
       "version_major": 2,
       "version_minor": 0
      },
      "text/plain": [
       "Epoch 1/50:   0%|          | 0/115 [00:00<?, ?it/s]"
      ]
     },
     "metadata": {},
     "output_type": "display_data"
    },
    {
     "name": "stdout",
     "output_type": "stream",
     "text": [
      "\n",
      "Epoch 1: New best F1-score: 0.5447\n",
      "Accuracy: 0.6022, Precision: 0.5341, Recall: 0.6022\n",
      "Saving checkpoint to C:\\Users\\PC\\lavar\\audiotwin_checkpoints_medium\\training_checkpoints\\PestLarvaNet_AudioTwin_Run_1_data_50.0percent.pth\n"
     ]
    },
    {
     "data": {
      "application/vnd.jupyter.widget-view+json": {
       "model_id": "9313560cd65d48dba390048098ebcb6a",
       "version_major": 2,
       "version_minor": 0
      },
      "text/plain": [
       "Epoch 2/50:   0%|          | 0/115 [00:00<?, ?it/s]"
      ]
     },
     "metadata": {},
     "output_type": "display_data"
    },
    {
     "data": {
      "application/vnd.jupyter.widget-view+json": {
       "model_id": "3cebed23e389418fb2ea7c3bb4593c2e",
       "version_major": 2,
       "version_minor": 0
      },
      "text/plain": [
       "Epoch 3/50:   0%|          | 0/115 [00:00<?, ?it/s]"
      ]
     },
     "metadata": {},
     "output_type": "display_data"
    },
    {
     "name": "stdout",
     "output_type": "stream",
     "text": [
      "\n",
      "Epoch 3: New best F1-score: 0.5623\n",
      "Accuracy: 0.6344, Precision: 0.6234, Recall: 0.6344\n",
      "Saving checkpoint to C:\\Users\\PC\\lavar\\audiotwin_checkpoints_medium\\training_checkpoints\\PestLarvaNet_AudioTwin_Run_1_data_50.0percent.pth\n"
     ]
    },
    {
     "data": {
      "application/vnd.jupyter.widget-view+json": {
       "model_id": "a6cfca00e61e4ab0befda9b77f8ed2f2",
       "version_major": 2,
       "version_minor": 0
      },
      "text/plain": [
       "Epoch 4/50:   0%|          | 0/115 [00:00<?, ?it/s]"
      ]
     },
     "metadata": {},
     "output_type": "display_data"
    },
    {
     "name": "stdout",
     "output_type": "stream",
     "text": [
      "\n",
      "Epoch 4: New best F1-score: 0.5762\n",
      "Accuracy: 0.6508, Precision: 0.5843, Recall: 0.6508\n",
      "Saving checkpoint to C:\\Users\\PC\\lavar\\audiotwin_checkpoints_medium\\training_checkpoints\\PestLarvaNet_AudioTwin_Run_1_data_50.0percent.pth\n"
     ]
    },
    {
     "data": {
      "application/vnd.jupyter.widget-view+json": {
       "model_id": "1159c1b0a8094f76b21a9a29daa298d3",
       "version_major": 2,
       "version_minor": 0
      },
      "text/plain": [
       "Epoch 5/50:   0%|          | 0/115 [00:00<?, ?it/s]"
      ]
     },
     "metadata": {},
     "output_type": "display_data"
    },
    {
     "data": {
      "application/vnd.jupyter.widget-view+json": {
       "model_id": "2190ac10a9234e6ba84a05e7a833b67a",
       "version_major": 2,
       "version_minor": 0
      },
      "text/plain": [
       "Epoch 6/50:   0%|          | 0/115 [00:00<?, ?it/s]"
      ]
     },
     "metadata": {},
     "output_type": "display_data"
    },
    {
     "name": "stdout",
     "output_type": "stream",
     "text": [
      "\n",
      "Epoch 6: New best F1-score: 0.6066\n",
      "Accuracy: 0.6650, Precision: 0.6252, Recall: 0.6650\n",
      "Saving checkpoint to C:\\Users\\PC\\lavar\\audiotwin_checkpoints_medium\\training_checkpoints\\PestLarvaNet_AudioTwin_Run_1_data_50.0percent.pth\n"
     ]
    },
    {
     "data": {
      "application/vnd.jupyter.widget-view+json": {
       "model_id": "e7cd23cd2148466384ed7a065ba24b32",
       "version_major": 2,
       "version_minor": 0
      },
      "text/plain": [
       "Epoch 7/50:   0%|          | 0/115 [00:00<?, ?it/s]"
      ]
     },
     "metadata": {},
     "output_type": "display_data"
    },
    {
     "name": "stdout",
     "output_type": "stream",
     "text": [
      "\n",
      "Epoch 7: New best F1-score: 0.6171\n",
      "Accuracy: 0.6623, Precision: 0.6506, Recall: 0.6623\n",
      "Saving checkpoint to C:\\Users\\PC\\lavar\\audiotwin_checkpoints_medium\\training_checkpoints\\PestLarvaNet_AudioTwin_Run_1_data_50.0percent.pth\n"
     ]
    },
    {
     "data": {
      "application/vnd.jupyter.widget-view+json": {
       "model_id": "8b84ae326a554b26b5a4046338141c46",
       "version_major": 2,
       "version_minor": 0
      },
      "text/plain": [
       "Epoch 8/50:   0%|          | 0/115 [00:00<?, ?it/s]"
      ]
     },
     "metadata": {},
     "output_type": "display_data"
    },
    {
     "data": {
      "application/vnd.jupyter.widget-view+json": {
       "model_id": "14ba659bb9ad473d80caa46c2c50d67e",
       "version_major": 2,
       "version_minor": 0
      },
      "text/plain": [
       "Epoch 9/50:   0%|          | 0/115 [00:00<?, ?it/s]"
      ]
     },
     "metadata": {},
     "output_type": "display_data"
    },
    {
     "data": {
      "application/vnd.jupyter.widget-view+json": {
       "model_id": "111f5221e3984b5982ac5c6e46defe89",
       "version_major": 2,
       "version_minor": 0
      },
      "text/plain": [
       "Epoch 10/50:   0%|          | 0/115 [00:00<?, ?it/s]"
      ]
     },
     "metadata": {},
     "output_type": "display_data"
    },
    {
     "data": {
      "application/vnd.jupyter.widget-view+json": {
       "model_id": "e87ecc8fbd1142bf877622ceace9c456",
       "version_major": 2,
       "version_minor": 0
      },
      "text/plain": [
       "Epoch 11/50:   0%|          | 0/115 [00:00<?, ?it/s]"
      ]
     },
     "metadata": {},
     "output_type": "display_data"
    },
    {
     "data": {
      "application/vnd.jupyter.widget-view+json": {
       "model_id": "5e3cc6d8282b4518bc904b9aea304975",
       "version_major": 2,
       "version_minor": 0
      },
      "text/plain": [
       "Epoch 12/50:   0%|          | 0/115 [00:00<?, ?it/s]"
      ]
     },
     "metadata": {},
     "output_type": "display_data"
    },
    {
     "data": {
      "application/vnd.jupyter.widget-view+json": {
       "model_id": "3edb89d4679b488b8e1a7087e634a6ac",
       "version_major": 2,
       "version_minor": 0
      },
      "text/plain": [
       "Epoch 13/50:   0%|          | 0/115 [00:00<?, ?it/s]"
      ]
     },
     "metadata": {},
     "output_type": "display_data"
    },
    {
     "data": {
      "application/vnd.jupyter.widget-view+json": {
       "model_id": "c0f96ed9debb4ff3953c28ff59b9762d",
       "version_major": 2,
       "version_minor": 0
      },
      "text/plain": [
       "Epoch 14/50:   0%|          | 0/115 [00:00<?, ?it/s]"
      ]
     },
     "metadata": {},
     "output_type": "display_data"
    },
    {
     "name": "stdout",
     "output_type": "stream",
     "text": [
      "\n",
      "Epoch 14: New best F1-score: 0.6717\n",
      "Accuracy: 0.6934, Precision: 0.6813, Recall: 0.6934\n",
      "Saving checkpoint to C:\\Users\\PC\\lavar\\audiotwin_checkpoints_medium\\training_checkpoints\\PestLarvaNet_AudioTwin_Run_1_data_50.0percent.pth\n"
     ]
    },
    {
     "data": {
      "application/vnd.jupyter.widget-view+json": {
       "model_id": "44b1ea0485a2423b869fb9090faab8ae",
       "version_major": 2,
       "version_minor": 0
      },
      "text/plain": [
       "Epoch 15/50:   0%|          | 0/115 [00:00<?, ?it/s]"
      ]
     },
     "metadata": {},
     "output_type": "display_data"
    },
    {
     "data": {
      "application/vnd.jupyter.widget-view+json": {
       "model_id": "4d59cee8003242f2ac31b31fff9ad2aa",
       "version_major": 2,
       "version_minor": 0
      },
      "text/plain": [
       "Epoch 16/50:   0%|          | 0/115 [00:00<?, ?it/s]"
      ]
     },
     "metadata": {},
     "output_type": "display_data"
    },
    {
     "data": {
      "application/vnd.jupyter.widget-view+json": {
       "model_id": "1ca09f06bf094ef5816fc94aecc86326",
       "version_major": 2,
       "version_minor": 0
      },
      "text/plain": [
       "Epoch 17/50:   0%|          | 0/115 [00:00<?, ?it/s]"
      ]
     },
     "metadata": {},
     "output_type": "display_data"
    },
    {
     "data": {
      "application/vnd.jupyter.widget-view+json": {
       "model_id": "1a91ec66d8d64becb67d41a8fc13bb3f",
       "version_major": 2,
       "version_minor": 0
      },
      "text/plain": [
       "Epoch 18/50:   0%|          | 0/115 [00:00<?, ?it/s]"
      ]
     },
     "metadata": {},
     "output_type": "display_data"
    },
    {
     "data": {
      "application/vnd.jupyter.widget-view+json": {
       "model_id": "adbc2592d41f4abca5266b416271ccf1",
       "version_major": 2,
       "version_minor": 0
      },
      "text/plain": [
       "Epoch 19/50:   0%|          | 0/115 [00:00<?, ?it/s]"
      ]
     },
     "metadata": {},
     "output_type": "display_data"
    },
    {
     "name": "stdout",
     "output_type": "stream",
     "text": [
      "\n",
      "Epoch 19: New best F1-score: 0.6870\n",
      "Accuracy: 0.7197, Precision: 0.7301, Recall: 0.7197\n",
      "Saving checkpoint to C:\\Users\\PC\\lavar\\audiotwin_checkpoints_medium\\training_checkpoints\\PestLarvaNet_AudioTwin_Run_1_data_50.0percent.pth\n"
     ]
    },
    {
     "data": {
      "application/vnd.jupyter.widget-view+json": {
       "model_id": "32eabb5f49c44d5db7f5ccf87602c4c9",
       "version_major": 2,
       "version_minor": 0
      },
      "text/plain": [
       "Epoch 20/50:   0%|          | 0/115 [00:00<?, ?it/s]"
      ]
     },
     "metadata": {},
     "output_type": "display_data"
    },
    {
     "name": "stdout",
     "output_type": "stream",
     "text": [
      "\n",
      "Epoch 20: New best F1-score: 0.6982\n",
      "Accuracy: 0.7262, Precision: 0.6944, Recall: 0.7262\n",
      "Saving checkpoint to C:\\Users\\PC\\lavar\\audiotwin_checkpoints_medium\\training_checkpoints\\PestLarvaNet_AudioTwin_Run_1_data_50.0percent.pth\n"
     ]
    },
    {
     "data": {
      "application/vnd.jupyter.widget-view+json": {
       "model_id": "729464d103094a07a2f80382ff3e9e5c",
       "version_major": 2,
       "version_minor": 0
      },
      "text/plain": [
       "Epoch 21/50:   0%|          | 0/115 [00:00<?, ?it/s]"
      ]
     },
     "metadata": {},
     "output_type": "display_data"
    },
    {
     "name": "stdout",
     "output_type": "stream",
     "text": [
      "\n",
      "Epoch 21: New best F1-score: 0.7440\n",
      "Accuracy: 0.7568, Precision: 0.7349, Recall: 0.7568\n",
      "Saving checkpoint to C:\\Users\\PC\\lavar\\audiotwin_checkpoints_medium\\training_checkpoints\\PestLarvaNet_AudioTwin_Run_1_data_50.0percent.pth\n"
     ]
    },
    {
     "data": {
      "application/vnd.jupyter.widget-view+json": {
       "model_id": "fdb158b2ce704d4eb568a937dc1039fd",
       "version_major": 2,
       "version_minor": 0
      },
      "text/plain": [
       "Epoch 22/50:   0%|          | 0/115 [00:00<?, ?it/s]"
      ]
     },
     "metadata": {},
     "output_type": "display_data"
    },
    {
     "data": {
      "application/vnd.jupyter.widget-view+json": {
       "model_id": "a2ea71208b744f45b643fb8a82b74ba2",
       "version_major": 2,
       "version_minor": 0
      },
      "text/plain": [
       "Epoch 23/50:   0%|          | 0/115 [00:00<?, ?it/s]"
      ]
     },
     "metadata": {},
     "output_type": "display_data"
    },
    {
     "name": "stdout",
     "output_type": "stream",
     "text": [
      "\n",
      "Epoch 23: New best F1-score: 0.7469\n",
      "Accuracy: 0.7623, Precision: 0.7641, Recall: 0.7623\n",
      "Saving checkpoint to C:\\Users\\PC\\lavar\\audiotwin_checkpoints_medium\\training_checkpoints\\PestLarvaNet_AudioTwin_Run_1_data_50.0percent.pth\n"
     ]
    },
    {
     "data": {
      "application/vnd.jupyter.widget-view+json": {
       "model_id": "6d5008215a6643fd9eb3e8bf4d102a79",
       "version_major": 2,
       "version_minor": 0
      },
      "text/plain": [
       "Epoch 24/50:   0%|          | 0/115 [00:00<?, ?it/s]"
      ]
     },
     "metadata": {},
     "output_type": "display_data"
    },
    {
     "data": {
      "application/vnd.jupyter.widget-view+json": {
       "model_id": "6bded7d198634b359392548282bc5487",
       "version_major": 2,
       "version_minor": 0
      },
      "text/plain": [
       "Epoch 25/50:   0%|          | 0/115 [00:00<?, ?it/s]"
      ]
     },
     "metadata": {},
     "output_type": "display_data"
    },
    {
     "data": {
      "application/vnd.jupyter.widget-view+json": {
       "model_id": "9c49a1ac7812419fae7ab189a829bce5",
       "version_major": 2,
       "version_minor": 0
      },
      "text/plain": [
       "Epoch 26/50:   0%|          | 0/115 [00:00<?, ?it/s]"
      ]
     },
     "metadata": {},
     "output_type": "display_data"
    },
    {
     "name": "stdout",
     "output_type": "stream",
     "text": [
      "\n",
      "Epoch 26: New best F1-score: 0.7581\n",
      "Accuracy: 0.7634, Precision: 0.7647, Recall: 0.7634\n",
      "Saving checkpoint to C:\\Users\\PC\\lavar\\audiotwin_checkpoints_medium\\training_checkpoints\\PestLarvaNet_AudioTwin_Run_1_data_50.0percent.pth\n"
     ]
    },
    {
     "data": {
      "application/vnd.jupyter.widget-view+json": {
       "model_id": "588883853fb04a8f96bfe0f4f0371c9a",
       "version_major": 2,
       "version_minor": 0
      },
      "text/plain": [
       "Epoch 27/50:   0%|          | 0/115 [00:00<?, ?it/s]"
      ]
     },
     "metadata": {},
     "output_type": "display_data"
    },
    {
     "name": "stdout",
     "output_type": "stream",
     "text": [
      "\n",
      "Epoch 27: New best F1-score: 0.7639\n",
      "Accuracy: 0.7760, Precision: 0.8091, Recall: 0.7760\n",
      "Saving checkpoint to C:\\Users\\PC\\lavar\\audiotwin_checkpoints_medium\\training_checkpoints\\PestLarvaNet_AudioTwin_Run_1_data_50.0percent.pth\n"
     ]
    },
    {
     "data": {
      "application/vnd.jupyter.widget-view+json": {
       "model_id": "e4c0a118a21445c3b884da132c5ff562",
       "version_major": 2,
       "version_minor": 0
      },
      "text/plain": [
       "Epoch 28/50:   0%|          | 0/115 [00:00<?, ?it/s]"
      ]
     },
     "metadata": {},
     "output_type": "display_data"
    },
    {
     "data": {
      "application/vnd.jupyter.widget-view+json": {
       "model_id": "6413429f068f4d19a13dd16b46e00544",
       "version_major": 2,
       "version_minor": 0
      },
      "text/plain": [
       "Epoch 29/50:   0%|          | 0/115 [00:00<?, ?it/s]"
      ]
     },
     "metadata": {},
     "output_type": "display_data"
    },
    {
     "data": {
      "application/vnd.jupyter.widget-view+json": {
       "model_id": "fde5155cb45f47bbbf11f893c08598d0",
       "version_major": 2,
       "version_minor": 0
      },
      "text/plain": [
       "Epoch 30/50:   0%|          | 0/115 [00:00<?, ?it/s]"
      ]
     },
     "metadata": {},
     "output_type": "display_data"
    },
    {
     "name": "stdout",
     "output_type": "stream",
     "text": [
      "\n",
      "Epoch 30: New best F1-score: 0.7832\n",
      "Accuracy: 0.7891, Precision: 0.8004, Recall: 0.7891\n",
      "Saving checkpoint to C:\\Users\\PC\\lavar\\audiotwin_checkpoints_medium\\training_checkpoints\\PestLarvaNet_AudioTwin_Run_1_data_50.0percent.pth\n"
     ]
    },
    {
     "data": {
      "application/vnd.jupyter.widget-view+json": {
       "model_id": "096b0a93d258433da7b36711df25ccf4",
       "version_major": 2,
       "version_minor": 0
      },
      "text/plain": [
       "Epoch 31/50:   0%|          | 0/115 [00:00<?, ?it/s]"
      ]
     },
     "metadata": {},
     "output_type": "display_data"
    },
    {
     "name": "stdout",
     "output_type": "stream",
     "text": [
      "\n",
      "Epoch 31: New best F1-score: 0.8073\n",
      "Accuracy: 0.8109, Precision: 0.8286, Recall: 0.8109\n",
      "Saving checkpoint to C:\\Users\\PC\\lavar\\audiotwin_checkpoints_medium\\training_checkpoints\\PestLarvaNet_AudioTwin_Run_1_data_50.0percent.pth\n"
     ]
    },
    {
     "data": {
      "application/vnd.jupyter.widget-view+json": {
       "model_id": "aaabd0d7f25d469f80986c4616b04efc",
       "version_major": 2,
       "version_minor": 0
      },
      "text/plain": [
       "Epoch 32/50:   0%|          | 0/115 [00:00<?, ?it/s]"
      ]
     },
     "metadata": {},
     "output_type": "display_data"
    },
    {
     "name": "stdout",
     "output_type": "stream",
     "text": [
      "\n",
      "Epoch 32: New best F1-score: 0.8131\n",
      "Accuracy: 0.8197, Precision: 0.8294, Recall: 0.8197\n",
      "Saving checkpoint to C:\\Users\\PC\\lavar\\audiotwin_checkpoints_medium\\training_checkpoints\\PestLarvaNet_AudioTwin_Run_1_data_50.0percent.pth\n"
     ]
    },
    {
     "data": {
      "application/vnd.jupyter.widget-view+json": {
       "model_id": "a7732817612846f0b4a421d5d523aa55",
       "version_major": 2,
       "version_minor": 0
      },
      "text/plain": [
       "Epoch 33/50:   0%|          | 0/115 [00:00<?, ?it/s]"
      ]
     },
     "metadata": {},
     "output_type": "display_data"
    },
    {
     "data": {
      "application/vnd.jupyter.widget-view+json": {
       "model_id": "63a81623175a461ca9648e3ce7a8de20",
       "version_major": 2,
       "version_minor": 0
      },
      "text/plain": [
       "Epoch 34/50:   0%|          | 0/115 [00:00<?, ?it/s]"
      ]
     },
     "metadata": {},
     "output_type": "display_data"
    },
    {
     "data": {
      "application/vnd.jupyter.widget-view+json": {
       "model_id": "c145a77229df4edaab14a976cc87822e",
       "version_major": 2,
       "version_minor": 0
      },
      "text/plain": [
       "Epoch 35/50:   0%|          | 0/115 [00:00<?, ?it/s]"
      ]
     },
     "metadata": {},
     "output_type": "display_data"
    },
    {
     "name": "stdout",
     "output_type": "stream",
     "text": [
      "\n",
      "Epoch 35: New best F1-score: 0.8244\n",
      "Accuracy: 0.8273, Precision: 0.8376, Recall: 0.8273\n",
      "Saving checkpoint to C:\\Users\\PC\\lavar\\audiotwin_checkpoints_medium\\training_checkpoints\\PestLarvaNet_AudioTwin_Run_1_data_50.0percent.pth\n"
     ]
    },
    {
     "data": {
      "application/vnd.jupyter.widget-view+json": {
       "model_id": "dbcb71d9abc9418baa4283b8a7ae3b6d",
       "version_major": 2,
       "version_minor": 0
      },
      "text/plain": [
       "Epoch 36/50:   0%|          | 0/115 [00:00<?, ?it/s]"
      ]
     },
     "metadata": {},
     "output_type": "display_data"
    },
    {
     "data": {
      "application/vnd.jupyter.widget-view+json": {
       "model_id": "2af8eb65f48a45ed87feb0342289d6e8",
       "version_major": 2,
       "version_minor": 0
      },
      "text/plain": [
       "Epoch 37/50:   0%|          | 0/115 [00:00<?, ?it/s]"
      ]
     },
     "metadata": {},
     "output_type": "display_data"
    },
    {
     "name": "stdout",
     "output_type": "stream",
     "text": [
      "\n",
      "Epoch 37: New best F1-score: 0.8616\n",
      "Accuracy: 0.8617, Precision: 0.8671, Recall: 0.8617\n",
      "Saving checkpoint to C:\\Users\\PC\\lavar\\audiotwin_checkpoints_medium\\training_checkpoints\\PestLarvaNet_AudioTwin_Run_1_data_50.0percent.pth\n"
     ]
    },
    {
     "data": {
      "application/vnd.jupyter.widget-view+json": {
       "model_id": "d20cf949548f4600901f6fc29bf2ae53",
       "version_major": 2,
       "version_minor": 0
      },
      "text/plain": [
       "Epoch 38/50:   0%|          | 0/115 [00:00<?, ?it/s]"
      ]
     },
     "metadata": {},
     "output_type": "display_data"
    },
    {
     "data": {
      "application/vnd.jupyter.widget-view+json": {
       "model_id": "41af31954bef45a589b292e028cb983d",
       "version_major": 2,
       "version_minor": 0
      },
      "text/plain": [
       "Epoch 39/50:   0%|          | 0/115 [00:00<?, ?it/s]"
      ]
     },
     "metadata": {},
     "output_type": "display_data"
    },
    {
     "data": {
      "application/vnd.jupyter.widget-view+json": {
       "model_id": "fb4d2ec2f3ff47b59c41283e704bc5f0",
       "version_major": 2,
       "version_minor": 0
      },
      "text/plain": [
       "Epoch 40/50:   0%|          | 0/115 [00:00<?, ?it/s]"
      ]
     },
     "metadata": {},
     "output_type": "display_data"
    },
    {
     "data": {
      "application/vnd.jupyter.widget-view+json": {
       "model_id": "44f817961763413a8317f85d0b4f7a5b",
       "version_major": 2,
       "version_minor": 0
      },
      "text/plain": [
       "Epoch 41/50:   0%|          | 0/115 [00:00<?, ?it/s]"
      ]
     },
     "metadata": {},
     "output_type": "display_data"
    },
    {
     "data": {
      "application/vnd.jupyter.widget-view+json": {
       "model_id": "8f21b6fe376c425bab080cae81a8673a",
       "version_major": 2,
       "version_minor": 0
      },
      "text/plain": [
       "Epoch 42/50:   0%|          | 0/115 [00:00<?, ?it/s]"
      ]
     },
     "metadata": {},
     "output_type": "display_data"
    },
    {
     "data": {
      "application/vnd.jupyter.widget-view+json": {
       "model_id": "f1d228710a2e46e7866380b9db894c36",
       "version_major": 2,
       "version_minor": 0
      },
      "text/plain": [
       "Epoch 43/50:   0%|          | 0/115 [00:00<?, ?it/s]"
      ]
     },
     "metadata": {},
     "output_type": "display_data"
    },
    {
     "data": {
      "application/vnd.jupyter.widget-view+json": {
       "model_id": "b01ee6a2a3784f7da387f26ec52cf07b",
       "version_major": 2,
       "version_minor": 0
      },
      "text/plain": [
       "Epoch 44/50:   0%|          | 0/115 [00:00<?, ?it/s]"
      ]
     },
     "metadata": {},
     "output_type": "display_data"
    },
    {
     "name": "stdout",
     "output_type": "stream",
     "text": [
      "\n",
      "Epoch 44: New best F1-score: 0.8784\n",
      "Accuracy: 0.8798, Precision: 0.8812, Recall: 0.8798\n",
      "Saving checkpoint to C:\\Users\\PC\\lavar\\audiotwin_checkpoints_medium\\training_checkpoints\\PestLarvaNet_AudioTwin_Run_1_data_50.0percent.pth\n"
     ]
    },
    {
     "data": {
      "application/vnd.jupyter.widget-view+json": {
       "model_id": "ca105e68b2c74178bdc3d529370713c4",
       "version_major": 2,
       "version_minor": 0
      },
      "text/plain": [
       "Epoch 45/50:   0%|          | 0/115 [00:00<?, ?it/s]"
      ]
     },
     "metadata": {},
     "output_type": "display_data"
    },
    {
     "name": "stdout",
     "output_type": "stream",
     "text": [
      "\n",
      "Epoch 45: New best F1-score: 0.8858\n",
      "Accuracy: 0.8869, Precision: 0.8861, Recall: 0.8869\n",
      "Saving checkpoint to C:\\Users\\PC\\lavar\\audiotwin_checkpoints_medium\\training_checkpoints\\PestLarvaNet_AudioTwin_Run_1_data_50.0percent.pth\n"
     ]
    },
    {
     "data": {
      "application/vnd.jupyter.widget-view+json": {
       "model_id": "dfd9e5f3d3a2458c978ec91c0716817e",
       "version_major": 2,
       "version_minor": 0
      },
      "text/plain": [
       "Epoch 46/50:   0%|          | 0/115 [00:00<?, ?it/s]"
      ]
     },
     "metadata": {},
     "output_type": "display_data"
    },
    {
     "name": "stdout",
     "output_type": "stream",
     "text": [
      "\n",
      "Epoch 46: New best F1-score: 0.8929\n",
      "Accuracy: 0.8929, Precision: 0.8986, Recall: 0.8929\n",
      "Saving checkpoint to C:\\Users\\PC\\lavar\\audiotwin_checkpoints_medium\\training_checkpoints\\PestLarvaNet_AudioTwin_Run_1_data_50.0percent.pth\n"
     ]
    },
    {
     "data": {
      "application/vnd.jupyter.widget-view+json": {
       "model_id": "b58bfc85193d4a20ae80c8fa184dd000",
       "version_major": 2,
       "version_minor": 0
      },
      "text/plain": [
       "Epoch 47/50:   0%|          | 0/115 [00:00<?, ?it/s]"
      ]
     },
     "metadata": {},
     "output_type": "display_data"
    },
    {
     "data": {
      "application/vnd.jupyter.widget-view+json": {
       "model_id": "7171b535ca114c439a0901c583f9fb17",
       "version_major": 2,
       "version_minor": 0
      },
      "text/plain": [
       "Epoch 48/50:   0%|          | 0/115 [00:00<?, ?it/s]"
      ]
     },
     "metadata": {},
     "output_type": "display_data"
    },
    {
     "name": "stdout",
     "output_type": "stream",
     "text": [
      "\n",
      "Epoch 48: New best F1-score: 0.8971\n",
      "Accuracy: 0.8978, Precision: 0.9020, Recall: 0.8978\n",
      "Saving checkpoint to C:\\Users\\PC\\lavar\\audiotwin_checkpoints_medium\\training_checkpoints\\PestLarvaNet_AudioTwin_Run_1_data_50.0percent.pth\n"
     ]
    },
    {
     "data": {
      "application/vnd.jupyter.widget-view+json": {
       "model_id": "6cbf46e45f1f4741869be4d03cb174a4",
       "version_major": 2,
       "version_minor": 0
      },
      "text/plain": [
       "Epoch 49/50:   0%|          | 0/115 [00:00<?, ?it/s]"
      ]
     },
     "metadata": {},
     "output_type": "display_data"
    },
    {
     "data": {
      "application/vnd.jupyter.widget-view+json": {
       "model_id": "8ba77d294a214141a2f04304ebcb4ff7",
       "version_major": 2,
       "version_minor": 0
      },
      "text/plain": [
       "Epoch 50/50:   0%|          | 0/115 [00:00<?, ?it/s]"
      ]
     },
     "metadata": {},
     "output_type": "display_data"
    },
    {
     "name": "stdout",
     "output_type": "stream",
     "text": [
      "Finished Training for this run. Best F1-score: 0.8971\n",
      "==> Results with 50.0% data: Best F1-Score = 0.8971\n",
      "--- Training with 100.0% of labeled data ---\n",
      "Loading pretrained weights from: C:\\Users\\PC\\lavar\\audiotwin_checkpoints_medium\\run_1_lp1e-04_ep1e-06_lb0.001_audiotwin_pestlarvanet_medium_epoch_100.pth\n"
     ]
    },
    {
     "name": "stderr",
     "output_type": "stream",
     "text": [
      "C:\\Users\\PC\\anaconda3\\envs\\train_env\\lib\\site-packages\\torch\\optim\\lr_scheduler.py:62: UserWarning: The verbose parameter is deprecated. Please use get_last_lr() to access the learning rate.\n",
      "  warnings.warn(\n"
     ]
    },
    {
     "data": {
      "application/vnd.jupyter.widget-view+json": {
       "model_id": "c009fcd4eabf45c88b0ab93c03808640",
       "version_major": 2,
       "version_minor": 0
      },
      "text/plain": [
       "Epoch 1/50:   0%|          | 0/229 [00:00<?, ?it/s]"
      ]
     },
     "metadata": {},
     "output_type": "display_data"
    },
    {
     "name": "stdout",
     "output_type": "stream",
     "text": [
      "\n",
      "Epoch 1: New best F1-score: 0.4700\n",
      "Accuracy: 0.5563, Precision: 0.5375, Recall: 0.5563\n",
      "Saving checkpoint to C:\\Users\\PC\\lavar\\audiotwin_checkpoints_medium\\training_checkpoints\\PestLarvaNet_AudioTwin_Run_1_data_100.0percent.pth\n"
     ]
    },
    {
     "data": {
      "application/vnd.jupyter.widget-view+json": {
       "model_id": "6a0bb347fa934694a4b2a12971a9462f",
       "version_major": 2,
       "version_minor": 0
      },
      "text/plain": [
       "Epoch 2/50:   0%|          | 0/229 [00:00<?, ?it/s]"
      ]
     },
     "metadata": {},
     "output_type": "display_data"
    },
    {
     "name": "stdout",
     "output_type": "stream",
     "text": [
      "\n",
      "Epoch 2: New best F1-score: 0.5736\n",
      "Accuracy: 0.6486, Precision: 0.6306, Recall: 0.6486\n",
      "Saving checkpoint to C:\\Users\\PC\\lavar\\audiotwin_checkpoints_medium\\training_checkpoints\\PestLarvaNet_AudioTwin_Run_1_data_100.0percent.pth\n"
     ]
    },
    {
     "data": {
      "application/vnd.jupyter.widget-view+json": {
       "model_id": "8414a30681c24984958409cd0a2d97c8",
       "version_major": 2,
       "version_minor": 0
      },
      "text/plain": [
       "Epoch 3/50:   0%|          | 0/229 [00:00<?, ?it/s]"
      ]
     },
     "metadata": {},
     "output_type": "display_data"
    },
    {
     "name": "stdout",
     "output_type": "stream",
     "text": [
      "\n",
      "Epoch 3: New best F1-score: 0.6233\n",
      "Accuracy: 0.6596, Precision: 0.6446, Recall: 0.6596\n",
      "Saving checkpoint to C:\\Users\\PC\\lavar\\audiotwin_checkpoints_medium\\training_checkpoints\\PestLarvaNet_AudioTwin_Run_1_data_100.0percent.pth\n"
     ]
    },
    {
     "data": {
      "application/vnd.jupyter.widget-view+json": {
       "model_id": "53b8c7b3fc2946f894d6a1d90d8b301c",
       "version_major": 2,
       "version_minor": 0
      },
      "text/plain": [
       "Epoch 4/50:   0%|          | 0/229 [00:00<?, ?it/s]"
      ]
     },
     "metadata": {},
     "output_type": "display_data"
    },
    {
     "data": {
      "application/vnd.jupyter.widget-view+json": {
       "model_id": "dee421c628fe4b11b70ba7eb78fe72da",
       "version_major": 2,
       "version_minor": 0
      },
      "text/plain": [
       "Epoch 5/50:   0%|          | 0/229 [00:00<?, ?it/s]"
      ]
     },
     "metadata": {},
     "output_type": "display_data"
    },
    {
     "data": {
      "application/vnd.jupyter.widget-view+json": {
       "model_id": "98aafdb7f296448e957cab4fe9d4d8e3",
       "version_major": 2,
       "version_minor": 0
      },
      "text/plain": [
       "Epoch 6/50:   0%|          | 0/229 [00:00<?, ?it/s]"
      ]
     },
     "metadata": {},
     "output_type": "display_data"
    },
    {
     "name": "stdout",
     "output_type": "stream",
     "text": [
      "\n",
      "Epoch 6: New best F1-score: 0.6290\n",
      "Accuracy: 0.6809, Precision: 0.6841, Recall: 0.6809\n",
      "Saving checkpoint to C:\\Users\\PC\\lavar\\audiotwin_checkpoints_medium\\training_checkpoints\\PestLarvaNet_AudioTwin_Run_1_data_100.0percent.pth\n"
     ]
    },
    {
     "data": {
      "application/vnd.jupyter.widget-view+json": {
       "model_id": "a5c8888bb4204eaf983282e4a3b21b80",
       "version_major": 2,
       "version_minor": 0
      },
      "text/plain": [
       "Epoch 7/50:   0%|          | 0/229 [00:00<?, ?it/s]"
      ]
     },
     "metadata": {},
     "output_type": "display_data"
    },
    {
     "name": "stdout",
     "output_type": "stream",
     "text": [
      "\n",
      "Epoch 7: New best F1-score: 0.6498\n",
      "Accuracy: 0.6710, Precision: 0.6386, Recall: 0.6710\n",
      "Saving checkpoint to C:\\Users\\PC\\lavar\\audiotwin_checkpoints_medium\\training_checkpoints\\PestLarvaNet_AudioTwin_Run_1_data_100.0percent.pth\n"
     ]
    },
    {
     "data": {
      "application/vnd.jupyter.widget-view+json": {
       "model_id": "25b3ae3808314d78b3c91d50804db6c1",
       "version_major": 2,
       "version_minor": 0
      },
      "text/plain": [
       "Epoch 8/50:   0%|          | 0/229 [00:00<?, ?it/s]"
      ]
     },
     "metadata": {},
     "output_type": "display_data"
    },
    {
     "name": "stdout",
     "output_type": "stream",
     "text": [
      "\n",
      "Epoch 8: New best F1-score: 0.6713\n",
      "Accuracy: 0.6978, Precision: 0.6996, Recall: 0.6978\n",
      "Saving checkpoint to C:\\Users\\PC\\lavar\\audiotwin_checkpoints_medium\\training_checkpoints\\PestLarvaNet_AudioTwin_Run_1_data_100.0percent.pth\n"
     ]
    },
    {
     "data": {
      "application/vnd.jupyter.widget-view+json": {
       "model_id": "956f668374564f8d811e57a4eb950182",
       "version_major": 2,
       "version_minor": 0
      },
      "text/plain": [
       "Epoch 9/50:   0%|          | 0/229 [00:00<?, ?it/s]"
      ]
     },
     "metadata": {},
     "output_type": "display_data"
    },
    {
     "data": {
      "application/vnd.jupyter.widget-view+json": {
       "model_id": "bda3f718621f4cd884d769fcb898a85a",
       "version_major": 2,
       "version_minor": 0
      },
      "text/plain": [
       "Epoch 10/50:   0%|          | 0/229 [00:00<?, ?it/s]"
      ]
     },
     "metadata": {},
     "output_type": "display_data"
    },
    {
     "name": "stdout",
     "output_type": "stream",
     "text": [
      "\n",
      "Epoch 10: New best F1-score: 0.6892\n",
      "Accuracy: 0.7180, Precision: 0.6949, Recall: 0.7180\n",
      "Saving checkpoint to C:\\Users\\PC\\lavar\\audiotwin_checkpoints_medium\\training_checkpoints\\PestLarvaNet_AudioTwin_Run_1_data_100.0percent.pth\n"
     ]
    },
    {
     "data": {
      "application/vnd.jupyter.widget-view+json": {
       "model_id": "9903c0a710b54a1c8d4902430e4a3112",
       "version_major": 2,
       "version_minor": 0
      },
      "text/plain": [
       "Epoch 11/50:   0%|          | 0/229 [00:00<?, ?it/s]"
      ]
     },
     "metadata": {},
     "output_type": "display_data"
    },
    {
     "data": {
      "application/vnd.jupyter.widget-view+json": {
       "model_id": "8f7332e057534610adbea352a6d47cac",
       "version_major": 2,
       "version_minor": 0
      },
      "text/plain": [
       "Epoch 12/50:   0%|          | 0/229 [00:00<?, ?it/s]"
      ]
     },
     "metadata": {},
     "output_type": "display_data"
    },
    {
     "name": "stdout",
     "output_type": "stream",
     "text": [
      "\n",
      "Epoch 12: New best F1-score: 0.7414\n",
      "Accuracy: 0.7525, Precision: 0.7607, Recall: 0.7525\n",
      "Saving checkpoint to C:\\Users\\PC\\lavar\\audiotwin_checkpoints_medium\\training_checkpoints\\PestLarvaNet_AudioTwin_Run_1_data_100.0percent.pth\n"
     ]
    },
    {
     "data": {
      "application/vnd.jupyter.widget-view+json": {
       "model_id": "af731eb94df248448a9232f9442d90ba",
       "version_major": 2,
       "version_minor": 0
      },
      "text/plain": [
       "Epoch 13/50:   0%|          | 0/229 [00:00<?, ?it/s]"
      ]
     },
     "metadata": {},
     "output_type": "display_data"
    },
    {
     "data": {
      "application/vnd.jupyter.widget-view+json": {
       "model_id": "473ee1fe4fc94e18be2fe8f5307d6692",
       "version_major": 2,
       "version_minor": 0
      },
      "text/plain": [
       "Epoch 14/50:   0%|          | 0/229 [00:00<?, ?it/s]"
      ]
     },
     "metadata": {},
     "output_type": "display_data"
    },
    {
     "data": {
      "application/vnd.jupyter.widget-view+json": {
       "model_id": "7a6813b3ad374da09adc241b9ffc3cd1",
       "version_major": 2,
       "version_minor": 0
      },
      "text/plain": [
       "Epoch 15/50:   0%|          | 0/229 [00:00<?, ?it/s]"
      ]
     },
     "metadata": {},
     "output_type": "display_data"
    },
    {
     "data": {
      "application/vnd.jupyter.widget-view+json": {
       "model_id": "e5cec448e8bf40edbc7b6ca7257211c1",
       "version_major": 2,
       "version_minor": 0
      },
      "text/plain": [
       "Epoch 16/50:   0%|          | 0/229 [00:00<?, ?it/s]"
      ]
     },
     "metadata": {},
     "output_type": "display_data"
    },
    {
     "data": {
      "application/vnd.jupyter.widget-view+json": {
       "model_id": "b65fda18203246d79e2f9ab639472f3a",
       "version_major": 2,
       "version_minor": 0
      },
      "text/plain": [
       "Epoch 17/50:   0%|          | 0/229 [00:00<?, ?it/s]"
      ]
     },
     "metadata": {},
     "output_type": "display_data"
    },
    {
     "data": {
      "application/vnd.jupyter.widget-view+json": {
       "model_id": "c2a2ae6b5b7643f083b4fee0a60dd4da",
       "version_major": 2,
       "version_minor": 0
      },
      "text/plain": [
       "Epoch 18/50:   0%|          | 0/229 [00:00<?, ?it/s]"
      ]
     },
     "metadata": {},
     "output_type": "display_data"
    },
    {
     "name": "stdout",
     "output_type": "stream",
     "text": [
      "\n",
      "Epoch 18: New best F1-score: 0.7999\n",
      "Accuracy: 0.8191, Precision: 0.7922, Recall: 0.8191\n",
      "Saving checkpoint to C:\\Users\\PC\\lavar\\audiotwin_checkpoints_medium\\training_checkpoints\\PestLarvaNet_AudioTwin_Run_1_data_100.0percent.pth\n"
     ]
    },
    {
     "data": {
      "application/vnd.jupyter.widget-view+json": {
       "model_id": "ed0012f3ef554a008943f00943475de0",
       "version_major": 2,
       "version_minor": 0
      },
      "text/plain": [
       "Epoch 19/50:   0%|          | 0/229 [00:00<?, ?it/s]"
      ]
     },
     "metadata": {},
     "output_type": "display_data"
    },
    {
     "data": {
      "application/vnd.jupyter.widget-view+json": {
       "model_id": "43d26bb30c074fbb8f7092e8e0a214f9",
       "version_major": 2,
       "version_minor": 0
      },
      "text/plain": [
       "Epoch 20/50:   0%|          | 0/229 [00:00<?, ?it/s]"
      ]
     },
     "metadata": {},
     "output_type": "display_data"
    },
    {
     "data": {
      "application/vnd.jupyter.widget-view+json": {
       "model_id": "13170130bf82449fb5001d9a524930c2",
       "version_major": 2,
       "version_minor": 0
      },
      "text/plain": [
       "Epoch 21/50:   0%|          | 0/229 [00:00<?, ?it/s]"
      ]
     },
     "metadata": {},
     "output_type": "display_data"
    },
    {
     "data": {
      "application/vnd.jupyter.widget-view+json": {
       "model_id": "25ce4c5e0c37458c9541d75cd7906d63",
       "version_major": 2,
       "version_minor": 0
      },
      "text/plain": [
       "Epoch 22/50:   0%|          | 0/229 [00:00<?, ?it/s]"
      ]
     },
     "metadata": {},
     "output_type": "display_data"
    },
    {
     "name": "stdout",
     "output_type": "stream",
     "text": [
      "\n",
      "Epoch 22: New best F1-score: 0.8094\n",
      "Accuracy: 0.8038, Precision: 0.8472, Recall: 0.8038\n",
      "Saving checkpoint to C:\\Users\\PC\\lavar\\audiotwin_checkpoints_medium\\training_checkpoints\\PestLarvaNet_AudioTwin_Run_1_data_100.0percent.pth\n"
     ]
    },
    {
     "data": {
      "application/vnd.jupyter.widget-view+json": {
       "model_id": "99ef5f500b714d32aab06d9ca73003c9",
       "version_major": 2,
       "version_minor": 0
      },
      "text/plain": [
       "Epoch 23/50:   0%|          | 0/229 [00:00<?, ?it/s]"
      ]
     },
     "metadata": {},
     "output_type": "display_data"
    },
    {
     "data": {
      "application/vnd.jupyter.widget-view+json": {
       "model_id": "e386a2feb5bc4a0d9d27f849c0a89987",
       "version_major": 2,
       "version_minor": 0
      },
      "text/plain": [
       "Epoch 24/50:   0%|          | 0/229 [00:00<?, ?it/s]"
      ]
     },
     "metadata": {},
     "output_type": "display_data"
    },
    {
     "data": {
      "application/vnd.jupyter.widget-view+json": {
       "model_id": "f0e58302d2e74cbb9fd5a1c2846ec713",
       "version_major": 2,
       "version_minor": 0
      },
      "text/plain": [
       "Epoch 25/50:   0%|          | 0/229 [00:00<?, ?it/s]"
      ]
     },
     "metadata": {},
     "output_type": "display_data"
    },
    {
     "name": "stdout",
     "output_type": "stream",
     "text": [
      "\n",
      "Epoch 25: New best F1-score: 0.8592\n",
      "Accuracy: 0.8645, Precision: 0.8722, Recall: 0.8645\n",
      "Saving checkpoint to C:\\Users\\PC\\lavar\\audiotwin_checkpoints_medium\\training_checkpoints\\PestLarvaNet_AudioTwin_Run_1_data_100.0percent.pth\n"
     ]
    },
    {
     "data": {
      "application/vnd.jupyter.widget-view+json": {
       "model_id": "3a32c81c37b8438190950acd944214dd",
       "version_major": 2,
       "version_minor": 0
      },
      "text/plain": [
       "Epoch 26/50:   0%|          | 0/229 [00:00<?, ?it/s]"
      ]
     },
     "metadata": {},
     "output_type": "display_data"
    },
    {
     "name": "stdout",
     "output_type": "stream",
     "text": [
      "\n",
      "Epoch 26: New best F1-score: 0.8601\n",
      "Accuracy: 0.8628, Precision: 0.8708, Recall: 0.8628\n",
      "Saving checkpoint to C:\\Users\\PC\\lavar\\audiotwin_checkpoints_medium\\training_checkpoints\\PestLarvaNet_AudioTwin_Run_1_data_100.0percent.pth\n"
     ]
    },
    {
     "data": {
      "application/vnd.jupyter.widget-view+json": {
       "model_id": "beae06854956459a93f836489dfb54b3",
       "version_major": 2,
       "version_minor": 0
      },
      "text/plain": [
       "Epoch 27/50:   0%|          | 0/229 [00:00<?, ?it/s]"
      ]
     },
     "metadata": {},
     "output_type": "display_data"
    },
    {
     "data": {
      "application/vnd.jupyter.widget-view+json": {
       "model_id": "86e23021f87740749d05455b18b0ab5d",
       "version_major": 2,
       "version_minor": 0
      },
      "text/plain": [
       "Epoch 28/50:   0%|          | 0/229 [00:00<?, ?it/s]"
      ]
     },
     "metadata": {},
     "output_type": "display_data"
    },
    {
     "name": "stdout",
     "output_type": "stream",
     "text": [
      "\n",
      "Epoch 28: New best F1-score: 0.8661\n",
      "Accuracy: 0.8661, Precision: 0.8704, Recall: 0.8661\n",
      "Saving checkpoint to C:\\Users\\PC\\lavar\\audiotwin_checkpoints_medium\\training_checkpoints\\PestLarvaNet_AudioTwin_Run_1_data_100.0percent.pth\n"
     ]
    },
    {
     "data": {
      "application/vnd.jupyter.widget-view+json": {
       "model_id": "df55242523fc410ca58b2980f91d51ed",
       "version_major": 2,
       "version_minor": 0
      },
      "text/plain": [
       "Epoch 29/50:   0%|          | 0/229 [00:00<?, ?it/s]"
      ]
     },
     "metadata": {},
     "output_type": "display_data"
    },
    {
     "data": {
      "application/vnd.jupyter.widget-view+json": {
       "model_id": "bdab8fcf03ff45aca52e357c26675616",
       "version_major": 2,
       "version_minor": 0
      },
      "text/plain": [
       "Epoch 30/50:   0%|          | 0/229 [00:00<?, ?it/s]"
      ]
     },
     "metadata": {},
     "output_type": "display_data"
    },
    {
     "data": {
      "application/vnd.jupyter.widget-view+json": {
       "model_id": "21c546a97d784036b14606f814506e48",
       "version_major": 2,
       "version_minor": 0
      },
      "text/plain": [
       "Epoch 31/50:   0%|          | 0/229 [00:00<?, ?it/s]"
      ]
     },
     "metadata": {},
     "output_type": "display_data"
    },
    {
     "name": "stdout",
     "output_type": "stream",
     "text": [
      "\n",
      "Epoch 31: New best F1-score: 0.8662\n",
      "Accuracy: 0.8689, Precision: 0.8774, Recall: 0.8689\n",
      "Saving checkpoint to C:\\Users\\PC\\lavar\\audiotwin_checkpoints_medium\\training_checkpoints\\PestLarvaNet_AudioTwin_Run_1_data_100.0percent.pth\n"
     ]
    },
    {
     "data": {
      "application/vnd.jupyter.widget-view+json": {
       "model_id": "38725b6429734496b05dbdbac4e54aa7",
       "version_major": 2,
       "version_minor": 0
      },
      "text/plain": [
       "Epoch 32/50:   0%|          | 0/229 [00:00<?, ?it/s]"
      ]
     },
     "metadata": {},
     "output_type": "display_data"
    },
    {
     "name": "stdout",
     "output_type": "stream",
     "text": [
      "\n",
      "Epoch 32: New best F1-score: 0.8847\n",
      "Accuracy: 0.8863, Precision: 0.8910, Recall: 0.8863\n",
      "Saving checkpoint to C:\\Users\\PC\\lavar\\audiotwin_checkpoints_medium\\training_checkpoints\\PestLarvaNet_AudioTwin_Run_1_data_100.0percent.pth\n"
     ]
    },
    {
     "data": {
      "application/vnd.jupyter.widget-view+json": {
       "model_id": "a0390db783bf4a639caf2fd28b74c93e",
       "version_major": 2,
       "version_minor": 0
      },
      "text/plain": [
       "Epoch 33/50:   0%|          | 0/229 [00:00<?, ?it/s]"
      ]
     },
     "metadata": {},
     "output_type": "display_data"
    },
    {
     "data": {
      "application/vnd.jupyter.widget-view+json": {
       "model_id": "643193c217294e97afb12af839380f69",
       "version_major": 2,
       "version_minor": 0
      },
      "text/plain": [
       "Epoch 34/50:   0%|          | 0/229 [00:00<?, ?it/s]"
      ]
     },
     "metadata": {},
     "output_type": "display_data"
    },
    {
     "name": "stdout",
     "output_type": "stream",
     "text": [
      "\n",
      "Epoch 34: New best F1-score: 0.8895\n",
      "Accuracy: 0.8902, Precision: 0.8987, Recall: 0.8902\n",
      "Saving checkpoint to C:\\Users\\PC\\lavar\\audiotwin_checkpoints_medium\\training_checkpoints\\PestLarvaNet_AudioTwin_Run_1_data_100.0percent.pth\n"
     ]
    },
    {
     "data": {
      "application/vnd.jupyter.widget-view+json": {
       "model_id": "80554a98a7da4b77a4c33d7c42133bef",
       "version_major": 2,
       "version_minor": 0
      },
      "text/plain": [
       "Epoch 35/50:   0%|          | 0/229 [00:00<?, ?it/s]"
      ]
     },
     "metadata": {},
     "output_type": "display_data"
    },
    {
     "data": {
      "application/vnd.jupyter.widget-view+json": {
       "model_id": "f91f2a0e86b243c089bde2f7ab34ca89",
       "version_major": 2,
       "version_minor": 0
      },
      "text/plain": [
       "Epoch 36/50:   0%|          | 0/229 [00:00<?, ?it/s]"
      ]
     },
     "metadata": {},
     "output_type": "display_data"
    },
    {
     "data": {
      "application/vnd.jupyter.widget-view+json": {
       "model_id": "ea4df6d86f644ef1bf39102a698aff0f",
       "version_major": 2,
       "version_minor": 0
      },
      "text/plain": [
       "Epoch 37/50:   0%|          | 0/229 [00:00<?, ?it/s]"
      ]
     },
     "metadata": {},
     "output_type": "display_data"
    },
    {
     "name": "stdout",
     "output_type": "stream",
     "text": [
      "\n",
      "Epoch 37: New best F1-score: 0.8912\n",
      "Accuracy: 0.8918, Precision: 0.8989, Recall: 0.8918\n",
      "Saving checkpoint to C:\\Users\\PC\\lavar\\audiotwin_checkpoints_medium\\training_checkpoints\\PestLarvaNet_AudioTwin_Run_1_data_100.0percent.pth\n"
     ]
    },
    {
     "data": {
      "application/vnd.jupyter.widget-view+json": {
       "model_id": "6ed7dcad93324b689ff3e70273439589",
       "version_major": 2,
       "version_minor": 0
      },
      "text/plain": [
       "Epoch 38/50:   0%|          | 0/229 [00:00<?, ?it/s]"
      ]
     },
     "metadata": {},
     "output_type": "display_data"
    },
    {
     "data": {
      "application/vnd.jupyter.widget-view+json": {
       "model_id": "5f29d480ffc94daf934b4084ad108180",
       "version_major": 2,
       "version_minor": 0
      },
      "text/plain": [
       "Epoch 39/50:   0%|          | 0/229 [00:00<?, ?it/s]"
      ]
     },
     "metadata": {},
     "output_type": "display_data"
    },
    {
     "data": {
      "application/vnd.jupyter.widget-view+json": {
       "model_id": "4e2738d613e54776be6fc5145f107567",
       "version_major": 2,
       "version_minor": 0
      },
      "text/plain": [
       "Epoch 40/50:   0%|          | 0/229 [00:00<?, ?it/s]"
      ]
     },
     "metadata": {},
     "output_type": "display_data"
    },
    {
     "data": {
      "application/vnd.jupyter.widget-view+json": {
       "model_id": "cb1d9e38c41b4ff3b9e12d2066be8ce7",
       "version_major": 2,
       "version_minor": 0
      },
      "text/plain": [
       "Epoch 41/50:   0%|          | 0/229 [00:00<?, ?it/s]"
      ]
     },
     "metadata": {},
     "output_type": "display_data"
    },
    {
     "data": {
      "application/vnd.jupyter.widget-view+json": {
       "model_id": "7fb9d082dd3b46fc8b772873bd7c0cde",
       "version_major": 2,
       "version_minor": 0
      },
      "text/plain": [
       "Epoch 42/50:   0%|          | 0/229 [00:00<?, ?it/s]"
      ]
     },
     "metadata": {},
     "output_type": "display_data"
    },
    {
     "data": {
      "application/vnd.jupyter.widget-view+json": {
       "model_id": "e6b75d8ace244fc9ad9f14a6aa281ba2",
       "version_major": 2,
       "version_minor": 0
      },
      "text/plain": [
       "Epoch 43/50:   0%|          | 0/229 [00:00<?, ?it/s]"
      ]
     },
     "metadata": {},
     "output_type": "display_data"
    },
    {
     "data": {
      "application/vnd.jupyter.widget-view+json": {
       "model_id": "c4b6249b235e46628b0c53d6053fc4ec",
       "version_major": 2,
       "version_minor": 0
      },
      "text/plain": [
       "Epoch 44/50:   0%|          | 0/229 [00:00<?, ?it/s]"
      ]
     },
     "metadata": {},
     "output_type": "display_data"
    },
    {
     "name": "stdout",
     "output_type": "stream",
     "text": [
      "\n",
      "Epoch 44: New best F1-score: 0.9029\n",
      "Accuracy: 0.9033, Precision: 0.9065, Recall: 0.9033\n",
      "Saving checkpoint to C:\\Users\\PC\\lavar\\audiotwin_checkpoints_medium\\training_checkpoints\\PestLarvaNet_AudioTwin_Run_1_data_100.0percent.pth\n"
     ]
    },
    {
     "data": {
      "application/vnd.jupyter.widget-view+json": {
       "model_id": "bda4a1b71f744f67b8f85c6f1bbb16d9",
       "version_major": 2,
       "version_minor": 0
      },
      "text/plain": [
       "Epoch 45/50:   0%|          | 0/229 [00:00<?, ?it/s]"
      ]
     },
     "metadata": {},
     "output_type": "display_data"
    },
    {
     "name": "stdout",
     "output_type": "stream",
     "text": [
      "\n",
      "Epoch 45: New best F1-score: 0.9138\n",
      "Accuracy: 0.9148, Precision: 0.9175, Recall: 0.9148\n",
      "Saving checkpoint to C:\\Users\\PC\\lavar\\audiotwin_checkpoints_medium\\training_checkpoints\\PestLarvaNet_AudioTwin_Run_1_data_100.0percent.pth\n"
     ]
    },
    {
     "data": {
      "application/vnd.jupyter.widget-view+json": {
       "model_id": "f15f75888a0c4b88ac27b25c92d331cc",
       "version_major": 2,
       "version_minor": 0
      },
      "text/plain": [
       "Epoch 46/50:   0%|          | 0/229 [00:00<?, ?it/s]"
      ]
     },
     "metadata": {},
     "output_type": "display_data"
    },
    {
     "data": {
      "application/vnd.jupyter.widget-view+json": {
       "model_id": "aa699b53dcab4fd0aea4aafa0a184b64",
       "version_major": 2,
       "version_minor": 0
      },
      "text/plain": [
       "Epoch 47/50:   0%|          | 0/229 [00:00<?, ?it/s]"
      ]
     },
     "metadata": {},
     "output_type": "display_data"
    },
    {
     "data": {
      "application/vnd.jupyter.widget-view+json": {
       "model_id": "3d679216f0234222a088fce4dc4d7237",
       "version_major": 2,
       "version_minor": 0
      },
      "text/plain": [
       "Epoch 48/50:   0%|          | 0/229 [00:00<?, ?it/s]"
      ]
     },
     "metadata": {},
     "output_type": "display_data"
    },
    {
     "data": {
      "application/vnd.jupyter.widget-view+json": {
       "model_id": "a916aeb8cfcf43c28e0741915c3b7e55",
       "version_major": 2,
       "version_minor": 0
      },
      "text/plain": [
       "Epoch 49/50:   0%|          | 0/229 [00:00<?, ?it/s]"
      ]
     },
     "metadata": {},
     "output_type": "display_data"
    },
    {
     "data": {
      "application/vnd.jupyter.widget-view+json": {
       "model_id": "16044af7c3894f158c7421479894428e",
       "version_major": 2,
       "version_minor": 0
      },
      "text/plain": [
       "Epoch 50/50:   0%|          | 0/229 [00:00<?, ?it/s]"
      ]
     },
     "metadata": {},
     "output_type": "display_data"
    },
    {
     "name": "stdout",
     "output_type": "stream",
     "text": [
      "\n",
      "Epoch 50: New best F1-score: 0.9178\n",
      "Accuracy: 0.9186, Precision: 0.9241, Recall: 0.9186\n",
      "Saving checkpoint to C:\\Users\\PC\\lavar\\audiotwin_checkpoints_medium\\training_checkpoints\\PestLarvaNet_AudioTwin_Run_1_data_100.0percent.pth\n",
      "Finished Training for this run. Best F1-score: 0.9178\n",
      "==> Results with 100.0% data: Best F1-Score = 0.9178\n",
      "\n",
      "==================== Evaluating: PestLarvaNet (AudioTwin Run 2) ====================\n",
      "--- Training with 25.0% of labeled data ---\n",
      "Loading pretrained weights from: C:\\Users\\PC\\lavar\\audiotwin_checkpoints_medium\\run_2_lp5e-04_ep1e-06_lb0.003_audiotwin_pestlarvanet_medium_epoch_100.pth\n"
     ]
    },
    {
     "name": "stderr",
     "output_type": "stream",
     "text": [
      "C:\\Users\\PC\\anaconda3\\envs\\train_env\\lib\\site-packages\\torch\\optim\\lr_scheduler.py:62: UserWarning: The verbose parameter is deprecated. Please use get_last_lr() to access the learning rate.\n",
      "  warnings.warn(\n"
     ]
    },
    {
     "data": {
      "application/vnd.jupyter.widget-view+json": {
       "model_id": "2c33fdf8acd04f45bb222c99cc5d3e83",
       "version_major": 2,
       "version_minor": 0
      },
      "text/plain": [
       "Epoch 1/50:   0%|          | 0/58 [00:00<?, ?it/s]"
      ]
     },
     "metadata": {},
     "output_type": "display_data"
    },
    {
     "name": "stdout",
     "output_type": "stream",
     "text": [
      "\n",
      "Epoch 1: New best F1-score: 0.3974\n",
      "Accuracy: 0.5158, Precision: 0.4234, Recall: 0.5158\n",
      "Saving checkpoint to C:\\Users\\PC\\lavar\\audiotwin_checkpoints_medium\\training_checkpoints\\PestLarvaNet_AudioTwin_Run_2_data_25.0percent.pth\n"
     ]
    },
    {
     "data": {
      "application/vnd.jupyter.widget-view+json": {
       "model_id": "1e8d2401564c44f1aaa584838a07cc85",
       "version_major": 2,
       "version_minor": 0
      },
      "text/plain": [
       "Epoch 2/50:   0%|          | 0/58 [00:00<?, ?it/s]"
      ]
     },
     "metadata": {},
     "output_type": "display_data"
    },
    {
     "data": {
      "application/vnd.jupyter.widget-view+json": {
       "model_id": "53e430fb1afc49edb9d05270835b4c25",
       "version_major": 2,
       "version_minor": 0
      },
      "text/plain": [
       "Epoch 3/50:   0%|          | 0/58 [00:00<?, ?it/s]"
      ]
     },
     "metadata": {},
     "output_type": "display_data"
    },
    {
     "name": "stdout",
     "output_type": "stream",
     "text": [
      "\n",
      "Epoch 3: New best F1-score: 0.4450\n",
      "Accuracy: 0.5213, Precision: 0.4580, Recall: 0.5213\n",
      "Saving checkpoint to C:\\Users\\PC\\lavar\\audiotwin_checkpoints_medium\\training_checkpoints\\PestLarvaNet_AudioTwin_Run_2_data_25.0percent.pth\n"
     ]
    },
    {
     "data": {
      "application/vnd.jupyter.widget-view+json": {
       "model_id": "9528535f46d345609a0eee438e2ce1af",
       "version_major": 2,
       "version_minor": 0
      },
      "text/plain": [
       "Epoch 4/50:   0%|          | 0/58 [00:00<?, ?it/s]"
      ]
     },
     "metadata": {},
     "output_type": "display_data"
    },
    {
     "data": {
      "application/vnd.jupyter.widget-view+json": {
       "model_id": "89ef332dbaa1439d8e54aedde2f39a2c",
       "version_major": 2,
       "version_minor": 0
      },
      "text/plain": [
       "Epoch 5/50:   0%|          | 0/58 [00:00<?, ?it/s]"
      ]
     },
     "metadata": {},
     "output_type": "display_data"
    },
    {
     "name": "stdout",
     "output_type": "stream",
     "text": [
      "\n",
      "Epoch 5: New best F1-score: 0.5195\n",
      "Accuracy: 0.5984, Precision: 0.5415, Recall: 0.5984\n",
      "Saving checkpoint to C:\\Users\\PC\\lavar\\audiotwin_checkpoints_medium\\training_checkpoints\\PestLarvaNet_AudioTwin_Run_2_data_25.0percent.pth\n"
     ]
    },
    {
     "data": {
      "application/vnd.jupyter.widget-view+json": {
       "model_id": "990f6a9d7afe4ec59bf8c875e0ac0389",
       "version_major": 2,
       "version_minor": 0
      },
      "text/plain": [
       "Epoch 6/50:   0%|          | 0/58 [00:00<?, ?it/s]"
      ]
     },
     "metadata": {},
     "output_type": "display_data"
    },
    {
     "name": "stdout",
     "output_type": "stream",
     "text": [
      "\n",
      "Epoch 6: New best F1-score: 0.5355\n",
      "Accuracy: 0.6016, Precision: 0.5245, Recall: 0.6016\n",
      "Saving checkpoint to C:\\Users\\PC\\lavar\\audiotwin_checkpoints_medium\\training_checkpoints\\PestLarvaNet_AudioTwin_Run_2_data_25.0percent.pth\n"
     ]
    },
    {
     "data": {
      "application/vnd.jupyter.widget-view+json": {
       "model_id": "245df69fcdd84afb9c59a88a31a8bf23",
       "version_major": 2,
       "version_minor": 0
      },
      "text/plain": [
       "Epoch 7/50:   0%|          | 0/58 [00:00<?, ?it/s]"
      ]
     },
     "metadata": {},
     "output_type": "display_data"
    },
    {
     "data": {
      "application/vnd.jupyter.widget-view+json": {
       "model_id": "26f79e03070743d88e96d7dbfdc3d404",
       "version_major": 2,
       "version_minor": 0
      },
      "text/plain": [
       "Epoch 8/50:   0%|          | 0/58 [00:00<?, ?it/s]"
      ]
     },
     "metadata": {},
     "output_type": "display_data"
    },
    {
     "name": "stdout",
     "output_type": "stream",
     "text": [
      "\n",
      "Epoch 8: New best F1-score: 0.5537\n",
      "Accuracy: 0.6295, Precision: 0.5671, Recall: 0.6295\n",
      "Saving checkpoint to C:\\Users\\PC\\lavar\\audiotwin_checkpoints_medium\\training_checkpoints\\PestLarvaNet_AudioTwin_Run_2_data_25.0percent.pth\n"
     ]
    },
    {
     "data": {
      "application/vnd.jupyter.widget-view+json": {
       "model_id": "4acb41e7056f49a4808dbaef67cdb688",
       "version_major": 2,
       "version_minor": 0
      },
      "text/plain": [
       "Epoch 9/50:   0%|          | 0/58 [00:00<?, ?it/s]"
      ]
     },
     "metadata": {},
     "output_type": "display_data"
    },
    {
     "name": "stdout",
     "output_type": "stream",
     "text": [
      "\n",
      "Epoch 9: New best F1-score: 0.5868\n",
      "Accuracy: 0.6393, Precision: 0.5805, Recall: 0.6393\n",
      "Saving checkpoint to C:\\Users\\PC\\lavar\\audiotwin_checkpoints_medium\\training_checkpoints\\PestLarvaNet_AudioTwin_Run_2_data_25.0percent.pth\n"
     ]
    },
    {
     "data": {
      "application/vnd.jupyter.widget-view+json": {
       "model_id": "6f8687f72a52476fa717ba266d7f6314",
       "version_major": 2,
       "version_minor": 0
      },
      "text/plain": [
       "Epoch 10/50:   0%|          | 0/58 [00:00<?, ?it/s]"
      ]
     },
     "metadata": {},
     "output_type": "display_data"
    },
    {
     "data": {
      "application/vnd.jupyter.widget-view+json": {
       "model_id": "12250d531f7346659500ce86ee5fb9fa",
       "version_major": 2,
       "version_minor": 0
      },
      "text/plain": [
       "Epoch 11/50:   0%|          | 0/58 [00:00<?, ?it/s]"
      ]
     },
     "metadata": {},
     "output_type": "display_data"
    },
    {
     "data": {
      "application/vnd.jupyter.widget-view+json": {
       "model_id": "49fd9200aa83450f921cb848a1701014",
       "version_major": 2,
       "version_minor": 0
      },
      "text/plain": [
       "Epoch 12/50:   0%|          | 0/58 [00:00<?, ?it/s]"
      ]
     },
     "metadata": {},
     "output_type": "display_data"
    },
    {
     "data": {
      "application/vnd.jupyter.widget-view+json": {
       "model_id": "43dc9b266e60469db95e9c8147e76f93",
       "version_major": 2,
       "version_minor": 0
      },
      "text/plain": [
       "Epoch 13/50:   0%|          | 0/58 [00:00<?, ?it/s]"
      ]
     },
     "metadata": {},
     "output_type": "display_data"
    },
    {
     "data": {
      "application/vnd.jupyter.widget-view+json": {
       "model_id": "7b460fc5e87248859c2926661b40d2d2",
       "version_major": 2,
       "version_minor": 0
      },
      "text/plain": [
       "Epoch 14/50:   0%|          | 0/58 [00:00<?, ?it/s]"
      ]
     },
     "metadata": {},
     "output_type": "display_data"
    },
    {
     "data": {
      "application/vnd.jupyter.widget-view+json": {
       "model_id": "6a79504fd75147fdb7810c0b03541586",
       "version_major": 2,
       "version_minor": 0
      },
      "text/plain": [
       "Epoch 15/50:   0%|          | 0/58 [00:00<?, ?it/s]"
      ]
     },
     "metadata": {},
     "output_type": "display_data"
    },
    {
     "data": {
      "application/vnd.jupyter.widget-view+json": {
       "model_id": "3ed69b3b4d804ceb8553d56e4e56a183",
       "version_major": 2,
       "version_minor": 0
      },
      "text/plain": [
       "Epoch 16/50:   0%|          | 0/58 [00:00<?, ?it/s]"
      ]
     },
     "metadata": {},
     "output_type": "display_data"
    },
    {
     "name": "stdout",
     "output_type": "stream",
     "text": [
      "\n",
      "Epoch 16: New best F1-score: 0.5899\n",
      "Accuracy: 0.6421, Precision: 0.6454, Recall: 0.6421\n",
      "Saving checkpoint to C:\\Users\\PC\\lavar\\audiotwin_checkpoints_medium\\training_checkpoints\\PestLarvaNet_AudioTwin_Run_2_data_25.0percent.pth\n"
     ]
    },
    {
     "data": {
      "application/vnd.jupyter.widget-view+json": {
       "model_id": "f65112a4076a457d8426439b0278f267",
       "version_major": 2,
       "version_minor": 0
      },
      "text/plain": [
       "Epoch 17/50:   0%|          | 0/58 [00:00<?, ?it/s]"
      ]
     },
     "metadata": {},
     "output_type": "display_data"
    },
    {
     "data": {
      "application/vnd.jupyter.widget-view+json": {
       "model_id": "bda53579dfa9469ba859918a5a3b3a7b",
       "version_major": 2,
       "version_minor": 0
      },
      "text/plain": [
       "Epoch 18/50:   0%|          | 0/58 [00:00<?, ?it/s]"
      ]
     },
     "metadata": {},
     "output_type": "display_data"
    },
    {
     "data": {
      "application/vnd.jupyter.widget-view+json": {
       "model_id": "c542759a276842b4a95a4d2320199878",
       "version_major": 2,
       "version_minor": 0
      },
      "text/plain": [
       "Epoch 19/50:   0%|          | 0/58 [00:00<?, ?it/s]"
      ]
     },
     "metadata": {},
     "output_type": "display_data"
    },
    {
     "name": "stdout",
     "output_type": "stream",
     "text": [
      "\n",
      "Epoch 19: New best F1-score: 0.6062\n",
      "Accuracy: 0.6661, Precision: 0.6788, Recall: 0.6661\n",
      "Saving checkpoint to C:\\Users\\PC\\lavar\\audiotwin_checkpoints_medium\\training_checkpoints\\PestLarvaNet_AudioTwin_Run_2_data_25.0percent.pth\n"
     ]
    },
    {
     "data": {
      "application/vnd.jupyter.widget-view+json": {
       "model_id": "1996259951da4d3996920de1f2e770c7",
       "version_major": 2,
       "version_minor": 0
      },
      "text/plain": [
       "Epoch 20/50:   0%|          | 0/58 [00:00<?, ?it/s]"
      ]
     },
     "metadata": {},
     "output_type": "display_data"
    },
    {
     "data": {
      "application/vnd.jupyter.widget-view+json": {
       "model_id": "3aede239f886499c84ac53d8c0754e67",
       "version_major": 2,
       "version_minor": 0
      },
      "text/plain": [
       "Epoch 21/50:   0%|          | 0/58 [00:00<?, ?it/s]"
      ]
     },
     "metadata": {},
     "output_type": "display_data"
    },
    {
     "data": {
      "application/vnd.jupyter.widget-view+json": {
       "model_id": "13a094b1833c4233b5c0f7929f33f591",
       "version_major": 2,
       "version_minor": 0
      },
      "text/plain": [
       "Epoch 22/50:   0%|          | 0/58 [00:00<?, ?it/s]"
      ]
     },
     "metadata": {},
     "output_type": "display_data"
    },
    {
     "data": {
      "application/vnd.jupyter.widget-view+json": {
       "model_id": "14aaf1ca153044dc9767d4b36281b160",
       "version_major": 2,
       "version_minor": 0
      },
      "text/plain": [
       "Epoch 23/50:   0%|          | 0/58 [00:00<?, ?it/s]"
      ]
     },
     "metadata": {},
     "output_type": "display_data"
    },
    {
     "name": "stdout",
     "output_type": "stream",
     "text": [
      "\n",
      "Epoch 23: New best F1-score: 0.6218\n",
      "Accuracy: 0.6661, Precision: 0.6548, Recall: 0.6661\n",
      "Saving checkpoint to C:\\Users\\PC\\lavar\\audiotwin_checkpoints_medium\\training_checkpoints\\PestLarvaNet_AudioTwin_Run_2_data_25.0percent.pth\n"
     ]
    },
    {
     "data": {
      "application/vnd.jupyter.widget-view+json": {
       "model_id": "1fd99333d30b4a6593f0a36f176c4baf",
       "version_major": 2,
       "version_minor": 0
      },
      "text/plain": [
       "Epoch 24/50:   0%|          | 0/58 [00:00<?, ?it/s]"
      ]
     },
     "metadata": {},
     "output_type": "display_data"
    },
    {
     "name": "stdout",
     "output_type": "stream",
     "text": [
      "\n",
      "Epoch 24: New best F1-score: 0.6682\n",
      "Accuracy: 0.6973, Precision: 0.6950, Recall: 0.6973\n",
      "Saving checkpoint to C:\\Users\\PC\\lavar\\audiotwin_checkpoints_medium\\training_checkpoints\\PestLarvaNet_AudioTwin_Run_2_data_25.0percent.pth\n"
     ]
    },
    {
     "data": {
      "application/vnd.jupyter.widget-view+json": {
       "model_id": "af23ea9303f5417a8af0cd8e2346f136",
       "version_major": 2,
       "version_minor": 0
      },
      "text/plain": [
       "Epoch 25/50:   0%|          | 0/58 [00:00<?, ?it/s]"
      ]
     },
     "metadata": {},
     "output_type": "display_data"
    },
    {
     "data": {
      "application/vnd.jupyter.widget-view+json": {
       "model_id": "4c23c036b3cd4143aa3c4da395bb7c4b",
       "version_major": 2,
       "version_minor": 0
      },
      "text/plain": [
       "Epoch 26/50:   0%|          | 0/58 [00:00<?, ?it/s]"
      ]
     },
     "metadata": {},
     "output_type": "display_data"
    },
    {
     "data": {
      "application/vnd.jupyter.widget-view+json": {
       "model_id": "101d755c3ee244db815872106b67f9b6",
       "version_major": 2,
       "version_minor": 0
      },
      "text/plain": [
       "Epoch 27/50:   0%|          | 0/58 [00:00<?, ?it/s]"
      ]
     },
     "metadata": {},
     "output_type": "display_data"
    },
    {
     "name": "stdout",
     "output_type": "stream",
     "text": [
      "\n",
      "Epoch 27: New best F1-score: 0.6781\n",
      "Accuracy: 0.7109, Precision: 0.7030, Recall: 0.7109\n",
      "Saving checkpoint to C:\\Users\\PC\\lavar\\audiotwin_checkpoints_medium\\training_checkpoints\\PestLarvaNet_AudioTwin_Run_2_data_25.0percent.pth\n"
     ]
    },
    {
     "data": {
      "application/vnd.jupyter.widget-view+json": {
       "model_id": "e36b1cd6547d4fb69006f25a7a04b3e1",
       "version_major": 2,
       "version_minor": 0
      },
      "text/plain": [
       "Epoch 28/50:   0%|          | 0/58 [00:00<?, ?it/s]"
      ]
     },
     "metadata": {},
     "output_type": "display_data"
    },
    {
     "data": {
      "application/vnd.jupyter.widget-view+json": {
       "model_id": "3aeb078e620e45ea8b90b96430925397",
       "version_major": 2,
       "version_minor": 0
      },
      "text/plain": [
       "Epoch 29/50:   0%|          | 0/58 [00:00<?, ?it/s]"
      ]
     },
     "metadata": {},
     "output_type": "display_data"
    },
    {
     "data": {
      "application/vnd.jupyter.widget-view+json": {
       "model_id": "0baa9e735b774f169691c413a54bfd21",
       "version_major": 2,
       "version_minor": 0
      },
      "text/plain": [
       "Epoch 30/50:   0%|          | 0/58 [00:00<?, ?it/s]"
      ]
     },
     "metadata": {},
     "output_type": "display_data"
    },
    {
     "data": {
      "application/vnd.jupyter.widget-view+json": {
       "model_id": "26e5b09c4c3e4c7c9248f919ef66ecd3",
       "version_major": 2,
       "version_minor": 0
      },
      "text/plain": [
       "Epoch 31/50:   0%|          | 0/58 [00:00<?, ?it/s]"
      ]
     },
     "metadata": {},
     "output_type": "display_data"
    },
    {
     "name": "stdout",
     "output_type": "stream",
     "text": [
      "\n",
      "Epoch 31: New best F1-score: 0.7021\n",
      "Accuracy: 0.7148, Precision: 0.6988, Recall: 0.7148\n",
      "Saving checkpoint to C:\\Users\\PC\\lavar\\audiotwin_checkpoints_medium\\training_checkpoints\\PestLarvaNet_AudioTwin_Run_2_data_25.0percent.pth\n"
     ]
    },
    {
     "data": {
      "application/vnd.jupyter.widget-view+json": {
       "model_id": "afe0d105fcf7418d95b68081561b228d",
       "version_major": 2,
       "version_minor": 0
      },
      "text/plain": [
       "Epoch 32/50:   0%|          | 0/58 [00:00<?, ?it/s]"
      ]
     },
     "metadata": {},
     "output_type": "display_data"
    },
    {
     "data": {
      "application/vnd.jupyter.widget-view+json": {
       "model_id": "aa9021d12a2744fab57156f2f116ede8",
       "version_major": 2,
       "version_minor": 0
      },
      "text/plain": [
       "Epoch 33/50:   0%|          | 0/58 [00:00<?, ?it/s]"
      ]
     },
     "metadata": {},
     "output_type": "display_data"
    },
    {
     "name": "stdout",
     "output_type": "stream",
     "text": [
      "\n",
      "Epoch 33: New best F1-score: 0.7051\n",
      "Accuracy: 0.7246, Precision: 0.7066, Recall: 0.7246\n",
      "Saving checkpoint to C:\\Users\\PC\\lavar\\audiotwin_checkpoints_medium\\training_checkpoints\\PestLarvaNet_AudioTwin_Run_2_data_25.0percent.pth\n"
     ]
    },
    {
     "data": {
      "application/vnd.jupyter.widget-view+json": {
       "model_id": "ebb56f48f7d24a56a3b457dddaa37450",
       "version_major": 2,
       "version_minor": 0
      },
      "text/plain": [
       "Epoch 34/50:   0%|          | 0/58 [00:00<?, ?it/s]"
      ]
     },
     "metadata": {},
     "output_type": "display_data"
    },
    {
     "name": "stdout",
     "output_type": "stream",
     "text": [
      "\n",
      "Epoch 34: New best F1-score: 0.7191\n",
      "Accuracy: 0.7377, Precision: 0.7225, Recall: 0.7377\n",
      "Saving checkpoint to C:\\Users\\PC\\lavar\\audiotwin_checkpoints_medium\\training_checkpoints\\PestLarvaNet_AudioTwin_Run_2_data_25.0percent.pth\n"
     ]
    },
    {
     "data": {
      "application/vnd.jupyter.widget-view+json": {
       "model_id": "204cdd6041eb4e1a9a41081da555f308",
       "version_major": 2,
       "version_minor": 0
      },
      "text/plain": [
       "Epoch 35/50:   0%|          | 0/58 [00:00<?, ?it/s]"
      ]
     },
     "metadata": {},
     "output_type": "display_data"
    },
    {
     "data": {
      "application/vnd.jupyter.widget-view+json": {
       "model_id": "a3b7c864270241e9b27dd753bb44323b",
       "version_major": 2,
       "version_minor": 0
      },
      "text/plain": [
       "Epoch 36/50:   0%|          | 0/58 [00:00<?, ?it/s]"
      ]
     },
     "metadata": {},
     "output_type": "display_data"
    },
    {
     "data": {
      "application/vnd.jupyter.widget-view+json": {
       "model_id": "97d52ff168fe4837a13a369eec78f5d7",
       "version_major": 2,
       "version_minor": 0
      },
      "text/plain": [
       "Epoch 37/50:   0%|          | 0/58 [00:00<?, ?it/s]"
      ]
     },
     "metadata": {},
     "output_type": "display_data"
    },
    {
     "data": {
      "application/vnd.jupyter.widget-view+json": {
       "model_id": "2a4b8b10b1b14300a6fdaf0f843ff416",
       "version_major": 2,
       "version_minor": 0
      },
      "text/plain": [
       "Epoch 38/50:   0%|          | 0/58 [00:00<?, ?it/s]"
      ]
     },
     "metadata": {},
     "output_type": "display_data"
    },
    {
     "data": {
      "application/vnd.jupyter.widget-view+json": {
       "model_id": "49691bc3486f48e789ef2ce891c2a789",
       "version_major": 2,
       "version_minor": 0
      },
      "text/plain": [
       "Epoch 39/50:   0%|          | 0/58 [00:00<?, ?it/s]"
      ]
     },
     "metadata": {},
     "output_type": "display_data"
    },
    {
     "data": {
      "application/vnd.jupyter.widget-view+json": {
       "model_id": "9d176013eb7c4c658b5a0fb54caa9646",
       "version_major": 2,
       "version_minor": 0
      },
      "text/plain": [
       "Epoch 40/50:   0%|          | 0/58 [00:00<?, ?it/s]"
      ]
     },
     "metadata": {},
     "output_type": "display_data"
    },
    {
     "name": "stdout",
     "output_type": "stream",
     "text": [
      "\n",
      "Epoch 40: New best F1-score: 0.7301\n",
      "Accuracy: 0.7443, Precision: 0.7248, Recall: 0.7443\n",
      "Saving checkpoint to C:\\Users\\PC\\lavar\\audiotwin_checkpoints_medium\\training_checkpoints\\PestLarvaNet_AudioTwin_Run_2_data_25.0percent.pth\n"
     ]
    },
    {
     "data": {
      "application/vnd.jupyter.widget-view+json": {
       "model_id": "deec6a052ca74b699c08c5331d08f859",
       "version_major": 2,
       "version_minor": 0
      },
      "text/plain": [
       "Epoch 41/50:   0%|          | 0/58 [00:00<?, ?it/s]"
      ]
     },
     "metadata": {},
     "output_type": "display_data"
    },
    {
     "data": {
      "application/vnd.jupyter.widget-view+json": {
       "model_id": "84b2dcdb254c4fae9e9a0aa44ad1a58a",
       "version_major": 2,
       "version_minor": 0
      },
      "text/plain": [
       "Epoch 42/50:   0%|          | 0/58 [00:00<?, ?it/s]"
      ]
     },
     "metadata": {},
     "output_type": "display_data"
    },
    {
     "name": "stdout",
     "output_type": "stream",
     "text": [
      "\n",
      "Epoch 42: New best F1-score: 0.7337\n",
      "Accuracy: 0.7574, Precision: 0.7386, Recall: 0.7574\n",
      "Saving checkpoint to C:\\Users\\PC\\lavar\\audiotwin_checkpoints_medium\\training_checkpoints\\PestLarvaNet_AudioTwin_Run_2_data_25.0percent.pth\n"
     ]
    },
    {
     "data": {
      "application/vnd.jupyter.widget-view+json": {
       "model_id": "f79a151b525a47a3ab70e122155aa3b0",
       "version_major": 2,
       "version_minor": 0
      },
      "text/plain": [
       "Epoch 43/50:   0%|          | 0/58 [00:00<?, ?it/s]"
      ]
     },
     "metadata": {},
     "output_type": "display_data"
    },
    {
     "data": {
      "application/vnd.jupyter.widget-view+json": {
       "model_id": "e1abccf7a6814d9e8cc69609828c9837",
       "version_major": 2,
       "version_minor": 0
      },
      "text/plain": [
       "Epoch 44/50:   0%|          | 0/58 [00:00<?, ?it/s]"
      ]
     },
     "metadata": {},
     "output_type": "display_data"
    },
    {
     "name": "stdout",
     "output_type": "stream",
     "text": [
      "\n",
      "Epoch 44: New best F1-score: 0.7478\n",
      "Accuracy: 0.7612, Precision: 0.7555, Recall: 0.7612\n",
      "Saving checkpoint to C:\\Users\\PC\\lavar\\audiotwin_checkpoints_medium\\training_checkpoints\\PestLarvaNet_AudioTwin_Run_2_data_25.0percent.pth\n"
     ]
    },
    {
     "data": {
      "application/vnd.jupyter.widget-view+json": {
       "model_id": "27d116c7b13d4fe1ab15391df3849a52",
       "version_major": 2,
       "version_minor": 0
      },
      "text/plain": [
       "Epoch 45/50:   0%|          | 0/58 [00:00<?, ?it/s]"
      ]
     },
     "metadata": {},
     "output_type": "display_data"
    },
    {
     "data": {
      "application/vnd.jupyter.widget-view+json": {
       "model_id": "c3c3c6f32b47404ab1e1827b4c69d177",
       "version_major": 2,
       "version_minor": 0
      },
      "text/plain": [
       "Epoch 46/50:   0%|          | 0/58 [00:00<?, ?it/s]"
      ]
     },
     "metadata": {},
     "output_type": "display_data"
    },
    {
     "data": {
      "application/vnd.jupyter.widget-view+json": {
       "model_id": "d6ed4375918e4fd9887595b601387368",
       "version_major": 2,
       "version_minor": 0
      },
      "text/plain": [
       "Epoch 47/50:   0%|          | 0/58 [00:00<?, ?it/s]"
      ]
     },
     "metadata": {},
     "output_type": "display_data"
    },
    {
     "name": "stdout",
     "output_type": "stream",
     "text": [
      "\n",
      "Epoch 47: New best F1-score: 0.7625\n",
      "Accuracy: 0.7781, Precision: 0.7531, Recall: 0.7781\n",
      "Saving checkpoint to C:\\Users\\PC\\lavar\\audiotwin_checkpoints_medium\\training_checkpoints\\PestLarvaNet_AudioTwin_Run_2_data_25.0percent.pth\n"
     ]
    },
    {
     "data": {
      "application/vnd.jupyter.widget-view+json": {
       "model_id": "851e51116c34498fb548e1bba03a5fd1",
       "version_major": 2,
       "version_minor": 0
      },
      "text/plain": [
       "Epoch 48/50:   0%|          | 0/58 [00:00<?, ?it/s]"
      ]
     },
     "metadata": {},
     "output_type": "display_data"
    },
    {
     "data": {
      "application/vnd.jupyter.widget-view+json": {
       "model_id": "0bf502a1204c45279a362347058e4a3a",
       "version_major": 2,
       "version_minor": 0
      },
      "text/plain": [
       "Epoch 49/50:   0%|          | 0/58 [00:00<?, ?it/s]"
      ]
     },
     "metadata": {},
     "output_type": "display_data"
    },
    {
     "data": {
      "application/vnd.jupyter.widget-view+json": {
       "model_id": "e02264a50b4b40c28d960ba6ea4b702f",
       "version_major": 2,
       "version_minor": 0
      },
      "text/plain": [
       "Epoch 50/50:   0%|          | 0/58 [00:00<?, ?it/s]"
      ]
     },
     "metadata": {},
     "output_type": "display_data"
    },
    {
     "name": "stdout",
     "output_type": "stream",
     "text": [
      "\n",
      "Epoch 50: New best F1-score: 0.7889\n",
      "Accuracy: 0.8055, Precision: 0.7785, Recall: 0.8055\n",
      "Saving checkpoint to C:\\Users\\PC\\lavar\\audiotwin_checkpoints_medium\\training_checkpoints\\PestLarvaNet_AudioTwin_Run_2_data_25.0percent.pth\n",
      "Finished Training for this run. Best F1-score: 0.7889\n",
      "==> Results with 25.0% data: Best F1-Score = 0.7889\n",
      "--- Training with 50.0% of labeled data ---\n",
      "Loading pretrained weights from: C:\\Users\\PC\\lavar\\audiotwin_checkpoints_medium\\run_2_lp5e-04_ep1e-06_lb0.003_audiotwin_pestlarvanet_medium_epoch_100.pth\n"
     ]
    },
    {
     "name": "stderr",
     "output_type": "stream",
     "text": [
      "C:\\Users\\PC\\anaconda3\\envs\\train_env\\lib\\site-packages\\torch\\optim\\lr_scheduler.py:62: UserWarning: The verbose parameter is deprecated. Please use get_last_lr() to access the learning rate.\n",
      "  warnings.warn(\n"
     ]
    },
    {
     "data": {
      "application/vnd.jupyter.widget-view+json": {
       "model_id": "01d259471a284cefa8f33f0a165059e5",
       "version_major": 2,
       "version_minor": 0
      },
      "text/plain": [
       "Epoch 1/50:   0%|          | 0/115 [00:00<?, ?it/s]"
      ]
     },
     "metadata": {},
     "output_type": "display_data"
    },
    {
     "name": "stdout",
     "output_type": "stream",
     "text": [
      "\n",
      "Epoch 1: New best F1-score: 0.4525\n",
      "Accuracy: 0.5366, Precision: 0.5176, Recall: 0.5366\n",
      "Saving checkpoint to C:\\Users\\PC\\lavar\\audiotwin_checkpoints_medium\\training_checkpoints\\PestLarvaNet_AudioTwin_Run_2_data_50.0percent.pth\n"
     ]
    },
    {
     "data": {
      "application/vnd.jupyter.widget-view+json": {
       "model_id": "fdbdb8e6e8914410a764f24d31b7cd6e",
       "version_major": 2,
       "version_minor": 0
      },
      "text/plain": [
       "Epoch 2/50:   0%|          | 0/115 [00:00<?, ?it/s]"
      ]
     },
     "metadata": {},
     "output_type": "display_data"
    },
    {
     "name": "stdout",
     "output_type": "stream",
     "text": [
      "\n",
      "Epoch 2: New best F1-score: 0.5389\n",
      "Accuracy: 0.6213, Precision: 0.5297, Recall: 0.6213\n",
      "Saving checkpoint to C:\\Users\\PC\\lavar\\audiotwin_checkpoints_medium\\training_checkpoints\\PestLarvaNet_AudioTwin_Run_2_data_50.0percent.pth\n"
     ]
    },
    {
     "data": {
      "application/vnd.jupyter.widget-view+json": {
       "model_id": "32116e9002f64d81b01937c76db78bd0",
       "version_major": 2,
       "version_minor": 0
      },
      "text/plain": [
       "Epoch 3/50:   0%|          | 0/115 [00:00<?, ?it/s]"
      ]
     },
     "metadata": {},
     "output_type": "display_data"
    },
    {
     "name": "stdout",
     "output_type": "stream",
     "text": [
      "\n",
      "Epoch 3: New best F1-score: 0.5572\n",
      "Accuracy: 0.6333, Precision: 0.5715, Recall: 0.6333\n",
      "Saving checkpoint to C:\\Users\\PC\\lavar\\audiotwin_checkpoints_medium\\training_checkpoints\\PestLarvaNet_AudioTwin_Run_2_data_50.0percent.pth\n"
     ]
    },
    {
     "data": {
      "application/vnd.jupyter.widget-view+json": {
       "model_id": "e58b9b0602ca4bd99a7b475400cbb51b",
       "version_major": 2,
       "version_minor": 0
      },
      "text/plain": [
       "Epoch 4/50:   0%|          | 0/115 [00:00<?, ?it/s]"
      ]
     },
     "metadata": {},
     "output_type": "display_data"
    },
    {
     "name": "stdout",
     "output_type": "stream",
     "text": [
      "\n",
      "Epoch 4: New best F1-score: 0.5788\n",
      "Accuracy: 0.6563, Precision: 0.6588, Recall: 0.6563\n",
      "Saving checkpoint to C:\\Users\\PC\\lavar\\audiotwin_checkpoints_medium\\training_checkpoints\\PestLarvaNet_AudioTwin_Run_2_data_50.0percent.pth\n"
     ]
    },
    {
     "data": {
      "application/vnd.jupyter.widget-view+json": {
       "model_id": "22edad46cea1440288d38b7cbd7c327c",
       "version_major": 2,
       "version_minor": 0
      },
      "text/plain": [
       "Epoch 5/50:   0%|          | 0/115 [00:00<?, ?it/s]"
      ]
     },
     "metadata": {},
     "output_type": "display_data"
    },
    {
     "name": "stdout",
     "output_type": "stream",
     "text": [
      "\n",
      "Epoch 5: New best F1-score: 0.6033\n",
      "Accuracy: 0.6585, Precision: 0.6506, Recall: 0.6585\n",
      "Saving checkpoint to C:\\Users\\PC\\lavar\\audiotwin_checkpoints_medium\\training_checkpoints\\PestLarvaNet_AudioTwin_Run_2_data_50.0percent.pth\n"
     ]
    },
    {
     "data": {
      "application/vnd.jupyter.widget-view+json": {
       "model_id": "4ae0502dbedd4a1080067a982b823f07",
       "version_major": 2,
       "version_minor": 0
      },
      "text/plain": [
       "Epoch 6/50:   0%|          | 0/115 [00:00<?, ?it/s]"
      ]
     },
     "metadata": {},
     "output_type": "display_data"
    },
    {
     "data": {
      "application/vnd.jupyter.widget-view+json": {
       "model_id": "d541e730db6d497497464639204c5f47",
       "version_major": 2,
       "version_minor": 0
      },
      "text/plain": [
       "Epoch 7/50:   0%|          | 0/115 [00:00<?, ?it/s]"
      ]
     },
     "metadata": {},
     "output_type": "display_data"
    },
    {
     "data": {
      "application/vnd.jupyter.widget-view+json": {
       "model_id": "460f19acfc7a4432b603e1458cc8098f",
       "version_major": 2,
       "version_minor": 0
      },
      "text/plain": [
       "Epoch 8/50:   0%|          | 0/115 [00:00<?, ?it/s]"
      ]
     },
     "metadata": {},
     "output_type": "display_data"
    },
    {
     "data": {
      "application/vnd.jupyter.widget-view+json": {
       "model_id": "6ddb82290a74432daa232f4465000f82",
       "version_major": 2,
       "version_minor": 0
      },
      "text/plain": [
       "Epoch 9/50:   0%|          | 0/115 [00:00<?, ?it/s]"
      ]
     },
     "metadata": {},
     "output_type": "display_data"
    },
    {
     "data": {
      "application/vnd.jupyter.widget-view+json": {
       "model_id": "0843d2fa26284d759dff547090e9e3eb",
       "version_major": 2,
       "version_minor": 0
      },
      "text/plain": [
       "Epoch 10/50:   0%|          | 0/115 [00:00<?, ?it/s]"
      ]
     },
     "metadata": {},
     "output_type": "display_data"
    },
    {
     "data": {
      "application/vnd.jupyter.widget-view+json": {
       "model_id": "830ccd4d29934bf0a314564a6078997c",
       "version_major": 2,
       "version_minor": 0
      },
      "text/plain": [
       "Epoch 11/50:   0%|          | 0/115 [00:00<?, ?it/s]"
      ]
     },
     "metadata": {},
     "output_type": "display_data"
    },
    {
     "data": {
      "application/vnd.jupyter.widget-view+json": {
       "model_id": "b771743af4cf4bce8f4f619e5d65cdbb",
       "version_major": 2,
       "version_minor": 0
      },
      "text/plain": [
       "Epoch 12/50:   0%|          | 0/115 [00:00<?, ?it/s]"
      ]
     },
     "metadata": {},
     "output_type": "display_data"
    },
    {
     "name": "stdout",
     "output_type": "stream",
     "text": [
      "\n",
      "Epoch 12: New best F1-score: 0.7014\n",
      "Accuracy: 0.7268, Precision: 0.7036, Recall: 0.7268\n",
      "Saving checkpoint to C:\\Users\\PC\\lavar\\audiotwin_checkpoints_medium\\training_checkpoints\\PestLarvaNet_AudioTwin_Run_2_data_50.0percent.pth\n"
     ]
    },
    {
     "data": {
      "application/vnd.jupyter.widget-view+json": {
       "model_id": "fc45e3634fb742bba0560a0c3347a1a6",
       "version_major": 2,
       "version_minor": 0
      },
      "text/plain": [
       "Epoch 13/50:   0%|          | 0/115 [00:00<?, ?it/s]"
      ]
     },
     "metadata": {},
     "output_type": "display_data"
    },
    {
     "data": {
      "application/vnd.jupyter.widget-view+json": {
       "model_id": "a7c5ed47addc4ffea6faa753cabedc20",
       "version_major": 2,
       "version_minor": 0
      },
      "text/plain": [
       "Epoch 14/50:   0%|          | 0/115 [00:00<?, ?it/s]"
      ]
     },
     "metadata": {},
     "output_type": "display_data"
    },
    {
     "name": "stdout",
     "output_type": "stream",
     "text": [
      "\n",
      "Epoch 14: New best F1-score: 0.7625\n",
      "Accuracy: 0.7754, Precision: 0.7591, Recall: 0.7754\n",
      "Saving checkpoint to C:\\Users\\PC\\lavar\\audiotwin_checkpoints_medium\\training_checkpoints\\PestLarvaNet_AudioTwin_Run_2_data_50.0percent.pth\n"
     ]
    },
    {
     "data": {
      "application/vnd.jupyter.widget-view+json": {
       "model_id": "be796a6fe7ad46ce922fcb8eea08aa45",
       "version_major": 2,
       "version_minor": 0
      },
      "text/plain": [
       "Epoch 15/50:   0%|          | 0/115 [00:00<?, ?it/s]"
      ]
     },
     "metadata": {},
     "output_type": "display_data"
    },
    {
     "data": {
      "application/vnd.jupyter.widget-view+json": {
       "model_id": "08ab7d345a524f309904fd4995e1c799",
       "version_major": 2,
       "version_minor": 0
      },
      "text/plain": [
       "Epoch 16/50:   0%|          | 0/115 [00:00<?, ?it/s]"
      ]
     },
     "metadata": {},
     "output_type": "display_data"
    },
    {
     "data": {
      "application/vnd.jupyter.widget-view+json": {
       "model_id": "706e8b751f1b447eb92152caaeea8ada",
       "version_major": 2,
       "version_minor": 0
      },
      "text/plain": [
       "Epoch 17/50:   0%|          | 0/115 [00:00<?, ?it/s]"
      ]
     },
     "metadata": {},
     "output_type": "display_data"
    },
    {
     "data": {
      "application/vnd.jupyter.widget-view+json": {
       "model_id": "4cdf7ca0e69c49c99cae4fe607e09046",
       "version_major": 2,
       "version_minor": 0
      },
      "text/plain": [
       "Epoch 18/50:   0%|          | 0/115 [00:00<?, ?it/s]"
      ]
     },
     "metadata": {},
     "output_type": "display_data"
    },
    {
     "name": "stdout",
     "output_type": "stream",
     "text": [
      "\n",
      "Epoch 18: New best F1-score: 0.7835\n",
      "Accuracy: 0.7989, Precision: 0.7760, Recall: 0.7989\n",
      "Saving checkpoint to C:\\Users\\PC\\lavar\\audiotwin_checkpoints_medium\\training_checkpoints\\PestLarvaNet_AudioTwin_Run_2_data_50.0percent.pth\n"
     ]
    },
    {
     "data": {
      "application/vnd.jupyter.widget-view+json": {
       "model_id": "9dcf110db28d4544a0b6200f34b67bc7",
       "version_major": 2,
       "version_minor": 0
      },
      "text/plain": [
       "Epoch 19/50:   0%|          | 0/115 [00:00<?, ?it/s]"
      ]
     },
     "metadata": {},
     "output_type": "display_data"
    },
    {
     "data": {
      "application/vnd.jupyter.widget-view+json": {
       "model_id": "052f52fd60c04e109d516e520c4e06fc",
       "version_major": 2,
       "version_minor": 0
      },
      "text/plain": [
       "Epoch 20/50:   0%|          | 0/115 [00:00<?, ?it/s]"
      ]
     },
     "metadata": {},
     "output_type": "display_data"
    },
    {
     "data": {
      "application/vnd.jupyter.widget-view+json": {
       "model_id": "caadbd113cad448aa64b42078465ccfa",
       "version_major": 2,
       "version_minor": 0
      },
      "text/plain": [
       "Epoch 21/50:   0%|          | 0/115 [00:00<?, ?it/s]"
      ]
     },
     "metadata": {},
     "output_type": "display_data"
    },
    {
     "name": "stdout",
     "output_type": "stream",
     "text": [
      "\n",
      "Epoch 21: New best F1-score: 0.8067\n",
      "Accuracy: 0.8180, Precision: 0.8486, Recall: 0.8180\n",
      "Saving checkpoint to C:\\Users\\PC\\lavar\\audiotwin_checkpoints_medium\\training_checkpoints\\PestLarvaNet_AudioTwin_Run_2_data_50.0percent.pth\n"
     ]
    },
    {
     "data": {
      "application/vnd.jupyter.widget-view+json": {
       "model_id": "da65c4e0f53d4158b8839c98432c3217",
       "version_major": 2,
       "version_minor": 0
      },
      "text/plain": [
       "Epoch 22/50:   0%|          | 0/115 [00:00<?, ?it/s]"
      ]
     },
     "metadata": {},
     "output_type": "display_data"
    },
    {
     "data": {
      "application/vnd.jupyter.widget-view+json": {
       "model_id": "3706885f900c436da14f27bcc9c56f24",
       "version_major": 2,
       "version_minor": 0
      },
      "text/plain": [
       "Epoch 23/50:   0%|          | 0/115 [00:00<?, ?it/s]"
      ]
     },
     "metadata": {},
     "output_type": "display_data"
    },
    {
     "data": {
      "application/vnd.jupyter.widget-view+json": {
       "model_id": "4dd942715e4140bcaef681114cfe5b20",
       "version_major": 2,
       "version_minor": 0
      },
      "text/plain": [
       "Epoch 24/50:   0%|          | 0/115 [00:00<?, ?it/s]"
      ]
     },
     "metadata": {},
     "output_type": "display_data"
    },
    {
     "name": "stdout",
     "output_type": "stream",
     "text": [
      "\n",
      "Epoch 24: New best F1-score: 0.8074\n",
      "Accuracy: 0.8131, Precision: 0.8215, Recall: 0.8131\n",
      "Saving checkpoint to C:\\Users\\PC\\lavar\\audiotwin_checkpoints_medium\\training_checkpoints\\PestLarvaNet_AudioTwin_Run_2_data_50.0percent.pth\n"
     ]
    },
    {
     "data": {
      "application/vnd.jupyter.widget-view+json": {
       "model_id": "a433bb820e004e708bf6c0c68da3688a",
       "version_major": 2,
       "version_minor": 0
      },
      "text/plain": [
       "Epoch 25/50:   0%|          | 0/115 [00:00<?, ?it/s]"
      ]
     },
     "metadata": {},
     "output_type": "display_data"
    },
    {
     "data": {
      "application/vnd.jupyter.widget-view+json": {
       "model_id": "efe74c0ff2de440b8d5dcea1c03f8d73",
       "version_major": 2,
       "version_minor": 0
      },
      "text/plain": [
       "Epoch 26/50:   0%|          | 0/115 [00:00<?, ?it/s]"
      ]
     },
     "metadata": {},
     "output_type": "display_data"
    },
    {
     "name": "stdout",
     "output_type": "stream",
     "text": [
      "\n",
      "Epoch 26: New best F1-score: 0.8317\n",
      "Accuracy: 0.8393, Precision: 0.8665, Recall: 0.8393\n",
      "Saving checkpoint to C:\\Users\\PC\\lavar\\audiotwin_checkpoints_medium\\training_checkpoints\\PestLarvaNet_AudioTwin_Run_2_data_50.0percent.pth\n"
     ]
    },
    {
     "data": {
      "application/vnd.jupyter.widget-view+json": {
       "model_id": "31268841528e414084542df25df6b7f9",
       "version_major": 2,
       "version_minor": 0
      },
      "text/plain": [
       "Epoch 27/50:   0%|          | 0/115 [00:00<?, ?it/s]"
      ]
     },
     "metadata": {},
     "output_type": "display_data"
    },
    {
     "data": {
      "application/vnd.jupyter.widget-view+json": {
       "model_id": "71b6fc5a7ea0461f900fec135af8d56d",
       "version_major": 2,
       "version_minor": 0
      },
      "text/plain": [
       "Epoch 28/50:   0%|          | 0/115 [00:00<?, ?it/s]"
      ]
     },
     "metadata": {},
     "output_type": "display_data"
    },
    {
     "name": "stdout",
     "output_type": "stream",
     "text": [
      "\n",
      "Epoch 28: New best F1-score: 0.8369\n",
      "Accuracy: 0.8415, Precision: 0.8563, Recall: 0.8415\n",
      "Saving checkpoint to C:\\Users\\PC\\lavar\\audiotwin_checkpoints_medium\\training_checkpoints\\PestLarvaNet_AudioTwin_Run_2_data_50.0percent.pth\n"
     ]
    },
    {
     "data": {
      "application/vnd.jupyter.widget-view+json": {
       "model_id": "d69382ffee64464d8ace639470fd9ecb",
       "version_major": 2,
       "version_minor": 0
      },
      "text/plain": [
       "Epoch 29/50:   0%|          | 0/115 [00:00<?, ?it/s]"
      ]
     },
     "metadata": {},
     "output_type": "display_data"
    },
    {
     "name": "stdout",
     "output_type": "stream",
     "text": [
      "\n",
      "Epoch 29: New best F1-score: 0.8389\n",
      "Accuracy: 0.8454, Precision: 0.8461, Recall: 0.8454\n",
      "Saving checkpoint to C:\\Users\\PC\\lavar\\audiotwin_checkpoints_medium\\training_checkpoints\\PestLarvaNet_AudioTwin_Run_2_data_50.0percent.pth\n"
     ]
    },
    {
     "data": {
      "application/vnd.jupyter.widget-view+json": {
       "model_id": "5264b4fc1c654399b9ff8d4efe1f03a1",
       "version_major": 2,
       "version_minor": 0
      },
      "text/plain": [
       "Epoch 30/50:   0%|          | 0/115 [00:00<?, ?it/s]"
      ]
     },
     "metadata": {},
     "output_type": "display_data"
    },
    {
     "name": "stdout",
     "output_type": "stream",
     "text": [
      "\n",
      "Epoch 30: New best F1-score: 0.8418\n",
      "Accuracy: 0.8481, Precision: 0.8595, Recall: 0.8481\n",
      "Saving checkpoint to C:\\Users\\PC\\lavar\\audiotwin_checkpoints_medium\\training_checkpoints\\PestLarvaNet_AudioTwin_Run_2_data_50.0percent.pth\n"
     ]
    },
    {
     "data": {
      "application/vnd.jupyter.widget-view+json": {
       "model_id": "45512e61fa554db68a73be13b5e035e5",
       "version_major": 2,
       "version_minor": 0
      },
      "text/plain": [
       "Epoch 31/50:   0%|          | 0/115 [00:00<?, ?it/s]"
      ]
     },
     "metadata": {},
     "output_type": "display_data"
    },
    {
     "name": "stdout",
     "output_type": "stream",
     "text": [
      "\n",
      "Epoch 31: New best F1-score: 0.8521\n",
      "Accuracy: 0.8546, Precision: 0.8628, Recall: 0.8546\n",
      "Saving checkpoint to C:\\Users\\PC\\lavar\\audiotwin_checkpoints_medium\\training_checkpoints\\PestLarvaNet_AudioTwin_Run_2_data_50.0percent.pth\n"
     ]
    },
    {
     "data": {
      "application/vnd.jupyter.widget-view+json": {
       "model_id": "71f242f3b8fe4fe3ae3ec45723bb707e",
       "version_major": 2,
       "version_minor": 0
      },
      "text/plain": [
       "Epoch 32/50:   0%|          | 0/115 [00:00<?, ?it/s]"
      ]
     },
     "metadata": {},
     "output_type": "display_data"
    },
    {
     "data": {
      "application/vnd.jupyter.widget-view+json": {
       "model_id": "4e27385f52814eceac74ae3314404d5f",
       "version_major": 2,
       "version_minor": 0
      },
      "text/plain": [
       "Epoch 33/50:   0%|          | 0/115 [00:00<?, ?it/s]"
      ]
     },
     "metadata": {},
     "output_type": "display_data"
    },
    {
     "data": {
      "application/vnd.jupyter.widget-view+json": {
       "model_id": "e0bb2d46cd7140e089f712ed1a18c606",
       "version_major": 2,
       "version_minor": 0
      },
      "text/plain": [
       "Epoch 34/50:   0%|          | 0/115 [00:00<?, ?it/s]"
      ]
     },
     "metadata": {},
     "output_type": "display_data"
    },
    {
     "data": {
      "application/vnd.jupyter.widget-view+json": {
       "model_id": "2d9d99e11221407ea34f0bb6823ec0a0",
       "version_major": 2,
       "version_minor": 0
      },
      "text/plain": [
       "Epoch 35/50:   0%|          | 0/115 [00:00<?, ?it/s]"
      ]
     },
     "metadata": {},
     "output_type": "display_data"
    },
    {
     "name": "stdout",
     "output_type": "stream",
     "text": [
      "\n",
      "Epoch 35: New best F1-score: 0.8643\n",
      "Accuracy: 0.8661, Precision: 0.8720, Recall: 0.8661\n",
      "Saving checkpoint to C:\\Users\\PC\\lavar\\audiotwin_checkpoints_medium\\training_checkpoints\\PestLarvaNet_AudioTwin_Run_2_data_50.0percent.pth\n"
     ]
    },
    {
     "data": {
      "application/vnd.jupyter.widget-view+json": {
       "model_id": "1ce0b8e222184c1eaba7ac8c53b22ead",
       "version_major": 2,
       "version_minor": 0
      },
      "text/plain": [
       "Epoch 36/50:   0%|          | 0/115 [00:00<?, ?it/s]"
      ]
     },
     "metadata": {},
     "output_type": "display_data"
    },
    {
     "data": {
      "application/vnd.jupyter.widget-view+json": {
       "model_id": "e59d1a8bf3b54ce493f2e464a615f30d",
       "version_major": 2,
       "version_minor": 0
      },
      "text/plain": [
       "Epoch 37/50:   0%|          | 0/115 [00:00<?, ?it/s]"
      ]
     },
     "metadata": {},
     "output_type": "display_data"
    },
    {
     "data": {
      "application/vnd.jupyter.widget-view+json": {
       "model_id": "7b4766d6660d4a1a8cacd9d647fef11e",
       "version_major": 2,
       "version_minor": 0
      },
      "text/plain": [
       "Epoch 38/50:   0%|          | 0/115 [00:00<?, ?it/s]"
      ]
     },
     "metadata": {},
     "output_type": "display_data"
    },
    {
     "name": "stdout",
     "output_type": "stream",
     "text": [
      "\n",
      "Epoch 38: New best F1-score: 0.8729\n",
      "Accuracy: 0.8765, Precision: 0.8789, Recall: 0.8765\n",
      "Saving checkpoint to C:\\Users\\PC\\lavar\\audiotwin_checkpoints_medium\\training_checkpoints\\PestLarvaNet_AudioTwin_Run_2_data_50.0percent.pth\n"
     ]
    },
    {
     "data": {
      "application/vnd.jupyter.widget-view+json": {
       "model_id": "d98708ba88dd49438d8a1c810a979f71",
       "version_major": 2,
       "version_minor": 0
      },
      "text/plain": [
       "Epoch 39/50:   0%|          | 0/115 [00:00<?, ?it/s]"
      ]
     },
     "metadata": {},
     "output_type": "display_data"
    },
    {
     "data": {
      "application/vnd.jupyter.widget-view+json": {
       "model_id": "4404e6f94c3c480590b3e4dbabde5473",
       "version_major": 2,
       "version_minor": 0
      },
      "text/plain": [
       "Epoch 40/50:   0%|          | 0/115 [00:00<?, ?it/s]"
      ]
     },
     "metadata": {},
     "output_type": "display_data"
    },
    {
     "data": {
      "application/vnd.jupyter.widget-view+json": {
       "model_id": "656a100fbc66413ab02c3ad24ce69275",
       "version_major": 2,
       "version_minor": 0
      },
      "text/plain": [
       "Epoch 41/50:   0%|          | 0/115 [00:00<?, ?it/s]"
      ]
     },
     "metadata": {},
     "output_type": "display_data"
    },
    {
     "data": {
      "application/vnd.jupyter.widget-view+json": {
       "model_id": "b7d8d7657fb44dea8f5227665983c084",
       "version_major": 2,
       "version_minor": 0
      },
      "text/plain": [
       "Epoch 42/50:   0%|          | 0/115 [00:00<?, ?it/s]"
      ]
     },
     "metadata": {},
     "output_type": "display_data"
    },
    {
     "data": {
      "application/vnd.jupyter.widget-view+json": {
       "model_id": "b5dec6808dc14bccb3cf92cb883e8242",
       "version_major": 2,
       "version_minor": 0
      },
      "text/plain": [
       "Epoch 43/50:   0%|          | 0/115 [00:00<?, ?it/s]"
      ]
     },
     "metadata": {},
     "output_type": "display_data"
    },
    {
     "data": {
      "application/vnd.jupyter.widget-view+json": {
       "model_id": "f7bac5deb4eb45b1a4f57d7df5d90af1",
       "version_major": 2,
       "version_minor": 0
      },
      "text/plain": [
       "Epoch 44/50:   0%|          | 0/115 [00:00<?, ?it/s]"
      ]
     },
     "metadata": {},
     "output_type": "display_data"
    },
    {
     "data": {
      "application/vnd.jupyter.widget-view+json": {
       "model_id": "4ce60f1ace714964b088b8353bcd744c",
       "version_major": 2,
       "version_minor": 0
      },
      "text/plain": [
       "Epoch 45/50:   0%|          | 0/115 [00:00<?, ?it/s]"
      ]
     },
     "metadata": {},
     "output_type": "display_data"
    },
    {
     "name": "stdout",
     "output_type": "stream",
     "text": [
      "\n",
      "Epoch 45: New best F1-score: 0.8828\n",
      "Accuracy: 0.8847, Precision: 0.8879, Recall: 0.8847\n",
      "Saving checkpoint to C:\\Users\\PC\\lavar\\audiotwin_checkpoints_medium\\training_checkpoints\\PestLarvaNet_AudioTwin_Run_2_data_50.0percent.pth\n"
     ]
    },
    {
     "data": {
      "application/vnd.jupyter.widget-view+json": {
       "model_id": "cfe06e329a5a4295b72ade3179a0b443",
       "version_major": 2,
       "version_minor": 0
      },
      "text/plain": [
       "Epoch 46/50:   0%|          | 0/115 [00:00<?, ?it/s]"
      ]
     },
     "metadata": {},
     "output_type": "display_data"
    },
    {
     "name": "stdout",
     "output_type": "stream",
     "text": [
      "\n",
      "Epoch 46: New best F1-score: 0.8829\n",
      "Accuracy: 0.8847, Precision: 0.8848, Recall: 0.8847\n",
      "Saving checkpoint to C:\\Users\\PC\\lavar\\audiotwin_checkpoints_medium\\training_checkpoints\\PestLarvaNet_AudioTwin_Run_2_data_50.0percent.pth\n"
     ]
    },
    {
     "data": {
      "application/vnd.jupyter.widget-view+json": {
       "model_id": "9e015033633b4a2eb6a4968174434a0c",
       "version_major": 2,
       "version_minor": 0
      },
      "text/plain": [
       "Epoch 47/50:   0%|          | 0/115 [00:00<?, ?it/s]"
      ]
     },
     "metadata": {},
     "output_type": "display_data"
    },
    {
     "data": {
      "application/vnd.jupyter.widget-view+json": {
       "model_id": "6ad93aec82d2452c900ab8f672914a95",
       "version_major": 2,
       "version_minor": 0
      },
      "text/plain": [
       "Epoch 48/50:   0%|          | 0/115 [00:00<?, ?it/s]"
      ]
     },
     "metadata": {},
     "output_type": "display_data"
    },
    {
     "name": "stdout",
     "output_type": "stream",
     "text": [
      "\n",
      "Epoch 48: New best F1-score: 0.8927\n",
      "Accuracy: 0.8929, Precision: 0.8994, Recall: 0.8929\n",
      "Saving checkpoint to C:\\Users\\PC\\lavar\\audiotwin_checkpoints_medium\\training_checkpoints\\PestLarvaNet_AudioTwin_Run_2_data_50.0percent.pth\n"
     ]
    },
    {
     "data": {
      "application/vnd.jupyter.widget-view+json": {
       "model_id": "1064512e6fdd4cc5849f64749c480201",
       "version_major": 2,
       "version_minor": 0
      },
      "text/plain": [
       "Epoch 49/50:   0%|          | 0/115 [00:00<?, ?it/s]"
      ]
     },
     "metadata": {},
     "output_type": "display_data"
    },
    {
     "data": {
      "application/vnd.jupyter.widget-view+json": {
       "model_id": "1cf9063084d54265af214a24ac27fcb5",
       "version_major": 2,
       "version_minor": 0
      },
      "text/plain": [
       "Epoch 50/50:   0%|          | 0/115 [00:00<?, ?it/s]"
      ]
     },
     "metadata": {},
     "output_type": "display_data"
    },
    {
     "name": "stdout",
     "output_type": "stream",
     "text": [
      "\n",
      "Epoch 50: New best F1-score: 0.8946\n",
      "Accuracy: 0.8962, Precision: 0.8991, Recall: 0.8962\n",
      "Saving checkpoint to C:\\Users\\PC\\lavar\\audiotwin_checkpoints_medium\\training_checkpoints\\PestLarvaNet_AudioTwin_Run_2_data_50.0percent.pth\n",
      "Finished Training for this run. Best F1-score: 0.8946\n",
      "==> Results with 50.0% data: Best F1-Score = 0.8946\n",
      "--- Training with 100.0% of labeled data ---\n",
      "Loading pretrained weights from: C:\\Users\\PC\\lavar\\audiotwin_checkpoints_medium\\run_2_lp5e-04_ep1e-06_lb0.003_audiotwin_pestlarvanet_medium_epoch_100.pth\n"
     ]
    },
    {
     "name": "stderr",
     "output_type": "stream",
     "text": [
      "C:\\Users\\PC\\anaconda3\\envs\\train_env\\lib\\site-packages\\torch\\optim\\lr_scheduler.py:62: UserWarning: The verbose parameter is deprecated. Please use get_last_lr() to access the learning rate.\n",
      "  warnings.warn(\n"
     ]
    },
    {
     "data": {
      "application/vnd.jupyter.widget-view+json": {
       "model_id": "c40574fae6c440c09f5cd9b585689cfc",
       "version_major": 2,
       "version_minor": 0
      },
      "text/plain": [
       "Epoch 1/50:   0%|          | 0/229 [00:00<?, ?it/s]"
      ]
     },
     "metadata": {},
     "output_type": "display_data"
    },
    {
     "name": "stdout",
     "output_type": "stream",
     "text": [
      "\n",
      "Epoch 1: New best F1-score: 0.5400\n",
      "Accuracy: 0.6235, Precision: 0.5141, Recall: 0.6235\n",
      "Saving checkpoint to C:\\Users\\PC\\lavar\\audiotwin_checkpoints_medium\\training_checkpoints\\PestLarvaNet_AudioTwin_Run_2_data_100.0percent.pth\n"
     ]
    },
    {
     "data": {
      "application/vnd.jupyter.widget-view+json": {
       "model_id": "5d10b86c716540d6b80382daf7bdffbb",
       "version_major": 2,
       "version_minor": 0
      },
      "text/plain": [
       "Epoch 2/50:   0%|          | 0/229 [00:00<?, ?it/s]"
      ]
     },
     "metadata": {},
     "output_type": "display_data"
    },
    {
     "name": "stdout",
     "output_type": "stream",
     "text": [
      "\n",
      "Epoch 2: New best F1-score: 0.5704\n",
      "Accuracy: 0.6492, Precision: 0.6178, Recall: 0.6492\n",
      "Saving checkpoint to C:\\Users\\PC\\lavar\\audiotwin_checkpoints_medium\\training_checkpoints\\PestLarvaNet_AudioTwin_Run_2_data_100.0percent.pth\n"
     ]
    },
    {
     "data": {
      "application/vnd.jupyter.widget-view+json": {
       "model_id": "df0c3de6037b44c4b47ef7b169eda8e5",
       "version_major": 2,
       "version_minor": 0
      },
      "text/plain": [
       "Epoch 3/50:   0%|          | 0/229 [00:00<?, ?it/s]"
      ]
     },
     "metadata": {},
     "output_type": "display_data"
    },
    {
     "name": "stdout",
     "output_type": "stream",
     "text": [
      "\n",
      "Epoch 3: New best F1-score: 0.5741\n",
      "Accuracy: 0.6470, Precision: 0.5779, Recall: 0.6470\n",
      "Saving checkpoint to C:\\Users\\PC\\lavar\\audiotwin_checkpoints_medium\\training_checkpoints\\PestLarvaNet_AudioTwin_Run_2_data_100.0percent.pth\n"
     ]
    },
    {
     "data": {
      "application/vnd.jupyter.widget-view+json": {
       "model_id": "82977a7f32d14f929b09dc63a117d645",
       "version_major": 2,
       "version_minor": 0
      },
      "text/plain": [
       "Epoch 4/50:   0%|          | 0/229 [00:00<?, ?it/s]"
      ]
     },
     "metadata": {},
     "output_type": "display_data"
    },
    {
     "name": "stdout",
     "output_type": "stream",
     "text": [
      "\n",
      "Epoch 4: New best F1-score: 0.6524\n",
      "Accuracy: 0.6831, Precision: 0.6506, Recall: 0.6831\n",
      "Saving checkpoint to C:\\Users\\PC\\lavar\\audiotwin_checkpoints_medium\\training_checkpoints\\PestLarvaNet_AudioTwin_Run_2_data_100.0percent.pth\n"
     ]
    },
    {
     "data": {
      "application/vnd.jupyter.widget-view+json": {
       "model_id": "8948f1ec8ca44fae9d519f0fba465a82",
       "version_major": 2,
       "version_minor": 0
      },
      "text/plain": [
       "Epoch 5/50:   0%|          | 0/229 [00:00<?, ?it/s]"
      ]
     },
     "metadata": {},
     "output_type": "display_data"
    },
    {
     "name": "stdout",
     "output_type": "stream",
     "text": [
      "\n",
      "Epoch 5: New best F1-score: 0.6959\n",
      "Accuracy: 0.7421, Precision: 0.6798, Recall: 0.7421\n",
      "Saving checkpoint to C:\\Users\\PC\\lavar\\audiotwin_checkpoints_medium\\training_checkpoints\\PestLarvaNet_AudioTwin_Run_2_data_100.0percent.pth\n"
     ]
    },
    {
     "data": {
      "application/vnd.jupyter.widget-view+json": {
       "model_id": "c3c4c336682b404a94c947abd862a760",
       "version_major": 2,
       "version_minor": 0
      },
      "text/plain": [
       "Epoch 6/50:   0%|          | 0/229 [00:00<?, ?it/s]"
      ]
     },
     "metadata": {},
     "output_type": "display_data"
    },
    {
     "name": "stdout",
     "output_type": "stream",
     "text": [
      "\n",
      "Epoch 6: New best F1-score: 0.7001\n",
      "Accuracy: 0.7432, Precision: 0.7509, Recall: 0.7432\n",
      "Saving checkpoint to C:\\Users\\PC\\lavar\\audiotwin_checkpoints_medium\\training_checkpoints\\PestLarvaNet_AudioTwin_Run_2_data_100.0percent.pth\n"
     ]
    },
    {
     "data": {
      "application/vnd.jupyter.widget-view+json": {
       "model_id": "2e88fe43b1e44792b78d15ae3c480f2f",
       "version_major": 2,
       "version_minor": 0
      },
      "text/plain": [
       "Epoch 7/50:   0%|          | 0/229 [00:00<?, ?it/s]"
      ]
     },
     "metadata": {},
     "output_type": "display_data"
    },
    {
     "name": "stdout",
     "output_type": "stream",
     "text": [
      "\n",
      "Epoch 7: New best F1-score: 0.7120\n",
      "Accuracy: 0.7388, Precision: 0.7268, Recall: 0.7388\n",
      "Saving checkpoint to C:\\Users\\PC\\lavar\\audiotwin_checkpoints_medium\\training_checkpoints\\PestLarvaNet_AudioTwin_Run_2_data_100.0percent.pth\n"
     ]
    },
    {
     "data": {
      "application/vnd.jupyter.widget-view+json": {
       "model_id": "4d9b49ea6a04443f8fd3b7b4bf8171ee",
       "version_major": 2,
       "version_minor": 0
      },
      "text/plain": [
       "Epoch 8/50:   0%|          | 0/229 [00:00<?, ?it/s]"
      ]
     },
     "metadata": {},
     "output_type": "display_data"
    },
    {
     "name": "stdout",
     "output_type": "stream",
     "text": [
      "\n",
      "Epoch 8: New best F1-score: 0.7303\n",
      "Accuracy: 0.7667, Precision: 0.7442, Recall: 0.7667\n",
      "Saving checkpoint to C:\\Users\\PC\\lavar\\audiotwin_checkpoints_medium\\training_checkpoints\\PestLarvaNet_AudioTwin_Run_2_data_100.0percent.pth\n"
     ]
    },
    {
     "data": {
      "application/vnd.jupyter.widget-view+json": {
       "model_id": "2ecd93b369e8454281130b170513fc94",
       "version_major": 2,
       "version_minor": 0
      },
      "text/plain": [
       "Epoch 9/50:   0%|          | 0/229 [00:00<?, ?it/s]"
      ]
     },
     "metadata": {},
     "output_type": "display_data"
    },
    {
     "data": {
      "application/vnd.jupyter.widget-view+json": {
       "model_id": "d726d50cea974089968c5814e5e59a1c",
       "version_major": 2,
       "version_minor": 0
      },
      "text/plain": [
       "Epoch 10/50:   0%|          | 0/229 [00:00<?, ?it/s]"
      ]
     },
     "metadata": {},
     "output_type": "display_data"
    },
    {
     "name": "stdout",
     "output_type": "stream",
     "text": [
      "\n",
      "Epoch 10: New best F1-score: 0.7420\n",
      "Accuracy: 0.7645, Precision: 0.7568, Recall: 0.7645\n",
      "Saving checkpoint to C:\\Users\\PC\\lavar\\audiotwin_checkpoints_medium\\training_checkpoints\\PestLarvaNet_AudioTwin_Run_2_data_100.0percent.pth\n"
     ]
    },
    {
     "data": {
      "application/vnd.jupyter.widget-view+json": {
       "model_id": "db810dd87a384cbd9df912212c7fa28a",
       "version_major": 2,
       "version_minor": 0
      },
      "text/plain": [
       "Epoch 11/50:   0%|          | 0/229 [00:00<?, ?it/s]"
      ]
     },
     "metadata": {},
     "output_type": "display_data"
    },
    {
     "name": "stdout",
     "output_type": "stream",
     "text": [
      "\n",
      "Epoch 11: New best F1-score: 0.7822\n",
      "Accuracy: 0.7863, Precision: 0.7937, Recall: 0.7863\n",
      "Saving checkpoint to C:\\Users\\PC\\lavar\\audiotwin_checkpoints_medium\\training_checkpoints\\PestLarvaNet_AudioTwin_Run_2_data_100.0percent.pth\n"
     ]
    },
    {
     "data": {
      "application/vnd.jupyter.widget-view+json": {
       "model_id": "a80f28f32d074457a3fc8740b640c47b",
       "version_major": 2,
       "version_minor": 0
      },
      "text/plain": [
       "Epoch 12/50:   0%|          | 0/229 [00:00<?, ?it/s]"
      ]
     },
     "metadata": {},
     "output_type": "display_data"
    },
    {
     "data": {
      "application/vnd.jupyter.widget-view+json": {
       "model_id": "f8bd942c50c846aa9aa7dea176dc7636",
       "version_major": 2,
       "version_minor": 0
      },
      "text/plain": [
       "Epoch 13/50:   0%|          | 0/229 [00:00<?, ?it/s]"
      ]
     },
     "metadata": {},
     "output_type": "display_data"
    },
    {
     "name": "stdout",
     "output_type": "stream",
     "text": [
      "\n",
      "Epoch 13: New best F1-score: 0.7891\n",
      "Accuracy: 0.8038, Precision: 0.7872, Recall: 0.8038\n",
      "Saving checkpoint to C:\\Users\\PC\\lavar\\audiotwin_checkpoints_medium\\training_checkpoints\\PestLarvaNet_AudioTwin_Run_2_data_100.0percent.pth\n"
     ]
    },
    {
     "data": {
      "application/vnd.jupyter.widget-view+json": {
       "model_id": "4911d4d779234fd2946534ce0fec841a",
       "version_major": 2,
       "version_minor": 0
      },
      "text/plain": [
       "Epoch 14/50:   0%|          | 0/229 [00:00<?, ?it/s]"
      ]
     },
     "metadata": {},
     "output_type": "display_data"
    },
    {
     "name": "stdout",
     "output_type": "stream",
     "text": [
      "\n",
      "Epoch 14: New best F1-score: 0.8199\n",
      "Accuracy: 0.8257, Precision: 0.8284, Recall: 0.8257\n",
      "Saving checkpoint to C:\\Users\\PC\\lavar\\audiotwin_checkpoints_medium\\training_checkpoints\\PestLarvaNet_AudioTwin_Run_2_data_100.0percent.pth\n"
     ]
    },
    {
     "data": {
      "application/vnd.jupyter.widget-view+json": {
       "model_id": "5d7219e52df6419bbe04e0a2c0cd54ad",
       "version_major": 2,
       "version_minor": 0
      },
      "text/plain": [
       "Epoch 15/50:   0%|          | 0/229 [00:00<?, ?it/s]"
      ]
     },
     "metadata": {},
     "output_type": "display_data"
    },
    {
     "data": {
      "application/vnd.jupyter.widget-view+json": {
       "model_id": "a037bf01bc884e309328987987e50ab8",
       "version_major": 2,
       "version_minor": 0
      },
      "text/plain": [
       "Epoch 16/50:   0%|          | 0/229 [00:00<?, ?it/s]"
      ]
     },
     "metadata": {},
     "output_type": "display_data"
    },
    {
     "data": {
      "application/vnd.jupyter.widget-view+json": {
       "model_id": "052eea84062a46ab844bfa9039e46c09",
       "version_major": 2,
       "version_minor": 0
      },
      "text/plain": [
       "Epoch 17/50:   0%|          | 0/229 [00:00<?, ?it/s]"
      ]
     },
     "metadata": {},
     "output_type": "display_data"
    },
    {
     "data": {
      "application/vnd.jupyter.widget-view+json": {
       "model_id": "768b3c7b75d441aba181ffc725c3cafd",
       "version_major": 2,
       "version_minor": 0
      },
      "text/plain": [
       "Epoch 18/50:   0%|          | 0/229 [00:00<?, ?it/s]"
      ]
     },
     "metadata": {},
     "output_type": "display_data"
    },
    {
     "data": {
      "application/vnd.jupyter.widget-view+json": {
       "model_id": "547fe8d984ef4d5ea6853ebcd1e9f0bd",
       "version_major": 2,
       "version_minor": 0
      },
      "text/plain": [
       "Epoch 19/50:   0%|          | 0/229 [00:00<?, ?it/s]"
      ]
     },
     "metadata": {},
     "output_type": "display_data"
    },
    {
     "name": "stdout",
     "output_type": "stream",
     "text": [
      "\n",
      "Epoch 19: New best F1-score: 0.8533\n",
      "Accuracy: 0.8574, Precision: 0.8593, Recall: 0.8574\n",
      "Saving checkpoint to C:\\Users\\PC\\lavar\\audiotwin_checkpoints_medium\\training_checkpoints\\PestLarvaNet_AudioTwin_Run_2_data_100.0percent.pth\n"
     ]
    },
    {
     "data": {
      "application/vnd.jupyter.widget-view+json": {
       "model_id": "e4a5c6ed0b314e97939d1bcdb3c68406",
       "version_major": 2,
       "version_minor": 0
      },
      "text/plain": [
       "Epoch 20/50:   0%|          | 0/229 [00:00<?, ?it/s]"
      ]
     },
     "metadata": {},
     "output_type": "display_data"
    },
    {
     "data": {
      "application/vnd.jupyter.widget-view+json": {
       "model_id": "96470082dba04af48f62514e4204c89e",
       "version_major": 2,
       "version_minor": 0
      },
      "text/plain": [
       "Epoch 21/50:   0%|          | 0/229 [00:00<?, ?it/s]"
      ]
     },
     "metadata": {},
     "output_type": "display_data"
    },
    {
     "data": {
      "application/vnd.jupyter.widget-view+json": {
       "model_id": "7df33f4aed3c43a38a765478c8539eb1",
       "version_major": 2,
       "version_minor": 0
      },
      "text/plain": [
       "Epoch 22/50:   0%|          | 0/229 [00:00<?, ?it/s]"
      ]
     },
     "metadata": {},
     "output_type": "display_data"
    },
    {
     "data": {
      "application/vnd.jupyter.widget-view+json": {
       "model_id": "3365f3f2dba345f8b076bcdef236551a",
       "version_major": 2,
       "version_minor": 0
      },
      "text/plain": [
       "Epoch 23/50:   0%|          | 0/229 [00:00<?, ?it/s]"
      ]
     },
     "metadata": {},
     "output_type": "display_data"
    },
    {
     "name": "stdout",
     "output_type": "stream",
     "text": [
      "\n",
      "Epoch 23: New best F1-score: 0.8755\n",
      "Accuracy: 0.8760, Precision: 0.8827, Recall: 0.8760\n",
      "Saving checkpoint to C:\\Users\\PC\\lavar\\audiotwin_checkpoints_medium\\training_checkpoints\\PestLarvaNet_AudioTwin_Run_2_data_100.0percent.pth\n"
     ]
    },
    {
     "data": {
      "application/vnd.jupyter.widget-view+json": {
       "model_id": "4a4550bd222448de827fc03608902ecc",
       "version_major": 2,
       "version_minor": 0
      },
      "text/plain": [
       "Epoch 24/50:   0%|          | 0/229 [00:00<?, ?it/s]"
      ]
     },
     "metadata": {},
     "output_type": "display_data"
    },
    {
     "data": {
      "application/vnd.jupyter.widget-view+json": {
       "model_id": "db549618d2094492a6b31a082eae6bcf",
       "version_major": 2,
       "version_minor": 0
      },
      "text/plain": [
       "Epoch 25/50:   0%|          | 0/229 [00:00<?, ?it/s]"
      ]
     },
     "metadata": {},
     "output_type": "display_data"
    },
    {
     "data": {
      "application/vnd.jupyter.widget-view+json": {
       "model_id": "18048f62604e4bcaa1903bc25da5a5ca",
       "version_major": 2,
       "version_minor": 0
      },
      "text/plain": [
       "Epoch 26/50:   0%|          | 0/229 [00:00<?, ?it/s]"
      ]
     },
     "metadata": {},
     "output_type": "display_data"
    },
    {
     "data": {
      "application/vnd.jupyter.widget-view+json": {
       "model_id": "038de907f6c944d6b5e4e7537c731613",
       "version_major": 2,
       "version_minor": 0
      },
      "text/plain": [
       "Epoch 27/50:   0%|          | 0/229 [00:00<?, ?it/s]"
      ]
     },
     "metadata": {},
     "output_type": "display_data"
    },
    {
     "data": {
      "application/vnd.jupyter.widget-view+json": {
       "model_id": "c33026c8e6ef424fa46b50fd83382408",
       "version_major": 2,
       "version_minor": 0
      },
      "text/plain": [
       "Epoch 28/50:   0%|          | 0/229 [00:00<?, ?it/s]"
      ]
     },
     "metadata": {},
     "output_type": "display_data"
    },
    {
     "data": {
      "application/vnd.jupyter.widget-view+json": {
       "model_id": "f87452fc5e8940afad816663d322c6cf",
       "version_major": 2,
       "version_minor": 0
      },
      "text/plain": [
       "Epoch 29/50:   0%|          | 0/229 [00:00<?, ?it/s]"
      ]
     },
     "metadata": {},
     "output_type": "display_data"
    },
    {
     "data": {
      "application/vnd.jupyter.widget-view+json": {
       "model_id": "8469b8e34f614b4a83cf886b6613abcb",
       "version_major": 2,
       "version_minor": 0
      },
      "text/plain": [
       "Epoch 30/50:   0%|          | 0/229 [00:00<?, ?it/s]"
      ]
     },
     "metadata": {},
     "output_type": "display_data"
    },
    {
     "name": "stdout",
     "output_type": "stream",
     "text": [
      "\n",
      "Epoch 30: New best F1-score: 0.9002\n",
      "Accuracy: 0.9016, Precision: 0.9054, Recall: 0.9016\n",
      "Saving checkpoint to C:\\Users\\PC\\lavar\\audiotwin_checkpoints_medium\\training_checkpoints\\PestLarvaNet_AudioTwin_Run_2_data_100.0percent.pth\n"
     ]
    },
    {
     "data": {
      "application/vnd.jupyter.widget-view+json": {
       "model_id": "2e93460ae6a340f3a54c57a49f1f5335",
       "version_major": 2,
       "version_minor": 0
      },
      "text/plain": [
       "Epoch 31/50:   0%|          | 0/229 [00:00<?, ?it/s]"
      ]
     },
     "metadata": {},
     "output_type": "display_data"
    },
    {
     "name": "stdout",
     "output_type": "stream",
     "text": [
      "\n",
      "Epoch 31: New best F1-score: 0.9018\n",
      "Accuracy: 0.9033, Precision: 0.9024, Recall: 0.9033\n",
      "Saving checkpoint to C:\\Users\\PC\\lavar\\audiotwin_checkpoints_medium\\training_checkpoints\\PestLarvaNet_AudioTwin_Run_2_data_100.0percent.pth\n"
     ]
    },
    {
     "data": {
      "application/vnd.jupyter.widget-view+json": {
       "model_id": "a8cd7bb20278478ab9fc9820aabad07c",
       "version_major": 2,
       "version_minor": 0
      },
      "text/plain": [
       "Epoch 32/50:   0%|          | 0/229 [00:00<?, ?it/s]"
      ]
     },
     "metadata": {},
     "output_type": "display_data"
    },
    {
     "name": "stdout",
     "output_type": "stream",
     "text": [
      "\n",
      "Epoch 32: New best F1-score: 0.9076\n",
      "Accuracy: 0.9098, Precision: 0.9106, Recall: 0.9098\n",
      "Saving checkpoint to C:\\Users\\PC\\lavar\\audiotwin_checkpoints_medium\\training_checkpoints\\PestLarvaNet_AudioTwin_Run_2_data_100.0percent.pth\n"
     ]
    },
    {
     "data": {
      "application/vnd.jupyter.widget-view+json": {
       "model_id": "eec558da9a09466483d5c99b7510fafc",
       "version_major": 2,
       "version_minor": 0
      },
      "text/plain": [
       "Epoch 33/50:   0%|          | 0/229 [00:00<?, ?it/s]"
      ]
     },
     "metadata": {},
     "output_type": "display_data"
    },
    {
     "data": {
      "application/vnd.jupyter.widget-view+json": {
       "model_id": "22c8b99071af434b9612390998b33ac6",
       "version_major": 2,
       "version_minor": 0
      },
      "text/plain": [
       "Epoch 34/50:   0%|          | 0/229 [00:00<?, ?it/s]"
      ]
     },
     "metadata": {},
     "output_type": "display_data"
    },
    {
     "data": {
      "application/vnd.jupyter.widget-view+json": {
       "model_id": "7ae7414a073b49cc98fe649bc8894e8e",
       "version_major": 2,
       "version_minor": 0
      },
      "text/plain": [
       "Epoch 35/50:   0%|          | 0/229 [00:00<?, ?it/s]"
      ]
     },
     "metadata": {},
     "output_type": "display_data"
    },
    {
     "data": {
      "application/vnd.jupyter.widget-view+json": {
       "model_id": "5e9646fa1d084b1d9ff050ca6c7fd052",
       "version_major": 2,
       "version_minor": 0
      },
      "text/plain": [
       "Epoch 36/50:   0%|          | 0/229 [00:00<?, ?it/s]"
      ]
     },
     "metadata": {},
     "output_type": "display_data"
    },
    {
     "name": "stdout",
     "output_type": "stream",
     "text": [
      "\n",
      "Epoch 36: New best F1-score: 0.9132\n",
      "Accuracy: 0.9142, Precision: 0.9142, Recall: 0.9142\n",
      "Saving checkpoint to C:\\Users\\PC\\lavar\\audiotwin_checkpoints_medium\\training_checkpoints\\PestLarvaNet_AudioTwin_Run_2_data_100.0percent.pth\n"
     ]
    },
    {
     "data": {
      "application/vnd.jupyter.widget-view+json": {
       "model_id": "30819665dc934c29a9e95a9ed4121599",
       "version_major": 2,
       "version_minor": 0
      },
      "text/plain": [
       "Epoch 37/50:   0%|          | 0/229 [00:00<?, ?it/s]"
      ]
     },
     "metadata": {},
     "output_type": "display_data"
    },
    {
     "data": {
      "application/vnd.jupyter.widget-view+json": {
       "model_id": "9674c5ac518c4821ad0b2a2fb3ab2c0f",
       "version_major": 2,
       "version_minor": 0
      },
      "text/plain": [
       "Epoch 38/50:   0%|          | 0/229 [00:00<?, ?it/s]"
      ]
     },
     "metadata": {},
     "output_type": "display_data"
    },
    {
     "data": {
      "application/vnd.jupyter.widget-view+json": {
       "model_id": "84c2772139db4b139f023c31f74556eb",
       "version_major": 2,
       "version_minor": 0
      },
      "text/plain": [
       "Epoch 39/50:   0%|          | 0/229 [00:00<?, ?it/s]"
      ]
     },
     "metadata": {},
     "output_type": "display_data"
    },
    {
     "data": {
      "application/vnd.jupyter.widget-view+json": {
       "model_id": "9aef41acbe144e8aac74640efbc381bb",
       "version_major": 2,
       "version_minor": 0
      },
      "text/plain": [
       "Epoch 40/50:   0%|          | 0/229 [00:00<?, ?it/s]"
      ]
     },
     "metadata": {},
     "output_type": "display_data"
    },
    {
     "data": {
      "application/vnd.jupyter.widget-view+json": {
       "model_id": "f719942f797b408aaa9256a1f9797bf6",
       "version_major": 2,
       "version_minor": 0
      },
      "text/plain": [
       "Epoch 41/50:   0%|          | 0/229 [00:00<?, ?it/s]"
      ]
     },
     "metadata": {},
     "output_type": "display_data"
    },
    {
     "name": "stdout",
     "output_type": "stream",
     "text": [
      "\n",
      "Epoch 41: New best F1-score: 0.9142\n",
      "Accuracy: 0.9158, Precision: 0.9169, Recall: 0.9158\n",
      "Saving checkpoint to C:\\Users\\PC\\lavar\\audiotwin_checkpoints_medium\\training_checkpoints\\PestLarvaNet_AudioTwin_Run_2_data_100.0percent.pth\n"
     ]
    },
    {
     "data": {
      "application/vnd.jupyter.widget-view+json": {
       "model_id": "3ccc519171584a6687efa4c71a412e74",
       "version_major": 2,
       "version_minor": 0
      },
      "text/plain": [
       "Epoch 42/50:   0%|          | 0/229 [00:00<?, ?it/s]"
      ]
     },
     "metadata": {},
     "output_type": "display_data"
    },
    {
     "data": {
      "application/vnd.jupyter.widget-view+json": {
       "model_id": "b376f835c8f249a4a8ba12e1eaaa85b3",
       "version_major": 2,
       "version_minor": 0
      },
      "text/plain": [
       "Epoch 43/50:   0%|          | 0/229 [00:00<?, ?it/s]"
      ]
     },
     "metadata": {},
     "output_type": "display_data"
    },
    {
     "name": "stdout",
     "output_type": "stream",
     "text": [
      "\n",
      "Epoch 43: New best F1-score: 0.9153\n",
      "Accuracy: 0.9164, Precision: 0.9166, Recall: 0.9164\n",
      "Saving checkpoint to C:\\Users\\PC\\lavar\\audiotwin_checkpoints_medium\\training_checkpoints\\PestLarvaNet_AudioTwin_Run_2_data_100.0percent.pth\n"
     ]
    },
    {
     "data": {
      "application/vnd.jupyter.widget-view+json": {
       "model_id": "889070d212274cf9ae7519b976e19860",
       "version_major": 2,
       "version_minor": 0
      },
      "text/plain": [
       "Epoch 44/50:   0%|          | 0/229 [00:00<?, ?it/s]"
      ]
     },
     "metadata": {},
     "output_type": "display_data"
    },
    {
     "name": "stdout",
     "output_type": "stream",
     "text": [
      "\n",
      "Epoch 44: New best F1-score: 0.9203\n",
      "Accuracy: 0.9213, Precision: 0.9212, Recall: 0.9213\n",
      "Saving checkpoint to C:\\Users\\PC\\lavar\\audiotwin_checkpoints_medium\\training_checkpoints\\PestLarvaNet_AudioTwin_Run_2_data_100.0percent.pth\n"
     ]
    },
    {
     "data": {
      "application/vnd.jupyter.widget-view+json": {
       "model_id": "7f185ffb16a64b3aac5527ed80ae9f3c",
       "version_major": 2,
       "version_minor": 0
      },
      "text/plain": [
       "Epoch 45/50:   0%|          | 0/229 [00:00<?, ?it/s]"
      ]
     },
     "metadata": {},
     "output_type": "display_data"
    },
    {
     "data": {
      "application/vnd.jupyter.widget-view+json": {
       "model_id": "515e19139fc442ea8ad91e313d277061",
       "version_major": 2,
       "version_minor": 0
      },
      "text/plain": [
       "Epoch 46/50:   0%|          | 0/229 [00:00<?, ?it/s]"
      ]
     },
     "metadata": {},
     "output_type": "display_data"
    },
    {
     "data": {
      "application/vnd.jupyter.widget-view+json": {
       "model_id": "f33c54d132a249bdac814598d525ced1",
       "version_major": 2,
       "version_minor": 0
      },
      "text/plain": [
       "Epoch 47/50:   0%|          | 0/229 [00:00<?, ?it/s]"
      ]
     },
     "metadata": {},
     "output_type": "display_data"
    },
    {
     "data": {
      "application/vnd.jupyter.widget-view+json": {
       "model_id": "f6dba1c0cad84f0a8df4a1e6e6d6cf4f",
       "version_major": 2,
       "version_minor": 0
      },
      "text/plain": [
       "Epoch 48/50:   0%|          | 0/229 [00:00<?, ?it/s]"
      ]
     },
     "metadata": {},
     "output_type": "display_data"
    },
    {
     "data": {
      "application/vnd.jupyter.widget-view+json": {
       "model_id": "d237f0ecbd2b4ab4b490112702d780dd",
       "version_major": 2,
       "version_minor": 0
      },
      "text/plain": [
       "Epoch 49/50:   0%|          | 0/229 [00:00<?, ?it/s]"
      ]
     },
     "metadata": {},
     "output_type": "display_data"
    },
    {
     "name": "stdout",
     "output_type": "stream",
     "text": [
      "\n",
      "Epoch 49: New best F1-score: 0.9233\n",
      "Accuracy: 0.9246, Precision: 0.9244, Recall: 0.9246\n",
      "Saving checkpoint to C:\\Users\\PC\\lavar\\audiotwin_checkpoints_medium\\training_checkpoints\\PestLarvaNet_AudioTwin_Run_2_data_100.0percent.pth\n"
     ]
    },
    {
     "data": {
      "application/vnd.jupyter.widget-view+json": {
       "model_id": "5f251aea633d44bfbf49e26be5d8814c",
       "version_major": 2,
       "version_minor": 0
      },
      "text/plain": [
       "Epoch 50/50:   0%|          | 0/229 [00:00<?, ?it/s]"
      ]
     },
     "metadata": {},
     "output_type": "display_data"
    },
    {
     "name": "stdout",
     "output_type": "stream",
     "text": [
      "\n",
      "Epoch 50: New best F1-score: 0.9237\n",
      "Accuracy: 0.9240, Precision: 0.9272, Recall: 0.9240\n",
      "Saving checkpoint to C:\\Users\\PC\\lavar\\audiotwin_checkpoints_medium\\training_checkpoints\\PestLarvaNet_AudioTwin_Run_2_data_100.0percent.pth\n",
      "Finished Training for this run. Best F1-score: 0.9237\n",
      "==> Results with 100.0% data: Best F1-Score = 0.9237\n",
      "\n",
      "==================== Evaluating: PestLarvaNet (AudioTwin Run 3) ====================\n",
      "--- Training with 25.0% of labeled data ---\n",
      "Loading pretrained weights from: C:\\Users\\PC\\lavar\\audiotwin_checkpoints_medium\\run_3_lp1e-03_ep1e-06_lb0.005_audiotwin_pestlarvanet_medium_epoch_100.pth\n"
     ]
    },
    {
     "name": "stderr",
     "output_type": "stream",
     "text": [
      "C:\\Users\\PC\\anaconda3\\envs\\train_env\\lib\\site-packages\\torch\\optim\\lr_scheduler.py:62: UserWarning: The verbose parameter is deprecated. Please use get_last_lr() to access the learning rate.\n",
      "  warnings.warn(\n"
     ]
    },
    {
     "data": {
      "application/vnd.jupyter.widget-view+json": {
       "model_id": "df3aa02faa13402397caf8c4eec8210d",
       "version_major": 2,
       "version_minor": 0
      },
      "text/plain": [
       "Epoch 1/50:   0%|          | 0/58 [00:00<?, ?it/s]"
      ]
     },
     "metadata": {},
     "output_type": "display_data"
    },
    {
     "name": "stdout",
     "output_type": "stream",
     "text": [
      "\n",
      "Epoch 1: New best F1-score: 0.5315\n",
      "Accuracy: 0.6016, Precision: 0.5543, Recall: 0.6016\n",
      "Saving checkpoint to C:\\Users\\PC\\lavar\\audiotwin_checkpoints_medium\\training_checkpoints\\PestLarvaNet_AudioTwin_Run_3_data_25.0percent.pth\n"
     ]
    },
    {
     "data": {
      "application/vnd.jupyter.widget-view+json": {
       "model_id": "4c24008c5ebb4459903cafb893374dac",
       "version_major": 2,
       "version_minor": 0
      },
      "text/plain": [
       "Epoch 2/50:   0%|          | 0/58 [00:00<?, ?it/s]"
      ]
     },
     "metadata": {},
     "output_type": "display_data"
    },
    {
     "name": "stdout",
     "output_type": "stream",
     "text": [
      "\n",
      "Epoch 2: New best F1-score: 0.5326\n",
      "Accuracy: 0.6126, Precision: 0.5517, Recall: 0.6126\n",
      "Saving checkpoint to C:\\Users\\PC\\lavar\\audiotwin_checkpoints_medium\\training_checkpoints\\PestLarvaNet_AudioTwin_Run_3_data_25.0percent.pth\n"
     ]
    },
    {
     "data": {
      "application/vnd.jupyter.widget-view+json": {
       "model_id": "90f7063d4533470fad48510670568e0f",
       "version_major": 2,
       "version_minor": 0
      },
      "text/plain": [
       "Epoch 3/50:   0%|          | 0/58 [00:00<?, ?it/s]"
      ]
     },
     "metadata": {},
     "output_type": "display_data"
    },
    {
     "name": "stdout",
     "output_type": "stream",
     "text": [
      "\n",
      "Epoch 3: New best F1-score: 0.5560\n",
      "Accuracy: 0.6383, Precision: 0.5284, Recall: 0.6383\n",
      "Saving checkpoint to C:\\Users\\PC\\lavar\\audiotwin_checkpoints_medium\\training_checkpoints\\PestLarvaNet_AudioTwin_Run_3_data_25.0percent.pth\n"
     ]
    },
    {
     "data": {
      "application/vnd.jupyter.widget-view+json": {
       "model_id": "e80e8d2ae1494c6f846003f5b1874520",
       "version_major": 2,
       "version_minor": 0
      },
      "text/plain": [
       "Epoch 4/50:   0%|          | 0/58 [00:00<?, ?it/s]"
      ]
     },
     "metadata": {},
     "output_type": "display_data"
    },
    {
     "name": "stdout",
     "output_type": "stream",
     "text": [
      "\n",
      "Epoch 4: New best F1-score: 0.5608\n",
      "Accuracy: 0.6350, Precision: 0.5707, Recall: 0.6350\n",
      "Saving checkpoint to C:\\Users\\PC\\lavar\\audiotwin_checkpoints_medium\\training_checkpoints\\PestLarvaNet_AudioTwin_Run_3_data_25.0percent.pth\n"
     ]
    },
    {
     "data": {
      "application/vnd.jupyter.widget-view+json": {
       "model_id": "3f898426284947c281dadeb56b1f8266",
       "version_major": 2,
       "version_minor": 0
      },
      "text/plain": [
       "Epoch 5/50:   0%|          | 0/58 [00:00<?, ?it/s]"
      ]
     },
     "metadata": {},
     "output_type": "display_data"
    },
    {
     "data": {
      "application/vnd.jupyter.widget-view+json": {
       "model_id": "0074b2d998304be9a513768ff7cbe933",
       "version_major": 2,
       "version_minor": 0
      },
      "text/plain": [
       "Epoch 6/50:   0%|          | 0/58 [00:00<?, ?it/s]"
      ]
     },
     "metadata": {},
     "output_type": "display_data"
    },
    {
     "data": {
      "application/vnd.jupyter.widget-view+json": {
       "model_id": "24913f2eea3d479da424d4f3b540a289",
       "version_major": 2,
       "version_minor": 0
      },
      "text/plain": [
       "Epoch 7/50:   0%|          | 0/58 [00:00<?, ?it/s]"
      ]
     },
     "metadata": {},
     "output_type": "display_data"
    },
    {
     "name": "stdout",
     "output_type": "stream",
     "text": [
      "\n",
      "Epoch 7: New best F1-score: 0.5746\n",
      "Accuracy: 0.6481, Precision: 0.6065, Recall: 0.6481\n",
      "Saving checkpoint to C:\\Users\\PC\\lavar\\audiotwin_checkpoints_medium\\training_checkpoints\\PestLarvaNet_AudioTwin_Run_3_data_25.0percent.pth\n"
     ]
    },
    {
     "data": {
      "application/vnd.jupyter.widget-view+json": {
       "model_id": "5d02ec6e46834c30965b3900ea3cfe14",
       "version_major": 2,
       "version_minor": 0
      },
      "text/plain": [
       "Epoch 8/50:   0%|          | 0/58 [00:00<?, ?it/s]"
      ]
     },
     "metadata": {},
     "output_type": "display_data"
    },
    {
     "data": {
      "application/vnd.jupyter.widget-view+json": {
       "model_id": "0aea776555a94f1eb6f7a5ff09e87576",
       "version_major": 2,
       "version_minor": 0
      },
      "text/plain": [
       "Epoch 9/50:   0%|          | 0/58 [00:00<?, ?it/s]"
      ]
     },
     "metadata": {},
     "output_type": "display_data"
    },
    {
     "data": {
      "application/vnd.jupyter.widget-view+json": {
       "model_id": "4414c6d97b014cdda8e541ea535c1f41",
       "version_major": 2,
       "version_minor": 0
      },
      "text/plain": [
       "Epoch 10/50:   0%|          | 0/58 [00:00<?, ?it/s]"
      ]
     },
     "metadata": {},
     "output_type": "display_data"
    },
    {
     "data": {
      "application/vnd.jupyter.widget-view+json": {
       "model_id": "60eede01932e4c9c8100d4556bcd07e4",
       "version_major": 2,
       "version_minor": 0
      },
      "text/plain": [
       "Epoch 11/50:   0%|          | 0/58 [00:00<?, ?it/s]"
      ]
     },
     "metadata": {},
     "output_type": "display_data"
    },
    {
     "data": {
      "application/vnd.jupyter.widget-view+json": {
       "model_id": "b22091035bc84658a150a1f6c6dcf442",
       "version_major": 2,
       "version_minor": 0
      },
      "text/plain": [
       "Epoch 12/50:   0%|          | 0/58 [00:00<?, ?it/s]"
      ]
     },
     "metadata": {},
     "output_type": "display_data"
    },
    {
     "name": "stdout",
     "output_type": "stream",
     "text": [
      "\n",
      "Epoch 12: New best F1-score: 0.5794\n",
      "Accuracy: 0.6503, Precision: 0.6376, Recall: 0.6503\n",
      "Saving checkpoint to C:\\Users\\PC\\lavar\\audiotwin_checkpoints_medium\\training_checkpoints\\PestLarvaNet_AudioTwin_Run_3_data_25.0percent.pth\n"
     ]
    },
    {
     "data": {
      "application/vnd.jupyter.widget-view+json": {
       "model_id": "73c88840939e4284a6aa5ffa36b6d055",
       "version_major": 2,
       "version_minor": 0
      },
      "text/plain": [
       "Epoch 13/50:   0%|          | 0/58 [00:00<?, ?it/s]"
      ]
     },
     "metadata": {},
     "output_type": "display_data"
    },
    {
     "data": {
      "application/vnd.jupyter.widget-view+json": {
       "model_id": "7b30de13729f42ae99c40d4ad873b3e9",
       "version_major": 2,
       "version_minor": 0
      },
      "text/plain": [
       "Epoch 14/50:   0%|          | 0/58 [00:00<?, ?it/s]"
      ]
     },
     "metadata": {},
     "output_type": "display_data"
    },
    {
     "data": {
      "application/vnd.jupyter.widget-view+json": {
       "model_id": "240d82da0b33454dbfe14ace71560b08",
       "version_major": 2,
       "version_minor": 0
      },
      "text/plain": [
       "Epoch 15/50:   0%|          | 0/58 [00:00<?, ?it/s]"
      ]
     },
     "metadata": {},
     "output_type": "display_data"
    },
    {
     "data": {
      "application/vnd.jupyter.widget-view+json": {
       "model_id": "61c0320acc064a8ab28069610a9ad084",
       "version_major": 2,
       "version_minor": 0
      },
      "text/plain": [
       "Epoch 16/50:   0%|          | 0/58 [00:00<?, ?it/s]"
      ]
     },
     "metadata": {},
     "output_type": "display_data"
    },
    {
     "data": {
      "application/vnd.jupyter.widget-view+json": {
       "model_id": "dd3f6fb22117497c9c7c387ffcf10d44",
       "version_major": 2,
       "version_minor": 0
      },
      "text/plain": [
       "Epoch 17/50:   0%|          | 0/58 [00:00<?, ?it/s]"
      ]
     },
     "metadata": {},
     "output_type": "display_data"
    },
    {
     "data": {
      "application/vnd.jupyter.widget-view+json": {
       "model_id": "60d9355f28de4377a53d6a8de9927eb6",
       "version_major": 2,
       "version_minor": 0
      },
      "text/plain": [
       "Epoch 18/50:   0%|          | 0/58 [00:00<?, ?it/s]"
      ]
     },
     "metadata": {},
     "output_type": "display_data"
    },
    {
     "data": {
      "application/vnd.jupyter.widget-view+json": {
       "model_id": "3097defbb55f45c8be4c7dbafa7763e7",
       "version_major": 2,
       "version_minor": 0
      },
      "text/plain": [
       "Epoch 19/50:   0%|          | 0/58 [00:00<?, ?it/s]"
      ]
     },
     "metadata": {},
     "output_type": "display_data"
    },
    {
     "name": "stdout",
     "output_type": "stream",
     "text": [
      "\n",
      "Epoch 19: New best F1-score: 0.5853\n",
      "Accuracy: 0.6579, Precision: 0.6170, Recall: 0.6579\n",
      "Saving checkpoint to C:\\Users\\PC\\lavar\\audiotwin_checkpoints_medium\\training_checkpoints\\PestLarvaNet_AudioTwin_Run_3_data_25.0percent.pth\n"
     ]
    },
    {
     "data": {
      "application/vnd.jupyter.widget-view+json": {
       "model_id": "1444915a9c3d4b469c1ecd0bcb45440e",
       "version_major": 2,
       "version_minor": 0
      },
      "text/plain": [
       "Epoch 20/50:   0%|          | 0/58 [00:00<?, ?it/s]"
      ]
     },
     "metadata": {},
     "output_type": "display_data"
    },
    {
     "data": {
      "application/vnd.jupyter.widget-view+json": {
       "model_id": "3a8aa42c4bff4c15a526b5209d6df106",
       "version_major": 2,
       "version_minor": 0
      },
      "text/plain": [
       "Epoch 21/50:   0%|          | 0/58 [00:00<?, ?it/s]"
      ]
     },
     "metadata": {},
     "output_type": "display_data"
    },
    {
     "data": {
      "application/vnd.jupyter.widget-view+json": {
       "model_id": "e7d4de3138844f039ad8005782ed4fab",
       "version_major": 2,
       "version_minor": 0
      },
      "text/plain": [
       "Epoch 22/50:   0%|          | 0/58 [00:00<?, ?it/s]"
      ]
     },
     "metadata": {},
     "output_type": "display_data"
    },
    {
     "name": "stdout",
     "output_type": "stream",
     "text": [
      "\n",
      "Epoch 22: New best F1-score: 0.5958\n",
      "Accuracy: 0.6585, Precision: 0.6553, Recall: 0.6585\n",
      "Saving checkpoint to C:\\Users\\PC\\lavar\\audiotwin_checkpoints_medium\\training_checkpoints\\PestLarvaNet_AudioTwin_Run_3_data_25.0percent.pth\n"
     ]
    },
    {
     "data": {
      "application/vnd.jupyter.widget-view+json": {
       "model_id": "59dc4976300a4be5aef589ef6e616484",
       "version_major": 2,
       "version_minor": 0
      },
      "text/plain": [
       "Epoch 23/50:   0%|          | 0/58 [00:00<?, ?it/s]"
      ]
     },
     "metadata": {},
     "output_type": "display_data"
    },
    {
     "data": {
      "application/vnd.jupyter.widget-view+json": {
       "model_id": "aa912fb05afc4e3eb11075547c6c4045",
       "version_major": 2,
       "version_minor": 0
      },
      "text/plain": [
       "Epoch 24/50:   0%|          | 0/58 [00:00<?, ?it/s]"
      ]
     },
     "metadata": {},
     "output_type": "display_data"
    },
    {
     "name": "stdout",
     "output_type": "stream",
     "text": [
      "\n",
      "Epoch 24: New best F1-score: 0.5979\n",
      "Accuracy: 0.6628, Precision: 0.6230, Recall: 0.6628\n",
      "Saving checkpoint to C:\\Users\\PC\\lavar\\audiotwin_checkpoints_medium\\training_checkpoints\\PestLarvaNet_AudioTwin_Run_3_data_25.0percent.pth\n"
     ]
    },
    {
     "data": {
      "application/vnd.jupyter.widget-view+json": {
       "model_id": "a3b692eb21f34f69b023cea600f129d9",
       "version_major": 2,
       "version_minor": 0
      },
      "text/plain": [
       "Epoch 25/50:   0%|          | 0/58 [00:00<?, ?it/s]"
      ]
     },
     "metadata": {},
     "output_type": "display_data"
    },
    {
     "data": {
      "application/vnd.jupyter.widget-view+json": {
       "model_id": "25971022f598444e9c150669add9ecc3",
       "version_major": 2,
       "version_minor": 0
      },
      "text/plain": [
       "Epoch 26/50:   0%|          | 0/58 [00:00<?, ?it/s]"
      ]
     },
     "metadata": {},
     "output_type": "display_data"
    },
    {
     "name": "stdout",
     "output_type": "stream",
     "text": [
      "\n",
      "Epoch 26: New best F1-score: 0.6164\n",
      "Accuracy: 0.6650, Precision: 0.6782, Recall: 0.6650\n",
      "Saving checkpoint to C:\\Users\\PC\\lavar\\audiotwin_checkpoints_medium\\training_checkpoints\\PestLarvaNet_AudioTwin_Run_3_data_25.0percent.pth\n"
     ]
    },
    {
     "data": {
      "application/vnd.jupyter.widget-view+json": {
       "model_id": "a78acac36de249c78b5e9f5348c257e6",
       "version_major": 2,
       "version_minor": 0
      },
      "text/plain": [
       "Epoch 27/50:   0%|          | 0/58 [00:00<?, ?it/s]"
      ]
     },
     "metadata": {},
     "output_type": "display_data"
    },
    {
     "name": "stdout",
     "output_type": "stream",
     "text": [
      "\n",
      "Epoch 27: New best F1-score: 0.6172\n",
      "Accuracy: 0.6650, Precision: 0.6946, Recall: 0.6650\n",
      "Saving checkpoint to C:\\Users\\PC\\lavar\\audiotwin_checkpoints_medium\\training_checkpoints\\PestLarvaNet_AudioTwin_Run_3_data_25.0percent.pth\n"
     ]
    },
    {
     "data": {
      "application/vnd.jupyter.widget-view+json": {
       "model_id": "25e36772933a48d8838e77db1784faf7",
       "version_major": 2,
       "version_minor": 0
      },
      "text/plain": [
       "Epoch 28/50:   0%|          | 0/58 [00:00<?, ?it/s]"
      ]
     },
     "metadata": {},
     "output_type": "display_data"
    },
    {
     "data": {
      "application/vnd.jupyter.widget-view+json": {
       "model_id": "691a897cf06a4838a494e3bfa881770d",
       "version_major": 2,
       "version_minor": 0
      },
      "text/plain": [
       "Epoch 29/50:   0%|          | 0/58 [00:00<?, ?it/s]"
      ]
     },
     "metadata": {},
     "output_type": "display_data"
    },
    {
     "data": {
      "application/vnd.jupyter.widget-view+json": {
       "model_id": "a4708dfc398e4cf49cc4b0d06c06e5c6",
       "version_major": 2,
       "version_minor": 0
      },
      "text/plain": [
       "Epoch 30/50:   0%|          | 0/58 [00:00<?, ?it/s]"
      ]
     },
     "metadata": {},
     "output_type": "display_data"
    },
    {
     "data": {
      "application/vnd.jupyter.widget-view+json": {
       "model_id": "f8a9a3a0132346e29889de1af12c2b15",
       "version_major": 2,
       "version_minor": 0
      },
      "text/plain": [
       "Epoch 31/50:   0%|          | 0/58 [00:00<?, ?it/s]"
      ]
     },
     "metadata": {},
     "output_type": "display_data"
    },
    {
     "data": {
      "application/vnd.jupyter.widget-view+json": {
       "model_id": "ee148beee4344225a828135875f63d1e",
       "version_major": 2,
       "version_minor": 0
      },
      "text/plain": [
       "Epoch 32/50:   0%|          | 0/58 [00:00<?, ?it/s]"
      ]
     },
     "metadata": {},
     "output_type": "display_data"
    },
    {
     "data": {
      "application/vnd.jupyter.widget-view+json": {
       "model_id": "260a979741b047668eb27911d09b3ea1",
       "version_major": 2,
       "version_minor": 0
      },
      "text/plain": [
       "Epoch 33/50:   0%|          | 0/58 [00:00<?, ?it/s]"
      ]
     },
     "metadata": {},
     "output_type": "display_data"
    },
    {
     "data": {
      "application/vnd.jupyter.widget-view+json": {
       "model_id": "ad8e6c7fbf6e413aaee9612819eef555",
       "version_major": 2,
       "version_minor": 0
      },
      "text/plain": [
       "Epoch 34/50:   0%|          | 0/58 [00:00<?, ?it/s]"
      ]
     },
     "metadata": {},
     "output_type": "display_data"
    },
    {
     "name": "stdout",
     "output_type": "stream",
     "text": [
      "\n",
      "Epoch 34: New best F1-score: 0.6277\n",
      "Accuracy: 0.6716, Precision: 0.6577, Recall: 0.6716\n",
      "Saving checkpoint to C:\\Users\\PC\\lavar\\audiotwin_checkpoints_medium\\training_checkpoints\\PestLarvaNet_AudioTwin_Run_3_data_25.0percent.pth\n"
     ]
    },
    {
     "data": {
      "application/vnd.jupyter.widget-view+json": {
       "model_id": "6583914c5b6c4da793bd4d37c3e9ae83",
       "version_major": 2,
       "version_minor": 0
      },
      "text/plain": [
       "Epoch 35/50:   0%|          | 0/58 [00:00<?, ?it/s]"
      ]
     },
     "metadata": {},
     "output_type": "display_data"
    },
    {
     "data": {
      "application/vnd.jupyter.widget-view+json": {
       "model_id": "1ff29e385e82458a8a5397be2d8b6622",
       "version_major": 2,
       "version_minor": 0
      },
      "text/plain": [
       "Epoch 36/50:   0%|          | 0/58 [00:00<?, ?it/s]"
      ]
     },
     "metadata": {},
     "output_type": "display_data"
    },
    {
     "data": {
      "application/vnd.jupyter.widget-view+json": {
       "model_id": "17eb363ff92442e1ab3b19aae6721074",
       "version_major": 2,
       "version_minor": 0
      },
      "text/plain": [
       "Epoch 37/50:   0%|          | 0/58 [00:00<?, ?it/s]"
      ]
     },
     "metadata": {},
     "output_type": "display_data"
    },
    {
     "name": "stdout",
     "output_type": "stream",
     "text": [
      "\n",
      "Epoch 37: New best F1-score: 0.6293\n",
      "Accuracy: 0.6798, Precision: 0.6926, Recall: 0.6798\n",
      "Saving checkpoint to C:\\Users\\PC\\lavar\\audiotwin_checkpoints_medium\\training_checkpoints\\PestLarvaNet_AudioTwin_Run_3_data_25.0percent.pth\n"
     ]
    },
    {
     "data": {
      "application/vnd.jupyter.widget-view+json": {
       "model_id": "f7e35f7f72bb49348406f6b75cb1bcdb",
       "version_major": 2,
       "version_minor": 0
      },
      "text/plain": [
       "Epoch 38/50:   0%|          | 0/58 [00:00<?, ?it/s]"
      ]
     },
     "metadata": {},
     "output_type": "display_data"
    },
    {
     "data": {
      "application/vnd.jupyter.widget-view+json": {
       "model_id": "bfc8faa4dc954adebe602322a3724c7c",
       "version_major": 2,
       "version_minor": 0
      },
      "text/plain": [
       "Epoch 39/50:   0%|          | 0/58 [00:00<?, ?it/s]"
      ]
     },
     "metadata": {},
     "output_type": "display_data"
    },
    {
     "name": "stdout",
     "output_type": "stream",
     "text": [
      "\n",
      "Epoch 39: New best F1-score: 0.6311\n",
      "Accuracy: 0.6678, Precision: 0.6745, Recall: 0.6678\n",
      "Saving checkpoint to C:\\Users\\PC\\lavar\\audiotwin_checkpoints_medium\\training_checkpoints\\PestLarvaNet_AudioTwin_Run_3_data_25.0percent.pth\n"
     ]
    },
    {
     "data": {
      "application/vnd.jupyter.widget-view+json": {
       "model_id": "6955cf63dfba493fb766076439b2a36f",
       "version_major": 2,
       "version_minor": 0
      },
      "text/plain": [
       "Epoch 40/50:   0%|          | 0/58 [00:00<?, ?it/s]"
      ]
     },
     "metadata": {},
     "output_type": "display_data"
    },
    {
     "name": "stdout",
     "output_type": "stream",
     "text": [
      "\n",
      "Epoch 40: New best F1-score: 0.6686\n",
      "Accuracy: 0.6962, Precision: 0.6999, Recall: 0.6962\n",
      "Saving checkpoint to C:\\Users\\PC\\lavar\\audiotwin_checkpoints_medium\\training_checkpoints\\PestLarvaNet_AudioTwin_Run_3_data_25.0percent.pth\n"
     ]
    },
    {
     "data": {
      "application/vnd.jupyter.widget-view+json": {
       "model_id": "b0ae3d6bd8234e5bb0e22bcb24fab830",
       "version_major": 2,
       "version_minor": 0
      },
      "text/plain": [
       "Epoch 41/50:   0%|          | 0/58 [00:00<?, ?it/s]"
      ]
     },
     "metadata": {},
     "output_type": "display_data"
    },
    {
     "name": "stdout",
     "output_type": "stream",
     "text": [
      "\n",
      "Epoch 41: New best F1-score: 0.6691\n",
      "Accuracy: 0.6978, Precision: 0.7644, Recall: 0.6978\n",
      "Saving checkpoint to C:\\Users\\PC\\lavar\\audiotwin_checkpoints_medium\\training_checkpoints\\PestLarvaNet_AudioTwin_Run_3_data_25.0percent.pth\n"
     ]
    },
    {
     "data": {
      "application/vnd.jupyter.widget-view+json": {
       "model_id": "e423b45a234e4a9891f598d4eb9e149a",
       "version_major": 2,
       "version_minor": 0
      },
      "text/plain": [
       "Epoch 42/50:   0%|          | 0/58 [00:00<?, ?it/s]"
      ]
     },
     "metadata": {},
     "output_type": "display_data"
    },
    {
     "data": {
      "application/vnd.jupyter.widget-view+json": {
       "model_id": "89dd62310ed54820bd403e58545370c9",
       "version_major": 2,
       "version_minor": 0
      },
      "text/plain": [
       "Epoch 43/50:   0%|          | 0/58 [00:00<?, ?it/s]"
      ]
     },
     "metadata": {},
     "output_type": "display_data"
    },
    {
     "name": "stdout",
     "output_type": "stream",
     "text": [
      "\n",
      "Epoch 43: New best F1-score: 0.7063\n",
      "Accuracy: 0.7350, Precision: 0.7132, Recall: 0.7350\n",
      "Saving checkpoint to C:\\Users\\PC\\lavar\\audiotwin_checkpoints_medium\\training_checkpoints\\PestLarvaNet_AudioTwin_Run_3_data_25.0percent.pth\n"
     ]
    },
    {
     "data": {
      "application/vnd.jupyter.widget-view+json": {
       "model_id": "3c5e872cdac140b394ac8726b7b73693",
       "version_major": 2,
       "version_minor": 0
      },
      "text/plain": [
       "Epoch 44/50:   0%|          | 0/58 [00:00<?, ?it/s]"
      ]
     },
     "metadata": {},
     "output_type": "display_data"
    },
    {
     "data": {
      "application/vnd.jupyter.widget-view+json": {
       "model_id": "262eac326fd3408fae2c5709f949e07e",
       "version_major": 2,
       "version_minor": 0
      },
      "text/plain": [
       "Epoch 45/50:   0%|          | 0/58 [00:00<?, ?it/s]"
      ]
     },
     "metadata": {},
     "output_type": "display_data"
    },
    {
     "data": {
      "application/vnd.jupyter.widget-view+json": {
       "model_id": "440c9069d64d491c8610ffa4774b44eb",
       "version_major": 2,
       "version_minor": 0
      },
      "text/plain": [
       "Epoch 46/50:   0%|          | 0/58 [00:00<?, ?it/s]"
      ]
     },
     "metadata": {},
     "output_type": "display_data"
    },
    {
     "data": {
      "application/vnd.jupyter.widget-view+json": {
       "model_id": "3161b8a11c0044219c00e5f6c3c41aae",
       "version_major": 2,
       "version_minor": 0
      },
      "text/plain": [
       "Epoch 47/50:   0%|          | 0/58 [00:00<?, ?it/s]"
      ]
     },
     "metadata": {},
     "output_type": "display_data"
    },
    {
     "data": {
      "application/vnd.jupyter.widget-view+json": {
       "model_id": "0cb8feaff9214d589825c51fc4bc32bc",
       "version_major": 2,
       "version_minor": 0
      },
      "text/plain": [
       "Epoch 48/50:   0%|          | 0/58 [00:00<?, ?it/s]"
      ]
     },
     "metadata": {},
     "output_type": "display_data"
    },
    {
     "data": {
      "application/vnd.jupyter.widget-view+json": {
       "model_id": "8a07082878aa4c0a9773264c0680d8b4",
       "version_major": 2,
       "version_minor": 0
      },
      "text/plain": [
       "Epoch 49/50:   0%|          | 0/58 [00:00<?, ?it/s]"
      ]
     },
     "metadata": {},
     "output_type": "display_data"
    },
    {
     "data": {
      "application/vnd.jupyter.widget-view+json": {
       "model_id": "d053a96a7d3448628f1151446ed5b1fc",
       "version_major": 2,
       "version_minor": 0
      },
      "text/plain": [
       "Epoch 50/50:   0%|          | 0/58 [00:00<?, ?it/s]"
      ]
     },
     "metadata": {},
     "output_type": "display_data"
    },
    {
     "name": "stdout",
     "output_type": "stream",
     "text": [
      "\n",
      "Epoch 50: New best F1-score: 0.7224\n",
      "Accuracy: 0.7497, Precision: 0.7463, Recall: 0.7497\n",
      "Saving checkpoint to C:\\Users\\PC\\lavar\\audiotwin_checkpoints_medium\\training_checkpoints\\PestLarvaNet_AudioTwin_Run_3_data_25.0percent.pth\n",
      "Finished Training for this run. Best F1-score: 0.7224\n",
      "==> Results with 25.0% data: Best F1-Score = 0.7224\n",
      "--- Training with 50.0% of labeled data ---\n",
      "Loading pretrained weights from: C:\\Users\\PC\\lavar\\audiotwin_checkpoints_medium\\run_3_lp1e-03_ep1e-06_lb0.005_audiotwin_pestlarvanet_medium_epoch_100.pth\n"
     ]
    },
    {
     "name": "stderr",
     "output_type": "stream",
     "text": [
      "C:\\Users\\PC\\anaconda3\\envs\\train_env\\lib\\site-packages\\torch\\optim\\lr_scheduler.py:62: UserWarning: The verbose parameter is deprecated. Please use get_last_lr() to access the learning rate.\n",
      "  warnings.warn(\n"
     ]
    },
    {
     "data": {
      "application/vnd.jupyter.widget-view+json": {
       "model_id": "04907d539f614588a9a5a1659aa6c778",
       "version_major": 2,
       "version_minor": 0
      },
      "text/plain": [
       "Epoch 1/50:   0%|          | 0/115 [00:00<?, ?it/s]"
      ]
     },
     "metadata": {},
     "output_type": "display_data"
    },
    {
     "name": "stdout",
     "output_type": "stream",
     "text": [
      "\n",
      "Epoch 1: New best F1-score: 0.5219\n",
      "Accuracy: 0.6033, Precision: 0.5718, Recall: 0.6033\n",
      "Saving checkpoint to C:\\Users\\PC\\lavar\\audiotwin_checkpoints_medium\\training_checkpoints\\PestLarvaNet_AudioTwin_Run_3_data_50.0percent.pth\n"
     ]
    },
    {
     "data": {
      "application/vnd.jupyter.widget-view+json": {
       "model_id": "daeb3d08b00a4b2b818dc3cc7a215373",
       "version_major": 2,
       "version_minor": 0
      },
      "text/plain": [
       "Epoch 2/50:   0%|          | 0/115 [00:00<?, ?it/s]"
      ]
     },
     "metadata": {},
     "output_type": "display_data"
    },
    {
     "name": "stdout",
     "output_type": "stream",
     "text": [
      "\n",
      "Epoch 2: New best F1-score: 0.5685\n",
      "Accuracy: 0.6311, Precision: 0.5700, Recall: 0.6311\n",
      "Saving checkpoint to C:\\Users\\PC\\lavar\\audiotwin_checkpoints_medium\\training_checkpoints\\PestLarvaNet_AudioTwin_Run_3_data_50.0percent.pth\n"
     ]
    },
    {
     "data": {
      "application/vnd.jupyter.widget-view+json": {
       "model_id": "741aaa8d4a5948bd90c789660e4949c4",
       "version_major": 2,
       "version_minor": 0
      },
      "text/plain": [
       "Epoch 3/50:   0%|          | 0/115 [00:00<?, ?it/s]"
      ]
     },
     "metadata": {},
     "output_type": "display_data"
    },
    {
     "data": {
      "application/vnd.jupyter.widget-view+json": {
       "model_id": "3d149d6bbe7d4d8fbd00fbbc7461a0d5",
       "version_major": 2,
       "version_minor": 0
      },
      "text/plain": [
       "Epoch 4/50:   0%|          | 0/115 [00:00<?, ?it/s]"
      ]
     },
     "metadata": {},
     "output_type": "display_data"
    },
    {
     "data": {
      "application/vnd.jupyter.widget-view+json": {
       "model_id": "ffe0e8a407c645c19d3101bc736ba913",
       "version_major": 2,
       "version_minor": 0
      },
      "text/plain": [
       "Epoch 5/50:   0%|          | 0/115 [00:00<?, ?it/s]"
      ]
     },
     "metadata": {},
     "output_type": "display_data"
    },
    {
     "name": "stdout",
     "output_type": "stream",
     "text": [
      "\n",
      "Epoch 5: New best F1-score: 0.5767\n",
      "Accuracy: 0.6519, Precision: 0.5929, Recall: 0.6519\n",
      "Saving checkpoint to C:\\Users\\PC\\lavar\\audiotwin_checkpoints_medium\\training_checkpoints\\PestLarvaNet_AudioTwin_Run_3_data_50.0percent.pth\n"
     ]
    },
    {
     "data": {
      "application/vnd.jupyter.widget-view+json": {
       "model_id": "8ca969284044440eb4194cf397c09b90",
       "version_major": 2,
       "version_minor": 0
      },
      "text/plain": [
       "Epoch 6/50:   0%|          | 0/115 [00:00<?, ?it/s]"
      ]
     },
     "metadata": {},
     "output_type": "display_data"
    },
    {
     "name": "stdout",
     "output_type": "stream",
     "text": [
      "\n",
      "Epoch 6: New best F1-score: 0.5946\n",
      "Accuracy: 0.6601, Precision: 0.6469, Recall: 0.6601\n",
      "Saving checkpoint to C:\\Users\\PC\\lavar\\audiotwin_checkpoints_medium\\training_checkpoints\\PestLarvaNet_AudioTwin_Run_3_data_50.0percent.pth\n"
     ]
    },
    {
     "data": {
      "application/vnd.jupyter.widget-view+json": {
       "model_id": "bd170a77df584a1cb2691f4706bc2d61",
       "version_major": 2,
       "version_minor": 0
      },
      "text/plain": [
       "Epoch 7/50:   0%|          | 0/115 [00:00<?, ?it/s]"
      ]
     },
     "metadata": {},
     "output_type": "display_data"
    },
    {
     "data": {
      "application/vnd.jupyter.widget-view+json": {
       "model_id": "4a710826d04c4cd998e72f37ebb8e761",
       "version_major": 2,
       "version_minor": 0
      },
      "text/plain": [
       "Epoch 8/50:   0%|          | 0/115 [00:00<?, ?it/s]"
      ]
     },
     "metadata": {},
     "output_type": "display_data"
    },
    {
     "name": "stdout",
     "output_type": "stream",
     "text": [
      "\n",
      "Epoch 8: New best F1-score: 0.6039\n",
      "Accuracy: 0.6607, Precision: 0.6318, Recall: 0.6607\n",
      "Saving checkpoint to C:\\Users\\PC\\lavar\\audiotwin_checkpoints_medium\\training_checkpoints\\PestLarvaNet_AudioTwin_Run_3_data_50.0percent.pth\n"
     ]
    },
    {
     "data": {
      "application/vnd.jupyter.widget-view+json": {
       "model_id": "b9c52dda522f439aab0d15e997c4974f",
       "version_major": 2,
       "version_minor": 0
      },
      "text/plain": [
       "Epoch 9/50:   0%|          | 0/115 [00:00<?, ?it/s]"
      ]
     },
     "metadata": {},
     "output_type": "display_data"
    },
    {
     "data": {
      "application/vnd.jupyter.widget-view+json": {
       "model_id": "c265432cbf824100b8a4b65f0f2c8401",
       "version_major": 2,
       "version_minor": 0
      },
      "text/plain": [
       "Epoch 10/50:   0%|          | 0/115 [00:00<?, ?it/s]"
      ]
     },
     "metadata": {},
     "output_type": "display_data"
    },
    {
     "data": {
      "application/vnd.jupyter.widget-view+json": {
       "model_id": "61739946fdf7400d8d8c4611253f7a81",
       "version_major": 2,
       "version_minor": 0
      },
      "text/plain": [
       "Epoch 11/50:   0%|          | 0/115 [00:00<?, ?it/s]"
      ]
     },
     "metadata": {},
     "output_type": "display_data"
    },
    {
     "name": "stdout",
     "output_type": "stream",
     "text": [
      "\n",
      "Epoch 11: New best F1-score: 0.6039\n",
      "Accuracy: 0.6721, Precision: 0.6225, Recall: 0.6721\n",
      "Saving checkpoint to C:\\Users\\PC\\lavar\\audiotwin_checkpoints_medium\\training_checkpoints\\PestLarvaNet_AudioTwin_Run_3_data_50.0percent.pth\n"
     ]
    },
    {
     "data": {
      "application/vnd.jupyter.widget-view+json": {
       "model_id": "9d2e1d48836d4c8b82239d823104813c",
       "version_major": 2,
       "version_minor": 0
      },
      "text/plain": [
       "Epoch 12/50:   0%|          | 0/115 [00:00<?, ?it/s]"
      ]
     },
     "metadata": {},
     "output_type": "display_data"
    },
    {
     "data": {
      "application/vnd.jupyter.widget-view+json": {
       "model_id": "443e3d2b1aac41198ef2b3d7021c5c2c",
       "version_major": 2,
       "version_minor": 0
      },
      "text/plain": [
       "Epoch 13/50:   0%|          | 0/115 [00:00<?, ?it/s]"
      ]
     },
     "metadata": {},
     "output_type": "display_data"
    },
    {
     "name": "stdout",
     "output_type": "stream",
     "text": [
      "\n",
      "Epoch 13: New best F1-score: 0.6241\n",
      "Accuracy: 0.6645, Precision: 0.6033, Recall: 0.6645\n",
      "Saving checkpoint to C:\\Users\\PC\\lavar\\audiotwin_checkpoints_medium\\training_checkpoints\\PestLarvaNet_AudioTwin_Run_3_data_50.0percent.pth\n"
     ]
    },
    {
     "data": {
      "application/vnd.jupyter.widget-view+json": {
       "model_id": "789650a0b255421e897d43fbdf359a2b",
       "version_major": 2,
       "version_minor": 0
      },
      "text/plain": [
       "Epoch 14/50:   0%|          | 0/115 [00:00<?, ?it/s]"
      ]
     },
     "metadata": {},
     "output_type": "display_data"
    },
    {
     "name": "stdout",
     "output_type": "stream",
     "text": [
      "\n",
      "Epoch 14: New best F1-score: 0.6688\n",
      "Accuracy: 0.7093, Precision: 0.6724, Recall: 0.7093\n",
      "Saving checkpoint to C:\\Users\\PC\\lavar\\audiotwin_checkpoints_medium\\training_checkpoints\\PestLarvaNet_AudioTwin_Run_3_data_50.0percent.pth\n"
     ]
    },
    {
     "data": {
      "application/vnd.jupyter.widget-view+json": {
       "model_id": "d9ada3dbe30246918836b14e59498d59",
       "version_major": 2,
       "version_minor": 0
      },
      "text/plain": [
       "Epoch 15/50:   0%|          | 0/115 [00:00<?, ?it/s]"
      ]
     },
     "metadata": {},
     "output_type": "display_data"
    },
    {
     "data": {
      "application/vnd.jupyter.widget-view+json": {
       "model_id": "b3fbcd61121d4983baf5ae1ff72c95fd",
       "version_major": 2,
       "version_minor": 0
      },
      "text/plain": [
       "Epoch 16/50:   0%|          | 0/115 [00:00<?, ?it/s]"
      ]
     },
     "metadata": {},
     "output_type": "display_data"
    },
    {
     "data": {
      "application/vnd.jupyter.widget-view+json": {
       "model_id": "cff9c3d90de94b48853485c8e685b512",
       "version_major": 2,
       "version_minor": 0
      },
      "text/plain": [
       "Epoch 17/50:   0%|          | 0/115 [00:00<?, ?it/s]"
      ]
     },
     "metadata": {},
     "output_type": "display_data"
    },
    {
     "data": {
      "application/vnd.jupyter.widget-view+json": {
       "model_id": "36a513dc3099462c903d5803331508e5",
       "version_major": 2,
       "version_minor": 0
      },
      "text/plain": [
       "Epoch 18/50:   0%|          | 0/115 [00:00<?, ?it/s]"
      ]
     },
     "metadata": {},
     "output_type": "display_data"
    },
    {
     "name": "stdout",
     "output_type": "stream",
     "text": [
      "\n",
      "Epoch 18: New best F1-score: 0.6765\n",
      "Accuracy: 0.7005, Precision: 0.6800, Recall: 0.7005\n",
      "Saving checkpoint to C:\\Users\\PC\\lavar\\audiotwin_checkpoints_medium\\training_checkpoints\\PestLarvaNet_AudioTwin_Run_3_data_50.0percent.pth\n"
     ]
    },
    {
     "data": {
      "application/vnd.jupyter.widget-view+json": {
       "model_id": "fb787e09a3ea4b22985fc6162310d795",
       "version_major": 2,
       "version_minor": 0
      },
      "text/plain": [
       "Epoch 19/50:   0%|          | 0/115 [00:00<?, ?it/s]"
      ]
     },
     "metadata": {},
     "output_type": "display_data"
    },
    {
     "data": {
      "application/vnd.jupyter.widget-view+json": {
       "model_id": "275d02a2e35444a480d45659b6feec7b",
       "version_major": 2,
       "version_minor": 0
      },
      "text/plain": [
       "Epoch 20/50:   0%|          | 0/115 [00:00<?, ?it/s]"
      ]
     },
     "metadata": {},
     "output_type": "display_data"
    },
    {
     "data": {
      "application/vnd.jupyter.widget-view+json": {
       "model_id": "3064f0784c19491891a97a54b7f40164",
       "version_major": 2,
       "version_minor": 0
      },
      "text/plain": [
       "Epoch 21/50:   0%|          | 0/115 [00:00<?, ?it/s]"
      ]
     },
     "metadata": {},
     "output_type": "display_data"
    },
    {
     "data": {
      "application/vnd.jupyter.widget-view+json": {
       "model_id": "e88ddea1527e404493637960d55634ad",
       "version_major": 2,
       "version_minor": 0
      },
      "text/plain": [
       "Epoch 22/50:   0%|          | 0/115 [00:00<?, ?it/s]"
      ]
     },
     "metadata": {},
     "output_type": "display_data"
    },
    {
     "name": "stdout",
     "output_type": "stream",
     "text": [
      "\n",
      "Epoch 22: New best F1-score: 0.6801\n",
      "Accuracy: 0.7115, Precision: 0.7258, Recall: 0.7115\n",
      "Saving checkpoint to C:\\Users\\PC\\lavar\\audiotwin_checkpoints_medium\\training_checkpoints\\PestLarvaNet_AudioTwin_Run_3_data_50.0percent.pth\n"
     ]
    },
    {
     "data": {
      "application/vnd.jupyter.widget-view+json": {
       "model_id": "c608362b2f0c4501aa909f1084e2bc55",
       "version_major": 2,
       "version_minor": 0
      },
      "text/plain": [
       "Epoch 23/50:   0%|          | 0/115 [00:00<?, ?it/s]"
      ]
     },
     "metadata": {},
     "output_type": "display_data"
    },
    {
     "name": "stdout",
     "output_type": "stream",
     "text": [
      "\n",
      "Epoch 23: New best F1-score: 0.7148\n",
      "Accuracy: 0.7492, Precision: 0.7613, Recall: 0.7492\n",
      "Saving checkpoint to C:\\Users\\PC\\lavar\\audiotwin_checkpoints_medium\\training_checkpoints\\PestLarvaNet_AudioTwin_Run_3_data_50.0percent.pth\n"
     ]
    },
    {
     "data": {
      "application/vnd.jupyter.widget-view+json": {
       "model_id": "522bc6b8a6f34aae83464beaf1df83f1",
       "version_major": 2,
       "version_minor": 0
      },
      "text/plain": [
       "Epoch 24/50:   0%|          | 0/115 [00:00<?, ?it/s]"
      ]
     },
     "metadata": {},
     "output_type": "display_data"
    },
    {
     "data": {
      "application/vnd.jupyter.widget-view+json": {
       "model_id": "a387183c77c144a4895fb95f9b896c2b",
       "version_major": 2,
       "version_minor": 0
      },
      "text/plain": [
       "Epoch 25/50:   0%|          | 0/115 [00:00<?, ?it/s]"
      ]
     },
     "metadata": {},
     "output_type": "display_data"
    },
    {
     "name": "stdout",
     "output_type": "stream",
     "text": [
      "\n",
      "Epoch 25: New best F1-score: 0.7348\n",
      "Accuracy: 0.7448, Precision: 0.7319, Recall: 0.7448\n",
      "Saving checkpoint to C:\\Users\\PC\\lavar\\audiotwin_checkpoints_medium\\training_checkpoints\\PestLarvaNet_AudioTwin_Run_3_data_50.0percent.pth\n"
     ]
    },
    {
     "data": {
      "application/vnd.jupyter.widget-view+json": {
       "model_id": "aa67ad8a28854a45a3f7168df5b6ee02",
       "version_major": 2,
       "version_minor": 0
      },
      "text/plain": [
       "Epoch 26/50:   0%|          | 0/115 [00:00<?, ?it/s]"
      ]
     },
     "metadata": {},
     "output_type": "display_data"
    },
    {
     "data": {
      "application/vnd.jupyter.widget-view+json": {
       "model_id": "df025448181f41d8b64ef0c1f3d442b0",
       "version_major": 2,
       "version_minor": 0
      },
      "text/plain": [
       "Epoch 27/50:   0%|          | 0/115 [00:00<?, ?it/s]"
      ]
     },
     "metadata": {},
     "output_type": "display_data"
    },
    {
     "name": "stdout",
     "output_type": "stream",
     "text": [
      "\n",
      "Epoch 27: New best F1-score: 0.7373\n",
      "Accuracy: 0.7519, Precision: 0.7336, Recall: 0.7519\n",
      "Saving checkpoint to C:\\Users\\PC\\lavar\\audiotwin_checkpoints_medium\\training_checkpoints\\PestLarvaNet_AudioTwin_Run_3_data_50.0percent.pth\n"
     ]
    },
    {
     "data": {
      "application/vnd.jupyter.widget-view+json": {
       "model_id": "0b4c0384015d419aafdc91131c43df81",
       "version_major": 2,
       "version_minor": 0
      },
      "text/plain": [
       "Epoch 28/50:   0%|          | 0/115 [00:00<?, ?it/s]"
      ]
     },
     "metadata": {},
     "output_type": "display_data"
    },
    {
     "data": {
      "application/vnd.jupyter.widget-view+json": {
       "model_id": "bcd7deda1d0842639d8b888fe35e924e",
       "version_major": 2,
       "version_minor": 0
      },
      "text/plain": [
       "Epoch 29/50:   0%|          | 0/115 [00:00<?, ?it/s]"
      ]
     },
     "metadata": {},
     "output_type": "display_data"
    },
    {
     "data": {
      "application/vnd.jupyter.widget-view+json": {
       "model_id": "cc998f119d594fc5adb57ba871a33c2d",
       "version_major": 2,
       "version_minor": 0
      },
      "text/plain": [
       "Epoch 30/50:   0%|          | 0/115 [00:00<?, ?it/s]"
      ]
     },
     "metadata": {},
     "output_type": "display_data"
    },
    {
     "data": {
      "application/vnd.jupyter.widget-view+json": {
       "model_id": "572201646f894f6ebff41ddb6c732de4",
       "version_major": 2,
       "version_minor": 0
      },
      "text/plain": [
       "Epoch 31/50:   0%|          | 0/115 [00:00<?, ?it/s]"
      ]
     },
     "metadata": {},
     "output_type": "display_data"
    },
    {
     "data": {
      "application/vnd.jupyter.widget-view+json": {
       "model_id": "6386a8320a7b4d359ef5ee9aa5871f5b",
       "version_major": 2,
       "version_minor": 0
      },
      "text/plain": [
       "Epoch 32/50:   0%|          | 0/115 [00:00<?, ?it/s]"
      ]
     },
     "metadata": {},
     "output_type": "display_data"
    },
    {
     "data": {
      "application/vnd.jupyter.widget-view+json": {
       "model_id": "d55d46465d0f4bcaadb7ede43884c64e",
       "version_major": 2,
       "version_minor": 0
      },
      "text/plain": [
       "Epoch 33/50:   0%|          | 0/115 [00:00<?, ?it/s]"
      ]
     },
     "metadata": {},
     "output_type": "display_data"
    },
    {
     "data": {
      "application/vnd.jupyter.widget-view+json": {
       "model_id": "80a5f7c9acc8493ca0485bc111cfb5d7",
       "version_major": 2,
       "version_minor": 0
      },
      "text/plain": [
       "Epoch 34/50:   0%|          | 0/115 [00:00<?, ?it/s]"
      ]
     },
     "metadata": {},
     "output_type": "display_data"
    },
    {
     "name": "stdout",
     "output_type": "stream",
     "text": [
      "\n",
      "Epoch 34: New best F1-score: 0.7771\n",
      "Accuracy: 0.7869, Precision: 0.7896, Recall: 0.7869\n",
      "Saving checkpoint to C:\\Users\\PC\\lavar\\audiotwin_checkpoints_medium\\training_checkpoints\\PestLarvaNet_AudioTwin_Run_3_data_50.0percent.pth\n"
     ]
    },
    {
     "data": {
      "application/vnd.jupyter.widget-view+json": {
       "model_id": "092a5396a93241209f978aff385cb094",
       "version_major": 2,
       "version_minor": 0
      },
      "text/plain": [
       "Epoch 35/50:   0%|          | 0/115 [00:00<?, ?it/s]"
      ]
     },
     "metadata": {},
     "output_type": "display_data"
    },
    {
     "name": "stdout",
     "output_type": "stream",
     "text": [
      "\n",
      "Epoch 35: New best F1-score: 0.7940\n",
      "Accuracy: 0.8109, Precision: 0.7845, Recall: 0.8109\n",
      "Saving checkpoint to C:\\Users\\PC\\lavar\\audiotwin_checkpoints_medium\\training_checkpoints\\PestLarvaNet_AudioTwin_Run_3_data_50.0percent.pth\n"
     ]
    },
    {
     "data": {
      "application/vnd.jupyter.widget-view+json": {
       "model_id": "986ce28ab16f4f6baed451aa258a154d",
       "version_major": 2,
       "version_minor": 0
      },
      "text/plain": [
       "Epoch 36/50:   0%|          | 0/115 [00:00<?, ?it/s]"
      ]
     },
     "metadata": {},
     "output_type": "display_data"
    },
    {
     "name": "stdout",
     "output_type": "stream",
     "text": [
      "\n",
      "Epoch 36: New best F1-score: 0.7963\n",
      "Accuracy: 0.8148, Precision: 0.8204, Recall: 0.8148\n",
      "Saving checkpoint to C:\\Users\\PC\\lavar\\audiotwin_checkpoints_medium\\training_checkpoints\\PestLarvaNet_AudioTwin_Run_3_data_50.0percent.pth\n"
     ]
    },
    {
     "data": {
      "application/vnd.jupyter.widget-view+json": {
       "model_id": "95481d08f08a4a84b4dbcd887e27c73f",
       "version_major": 2,
       "version_minor": 0
      },
      "text/plain": [
       "Epoch 37/50:   0%|          | 0/115 [00:00<?, ?it/s]"
      ]
     },
     "metadata": {},
     "output_type": "display_data"
    },
    {
     "name": "stdout",
     "output_type": "stream",
     "text": [
      "\n",
      "Epoch 37: New best F1-score: 0.8148\n",
      "Accuracy: 0.8240, Precision: 0.8373, Recall: 0.8240\n",
      "Saving checkpoint to C:\\Users\\PC\\lavar\\audiotwin_checkpoints_medium\\training_checkpoints\\PestLarvaNet_AudioTwin_Run_3_data_50.0percent.pth\n"
     ]
    },
    {
     "data": {
      "application/vnd.jupyter.widget-view+json": {
       "model_id": "22990a6307354c6d87f573f7037153b3",
       "version_major": 2,
       "version_minor": 0
      },
      "text/plain": [
       "Epoch 38/50:   0%|          | 0/115 [00:00<?, ?it/s]"
      ]
     },
     "metadata": {},
     "output_type": "display_data"
    },
    {
     "data": {
      "application/vnd.jupyter.widget-view+json": {
       "model_id": "0381e9c74ba7438ea04cb011070c5576",
       "version_major": 2,
       "version_minor": 0
      },
      "text/plain": [
       "Epoch 39/50:   0%|          | 0/115 [00:00<?, ?it/s]"
      ]
     },
     "metadata": {},
     "output_type": "display_data"
    },
    {
     "name": "stdout",
     "output_type": "stream",
     "text": [
      "\n",
      "Epoch 39: New best F1-score: 0.8171\n",
      "Accuracy: 0.8311, Precision: 0.8150, Recall: 0.8311\n",
      "Saving checkpoint to C:\\Users\\PC\\lavar\\audiotwin_checkpoints_medium\\training_checkpoints\\PestLarvaNet_AudioTwin_Run_3_data_50.0percent.pth\n"
     ]
    },
    {
     "data": {
      "application/vnd.jupyter.widget-view+json": {
       "model_id": "41e0d4e117d64bc0a3ab2cd7bc46bb5a",
       "version_major": 2,
       "version_minor": 0
      },
      "text/plain": [
       "Epoch 40/50:   0%|          | 0/115 [00:00<?, ?it/s]"
      ]
     },
     "metadata": {},
     "output_type": "display_data"
    },
    {
     "name": "stdout",
     "output_type": "stream",
     "text": [
      "\n",
      "Epoch 40: New best F1-score: 0.8369\n",
      "Accuracy: 0.8426, Precision: 0.8472, Recall: 0.8426\n",
      "Saving checkpoint to C:\\Users\\PC\\lavar\\audiotwin_checkpoints_medium\\training_checkpoints\\PestLarvaNet_AudioTwin_Run_3_data_50.0percent.pth\n"
     ]
    },
    {
     "data": {
      "application/vnd.jupyter.widget-view+json": {
       "model_id": "60b1012561254d469e5b6404a66e56cb",
       "version_major": 2,
       "version_minor": 0
      },
      "text/plain": [
       "Epoch 41/50:   0%|          | 0/115 [00:00<?, ?it/s]"
      ]
     },
     "metadata": {},
     "output_type": "display_data"
    },
    {
     "data": {
      "application/vnd.jupyter.widget-view+json": {
       "model_id": "81de48d9ffee47f582e974c353e6b422",
       "version_major": 2,
       "version_minor": 0
      },
      "text/plain": [
       "Epoch 42/50:   0%|          | 0/115 [00:00<?, ?it/s]"
      ]
     },
     "metadata": {},
     "output_type": "display_data"
    },
    {
     "data": {
      "application/vnd.jupyter.widget-view+json": {
       "model_id": "3cd47c5400e44e94875af1a1254873ef",
       "version_major": 2,
       "version_minor": 0
      },
      "text/plain": [
       "Epoch 43/50:   0%|          | 0/115 [00:00<?, ?it/s]"
      ]
     },
     "metadata": {},
     "output_type": "display_data"
    },
    {
     "name": "stdout",
     "output_type": "stream",
     "text": [
      "\n",
      "Epoch 43: New best F1-score: 0.8423\n",
      "Accuracy: 0.8432, Precision: 0.8511, Recall: 0.8432\n",
      "Saving checkpoint to C:\\Users\\PC\\lavar\\audiotwin_checkpoints_medium\\training_checkpoints\\PestLarvaNet_AudioTwin_Run_3_data_50.0percent.pth\n"
     ]
    },
    {
     "data": {
      "application/vnd.jupyter.widget-view+json": {
       "model_id": "5a8980d2237a45c8810ba69a5c58c0fa",
       "version_major": 2,
       "version_minor": 0
      },
      "text/plain": [
       "Epoch 44/50:   0%|          | 0/115 [00:00<?, ?it/s]"
      ]
     },
     "metadata": {},
     "output_type": "display_data"
    },
    {
     "data": {
      "application/vnd.jupyter.widget-view+json": {
       "model_id": "096bc24859964b549f451b3086edbac8",
       "version_major": 2,
       "version_minor": 0
      },
      "text/plain": [
       "Epoch 45/50:   0%|          | 0/115 [00:00<?, ?it/s]"
      ]
     },
     "metadata": {},
     "output_type": "display_data"
    },
    {
     "data": {
      "application/vnd.jupyter.widget-view+json": {
       "model_id": "10b774d0fe6942a2806a05570987dbba",
       "version_major": 2,
       "version_minor": 0
      },
      "text/plain": [
       "Epoch 46/50:   0%|          | 0/115 [00:00<?, ?it/s]"
      ]
     },
     "metadata": {},
     "output_type": "display_data"
    },
    {
     "name": "stdout",
     "output_type": "stream",
     "text": [
      "\n",
      "Epoch 46: New best F1-score: 0.8612\n",
      "Accuracy: 0.8661, Precision: 0.8673, Recall: 0.8661\n",
      "Saving checkpoint to C:\\Users\\PC\\lavar\\audiotwin_checkpoints_medium\\training_checkpoints\\PestLarvaNet_AudioTwin_Run_3_data_50.0percent.pth\n"
     ]
    },
    {
     "data": {
      "application/vnd.jupyter.widget-view+json": {
       "model_id": "fe3e6ed9a43347c1a4fc970e3ffcaf11",
       "version_major": 2,
       "version_minor": 0
      },
      "text/plain": [
       "Epoch 47/50:   0%|          | 0/115 [00:00<?, ?it/s]"
      ]
     },
     "metadata": {},
     "output_type": "display_data"
    },
    {
     "data": {
      "application/vnd.jupyter.widget-view+json": {
       "model_id": "fe27ebc4381444c4874717e09e623682",
       "version_major": 2,
       "version_minor": 0
      },
      "text/plain": [
       "Epoch 48/50:   0%|          | 0/115 [00:00<?, ?it/s]"
      ]
     },
     "metadata": {},
     "output_type": "display_data"
    },
    {
     "name": "stdout",
     "output_type": "stream",
     "text": [
      "\n",
      "Epoch 48: New best F1-score: 0.8677\n",
      "Accuracy: 0.8699, Precision: 0.8724, Recall: 0.8699\n",
      "Saving checkpoint to C:\\Users\\PC\\lavar\\audiotwin_checkpoints_medium\\training_checkpoints\\PestLarvaNet_AudioTwin_Run_3_data_50.0percent.pth\n"
     ]
    },
    {
     "data": {
      "application/vnd.jupyter.widget-view+json": {
       "model_id": "b0477e67df7548debd136b7fd6c02fbd",
       "version_major": 2,
       "version_minor": 0
      },
      "text/plain": [
       "Epoch 49/50:   0%|          | 0/115 [00:00<?, ?it/s]"
      ]
     },
     "metadata": {},
     "output_type": "display_data"
    },
    {
     "name": "stdout",
     "output_type": "stream",
     "text": [
      "\n",
      "Epoch 49: New best F1-score: 0.8680\n",
      "Accuracy: 0.8689, Precision: 0.8733, Recall: 0.8689\n",
      "Saving checkpoint to C:\\Users\\PC\\lavar\\audiotwin_checkpoints_medium\\training_checkpoints\\PestLarvaNet_AudioTwin_Run_3_data_50.0percent.pth\n"
     ]
    },
    {
     "data": {
      "application/vnd.jupyter.widget-view+json": {
       "model_id": "ce9f909d3d634c9e89976e18852fd6ce",
       "version_major": 2,
       "version_minor": 0
      },
      "text/plain": [
       "Epoch 50/50:   0%|          | 0/115 [00:00<?, ?it/s]"
      ]
     },
     "metadata": {},
     "output_type": "display_data"
    },
    {
     "name": "stdout",
     "output_type": "stream",
     "text": [
      "Finished Training for this run. Best F1-score: 0.8680\n",
      "==> Results with 50.0% data: Best F1-Score = 0.8680\n",
      "--- Training with 100.0% of labeled data ---\n",
      "Loading pretrained weights from: C:\\Users\\PC\\lavar\\audiotwin_checkpoints_medium\\run_3_lp1e-03_ep1e-06_lb0.005_audiotwin_pestlarvanet_medium_epoch_100.pth\n"
     ]
    },
    {
     "name": "stderr",
     "output_type": "stream",
     "text": [
      "C:\\Users\\PC\\anaconda3\\envs\\train_env\\lib\\site-packages\\torch\\optim\\lr_scheduler.py:62: UserWarning: The verbose parameter is deprecated. Please use get_last_lr() to access the learning rate.\n",
      "  warnings.warn(\n"
     ]
    },
    {
     "data": {
      "application/vnd.jupyter.widget-view+json": {
       "model_id": "b8678f36ecde4bb3b704da7a40d102a9",
       "version_major": 2,
       "version_minor": 0
      },
      "text/plain": [
       "Epoch 1/50:   0%|          | 0/229 [00:00<?, ?it/s]"
      ]
     },
     "metadata": {},
     "output_type": "display_data"
    },
    {
     "name": "stdout",
     "output_type": "stream",
     "text": [
      "\n",
      "Epoch 1: New best F1-score: 0.6246\n",
      "Accuracy: 0.6628, Precision: 0.6690, Recall: 0.6628\n",
      "Saving checkpoint to C:\\Users\\PC\\lavar\\audiotwin_checkpoints_medium\\training_checkpoints\\PestLarvaNet_AudioTwin_Run_3_data_100.0percent.pth\n"
     ]
    },
    {
     "data": {
      "application/vnd.jupyter.widget-view+json": {
       "model_id": "66d344e298f045e99ad2aaf1af04f0b3",
       "version_major": 2,
       "version_minor": 0
      },
      "text/plain": [
       "Epoch 2/50:   0%|          | 0/229 [00:00<?, ?it/s]"
      ]
     },
     "metadata": {},
     "output_type": "display_data"
    },
    {
     "name": "stdout",
     "output_type": "stream",
     "text": [
      "\n",
      "Epoch 2: New best F1-score: 0.6757\n",
      "Accuracy: 0.7240, Precision: 0.6471, Recall: 0.7240\n",
      "Saving checkpoint to C:\\Users\\PC\\lavar\\audiotwin_checkpoints_medium\\training_checkpoints\\PestLarvaNet_AudioTwin_Run_3_data_100.0percent.pth\n"
     ]
    },
    {
     "data": {
      "application/vnd.jupyter.widget-view+json": {
       "model_id": "69554bd1987040dab302f8025cadfebc",
       "version_major": 2,
       "version_minor": 0
      },
      "text/plain": [
       "Epoch 3/50:   0%|          | 0/229 [00:00<?, ?it/s]"
      ]
     },
     "metadata": {},
     "output_type": "display_data"
    },
    {
     "name": "stdout",
     "output_type": "stream",
     "text": [
      "\n",
      "Epoch 3: New best F1-score: 0.6857\n",
      "Accuracy: 0.7251, Precision: 0.6726, Recall: 0.7251\n",
      "Saving checkpoint to C:\\Users\\PC\\lavar\\audiotwin_checkpoints_medium\\training_checkpoints\\PestLarvaNet_AudioTwin_Run_3_data_100.0percent.pth\n"
     ]
    },
    {
     "data": {
      "application/vnd.jupyter.widget-view+json": {
       "model_id": "e68f68672b2a47dd98523a8b97e66cfa",
       "version_major": 2,
       "version_minor": 0
      },
      "text/plain": [
       "Epoch 4/50:   0%|          | 0/229 [00:00<?, ?it/s]"
      ]
     },
     "metadata": {},
     "output_type": "display_data"
    },
    {
     "name": "stdout",
     "output_type": "stream",
     "text": [
      "\n",
      "Epoch 4: New best F1-score: 0.7319\n",
      "Accuracy: 0.7557, Precision: 0.7205, Recall: 0.7557\n",
      "Saving checkpoint to C:\\Users\\PC\\lavar\\audiotwin_checkpoints_medium\\training_checkpoints\\PestLarvaNet_AudioTwin_Run_3_data_100.0percent.pth\n"
     ]
    },
    {
     "data": {
      "application/vnd.jupyter.widget-view+json": {
       "model_id": "105fc9c30ebb4095a99026e2dd01e85c",
       "version_major": 2,
       "version_minor": 0
      },
      "text/plain": [
       "Epoch 5/50:   0%|          | 0/229 [00:00<?, ?it/s]"
      ]
     },
     "metadata": {},
     "output_type": "display_data"
    },
    {
     "data": {
      "application/vnd.jupyter.widget-view+json": {
       "model_id": "32c5304ad8204a75916fbd3c423e8580",
       "version_major": 2,
       "version_minor": 0
      },
      "text/plain": [
       "Epoch 6/50:   0%|          | 0/229 [00:00<?, ?it/s]"
      ]
     },
     "metadata": {},
     "output_type": "display_data"
    },
    {
     "name": "stdout",
     "output_type": "stream",
     "text": [
      "\n",
      "Epoch 6: New best F1-score: 0.7816\n",
      "Accuracy: 0.7995, Precision: 0.7768, Recall: 0.7995\n",
      "Saving checkpoint to C:\\Users\\PC\\lavar\\audiotwin_checkpoints_medium\\training_checkpoints\\PestLarvaNet_AudioTwin_Run_3_data_100.0percent.pth\n"
     ]
    },
    {
     "data": {
      "application/vnd.jupyter.widget-view+json": {
       "model_id": "c477cd4ac5aa480dbe72a10efb7017d7",
       "version_major": 2,
       "version_minor": 0
      },
      "text/plain": [
       "Epoch 7/50:   0%|          | 0/229 [00:00<?, ?it/s]"
      ]
     },
     "metadata": {},
     "output_type": "display_data"
    },
    {
     "data": {
      "application/vnd.jupyter.widget-view+json": {
       "model_id": "2a2d03bc298b4294aee43b0fd4bfd009",
       "version_major": 2,
       "version_minor": 0
      },
      "text/plain": [
       "Epoch 8/50:   0%|          | 0/229 [00:00<?, ?it/s]"
      ]
     },
     "metadata": {},
     "output_type": "display_data"
    },
    {
     "name": "stdout",
     "output_type": "stream",
     "text": [
      "\n",
      "Epoch 8: New best F1-score: 0.7832\n",
      "Accuracy: 0.7956, Precision: 0.7824, Recall: 0.7956\n",
      "Saving checkpoint to C:\\Users\\PC\\lavar\\audiotwin_checkpoints_medium\\training_checkpoints\\PestLarvaNet_AudioTwin_Run_3_data_100.0percent.pth\n"
     ]
    },
    {
     "data": {
      "application/vnd.jupyter.widget-view+json": {
       "model_id": "1f99d733b4e844769600e68fd80915ea",
       "version_major": 2,
       "version_minor": 0
      },
      "text/plain": [
       "Epoch 9/50:   0%|          | 0/229 [00:00<?, ?it/s]"
      ]
     },
     "metadata": {},
     "output_type": "display_data"
    },
    {
     "name": "stdout",
     "output_type": "stream",
     "text": [
      "\n",
      "Epoch 9: New best F1-score: 0.7864\n",
      "Accuracy: 0.8055, Precision: 0.7859, Recall: 0.8055\n",
      "Saving checkpoint to C:\\Users\\PC\\lavar\\audiotwin_checkpoints_medium\\training_checkpoints\\PestLarvaNet_AudioTwin_Run_3_data_100.0percent.pth\n"
     ]
    },
    {
     "data": {
      "application/vnd.jupyter.widget-view+json": {
       "model_id": "8e16ef46c6f2457d99bef513efcba147",
       "version_major": 2,
       "version_minor": 0
      },
      "text/plain": [
       "Epoch 10/50:   0%|          | 0/229 [00:00<?, ?it/s]"
      ]
     },
     "metadata": {},
     "output_type": "display_data"
    },
    {
     "name": "stdout",
     "output_type": "stream",
     "text": [
      "\n",
      "Epoch 10: New best F1-score: 0.7920\n",
      "Accuracy: 0.8060, Precision: 0.8004, Recall: 0.8060\n",
      "Saving checkpoint to C:\\Users\\PC\\lavar\\audiotwin_checkpoints_medium\\training_checkpoints\\PestLarvaNet_AudioTwin_Run_3_data_100.0percent.pth\n"
     ]
    },
    {
     "data": {
      "application/vnd.jupyter.widget-view+json": {
       "model_id": "d1ac7356cc8b422391abb8feef6e81da",
       "version_major": 2,
       "version_minor": 0
      },
      "text/plain": [
       "Epoch 11/50:   0%|          | 0/229 [00:00<?, ?it/s]"
      ]
     },
     "metadata": {},
     "output_type": "display_data"
    },
    {
     "name": "stdout",
     "output_type": "stream",
     "text": [
      "\n",
      "Epoch 11: New best F1-score: 0.8060\n",
      "Accuracy: 0.8180, Precision: 0.8048, Recall: 0.8180\n",
      "Saving checkpoint to C:\\Users\\PC\\lavar\\audiotwin_checkpoints_medium\\training_checkpoints\\PestLarvaNet_AudioTwin_Run_3_data_100.0percent.pth\n"
     ]
    },
    {
     "data": {
      "application/vnd.jupyter.widget-view+json": {
       "model_id": "74fd61a087784908b183f2e834649b20",
       "version_major": 2,
       "version_minor": 0
      },
      "text/plain": [
       "Epoch 12/50:   0%|          | 0/229 [00:00<?, ?it/s]"
      ]
     },
     "metadata": {},
     "output_type": "display_data"
    },
    {
     "data": {
      "application/vnd.jupyter.widget-view+json": {
       "model_id": "e2501b74c6ce48de83a99617093a13a8",
       "version_major": 2,
       "version_minor": 0
      },
      "text/plain": [
       "Epoch 13/50:   0%|          | 0/229 [00:00<?, ?it/s]"
      ]
     },
     "metadata": {},
     "output_type": "display_data"
    },
    {
     "data": {
      "application/vnd.jupyter.widget-view+json": {
       "model_id": "dd8f082fbea4476bbab0ef54874c72c9",
       "version_major": 2,
       "version_minor": 0
      },
      "text/plain": [
       "Epoch 14/50:   0%|          | 0/229 [00:00<?, ?it/s]"
      ]
     },
     "metadata": {},
     "output_type": "display_data"
    },
    {
     "data": {
      "application/vnd.jupyter.widget-view+json": {
       "model_id": "8dd36d0ddfa94027b2ba628714c6575c",
       "version_major": 2,
       "version_minor": 0
      },
      "text/plain": [
       "Epoch 15/50:   0%|          | 0/229 [00:00<?, ?it/s]"
      ]
     },
     "metadata": {},
     "output_type": "display_data"
    },
    {
     "data": {
      "application/vnd.jupyter.widget-view+json": {
       "model_id": "e5301632c3bb489f8938a16f78a8a71e",
       "version_major": 2,
       "version_minor": 0
      },
      "text/plain": [
       "Epoch 16/50:   0%|          | 0/229 [00:00<?, ?it/s]"
      ]
     },
     "metadata": {},
     "output_type": "display_data"
    },
    {
     "name": "stdout",
     "output_type": "stream",
     "text": [
      "\n",
      "Epoch 16: New best F1-score: 0.8092\n",
      "Accuracy: 0.8213, Precision: 0.8360, Recall: 0.8213\n",
      "Saving checkpoint to C:\\Users\\PC\\lavar\\audiotwin_checkpoints_medium\\training_checkpoints\\PestLarvaNet_AudioTwin_Run_3_data_100.0percent.pth\n"
     ]
    },
    {
     "data": {
      "application/vnd.jupyter.widget-view+json": {
       "model_id": "ce54c6b550e14be98e460d71d65cf9b6",
       "version_major": 2,
       "version_minor": 0
      },
      "text/plain": [
       "Epoch 17/50:   0%|          | 0/229 [00:00<?, ?it/s]"
      ]
     },
     "metadata": {},
     "output_type": "display_data"
    },
    {
     "name": "stdout",
     "output_type": "stream",
     "text": [
      "\n",
      "Epoch 17: New best F1-score: 0.8172\n",
      "Accuracy: 0.8279, Precision: 0.8181, Recall: 0.8279\n",
      "Saving checkpoint to C:\\Users\\PC\\lavar\\audiotwin_checkpoints_medium\\training_checkpoints\\PestLarvaNet_AudioTwin_Run_3_data_100.0percent.pth\n"
     ]
    },
    {
     "data": {
      "application/vnd.jupyter.widget-view+json": {
       "model_id": "7a47d18aab3747be82e2b68b482a43c6",
       "version_major": 2,
       "version_minor": 0
      },
      "text/plain": [
       "Epoch 18/50:   0%|          | 0/229 [00:00<?, ?it/s]"
      ]
     },
     "metadata": {},
     "output_type": "display_data"
    },
    {
     "name": "stdout",
     "output_type": "stream",
     "text": [
      "\n",
      "Epoch 18: New best F1-score: 0.8444\n",
      "Accuracy: 0.8464, Precision: 0.8477, Recall: 0.8464\n",
      "Saving checkpoint to C:\\Users\\PC\\lavar\\audiotwin_checkpoints_medium\\training_checkpoints\\PestLarvaNet_AudioTwin_Run_3_data_100.0percent.pth\n"
     ]
    },
    {
     "data": {
      "application/vnd.jupyter.widget-view+json": {
       "model_id": "e0996698753a4ff69004c3178468f4d6",
       "version_major": 2,
       "version_minor": 0
      },
      "text/plain": [
       "Epoch 19/50:   0%|          | 0/229 [00:00<?, ?it/s]"
      ]
     },
     "metadata": {},
     "output_type": "display_data"
    },
    {
     "data": {
      "application/vnd.jupyter.widget-view+json": {
       "model_id": "3f26b419ca8d4be3bb5447b9a2a4942e",
       "version_major": 2,
       "version_minor": 0
      },
      "text/plain": [
       "Epoch 20/50:   0%|          | 0/229 [00:00<?, ?it/s]"
      ]
     },
     "metadata": {},
     "output_type": "display_data"
    },
    {
     "data": {
      "application/vnd.jupyter.widget-view+json": {
       "model_id": "d379efcd96134b0887a530bfa45f7ff5",
       "version_major": 2,
       "version_minor": 0
      },
      "text/plain": [
       "Epoch 21/50:   0%|          | 0/229 [00:00<?, ?it/s]"
      ]
     },
     "metadata": {},
     "output_type": "display_data"
    },
    {
     "data": {
      "application/vnd.jupyter.widget-view+json": {
       "model_id": "faf5892888ec40b6a558558efc1e0815",
       "version_major": 2,
       "version_minor": 0
      },
      "text/plain": [
       "Epoch 22/50:   0%|          | 0/229 [00:00<?, ?it/s]"
      ]
     },
     "metadata": {},
     "output_type": "display_data"
    },
    {
     "data": {
      "application/vnd.jupyter.widget-view+json": {
       "model_id": "19cc826d5b004c21bfd398edae68e269",
       "version_major": 2,
       "version_minor": 0
      },
      "text/plain": [
       "Epoch 23/50:   0%|          | 0/229 [00:00<?, ?it/s]"
      ]
     },
     "metadata": {},
     "output_type": "display_data"
    },
    {
     "data": {
      "application/vnd.jupyter.widget-view+json": {
       "model_id": "06c558dab3cd4bd496436e380d195196",
       "version_major": 2,
       "version_minor": 0
      },
      "text/plain": [
       "Epoch 24/50:   0%|          | 0/229 [00:00<?, ?it/s]"
      ]
     },
     "metadata": {},
     "output_type": "display_data"
    },
    {
     "name": "stdout",
     "output_type": "stream",
     "text": [
      "\n",
      "Epoch 24: New best F1-score: 0.8760\n",
      "Accuracy: 0.8770, Precision: 0.8795, Recall: 0.8770\n",
      "Saving checkpoint to C:\\Users\\PC\\lavar\\audiotwin_checkpoints_medium\\training_checkpoints\\PestLarvaNet_AudioTwin_Run_3_data_100.0percent.pth\n"
     ]
    },
    {
     "data": {
      "application/vnd.jupyter.widget-view+json": {
       "model_id": "e394de105cf140e1b739ac516c3905e2",
       "version_major": 2,
       "version_minor": 0
      },
      "text/plain": [
       "Epoch 25/50:   0%|          | 0/229 [00:00<?, ?it/s]"
      ]
     },
     "metadata": {},
     "output_type": "display_data"
    },
    {
     "data": {
      "application/vnd.jupyter.widget-view+json": {
       "model_id": "c5f702d160ef47afa393d56c69f7974f",
       "version_major": 2,
       "version_minor": 0
      },
      "text/plain": [
       "Epoch 26/50:   0%|          | 0/229 [00:00<?, ?it/s]"
      ]
     },
     "metadata": {},
     "output_type": "display_data"
    },
    {
     "data": {
      "application/vnd.jupyter.widget-view+json": {
       "model_id": "d7a6ada5798d46678ffe0335c4120c13",
       "version_major": 2,
       "version_minor": 0
      },
      "text/plain": [
       "Epoch 27/50:   0%|          | 0/229 [00:00<?, ?it/s]"
      ]
     },
     "metadata": {},
     "output_type": "display_data"
    },
    {
     "data": {
      "application/vnd.jupyter.widget-view+json": {
       "model_id": "77a1ffba9da2401d8c70a4eb0812e105",
       "version_major": 2,
       "version_minor": 0
      },
      "text/plain": [
       "Epoch 28/50:   0%|          | 0/229 [00:00<?, ?it/s]"
      ]
     },
     "metadata": {},
     "output_type": "display_data"
    },
    {
     "data": {
      "application/vnd.jupyter.widget-view+json": {
       "model_id": "817097b6488a40eb883e884cefabb495",
       "version_major": 2,
       "version_minor": 0
      },
      "text/plain": [
       "Epoch 29/50:   0%|          | 0/229 [00:00<?, ?it/s]"
      ]
     },
     "metadata": {},
     "output_type": "display_data"
    },
    {
     "data": {
      "application/vnd.jupyter.widget-view+json": {
       "model_id": "62fb8fe8dc4444ccacebc1eb2fd00439",
       "version_major": 2,
       "version_minor": 0
      },
      "text/plain": [
       "Epoch 30/50:   0%|          | 0/229 [00:00<?, ?it/s]"
      ]
     },
     "metadata": {},
     "output_type": "display_data"
    },
    {
     "name": "stdout",
     "output_type": "stream",
     "text": [
      "\n",
      "Epoch 30: New best F1-score: 0.8930\n",
      "Accuracy: 0.8940, Precision: 0.8993, Recall: 0.8940\n",
      "Saving checkpoint to C:\\Users\\PC\\lavar\\audiotwin_checkpoints_medium\\training_checkpoints\\PestLarvaNet_AudioTwin_Run_3_data_100.0percent.pth\n"
     ]
    },
    {
     "data": {
      "application/vnd.jupyter.widget-view+json": {
       "model_id": "2fa52634bce946f2b2d1483f199bf27f",
       "version_major": 2,
       "version_minor": 0
      },
      "text/plain": [
       "Epoch 31/50:   0%|          | 0/229 [00:00<?, ?it/s]"
      ]
     },
     "metadata": {},
     "output_type": "display_data"
    },
    {
     "data": {
      "application/vnd.jupyter.widget-view+json": {
       "model_id": "90c11a14df07412d9f87d04b6d2b0348",
       "version_major": 2,
       "version_minor": 0
      },
      "text/plain": [
       "Epoch 32/50:   0%|          | 0/229 [00:00<?, ?it/s]"
      ]
     },
     "metadata": {},
     "output_type": "display_data"
    },
    {
     "data": {
      "application/vnd.jupyter.widget-view+json": {
       "model_id": "b7ba1ee78b614148a805939dc3d03db6",
       "version_major": 2,
       "version_minor": 0
      },
      "text/plain": [
       "Epoch 33/50:   0%|          | 0/229 [00:00<?, ?it/s]"
      ]
     },
     "metadata": {},
     "output_type": "display_data"
    },
    {
     "data": {
      "application/vnd.jupyter.widget-view+json": {
       "model_id": "3c372c919df44fc79f41955ee13e01de",
       "version_major": 2,
       "version_minor": 0
      },
      "text/plain": [
       "Epoch 34/50:   0%|          | 0/229 [00:00<?, ?it/s]"
      ]
     },
     "metadata": {},
     "output_type": "display_data"
    },
    {
     "data": {
      "application/vnd.jupyter.widget-view+json": {
       "model_id": "adba5e689efd45eb83592a5d213540b8",
       "version_major": 2,
       "version_minor": 0
      },
      "text/plain": [
       "Epoch 35/50:   0%|          | 0/229 [00:00<?, ?it/s]"
      ]
     },
     "metadata": {},
     "output_type": "display_data"
    },
    {
     "data": {
      "application/vnd.jupyter.widget-view+json": {
       "model_id": "be6b7a09ac3d4c6cadfbcb3dbd2d558a",
       "version_major": 2,
       "version_minor": 0
      },
      "text/plain": [
       "Epoch 36/50:   0%|          | 0/229 [00:00<?, ?it/s]"
      ]
     },
     "metadata": {},
     "output_type": "display_data"
    },
    {
     "name": "stdout",
     "output_type": "stream",
     "text": [
      "\n",
      "Epoch 36: New best F1-score: 0.9058\n",
      "Accuracy: 0.9066, Precision: 0.9077, Recall: 0.9066\n",
      "Saving checkpoint to C:\\Users\\PC\\lavar\\audiotwin_checkpoints_medium\\training_checkpoints\\PestLarvaNet_AudioTwin_Run_3_data_100.0percent.pth\n"
     ]
    },
    {
     "data": {
      "application/vnd.jupyter.widget-view+json": {
       "model_id": "443d8b3381c94df6a9427a18aa166fb2",
       "version_major": 2,
       "version_minor": 0
      },
      "text/plain": [
       "Epoch 37/50:   0%|          | 0/229 [00:00<?, ?it/s]"
      ]
     },
     "metadata": {},
     "output_type": "display_data"
    },
    {
     "data": {
      "application/vnd.jupyter.widget-view+json": {
       "model_id": "e7863101a90547ac9f3e191134ca40fa",
       "version_major": 2,
       "version_minor": 0
      },
      "text/plain": [
       "Epoch 38/50:   0%|          | 0/229 [00:00<?, ?it/s]"
      ]
     },
     "metadata": {},
     "output_type": "display_data"
    },
    {
     "data": {
      "application/vnd.jupyter.widget-view+json": {
       "model_id": "c2d5d336ac504a398d6eb6b9bc65bd96",
       "version_major": 2,
       "version_minor": 0
      },
      "text/plain": [
       "Epoch 39/50:   0%|          | 0/229 [00:00<?, ?it/s]"
      ]
     },
     "metadata": {},
     "output_type": "display_data"
    },
    {
     "data": {
      "application/vnd.jupyter.widget-view+json": {
       "model_id": "4f192ed679b445e28ac8ef72db6b31ca",
       "version_major": 2,
       "version_minor": 0
      },
      "text/plain": [
       "Epoch 40/50:   0%|          | 0/229 [00:00<?, ?it/s]"
      ]
     },
     "metadata": {},
     "output_type": "display_data"
    },
    {
     "data": {
      "application/vnd.jupyter.widget-view+json": {
       "model_id": "651aefb458b94f70ba1f016c68eca63f",
       "version_major": 2,
       "version_minor": 0
      },
      "text/plain": [
       "Epoch 41/50:   0%|          | 0/229 [00:00<?, ?it/s]"
      ]
     },
     "metadata": {},
     "output_type": "display_data"
    },
    {
     "data": {
      "application/vnd.jupyter.widget-view+json": {
       "model_id": "e9cb90c22e2b4d898a593f5bd342720c",
       "version_major": 2,
       "version_minor": 0
      },
      "text/plain": [
       "Epoch 42/50:   0%|          | 0/229 [00:00<?, ?it/s]"
      ]
     },
     "metadata": {},
     "output_type": "display_data"
    },
    {
     "data": {
      "application/vnd.jupyter.widget-view+json": {
       "model_id": "1b3af5e1de7a40d4aa1ef79cd35bf352",
       "version_major": 2,
       "version_minor": 0
      },
      "text/plain": [
       "Epoch 43/50:   0%|          | 0/229 [00:00<?, ?it/s]"
      ]
     },
     "metadata": {},
     "output_type": "display_data"
    },
    {
     "name": "stdout",
     "output_type": "stream",
     "text": [
      "\n",
      "Epoch 43: New best F1-score: 0.9110\n",
      "Accuracy: 0.9120, Precision: 0.9126, Recall: 0.9120\n",
      "Saving checkpoint to C:\\Users\\PC\\lavar\\audiotwin_checkpoints_medium\\training_checkpoints\\PestLarvaNet_AudioTwin_Run_3_data_100.0percent.pth\n"
     ]
    },
    {
     "data": {
      "application/vnd.jupyter.widget-view+json": {
       "model_id": "0812202316394725ba8f787e229be4da",
       "version_major": 2,
       "version_minor": 0
      },
      "text/plain": [
       "Epoch 44/50:   0%|          | 0/229 [00:00<?, ?it/s]"
      ]
     },
     "metadata": {},
     "output_type": "display_data"
    },
    {
     "data": {
      "application/vnd.jupyter.widget-view+json": {
       "model_id": "99eaded329954fb39cfc3893abf8c943",
       "version_major": 2,
       "version_minor": 0
      },
      "text/plain": [
       "Epoch 45/50:   0%|          | 0/229 [00:00<?, ?it/s]"
      ]
     },
     "metadata": {},
     "output_type": "display_data"
    },
    {
     "name": "stdout",
     "output_type": "stream",
     "text": [
      "\n",
      "Epoch 45: New best F1-score: 0.9126\n",
      "Accuracy: 0.9131, Precision: 0.9129, Recall: 0.9131\n",
      "Saving checkpoint to C:\\Users\\PC\\lavar\\audiotwin_checkpoints_medium\\training_checkpoints\\PestLarvaNet_AudioTwin_Run_3_data_100.0percent.pth\n"
     ]
    },
    {
     "data": {
      "application/vnd.jupyter.widget-view+json": {
       "model_id": "3fea2cfab94140f7a5cb00c859dfe26e",
       "version_major": 2,
       "version_minor": 0
      },
      "text/plain": [
       "Epoch 46/50:   0%|          | 0/229 [00:00<?, ?it/s]"
      ]
     },
     "metadata": {},
     "output_type": "display_data"
    },
    {
     "data": {
      "application/vnd.jupyter.widget-view+json": {
       "model_id": "492d117259c44bf286c1f8f70a4c040e",
       "version_major": 2,
       "version_minor": 0
      },
      "text/plain": [
       "Epoch 47/50:   0%|          | 0/229 [00:00<?, ?it/s]"
      ]
     },
     "metadata": {},
     "output_type": "display_data"
    },
    {
     "data": {
      "application/vnd.jupyter.widget-view+json": {
       "model_id": "59a67a932cb24201af9b22aa15c4364d",
       "version_major": 2,
       "version_minor": 0
      },
      "text/plain": [
       "Epoch 48/50:   0%|          | 0/229 [00:00<?, ?it/s]"
      ]
     },
     "metadata": {},
     "output_type": "display_data"
    },
    {
     "data": {
      "application/vnd.jupyter.widget-view+json": {
       "model_id": "0cab7f78ad7c4efd9883e47445840c8f",
       "version_major": 2,
       "version_minor": 0
      },
      "text/plain": [
       "Epoch 49/50:   0%|          | 0/229 [00:00<?, ?it/s]"
      ]
     },
     "metadata": {},
     "output_type": "display_data"
    },
    {
     "name": "stdout",
     "output_type": "stream",
     "text": [
      "\n",
      "Epoch 49: New best F1-score: 0.9166\n",
      "Accuracy: 0.9180, Precision: 0.9235, Recall: 0.9180\n",
      "Saving checkpoint to C:\\Users\\PC\\lavar\\audiotwin_checkpoints_medium\\training_checkpoints\\PestLarvaNet_AudioTwin_Run_3_data_100.0percent.pth\n"
     ]
    },
    {
     "data": {
      "application/vnd.jupyter.widget-view+json": {
       "model_id": "938ada6c22784752af1e9421cf5c62d7",
       "version_major": 2,
       "version_minor": 0
      },
      "text/plain": [
       "Epoch 50/50:   0%|          | 0/229 [00:00<?, ?it/s]"
      ]
     },
     "metadata": {},
     "output_type": "display_data"
    },
    {
     "name": "stdout",
     "output_type": "stream",
     "text": [
      "\n",
      "Epoch 50: New best F1-score: 0.9200\n",
      "Accuracy: 0.9208, Precision: 0.9224, Recall: 0.9208\n",
      "Saving checkpoint to C:\\Users\\PC\\lavar\\audiotwin_checkpoints_medium\\training_checkpoints\\PestLarvaNet_AudioTwin_Run_3_data_100.0percent.pth\n",
      "Finished Training for this run. Best F1-score: 0.9200\n",
      "==> Results with 100.0% data: Best F1-Score = 0.9200\n",
      "\n",
      "==================== Evaluating: PestLarvaNet (AudioTwin Run 4) ====================\n",
      "--- Training with 25.0% of labeled data ---\n",
      "Loading pretrained weights from: C:\\Users\\PC\\lavar\\audiotwin_checkpoints_medium\\run_4_lp5e-03_ep1e-06_lb0.007_audiotwin_pestlarvanet_medium_epoch_100.pth\n"
     ]
    },
    {
     "name": "stderr",
     "output_type": "stream",
     "text": [
      "C:\\Users\\PC\\anaconda3\\envs\\train_env\\lib\\site-packages\\torch\\optim\\lr_scheduler.py:62: UserWarning: The verbose parameter is deprecated. Please use get_last_lr() to access the learning rate.\n",
      "  warnings.warn(\n"
     ]
    },
    {
     "data": {
      "application/vnd.jupyter.widget-view+json": {
       "model_id": "e63cff02f8424e0ebe14c1fb28c496b8",
       "version_major": 2,
       "version_minor": 0
      },
      "text/plain": [
       "Epoch 1/50:   0%|          | 0/58 [00:00<?, ?it/s]"
      ]
     },
     "metadata": {},
     "output_type": "display_data"
    },
    {
     "name": "stdout",
     "output_type": "stream",
     "text": [
      "\n",
      "Epoch 1: New best F1-score: 0.4994\n",
      "Accuracy: 0.5738, Precision: 0.4874, Recall: 0.5738\n",
      "Saving checkpoint to C:\\Users\\PC\\lavar\\audiotwin_checkpoints_medium\\training_checkpoints\\PestLarvaNet_AudioTwin_Run_4_data_25.0percent.pth\n"
     ]
    },
    {
     "data": {
      "application/vnd.jupyter.widget-view+json": {
       "model_id": "4f3341f01f22452fa2cba21006ecedaa",
       "version_major": 2,
       "version_minor": 0
      },
      "text/plain": [
       "Epoch 2/50:   0%|          | 0/58 [00:00<?, ?it/s]"
      ]
     },
     "metadata": {},
     "output_type": "display_data"
    },
    {
     "name": "stdout",
     "output_type": "stream",
     "text": [
      "\n",
      "Epoch 2: New best F1-score: 0.5415\n",
      "Accuracy: 0.6191, Precision: 0.5846, Recall: 0.6191\n",
      "Saving checkpoint to C:\\Users\\PC\\lavar\\audiotwin_checkpoints_medium\\training_checkpoints\\PestLarvaNet_AudioTwin_Run_4_data_25.0percent.pth\n"
     ]
    },
    {
     "data": {
      "application/vnd.jupyter.widget-view+json": {
       "model_id": "0bea621acbc74ceca0046982b3c34e76",
       "version_major": 2,
       "version_minor": 0
      },
      "text/plain": [
       "Epoch 3/50:   0%|          | 0/58 [00:00<?, ?it/s]"
      ]
     },
     "metadata": {},
     "output_type": "display_data"
    },
    {
     "name": "stdout",
     "output_type": "stream",
     "text": [
      "\n",
      "Epoch 3: New best F1-score: 0.5493\n",
      "Accuracy: 0.6219, Precision: 0.5793, Recall: 0.6219\n",
      "Saving checkpoint to C:\\Users\\PC\\lavar\\audiotwin_checkpoints_medium\\training_checkpoints\\PestLarvaNet_AudioTwin_Run_4_data_25.0percent.pth\n"
     ]
    },
    {
     "data": {
      "application/vnd.jupyter.widget-view+json": {
       "model_id": "5d3c4720ea6b4fb5a5bfd16bc7afc6ef",
       "version_major": 2,
       "version_minor": 0
      },
      "text/plain": [
       "Epoch 4/50:   0%|          | 0/58 [00:00<?, ?it/s]"
      ]
     },
     "metadata": {},
     "output_type": "display_data"
    },
    {
     "name": "stdout",
     "output_type": "stream",
     "text": [
      "\n",
      "Epoch 4: New best F1-score: 0.6431\n",
      "Accuracy: 0.6738, Precision: 0.6380, Recall: 0.6738\n",
      "Saving checkpoint to C:\\Users\\PC\\lavar\\audiotwin_checkpoints_medium\\training_checkpoints\\PestLarvaNet_AudioTwin_Run_4_data_25.0percent.pth\n"
     ]
    },
    {
     "data": {
      "application/vnd.jupyter.widget-view+json": {
       "model_id": "803d37384ee04a659e44e9307046f517",
       "version_major": 2,
       "version_minor": 0
      },
      "text/plain": [
       "Epoch 5/50:   0%|          | 0/58 [00:00<?, ?it/s]"
      ]
     },
     "metadata": {},
     "output_type": "display_data"
    },
    {
     "data": {
      "application/vnd.jupyter.widget-view+json": {
       "model_id": "331317cf0c4046b09733555df14f4dd6",
       "version_major": 2,
       "version_minor": 0
      },
      "text/plain": [
       "Epoch 6/50:   0%|          | 0/58 [00:00<?, ?it/s]"
      ]
     },
     "metadata": {},
     "output_type": "display_data"
    },
    {
     "data": {
      "application/vnd.jupyter.widget-view+json": {
       "model_id": "2c392299b3c342c8bb2887f03153604f",
       "version_major": 2,
       "version_minor": 0
      },
      "text/plain": [
       "Epoch 7/50:   0%|          | 0/58 [00:00<?, ?it/s]"
      ]
     },
     "metadata": {},
     "output_type": "display_data"
    },
    {
     "data": {
      "application/vnd.jupyter.widget-view+json": {
       "model_id": "3a75cdebab94499e9d90218e56cb08e9",
       "version_major": 2,
       "version_minor": 0
      },
      "text/plain": [
       "Epoch 8/50:   0%|          | 0/58 [00:00<?, ?it/s]"
      ]
     },
     "metadata": {},
     "output_type": "display_data"
    },
    {
     "data": {
      "application/vnd.jupyter.widget-view+json": {
       "model_id": "d58fe4ad1a944819a8f09e35551b93f2",
       "version_major": 2,
       "version_minor": 0
      },
      "text/plain": [
       "Epoch 9/50:   0%|          | 0/58 [00:00<?, ?it/s]"
      ]
     },
     "metadata": {},
     "output_type": "display_data"
    },
    {
     "data": {
      "application/vnd.jupyter.widget-view+json": {
       "model_id": "ea6fb5c961224d86ad375f03ea6fb069",
       "version_major": 2,
       "version_minor": 0
      },
      "text/plain": [
       "Epoch 10/50:   0%|          | 0/58 [00:00<?, ?it/s]"
      ]
     },
     "metadata": {},
     "output_type": "display_data"
    },
    {
     "data": {
      "application/vnd.jupyter.widget-view+json": {
       "model_id": "10c10d832c8347258299502faf58eaeb",
       "version_major": 2,
       "version_minor": 0
      },
      "text/plain": [
       "Epoch 11/50:   0%|          | 0/58 [00:00<?, ?it/s]"
      ]
     },
     "metadata": {},
     "output_type": "display_data"
    },
    {
     "name": "stdout",
     "output_type": "stream",
     "text": [
      "\n",
      "Epoch 11: New best F1-score: 0.6857\n",
      "Accuracy: 0.7284, Precision: 0.6811, Recall: 0.7284\n",
      "Saving checkpoint to C:\\Users\\PC\\lavar\\audiotwin_checkpoints_medium\\training_checkpoints\\PestLarvaNet_AudioTwin_Run_4_data_25.0percent.pth\n"
     ]
    },
    {
     "data": {
      "application/vnd.jupyter.widget-view+json": {
       "model_id": "2277130f8daa4fe6a6577245f0090b7d",
       "version_major": 2,
       "version_minor": 0
      },
      "text/plain": [
       "Epoch 12/50:   0%|          | 0/58 [00:00<?, ?it/s]"
      ]
     },
     "metadata": {},
     "output_type": "display_data"
    },
    {
     "data": {
      "application/vnd.jupyter.widget-view+json": {
       "model_id": "26b68c6cb1d940b7a5368b17507600ff",
       "version_major": 2,
       "version_minor": 0
      },
      "text/plain": [
       "Epoch 13/50:   0%|          | 0/58 [00:00<?, ?it/s]"
      ]
     },
     "metadata": {},
     "output_type": "display_data"
    },
    {
     "data": {
      "application/vnd.jupyter.widget-view+json": {
       "model_id": "2effc64a92e34fbdab2335d36011b2a8",
       "version_major": 2,
       "version_minor": 0
      },
      "text/plain": [
       "Epoch 14/50:   0%|          | 0/58 [00:00<?, ?it/s]"
      ]
     },
     "metadata": {},
     "output_type": "display_data"
    },
    {
     "data": {
      "application/vnd.jupyter.widget-view+json": {
       "model_id": "f625623ea62e4f148630d8ed5e6c3ecb",
       "version_major": 2,
       "version_minor": 0
      },
      "text/plain": [
       "Epoch 15/50:   0%|          | 0/58 [00:00<?, ?it/s]"
      ]
     },
     "metadata": {},
     "output_type": "display_data"
    },
    {
     "name": "stdout",
     "output_type": "stream",
     "text": [
      "\n",
      "Epoch 15: New best F1-score: 0.7114\n",
      "Accuracy: 0.7514, Precision: 0.7175, Recall: 0.7514\n",
      "Saving checkpoint to C:\\Users\\PC\\lavar\\audiotwin_checkpoints_medium\\training_checkpoints\\PestLarvaNet_AudioTwin_Run_4_data_25.0percent.pth\n"
     ]
    },
    {
     "data": {
      "application/vnd.jupyter.widget-view+json": {
       "model_id": "7b59c7df05584151a07c2e9f5d43a9c8",
       "version_major": 2,
       "version_minor": 0
      },
      "text/plain": [
       "Epoch 16/50:   0%|          | 0/58 [00:00<?, ?it/s]"
      ]
     },
     "metadata": {},
     "output_type": "display_data"
    },
    {
     "data": {
      "application/vnd.jupyter.widget-view+json": {
       "model_id": "1c15a4c0007a4b86ae915f6db918b5a8",
       "version_major": 2,
       "version_minor": 0
      },
      "text/plain": [
       "Epoch 17/50:   0%|          | 0/58 [00:00<?, ?it/s]"
      ]
     },
     "metadata": {},
     "output_type": "display_data"
    },
    {
     "name": "stdout",
     "output_type": "stream",
     "text": [
      "\n",
      "Epoch 17: New best F1-score: 0.7244\n",
      "Accuracy: 0.7546, Precision: 0.7291, Recall: 0.7546\n",
      "Saving checkpoint to C:\\Users\\PC\\lavar\\audiotwin_checkpoints_medium\\training_checkpoints\\PestLarvaNet_AudioTwin_Run_4_data_25.0percent.pth\n"
     ]
    },
    {
     "data": {
      "application/vnd.jupyter.widget-view+json": {
       "model_id": "bf402054fcf24d86a6925da2d0aaa448",
       "version_major": 2,
       "version_minor": 0
      },
      "text/plain": [
       "Epoch 18/50:   0%|          | 0/58 [00:00<?, ?it/s]"
      ]
     },
     "metadata": {},
     "output_type": "display_data"
    },
    {
     "data": {
      "application/vnd.jupyter.widget-view+json": {
       "model_id": "1fdfd15411a545e293769e4616ba6623",
       "version_major": 2,
       "version_minor": 0
      },
      "text/plain": [
       "Epoch 19/50:   0%|          | 0/58 [00:00<?, ?it/s]"
      ]
     },
     "metadata": {},
     "output_type": "display_data"
    },
    {
     "data": {
      "application/vnd.jupyter.widget-view+json": {
       "model_id": "796f6fdabaa648e4965dcd4145689d9a",
       "version_major": 2,
       "version_minor": 0
      },
      "text/plain": [
       "Epoch 20/50:   0%|          | 0/58 [00:00<?, ?it/s]"
      ]
     },
     "metadata": {},
     "output_type": "display_data"
    },
    {
     "data": {
      "application/vnd.jupyter.widget-view+json": {
       "model_id": "c6460b293eba460ea7702c71e70754a0",
       "version_major": 2,
       "version_minor": 0
      },
      "text/plain": [
       "Epoch 21/50:   0%|          | 0/58 [00:00<?, ?it/s]"
      ]
     },
     "metadata": {},
     "output_type": "display_data"
    },
    {
     "data": {
      "application/vnd.jupyter.widget-view+json": {
       "model_id": "73fd6ffd87b543868c76d4016a416790",
       "version_major": 2,
       "version_minor": 0
      },
      "text/plain": [
       "Epoch 22/50:   0%|          | 0/58 [00:00<?, ?it/s]"
      ]
     },
     "metadata": {},
     "output_type": "display_data"
    },
    {
     "name": "stdout",
     "output_type": "stream",
     "text": [
      "\n",
      "Epoch 22: New best F1-score: 0.7317\n",
      "Accuracy: 0.7607, Precision: 0.7460, Recall: 0.7607\n",
      "Saving checkpoint to C:\\Users\\PC\\lavar\\audiotwin_checkpoints_medium\\training_checkpoints\\PestLarvaNet_AudioTwin_Run_4_data_25.0percent.pth\n"
     ]
    },
    {
     "data": {
      "application/vnd.jupyter.widget-view+json": {
       "model_id": "c50e0cb3ab48431782975a314041d0c5",
       "version_major": 2,
       "version_minor": 0
      },
      "text/plain": [
       "Epoch 23/50:   0%|          | 0/58 [00:00<?, ?it/s]"
      ]
     },
     "metadata": {},
     "output_type": "display_data"
    },
    {
     "data": {
      "application/vnd.jupyter.widget-view+json": {
       "model_id": "c55adc5b715a4e28b83d846a8272e646",
       "version_major": 2,
       "version_minor": 0
      },
      "text/plain": [
       "Epoch 24/50:   0%|          | 0/58 [00:00<?, ?it/s]"
      ]
     },
     "metadata": {},
     "output_type": "display_data"
    },
    {
     "name": "stdout",
     "output_type": "stream",
     "text": [
      "\n",
      "Epoch 24: New best F1-score: 0.7457\n",
      "Accuracy: 0.7590, Precision: 0.7401, Recall: 0.7590\n",
      "Saving checkpoint to C:\\Users\\PC\\lavar\\audiotwin_checkpoints_medium\\training_checkpoints\\PestLarvaNet_AudioTwin_Run_4_data_25.0percent.pth\n"
     ]
    },
    {
     "data": {
      "application/vnd.jupyter.widget-view+json": {
       "model_id": "d162ed43c83549f08e23dd6fba6f3e5e",
       "version_major": 2,
       "version_minor": 0
      },
      "text/plain": [
       "Epoch 25/50:   0%|          | 0/58 [00:00<?, ?it/s]"
      ]
     },
     "metadata": {},
     "output_type": "display_data"
    },
    {
     "data": {
      "application/vnd.jupyter.widget-view+json": {
       "model_id": "472a023eea29410e9355b5e978b4c966",
       "version_major": 2,
       "version_minor": 0
      },
      "text/plain": [
       "Epoch 26/50:   0%|          | 0/58 [00:00<?, ?it/s]"
      ]
     },
     "metadata": {},
     "output_type": "display_data"
    },
    {
     "data": {
      "application/vnd.jupyter.widget-view+json": {
       "model_id": "58412af379ba4e2faf95f5bc364b2888",
       "version_major": 2,
       "version_minor": 0
      },
      "text/plain": [
       "Epoch 27/50:   0%|          | 0/58 [00:00<?, ?it/s]"
      ]
     },
     "metadata": {},
     "output_type": "display_data"
    },
    {
     "data": {
      "application/vnd.jupyter.widget-view+json": {
       "model_id": "7ae5f7994a2d42e6bdafd68e20421ee7",
       "version_major": 2,
       "version_minor": 0
      },
      "text/plain": [
       "Epoch 28/50:   0%|          | 0/58 [00:00<?, ?it/s]"
      ]
     },
     "metadata": {},
     "output_type": "display_data"
    },
    {
     "name": "stdout",
     "output_type": "stream",
     "text": [
      "\n",
      "Epoch 28: New best F1-score: 0.7537\n",
      "Accuracy: 0.7699, Precision: 0.7712, Recall: 0.7699\n",
      "Saving checkpoint to C:\\Users\\PC\\lavar\\audiotwin_checkpoints_medium\\training_checkpoints\\PestLarvaNet_AudioTwin_Run_4_data_25.0percent.pth\n"
     ]
    },
    {
     "data": {
      "application/vnd.jupyter.widget-view+json": {
       "model_id": "4fe7d94a3bec48bf83f916e96ec9eef3",
       "version_major": 2,
       "version_minor": 0
      },
      "text/plain": [
       "Epoch 29/50:   0%|          | 0/58 [00:00<?, ?it/s]"
      ]
     },
     "metadata": {},
     "output_type": "display_data"
    },
    {
     "data": {
      "application/vnd.jupyter.widget-view+json": {
       "model_id": "b05a0fd48bdf48b9a3ed6af95e279ac7",
       "version_major": 2,
       "version_minor": 0
      },
      "text/plain": [
       "Epoch 30/50:   0%|          | 0/58 [00:00<?, ?it/s]"
      ]
     },
     "metadata": {},
     "output_type": "display_data"
    },
    {
     "name": "stdout",
     "output_type": "stream",
     "text": [
      "\n",
      "Epoch 30: New best F1-score: 0.7693\n",
      "Accuracy: 0.7869, Precision: 0.7667, Recall: 0.7869\n",
      "Saving checkpoint to C:\\Users\\PC\\lavar\\audiotwin_checkpoints_medium\\training_checkpoints\\PestLarvaNet_AudioTwin_Run_4_data_25.0percent.pth\n"
     ]
    },
    {
     "data": {
      "application/vnd.jupyter.widget-view+json": {
       "model_id": "02cf12b0b1174ed8acf0e45cf158a064",
       "version_major": 2,
       "version_minor": 0
      },
      "text/plain": [
       "Epoch 31/50:   0%|          | 0/58 [00:00<?, ?it/s]"
      ]
     },
     "metadata": {},
     "output_type": "display_data"
    },
    {
     "data": {
      "application/vnd.jupyter.widget-view+json": {
       "model_id": "a10382caa3864794a4a33c61b37436db",
       "version_major": 2,
       "version_minor": 0
      },
      "text/plain": [
       "Epoch 32/50:   0%|          | 0/58 [00:00<?, ?it/s]"
      ]
     },
     "metadata": {},
     "output_type": "display_data"
    },
    {
     "name": "stdout",
     "output_type": "stream",
     "text": [
      "\n",
      "Epoch 32: New best F1-score: 0.7802\n",
      "Accuracy: 0.7984, Precision: 0.7682, Recall: 0.7984\n",
      "Saving checkpoint to C:\\Users\\PC\\lavar\\audiotwin_checkpoints_medium\\training_checkpoints\\PestLarvaNet_AudioTwin_Run_4_data_25.0percent.pth\n"
     ]
    },
    {
     "data": {
      "application/vnd.jupyter.widget-view+json": {
       "model_id": "ccc67a1b814549ea985ff939925a72a1",
       "version_major": 2,
       "version_minor": 0
      },
      "text/plain": [
       "Epoch 33/50:   0%|          | 0/58 [00:00<?, ?it/s]"
      ]
     },
     "metadata": {},
     "output_type": "display_data"
    },
    {
     "data": {
      "application/vnd.jupyter.widget-view+json": {
       "model_id": "d879fa79d4d24ccc98b7bfd8fd903b82",
       "version_major": 2,
       "version_minor": 0
      },
      "text/plain": [
       "Epoch 34/50:   0%|          | 0/58 [00:00<?, ?it/s]"
      ]
     },
     "metadata": {},
     "output_type": "display_data"
    },
    {
     "data": {
      "application/vnd.jupyter.widget-view+json": {
       "model_id": "21ec4337cf33404289b87df7129be14a",
       "version_major": 2,
       "version_minor": 0
      },
      "text/plain": [
       "Epoch 35/50:   0%|          | 0/58 [00:00<?, ?it/s]"
      ]
     },
     "metadata": {},
     "output_type": "display_data"
    },
    {
     "data": {
      "application/vnd.jupyter.widget-view+json": {
       "model_id": "be5a7588cd1c4a1695b5c3f180d47f75",
       "version_major": 2,
       "version_minor": 0
      },
      "text/plain": [
       "Epoch 36/50:   0%|          | 0/58 [00:00<?, ?it/s]"
      ]
     },
     "metadata": {},
     "output_type": "display_data"
    },
    {
     "data": {
      "application/vnd.jupyter.widget-view+json": {
       "model_id": "27fb82ce0c6b4813a0deab6495f887e8",
       "version_major": 2,
       "version_minor": 0
      },
      "text/plain": [
       "Epoch 37/50:   0%|          | 0/58 [00:00<?, ?it/s]"
      ]
     },
     "metadata": {},
     "output_type": "display_data"
    },
    {
     "data": {
      "application/vnd.jupyter.widget-view+json": {
       "model_id": "171c179096404063bc3f5bddddb09ff5",
       "version_major": 2,
       "version_minor": 0
      },
      "text/plain": [
       "Epoch 38/50:   0%|          | 0/58 [00:00<?, ?it/s]"
      ]
     },
     "metadata": {},
     "output_type": "display_data"
    },
    {
     "data": {
      "application/vnd.jupyter.widget-view+json": {
       "model_id": "833998980fbd440c8b8b70c66c5d846b",
       "version_major": 2,
       "version_minor": 0
      },
      "text/plain": [
       "Epoch 39/50:   0%|          | 0/58 [00:00<?, ?it/s]"
      ]
     },
     "metadata": {},
     "output_type": "display_data"
    },
    {
     "name": "stdout",
     "output_type": "stream",
     "text": [
      "\n",
      "Epoch 39: New best F1-score: 0.7927\n",
      "Accuracy: 0.8131, Precision: 0.7820, Recall: 0.8131\n",
      "Saving checkpoint to C:\\Users\\PC\\lavar\\audiotwin_checkpoints_medium\\training_checkpoints\\PestLarvaNet_AudioTwin_Run_4_data_25.0percent.pth\n"
     ]
    },
    {
     "data": {
      "application/vnd.jupyter.widget-view+json": {
       "model_id": "ba4564a15ebb4eb29e68a61d766d238f",
       "version_major": 2,
       "version_minor": 0
      },
      "text/plain": [
       "Epoch 40/50:   0%|          | 0/58 [00:00<?, ?it/s]"
      ]
     },
     "metadata": {},
     "output_type": "display_data"
    },
    {
     "data": {
      "application/vnd.jupyter.widget-view+json": {
       "model_id": "b09fbd611669404e8a86c77df30ca4c0",
       "version_major": 2,
       "version_minor": 0
      },
      "text/plain": [
       "Epoch 41/50:   0%|          | 0/58 [00:00<?, ?it/s]"
      ]
     },
     "metadata": {},
     "output_type": "display_data"
    },
    {
     "data": {
      "application/vnd.jupyter.widget-view+json": {
       "model_id": "8283b6a02fa646b9b851c23979aaa289",
       "version_major": 2,
       "version_minor": 0
      },
      "text/plain": [
       "Epoch 42/50:   0%|          | 0/58 [00:00<?, ?it/s]"
      ]
     },
     "metadata": {},
     "output_type": "display_data"
    },
    {
     "data": {
      "application/vnd.jupyter.widget-view+json": {
       "model_id": "03787f82e0a24125bedb236bade3a959",
       "version_major": 2,
       "version_minor": 0
      },
      "text/plain": [
       "Epoch 43/50:   0%|          | 0/58 [00:00<?, ?it/s]"
      ]
     },
     "metadata": {},
     "output_type": "display_data"
    },
    {
     "data": {
      "application/vnd.jupyter.widget-view+json": {
       "model_id": "f28606170cd34651b69a0f9a5d7a4fe0",
       "version_major": 2,
       "version_minor": 0
      },
      "text/plain": [
       "Epoch 44/50:   0%|          | 0/58 [00:00<?, ?it/s]"
      ]
     },
     "metadata": {},
     "output_type": "display_data"
    },
    {
     "data": {
      "application/vnd.jupyter.widget-view+json": {
       "model_id": "ea70ef61f70a43998a1bd60ba64a04ff",
       "version_major": 2,
       "version_minor": 0
      },
      "text/plain": [
       "Epoch 45/50:   0%|          | 0/58 [00:00<?, ?it/s]"
      ]
     },
     "metadata": {},
     "output_type": "display_data"
    },
    {
     "data": {
      "application/vnd.jupyter.widget-view+json": {
       "model_id": "de27a3ae91b046eb9daad3824c78db2a",
       "version_major": 2,
       "version_minor": 0
      },
      "text/plain": [
       "Epoch 46/50:   0%|          | 0/58 [00:00<?, ?it/s]"
      ]
     },
     "metadata": {},
     "output_type": "display_data"
    },
    {
     "data": {
      "application/vnd.jupyter.widget-view+json": {
       "model_id": "f925adb68c7240edbb0cf29e8454b713",
       "version_major": 2,
       "version_minor": 0
      },
      "text/plain": [
       "Epoch 47/50:   0%|          | 0/58 [00:00<?, ?it/s]"
      ]
     },
     "metadata": {},
     "output_type": "display_data"
    },
    {
     "data": {
      "application/vnd.jupyter.widget-view+json": {
       "model_id": "b7f09d1789574c04a80619726a18d575",
       "version_major": 2,
       "version_minor": 0
      },
      "text/plain": [
       "Epoch 48/50:   0%|          | 0/58 [00:00<?, ?it/s]"
      ]
     },
     "metadata": {},
     "output_type": "display_data"
    },
    {
     "name": "stdout",
     "output_type": "stream",
     "text": [
      "\n",
      "Epoch 48: New best F1-score: 0.7934\n",
      "Accuracy: 0.8137, Precision: 0.7892, Recall: 0.8137\n",
      "Saving checkpoint to C:\\Users\\PC\\lavar\\audiotwin_checkpoints_medium\\training_checkpoints\\PestLarvaNet_AudioTwin_Run_4_data_25.0percent.pth\n"
     ]
    },
    {
     "data": {
      "application/vnd.jupyter.widget-view+json": {
       "model_id": "7f8e6e2353ce4f03862af8753730020e",
       "version_major": 2,
       "version_minor": 0
      },
      "text/plain": [
       "Epoch 49/50:   0%|          | 0/58 [00:00<?, ?it/s]"
      ]
     },
     "metadata": {},
     "output_type": "display_data"
    },
    {
     "name": "stdout",
     "output_type": "stream",
     "text": [
      "\n",
      "Epoch 49: New best F1-score: 0.7987\n",
      "Accuracy: 0.8202, Precision: 0.7925, Recall: 0.8202\n",
      "Saving checkpoint to C:\\Users\\PC\\lavar\\audiotwin_checkpoints_medium\\training_checkpoints\\PestLarvaNet_AudioTwin_Run_4_data_25.0percent.pth\n"
     ]
    },
    {
     "data": {
      "application/vnd.jupyter.widget-view+json": {
       "model_id": "9ec618fca2484bf0af1a5d505a6090eb",
       "version_major": 2,
       "version_minor": 0
      },
      "text/plain": [
       "Epoch 50/50:   0%|          | 0/58 [00:00<?, ?it/s]"
      ]
     },
     "metadata": {},
     "output_type": "display_data"
    },
    {
     "name": "stdout",
     "output_type": "stream",
     "text": [
      "Finished Training for this run. Best F1-score: 0.7987\n",
      "==> Results with 25.0% data: Best F1-Score = 0.7987\n",
      "--- Training with 50.0% of labeled data ---\n",
      "Loading pretrained weights from: C:\\Users\\PC\\lavar\\audiotwin_checkpoints_medium\\run_4_lp5e-03_ep1e-06_lb0.007_audiotwin_pestlarvanet_medium_epoch_100.pth\n"
     ]
    },
    {
     "name": "stderr",
     "output_type": "stream",
     "text": [
      "C:\\Users\\PC\\anaconda3\\envs\\train_env\\lib\\site-packages\\torch\\optim\\lr_scheduler.py:62: UserWarning: The verbose parameter is deprecated. Please use get_last_lr() to access the learning rate.\n",
      "  warnings.warn(\n"
     ]
    },
    {
     "data": {
      "application/vnd.jupyter.widget-view+json": {
       "model_id": "3216d8b744d84e1a802de68c799e9274",
       "version_major": 2,
       "version_minor": 0
      },
      "text/plain": [
       "Epoch 1/50:   0%|          | 0/115 [00:00<?, ?it/s]"
      ]
     },
     "metadata": {},
     "output_type": "display_data"
    },
    {
     "name": "stdout",
     "output_type": "stream",
     "text": [
      "\n",
      "Epoch 1: New best F1-score: 0.4512\n",
      "Accuracy: 0.5366, Precision: 0.5036, Recall: 0.5366\n",
      "Saving checkpoint to C:\\Users\\PC\\lavar\\audiotwin_checkpoints_medium\\training_checkpoints\\PestLarvaNet_AudioTwin_Run_4_data_50.0percent.pth\n"
     ]
    },
    {
     "data": {
      "application/vnd.jupyter.widget-view+json": {
       "model_id": "1e0e859d575b41c3a293bb395f73cf4f",
       "version_major": 2,
       "version_minor": 0
      },
      "text/plain": [
       "Epoch 2/50:   0%|          | 0/115 [00:00<?, ?it/s]"
      ]
     },
     "metadata": {},
     "output_type": "display_data"
    },
    {
     "name": "stdout",
     "output_type": "stream",
     "text": [
      "\n",
      "Epoch 2: New best F1-score: 0.5776\n",
      "Accuracy: 0.6486, Precision: 0.5798, Recall: 0.6486\n",
      "Saving checkpoint to C:\\Users\\PC\\lavar\\audiotwin_checkpoints_medium\\training_checkpoints\\PestLarvaNet_AudioTwin_Run_4_data_50.0percent.pth\n"
     ]
    },
    {
     "data": {
      "application/vnd.jupyter.widget-view+json": {
       "model_id": "59a5742d68dd43aca8dc0ab900a2cb60",
       "version_major": 2,
       "version_minor": 0
      },
      "text/plain": [
       "Epoch 3/50:   0%|          | 0/115 [00:00<?, ?it/s]"
      ]
     },
     "metadata": {},
     "output_type": "display_data"
    },
    {
     "data": {
      "application/vnd.jupyter.widget-view+json": {
       "model_id": "ff87a5750f59457cbf39a5027893ea91",
       "version_major": 2,
       "version_minor": 0
      },
      "text/plain": [
       "Epoch 4/50:   0%|          | 0/115 [00:00<?, ?it/s]"
      ]
     },
     "metadata": {},
     "output_type": "display_data"
    },
    {
     "data": {
      "application/vnd.jupyter.widget-view+json": {
       "model_id": "fd3e4f8152d94eafb959dac32f55c0c8",
       "version_major": 2,
       "version_minor": 0
      },
      "text/plain": [
       "Epoch 5/50:   0%|          | 0/115 [00:00<?, ?it/s]"
      ]
     },
     "metadata": {},
     "output_type": "display_data"
    },
    {
     "name": "stdout",
     "output_type": "stream",
     "text": [
      "\n",
      "Epoch 5: New best F1-score: 0.5855\n",
      "Accuracy: 0.6568, Precision: 0.6276, Recall: 0.6568\n",
      "Saving checkpoint to C:\\Users\\PC\\lavar\\audiotwin_checkpoints_medium\\training_checkpoints\\PestLarvaNet_AudioTwin_Run_4_data_50.0percent.pth\n"
     ]
    },
    {
     "data": {
      "application/vnd.jupyter.widget-view+json": {
       "model_id": "f27c19cba54f4f0b8e0c1862ffb95cff",
       "version_major": 2,
       "version_minor": 0
      },
      "text/plain": [
       "Epoch 6/50:   0%|          | 0/115 [00:00<?, ?it/s]"
      ]
     },
     "metadata": {},
     "output_type": "display_data"
    },
    {
     "name": "stdout",
     "output_type": "stream",
     "text": [
      "\n",
      "Epoch 6: New best F1-score: 0.5969\n",
      "Accuracy: 0.6525, Precision: 0.6400, Recall: 0.6525\n",
      "Saving checkpoint to C:\\Users\\PC\\lavar\\audiotwin_checkpoints_medium\\training_checkpoints\\PestLarvaNet_AudioTwin_Run_4_data_50.0percent.pth\n"
     ]
    },
    {
     "data": {
      "application/vnd.jupyter.widget-view+json": {
       "model_id": "44c754c8591b4943800c7e909b5995a2",
       "version_major": 2,
       "version_minor": 0
      },
      "text/plain": [
       "Epoch 7/50:   0%|          | 0/115 [00:00<?, ?it/s]"
      ]
     },
     "metadata": {},
     "output_type": "display_data"
    },
    {
     "name": "stdout",
     "output_type": "stream",
     "text": [
      "\n",
      "Epoch 7: New best F1-score: 0.6450\n",
      "Accuracy: 0.6716, Precision: 0.6455, Recall: 0.6716\n",
      "Saving checkpoint to C:\\Users\\PC\\lavar\\audiotwin_checkpoints_medium\\training_checkpoints\\PestLarvaNet_AudioTwin_Run_4_data_50.0percent.pth\n"
     ]
    },
    {
     "data": {
      "application/vnd.jupyter.widget-view+json": {
       "model_id": "ea6e45a060de44748b7796614967792f",
       "version_major": 2,
       "version_minor": 0
      },
      "text/plain": [
       "Epoch 8/50:   0%|          | 0/115 [00:00<?, ?it/s]"
      ]
     },
     "metadata": {},
     "output_type": "display_data"
    },
    {
     "data": {
      "application/vnd.jupyter.widget-view+json": {
       "model_id": "f522fb85445c4f768ce327644c778203",
       "version_major": 2,
       "version_minor": 0
      },
      "text/plain": [
       "Epoch 9/50:   0%|          | 0/115 [00:00<?, ?it/s]"
      ]
     },
     "metadata": {},
     "output_type": "display_data"
    },
    {
     "data": {
      "application/vnd.jupyter.widget-view+json": {
       "model_id": "4d4dff824d5b46be8576682087ebf984",
       "version_major": 2,
       "version_minor": 0
      },
      "text/plain": [
       "Epoch 10/50:   0%|          | 0/115 [00:00<?, ?it/s]"
      ]
     },
     "metadata": {},
     "output_type": "display_data"
    },
    {
     "data": {
      "application/vnd.jupyter.widget-view+json": {
       "model_id": "f0022b66b50b4b2fbac083867eb2b6f7",
       "version_major": 2,
       "version_minor": 0
      },
      "text/plain": [
       "Epoch 11/50:   0%|          | 0/115 [00:00<?, ?it/s]"
      ]
     },
     "metadata": {},
     "output_type": "display_data"
    },
    {
     "data": {
      "application/vnd.jupyter.widget-view+json": {
       "model_id": "9a8d0a9f317e4632921f874edc8b3abb",
       "version_major": 2,
       "version_minor": 0
      },
      "text/plain": [
       "Epoch 12/50:   0%|          | 0/115 [00:00<?, ?it/s]"
      ]
     },
     "metadata": {},
     "output_type": "display_data"
    },
    {
     "data": {
      "application/vnd.jupyter.widget-view+json": {
       "model_id": "46c5cbd142a04d9aaac4239abbe357a6",
       "version_major": 2,
       "version_minor": 0
      },
      "text/plain": [
       "Epoch 13/50:   0%|          | 0/115 [00:00<?, ?it/s]"
      ]
     },
     "metadata": {},
     "output_type": "display_data"
    },
    {
     "data": {
      "application/vnd.jupyter.widget-view+json": {
       "model_id": "22e6033151b8403fb53634fd720033c2",
       "version_major": 2,
       "version_minor": 0
      },
      "text/plain": [
       "Epoch 14/50:   0%|          | 0/115 [00:00<?, ?it/s]"
      ]
     },
     "metadata": {},
     "output_type": "display_data"
    },
    {
     "data": {
      "application/vnd.jupyter.widget-view+json": {
       "model_id": "bb8262d7f55f44e9b3e3782a007a226e",
       "version_major": 2,
       "version_minor": 0
      },
      "text/plain": [
       "Epoch 15/50:   0%|          | 0/115 [00:00<?, ?it/s]"
      ]
     },
     "metadata": {},
     "output_type": "display_data"
    },
    {
     "name": "stdout",
     "output_type": "stream",
     "text": [
      "\n",
      "Epoch 15: New best F1-score: 0.6589\n",
      "Accuracy: 0.7027, Precision: 0.6891, Recall: 0.7027\n",
      "Saving checkpoint to C:\\Users\\PC\\lavar\\audiotwin_checkpoints_medium\\training_checkpoints\\PestLarvaNet_AudioTwin_Run_4_data_50.0percent.pth\n"
     ]
    },
    {
     "data": {
      "application/vnd.jupyter.widget-view+json": {
       "model_id": "21a30f2a28df4992bc089b0ca7ab81a8",
       "version_major": 2,
       "version_minor": 0
      },
      "text/plain": [
       "Epoch 16/50:   0%|          | 0/115 [00:00<?, ?it/s]"
      ]
     },
     "metadata": {},
     "output_type": "display_data"
    },
    {
     "name": "stdout",
     "output_type": "stream",
     "text": [
      "\n",
      "Epoch 16: New best F1-score: 0.6652\n",
      "Accuracy: 0.7093, Precision: 0.7582, Recall: 0.7093\n",
      "Saving checkpoint to C:\\Users\\PC\\lavar\\audiotwin_checkpoints_medium\\training_checkpoints\\PestLarvaNet_AudioTwin_Run_4_data_50.0percent.pth\n"
     ]
    },
    {
     "data": {
      "application/vnd.jupyter.widget-view+json": {
       "model_id": "682cd7e6f5054b769f19771289bade04",
       "version_major": 2,
       "version_minor": 0
      },
      "text/plain": [
       "Epoch 17/50:   0%|          | 0/115 [00:00<?, ?it/s]"
      ]
     },
     "metadata": {},
     "output_type": "display_data"
    },
    {
     "data": {
      "application/vnd.jupyter.widget-view+json": {
       "model_id": "46f875efbe6e4a9da1e069040f5c0674",
       "version_major": 2,
       "version_minor": 0
      },
      "text/plain": [
       "Epoch 18/50:   0%|          | 0/115 [00:00<?, ?it/s]"
      ]
     },
     "metadata": {},
     "output_type": "display_data"
    },
    {
     "name": "stdout",
     "output_type": "stream",
     "text": [
      "\n",
      "Epoch 18: New best F1-score: 0.6903\n",
      "Accuracy: 0.7295, Precision: 0.7477, Recall: 0.7295\n",
      "Saving checkpoint to C:\\Users\\PC\\lavar\\audiotwin_checkpoints_medium\\training_checkpoints\\PestLarvaNet_AudioTwin_Run_4_data_50.0percent.pth\n"
     ]
    },
    {
     "data": {
      "application/vnd.jupyter.widget-view+json": {
       "model_id": "c3d11aa3d40f44df84ba580d87a6ad66",
       "version_major": 2,
       "version_minor": 0
      },
      "text/plain": [
       "Epoch 19/50:   0%|          | 0/115 [00:00<?, ?it/s]"
      ]
     },
     "metadata": {},
     "output_type": "display_data"
    },
    {
     "name": "stdout",
     "output_type": "stream",
     "text": [
      "\n",
      "Epoch 19: New best F1-score: 0.7029\n",
      "Accuracy: 0.7366, Precision: 0.7742, Recall: 0.7366\n",
      "Saving checkpoint to C:\\Users\\PC\\lavar\\audiotwin_checkpoints_medium\\training_checkpoints\\PestLarvaNet_AudioTwin_Run_4_data_50.0percent.pth\n"
     ]
    },
    {
     "data": {
      "application/vnd.jupyter.widget-view+json": {
       "model_id": "898baec859fd449a9405abb4dae550d3",
       "version_major": 2,
       "version_minor": 0
      },
      "text/plain": [
       "Epoch 20/50:   0%|          | 0/115 [00:00<?, ?it/s]"
      ]
     },
     "metadata": {},
     "output_type": "display_data"
    },
    {
     "name": "stdout",
     "output_type": "stream",
     "text": [
      "\n",
      "Epoch 20: New best F1-score: 0.7347\n",
      "Accuracy: 0.7486, Precision: 0.7365, Recall: 0.7486\n",
      "Saving checkpoint to C:\\Users\\PC\\lavar\\audiotwin_checkpoints_medium\\training_checkpoints\\PestLarvaNet_AudioTwin_Run_4_data_50.0percent.pth\n"
     ]
    },
    {
     "data": {
      "application/vnd.jupyter.widget-view+json": {
       "model_id": "f411245b018d457abab8a60057ff63a4",
       "version_major": 2,
       "version_minor": 0
      },
      "text/plain": [
       "Epoch 21/50:   0%|          | 0/115 [00:00<?, ?it/s]"
      ]
     },
     "metadata": {},
     "output_type": "display_data"
    },
    {
     "data": {
      "application/vnd.jupyter.widget-view+json": {
       "model_id": "f6a65adfe46c409f8f92868f613077d3",
       "version_major": 2,
       "version_minor": 0
      },
      "text/plain": [
       "Epoch 22/50:   0%|          | 0/115 [00:00<?, ?it/s]"
      ]
     },
     "metadata": {},
     "output_type": "display_data"
    },
    {
     "data": {
      "application/vnd.jupyter.widget-view+json": {
       "model_id": "073b51eea19a4e2c9062d6d46ca46ee6",
       "version_major": 2,
       "version_minor": 0
      },
      "text/plain": [
       "Epoch 23/50:   0%|          | 0/115 [00:00<?, ?it/s]"
      ]
     },
     "metadata": {},
     "output_type": "display_data"
    },
    {
     "data": {
      "application/vnd.jupyter.widget-view+json": {
       "model_id": "c50169d5c75d4353bd13e25b72f8d0e2",
       "version_major": 2,
       "version_minor": 0
      },
      "text/plain": [
       "Epoch 24/50:   0%|          | 0/115 [00:00<?, ?it/s]"
      ]
     },
     "metadata": {},
     "output_type": "display_data"
    },
    {
     "data": {
      "application/vnd.jupyter.widget-view+json": {
       "model_id": "0bbbca1c44284f0799400ba3a8e5b082",
       "version_major": 2,
       "version_minor": 0
      },
      "text/plain": [
       "Epoch 25/50:   0%|          | 0/115 [00:00<?, ?it/s]"
      ]
     },
     "metadata": {},
     "output_type": "display_data"
    },
    {
     "name": "stdout",
     "output_type": "stream",
     "text": [
      "\n",
      "Epoch 25: New best F1-score: 0.7605\n",
      "Accuracy: 0.7749, Precision: 0.7804, Recall: 0.7749\n",
      "Saving checkpoint to C:\\Users\\PC\\lavar\\audiotwin_checkpoints_medium\\training_checkpoints\\PestLarvaNet_AudioTwin_Run_4_data_50.0percent.pth\n"
     ]
    },
    {
     "data": {
      "application/vnd.jupyter.widget-view+json": {
       "model_id": "ead9e9690c9d4e08931f7f6bc505881c",
       "version_major": 2,
       "version_minor": 0
      },
      "text/plain": [
       "Epoch 26/50:   0%|          | 0/115 [00:00<?, ?it/s]"
      ]
     },
     "metadata": {},
     "output_type": "display_data"
    },
    {
     "data": {
      "application/vnd.jupyter.widget-view+json": {
       "model_id": "7aeed604ae1b475d83e096c465f7b30f",
       "version_major": 2,
       "version_minor": 0
      },
      "text/plain": [
       "Epoch 27/50:   0%|          | 0/115 [00:00<?, ?it/s]"
      ]
     },
     "metadata": {},
     "output_type": "display_data"
    },
    {
     "name": "stdout",
     "output_type": "stream",
     "text": [
      "\n",
      "Epoch 27: New best F1-score: 0.7765\n",
      "Accuracy: 0.7934, Precision: 0.8428, Recall: 0.7934\n",
      "Saving checkpoint to C:\\Users\\PC\\lavar\\audiotwin_checkpoints_medium\\training_checkpoints\\PestLarvaNet_AudioTwin_Run_4_data_50.0percent.pth\n"
     ]
    },
    {
     "data": {
      "application/vnd.jupyter.widget-view+json": {
       "model_id": "146be84bf0964c4c9c7ca99551ca47fe",
       "version_major": 2,
       "version_minor": 0
      },
      "text/plain": [
       "Epoch 28/50:   0%|          | 0/115 [00:00<?, ?it/s]"
      ]
     },
     "metadata": {},
     "output_type": "display_data"
    },
    {
     "data": {
      "application/vnd.jupyter.widget-view+json": {
       "model_id": "6d4a402857224043bec83781227cd67d",
       "version_major": 2,
       "version_minor": 0
      },
      "text/plain": [
       "Epoch 29/50:   0%|          | 0/115 [00:00<?, ?it/s]"
      ]
     },
     "metadata": {},
     "output_type": "display_data"
    },
    {
     "name": "stdout",
     "output_type": "stream",
     "text": [
      "\n",
      "Epoch 29: New best F1-score: 0.8097\n",
      "Accuracy: 0.8246, Precision: 0.8505, Recall: 0.8246\n",
      "Saving checkpoint to C:\\Users\\PC\\lavar\\audiotwin_checkpoints_medium\\training_checkpoints\\PestLarvaNet_AudioTwin_Run_4_data_50.0percent.pth\n"
     ]
    },
    {
     "data": {
      "application/vnd.jupyter.widget-view+json": {
       "model_id": "19cb179b418f42deb5e3d8195abbb1c4",
       "version_major": 2,
       "version_minor": 0
      },
      "text/plain": [
       "Epoch 30/50:   0%|          | 0/115 [00:00<?, ?it/s]"
      ]
     },
     "metadata": {},
     "output_type": "display_data"
    },
    {
     "name": "stdout",
     "output_type": "stream",
     "text": [
      "\n",
      "Epoch 30: New best F1-score: 0.8505\n",
      "Accuracy: 0.8530, Precision: 0.8542, Recall: 0.8530\n",
      "Saving checkpoint to C:\\Users\\PC\\lavar\\audiotwin_checkpoints_medium\\training_checkpoints\\PestLarvaNet_AudioTwin_Run_4_data_50.0percent.pth\n"
     ]
    },
    {
     "data": {
      "application/vnd.jupyter.widget-view+json": {
       "model_id": "28137728e961463abf4151e7d5b0a685",
       "version_major": 2,
       "version_minor": 0
      },
      "text/plain": [
       "Epoch 31/50:   0%|          | 0/115 [00:00<?, ?it/s]"
      ]
     },
     "metadata": {},
     "output_type": "display_data"
    },
    {
     "data": {
      "application/vnd.jupyter.widget-view+json": {
       "model_id": "fb0b55b4a16249299cd64598dad31c04",
       "version_major": 2,
       "version_minor": 0
      },
      "text/plain": [
       "Epoch 32/50:   0%|          | 0/115 [00:00<?, ?it/s]"
      ]
     },
     "metadata": {},
     "output_type": "display_data"
    },
    {
     "data": {
      "application/vnd.jupyter.widget-view+json": {
       "model_id": "0a0de2eec7b44746be2daea57df9f491",
       "version_major": 2,
       "version_minor": 0
      },
      "text/plain": [
       "Epoch 33/50:   0%|          | 0/115 [00:00<?, ?it/s]"
      ]
     },
     "metadata": {},
     "output_type": "display_data"
    },
    {
     "data": {
      "application/vnd.jupyter.widget-view+json": {
       "model_id": "6f8bdb38161145b39567c2eb63bf3f18",
       "version_major": 2,
       "version_minor": 0
      },
      "text/plain": [
       "Epoch 34/50:   0%|          | 0/115 [00:00<?, ?it/s]"
      ]
     },
     "metadata": {},
     "output_type": "display_data"
    },
    {
     "data": {
      "application/vnd.jupyter.widget-view+json": {
       "model_id": "e7d547d37313414fbab521fbd654cd4c",
       "version_major": 2,
       "version_minor": 0
      },
      "text/plain": [
       "Epoch 35/50:   0%|          | 0/115 [00:00<?, ?it/s]"
      ]
     },
     "metadata": {},
     "output_type": "display_data"
    },
    {
     "data": {
      "application/vnd.jupyter.widget-view+json": {
       "model_id": "a4a32ba1a4d0442f9f75c7dae0c2dbc4",
       "version_major": 2,
       "version_minor": 0
      },
      "text/plain": [
       "Epoch 36/50:   0%|          | 0/115 [00:00<?, ?it/s]"
      ]
     },
     "metadata": {},
     "output_type": "display_data"
    },
    {
     "data": {
      "application/vnd.jupyter.widget-view+json": {
       "model_id": "9a848ed4df064dcc8c9be5db67712f76",
       "version_major": 2,
       "version_minor": 0
      },
      "text/plain": [
       "Epoch 37/50:   0%|          | 0/115 [00:00<?, ?it/s]"
      ]
     },
     "metadata": {},
     "output_type": "display_data"
    },
    {
     "name": "stdout",
     "output_type": "stream",
     "text": [
      "\n",
      "Epoch 37: New best F1-score: 0.8629\n",
      "Accuracy: 0.8650, Precision: 0.8709, Recall: 0.8650\n",
      "Saving checkpoint to C:\\Users\\PC\\lavar\\audiotwin_checkpoints_medium\\training_checkpoints\\PestLarvaNet_AudioTwin_Run_4_data_50.0percent.pth\n"
     ]
    },
    {
     "data": {
      "application/vnd.jupyter.widget-view+json": {
       "model_id": "3ad800fb53d64d58af5f0a09194c6dc8",
       "version_major": 2,
       "version_minor": 0
      },
      "text/plain": [
       "Epoch 38/50:   0%|          | 0/115 [00:00<?, ?it/s]"
      ]
     },
     "metadata": {},
     "output_type": "display_data"
    },
    {
     "data": {
      "application/vnd.jupyter.widget-view+json": {
       "model_id": "3ef0ff8523a54f0b885ec4f5c09e999c",
       "version_major": 2,
       "version_minor": 0
      },
      "text/plain": [
       "Epoch 39/50:   0%|          | 0/115 [00:00<?, ?it/s]"
      ]
     },
     "metadata": {},
     "output_type": "display_data"
    },
    {
     "name": "stdout",
     "output_type": "stream",
     "text": [
      "\n",
      "Epoch 39: New best F1-score: 0.8674\n",
      "Accuracy: 0.8683, Precision: 0.8769, Recall: 0.8683\n",
      "Saving checkpoint to C:\\Users\\PC\\lavar\\audiotwin_checkpoints_medium\\training_checkpoints\\PestLarvaNet_AudioTwin_Run_4_data_50.0percent.pth\n"
     ]
    },
    {
     "data": {
      "application/vnd.jupyter.widget-view+json": {
       "model_id": "0966ee240b4c484b81e2aa3bc09b37e0",
       "version_major": 2,
       "version_minor": 0
      },
      "text/plain": [
       "Epoch 40/50:   0%|          | 0/115 [00:00<?, ?it/s]"
      ]
     },
     "metadata": {},
     "output_type": "display_data"
    },
    {
     "name": "stdout",
     "output_type": "stream",
     "text": [
      "\n",
      "Epoch 40: New best F1-score: 0.8760\n",
      "Accuracy: 0.8770, Precision: 0.8772, Recall: 0.8770\n",
      "Saving checkpoint to C:\\Users\\PC\\lavar\\audiotwin_checkpoints_medium\\training_checkpoints\\PestLarvaNet_AudioTwin_Run_4_data_50.0percent.pth\n"
     ]
    },
    {
     "data": {
      "application/vnd.jupyter.widget-view+json": {
       "model_id": "f0e82140d78940efad9c779b8069783e",
       "version_major": 2,
       "version_minor": 0
      },
      "text/plain": [
       "Epoch 41/50:   0%|          | 0/115 [00:00<?, ?it/s]"
      ]
     },
     "metadata": {},
     "output_type": "display_data"
    },
    {
     "data": {
      "application/vnd.jupyter.widget-view+json": {
       "model_id": "fb2c6087a25a40a4b359a6701c3947c4",
       "version_major": 2,
       "version_minor": 0
      },
      "text/plain": [
       "Epoch 42/50:   0%|          | 0/115 [00:00<?, ?it/s]"
      ]
     },
     "metadata": {},
     "output_type": "display_data"
    },
    {
     "data": {
      "application/vnd.jupyter.widget-view+json": {
       "model_id": "04307ee43470407788ab945f4fab5a82",
       "version_major": 2,
       "version_minor": 0
      },
      "text/plain": [
       "Epoch 43/50:   0%|          | 0/115 [00:00<?, ?it/s]"
      ]
     },
     "metadata": {},
     "output_type": "display_data"
    },
    {
     "data": {
      "application/vnd.jupyter.widget-view+json": {
       "model_id": "a08048ff83f0488db4aec65ade1bb071",
       "version_major": 2,
       "version_minor": 0
      },
      "text/plain": [
       "Epoch 44/50:   0%|          | 0/115 [00:00<?, ?it/s]"
      ]
     },
     "metadata": {},
     "output_type": "display_data"
    },
    {
     "data": {
      "application/vnd.jupyter.widget-view+json": {
       "model_id": "eec0fcf0a0a14809a9e172a912c54707",
       "version_major": 2,
       "version_minor": 0
      },
      "text/plain": [
       "Epoch 45/50:   0%|          | 0/115 [00:00<?, ?it/s]"
      ]
     },
     "metadata": {},
     "output_type": "display_data"
    },
    {
     "data": {
      "application/vnd.jupyter.widget-view+json": {
       "model_id": "032da23d3c83486e9a065dbe67b0eab5",
       "version_major": 2,
       "version_minor": 0
      },
      "text/plain": [
       "Epoch 46/50:   0%|          | 0/115 [00:00<?, ?it/s]"
      ]
     },
     "metadata": {},
     "output_type": "display_data"
    },
    {
     "data": {
      "application/vnd.jupyter.widget-view+json": {
       "model_id": "db581db4d26b4eb0980dcd2e149f31b1",
       "version_major": 2,
       "version_minor": 0
      },
      "text/plain": [
       "Epoch 47/50:   0%|          | 0/115 [00:00<?, ?it/s]"
      ]
     },
     "metadata": {},
     "output_type": "display_data"
    },
    {
     "name": "stdout",
     "output_type": "stream",
     "text": [
      "\n",
      "Epoch 47: New best F1-score: 0.8779\n",
      "Accuracy: 0.8792, Precision: 0.8831, Recall: 0.8792\n",
      "Saving checkpoint to C:\\Users\\PC\\lavar\\audiotwin_checkpoints_medium\\training_checkpoints\\PestLarvaNet_AudioTwin_Run_4_data_50.0percent.pth\n"
     ]
    },
    {
     "data": {
      "application/vnd.jupyter.widget-view+json": {
       "model_id": "ccb185ef13664aabb4f51f7c093f4664",
       "version_major": 2,
       "version_minor": 0
      },
      "text/plain": [
       "Epoch 48/50:   0%|          | 0/115 [00:00<?, ?it/s]"
      ]
     },
     "metadata": {},
     "output_type": "display_data"
    },
    {
     "name": "stdout",
     "output_type": "stream",
     "text": [
      "\n",
      "Epoch 48: New best F1-score: 0.8833\n",
      "Accuracy: 0.8847, Precision: 0.8893, Recall: 0.8847\n",
      "Saving checkpoint to C:\\Users\\PC\\lavar\\audiotwin_checkpoints_medium\\training_checkpoints\\PestLarvaNet_AudioTwin_Run_4_data_50.0percent.pth\n"
     ]
    },
    {
     "data": {
      "application/vnd.jupyter.widget-view+json": {
       "model_id": "c18f73fe36df451f8ea2a4bcb51f4383",
       "version_major": 2,
       "version_minor": 0
      },
      "text/plain": [
       "Epoch 49/50:   0%|          | 0/115 [00:00<?, ?it/s]"
      ]
     },
     "metadata": {},
     "output_type": "display_data"
    },
    {
     "name": "stdout",
     "output_type": "stream",
     "text": [
      "\n",
      "Epoch 49: New best F1-score: 0.8921\n",
      "Accuracy: 0.8929, Precision: 0.8957, Recall: 0.8929\n",
      "Saving checkpoint to C:\\Users\\PC\\lavar\\audiotwin_checkpoints_medium\\training_checkpoints\\PestLarvaNet_AudioTwin_Run_4_data_50.0percent.pth\n"
     ]
    },
    {
     "data": {
      "application/vnd.jupyter.widget-view+json": {
       "model_id": "a5af02631b8e4bdc9a6b569e566e397c",
       "version_major": 2,
       "version_minor": 0
      },
      "text/plain": [
       "Epoch 50/50:   0%|          | 0/115 [00:00<?, ?it/s]"
      ]
     },
     "metadata": {},
     "output_type": "display_data"
    },
    {
     "name": "stdout",
     "output_type": "stream",
     "text": [
      "Finished Training for this run. Best F1-score: 0.8921\n",
      "==> Results with 50.0% data: Best F1-Score = 0.8921\n",
      "--- Training with 100.0% of labeled data ---\n",
      "Loading pretrained weights from: C:\\Users\\PC\\lavar\\audiotwin_checkpoints_medium\\run_4_lp5e-03_ep1e-06_lb0.007_audiotwin_pestlarvanet_medium_epoch_100.pth\n"
     ]
    },
    {
     "name": "stderr",
     "output_type": "stream",
     "text": [
      "C:\\Users\\PC\\anaconda3\\envs\\train_env\\lib\\site-packages\\torch\\optim\\lr_scheduler.py:62: UserWarning: The verbose parameter is deprecated. Please use get_last_lr() to access the learning rate.\n",
      "  warnings.warn(\n"
     ]
    },
    {
     "data": {
      "application/vnd.jupyter.widget-view+json": {
       "model_id": "eef3798d8f2045468a4c0190e1e5fde4",
       "version_major": 2,
       "version_minor": 0
      },
      "text/plain": [
       "Epoch 1/50:   0%|          | 0/229 [00:00<?, ?it/s]"
      ]
     },
     "metadata": {},
     "output_type": "display_data"
    },
    {
     "name": "stdout",
     "output_type": "stream",
     "text": [
      "\n",
      "Epoch 1: New best F1-score: 0.5279\n",
      "Accuracy: 0.6000, Precision: 0.5699, Recall: 0.6000\n",
      "Saving checkpoint to C:\\Users\\PC\\lavar\\audiotwin_checkpoints_medium\\training_checkpoints\\PestLarvaNet_AudioTwin_Run_4_data_100.0percent.pth\n"
     ]
    },
    {
     "data": {
      "application/vnd.jupyter.widget-view+json": {
       "model_id": "db48c80d6a744b688fa8c2ed1caa8c82",
       "version_major": 2,
       "version_minor": 0
      },
      "text/plain": [
       "Epoch 2/50:   0%|          | 0/229 [00:00<?, ?it/s]"
      ]
     },
     "metadata": {},
     "output_type": "display_data"
    },
    {
     "name": "stdout",
     "output_type": "stream",
     "text": [
      "\n",
      "Epoch 2: New best F1-score: 0.5622\n",
      "Accuracy: 0.6350, Precision: 0.5920, Recall: 0.6350\n",
      "Saving checkpoint to C:\\Users\\PC\\lavar\\audiotwin_checkpoints_medium\\training_checkpoints\\PestLarvaNet_AudioTwin_Run_4_data_100.0percent.pth\n"
     ]
    },
    {
     "data": {
      "application/vnd.jupyter.widget-view+json": {
       "model_id": "d35e7a0b5cfb4784b36bb620c71766e8",
       "version_major": 2,
       "version_minor": 0
      },
      "text/plain": [
       "Epoch 3/50:   0%|          | 0/229 [00:00<?, ?it/s]"
      ]
     },
     "metadata": {},
     "output_type": "display_data"
    },
    {
     "name": "stdout",
     "output_type": "stream",
     "text": [
      "\n",
      "Epoch 3: New best F1-score: 0.5774\n",
      "Accuracy: 0.6142, Precision: 0.5811, Recall: 0.6142\n",
      "Saving checkpoint to C:\\Users\\PC\\lavar\\audiotwin_checkpoints_medium\\training_checkpoints\\PestLarvaNet_AudioTwin_Run_4_data_100.0percent.pth\n"
     ]
    },
    {
     "data": {
      "application/vnd.jupyter.widget-view+json": {
       "model_id": "eaa45ff72e704659b8e1f95b3554d603",
       "version_major": 2,
       "version_minor": 0
      },
      "text/plain": [
       "Epoch 4/50:   0%|          | 0/229 [00:00<?, ?it/s]"
      ]
     },
     "metadata": {},
     "output_type": "display_data"
    },
    {
     "name": "stdout",
     "output_type": "stream",
     "text": [
      "\n",
      "Epoch 4: New best F1-score: 0.6333\n",
      "Accuracy: 0.6738, Precision: 0.6336, Recall: 0.6738\n",
      "Saving checkpoint to C:\\Users\\PC\\lavar\\audiotwin_checkpoints_medium\\training_checkpoints\\PestLarvaNet_AudioTwin_Run_4_data_100.0percent.pth\n"
     ]
    },
    {
     "data": {
      "application/vnd.jupyter.widget-view+json": {
       "model_id": "2a18e0363b214523b71de946d7ad7b79",
       "version_major": 2,
       "version_minor": 0
      },
      "text/plain": [
       "Epoch 5/50:   0%|          | 0/229 [00:00<?, ?it/s]"
      ]
     },
     "metadata": {},
     "output_type": "display_data"
    },
    {
     "data": {
      "application/vnd.jupyter.widget-view+json": {
       "model_id": "a72e67a48680454e8011490e5c953ecc",
       "version_major": 2,
       "version_minor": 0
      },
      "text/plain": [
       "Epoch 6/50:   0%|          | 0/229 [00:00<?, ?it/s]"
      ]
     },
     "metadata": {},
     "output_type": "display_data"
    },
    {
     "data": {
      "application/vnd.jupyter.widget-view+json": {
       "model_id": "0f178bca06c84a37acce678ea942586a",
       "version_major": 2,
       "version_minor": 0
      },
      "text/plain": [
       "Epoch 7/50:   0%|          | 0/229 [00:00<?, ?it/s]"
      ]
     },
     "metadata": {},
     "output_type": "display_data"
    },
    {
     "data": {
      "application/vnd.jupyter.widget-view+json": {
       "model_id": "d1e2a4e5006e49baa58674cada528f89",
       "version_major": 2,
       "version_minor": 0
      },
      "text/plain": [
       "Epoch 8/50:   0%|          | 0/229 [00:00<?, ?it/s]"
      ]
     },
     "metadata": {},
     "output_type": "display_data"
    },
    {
     "name": "stdout",
     "output_type": "stream",
     "text": [
      "\n",
      "Epoch 8: New best F1-score: 0.6412\n",
      "Accuracy: 0.6749, Precision: 0.6869, Recall: 0.6749\n",
      "Saving checkpoint to C:\\Users\\PC\\lavar\\audiotwin_checkpoints_medium\\training_checkpoints\\PestLarvaNet_AudioTwin_Run_4_data_100.0percent.pth\n"
     ]
    },
    {
     "data": {
      "application/vnd.jupyter.widget-view+json": {
       "model_id": "9307340be3d944d7997ffcfa26cf95ea",
       "version_major": 2,
       "version_minor": 0
      },
      "text/plain": [
       "Epoch 9/50:   0%|          | 0/229 [00:00<?, ?it/s]"
      ]
     },
     "metadata": {},
     "output_type": "display_data"
    },
    {
     "name": "stdout",
     "output_type": "stream",
     "text": [
      "\n",
      "Epoch 9: New best F1-score: 0.6593\n",
      "Accuracy: 0.6907, Precision: 0.7190, Recall: 0.6907\n",
      "Saving checkpoint to C:\\Users\\PC\\lavar\\audiotwin_checkpoints_medium\\training_checkpoints\\PestLarvaNet_AudioTwin_Run_4_data_100.0percent.pth\n"
     ]
    },
    {
     "data": {
      "application/vnd.jupyter.widget-view+json": {
       "model_id": "5c53d65d47ab43ff94c890e86fa944a5",
       "version_major": 2,
       "version_minor": 0
      },
      "text/plain": [
       "Epoch 10/50:   0%|          | 0/229 [00:00<?, ?it/s]"
      ]
     },
     "metadata": {},
     "output_type": "display_data"
    },
    {
     "data": {
      "application/vnd.jupyter.widget-view+json": {
       "model_id": "94f791e1db994694b3232b62699391ac",
       "version_major": 2,
       "version_minor": 0
      },
      "text/plain": [
       "Epoch 11/50:   0%|          | 0/229 [00:00<?, ?it/s]"
      ]
     },
     "metadata": {},
     "output_type": "display_data"
    },
    {
     "data": {
      "application/vnd.jupyter.widget-view+json": {
       "model_id": "20a3831289ff4984bbecda76a9d78772",
       "version_major": 2,
       "version_minor": 0
      },
      "text/plain": [
       "Epoch 12/50:   0%|          | 0/229 [00:00<?, ?it/s]"
      ]
     },
     "metadata": {},
     "output_type": "display_data"
    },
    {
     "data": {
      "application/vnd.jupyter.widget-view+json": {
       "model_id": "6d238d76e0234057a849aa8de537e9e7",
       "version_major": 2,
       "version_minor": 0
      },
      "text/plain": [
       "Epoch 13/50:   0%|          | 0/229 [00:00<?, ?it/s]"
      ]
     },
     "metadata": {},
     "output_type": "display_data"
    },
    {
     "name": "stdout",
     "output_type": "stream",
     "text": [
      "\n",
      "Epoch 13: New best F1-score: 0.6943\n",
      "Accuracy: 0.7077, Precision: 0.7304, Recall: 0.7077\n",
      "Saving checkpoint to C:\\Users\\PC\\lavar\\audiotwin_checkpoints_medium\\training_checkpoints\\PestLarvaNet_AudioTwin_Run_4_data_100.0percent.pth\n"
     ]
    },
    {
     "data": {
      "application/vnd.jupyter.widget-view+json": {
       "model_id": "84c066a78fb9486e8d156735ac74781f",
       "version_major": 2,
       "version_minor": 0
      },
      "text/plain": [
       "Epoch 14/50:   0%|          | 0/229 [00:00<?, ?it/s]"
      ]
     },
     "metadata": {},
     "output_type": "display_data"
    },
    {
     "data": {
      "application/vnd.jupyter.widget-view+json": {
       "model_id": "1012cde731dd474bbe6de5cc05b26bd6",
       "version_major": 2,
       "version_minor": 0
      },
      "text/plain": [
       "Epoch 15/50:   0%|          | 0/229 [00:00<?, ?it/s]"
      ]
     },
     "metadata": {},
     "output_type": "display_data"
    },
    {
     "name": "stdout",
     "output_type": "stream",
     "text": [
      "\n",
      "Epoch 15: New best F1-score: 0.6967\n",
      "Accuracy: 0.7224, Precision: 0.7075, Recall: 0.7224\n",
      "Saving checkpoint to C:\\Users\\PC\\lavar\\audiotwin_checkpoints_medium\\training_checkpoints\\PestLarvaNet_AudioTwin_Run_4_data_100.0percent.pth\n"
     ]
    },
    {
     "data": {
      "application/vnd.jupyter.widget-view+json": {
       "model_id": "eab7639811ad4932996d36628dd8d1b3",
       "version_major": 2,
       "version_minor": 0
      },
      "text/plain": [
       "Epoch 16/50:   0%|          | 0/229 [00:00<?, ?it/s]"
      ]
     },
     "metadata": {},
     "output_type": "display_data"
    },
    {
     "data": {
      "application/vnd.jupyter.widget-view+json": {
       "model_id": "1e6412aa10084a5283d9011c96d338df",
       "version_major": 2,
       "version_minor": 0
      },
      "text/plain": [
       "Epoch 17/50:   0%|          | 0/229 [00:00<?, ?it/s]"
      ]
     },
     "metadata": {},
     "output_type": "display_data"
    },
    {
     "data": {
      "application/vnd.jupyter.widget-view+json": {
       "model_id": "b46edb8e5da4433ab862d3e4d7fb0cba",
       "version_major": 2,
       "version_minor": 0
      },
      "text/plain": [
       "Epoch 18/50:   0%|          | 0/229 [00:00<?, ?it/s]"
      ]
     },
     "metadata": {},
     "output_type": "display_data"
    },
    {
     "name": "stdout",
     "output_type": "stream",
     "text": [
      "\n",
      "Epoch 18: New best F1-score: 0.7032\n",
      "Accuracy: 0.7257, Precision: 0.7490, Recall: 0.7257\n",
      "Saving checkpoint to C:\\Users\\PC\\lavar\\audiotwin_checkpoints_medium\\training_checkpoints\\PestLarvaNet_AudioTwin_Run_4_data_100.0percent.pth\n"
     ]
    },
    {
     "data": {
      "application/vnd.jupyter.widget-view+json": {
       "model_id": "fb80cb74a62e4bfab327636714b1132f",
       "version_major": 2,
       "version_minor": 0
      },
      "text/plain": [
       "Epoch 19/50:   0%|          | 0/229 [00:00<?, ?it/s]"
      ]
     },
     "metadata": {},
     "output_type": "display_data"
    },
    {
     "name": "stdout",
     "output_type": "stream",
     "text": [
      "\n",
      "Epoch 19: New best F1-score: 0.7455\n",
      "Accuracy: 0.7596, Precision: 0.7475, Recall: 0.7596\n",
      "Saving checkpoint to C:\\Users\\PC\\lavar\\audiotwin_checkpoints_medium\\training_checkpoints\\PestLarvaNet_AudioTwin_Run_4_data_100.0percent.pth\n"
     ]
    },
    {
     "data": {
      "application/vnd.jupyter.widget-view+json": {
       "model_id": "823a9f88a2c04dd7aa13fefc4d60b0cd",
       "version_major": 2,
       "version_minor": 0
      },
      "text/plain": [
       "Epoch 20/50:   0%|          | 0/229 [00:00<?, ?it/s]"
      ]
     },
     "metadata": {},
     "output_type": "display_data"
    },
    {
     "name": "stdout",
     "output_type": "stream",
     "text": [
      "\n",
      "Epoch 20: New best F1-score: 0.7668\n",
      "Accuracy: 0.7836, Precision: 0.7793, Recall: 0.7836\n",
      "Saving checkpoint to C:\\Users\\PC\\lavar\\audiotwin_checkpoints_medium\\training_checkpoints\\PestLarvaNet_AudioTwin_Run_4_data_100.0percent.pth\n"
     ]
    },
    {
     "data": {
      "application/vnd.jupyter.widget-view+json": {
       "model_id": "5789c7be3ece4b1c98af9d8b82694bd3",
       "version_major": 2,
       "version_minor": 0
      },
      "text/plain": [
       "Epoch 21/50:   0%|          | 0/229 [00:00<?, ?it/s]"
      ]
     },
     "metadata": {},
     "output_type": "display_data"
    },
    {
     "data": {
      "application/vnd.jupyter.widget-view+json": {
       "model_id": "fb4cc063d5d94449b470a539e5bccdcd",
       "version_major": 2,
       "version_minor": 0
      },
      "text/plain": [
       "Epoch 22/50:   0%|          | 0/229 [00:00<?, ?it/s]"
      ]
     },
     "metadata": {},
     "output_type": "display_data"
    },
    {
     "name": "stdout",
     "output_type": "stream",
     "text": [
      "\n",
      "Epoch 22: New best F1-score: 0.7866\n",
      "Accuracy: 0.7951, Precision: 0.7958, Recall: 0.7951\n",
      "Saving checkpoint to C:\\Users\\PC\\lavar\\audiotwin_checkpoints_medium\\training_checkpoints\\PestLarvaNet_AudioTwin_Run_4_data_100.0percent.pth\n"
     ]
    },
    {
     "data": {
      "application/vnd.jupyter.widget-view+json": {
       "model_id": "38e90408db834c25896a1f8d237f9dcc",
       "version_major": 2,
       "version_minor": 0
      },
      "text/plain": [
       "Epoch 23/50:   0%|          | 0/229 [00:00<?, ?it/s]"
      ]
     },
     "metadata": {},
     "output_type": "display_data"
    },
    {
     "data": {
      "application/vnd.jupyter.widget-view+json": {
       "model_id": "07c9596d909741ac9f39b844669049c2",
       "version_major": 2,
       "version_minor": 0
      },
      "text/plain": [
       "Epoch 24/50:   0%|          | 0/229 [00:00<?, ?it/s]"
      ]
     },
     "metadata": {},
     "output_type": "display_data"
    },
    {
     "name": "stdout",
     "output_type": "stream",
     "text": [
      "\n",
      "Epoch 24: New best F1-score: 0.8104\n",
      "Accuracy: 0.8137, Precision: 0.8157, Recall: 0.8137\n",
      "Saving checkpoint to C:\\Users\\PC\\lavar\\audiotwin_checkpoints_medium\\training_checkpoints\\PestLarvaNet_AudioTwin_Run_4_data_100.0percent.pth\n"
     ]
    },
    {
     "data": {
      "application/vnd.jupyter.widget-view+json": {
       "model_id": "6b64809cc3b64905a20e8e5532a013b3",
       "version_major": 2,
       "version_minor": 0
      },
      "text/plain": [
       "Epoch 25/50:   0%|          | 0/229 [00:00<?, ?it/s]"
      ]
     },
     "metadata": {},
     "output_type": "display_data"
    },
    {
     "data": {
      "application/vnd.jupyter.widget-view+json": {
       "model_id": "d5b3a1012db84e75ab9b0074cbc195e2",
       "version_major": 2,
       "version_minor": 0
      },
      "text/plain": [
       "Epoch 26/50:   0%|          | 0/229 [00:00<?, ?it/s]"
      ]
     },
     "metadata": {},
     "output_type": "display_data"
    },
    {
     "data": {
      "application/vnd.jupyter.widget-view+json": {
       "model_id": "4d9923bf913c49b29c999d412e4f9a3b",
       "version_major": 2,
       "version_minor": 0
      },
      "text/plain": [
       "Epoch 27/50:   0%|          | 0/229 [00:00<?, ?it/s]"
      ]
     },
     "metadata": {},
     "output_type": "display_data"
    },
    {
     "data": {
      "application/vnd.jupyter.widget-view+json": {
       "model_id": "bd01210479544adfab3a7329e4160fc7",
       "version_major": 2,
       "version_minor": 0
      },
      "text/plain": [
       "Epoch 28/50:   0%|          | 0/229 [00:00<?, ?it/s]"
      ]
     },
     "metadata": {},
     "output_type": "display_data"
    },
    {
     "name": "stdout",
     "output_type": "stream",
     "text": [
      "\n",
      "Epoch 28: New best F1-score: 0.8175\n",
      "Accuracy: 0.8273, Precision: 0.8398, Recall: 0.8273\n",
      "Saving checkpoint to C:\\Users\\PC\\lavar\\audiotwin_checkpoints_medium\\training_checkpoints\\PestLarvaNet_AudioTwin_Run_4_data_100.0percent.pth\n"
     ]
    },
    {
     "data": {
      "application/vnd.jupyter.widget-view+json": {
       "model_id": "feda3c40c0384c8fa79a9809e8090b9e",
       "version_major": 2,
       "version_minor": 0
      },
      "text/plain": [
       "Epoch 29/50:   0%|          | 0/229 [00:00<?, ?it/s]"
      ]
     },
     "metadata": {},
     "output_type": "display_data"
    },
    {
     "name": "stdout",
     "output_type": "stream",
     "text": [
      "\n",
      "Epoch 29: New best F1-score: 0.8459\n",
      "Accuracy: 0.8497, Precision: 0.8557, Recall: 0.8497\n",
      "Saving checkpoint to C:\\Users\\PC\\lavar\\audiotwin_checkpoints_medium\\training_checkpoints\\PestLarvaNet_AudioTwin_Run_4_data_100.0percent.pth\n"
     ]
    },
    {
     "data": {
      "application/vnd.jupyter.widget-view+json": {
       "model_id": "d2043f84b90046f5b11cc1b879a7d788",
       "version_major": 2,
       "version_minor": 0
      },
      "text/plain": [
       "Epoch 30/50:   0%|          | 0/229 [00:00<?, ?it/s]"
      ]
     },
     "metadata": {},
     "output_type": "display_data"
    },
    {
     "data": {
      "application/vnd.jupyter.widget-view+json": {
       "model_id": "a437a732221b4fc5974e2068b29e99cb",
       "version_major": 2,
       "version_minor": 0
      },
      "text/plain": [
       "Epoch 31/50:   0%|          | 0/229 [00:00<?, ?it/s]"
      ]
     },
     "metadata": {},
     "output_type": "display_data"
    },
    {
     "data": {
      "application/vnd.jupyter.widget-view+json": {
       "model_id": "2faff2d56992411ca199032f1c1d9026",
       "version_major": 2,
       "version_minor": 0
      },
      "text/plain": [
       "Epoch 32/50:   0%|          | 0/229 [00:00<?, ?it/s]"
      ]
     },
     "metadata": {},
     "output_type": "display_data"
    },
    {
     "data": {
      "application/vnd.jupyter.widget-view+json": {
       "model_id": "876bd07f9bab4669b648e2c76afc6b51",
       "version_major": 2,
       "version_minor": 0
      },
      "text/plain": [
       "Epoch 33/50:   0%|          | 0/229 [00:00<?, ?it/s]"
      ]
     },
     "metadata": {},
     "output_type": "display_data"
    },
    {
     "name": "stdout",
     "output_type": "stream",
     "text": [
      "\n",
      "Epoch 33: New best F1-score: 0.8574\n",
      "Accuracy: 0.8568, Precision: 0.8705, Recall: 0.8568\n",
      "Saving checkpoint to C:\\Users\\PC\\lavar\\audiotwin_checkpoints_medium\\training_checkpoints\\PestLarvaNet_AudioTwin_Run_4_data_100.0percent.pth\n"
     ]
    },
    {
     "data": {
      "application/vnd.jupyter.widget-view+json": {
       "model_id": "9511d71df3b94fc9900539f1c1ddf76a",
       "version_major": 2,
       "version_minor": 0
      },
      "text/plain": [
       "Epoch 34/50:   0%|          | 0/229 [00:00<?, ?it/s]"
      ]
     },
     "metadata": {},
     "output_type": "display_data"
    },
    {
     "data": {
      "application/vnd.jupyter.widget-view+json": {
       "model_id": "428a3e0dc9544d7b8760b8bebd5af7a5",
       "version_major": 2,
       "version_minor": 0
      },
      "text/plain": [
       "Epoch 35/50:   0%|          | 0/229 [00:00<?, ?it/s]"
      ]
     },
     "metadata": {},
     "output_type": "display_data"
    },
    {
     "name": "stdout",
     "output_type": "stream",
     "text": [
      "\n",
      "Epoch 35: New best F1-score: 0.8668\n",
      "Accuracy: 0.8678, Precision: 0.8727, Recall: 0.8678\n",
      "Saving checkpoint to C:\\Users\\PC\\lavar\\audiotwin_checkpoints_medium\\training_checkpoints\\PestLarvaNet_AudioTwin_Run_4_data_100.0percent.pth\n"
     ]
    },
    {
     "data": {
      "application/vnd.jupyter.widget-view+json": {
       "model_id": "8aa93296ec484c37b77de0fe50c16f2f",
       "version_major": 2,
       "version_minor": 0
      },
      "text/plain": [
       "Epoch 36/50:   0%|          | 0/229 [00:00<?, ?it/s]"
      ]
     },
     "metadata": {},
     "output_type": "display_data"
    },
    {
     "data": {
      "application/vnd.jupyter.widget-view+json": {
       "model_id": "f85fc99d177046b98084f1fc37b9f83b",
       "version_major": 2,
       "version_minor": 0
      },
      "text/plain": [
       "Epoch 37/50:   0%|          | 0/229 [00:00<?, ?it/s]"
      ]
     },
     "metadata": {},
     "output_type": "display_data"
    },
    {
     "data": {
      "application/vnd.jupyter.widget-view+json": {
       "model_id": "7d3e4c96577c4eb2956028b56846b2d7",
       "version_major": 2,
       "version_minor": 0
      },
      "text/plain": [
       "Epoch 38/50:   0%|          | 0/229 [00:00<?, ?it/s]"
      ]
     },
     "metadata": {},
     "output_type": "display_data"
    },
    {
     "name": "stdout",
     "output_type": "stream",
     "text": [
      "\n",
      "Epoch 38: New best F1-score: 0.8719\n",
      "Accuracy: 0.8705, Precision: 0.8847, Recall: 0.8705\n",
      "Saving checkpoint to C:\\Users\\PC\\lavar\\audiotwin_checkpoints_medium\\training_checkpoints\\PestLarvaNet_AudioTwin_Run_4_data_100.0percent.pth\n"
     ]
    },
    {
     "data": {
      "application/vnd.jupyter.widget-view+json": {
       "model_id": "7e8df533fbbf4930b935f5abef7df89a",
       "version_major": 2,
       "version_minor": 0
      },
      "text/plain": [
       "Epoch 39/50:   0%|          | 0/229 [00:00<?, ?it/s]"
      ]
     },
     "metadata": {},
     "output_type": "display_data"
    },
    {
     "name": "stdout",
     "output_type": "stream",
     "text": [
      "\n",
      "Epoch 39: New best F1-score: 0.8762\n",
      "Accuracy: 0.8760, Precision: 0.8809, Recall: 0.8760\n",
      "Saving checkpoint to C:\\Users\\PC\\lavar\\audiotwin_checkpoints_medium\\training_checkpoints\\PestLarvaNet_AudioTwin_Run_4_data_100.0percent.pth\n"
     ]
    },
    {
     "data": {
      "application/vnd.jupyter.widget-view+json": {
       "model_id": "0cc9c1dbfbe24b07996481ff1cbd55f1",
       "version_major": 2,
       "version_minor": 0
      },
      "text/plain": [
       "Epoch 40/50:   0%|          | 0/229 [00:00<?, ?it/s]"
      ]
     },
     "metadata": {},
     "output_type": "display_data"
    },
    {
     "data": {
      "application/vnd.jupyter.widget-view+json": {
       "model_id": "4ac9a557571144fb84525ee2af7931cc",
       "version_major": 2,
       "version_minor": 0
      },
      "text/plain": [
       "Epoch 41/50:   0%|          | 0/229 [00:00<?, ?it/s]"
      ]
     },
     "metadata": {},
     "output_type": "display_data"
    },
    {
     "data": {
      "application/vnd.jupyter.widget-view+json": {
       "model_id": "ce87c91e8d2d41ad9556d6ae2be4eb47",
       "version_major": 2,
       "version_minor": 0
      },
      "text/plain": [
       "Epoch 42/50:   0%|          | 0/229 [00:00<?, ?it/s]"
      ]
     },
     "metadata": {},
     "output_type": "display_data"
    },
    {
     "data": {
      "application/vnd.jupyter.widget-view+json": {
       "model_id": "e9bc50937dca42ef82458e1e1f188b99",
       "version_major": 2,
       "version_minor": 0
      },
      "text/plain": [
       "Epoch 43/50:   0%|          | 0/229 [00:00<?, ?it/s]"
      ]
     },
     "metadata": {},
     "output_type": "display_data"
    },
    {
     "data": {
      "application/vnd.jupyter.widget-view+json": {
       "model_id": "e858a58831694b4f9cb47dd454a33d51",
       "version_major": 2,
       "version_minor": 0
      },
      "text/plain": [
       "Epoch 44/50:   0%|          | 0/229 [00:00<?, ?it/s]"
      ]
     },
     "metadata": {},
     "output_type": "display_data"
    },
    {
     "name": "stdout",
     "output_type": "stream",
     "text": [
      "\n",
      "Epoch 44: New best F1-score: 0.8765\n",
      "Accuracy: 0.8781, Precision: 0.8846, Recall: 0.8781\n",
      "Saving checkpoint to C:\\Users\\PC\\lavar\\audiotwin_checkpoints_medium\\training_checkpoints\\PestLarvaNet_AudioTwin_Run_4_data_100.0percent.pth\n"
     ]
    },
    {
     "data": {
      "application/vnd.jupyter.widget-view+json": {
       "model_id": "d2e21ca1cf194409bc24c7978a5c48fc",
       "version_major": 2,
       "version_minor": 0
      },
      "text/plain": [
       "Epoch 45/50:   0%|          | 0/229 [00:00<?, ?it/s]"
      ]
     },
     "metadata": {},
     "output_type": "display_data"
    },
    {
     "name": "stdout",
     "output_type": "stream",
     "text": [
      "\n",
      "Epoch 45: New best F1-score: 0.8820\n",
      "Accuracy: 0.8831, Precision: 0.8846, Recall: 0.8831\n",
      "Saving checkpoint to C:\\Users\\PC\\lavar\\audiotwin_checkpoints_medium\\training_checkpoints\\PestLarvaNet_AudioTwin_Run_4_data_100.0percent.pth\n"
     ]
    },
    {
     "data": {
      "application/vnd.jupyter.widget-view+json": {
       "model_id": "7b78ccf6d385442584f4a21446c548c0",
       "version_major": 2,
       "version_minor": 0
      },
      "text/plain": [
       "Epoch 46/50:   0%|          | 0/229 [00:00<?, ?it/s]"
      ]
     },
     "metadata": {},
     "output_type": "display_data"
    },
    {
     "data": {
      "application/vnd.jupyter.widget-view+json": {
       "model_id": "7cad72c78932431688eee2a2d019e084",
       "version_major": 2,
       "version_minor": 0
      },
      "text/plain": [
       "Epoch 47/50:   0%|          | 0/229 [00:00<?, ?it/s]"
      ]
     },
     "metadata": {},
     "output_type": "display_data"
    },
    {
     "data": {
      "application/vnd.jupyter.widget-view+json": {
       "model_id": "087182b145fa4be78b96ed504ccf6a36",
       "version_major": 2,
       "version_minor": 0
      },
      "text/plain": [
       "Epoch 48/50:   0%|          | 0/229 [00:00<?, ?it/s]"
      ]
     },
     "metadata": {},
     "output_type": "display_data"
    },
    {
     "data": {
      "application/vnd.jupyter.widget-view+json": {
       "model_id": "d273401d33204c5896c4bb80289bde7c",
       "version_major": 2,
       "version_minor": 0
      },
      "text/plain": [
       "Epoch 49/50:   0%|          | 0/229 [00:00<?, ?it/s]"
      ]
     },
     "metadata": {},
     "output_type": "display_data"
    },
    {
     "data": {
      "application/vnd.jupyter.widget-view+json": {
       "model_id": "8c0b68f948a64f939925d06f9296d3f7",
       "version_major": 2,
       "version_minor": 0
      },
      "text/plain": [
       "Epoch 50/50:   0%|          | 0/229 [00:00<?, ?it/s]"
      ]
     },
     "metadata": {},
     "output_type": "display_data"
    },
    {
     "name": "stdout",
     "output_type": "stream",
     "text": [
      "Finished Training for this run. Best F1-score: 0.8820\n",
      "==> Results with 100.0% data: Best F1-Score = 0.8820\n",
      "\n",
      "==================== Evaluating: PestLarvaNet (AudioTwin Run 5) ====================\n",
      "--- Training with 25.0% of labeled data ---\n",
      "Loading pretrained weights from: C:\\Users\\PC\\lavar\\audiotwin_checkpoints_medium\\run_5_lp1e-02_ep1e-06_lb0.010_audiotwin_pestlarvanet_medium_epoch_100.pth\n"
     ]
    },
    {
     "name": "stderr",
     "output_type": "stream",
     "text": [
      "C:\\Users\\PC\\anaconda3\\envs\\train_env\\lib\\site-packages\\torch\\optim\\lr_scheduler.py:62: UserWarning: The verbose parameter is deprecated. Please use get_last_lr() to access the learning rate.\n",
      "  warnings.warn(\n"
     ]
    },
    {
     "data": {
      "application/vnd.jupyter.widget-view+json": {
       "model_id": "1f3d36b213e443eaabdf813fde6c2c64",
       "version_major": 2,
       "version_minor": 0
      },
      "text/plain": [
       "Epoch 1/50:   0%|          | 0/58 [00:00<?, ?it/s]"
      ]
     },
     "metadata": {},
     "output_type": "display_data"
    },
    {
     "name": "stdout",
     "output_type": "stream",
     "text": [
      "\n",
      "Epoch 1: New best F1-score: 0.3952\n",
      "Accuracy: 0.5038, Precision: 0.4629, Recall: 0.5038\n",
      "Saving checkpoint to C:\\Users\\PC\\lavar\\audiotwin_checkpoints_medium\\training_checkpoints\\PestLarvaNet_AudioTwin_Run_5_data_25.0percent.pth\n"
     ]
    },
    {
     "data": {
      "application/vnd.jupyter.widget-view+json": {
       "model_id": "4ae221f4220744ffa58fb2fc72179041",
       "version_major": 2,
       "version_minor": 0
      },
      "text/plain": [
       "Epoch 2/50:   0%|          | 0/58 [00:00<?, ?it/s]"
      ]
     },
     "metadata": {},
     "output_type": "display_data"
    },
    {
     "name": "stdout",
     "output_type": "stream",
     "text": [
      "\n",
      "Epoch 2: New best F1-score: 0.5881\n",
      "Accuracy: 0.6317, Precision: 0.5719, Recall: 0.6317\n",
      "Saving checkpoint to C:\\Users\\PC\\lavar\\audiotwin_checkpoints_medium\\training_checkpoints\\PestLarvaNet_AudioTwin_Run_5_data_25.0percent.pth\n"
     ]
    },
    {
     "data": {
      "application/vnd.jupyter.widget-view+json": {
       "model_id": "ff5820ff18a1431f872218ed19669c55",
       "version_major": 2,
       "version_minor": 0
      },
      "text/plain": [
       "Epoch 3/50:   0%|          | 0/58 [00:00<?, ?it/s]"
      ]
     },
     "metadata": {},
     "output_type": "display_data"
    },
    {
     "data": {
      "application/vnd.jupyter.widget-view+json": {
       "model_id": "ff0c18dd912b49e7a4822da5cb6615e4",
       "version_major": 2,
       "version_minor": 0
      },
      "text/plain": [
       "Epoch 4/50:   0%|          | 0/58 [00:00<?, ?it/s]"
      ]
     },
     "metadata": {},
     "output_type": "display_data"
    },
    {
     "name": "stdout",
     "output_type": "stream",
     "text": [
      "\n",
      "Epoch 4: New best F1-score: 0.6117\n",
      "Accuracy: 0.6344, Precision: 0.6222, Recall: 0.6344\n",
      "Saving checkpoint to C:\\Users\\PC\\lavar\\audiotwin_checkpoints_medium\\training_checkpoints\\PestLarvaNet_AudioTwin_Run_5_data_25.0percent.pth\n"
     ]
    },
    {
     "data": {
      "application/vnd.jupyter.widget-view+json": {
       "model_id": "70a330523c46405baaa3f0e77215ebc8",
       "version_major": 2,
       "version_minor": 0
      },
      "text/plain": [
       "Epoch 5/50:   0%|          | 0/58 [00:00<?, ?it/s]"
      ]
     },
     "metadata": {},
     "output_type": "display_data"
    },
    {
     "data": {
      "application/vnd.jupyter.widget-view+json": {
       "model_id": "4e845f499fc241a19028c2bea7df5394",
       "version_major": 2,
       "version_minor": 0
      },
      "text/plain": [
       "Epoch 6/50:   0%|          | 0/58 [00:00<?, ?it/s]"
      ]
     },
     "metadata": {},
     "output_type": "display_data"
    },
    {
     "name": "stdout",
     "output_type": "stream",
     "text": [
      "\n",
      "Epoch 6: New best F1-score: 0.6285\n",
      "Accuracy: 0.6770, Precision: 0.6811, Recall: 0.6770\n",
      "Saving checkpoint to C:\\Users\\PC\\lavar\\audiotwin_checkpoints_medium\\training_checkpoints\\PestLarvaNet_AudioTwin_Run_5_data_25.0percent.pth\n"
     ]
    },
    {
     "data": {
      "application/vnd.jupyter.widget-view+json": {
       "model_id": "3ecd407dd983407fa7c03cdcc3e4724c",
       "version_major": 2,
       "version_minor": 0
      },
      "text/plain": [
       "Epoch 7/50:   0%|          | 0/58 [00:00<?, ?it/s]"
      ]
     },
     "metadata": {},
     "output_type": "display_data"
    },
    {
     "data": {
      "application/vnd.jupyter.widget-view+json": {
       "model_id": "2e0c579ff30d4452ba9207c33f01a419",
       "version_major": 2,
       "version_minor": 0
      },
      "text/plain": [
       "Epoch 8/50:   0%|          | 0/58 [00:00<?, ?it/s]"
      ]
     },
     "metadata": {},
     "output_type": "display_data"
    },
    {
     "data": {
      "application/vnd.jupyter.widget-view+json": {
       "model_id": "44a5bb900763475e80281173073bc650",
       "version_major": 2,
       "version_minor": 0
      },
      "text/plain": [
       "Epoch 9/50:   0%|          | 0/58 [00:00<?, ?it/s]"
      ]
     },
     "metadata": {},
     "output_type": "display_data"
    },
    {
     "name": "stdout",
     "output_type": "stream",
     "text": [
      "\n",
      "Epoch 9: New best F1-score: 0.6557\n",
      "Accuracy: 0.6885, Precision: 0.6985, Recall: 0.6885\n",
      "Saving checkpoint to C:\\Users\\PC\\lavar\\audiotwin_checkpoints_medium\\training_checkpoints\\PestLarvaNet_AudioTwin_Run_5_data_25.0percent.pth\n"
     ]
    },
    {
     "data": {
      "application/vnd.jupyter.widget-view+json": {
       "model_id": "d9ca84380ff54ea0a4765962c74cd055",
       "version_major": 2,
       "version_minor": 0
      },
      "text/plain": [
       "Epoch 10/50:   0%|          | 0/58 [00:00<?, ?it/s]"
      ]
     },
     "metadata": {},
     "output_type": "display_data"
    },
    {
     "data": {
      "application/vnd.jupyter.widget-view+json": {
       "model_id": "036051a6f1404cd3affe4829d88c1ecf",
       "version_major": 2,
       "version_minor": 0
      },
      "text/plain": [
       "Epoch 11/50:   0%|          | 0/58 [00:00<?, ?it/s]"
      ]
     },
     "metadata": {},
     "output_type": "display_data"
    },
    {
     "data": {
      "application/vnd.jupyter.widget-view+json": {
       "model_id": "622b18b1660041a4b99b2de62224f249",
       "version_major": 2,
       "version_minor": 0
      },
      "text/plain": [
       "Epoch 12/50:   0%|          | 0/58 [00:00<?, ?it/s]"
      ]
     },
     "metadata": {},
     "output_type": "display_data"
    },
    {
     "name": "stdout",
     "output_type": "stream",
     "text": [
      "\n",
      "Epoch 12: New best F1-score: 0.6915\n",
      "Accuracy: 0.7197, Precision: 0.7016, Recall: 0.7197\n",
      "Saving checkpoint to C:\\Users\\PC\\lavar\\audiotwin_checkpoints_medium\\training_checkpoints\\PestLarvaNet_AudioTwin_Run_5_data_25.0percent.pth\n"
     ]
    },
    {
     "data": {
      "application/vnd.jupyter.widget-view+json": {
       "model_id": "9f95e7c047a94a9d832c5274f39ef632",
       "version_major": 2,
       "version_minor": 0
      },
      "text/plain": [
       "Epoch 13/50:   0%|          | 0/58 [00:00<?, ?it/s]"
      ]
     },
     "metadata": {},
     "output_type": "display_data"
    },
    {
     "name": "stdout",
     "output_type": "stream",
     "text": [
      "\n",
      "Epoch 13: New best F1-score: 0.7029\n",
      "Accuracy: 0.7410, Precision: 0.7174, Recall: 0.7410\n",
      "Saving checkpoint to C:\\Users\\PC\\lavar\\audiotwin_checkpoints_medium\\training_checkpoints\\PestLarvaNet_AudioTwin_Run_5_data_25.0percent.pth\n"
     ]
    },
    {
     "data": {
      "application/vnd.jupyter.widget-view+json": {
       "model_id": "6716d6712c794ee4aac5004cca581cdc",
       "version_major": 2,
       "version_minor": 0
      },
      "text/plain": [
       "Epoch 14/50:   0%|          | 0/58 [00:00<?, ?it/s]"
      ]
     },
     "metadata": {},
     "output_type": "display_data"
    },
    {
     "data": {
      "application/vnd.jupyter.widget-view+json": {
       "model_id": "21610334b34648c0baee50f838d8af54",
       "version_major": 2,
       "version_minor": 0
      },
      "text/plain": [
       "Epoch 15/50:   0%|          | 0/58 [00:00<?, ?it/s]"
      ]
     },
     "metadata": {},
     "output_type": "display_data"
    },
    {
     "data": {
      "application/vnd.jupyter.widget-view+json": {
       "model_id": "ca4c4293aaf74e3e9834a305972f3aac",
       "version_major": 2,
       "version_minor": 0
      },
      "text/plain": [
       "Epoch 16/50:   0%|          | 0/58 [00:00<?, ?it/s]"
      ]
     },
     "metadata": {},
     "output_type": "display_data"
    },
    {
     "name": "stdout",
     "output_type": "stream",
     "text": [
      "\n",
      "Epoch 16: New best F1-score: 0.7133\n",
      "Accuracy: 0.7454, Precision: 0.7270, Recall: 0.7454\n",
      "Saving checkpoint to C:\\Users\\PC\\lavar\\audiotwin_checkpoints_medium\\training_checkpoints\\PestLarvaNet_AudioTwin_Run_5_data_25.0percent.pth\n"
     ]
    },
    {
     "data": {
      "application/vnd.jupyter.widget-view+json": {
       "model_id": "d1f9cebf5c4e48c9ba6915a4f222a03e",
       "version_major": 2,
       "version_minor": 0
      },
      "text/plain": [
       "Epoch 17/50:   0%|          | 0/58 [00:00<?, ?it/s]"
      ]
     },
     "metadata": {},
     "output_type": "display_data"
    },
    {
     "data": {
      "application/vnd.jupyter.widget-view+json": {
       "model_id": "1a9f7134f44e49868274a99cbb243723",
       "version_major": 2,
       "version_minor": 0
      },
      "text/plain": [
       "Epoch 18/50:   0%|          | 0/58 [00:00<?, ?it/s]"
      ]
     },
     "metadata": {},
     "output_type": "display_data"
    },
    {
     "data": {
      "application/vnd.jupyter.widget-view+json": {
       "model_id": "3d29a837117e43158a3478fec677f10b",
       "version_major": 2,
       "version_minor": 0
      },
      "text/plain": [
       "Epoch 19/50:   0%|          | 0/58 [00:00<?, ?it/s]"
      ]
     },
     "metadata": {},
     "output_type": "display_data"
    },
    {
     "data": {
      "application/vnd.jupyter.widget-view+json": {
       "model_id": "1fe3dc027afd4c2ba734c815cc3e4dab",
       "version_major": 2,
       "version_minor": 0
      },
      "text/plain": [
       "Epoch 20/50:   0%|          | 0/58 [00:00<?, ?it/s]"
      ]
     },
     "metadata": {},
     "output_type": "display_data"
    },
    {
     "data": {
      "application/vnd.jupyter.widget-view+json": {
       "model_id": "3014058df4264e608880b84999861e65",
       "version_major": 2,
       "version_minor": 0
      },
      "text/plain": [
       "Epoch 21/50:   0%|          | 0/58 [00:00<?, ?it/s]"
      ]
     },
     "metadata": {},
     "output_type": "display_data"
    },
    {
     "data": {
      "application/vnd.jupyter.widget-view+json": {
       "model_id": "36ba885d7fd04e638a47fb34979c74a9",
       "version_major": 2,
       "version_minor": 0
      },
      "text/plain": [
       "Epoch 22/50:   0%|          | 0/58 [00:00<?, ?it/s]"
      ]
     },
     "metadata": {},
     "output_type": "display_data"
    },
    {
     "name": "stdout",
     "output_type": "stream",
     "text": [
      "\n",
      "Epoch 22: New best F1-score: 0.7367\n",
      "Accuracy: 0.7601, Precision: 0.7457, Recall: 0.7601\n",
      "Saving checkpoint to C:\\Users\\PC\\lavar\\audiotwin_checkpoints_medium\\training_checkpoints\\PestLarvaNet_AudioTwin_Run_5_data_25.0percent.pth\n"
     ]
    },
    {
     "data": {
      "application/vnd.jupyter.widget-view+json": {
       "model_id": "4eb9ce35b90449c1b98938c56fa84713",
       "version_major": 2,
       "version_minor": 0
      },
      "text/plain": [
       "Epoch 23/50:   0%|          | 0/58 [00:00<?, ?it/s]"
      ]
     },
     "metadata": {},
     "output_type": "display_data"
    },
    {
     "data": {
      "application/vnd.jupyter.widget-view+json": {
       "model_id": "50759e7889ed4107831a9958130b0f48",
       "version_major": 2,
       "version_minor": 0
      },
      "text/plain": [
       "Epoch 24/50:   0%|          | 0/58 [00:00<?, ?it/s]"
      ]
     },
     "metadata": {},
     "output_type": "display_data"
    },
    {
     "name": "stdout",
     "output_type": "stream",
     "text": [
      "\n",
      "Epoch 24: New best F1-score: 0.7740\n",
      "Accuracy: 0.7940, Precision: 0.7837, Recall: 0.7940\n",
      "Saving checkpoint to C:\\Users\\PC\\lavar\\audiotwin_checkpoints_medium\\training_checkpoints\\PestLarvaNet_AudioTwin_Run_5_data_25.0percent.pth\n"
     ]
    },
    {
     "data": {
      "application/vnd.jupyter.widget-view+json": {
       "model_id": "9472d8a2b4604fa2aab1a5487cdcb4ab",
       "version_major": 2,
       "version_minor": 0
      },
      "text/plain": [
       "Epoch 25/50:   0%|          | 0/58 [00:00<?, ?it/s]"
      ]
     },
     "metadata": {},
     "output_type": "display_data"
    },
    {
     "data": {
      "application/vnd.jupyter.widget-view+json": {
       "model_id": "85b5b5d27bc04abe9d68db04af589654",
       "version_major": 2,
       "version_minor": 0
      },
      "text/plain": [
       "Epoch 26/50:   0%|          | 0/58 [00:00<?, ?it/s]"
      ]
     },
     "metadata": {},
     "output_type": "display_data"
    },
    {
     "data": {
      "application/vnd.jupyter.widget-view+json": {
       "model_id": "63569195fe7742f987850b8b8c328901",
       "version_major": 2,
       "version_minor": 0
      },
      "text/plain": [
       "Epoch 27/50:   0%|          | 0/58 [00:00<?, ?it/s]"
      ]
     },
     "metadata": {},
     "output_type": "display_data"
    },
    {
     "data": {
      "application/vnd.jupyter.widget-view+json": {
       "model_id": "11e1a2da41ed42b29b52412b3033ac77",
       "version_major": 2,
       "version_minor": 0
      },
      "text/plain": [
       "Epoch 28/50:   0%|          | 0/58 [00:00<?, ?it/s]"
      ]
     },
     "metadata": {},
     "output_type": "display_data"
    },
    {
     "data": {
      "application/vnd.jupyter.widget-view+json": {
       "model_id": "6d5e7700e47743cd90edbb183aaec01f",
       "version_major": 2,
       "version_minor": 0
      },
      "text/plain": [
       "Epoch 29/50:   0%|          | 0/58 [00:00<?, ?it/s]"
      ]
     },
     "metadata": {},
     "output_type": "display_data"
    },
    {
     "data": {
      "application/vnd.jupyter.widget-view+json": {
       "model_id": "64cae6cba35146f09dbc086b59c88d57",
       "version_major": 2,
       "version_minor": 0
      },
      "text/plain": [
       "Epoch 30/50:   0%|          | 0/58 [00:00<?, ?it/s]"
      ]
     },
     "metadata": {},
     "output_type": "display_data"
    },
    {
     "data": {
      "application/vnd.jupyter.widget-view+json": {
       "model_id": "030d4a4632b44689b0e8997e87b00c5a",
       "version_major": 2,
       "version_minor": 0
      },
      "text/plain": [
       "Epoch 31/50:   0%|          | 0/58 [00:00<?, ?it/s]"
      ]
     },
     "metadata": {},
     "output_type": "display_data"
    },
    {
     "name": "stdout",
     "output_type": "stream",
     "text": [
      "\n",
      "Epoch 31: New best F1-score: 0.7954\n",
      "Accuracy: 0.8120, Precision: 0.7829, Recall: 0.8120\n",
      "Saving checkpoint to C:\\Users\\PC\\lavar\\audiotwin_checkpoints_medium\\training_checkpoints\\PestLarvaNet_AudioTwin_Run_5_data_25.0percent.pth\n"
     ]
    },
    {
     "data": {
      "application/vnd.jupyter.widget-view+json": {
       "model_id": "c11665433d244bd8a43877cfbd7cfdbc",
       "version_major": 2,
       "version_minor": 0
      },
      "text/plain": [
       "Epoch 32/50:   0%|          | 0/58 [00:00<?, ?it/s]"
      ]
     },
     "metadata": {},
     "output_type": "display_data"
    },
    {
     "name": "stdout",
     "output_type": "stream",
     "text": [
      "\n",
      "Epoch 32: New best F1-score: 0.7976\n",
      "Accuracy: 0.8153, Precision: 0.7932, Recall: 0.8153\n",
      "Saving checkpoint to C:\\Users\\PC\\lavar\\audiotwin_checkpoints_medium\\training_checkpoints\\PestLarvaNet_AudioTwin_Run_5_data_25.0percent.pth\n"
     ]
    },
    {
     "data": {
      "application/vnd.jupyter.widget-view+json": {
       "model_id": "249bc1f3191b4a04b18d5b2286da139d",
       "version_major": 2,
       "version_minor": 0
      },
      "text/plain": [
       "Epoch 33/50:   0%|          | 0/58 [00:00<?, ?it/s]"
      ]
     },
     "metadata": {},
     "output_type": "display_data"
    },
    {
     "data": {
      "application/vnd.jupyter.widget-view+json": {
       "model_id": "19cd27a030454f1f98d25e74cdbc7333",
       "version_major": 2,
       "version_minor": 0
      },
      "text/plain": [
       "Epoch 34/50:   0%|          | 0/58 [00:00<?, ?it/s]"
      ]
     },
     "metadata": {},
     "output_type": "display_data"
    },
    {
     "data": {
      "application/vnd.jupyter.widget-view+json": {
       "model_id": "51477be07a704add8be29e706dc2f0b3",
       "version_major": 2,
       "version_minor": 0
      },
      "text/plain": [
       "Epoch 35/50:   0%|          | 0/58 [00:00<?, ?it/s]"
      ]
     },
     "metadata": {},
     "output_type": "display_data"
    },
    {
     "data": {
      "application/vnd.jupyter.widget-view+json": {
       "model_id": "59dd186962c9413a9d4992721df3401f",
       "version_major": 2,
       "version_minor": 0
      },
      "text/plain": [
       "Epoch 36/50:   0%|          | 0/58 [00:00<?, ?it/s]"
      ]
     },
     "metadata": {},
     "output_type": "display_data"
    },
    {
     "data": {
      "application/vnd.jupyter.widget-view+json": {
       "model_id": "c998dc1876964d799b9edc4d896b3375",
       "version_major": 2,
       "version_minor": 0
      },
      "text/plain": [
       "Epoch 37/50:   0%|          | 0/58 [00:00<?, ?it/s]"
      ]
     },
     "metadata": {},
     "output_type": "display_data"
    },
    {
     "name": "stdout",
     "output_type": "stream",
     "text": [
      "\n",
      "Epoch 37: New best F1-score: 0.8065\n",
      "Accuracy: 0.8208, Precision: 0.7977, Recall: 0.8208\n",
      "Saving checkpoint to C:\\Users\\PC\\lavar\\audiotwin_checkpoints_medium\\training_checkpoints\\PestLarvaNet_AudioTwin_Run_5_data_25.0percent.pth\n"
     ]
    },
    {
     "data": {
      "application/vnd.jupyter.widget-view+json": {
       "model_id": "23af7a668a9343d9933cec99f9f37a51",
       "version_major": 2,
       "version_minor": 0
      },
      "text/plain": [
       "Epoch 38/50:   0%|          | 0/58 [00:00<?, ?it/s]"
      ]
     },
     "metadata": {},
     "output_type": "display_data"
    },
    {
     "data": {
      "application/vnd.jupyter.widget-view+json": {
       "model_id": "083c2a65e4a941f48f3f85461cea2812",
       "version_major": 2,
       "version_minor": 0
      },
      "text/plain": [
       "Epoch 39/50:   0%|          | 0/58 [00:00<?, ?it/s]"
      ]
     },
     "metadata": {},
     "output_type": "display_data"
    },
    {
     "data": {
      "application/vnd.jupyter.widget-view+json": {
       "model_id": "a47ad1981f31421fb1480cc717b13272",
       "version_major": 2,
       "version_minor": 0
      },
      "text/plain": [
       "Epoch 40/50:   0%|          | 0/58 [00:00<?, ?it/s]"
      ]
     },
     "metadata": {},
     "output_type": "display_data"
    },
    {
     "data": {
      "application/vnd.jupyter.widget-view+json": {
       "model_id": "a96a61241e98411a860d7a8c16e881a1",
       "version_major": 2,
       "version_minor": 0
      },
      "text/plain": [
       "Epoch 41/50:   0%|          | 0/58 [00:00<?, ?it/s]"
      ]
     },
     "metadata": {},
     "output_type": "display_data"
    },
    {
     "data": {
      "application/vnd.jupyter.widget-view+json": {
       "model_id": "5f88ec716c774e199c23f4e0a0daef58",
       "version_major": 2,
       "version_minor": 0
      },
      "text/plain": [
       "Epoch 42/50:   0%|          | 0/58 [00:00<?, ?it/s]"
      ]
     },
     "metadata": {},
     "output_type": "display_data"
    },
    {
     "data": {
      "application/vnd.jupyter.widget-view+json": {
       "model_id": "be32d0bd2b034139a165233237c77089",
       "version_major": 2,
       "version_minor": 0
      },
      "text/plain": [
       "Epoch 43/50:   0%|          | 0/58 [00:00<?, ?it/s]"
      ]
     },
     "metadata": {},
     "output_type": "display_data"
    },
    {
     "data": {
      "application/vnd.jupyter.widget-view+json": {
       "model_id": "38d1c8135b3e489b86af3573b5253f0e",
       "version_major": 2,
       "version_minor": 0
      },
      "text/plain": [
       "Epoch 44/50:   0%|          | 0/58 [00:00<?, ?it/s]"
      ]
     },
     "metadata": {},
     "output_type": "display_data"
    },
    {
     "name": "stdout",
     "output_type": "stream",
     "text": [
      "\n",
      "Epoch 44: New best F1-score: 0.8172\n",
      "Accuracy: 0.8311, Precision: 0.8548, Recall: 0.8311\n",
      "Saving checkpoint to C:\\Users\\PC\\lavar\\audiotwin_checkpoints_medium\\training_checkpoints\\PestLarvaNet_AudioTwin_Run_5_data_25.0percent.pth\n"
     ]
    },
    {
     "data": {
      "application/vnd.jupyter.widget-view+json": {
       "model_id": "34f0ca1936234396a278cdbd7567e3d9",
       "version_major": 2,
       "version_minor": 0
      },
      "text/plain": [
       "Epoch 45/50:   0%|          | 0/58 [00:00<?, ?it/s]"
      ]
     },
     "metadata": {},
     "output_type": "display_data"
    },
    {
     "name": "stdout",
     "output_type": "stream",
     "text": [
      "\n",
      "Epoch 45: New best F1-score: 0.8249\n",
      "Accuracy: 0.8377, Precision: 0.8332, Recall: 0.8377\n",
      "Saving checkpoint to C:\\Users\\PC\\lavar\\audiotwin_checkpoints_medium\\training_checkpoints\\PestLarvaNet_AudioTwin_Run_5_data_25.0percent.pth\n"
     ]
    },
    {
     "data": {
      "application/vnd.jupyter.widget-view+json": {
       "model_id": "f321709858754b6b92c7585a15295746",
       "version_major": 2,
       "version_minor": 0
      },
      "text/plain": [
       "Epoch 46/50:   0%|          | 0/58 [00:00<?, ?it/s]"
      ]
     },
     "metadata": {},
     "output_type": "display_data"
    },
    {
     "data": {
      "application/vnd.jupyter.widget-view+json": {
       "model_id": "753d29db908a498baf78b63807234079",
       "version_major": 2,
       "version_minor": 0
      },
      "text/plain": [
       "Epoch 47/50:   0%|          | 0/58 [00:00<?, ?it/s]"
      ]
     },
     "metadata": {},
     "output_type": "display_data"
    },
    {
     "name": "stdout",
     "output_type": "stream",
     "text": [
      "\n",
      "Epoch 47: New best F1-score: 0.8312\n",
      "Accuracy: 0.8410, Precision: 0.8382, Recall: 0.8410\n",
      "Saving checkpoint to C:\\Users\\PC\\lavar\\audiotwin_checkpoints_medium\\training_checkpoints\\PestLarvaNet_AudioTwin_Run_5_data_25.0percent.pth\n"
     ]
    },
    {
     "data": {
      "application/vnd.jupyter.widget-view+json": {
       "model_id": "e8dd411d56e8466ba73aa3c054f76b08",
       "version_major": 2,
       "version_minor": 0
      },
      "text/plain": [
       "Epoch 48/50:   0%|          | 0/58 [00:00<?, ?it/s]"
      ]
     },
     "metadata": {},
     "output_type": "display_data"
    },
    {
     "name": "stdout",
     "output_type": "stream",
     "text": [
      "\n",
      "Epoch 48: New best F1-score: 0.8330\n",
      "Accuracy: 0.8393, Precision: 0.8350, Recall: 0.8393\n",
      "Saving checkpoint to C:\\Users\\PC\\lavar\\audiotwin_checkpoints_medium\\training_checkpoints\\PestLarvaNet_AudioTwin_Run_5_data_25.0percent.pth\n"
     ]
    },
    {
     "data": {
      "application/vnd.jupyter.widget-view+json": {
       "model_id": "1107b8b138444a838f254bd405a0727e",
       "version_major": 2,
       "version_minor": 0
      },
      "text/plain": [
       "Epoch 49/50:   0%|          | 0/58 [00:00<?, ?it/s]"
      ]
     },
     "metadata": {},
     "output_type": "display_data"
    },
    {
     "data": {
      "application/vnd.jupyter.widget-view+json": {
       "model_id": "db3ce1331750406a9e4c24f0abdc097b",
       "version_major": 2,
       "version_minor": 0
      },
      "text/plain": [
       "Epoch 50/50:   0%|          | 0/58 [00:00<?, ?it/s]"
      ]
     },
     "metadata": {},
     "output_type": "display_data"
    },
    {
     "name": "stdout",
     "output_type": "stream",
     "text": [
      "Finished Training for this run. Best F1-score: 0.8330\n",
      "==> Results with 25.0% data: Best F1-Score = 0.8330\n",
      "--- Training with 50.0% of labeled data ---\n",
      "Loading pretrained weights from: C:\\Users\\PC\\lavar\\audiotwin_checkpoints_medium\\run_5_lp1e-02_ep1e-06_lb0.010_audiotwin_pestlarvanet_medium_epoch_100.pth\n"
     ]
    },
    {
     "name": "stderr",
     "output_type": "stream",
     "text": [
      "C:\\Users\\PC\\anaconda3\\envs\\train_env\\lib\\site-packages\\torch\\optim\\lr_scheduler.py:62: UserWarning: The verbose parameter is deprecated. Please use get_last_lr() to access the learning rate.\n",
      "  warnings.warn(\n"
     ]
    },
    {
     "data": {
      "application/vnd.jupyter.widget-view+json": {
       "model_id": "7474a532b708487fb49aea338fec5187",
       "version_major": 2,
       "version_minor": 0
      },
      "text/plain": [
       "Epoch 1/50:   0%|          | 0/115 [00:00<?, ?it/s]"
      ]
     },
     "metadata": {},
     "output_type": "display_data"
    },
    {
     "name": "stdout",
     "output_type": "stream",
     "text": [
      "\n",
      "Epoch 1: New best F1-score: 0.3371\n",
      "Accuracy: 0.4699, Precision: 0.4632, Recall: 0.4699\n",
      "Saving checkpoint to C:\\Users\\PC\\lavar\\audiotwin_checkpoints_medium\\training_checkpoints\\PestLarvaNet_AudioTwin_Run_5_data_50.0percent.pth\n"
     ]
    },
    {
     "data": {
      "application/vnd.jupyter.widget-view+json": {
       "model_id": "a0d81bc3f81a48f09d06d57c4f80a337",
       "version_major": 2,
       "version_minor": 0
      },
      "text/plain": [
       "Epoch 2/50:   0%|          | 0/115 [00:00<?, ?it/s]"
      ]
     },
     "metadata": {},
     "output_type": "display_data"
    },
    {
     "name": "stdout",
     "output_type": "stream",
     "text": [
      "\n",
      "Epoch 2: New best F1-score: 0.5513\n",
      "Accuracy: 0.6301, Precision: 0.5583, Recall: 0.6301\n",
      "Saving checkpoint to C:\\Users\\PC\\lavar\\audiotwin_checkpoints_medium\\training_checkpoints\\PestLarvaNet_AudioTwin_Run_5_data_50.0percent.pth\n"
     ]
    },
    {
     "data": {
      "application/vnd.jupyter.widget-view+json": {
       "model_id": "bf66d7b063a2417089831b20fccb9f96",
       "version_major": 2,
       "version_minor": 0
      },
      "text/plain": [
       "Epoch 3/50:   0%|          | 0/115 [00:00<?, ?it/s]"
      ]
     },
     "metadata": {},
     "output_type": "display_data"
    },
    {
     "name": "stdout",
     "output_type": "stream",
     "text": [
      "\n",
      "Epoch 3: New best F1-score: 0.5626\n",
      "Accuracy: 0.6410, Precision: 0.5728, Recall: 0.6410\n",
      "Saving checkpoint to C:\\Users\\PC\\lavar\\audiotwin_checkpoints_medium\\training_checkpoints\\PestLarvaNet_AudioTwin_Run_5_data_50.0percent.pth\n"
     ]
    },
    {
     "data": {
      "application/vnd.jupyter.widget-view+json": {
       "model_id": "b90b99c1d20b42979bfbbdc500d84e0d",
       "version_major": 2,
       "version_minor": 0
      },
      "text/plain": [
       "Epoch 4/50:   0%|          | 0/115 [00:00<?, ?it/s]"
      ]
     },
     "metadata": {},
     "output_type": "display_data"
    },
    {
     "data": {
      "application/vnd.jupyter.widget-view+json": {
       "model_id": "43bb7d95087446569c0285e2b3d7404a",
       "version_major": 2,
       "version_minor": 0
      },
      "text/plain": [
       "Epoch 5/50:   0%|          | 0/115 [00:00<?, ?it/s]"
      ]
     },
     "metadata": {},
     "output_type": "display_data"
    },
    {
     "data": {
      "application/vnd.jupyter.widget-view+json": {
       "model_id": "b0063267830f4200a5c2876bdc3942bd",
       "version_major": 2,
       "version_minor": 0
      },
      "text/plain": [
       "Epoch 6/50:   0%|          | 0/115 [00:00<?, ?it/s]"
      ]
     },
     "metadata": {},
     "output_type": "display_data"
    },
    {
     "name": "stdout",
     "output_type": "stream",
     "text": [
      "\n",
      "Epoch 6: New best F1-score: 0.6125\n",
      "Accuracy: 0.6459, Precision: 0.6064, Recall: 0.6459\n",
      "Saving checkpoint to C:\\Users\\PC\\lavar\\audiotwin_checkpoints_medium\\training_checkpoints\\PestLarvaNet_AudioTwin_Run_5_data_50.0percent.pth\n"
     ]
    },
    {
     "data": {
      "application/vnd.jupyter.widget-view+json": {
       "model_id": "275a1adbffe746c5a69f007fee05e093",
       "version_major": 2,
       "version_minor": 0
      },
      "text/plain": [
       "Epoch 7/50:   0%|          | 0/115 [00:00<?, ?it/s]"
      ]
     },
     "metadata": {},
     "output_type": "display_data"
    },
    {
     "data": {
      "application/vnd.jupyter.widget-view+json": {
       "model_id": "25f2f506866047339455a983401db4dc",
       "version_major": 2,
       "version_minor": 0
      },
      "text/plain": [
       "Epoch 8/50:   0%|          | 0/115 [00:00<?, ?it/s]"
      ]
     },
     "metadata": {},
     "output_type": "display_data"
    },
    {
     "name": "stdout",
     "output_type": "stream",
     "text": [
      "\n",
      "Epoch 8: New best F1-score: 0.6881\n",
      "Accuracy: 0.7208, Precision: 0.6982, Recall: 0.7208\n",
      "Saving checkpoint to C:\\Users\\PC\\lavar\\audiotwin_checkpoints_medium\\training_checkpoints\\PestLarvaNet_AudioTwin_Run_5_data_50.0percent.pth\n"
     ]
    },
    {
     "data": {
      "application/vnd.jupyter.widget-view+json": {
       "model_id": "27de4ea09c074d9eb7ff09e127986423",
       "version_major": 2,
       "version_minor": 0
      },
      "text/plain": [
       "Epoch 9/50:   0%|          | 0/115 [00:00<?, ?it/s]"
      ]
     },
     "metadata": {},
     "output_type": "display_data"
    },
    {
     "data": {
      "application/vnd.jupyter.widget-view+json": {
       "model_id": "4e7fc6b865dc489fb5e8fcb12b914764",
       "version_major": 2,
       "version_minor": 0
      },
      "text/plain": [
       "Epoch 10/50:   0%|          | 0/115 [00:00<?, ?it/s]"
      ]
     },
     "metadata": {},
     "output_type": "display_data"
    },
    {
     "data": {
      "application/vnd.jupyter.widget-view+json": {
       "model_id": "ef5d268533554bf28f1e0e1b98f6797f",
       "version_major": 2,
       "version_minor": 0
      },
      "text/plain": [
       "Epoch 11/50:   0%|          | 0/115 [00:00<?, ?it/s]"
      ]
     },
     "metadata": {},
     "output_type": "display_data"
    },
    {
     "data": {
      "application/vnd.jupyter.widget-view+json": {
       "model_id": "23045107c5474676869090ae82c9853e",
       "version_major": 2,
       "version_minor": 0
      },
      "text/plain": [
       "Epoch 12/50:   0%|          | 0/115 [00:00<?, ?it/s]"
      ]
     },
     "metadata": {},
     "output_type": "display_data"
    },
    {
     "data": {
      "application/vnd.jupyter.widget-view+json": {
       "model_id": "51eaa3a355704afb985e4979ecb9dafd",
       "version_major": 2,
       "version_minor": 0
      },
      "text/plain": [
       "Epoch 13/50:   0%|          | 0/115 [00:00<?, ?it/s]"
      ]
     },
     "metadata": {},
     "output_type": "display_data"
    },
    {
     "data": {
      "application/vnd.jupyter.widget-view+json": {
       "model_id": "e5a4fd9f5de64b9694339435f338a2ef",
       "version_major": 2,
       "version_minor": 0
      },
      "text/plain": [
       "Epoch 14/50:   0%|          | 0/115 [00:00<?, ?it/s]"
      ]
     },
     "metadata": {},
     "output_type": "display_data"
    },
    {
     "data": {
      "application/vnd.jupyter.widget-view+json": {
       "model_id": "dbad32e523924e598376bbc8b918c5b6",
       "version_major": 2,
       "version_minor": 0
      },
      "text/plain": [
       "Epoch 15/50:   0%|          | 0/115 [00:00<?, ?it/s]"
      ]
     },
     "metadata": {},
     "output_type": "display_data"
    },
    {
     "name": "stdout",
     "output_type": "stream",
     "text": [
      "\n",
      "Epoch 15: New best F1-score: 0.6919\n",
      "Accuracy: 0.7098, Precision: 0.7024, Recall: 0.7098\n",
      "Saving checkpoint to C:\\Users\\PC\\lavar\\audiotwin_checkpoints_medium\\training_checkpoints\\PestLarvaNet_AudioTwin_Run_5_data_50.0percent.pth\n"
     ]
    },
    {
     "data": {
      "application/vnd.jupyter.widget-view+json": {
       "model_id": "4235d6a7896144898a8fb4347d378300",
       "version_major": 2,
       "version_minor": 0
      },
      "text/plain": [
       "Epoch 16/50:   0%|          | 0/115 [00:00<?, ?it/s]"
      ]
     },
     "metadata": {},
     "output_type": "display_data"
    },
    {
     "data": {
      "application/vnd.jupyter.widget-view+json": {
       "model_id": "6d0a76c5f54743858a18ea6ac1762174",
       "version_major": 2,
       "version_minor": 0
      },
      "text/plain": [
       "Epoch 17/50:   0%|          | 0/115 [00:00<?, ?it/s]"
      ]
     },
     "metadata": {},
     "output_type": "display_data"
    },
    {
     "name": "stdout",
     "output_type": "stream",
     "text": [
      "\n",
      "Epoch 17: New best F1-score: 0.7249\n",
      "Accuracy: 0.7443, Precision: 0.7262, Recall: 0.7443\n",
      "Saving checkpoint to C:\\Users\\PC\\lavar\\audiotwin_checkpoints_medium\\training_checkpoints\\PestLarvaNet_AudioTwin_Run_5_data_50.0percent.pth\n"
     ]
    },
    {
     "data": {
      "application/vnd.jupyter.widget-view+json": {
       "model_id": "751af6aad0724077ab4ac77e3338f626",
       "version_major": 2,
       "version_minor": 0
      },
      "text/plain": [
       "Epoch 18/50:   0%|          | 0/115 [00:00<?, ?it/s]"
      ]
     },
     "metadata": {},
     "output_type": "display_data"
    },
    {
     "name": "stdout",
     "output_type": "stream",
     "text": [
      "\n",
      "Epoch 18: New best F1-score: 0.7402\n",
      "Accuracy: 0.7541, Precision: 0.7404, Recall: 0.7541\n",
      "Saving checkpoint to C:\\Users\\PC\\lavar\\audiotwin_checkpoints_medium\\training_checkpoints\\PestLarvaNet_AudioTwin_Run_5_data_50.0percent.pth\n"
     ]
    },
    {
     "data": {
      "application/vnd.jupyter.widget-view+json": {
       "model_id": "110eebb74e3d4418a195e90d950118c1",
       "version_major": 2,
       "version_minor": 0
      },
      "text/plain": [
       "Epoch 19/50:   0%|          | 0/115 [00:00<?, ?it/s]"
      ]
     },
     "metadata": {},
     "output_type": "display_data"
    },
    {
     "data": {
      "application/vnd.jupyter.widget-view+json": {
       "model_id": "30acdc0fd52b40e6a77771085152689a",
       "version_major": 2,
       "version_minor": 0
      },
      "text/plain": [
       "Epoch 20/50:   0%|          | 0/115 [00:00<?, ?it/s]"
      ]
     },
     "metadata": {},
     "output_type": "display_data"
    },
    {
     "name": "stdout",
     "output_type": "stream",
     "text": [
      "\n",
      "Epoch 20: New best F1-score: 0.7628\n",
      "Accuracy: 0.7721, Precision: 0.8083, Recall: 0.7721\n",
      "Saving checkpoint to C:\\Users\\PC\\lavar\\audiotwin_checkpoints_medium\\training_checkpoints\\PestLarvaNet_AudioTwin_Run_5_data_50.0percent.pth\n"
     ]
    },
    {
     "data": {
      "application/vnd.jupyter.widget-view+json": {
       "model_id": "6af1b80a0da44b499148b2dd53477d11",
       "version_major": 2,
       "version_minor": 0
      },
      "text/plain": [
       "Epoch 21/50:   0%|          | 0/115 [00:00<?, ?it/s]"
      ]
     },
     "metadata": {},
     "output_type": "display_data"
    },
    {
     "name": "stdout",
     "output_type": "stream",
     "text": [
      "\n",
      "Epoch 21: New best F1-score: 0.7669\n",
      "Accuracy: 0.7743, Precision: 0.7785, Recall: 0.7743\n",
      "Saving checkpoint to C:\\Users\\PC\\lavar\\audiotwin_checkpoints_medium\\training_checkpoints\\PestLarvaNet_AudioTwin_Run_5_data_50.0percent.pth\n"
     ]
    },
    {
     "data": {
      "application/vnd.jupyter.widget-view+json": {
       "model_id": "9154a357d5a2440b8f3a11523e31c005",
       "version_major": 2,
       "version_minor": 0
      },
      "text/plain": [
       "Epoch 22/50:   0%|          | 0/115 [00:00<?, ?it/s]"
      ]
     },
     "metadata": {},
     "output_type": "display_data"
    },
    {
     "name": "stdout",
     "output_type": "stream",
     "text": [
      "\n",
      "Epoch 22: New best F1-score: 0.7823\n",
      "Accuracy: 0.7962, Precision: 0.7853, Recall: 0.7962\n",
      "Saving checkpoint to C:\\Users\\PC\\lavar\\audiotwin_checkpoints_medium\\training_checkpoints\\PestLarvaNet_AudioTwin_Run_5_data_50.0percent.pth\n"
     ]
    },
    {
     "data": {
      "application/vnd.jupyter.widget-view+json": {
       "model_id": "66fbd76fa53f44a8998cb8089de78100",
       "version_major": 2,
       "version_minor": 0
      },
      "text/plain": [
       "Epoch 23/50:   0%|          | 0/115 [00:00<?, ?it/s]"
      ]
     },
     "metadata": {},
     "output_type": "display_data"
    },
    {
     "data": {
      "application/vnd.jupyter.widget-view+json": {
       "model_id": "183197bdab674e6f84f177f3e90973a3",
       "version_major": 2,
       "version_minor": 0
      },
      "text/plain": [
       "Epoch 24/50:   0%|          | 0/115 [00:00<?, ?it/s]"
      ]
     },
     "metadata": {},
     "output_type": "display_data"
    },
    {
     "name": "stdout",
     "output_type": "stream",
     "text": [
      "\n",
      "Epoch 24: New best F1-score: 0.8022\n",
      "Accuracy: 0.8109, Precision: 0.8144, Recall: 0.8109\n",
      "Saving checkpoint to C:\\Users\\PC\\lavar\\audiotwin_checkpoints_medium\\training_checkpoints\\PestLarvaNet_AudioTwin_Run_5_data_50.0percent.pth\n"
     ]
    },
    {
     "data": {
      "application/vnd.jupyter.widget-view+json": {
       "model_id": "b1cf3e0dd4e14392bb7e5a6c56431e34",
       "version_major": 2,
       "version_minor": 0
      },
      "text/plain": [
       "Epoch 25/50:   0%|          | 0/115 [00:00<?, ?it/s]"
      ]
     },
     "metadata": {},
     "output_type": "display_data"
    },
    {
     "name": "stdout",
     "output_type": "stream",
     "text": [
      "\n",
      "Epoch 25: New best F1-score: 0.8143\n",
      "Accuracy: 0.8230, Precision: 0.8289, Recall: 0.8230\n",
      "Saving checkpoint to C:\\Users\\PC\\lavar\\audiotwin_checkpoints_medium\\training_checkpoints\\PestLarvaNet_AudioTwin_Run_5_data_50.0percent.pth\n"
     ]
    },
    {
     "data": {
      "application/vnd.jupyter.widget-view+json": {
       "model_id": "fb12e626f15449ee9521431d2a415157",
       "version_major": 2,
       "version_minor": 0
      },
      "text/plain": [
       "Epoch 26/50:   0%|          | 0/115 [00:00<?, ?it/s]"
      ]
     },
     "metadata": {},
     "output_type": "display_data"
    },
    {
     "data": {
      "application/vnd.jupyter.widget-view+json": {
       "model_id": "0fb25a92d29f41ebbaef1c294695ffb0",
       "version_major": 2,
       "version_minor": 0
      },
      "text/plain": [
       "Epoch 27/50:   0%|          | 0/115 [00:00<?, ?it/s]"
      ]
     },
     "metadata": {},
     "output_type": "display_data"
    },
    {
     "name": "stdout",
     "output_type": "stream",
     "text": [
      "\n",
      "Epoch 27: New best F1-score: 0.8144\n",
      "Accuracy: 0.8251, Precision: 0.8241, Recall: 0.8251\n",
      "Saving checkpoint to C:\\Users\\PC\\lavar\\audiotwin_checkpoints_medium\\training_checkpoints\\PestLarvaNet_AudioTwin_Run_5_data_50.0percent.pth\n"
     ]
    },
    {
     "data": {
      "application/vnd.jupyter.widget-view+json": {
       "model_id": "405e0774346847d9a09c40f5c471c364",
       "version_major": 2,
       "version_minor": 0
      },
      "text/plain": [
       "Epoch 28/50:   0%|          | 0/115 [00:00<?, ?it/s]"
      ]
     },
     "metadata": {},
     "output_type": "display_data"
    },
    {
     "name": "stdout",
     "output_type": "stream",
     "text": [
      "\n",
      "Epoch 28: New best F1-score: 0.8229\n",
      "Accuracy: 0.8284, Precision: 0.8297, Recall: 0.8284\n",
      "Saving checkpoint to C:\\Users\\PC\\lavar\\audiotwin_checkpoints_medium\\training_checkpoints\\PestLarvaNet_AudioTwin_Run_5_data_50.0percent.pth\n"
     ]
    },
    {
     "data": {
      "application/vnd.jupyter.widget-view+json": {
       "model_id": "9cd1159e86cd489d8d98f1dcb4082f35",
       "version_major": 2,
       "version_minor": 0
      },
      "text/plain": [
       "Epoch 29/50:   0%|          | 0/115 [00:00<?, ?it/s]"
      ]
     },
     "metadata": {},
     "output_type": "display_data"
    },
    {
     "name": "stdout",
     "output_type": "stream",
     "text": [
      "\n",
      "Epoch 29: New best F1-score: 0.8392\n",
      "Accuracy: 0.8393, Precision: 0.8479, Recall: 0.8393\n",
      "Saving checkpoint to C:\\Users\\PC\\lavar\\audiotwin_checkpoints_medium\\training_checkpoints\\PestLarvaNet_AudioTwin_Run_5_data_50.0percent.pth\n"
     ]
    },
    {
     "data": {
      "application/vnd.jupyter.widget-view+json": {
       "model_id": "f183d2818c9a49c58f5fa4fdb1d1d99c",
       "version_major": 2,
       "version_minor": 0
      },
      "text/plain": [
       "Epoch 30/50:   0%|          | 0/115 [00:00<?, ?it/s]"
      ]
     },
     "metadata": {},
     "output_type": "display_data"
    },
    {
     "data": {
      "application/vnd.jupyter.widget-view+json": {
       "model_id": "4041b47c378a4f21a3da8a752ec68a25",
       "version_major": 2,
       "version_minor": 0
      },
      "text/plain": [
       "Epoch 31/50:   0%|          | 0/115 [00:00<?, ?it/s]"
      ]
     },
     "metadata": {},
     "output_type": "display_data"
    },
    {
     "data": {
      "application/vnd.jupyter.widget-view+json": {
       "model_id": "91e918fbe01049d6a814701538d1d7c4",
       "version_major": 2,
       "version_minor": 0
      },
      "text/plain": [
       "Epoch 32/50:   0%|          | 0/115 [00:00<?, ?it/s]"
      ]
     },
     "metadata": {},
     "output_type": "display_data"
    },
    {
     "name": "stdout",
     "output_type": "stream",
     "text": [
      "\n",
      "Epoch 32: New best F1-score: 0.8419\n",
      "Accuracy: 0.8437, Precision: 0.8427, Recall: 0.8437\n",
      "Saving checkpoint to C:\\Users\\PC\\lavar\\audiotwin_checkpoints_medium\\training_checkpoints\\PestLarvaNet_AudioTwin_Run_5_data_50.0percent.pth\n"
     ]
    },
    {
     "data": {
      "application/vnd.jupyter.widget-view+json": {
       "model_id": "25032033436b4ecd88694d767d72dc17",
       "version_major": 2,
       "version_minor": 0
      },
      "text/plain": [
       "Epoch 33/50:   0%|          | 0/115 [00:00<?, ?it/s]"
      ]
     },
     "metadata": {},
     "output_type": "display_data"
    },
    {
     "data": {
      "application/vnd.jupyter.widget-view+json": {
       "model_id": "9ea0debfd9464fdcb5ffd76faaba9ac3",
       "version_major": 2,
       "version_minor": 0
      },
      "text/plain": [
       "Epoch 34/50:   0%|          | 0/115 [00:00<?, ?it/s]"
      ]
     },
     "metadata": {},
     "output_type": "display_data"
    },
    {
     "name": "stdout",
     "output_type": "stream",
     "text": [
      "\n",
      "Epoch 34: New best F1-score: 0.8470\n",
      "Accuracy: 0.8492, Precision: 0.8573, Recall: 0.8492\n",
      "Saving checkpoint to C:\\Users\\PC\\lavar\\audiotwin_checkpoints_medium\\training_checkpoints\\PestLarvaNet_AudioTwin_Run_5_data_50.0percent.pth\n"
     ]
    },
    {
     "data": {
      "application/vnd.jupyter.widget-view+json": {
       "model_id": "750d6eaea3344e0fbe0372aa1942b935",
       "version_major": 2,
       "version_minor": 0
      },
      "text/plain": [
       "Epoch 35/50:   0%|          | 0/115 [00:00<?, ?it/s]"
      ]
     },
     "metadata": {},
     "output_type": "display_data"
    },
    {
     "data": {
      "application/vnd.jupyter.widget-view+json": {
       "model_id": "24d900b337c7447ab6ebfed8bfcc8d58",
       "version_major": 2,
       "version_minor": 0
      },
      "text/plain": [
       "Epoch 36/50:   0%|          | 0/115 [00:00<?, ?it/s]"
      ]
     },
     "metadata": {},
     "output_type": "display_data"
    },
    {
     "data": {
      "application/vnd.jupyter.widget-view+json": {
       "model_id": "c87a1aae31cb4fcb817c4247a4eb06ae",
       "version_major": 2,
       "version_minor": 0
      },
      "text/plain": [
       "Epoch 37/50:   0%|          | 0/115 [00:00<?, ?it/s]"
      ]
     },
     "metadata": {},
     "output_type": "display_data"
    },
    {
     "data": {
      "application/vnd.jupyter.widget-view+json": {
       "model_id": "1493dbf8e628469197f5a0ab1d48c898",
       "version_major": 2,
       "version_minor": 0
      },
      "text/plain": [
       "Epoch 38/50:   0%|          | 0/115 [00:00<?, ?it/s]"
      ]
     },
     "metadata": {},
     "output_type": "display_data"
    },
    {
     "data": {
      "application/vnd.jupyter.widget-view+json": {
       "model_id": "e456fc4f4f0a487e8c009d85edaaf75a",
       "version_major": 2,
       "version_minor": 0
      },
      "text/plain": [
       "Epoch 39/50:   0%|          | 0/115 [00:00<?, ?it/s]"
      ]
     },
     "metadata": {},
     "output_type": "display_data"
    },
    {
     "name": "stdout",
     "output_type": "stream",
     "text": [
      "\n",
      "Epoch 39: New best F1-score: 0.8479\n",
      "Accuracy: 0.8448, Precision: 0.8624, Recall: 0.8448\n",
      "Saving checkpoint to C:\\Users\\PC\\lavar\\audiotwin_checkpoints_medium\\training_checkpoints\\PestLarvaNet_AudioTwin_Run_5_data_50.0percent.pth\n"
     ]
    },
    {
     "data": {
      "application/vnd.jupyter.widget-view+json": {
       "model_id": "8b205cba329741f8a719362f28d0e2d6",
       "version_major": 2,
       "version_minor": 0
      },
      "text/plain": [
       "Epoch 40/50:   0%|          | 0/115 [00:00<?, ?it/s]"
      ]
     },
     "metadata": {},
     "output_type": "display_data"
    },
    {
     "name": "stdout",
     "output_type": "stream",
     "text": [
      "\n",
      "Epoch 40: New best F1-score: 0.8533\n",
      "Accuracy: 0.8568, Precision: 0.8581, Recall: 0.8568\n",
      "Saving checkpoint to C:\\Users\\PC\\lavar\\audiotwin_checkpoints_medium\\training_checkpoints\\PestLarvaNet_AudioTwin_Run_5_data_50.0percent.pth\n"
     ]
    },
    {
     "data": {
      "application/vnd.jupyter.widget-view+json": {
       "model_id": "482679b39ea74507a1485eb6000862ac",
       "version_major": 2,
       "version_minor": 0
      },
      "text/plain": [
       "Epoch 41/50:   0%|          | 0/115 [00:00<?, ?it/s]"
      ]
     },
     "metadata": {},
     "output_type": "display_data"
    },
    {
     "data": {
      "application/vnd.jupyter.widget-view+json": {
       "model_id": "fd99476d05e74f46a2de9c573404b99c",
       "version_major": 2,
       "version_minor": 0
      },
      "text/plain": [
       "Epoch 42/50:   0%|          | 0/115 [00:00<?, ?it/s]"
      ]
     },
     "metadata": {},
     "output_type": "display_data"
    },
    {
     "name": "stdout",
     "output_type": "stream",
     "text": [
      "\n",
      "Epoch 42: New best F1-score: 0.8649\n",
      "Accuracy: 0.8667, Precision: 0.8681, Recall: 0.8667\n",
      "Saving checkpoint to C:\\Users\\PC\\lavar\\audiotwin_checkpoints_medium\\training_checkpoints\\PestLarvaNet_AudioTwin_Run_5_data_50.0percent.pth\n"
     ]
    },
    {
     "data": {
      "application/vnd.jupyter.widget-view+json": {
       "model_id": "f82ac21945aa47dca1727d1dcbb68aca",
       "version_major": 2,
       "version_minor": 0
      },
      "text/plain": [
       "Epoch 43/50:   0%|          | 0/115 [00:00<?, ?it/s]"
      ]
     },
     "metadata": {},
     "output_type": "display_data"
    },
    {
     "data": {
      "application/vnd.jupyter.widget-view+json": {
       "model_id": "f9a27602d5cb4d1bba0057532e0e5969",
       "version_major": 2,
       "version_minor": 0
      },
      "text/plain": [
       "Epoch 44/50:   0%|          | 0/115 [00:00<?, ?it/s]"
      ]
     },
     "metadata": {},
     "output_type": "display_data"
    },
    {
     "name": "stdout",
     "output_type": "stream",
     "text": [
      "\n",
      "Epoch 44: New best F1-score: 0.8724\n",
      "Accuracy: 0.8749, Precision: 0.8812, Recall: 0.8749\n",
      "Saving checkpoint to C:\\Users\\PC\\lavar\\audiotwin_checkpoints_medium\\training_checkpoints\\PestLarvaNet_AudioTwin_Run_5_data_50.0percent.pth\n"
     ]
    },
    {
     "data": {
      "application/vnd.jupyter.widget-view+json": {
       "model_id": "e0683ff3e8224358b06d38818310dd9e",
       "version_major": 2,
       "version_minor": 0
      },
      "text/plain": [
       "Epoch 45/50:   0%|          | 0/115 [00:00<?, ?it/s]"
      ]
     },
     "metadata": {},
     "output_type": "display_data"
    },
    {
     "data": {
      "application/vnd.jupyter.widget-view+json": {
       "model_id": "09fc097e10174d0a957127e621fbba85",
       "version_major": 2,
       "version_minor": 0
      },
      "text/plain": [
       "Epoch 46/50:   0%|          | 0/115 [00:00<?, ?it/s]"
      ]
     },
     "metadata": {},
     "output_type": "display_data"
    },
    {
     "data": {
      "application/vnd.jupyter.widget-view+json": {
       "model_id": "fa0e01d52419479bb53eeed61c2819ab",
       "version_major": 2,
       "version_minor": 0
      },
      "text/plain": [
       "Epoch 47/50:   0%|          | 0/115 [00:00<?, ?it/s]"
      ]
     },
     "metadata": {},
     "output_type": "display_data"
    },
    {
     "data": {
      "application/vnd.jupyter.widget-view+json": {
       "model_id": "2c71ec84808d4a398f69af843d95024a",
       "version_major": 2,
       "version_minor": 0
      },
      "text/plain": [
       "Epoch 48/50:   0%|          | 0/115 [00:00<?, ?it/s]"
      ]
     },
     "metadata": {},
     "output_type": "display_data"
    },
    {
     "data": {
      "application/vnd.jupyter.widget-view+json": {
       "model_id": "714ae33e2af043ac9d730ebac6599769",
       "version_major": 2,
       "version_minor": 0
      },
      "text/plain": [
       "Epoch 49/50:   0%|          | 0/115 [00:00<?, ?it/s]"
      ]
     },
     "metadata": {},
     "output_type": "display_data"
    },
    {
     "name": "stdout",
     "output_type": "stream",
     "text": [
      "\n",
      "Epoch 49: New best F1-score: 0.8753\n",
      "Accuracy: 0.8770, Precision: 0.8785, Recall: 0.8770\n",
      "Saving checkpoint to C:\\Users\\PC\\lavar\\audiotwin_checkpoints_medium\\training_checkpoints\\PestLarvaNet_AudioTwin_Run_5_data_50.0percent.pth\n"
     ]
    },
    {
     "data": {
      "application/vnd.jupyter.widget-view+json": {
       "model_id": "03b0e47f802e40ed9493da9024c0b3bb",
       "version_major": 2,
       "version_minor": 0
      },
      "text/plain": [
       "Epoch 50/50:   0%|          | 0/115 [00:00<?, ?it/s]"
      ]
     },
     "metadata": {},
     "output_type": "display_data"
    },
    {
     "name": "stdout",
     "output_type": "stream",
     "text": [
      "Finished Training for this run. Best F1-score: 0.8753\n",
      "==> Results with 50.0% data: Best F1-Score = 0.8753\n",
      "--- Training with 100.0% of labeled data ---\n",
      "Loading pretrained weights from: C:\\Users\\PC\\lavar\\audiotwin_checkpoints_medium\\run_5_lp1e-02_ep1e-06_lb0.010_audiotwin_pestlarvanet_medium_epoch_100.pth\n"
     ]
    },
    {
     "name": "stderr",
     "output_type": "stream",
     "text": [
      "C:\\Users\\PC\\anaconda3\\envs\\train_env\\lib\\site-packages\\torch\\optim\\lr_scheduler.py:62: UserWarning: The verbose parameter is deprecated. Please use get_last_lr() to access the learning rate.\n",
      "  warnings.warn(\n"
     ]
    },
    {
     "data": {
      "application/vnd.jupyter.widget-view+json": {
       "model_id": "914fe1746db047f3b220e117c69f0983",
       "version_major": 2,
       "version_minor": 0
      },
      "text/plain": [
       "Epoch 1/50:   0%|          | 0/229 [00:00<?, ?it/s]"
      ]
     },
     "metadata": {},
     "output_type": "display_data"
    },
    {
     "name": "stdout",
     "output_type": "stream",
     "text": [
      "\n",
      "Epoch 1: New best F1-score: 0.6460\n",
      "Accuracy: 0.6869, Precision: 0.6624, Recall: 0.6869\n",
      "Saving checkpoint to C:\\Users\\PC\\lavar\\audiotwin_checkpoints_medium\\training_checkpoints\\PestLarvaNet_AudioTwin_Run_5_data_100.0percent.pth\n"
     ]
    },
    {
     "data": {
      "application/vnd.jupyter.widget-view+json": {
       "model_id": "552b16ee17404b2c92b2b7e2e2586fa4",
       "version_major": 2,
       "version_minor": 0
      },
      "text/plain": [
       "Epoch 2/50:   0%|          | 0/229 [00:00<?, ?it/s]"
      ]
     },
     "metadata": {},
     "output_type": "display_data"
    },
    {
     "data": {
      "application/vnd.jupyter.widget-view+json": {
       "model_id": "336f250c3a2b4807b94fd3e495fcbba5",
       "version_major": 2,
       "version_minor": 0
      },
      "text/plain": [
       "Epoch 3/50:   0%|          | 0/229 [00:00<?, ?it/s]"
      ]
     },
     "metadata": {},
     "output_type": "display_data"
    },
    {
     "data": {
      "application/vnd.jupyter.widget-view+json": {
       "model_id": "577e9ac1598a4b86bff01970d8ee0190",
       "version_major": 2,
       "version_minor": 0
      },
      "text/plain": [
       "Epoch 4/50:   0%|          | 0/229 [00:00<?, ?it/s]"
      ]
     },
     "metadata": {},
     "output_type": "display_data"
    },
    {
     "data": {
      "application/vnd.jupyter.widget-view+json": {
       "model_id": "9f23d0ad41f14e468a71ee7f8562098e",
       "version_major": 2,
       "version_minor": 0
      },
      "text/plain": [
       "Epoch 5/50:   0%|          | 0/229 [00:00<?, ?it/s]"
      ]
     },
     "metadata": {},
     "output_type": "display_data"
    },
    {
     "data": {
      "application/vnd.jupyter.widget-view+json": {
       "model_id": "0194771581b04ce3a0cc9832528f777b",
       "version_major": 2,
       "version_minor": 0
      },
      "text/plain": [
       "Epoch 6/50:   0%|          | 0/229 [00:00<?, ?it/s]"
      ]
     },
     "metadata": {},
     "output_type": "display_data"
    },
    {
     "name": "stdout",
     "output_type": "stream",
     "text": [
      "\n",
      "Epoch 6: New best F1-score: 0.6573\n",
      "Accuracy: 0.6995, Precision: 0.7475, Recall: 0.6995\n",
      "Saving checkpoint to C:\\Users\\PC\\lavar\\audiotwin_checkpoints_medium\\training_checkpoints\\PestLarvaNet_AudioTwin_Run_5_data_100.0percent.pth\n"
     ]
    },
    {
     "data": {
      "application/vnd.jupyter.widget-view+json": {
       "model_id": "9ebafe811c7a410aba9976af9aa81971",
       "version_major": 2,
       "version_minor": 0
      },
      "text/plain": [
       "Epoch 7/50:   0%|          | 0/229 [00:00<?, ?it/s]"
      ]
     },
     "metadata": {},
     "output_type": "display_data"
    },
    {
     "name": "stdout",
     "output_type": "stream",
     "text": [
      "\n",
      "Epoch 7: New best F1-score: 0.7181\n",
      "Accuracy: 0.7492, Precision: 0.7312, Recall: 0.7492\n",
      "Saving checkpoint to C:\\Users\\PC\\lavar\\audiotwin_checkpoints_medium\\training_checkpoints\\PestLarvaNet_AudioTwin_Run_5_data_100.0percent.pth\n"
     ]
    },
    {
     "data": {
      "application/vnd.jupyter.widget-view+json": {
       "model_id": "175e5535599c4f109a59df55c550b224",
       "version_major": 2,
       "version_minor": 0
      },
      "text/plain": [
       "Epoch 8/50:   0%|          | 0/229 [00:00<?, ?it/s]"
      ]
     },
     "metadata": {},
     "output_type": "display_data"
    },
    {
     "name": "stdout",
     "output_type": "stream",
     "text": [
      "\n",
      "Epoch 8: New best F1-score: 0.7365\n",
      "Accuracy: 0.7672, Precision: 0.7430, Recall: 0.7672\n",
      "Saving checkpoint to C:\\Users\\PC\\lavar\\audiotwin_checkpoints_medium\\training_checkpoints\\PestLarvaNet_AudioTwin_Run_5_data_100.0percent.pth\n"
     ]
    },
    {
     "data": {
      "application/vnd.jupyter.widget-view+json": {
       "model_id": "96af0afb84e44c0fb2acc85955de30fb",
       "version_major": 2,
       "version_minor": 0
      },
      "text/plain": [
       "Epoch 9/50:   0%|          | 0/229 [00:00<?, ?it/s]"
      ]
     },
     "metadata": {},
     "output_type": "display_data"
    },
    {
     "data": {
      "application/vnd.jupyter.widget-view+json": {
       "model_id": "49a80c5613654b58a593e1de7ace149e",
       "version_major": 2,
       "version_minor": 0
      },
      "text/plain": [
       "Epoch 10/50:   0%|          | 0/229 [00:00<?, ?it/s]"
      ]
     },
     "metadata": {},
     "output_type": "display_data"
    },
    {
     "data": {
      "application/vnd.jupyter.widget-view+json": {
       "model_id": "dc4d375b3287499c817dbb85f316c969",
       "version_major": 2,
       "version_minor": 0
      },
      "text/plain": [
       "Epoch 11/50:   0%|          | 0/229 [00:00<?, ?it/s]"
      ]
     },
     "metadata": {},
     "output_type": "display_data"
    },
    {
     "data": {
      "application/vnd.jupyter.widget-view+json": {
       "model_id": "3d0af3f1c6f64cdcbd05c1467cf14737",
       "version_major": 2,
       "version_minor": 0
      },
      "text/plain": [
       "Epoch 12/50:   0%|          | 0/229 [00:00<?, ?it/s]"
      ]
     },
     "metadata": {},
     "output_type": "display_data"
    },
    {
     "data": {
      "application/vnd.jupyter.widget-view+json": {
       "model_id": "40190dd5db4e4c71b4acfde8d28dac79",
       "version_major": 2,
       "version_minor": 0
      },
      "text/plain": [
       "Epoch 13/50:   0%|          | 0/229 [00:00<?, ?it/s]"
      ]
     },
     "metadata": {},
     "output_type": "display_data"
    },
    {
     "data": {
      "application/vnd.jupyter.widget-view+json": {
       "model_id": "2605bbb7343a47a9873f8598c4f825d4",
       "version_major": 2,
       "version_minor": 0
      },
      "text/plain": [
       "Epoch 14/50:   0%|          | 0/229 [00:00<?, ?it/s]"
      ]
     },
     "metadata": {},
     "output_type": "display_data"
    },
    {
     "data": {
      "application/vnd.jupyter.widget-view+json": {
       "model_id": "e0936f534cdd4e24a74609ce43958553",
       "version_major": 2,
       "version_minor": 0
      },
      "text/plain": [
       "Epoch 15/50:   0%|          | 0/229 [00:00<?, ?it/s]"
      ]
     },
     "metadata": {},
     "output_type": "display_data"
    },
    {
     "name": "stdout",
     "output_type": "stream",
     "text": [
      "\n",
      "Epoch 15: New best F1-score: 0.7532\n",
      "Accuracy: 0.7765, Precision: 0.7611, Recall: 0.7765\n",
      "Saving checkpoint to C:\\Users\\PC\\lavar\\audiotwin_checkpoints_medium\\training_checkpoints\\PestLarvaNet_AudioTwin_Run_5_data_100.0percent.pth\n"
     ]
    },
    {
     "data": {
      "application/vnd.jupyter.widget-view+json": {
       "model_id": "4a93ab9cafa34bd3964772c5f608857f",
       "version_major": 2,
       "version_minor": 0
      },
      "text/plain": [
       "Epoch 16/50:   0%|          | 0/229 [00:00<?, ?it/s]"
      ]
     },
     "metadata": {},
     "output_type": "display_data"
    },
    {
     "name": "stdout",
     "output_type": "stream",
     "text": [
      "\n",
      "Epoch 16: New best F1-score: 0.7796\n",
      "Accuracy: 0.8011, Precision: 0.7830, Recall: 0.8011\n",
      "Saving checkpoint to C:\\Users\\PC\\lavar\\audiotwin_checkpoints_medium\\training_checkpoints\\PestLarvaNet_AudioTwin_Run_5_data_100.0percent.pth\n"
     ]
    },
    {
     "data": {
      "application/vnd.jupyter.widget-view+json": {
       "model_id": "69ffa1c436cd4b3abc5fed68f83b45af",
       "version_major": 2,
       "version_minor": 0
      },
      "text/plain": [
       "Epoch 17/50:   0%|          | 0/229 [00:00<?, ?it/s]"
      ]
     },
     "metadata": {},
     "output_type": "display_data"
    },
    {
     "name": "stdout",
     "output_type": "stream",
     "text": [
      "\n",
      "Epoch 17: New best F1-score: 0.7945\n",
      "Accuracy: 0.8087, Precision: 0.7999, Recall: 0.8087\n",
      "Saving checkpoint to C:\\Users\\PC\\lavar\\audiotwin_checkpoints_medium\\training_checkpoints\\PestLarvaNet_AudioTwin_Run_5_data_100.0percent.pth\n"
     ]
    },
    {
     "data": {
      "application/vnd.jupyter.widget-view+json": {
       "model_id": "5620e5dfd725421488f52eeeb3e51627",
       "version_major": 2,
       "version_minor": 0
      },
      "text/plain": [
       "Epoch 18/50:   0%|          | 0/229 [00:00<?, ?it/s]"
      ]
     },
     "metadata": {},
     "output_type": "display_data"
    },
    {
     "name": "stdout",
     "output_type": "stream",
     "text": [
      "\n",
      "Epoch 18: New best F1-score: 0.8133\n",
      "Accuracy: 0.8230, Precision: 0.8137, Recall: 0.8230\n",
      "Saving checkpoint to C:\\Users\\PC\\lavar\\audiotwin_checkpoints_medium\\training_checkpoints\\PestLarvaNet_AudioTwin_Run_5_data_100.0percent.pth\n"
     ]
    },
    {
     "data": {
      "application/vnd.jupyter.widget-view+json": {
       "model_id": "39b73df4e21543f7afb4842655003e78",
       "version_major": 2,
       "version_minor": 0
      },
      "text/plain": [
       "Epoch 19/50:   0%|          | 0/229 [00:00<?, ?it/s]"
      ]
     },
     "metadata": {},
     "output_type": "display_data"
    },
    {
     "name": "stdout",
     "output_type": "stream",
     "text": [
      "\n",
      "Epoch 19: New best F1-score: 0.8208\n",
      "Accuracy: 0.8339, Precision: 0.8242, Recall: 0.8339\n",
      "Saving checkpoint to C:\\Users\\PC\\lavar\\audiotwin_checkpoints_medium\\training_checkpoints\\PestLarvaNet_AudioTwin_Run_5_data_100.0percent.pth\n"
     ]
    },
    {
     "data": {
      "application/vnd.jupyter.widget-view+json": {
       "model_id": "29874ab4fd024a3e97c5fe79b5890354",
       "version_major": 2,
       "version_minor": 0
      },
      "text/plain": [
       "Epoch 20/50:   0%|          | 0/229 [00:00<?, ?it/s]"
      ]
     },
     "metadata": {},
     "output_type": "display_data"
    },
    {
     "data": {
      "application/vnd.jupyter.widget-view+json": {
       "model_id": "f063ed1bc5f44a9db4e276a8f4a5336b",
       "version_major": 2,
       "version_minor": 0
      },
      "text/plain": [
       "Epoch 21/50:   0%|          | 0/229 [00:00<?, ?it/s]"
      ]
     },
     "metadata": {},
     "output_type": "display_data"
    },
    {
     "data": {
      "application/vnd.jupyter.widget-view+json": {
       "model_id": "065b50ab7eef4799b86e5c2e47154911",
       "version_major": 2,
       "version_minor": 0
      },
      "text/plain": [
       "Epoch 22/50:   0%|          | 0/229 [00:00<?, ?it/s]"
      ]
     },
     "metadata": {},
     "output_type": "display_data"
    },
    {
     "name": "stdout",
     "output_type": "stream",
     "text": [
      "\n",
      "Epoch 22: New best F1-score: 0.8318\n",
      "Accuracy: 0.8372, Precision: 0.8426, Recall: 0.8372\n",
      "Saving checkpoint to C:\\Users\\PC\\lavar\\audiotwin_checkpoints_medium\\training_checkpoints\\PestLarvaNet_AudioTwin_Run_5_data_100.0percent.pth\n"
     ]
    },
    {
     "data": {
      "application/vnd.jupyter.widget-view+json": {
       "model_id": "5997f43cdade4b7695e4baa51965423c",
       "version_major": 2,
       "version_minor": 0
      },
      "text/plain": [
       "Epoch 23/50:   0%|          | 0/229 [00:00<?, ?it/s]"
      ]
     },
     "metadata": {},
     "output_type": "display_data"
    },
    {
     "data": {
      "application/vnd.jupyter.widget-view+json": {
       "model_id": "9cbcfa8c52074ce59c937a38ae904f4f",
       "version_major": 2,
       "version_minor": 0
      },
      "text/plain": [
       "Epoch 24/50:   0%|          | 0/229 [00:00<?, ?it/s]"
      ]
     },
     "metadata": {},
     "output_type": "display_data"
    },
    {
     "data": {
      "application/vnd.jupyter.widget-view+json": {
       "model_id": "c5a57ea717a84ee0bc2387d4ea6accf5",
       "version_major": 2,
       "version_minor": 0
      },
      "text/plain": [
       "Epoch 25/50:   0%|          | 0/229 [00:00<?, ?it/s]"
      ]
     },
     "metadata": {},
     "output_type": "display_data"
    },
    {
     "name": "stdout",
     "output_type": "stream",
     "text": [
      "\n",
      "Epoch 25: New best F1-score: 0.8399\n",
      "Accuracy: 0.8421, Precision: 0.8410, Recall: 0.8421\n",
      "Saving checkpoint to C:\\Users\\PC\\lavar\\audiotwin_checkpoints_medium\\training_checkpoints\\PestLarvaNet_AudioTwin_Run_5_data_100.0percent.pth\n"
     ]
    },
    {
     "data": {
      "application/vnd.jupyter.widget-view+json": {
       "model_id": "3919270588fe4433801a79b308b1391c",
       "version_major": 2,
       "version_minor": 0
      },
      "text/plain": [
       "Epoch 26/50:   0%|          | 0/229 [00:00<?, ?it/s]"
      ]
     },
     "metadata": {},
     "output_type": "display_data"
    },
    {
     "name": "stdout",
     "output_type": "stream",
     "text": [
      "\n",
      "Epoch 26: New best F1-score: 0.8408\n",
      "Accuracy: 0.8464, Precision: 0.8459, Recall: 0.8464\n",
      "Saving checkpoint to C:\\Users\\PC\\lavar\\audiotwin_checkpoints_medium\\training_checkpoints\\PestLarvaNet_AudioTwin_Run_5_data_100.0percent.pth\n"
     ]
    },
    {
     "data": {
      "application/vnd.jupyter.widget-view+json": {
       "model_id": "74d129a8dc9b4a0a8728ba52d7549455",
       "version_major": 2,
       "version_minor": 0
      },
      "text/plain": [
       "Epoch 27/50:   0%|          | 0/229 [00:00<?, ?it/s]"
      ]
     },
     "metadata": {},
     "output_type": "display_data"
    },
    {
     "data": {
      "application/vnd.jupyter.widget-view+json": {
       "model_id": "f3c74b4c25a34bad98f99679fcccec18",
       "version_major": 2,
       "version_minor": 0
      },
      "text/plain": [
       "Epoch 28/50:   0%|          | 0/229 [00:00<?, ?it/s]"
      ]
     },
     "metadata": {},
     "output_type": "display_data"
    },
    {
     "name": "stdout",
     "output_type": "stream",
     "text": [
      "\n",
      "Epoch 28: New best F1-score: 0.8464\n",
      "Accuracy: 0.8508, Precision: 0.8578, Recall: 0.8508\n",
      "Saving checkpoint to C:\\Users\\PC\\lavar\\audiotwin_checkpoints_medium\\training_checkpoints\\PestLarvaNet_AudioTwin_Run_5_data_100.0percent.pth\n"
     ]
    },
    {
     "data": {
      "application/vnd.jupyter.widget-view+json": {
       "model_id": "3c0c8027d40440949746d8113a8e6c7a",
       "version_major": 2,
       "version_minor": 0
      },
      "text/plain": [
       "Epoch 29/50:   0%|          | 0/229 [00:00<?, ?it/s]"
      ]
     },
     "metadata": {},
     "output_type": "display_data"
    },
    {
     "data": {
      "application/vnd.jupyter.widget-view+json": {
       "model_id": "4ade7975492a402ea8aec8e2a41aa198",
       "version_major": 2,
       "version_minor": 0
      },
      "text/plain": [
       "Epoch 30/50:   0%|          | 0/229 [00:00<?, ?it/s]"
      ]
     },
     "metadata": {},
     "output_type": "display_data"
    },
    {
     "data": {
      "application/vnd.jupyter.widget-view+json": {
       "model_id": "75aaec9d224a4d9e9e9f6636c1c38374",
       "version_major": 2,
       "version_minor": 0
      },
      "text/plain": [
       "Epoch 31/50:   0%|          | 0/229 [00:00<?, ?it/s]"
      ]
     },
     "metadata": {},
     "output_type": "display_data"
    },
    {
     "name": "stdout",
     "output_type": "stream",
     "text": [
      "\n",
      "Epoch 31: New best F1-score: 0.8597\n",
      "Accuracy: 0.8628, Precision: 0.8690, Recall: 0.8628\n",
      "Saving checkpoint to C:\\Users\\PC\\lavar\\audiotwin_checkpoints_medium\\training_checkpoints\\PestLarvaNet_AudioTwin_Run_5_data_100.0percent.pth\n"
     ]
    },
    {
     "data": {
      "application/vnd.jupyter.widget-view+json": {
       "model_id": "c33c424cd16c4eb9bb205844b6aad95f",
       "version_major": 2,
       "version_minor": 0
      },
      "text/plain": [
       "Epoch 32/50:   0%|          | 0/229 [00:00<?, ?it/s]"
      ]
     },
     "metadata": {},
     "output_type": "display_data"
    },
    {
     "name": "stdout",
     "output_type": "stream",
     "text": [
      "\n",
      "Epoch 32: New best F1-score: 0.8634\n",
      "Accuracy: 0.8645, Precision: 0.8672, Recall: 0.8645\n",
      "Saving checkpoint to C:\\Users\\PC\\lavar\\audiotwin_checkpoints_medium\\training_checkpoints\\PestLarvaNet_AudioTwin_Run_5_data_100.0percent.pth\n"
     ]
    },
    {
     "data": {
      "application/vnd.jupyter.widget-view+json": {
       "model_id": "95794fe1e5a141ca8706b049e1ae9e9f",
       "version_major": 2,
       "version_minor": 0
      },
      "text/plain": [
       "Epoch 33/50:   0%|          | 0/229 [00:00<?, ?it/s]"
      ]
     },
     "metadata": {},
     "output_type": "display_data"
    },
    {
     "data": {
      "application/vnd.jupyter.widget-view+json": {
       "model_id": "b50c802f193849898d965d09f90c8c4d",
       "version_major": 2,
       "version_minor": 0
      },
      "text/plain": [
       "Epoch 34/50:   0%|          | 0/229 [00:00<?, ?it/s]"
      ]
     },
     "metadata": {},
     "output_type": "display_data"
    },
    {
     "data": {
      "application/vnd.jupyter.widget-view+json": {
       "model_id": "0c19abcd12c84a0c9504074a0f802cf4",
       "version_major": 2,
       "version_minor": 0
      },
      "text/plain": [
       "Epoch 35/50:   0%|          | 0/229 [00:00<?, ?it/s]"
      ]
     },
     "metadata": {},
     "output_type": "display_data"
    },
    {
     "data": {
      "application/vnd.jupyter.widget-view+json": {
       "model_id": "94d736ad2fd149f381b4ba092f7b4009",
       "version_major": 2,
       "version_minor": 0
      },
      "text/plain": [
       "Epoch 36/50:   0%|          | 0/229 [00:00<?, ?it/s]"
      ]
     },
     "metadata": {},
     "output_type": "display_data"
    },
    {
     "data": {
      "application/vnd.jupyter.widget-view+json": {
       "model_id": "9c77ef7b22604dbe9a73a321ac146215",
       "version_major": 2,
       "version_minor": 0
      },
      "text/plain": [
       "Epoch 37/50:   0%|          | 0/229 [00:00<?, ?it/s]"
      ]
     },
     "metadata": {},
     "output_type": "display_data"
    },
    {
     "name": "stdout",
     "output_type": "stream",
     "text": [
      "\n",
      "Epoch 37: New best F1-score: 0.8813\n",
      "Accuracy: 0.8831, Precision: 0.8848, Recall: 0.8831\n",
      "Saving checkpoint to C:\\Users\\PC\\lavar\\audiotwin_checkpoints_medium\\training_checkpoints\\PestLarvaNet_AudioTwin_Run_5_data_100.0percent.pth\n"
     ]
    },
    {
     "data": {
      "application/vnd.jupyter.widget-view+json": {
       "model_id": "101ebd2766fc43a6938ef6466028ac89",
       "version_major": 2,
       "version_minor": 0
      },
      "text/plain": [
       "Epoch 38/50:   0%|          | 0/229 [00:00<?, ?it/s]"
      ]
     },
     "metadata": {},
     "output_type": "display_data"
    },
    {
     "data": {
      "application/vnd.jupyter.widget-view+json": {
       "model_id": "57e90a58b7834c9b9fc210aeca3eb4e9",
       "version_major": 2,
       "version_minor": 0
      },
      "text/plain": [
       "Epoch 39/50:   0%|          | 0/229 [00:00<?, ?it/s]"
      ]
     },
     "metadata": {},
     "output_type": "display_data"
    },
    {
     "data": {
      "application/vnd.jupyter.widget-view+json": {
       "model_id": "c8284279a7554ddba659166232dd81be",
       "version_major": 2,
       "version_minor": 0
      },
      "text/plain": [
       "Epoch 40/50:   0%|          | 0/229 [00:00<?, ?it/s]"
      ]
     },
     "metadata": {},
     "output_type": "display_data"
    },
    {
     "data": {
      "application/vnd.jupyter.widget-view+json": {
       "model_id": "5e4daab74df0411a96b885c6c64daf11",
       "version_major": 2,
       "version_minor": 0
      },
      "text/plain": [
       "Epoch 41/50:   0%|          | 0/229 [00:00<?, ?it/s]"
      ]
     },
     "metadata": {},
     "output_type": "display_data"
    },
    {
     "data": {
      "application/vnd.jupyter.widget-view+json": {
       "model_id": "2e806676c943427498c6a8c6424d30cf",
       "version_major": 2,
       "version_minor": 0
      },
      "text/plain": [
       "Epoch 42/50:   0%|          | 0/229 [00:00<?, ?it/s]"
      ]
     },
     "metadata": {},
     "output_type": "display_data"
    },
    {
     "name": "stdout",
     "output_type": "stream",
     "text": [
      "\n",
      "Epoch 42: New best F1-score: 0.8843\n",
      "Accuracy: 0.8852, Precision: 0.8865, Recall: 0.8852\n",
      "Saving checkpoint to C:\\Users\\PC\\lavar\\audiotwin_checkpoints_medium\\training_checkpoints\\PestLarvaNet_AudioTwin_Run_5_data_100.0percent.pth\n"
     ]
    },
    {
     "data": {
      "application/vnd.jupyter.widget-view+json": {
       "model_id": "b40d357a13394fbc8ac3035446f99bec",
       "version_major": 2,
       "version_minor": 0
      },
      "text/plain": [
       "Epoch 43/50:   0%|          | 0/229 [00:00<?, ?it/s]"
      ]
     },
     "metadata": {},
     "output_type": "display_data"
    },
    {
     "data": {
      "application/vnd.jupyter.widget-view+json": {
       "model_id": "c3d1410991244b2ca3d8e4b0db6391fc",
       "version_major": 2,
       "version_minor": 0
      },
      "text/plain": [
       "Epoch 44/50:   0%|          | 0/229 [00:00<?, ?it/s]"
      ]
     },
     "metadata": {},
     "output_type": "display_data"
    },
    {
     "name": "stdout",
     "output_type": "stream",
     "text": [
      "\n",
      "Epoch 44: New best F1-score: 0.8863\n",
      "Accuracy: 0.8863, Precision: 0.8880, Recall: 0.8863\n",
      "Saving checkpoint to C:\\Users\\PC\\lavar\\audiotwin_checkpoints_medium\\training_checkpoints\\PestLarvaNet_AudioTwin_Run_5_data_100.0percent.pth\n"
     ]
    },
    {
     "data": {
      "application/vnd.jupyter.widget-view+json": {
       "model_id": "f83e5c2bd9324ac48283f46c703269df",
       "version_major": 2,
       "version_minor": 0
      },
      "text/plain": [
       "Epoch 45/50:   0%|          | 0/229 [00:00<?, ?it/s]"
      ]
     },
     "metadata": {},
     "output_type": "display_data"
    },
    {
     "data": {
      "application/vnd.jupyter.widget-view+json": {
       "model_id": "7280275d98734bedb897254292eb20b8",
       "version_major": 2,
       "version_minor": 0
      },
      "text/plain": [
       "Epoch 46/50:   0%|          | 0/229 [00:00<?, ?it/s]"
      ]
     },
     "metadata": {},
     "output_type": "display_data"
    },
    {
     "data": {
      "application/vnd.jupyter.widget-view+json": {
       "model_id": "1e4b3f08f84b4f9f8fbe66b61c3b4508",
       "version_major": 2,
       "version_minor": 0
      },
      "text/plain": [
       "Epoch 47/50:   0%|          | 0/229 [00:00<?, ?it/s]"
      ]
     },
     "metadata": {},
     "output_type": "display_data"
    },
    {
     "data": {
      "application/vnd.jupyter.widget-view+json": {
       "model_id": "f471629bc1f24ab691d42b986fd6a90b",
       "version_major": 2,
       "version_minor": 0
      },
      "text/plain": [
       "Epoch 48/50:   0%|          | 0/229 [00:00<?, ?it/s]"
      ]
     },
     "metadata": {},
     "output_type": "display_data"
    },
    {
     "name": "stdout",
     "output_type": "stream",
     "text": [
      "\n",
      "Epoch 48: New best F1-score: 0.8915\n",
      "Accuracy: 0.8929, Precision: 0.8937, Recall: 0.8929\n",
      "Saving checkpoint to C:\\Users\\PC\\lavar\\audiotwin_checkpoints_medium\\training_checkpoints\\PestLarvaNet_AudioTwin_Run_5_data_100.0percent.pth\n"
     ]
    },
    {
     "data": {
      "application/vnd.jupyter.widget-view+json": {
       "model_id": "b441e929d9b54e658c62bf153a3133fb",
       "version_major": 2,
       "version_minor": 0
      },
      "text/plain": [
       "Epoch 49/50:   0%|          | 0/229 [00:00<?, ?it/s]"
      ]
     },
     "metadata": {},
     "output_type": "display_data"
    },
    {
     "data": {
      "application/vnd.jupyter.widget-view+json": {
       "model_id": "11a947f10d3a46ba94b154672b5170c9",
       "version_major": 2,
       "version_minor": 0
      },
      "text/plain": [
       "Epoch 50/50:   0%|          | 0/229 [00:00<?, ?it/s]"
      ]
     },
     "metadata": {},
     "output_type": "display_data"
    },
    {
     "name": "stdout",
     "output_type": "stream",
     "text": [
      "\n",
      "Epoch 50: New best F1-score: 0.8962\n",
      "Accuracy: 0.8973, Precision: 0.8979, Recall: 0.8973\n",
      "Saving checkpoint to C:\\Users\\PC\\lavar\\audiotwin_checkpoints_medium\\training_checkpoints\\PestLarvaNet_AudioTwin_Run_5_data_100.0percent.pth\n",
      "Finished Training for this run. Best F1-score: 0.8962\n",
      "==> Results with 100.0% data: Best F1-Score = 0.8962\n",
      "\n",
      "--- FINAL RESULTS ---\n",
      "\n",
      "Model: PestLarvaNet (AudioTwin Run 1)\n",
      "  25.0% data: F1-Score = 0.8495\n",
      "  50.0% data: F1-Score = 0.8971\n",
      "  100.0% data: F1-Score = 0.9178\n",
      "\n",
      "Model: PestLarvaNet (AudioTwin Run 2)\n",
      "  25.0% data: F1-Score = 0.7889\n",
      "  50.0% data: F1-Score = 0.8946\n",
      "  100.0% data: F1-Score = 0.9237\n",
      "\n",
      "Model: PestLarvaNet (AudioTwin Run 3)\n",
      "  25.0% data: F1-Score = 0.7224\n",
      "  50.0% data: F1-Score = 0.8680\n",
      "  100.0% data: F1-Score = 0.9200\n",
      "\n",
      "Model: PestLarvaNet (AudioTwin Run 4)\n",
      "  25.0% data: F1-Score = 0.7987\n",
      "  50.0% data: F1-Score = 0.8921\n",
      "  100.0% data: F1-Score = 0.8820\n",
      "\n",
      "Model: PestLarvaNet (AudioTwin Run 5)\n",
      "  25.0% data: F1-Score = 0.8330\n",
      "  50.0% data: F1-Score = 0.8753\n",
      "  100.0% data: F1-Score = 0.8962\n"
     ]
    }
   ],
   "source": [
    "for model_name, config in model_configs.items():\n",
    "    print(f\"\\n{'='*20} Evaluating: {model_name} {'='*20}\")\n",
    "    model_results = []\n",
    "    for percent in DATA_PERCENTAGES:\n",
    "        print(f\"--- Training with {percent*100:.1f}% of labeled data ---\")\n",
    "\n",
    "        if percent < 1.0:\n",
    "            stratify_labels = full_metadata['label'].iloc[train_indices].values\n",
    "            subset_train_indices, _ = train_test_split(\n",
    "                train_indices, train_size=percent, random_state=SEED, stratify=stratify_labels\n",
    "            )\n",
    "        else:\n",
    "            subset_train_indices = train_indices\n",
    "\n",
    "        train_metadata_subset = full_metadata.iloc[subset_train_indices]\n",
    "        train_dataset = SpectrogramDataset(metadata_df=train_metadata_subset, data_dir=ROOT_DIR, transform=train_transform)\n",
    "        train_loader = DataLoader(train_dataset, batch_size=32, shuffle=True, num_workers=0, collate_fn=collate_fn_remove_none)\n",
    "        \n",
    "        checkpoint_filename = f\"{model_name.replace(' ', '_').replace('(', '').replace(')', '')}_data_{percent*100:.1f}percent.pth\"\n",
    "        checkpoint_path = os.path.join(CHECKPOINT_DIR, checkpoint_filename)\n",
    "        metrics_csv_path = os.path.join(CHECKPOINT_DIR, f\"{model_name.replace(' ', '_').replace('(', '').replace(')', '')}_data_{percent*100:.1f}percent_metrics.csv\")\n",
    "\n",
    "        model = config[\"model_class\"](**config[\"args\"]).to(device)\n",
    "        \n",
    "        f1 = train_and_evaluate(model, train_loader, test_loader, epochs=50, checkpoint_path=checkpoint_path, metrics_csv_path=metrics_csv_path)\n",
    "        model_results.append({'percent': percent, 'f1': f1})\n",
    "        print(f\"==> Results with {percent*100:.1f}% data: Best F1-Score = {f1:.4f}\")\n",
    "    \n",
    "    results[model_name] = model_results\n",
    "\n",
    "print(\"\\n--- FINAL RESULTS ---\")\n",
    "for model_name, result_list in results.items():\n",
    "    print(f\"\\nModel: {model_name}\")\n",
    "    for res in result_list:\n",
    "        print(f\"  {res['percent']*100:.1f}% data: F1-Score = {res['f1']:.4f}\")"
   ]
  },
  {
   "cell_type": "code",
   "execution_count": null,
   "id": "e271af07-a9b2-4a10-a3c4-f991e6d4919b",
   "metadata": {},
   "outputs": [],
   "source": []
  }
 ],
 "metadata": {
  "kernelspec": {
   "display_name": "Python 3 (ipykernel)",
   "language": "python",
   "name": "python3"
  },
  "language_info": {
   "codemirror_mode": {
    "name": "ipython",
    "version": 3
   },
   "file_extension": ".py",
   "mimetype": "text/x-python",
   "name": "python",
   "nbconvert_exporter": "python",
   "pygments_lexer": "ipython3",
   "version": "3.10.16"
  }
 },
 "nbformat": 4,
 "nbformat_minor": 5
}
